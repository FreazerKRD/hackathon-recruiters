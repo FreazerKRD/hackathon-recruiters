{
 "cells": [
  {
   "attachments": {},
   "cell_type": "markdown",
   "metadata": {},
   "source": [
    "Загрузим нужные библиотеки"
   ]
  },
  {
   "cell_type": "code",
   "execution_count": 1,
   "metadata": {},
   "outputs": [
    {
     "name": "stdout",
     "output_type": "stream",
     "text": [
      "Collecting ru-core-news-sm==3.5.0\n",
      "  Downloading https://github.com/explosion/spacy-models/releases/download/ru_core_news_sm-3.5.0/ru_core_news_sm-3.5.0-py3-none-any.whl (15.3 MB)\n",
      "                                              0.0/15.3 MB ? eta -:--:--\n",
      "                                              0.0/15.3 MB 1.3 MB/s eta 0:00:12\n",
      "                                              0.1/15.3 MB 1.1 MB/s eta 0:00:14\n",
      "                                              0.1/15.3 MB 1.0 MB/s eta 0:00:15\n",
      "                                              0.2/15.3 MB 1.2 MB/s eta 0:00:13\n",
      "                                              0.3/15.3 MB 1.3 MB/s eta 0:00:12\n",
      "                                              0.3/15.3 MB 1.5 MB/s eta 0:00:10\n",
      "     -                                        0.5/15.3 MB 1.7 MB/s eta 0:00:09\n",
      "     -                                        0.6/15.3 MB 1.8 MB/s eta 0:00:09\n",
      "     -                                        0.7/15.3 MB 1.9 MB/s eta 0:00:08\n",
      "     -                                        0.7/15.3 MB 1.9 MB/s eta 0:00:08\n",
      "     --                                       0.8/15.3 MB 2.0 MB/s eta 0:00:08\n",
      "     --                                       0.9/15.3 MB 2.0 MB/s eta 0:00:08\n",
      "     --                                       1.0/15.3 MB 2.0 MB/s eta 0:00:07\n",
      "     --                                       1.1/15.3 MB 2.1 MB/s eta 0:00:07\n",
      "     ---                                      1.2/15.3 MB 2.1 MB/s eta 0:00:07\n",
      "     ---                                      1.3/15.3 MB 2.1 MB/s eta 0:00:07\n",
      "     ---                                      1.4/15.3 MB 2.1 MB/s eta 0:00:07\n",
      "     ---                                      1.5/15.3 MB 2.2 MB/s eta 0:00:07\n",
      "     ----                                     1.6/15.3 MB 2.2 MB/s eta 0:00:07\n",
      "     ----                                     1.7/15.3 MB 2.2 MB/s eta 0:00:07\n",
      "     ----                                     1.8/15.3 MB 2.2 MB/s eta 0:00:07\n",
      "     ----                                     1.9/15.3 MB 2.2 MB/s eta 0:00:06\n",
      "     -----                                    2.0/15.3 MB 2.2 MB/s eta 0:00:06\n",
      "     -----                                    2.1/15.3 MB 2.3 MB/s eta 0:00:06\n",
      "     -----                                    2.2/15.3 MB 2.2 MB/s eta 0:00:06\n",
      "     -----                                    2.3/15.3 MB 2.3 MB/s eta 0:00:06\n",
      "     ------                                   2.5/15.3 MB 2.2 MB/s eta 0:00:06\n",
      "     ------                                   2.6/15.3 MB 2.3 MB/s eta 0:00:06\n",
      "     ------                                   2.7/15.3 MB 2.3 MB/s eta 0:00:06\n",
      "     -------                                  2.8/15.3 MB 2.3 MB/s eta 0:00:06\n",
      "     -------                                  2.9/15.3 MB 2.3 MB/s eta 0:00:06\n",
      "     -------                                  2.9/15.3 MB 2.3 MB/s eta 0:00:06\n",
      "     -------                                  3.0/15.3 MB 2.3 MB/s eta 0:00:06\n",
      "     --------                                 3.1/15.3 MB 2.3 MB/s eta 0:00:06\n",
      "     --------                                 3.2/15.3 MB 2.3 MB/s eta 0:00:06\n",
      "     --------                                 3.3/15.3 MB 2.3 MB/s eta 0:00:06\n",
      "     --------                                 3.4/15.3 MB 2.3 MB/s eta 0:00:06\n",
      "     ---------                                3.5/15.3 MB 2.3 MB/s eta 0:00:06\n",
      "     ---------                                3.6/15.3 MB 2.3 MB/s eta 0:00:06\n",
      "     ---------                                3.7/15.3 MB 2.3 MB/s eta 0:00:06\n",
      "     ---------                                3.8/15.3 MB 2.3 MB/s eta 0:00:06\n",
      "     ----------                               3.9/15.3 MB 2.3 MB/s eta 0:00:06\n",
      "     ----------                               3.9/15.3 MB 2.3 MB/s eta 0:00:05\n",
      "     ----------                               4.0/15.3 MB 2.3 MB/s eta 0:00:05\n",
      "     ----------                               4.1/15.3 MB 2.3 MB/s eta 0:00:05\n",
      "     -----------                              4.2/15.3 MB 2.3 MB/s eta 0:00:05\n",
      "     -----------                              4.3/15.3 MB 2.3 MB/s eta 0:00:05\n",
      "     -----------                              4.4/15.3 MB 2.3 MB/s eta 0:00:05\n",
      "     -----------                              4.5/15.3 MB 2.3 MB/s eta 0:00:05\n",
      "     ------------                             4.6/15.3 MB 2.3 MB/s eta 0:00:05\n",
      "     ------------                             4.8/15.3 MB 2.3 MB/s eta 0:00:05\n",
      "     ------------                             4.9/15.3 MB 2.3 MB/s eta 0:00:05\n",
      "     ------------                             4.9/15.3 MB 2.3 MB/s eta 0:00:05\n",
      "     -------------                            5.0/15.3 MB 2.3 MB/s eta 0:00:05\n",
      "     -------------                            5.1/15.3 MB 2.3 MB/s eta 0:00:05\n",
      "     -------------                            5.2/15.3 MB 2.3 MB/s eta 0:00:05\n",
      "     -------------                            5.3/15.3 MB 2.3 MB/s eta 0:00:05\n",
      "     --------------                           5.4/15.3 MB 2.3 MB/s eta 0:00:05\n",
      "     --------------                           5.5/15.3 MB 2.3 MB/s eta 0:00:05\n",
      "     --------------                           5.6/15.3 MB 2.3 MB/s eta 0:00:05\n",
      "     ---------------                          5.7/15.3 MB 2.3 MB/s eta 0:00:05\n",
      "     ---------------                          5.8/15.3 MB 2.3 MB/s eta 0:00:05\n",
      "     ---------------                          5.9/15.3 MB 2.3 MB/s eta 0:00:05\n",
      "     ---------------                          6.0/15.3 MB 2.3 MB/s eta 0:00:05\n",
      "     ---------------                          6.1/15.3 MB 2.3 MB/s eta 0:00:05\n",
      "     ----------------                         6.2/15.3 MB 2.3 MB/s eta 0:00:04\n",
      "     ----------------                         6.2/15.3 MB 2.3 MB/s eta 0:00:04\n",
      "     ----------------                         6.3/15.3 MB 2.3 MB/s eta 0:00:04\n",
      "     ----------------                         6.4/15.3 MB 2.3 MB/s eta 0:00:04\n",
      "     -----------------                        6.5/15.3 MB 2.3 MB/s eta 0:00:04\n",
      "     -----------------                        6.6/15.3 MB 2.3 MB/s eta 0:00:04\n",
      "     -----------------                        6.7/15.3 MB 2.3 MB/s eta 0:00:04\n",
      "     -----------------                        6.8/15.3 MB 2.3 MB/s eta 0:00:04\n",
      "     ------------------                       6.9/15.3 MB 2.3 MB/s eta 0:00:04\n",
      "     ------------------                       7.0/15.3 MB 2.3 MB/s eta 0:00:04\n",
      "     ------------------                       7.1/15.3 MB 2.3 MB/s eta 0:00:04\n",
      "     ------------------                       7.2/15.3 MB 2.3 MB/s eta 0:00:04\n",
      "     -------------------                      7.3/15.3 MB 2.3 MB/s eta 0:00:04\n",
      "     -------------------                      7.4/15.3 MB 2.3 MB/s eta 0:00:04\n",
      "     -------------------                      7.5/15.3 MB 2.3 MB/s eta 0:00:04\n",
      "     --------------------                     7.7/15.3 MB 2.3 MB/s eta 0:00:04\n",
      "     --------------------                     7.9/15.3 MB 2.3 MB/s eta 0:00:04\n",
      "     ---------------------                    8.1/15.3 MB 2.3 MB/s eta 0:00:04\n",
      "     ---------------------                    8.2/15.3 MB 2.3 MB/s eta 0:00:04\n",
      "     ---------------------                    8.4/15.3 MB 2.3 MB/s eta 0:00:04\n",
      "     ----------------------                   8.5/15.3 MB 2.3 MB/s eta 0:00:03\n",
      "     ----------------------                   8.5/15.3 MB 2.3 MB/s eta 0:00:03\n",
      "     ----------------------                   8.6/15.3 MB 2.3 MB/s eta 0:00:03\n",
      "     ----------------------                   8.7/15.3 MB 2.3 MB/s eta 0:00:03\n",
      "     -----------------------                  8.8/15.3 MB 2.3 MB/s eta 0:00:03\n",
      "     -----------------------                  8.9/15.3 MB 2.3 MB/s eta 0:00:03\n",
      "     -----------------------                  9.0/15.3 MB 2.3 MB/s eta 0:00:03\n",
      "     -----------------------                  9.1/15.3 MB 2.3 MB/s eta 0:00:03\n",
      "     ------------------------                 9.3/15.3 MB 2.3 MB/s eta 0:00:03\n",
      "     ------------------------                 9.3/15.3 MB 2.3 MB/s eta 0:00:03\n",
      "     ------------------------                 9.4/15.3 MB 2.3 MB/s eta 0:00:03\n",
      "     ------------------------                 9.4/15.3 MB 2.3 MB/s eta 0:00:03\n",
      "     ------------------------                 9.5/15.3 MB 2.2 MB/s eta 0:00:03\n",
      "     -------------------------                9.6/15.3 MB 2.2 MB/s eta 0:00:03\n",
      "     -------------------------                9.7/15.3 MB 2.2 MB/s eta 0:00:03\n",
      "     -------------------------                9.8/15.3 MB 2.2 MB/s eta 0:00:03\n",
      "     -------------------------                9.9/15.3 MB 2.2 MB/s eta 0:00:03\n",
      "     --------------------------               10.0/15.3 MB 2.2 MB/s eta 0:00:03\n",
      "     --------------------------               10.0/15.3 MB 2.2 MB/s eta 0:00:03\n",
      "     --------------------------               10.1/15.3 MB 2.2 MB/s eta 0:00:03\n",
      "     --------------------------               10.2/15.3 MB 2.2 MB/s eta 0:00:03\n",
      "     --------------------------               10.3/15.3 MB 2.2 MB/s eta 0:00:03\n",
      "     ---------------------------              10.4/15.3 MB 2.3 MB/s eta 0:00:03\n",
      "     ---------------------------              10.5/15.3 MB 2.3 MB/s eta 0:00:03\n",
      "     ---------------------------              10.6/15.3 MB 2.3 MB/s eta 0:00:03\n",
      "     ---------------------------              10.7/15.3 MB 2.3 MB/s eta 0:00:03\n",
      "     ----------------------------             10.7/15.3 MB 2.3 MB/s eta 0:00:02\n",
      "     ----------------------------             10.8/15.3 MB 2.3 MB/s eta 0:00:02\n",
      "     ----------------------------             10.9/15.3 MB 2.3 MB/s eta 0:00:02\n",
      "     ----------------------------             11.0/15.3 MB 2.2 MB/s eta 0:00:02\n",
      "     -----------------------------            11.1/15.3 MB 2.2 MB/s eta 0:00:02\n",
      "     -----------------------------            11.2/15.3 MB 2.2 MB/s eta 0:00:02\n",
      "     -----------------------------            11.3/15.3 MB 2.2 MB/s eta 0:00:02\n",
      "     -----------------------------            11.4/15.3 MB 2.2 MB/s eta 0:00:02\n",
      "     ------------------------------           11.5/15.3 MB 2.2 MB/s eta 0:00:02\n",
      "     ------------------------------           11.6/15.3 MB 2.2 MB/s eta 0:00:02\n",
      "     ------------------------------           11.7/15.3 MB 2.2 MB/s eta 0:00:02\n",
      "     ------------------------------           11.8/15.3 MB 2.2 MB/s eta 0:00:02\n",
      "     -------------------------------          11.9/15.3 MB 2.2 MB/s eta 0:00:02\n",
      "     -------------------------------          12.0/15.3 MB 2.2 MB/s eta 0:00:02\n",
      "     -------------------------------          12.1/15.3 MB 2.2 MB/s eta 0:00:02\n",
      "     -------------------------------          12.2/15.3 MB 2.2 MB/s eta 0:00:02\n",
      "     --------------------------------         12.3/15.3 MB 2.2 MB/s eta 0:00:02\n",
      "     --------------------------------         12.3/15.3 MB 2.2 MB/s eta 0:00:02\n",
      "     --------------------------------         12.4/15.3 MB 2.2 MB/s eta 0:00:02\n",
      "     --------------------------------         12.5/15.3 MB 2.3 MB/s eta 0:00:02\n",
      "     ---------------------------------        12.6/15.3 MB 2.2 MB/s eta 0:00:02\n",
      "     ---------------------------------        12.7/15.3 MB 2.2 MB/s eta 0:00:02\n",
      "     ---------------------------------        12.8/15.3 MB 2.2 MB/s eta 0:00:02\n",
      "     ---------------------------------        12.9/15.3 MB 2.2 MB/s eta 0:00:02\n",
      "     ----------------------------------       13.0/15.3 MB 2.2 MB/s eta 0:00:02\n",
      "     ----------------------------------       13.1/15.3 MB 2.2 MB/s eta 0:00:01\n",
      "     ----------------------------------       13.2/15.3 MB 2.2 MB/s eta 0:00:01\n",
      "     ----------------------------------       13.3/15.3 MB 2.2 MB/s eta 0:00:01\n",
      "     -----------------------------------      13.4/15.3 MB 2.2 MB/s eta 0:00:01\n",
      "     -----------------------------------      13.5/15.3 MB 2.2 MB/s eta 0:00:01\n",
      "     -----------------------------------      13.6/15.3 MB 2.2 MB/s eta 0:00:01\n",
      "     -----------------------------------      13.7/15.3 MB 2.3 MB/s eta 0:00:01\n",
      "     ------------------------------------     13.8/15.3 MB 2.2 MB/s eta 0:00:01\n",
      "     ------------------------------------     13.9/15.3 MB 2.3 MB/s eta 0:00:01\n",
      "     ------------------------------------     14.0/15.3 MB 2.2 MB/s eta 0:00:01\n",
      "     ------------------------------------     14.0/15.3 MB 2.2 MB/s eta 0:00:01\n",
      "     -------------------------------------    14.1/15.3 MB 2.3 MB/s eta 0:00:01\n",
      "     -------------------------------------    14.2/15.3 MB 2.2 MB/s eta 0:00:01\n",
      "     -------------------------------------    14.3/15.3 MB 2.2 MB/s eta 0:00:01\n",
      "     -------------------------------------    14.4/15.3 MB 2.3 MB/s eta 0:00:01\n",
      "     --------------------------------------   14.5/15.3 MB 2.2 MB/s eta 0:00:01\n",
      "     --------------------------------------   14.6/15.3 MB 2.2 MB/s eta 0:00:01\n",
      "     --------------------------------------   14.7/15.3 MB 2.2 MB/s eta 0:00:01\n",
      "     --------------------------------------   14.8/15.3 MB 2.2 MB/s eta 0:00:01\n",
      "     ---------------------------------------  14.9/15.3 MB 2.2 MB/s eta 0:00:01\n",
      "     ---------------------------------------  15.0/15.3 MB 2.2 MB/s eta 0:00:01\n",
      "     ---------------------------------------  15.0/15.3 MB 2.2 MB/s eta 0:00:01\n",
      "     ---------------------------------------  15.1/15.3 MB 2.2 MB/s eta 0:00:01\n",
      "     ---------------------------------------  15.2/15.3 MB 2.2 MB/s eta 0:00:01\n",
      "     ---------------------------------------  15.2/15.3 MB 2.2 MB/s eta 0:00:01\n",
      "     ---------------------------------------  15.2/15.3 MB 2.2 MB/s eta 0:00:01\n",
      "     ---------------------------------------  15.2/15.3 MB 2.2 MB/s eta 0:00:01\n",
      "     ---------------------------------------  15.2/15.3 MB 2.2 MB/s eta 0:00:01\n",
      "     ---------------------------------------  15.2/15.3 MB 2.2 MB/s eta 0:00:01\n",
      "     ---------------------------------------  15.2/15.3 MB 2.2 MB/s eta 0:00:01\n",
      "     ---------------------------------------  15.2/15.3 MB 2.2 MB/s eta 0:00:01\n",
      "     ---------------------------------------- 15.3/15.3 MB 2.1 MB/s eta 0:00:00\n",
      "Requirement already satisfied: spacy<3.6.0,>=3.5.0 in c:\\users\\андрей\\desktop\\github\\recruiters\\venv\\lib\\site-packages (from ru-core-news-sm==3.5.0) (3.5.4)\n",
      "Requirement already satisfied: pymorphy3>=1.0.0 in c:\\users\\андрей\\desktop\\github\\recruiters\\venv\\lib\\site-packages (from ru-core-news-sm==3.5.0) (1.2.0)\n",
      "Requirement already satisfied: dawg-python>=0.7.1 in c:\\users\\андрей\\desktop\\github\\recruiters\\venv\\lib\\site-packages (from pymorphy3>=1.0.0->ru-core-news-sm==3.5.0) (0.7.2)\n",
      "Requirement already satisfied: docopt>=0.6 in c:\\users\\андрей\\desktop\\github\\recruiters\\venv\\lib\\site-packages (from pymorphy3>=1.0.0->ru-core-news-sm==3.5.0) (0.6.2)\n",
      "Requirement already satisfied: pymorphy3-dicts-ru in c:\\users\\андрей\\desktop\\github\\recruiters\\venv\\lib\\site-packages (from pymorphy3>=1.0.0->ru-core-news-sm==3.5.0) (2.4.417150.4580142)\n",
      "Requirement already satisfied: spacy-legacy<3.1.0,>=3.0.11 in c:\\users\\андрей\\desktop\\github\\recruiters\\venv\\lib\\site-packages (from spacy<3.6.0,>=3.5.0->ru-core-news-sm==3.5.0) (3.0.12)\n",
      "Requirement already satisfied: spacy-loggers<2.0.0,>=1.0.0 in c:\\users\\андрей\\desktop\\github\\recruiters\\venv\\lib\\site-packages (from spacy<3.6.0,>=3.5.0->ru-core-news-sm==3.5.0) (1.0.4)\n",
      "Requirement already satisfied: murmurhash<1.1.0,>=0.28.0 in c:\\users\\андрей\\desktop\\github\\recruiters\\venv\\lib\\site-packages (from spacy<3.6.0,>=3.5.0->ru-core-news-sm==3.5.0) (1.0.9)\n",
      "Requirement already satisfied: cymem<2.1.0,>=2.0.2 in c:\\users\\андрей\\desktop\\github\\recruiters\\venv\\lib\\site-packages (from spacy<3.6.0,>=3.5.0->ru-core-news-sm==3.5.0) (2.0.7)\n",
      "Requirement already satisfied: preshed<3.1.0,>=3.0.2 in c:\\users\\андрей\\desktop\\github\\recruiters\\venv\\lib\\site-packages (from spacy<3.6.0,>=3.5.0->ru-core-news-sm==3.5.0) (3.0.8)\n",
      "Requirement already satisfied: thinc<8.2.0,>=8.1.8 in c:\\users\\андрей\\desktop\\github\\recruiters\\venv\\lib\\site-packages (from spacy<3.6.0,>=3.5.0->ru-core-news-sm==3.5.0) (8.1.10)\n",
      "Requirement already satisfied: wasabi<1.2.0,>=0.9.1 in c:\\users\\андрей\\desktop\\github\\recruiters\\venv\\lib\\site-packages (from spacy<3.6.0,>=3.5.0->ru-core-news-sm==3.5.0) (1.1.2)\n",
      "Requirement already satisfied: srsly<3.0.0,>=2.4.3 in c:\\users\\андрей\\desktop\\github\\recruiters\\venv\\lib\\site-packages (from spacy<3.6.0,>=3.5.0->ru-core-news-sm==3.5.0) (2.4.6)\n",
      "Requirement already satisfied: catalogue<2.1.0,>=2.0.6 in c:\\users\\андрей\\desktop\\github\\recruiters\\venv\\lib\\site-packages (from spacy<3.6.0,>=3.5.0->ru-core-news-sm==3.5.0) (2.0.8)\n",
      "Requirement already satisfied: typer<0.10.0,>=0.3.0 in c:\\users\\андрей\\desktop\\github\\recruiters\\venv\\lib\\site-packages (from spacy<3.6.0,>=3.5.0->ru-core-news-sm==3.5.0) (0.9.0)\n",
      "Requirement already satisfied: pathy>=0.10.0 in c:\\users\\андрей\\desktop\\github\\recruiters\\venv\\lib\\site-packages (from spacy<3.6.0,>=3.5.0->ru-core-news-sm==3.5.0) (0.10.2)\n",
      "Requirement already satisfied: smart-open<7.0.0,>=5.2.1 in c:\\users\\андрей\\desktop\\github\\recruiters\\venv\\lib\\site-packages (from spacy<3.6.0,>=3.5.0->ru-core-news-sm==3.5.0) (6.3.0)\n",
      "Requirement already satisfied: tqdm<5.0.0,>=4.38.0 in c:\\users\\андрей\\desktop\\github\\recruiters\\venv\\lib\\site-packages (from spacy<3.6.0,>=3.5.0->ru-core-news-sm==3.5.0) (4.65.0)\n",
      "Requirement already satisfied: numpy>=1.15.0 in c:\\users\\андрей\\desktop\\github\\recruiters\\venv\\lib\\site-packages (from spacy<3.6.0,>=3.5.0->ru-core-news-sm==3.5.0) (1.25.0)\n",
      "Requirement already satisfied: requests<3.0.0,>=2.13.0 in c:\\users\\андрей\\desktop\\github\\recruiters\\venv\\lib\\site-packages (from spacy<3.6.0,>=3.5.0->ru-core-news-sm==3.5.0) (2.31.0)\n",
      "Requirement already satisfied: pydantic!=1.8,!=1.8.1,<1.11.0,>=1.7.4 in c:\\users\\андрей\\desktop\\github\\recruiters\\venv\\lib\\site-packages (from spacy<3.6.0,>=3.5.0->ru-core-news-sm==3.5.0) (1.10.10)\n",
      "Requirement already satisfied: jinja2 in c:\\users\\андрей\\desktop\\github\\recruiters\\venv\\lib\\site-packages (from spacy<3.6.0,>=3.5.0->ru-core-news-sm==3.5.0) (3.1.2)\n",
      "Requirement already satisfied: setuptools in c:\\users\\андрей\\desktop\\github\\recruiters\\venv\\lib\\site-packages (from spacy<3.6.0,>=3.5.0->ru-core-news-sm==3.5.0) (63.2.0)\n",
      "Requirement already satisfied: packaging>=20.0 in c:\\users\\андрей\\desktop\\github\\recruiters\\venv\\lib\\site-packages (from spacy<3.6.0,>=3.5.0->ru-core-news-sm==3.5.0) (23.1)\n",
      "Requirement already satisfied: langcodes<4.0.0,>=3.2.0 in c:\\users\\андрей\\desktop\\github\\recruiters\\venv\\lib\\site-packages (from spacy<3.6.0,>=3.5.0->ru-core-news-sm==3.5.0) (3.3.0)\n",
      "Requirement already satisfied: typing-extensions>=4.2.0 in c:\\users\\андрей\\desktop\\github\\recruiters\\venv\\lib\\site-packages (from pydantic!=1.8,!=1.8.1,<1.11.0,>=1.7.4->spacy<3.6.0,>=3.5.0->ru-core-news-sm==3.5.0) (4.7.1)\n",
      "Requirement already satisfied: charset-normalizer<4,>=2 in c:\\users\\андрей\\desktop\\github\\recruiters\\venv\\lib\\site-packages (from requests<3.0.0,>=2.13.0->spacy<3.6.0,>=3.5.0->ru-core-news-sm==3.5.0) (3.1.0)\n",
      "Requirement already satisfied: idna<4,>=2.5 in c:\\users\\андрей\\desktop\\github\\recruiters\\venv\\lib\\site-packages (from requests<3.0.0,>=2.13.0->spacy<3.6.0,>=3.5.0->ru-core-news-sm==3.5.0) (3.4)\n",
      "Requirement already satisfied: urllib3<3,>=1.21.1 in c:\\users\\андрей\\desktop\\github\\recruiters\\venv\\lib\\site-packages (from requests<3.0.0,>=2.13.0->spacy<3.6.0,>=3.5.0->ru-core-news-sm==3.5.0) (2.0.3)\n",
      "Requirement already satisfied: certifi>=2017.4.17 in c:\\users\\андрей\\desktop\\github\\recruiters\\venv\\lib\\site-packages (from requests<3.0.0,>=2.13.0->spacy<3.6.0,>=3.5.0->ru-core-news-sm==3.5.0) (2023.5.7)\n",
      "Requirement already satisfied: blis<0.8.0,>=0.7.8 in c:\\users\\андрей\\desktop\\github\\recruiters\\venv\\lib\\site-packages (from thinc<8.2.0,>=8.1.8->spacy<3.6.0,>=3.5.0->ru-core-news-sm==3.5.0) (0.7.9)\n",
      "Requirement already satisfied: confection<1.0.0,>=0.0.1 in c:\\users\\андрей\\desktop\\github\\recruiters\\venv\\lib\\site-packages (from thinc<8.2.0,>=8.1.8->spacy<3.6.0,>=3.5.0->ru-core-news-sm==3.5.0) (0.1.0)\n",
      "Requirement already satisfied: colorama in c:\\users\\андрей\\desktop\\github\\recruiters\\venv\\lib\\site-packages (from tqdm<5.0.0,>=4.38.0->spacy<3.6.0,>=3.5.0->ru-core-news-sm==3.5.0) (0.4.6)\n",
      "Requirement already satisfied: click<9.0.0,>=7.1.1 in c:\\users\\андрей\\desktop\\github\\recruiters\\venv\\lib\\site-packages (from typer<0.10.0,>=0.3.0->spacy<3.6.0,>=3.5.0->ru-core-news-sm==3.5.0) (8.1.3)\n",
      "Requirement already satisfied: MarkupSafe>=2.0 in c:\\users\\андрей\\desktop\\github\\recruiters\\venv\\lib\\site-packages (from jinja2->spacy<3.6.0,>=3.5.0->ru-core-news-sm==3.5.0) (2.1.3)\n",
      "\u001b[38;5;2m✔ Download and installation successful\u001b[0m\n",
      "You can now load the package via spacy.load('ru_core_news_sm')\n"
     ]
    }
   ],
   "source": [
    "! python -m spacy download ru_core_news_sm"
   ]
  },
  {
   "cell_type": "code",
   "execution_count": 2,
   "metadata": {},
   "outputs": [],
   "source": [
    "import pandas as pd\n",
    "import unicodedata\n",
    "import re\n",
    "import spacy\n",
    "import json\n",
    "import numpy as np\n",
    "from nltk.corpus import stopwords\n",
    "from sklearn.decomposition import LatentDirichletAllocation\n",
    "from sklearn.feature_extraction.text import TfidfVectorizer\n",
    "import os\n",
    "import json\n",
    "import pyLDAvis\n",
    "import pyLDAvis.gensim\n",
    "import matplotlib.pyplot as plt\n",
    "import gensim\n",
    "import gensim.corpora as corpora\n",
    "from gensim.models import CoherenceModel\n",
    "from gensim.utils import simple_preprocess"
   ]
  },
  {
   "attachments": {},
   "cell_type": "markdown",
   "metadata": {},
   "source": [
    "# Подготовка данных"
   ]
  },
  {
   "attachments": {},
   "cell_type": "markdown",
   "metadata": {},
   "source": [
    "Загрузим данные"
   ]
  },
  {
   "cell_type": "code",
   "execution_count": 3,
   "metadata": {},
   "outputs": [],
   "source": [
    "data = pd.read_csv('csv\\\\full_df.csv', sep=';')\n",
    "data.head(3)\n",
    "data = data.drop(columns='Unnamed: 0', axis=1)"
   ]
  },
  {
   "attachments": {},
   "cell_type": "markdown",
   "metadata": {},
   "source": [
    "Отфильтруем тексты по количеству символов. Оставим только 100+."
   ]
  },
  {
   "cell_type": "code",
   "execution_count": 4,
   "metadata": {},
   "outputs": [
    {
     "name": "stdout",
     "output_type": "stream",
     "text": [
      "Количество постов с 100+ символами: 8556\n"
     ]
    },
    {
     "data": {
      "text/html": [
       "<div>\n",
       "<style scoped>\n",
       "    .dataframe tbody tr th:only-of-type {\n",
       "        vertical-align: middle;\n",
       "    }\n",
       "\n",
       "    .dataframe tbody tr th {\n",
       "        vertical-align: top;\n",
       "    }\n",
       "\n",
       "    .dataframe thead th {\n",
       "        text-align: right;\n",
       "    }\n",
       "</style>\n",
       "<table border=\"1\" class=\"dataframe\">\n",
       "  <thead>\n",
       "    <tr style=\"text-align: right;\">\n",
       "      <th></th>\n",
       "      <th>status</th>\n",
       "      <th>url</th>\n",
       "      <th>text</th>\n",
       "      <th>likes</th>\n",
       "      <th>reposts</th>\n",
       "      <th>comments</th>\n",
       "      <th>text_len</th>\n",
       "    </tr>\n",
       "  </thead>\n",
       "  <tbody>\n",
       "    <tr>\n",
       "      <th>0</th>\n",
       "      <td>Middle Software Engineer - Yandex</td>\n",
       "      <td>https://www.linkedin.com/in/michilegorov</td>\n",
       "      <td>Всем привет!Выпустил свою первую статью на хаб...</td>\n",
       "      <td>17.0</td>\n",
       "      <td>0.0</td>\n",
       "      <td>0.0</td>\n",
       "      <td>295</td>\n",
       "    </tr>\n",
       "    <tr>\n",
       "      <th>1</th>\n",
       "      <td>Middle Software Engineer - Yandex</td>\n",
       "      <td>https://www.linkedin.com/in/michilegorov</td>\n",
       "      <td>Если вам интересно позалипать в слова, я запус...</td>\n",
       "      <td>6.0</td>\n",
       "      <td>0.0</td>\n",
       "      <td>2.0</td>\n",
       "      <td>117</td>\n",
       "    </tr>\n",
       "    <tr>\n",
       "      <th>2</th>\n",
       "      <td>Middle Software Engineer - Yandex</td>\n",
       "      <td>https://www.linkedin.com/in/michilegorov</td>\n",
       "      <td>Если вам интересно позалипать в слова, я запус...</td>\n",
       "      <td>17.0</td>\n",
       "      <td>6.0</td>\n",
       "      <td>0.0</td>\n",
       "      <td>117</td>\n",
       "    </tr>\n",
       "  </tbody>\n",
       "</table>\n",
       "</div>"
      ],
      "text/plain": [
       "                              status  \\\n",
       "0  Middle Software Engineer - Yandex   \n",
       "1  Middle Software Engineer - Yandex   \n",
       "2  Middle Software Engineer - Yandex   \n",
       "\n",
       "                                        url  \\\n",
       "0  https://www.linkedin.com/in/michilegorov   \n",
       "1  https://www.linkedin.com/in/michilegorov   \n",
       "2  https://www.linkedin.com/in/michilegorov   \n",
       "\n",
       "                                                text likes  reposts  comments  \\\n",
       "0  Всем привет!Выпустил свою первую статью на хаб...  17.0      0.0       0.0   \n",
       "1  Если вам интересно позалипать в слова, я запус...   6.0      0.0       2.0   \n",
       "2  Если вам интересно позалипать в слова, я запус...  17.0      6.0       0.0   \n",
       "\n",
       "   text_len  \n",
       "0       295  \n",
       "1       117  \n",
       "2       117  "
      ]
     },
     "execution_count": 4,
     "metadata": {},
     "output_type": "execute_result"
    }
   ],
   "source": [
    "data['text_len'] = data.loc[:, 'text'].apply(lambda x: len(x))\n",
    "data_filtered_by_text_len = data.query('text_len > 100')\n",
    "print(f'Количество постов с 100+ символами: {data_filtered_by_text_len.shape[0]}')\n",
    "data_filtered_by_text_len.head(3)"
   ]
  },
  {
   "attachments": {},
   "cell_type": "markdown",
   "metadata": {},
   "source": [
    "Оставим только тексты содержащие кириллицу"
   ]
  },
  {
   "cell_type": "code",
   "execution_count": 5,
   "metadata": {},
   "outputs": [
    {
     "name": "stdout",
     "output_type": "stream",
     "text": [
      "Текстов на кириллице: 1960\n"
     ]
    },
    {
     "data": {
      "text/html": [
       "<div>\n",
       "<style scoped>\n",
       "    .dataframe tbody tr th:only-of-type {\n",
       "        vertical-align: middle;\n",
       "    }\n",
       "\n",
       "    .dataframe tbody tr th {\n",
       "        vertical-align: top;\n",
       "    }\n",
       "\n",
       "    .dataframe thead th {\n",
       "        text-align: right;\n",
       "    }\n",
       "</style>\n",
       "<table border=\"1\" class=\"dataframe\">\n",
       "  <thead>\n",
       "    <tr style=\"text-align: right;\">\n",
       "      <th></th>\n",
       "      <th>status</th>\n",
       "      <th>url</th>\n",
       "      <th>text</th>\n",
       "      <th>likes</th>\n",
       "      <th>reposts</th>\n",
       "      <th>comments</th>\n",
       "      <th>text_len</th>\n",
       "    </tr>\n",
       "  </thead>\n",
       "  <tbody>\n",
       "    <tr>\n",
       "      <th>0</th>\n",
       "      <td>Middle Software Engineer - Yandex</td>\n",
       "      <td>https://www.linkedin.com/in/michilegorov</td>\n",
       "      <td>Всем привет!Выпустил свою первую статью на хаб...</td>\n",
       "      <td>17.0</td>\n",
       "      <td>0.0</td>\n",
       "      <td>0.0</td>\n",
       "      <td>295</td>\n",
       "    </tr>\n",
       "    <tr>\n",
       "      <th>1</th>\n",
       "      <td>Middle Software Engineer - Yandex</td>\n",
       "      <td>https://www.linkedin.com/in/michilegorov</td>\n",
       "      <td>Если вам интересно позалипать в слова, я запус...</td>\n",
       "      <td>6.0</td>\n",
       "      <td>0.0</td>\n",
       "      <td>2.0</td>\n",
       "      <td>117</td>\n",
       "    </tr>\n",
       "    <tr>\n",
       "      <th>2</th>\n",
       "      <td>Middle Software Engineer - Yandex</td>\n",
       "      <td>https://www.linkedin.com/in/michilegorov</td>\n",
       "      <td>Если вам интересно позалипать в слова, я запус...</td>\n",
       "      <td>17.0</td>\n",
       "      <td>6.0</td>\n",
       "      <td>0.0</td>\n",
       "      <td>117</td>\n",
       "    </tr>\n",
       "  </tbody>\n",
       "</table>\n",
       "</div>"
      ],
      "text/plain": [
       "                              status  \\\n",
       "0  Middle Software Engineer - Yandex   \n",
       "1  Middle Software Engineer - Yandex   \n",
       "2  Middle Software Engineer - Yandex   \n",
       "\n",
       "                                        url  \\\n",
       "0  https://www.linkedin.com/in/michilegorov   \n",
       "1  https://www.linkedin.com/in/michilegorov   \n",
       "2  https://www.linkedin.com/in/michilegorov   \n",
       "\n",
       "                                                text likes  reposts  comments  \\\n",
       "0  Всем привет!Выпустил свою первую статью на хаб...  17.0      0.0       0.0   \n",
       "1  Если вам интересно позалипать в слова, я запус...   6.0      0.0       2.0   \n",
       "2  Если вам интересно позалипать в слова, я запус...  17.0      6.0       0.0   \n",
       "\n",
       "   text_len  \n",
       "0       295  \n",
       "1       117  \n",
       "2       117  "
      ]
     },
     "execution_count": 5,
     "metadata": {},
     "output_type": "execute_result"
    }
   ],
   "source": [
    "data_cyrillic = data_filtered_by_text_len[data_filtered_by_text_len['text'].apply(lambda x: re.match(r'[А-Яа-я]+', x) is not None)]\n",
    "\n",
    "print(f'Текстов на кириллице: {data_cyrillic.shape[0]}')\n",
    "data_cyrillic.head(3)"
   ]
  },
  {
   "attachments": {},
   "cell_type": "markdown",
   "metadata": {},
   "source": [
    "Удалим дубликаты текстов"
   ]
  },
  {
   "cell_type": "code",
   "execution_count": 6,
   "metadata": {},
   "outputs": [
    {
     "name": "stdout",
     "output_type": "stream",
     "text": [
      "Осталось 1862 строк\n"
     ]
    },
    {
     "data": {
      "text/html": [
       "<div>\n",
       "<style scoped>\n",
       "    .dataframe tbody tr th:only-of-type {\n",
       "        vertical-align: middle;\n",
       "    }\n",
       "\n",
       "    .dataframe tbody tr th {\n",
       "        vertical-align: top;\n",
       "    }\n",
       "\n",
       "    .dataframe thead th {\n",
       "        text-align: right;\n",
       "    }\n",
       "</style>\n",
       "<table border=\"1\" class=\"dataframe\">\n",
       "  <thead>\n",
       "    <tr style=\"text-align: right;\">\n",
       "      <th></th>\n",
       "      <th>status</th>\n",
       "      <th>url</th>\n",
       "      <th>text</th>\n",
       "      <th>likes</th>\n",
       "      <th>reposts</th>\n",
       "      <th>comments</th>\n",
       "      <th>text_len</th>\n",
       "    </tr>\n",
       "  </thead>\n",
       "  <tbody>\n",
       "    <tr>\n",
       "      <th>0</th>\n",
       "      <td>Middle Software Engineer - Yandex</td>\n",
       "      <td>https://www.linkedin.com/in/michilegorov</td>\n",
       "      <td>Всем привет!Выпустил свою первую статью на хаб...</td>\n",
       "      <td>17.0</td>\n",
       "      <td>0.0</td>\n",
       "      <td>0.0</td>\n",
       "      <td>295</td>\n",
       "    </tr>\n",
       "    <tr>\n",
       "      <th>1</th>\n",
       "      <td>Middle Software Engineer - Yandex</td>\n",
       "      <td>https://www.linkedin.com/in/michilegorov</td>\n",
       "      <td>Если вам интересно позалипать в слова, я запус...</td>\n",
       "      <td>6.0</td>\n",
       "      <td>0.0</td>\n",
       "      <td>2.0</td>\n",
       "      <td>117</td>\n",
       "    </tr>\n",
       "    <tr>\n",
       "      <th>6</th>\n",
       "      <td>Talent Acquisition Manager | Recruitment Lead ...</td>\n",
       "      <td>https://www.linkedin.com/in/dariaivanova</td>\n",
       "      <td>С трепетом готов представить свой продукт. Реф...</td>\n",
       "      <td>8.0</td>\n",
       "      <td>0.0</td>\n",
       "      <td>0.0</td>\n",
       "      <td>841</td>\n",
       "    </tr>\n",
       "  </tbody>\n",
       "</table>\n",
       "</div>"
      ],
      "text/plain": [
       "                                              status  \\\n",
       "0                  Middle Software Engineer - Yandex   \n",
       "1                  Middle Software Engineer - Yandex   \n",
       "6  Talent Acquisition Manager | Recruitment Lead ...   \n",
       "\n",
       "                                        url  \\\n",
       "0  https://www.linkedin.com/in/michilegorov   \n",
       "1  https://www.linkedin.com/in/michilegorov   \n",
       "6  https://www.linkedin.com/in/dariaivanova   \n",
       "\n",
       "                                                text likes  reposts  comments  \\\n",
       "0  Всем привет!Выпустил свою первую статью на хаб...  17.0      0.0       0.0   \n",
       "1  Если вам интересно позалипать в слова, я запус...   6.0      0.0       2.0   \n",
       "6  С трепетом готов представить свой продукт. Реф...   8.0      0.0       0.0   \n",
       "\n",
       "   text_len  \n",
       "0       295  \n",
       "1       117  \n",
       "6       841  "
      ]
     },
     "execution_count": 6,
     "metadata": {},
     "output_type": "execute_result"
    }
   ],
   "source": [
    "data_dd = data_cyrillic.drop_duplicates('text')\n",
    "print(f'Осталось {data_dd.shape[0]} строк')\n",
    "data_dd.head(3)"
   ]
  },
  {
   "attachments": {},
   "cell_type": "markdown",
   "metadata": {},
   "source": [
    "# Подготовка к моделированию"
   ]
  },
  {
   "cell_type": "code",
   "execution_count": 7,
   "metadata": {},
   "outputs": [
    {
     "data": {
      "text/plain": [
       "'Всем привет!Выпустил свою первую статью на хабр!https://lnkd.in/dt9N6D7BСтатья про историю и технологии разработки игры https://guess-word.com и как мы создали игру с элементами машинного обучения и вышли в ноль за 2 месяцаПри\\xa0внимательном прочтении вы даже сможете запустить первую версию игры!'"
      ]
     },
     "execution_count": 7,
     "metadata": {},
     "output_type": "execute_result"
    }
   ],
   "source": [
    "texts = data_dd[\"text\"].tolist()\n",
    "texts[0]"
   ]
  },
  {
   "attachments": {},
   "cell_type": "markdown",
   "metadata": {},
   "source": [
    "Проведем лемматизацию"
   ]
  },
  {
   "cell_type": "code",
   "execution_count": 8,
   "metadata": {},
   "outputs": [
    {
     "name": "stdout",
     "output_type": "stream",
     "text": [
      "['всем', 'привет!выпустил', 'свой', 'первый', 'статья', 'на', 'хабр!https://lnkd.in', '/', 'dt9n6d7bстатья', 'про', 'история', 'и', 'технология', 'разработка', 'игра', 'https://guess-word.com', 'и', 'как', 'мы', 'создать', 'игра', 'с', 'элемент', 'машинный', 'обучение', 'и', 'выйти', 'в', 'ноль', 'за', '2', 'месяцапри', '\\xa0', 'внимательный', 'прочтение', 'вы', 'даже', 'смочь', 'запустить', 'первый', 'версия', 'игра', '!']\n"
     ]
    }
   ],
   "source": [
    "if os.path.exists('lemmas.json'):\n",
    "    with open(\"lemmas.json\") as f:\n",
    "        data_lemmatized = json.load(f)['lemmas']\n",
    "else:\n",
    "    model = spacy.load('ru_core_news_sm', disable=['ner', 'parser'])\n",
    "    data_lemmatized = []\n",
    "    for doc in model.pipe(texts, disable=[\"tagger\", \"parser\"]):\n",
    "        data_lemmatized.append([token.lemma_ for token in doc])\n",
    "\n",
    "    with open(\"lemmas.json\", \"w\") as fid:\n",
    "        json.dump({\"lemmas\": data_lemmatized}, fid)\n",
    "\n",
    "print(data_lemmatized[0])"
   ]
  },
  {
   "attachments": {},
   "cell_type": "markdown",
   "metadata": {},
   "source": [
    "Очистим тексты от ненужных символов"
   ]
  },
  {
   "cell_type": "code",
   "execution_count": 9,
   "metadata": {},
   "outputs": [
    {
     "name": "stdout",
     "output_type": "stream",
     "text": [
      "['всем', 'свой', 'первый', 'статья', 'на', 'про', 'история', 'и', 'технология', 'разработка', 'игра', 'и', 'как', 'мы', 'создать', 'игра', 'с', 'элемент', 'машинный', 'обучение', 'и', 'выйти', 'в', 'ноль', 'за', 'месяцапри', 'внимательный', 'прочтение', 'вы', 'даже', 'смочь', 'запустить', 'первый', 'версия', 'игра']\n"
     ]
    }
   ],
   "source": [
    "word_pattern = re.compile(\"^[а-я]*$\")\n",
    "\n",
    "def remove_symbols(doc):\n",
    "    return [token for token in doc if word_pattern.match(token)]\n",
    "\n",
    "data_words = list(map(remove_symbols, data_lemmatized))\n",
    "print(data_words[0])"
   ]
  },
  {
   "attachments": {},
   "cell_type": "markdown",
   "metadata": {},
   "source": [
    "Загрузим русские стоп-слова"
   ]
  },
  {
   "cell_type": "code",
   "execution_count": 10,
   "metadata": {},
   "outputs": [],
   "source": [
    "stop_words = stopwords.words('russian')\n",
    "stop_words += ['это', 'свой', 'очень', 'мочь', 'ваш', 'наш']"
   ]
  },
  {
   "attachments": {},
   "cell_type": "markdown",
   "metadata": {},
   "source": [
    "Определим функцию для удаления стоп-слов"
   ]
  },
  {
   "cell_type": "code",
   "execution_count": 11,
   "metadata": {},
   "outputs": [],
   "source": [
    "def remove_stopwords(texts):\n",
    "    return [[word for word in doc if word not in stop_words] for doc in texts]"
   ]
  },
  {
   "attachments": {},
   "cell_type": "markdown",
   "metadata": {},
   "source": [
    "Применим функцию для удаления стоп-слов"
   ]
  },
  {
   "cell_type": "code",
   "execution_count": 12,
   "metadata": {},
   "outputs": [],
   "source": [
    "data_words_nostops = remove_stopwords(data_words)"
   ]
  },
  {
   "cell_type": "code",
   "execution_count": 13,
   "metadata": {},
   "outputs": [],
   "source": [
    "id2word = corpora.Dictionary(data_words_nostops)\n",
    "\n",
    "texts = data_words_nostops\n",
    "\n",
    "corpus = [id2word.doc2bow(text) for text in texts]"
   ]
  },
  {
   "cell_type": "code",
   "execution_count": 14,
   "metadata": {},
   "outputs": [
    {
     "data": {
      "text/plain": [
       "[[('версия', 1),\n",
       "  ('внимательный', 1),\n",
       "  ('всем', 1),\n",
       "  ('выйти', 1),\n",
       "  ('запустить', 1),\n",
       "  ('игра', 3),\n",
       "  ('история', 1),\n",
       "  ('машинный', 1),\n",
       "  ('месяцапри', 1),\n",
       "  ('ноль', 1),\n",
       "  ('обучение', 1),\n",
       "  ('первый', 2),\n",
       "  ('прочтение', 1),\n",
       "  ('разработка', 1),\n",
       "  ('смочь', 1),\n",
       "  ('создать', 1),\n",
       "  ('статья', 1),\n",
       "  ('технология', 1),\n",
       "  ('элемент', 1)]]"
      ]
     },
     "execution_count": 14,
     "metadata": {},
     "output_type": "execute_result"
    }
   ],
   "source": [
    "[[(id2word[id], freq) for id, freq in cp] for cp in corpus[:1]]"
   ]
  },
  {
   "attachments": {},
   "cell_type": "markdown",
   "metadata": {},
   "source": [
    "# Протестируем моделирование с 20 темами"
   ]
  },
  {
   "cell_type": "code",
   "execution_count": 15,
   "metadata": {},
   "outputs": [],
   "source": [
    "lda_model = gensim.models.ldamodel.LdaModel(\n",
    "    corpus=corpus,\n",
    "    id2word=id2word,\n",
    "    num_topics=20, \n",
    "    random_state=100,\n",
    "    update_every=1,\n",
    "    chunksize=100,\n",
    "    passes=10,\n",
    "    alpha='auto',\n",
    "    per_word_topics=True\n",
    "    )"
   ]
  },
  {
   "cell_type": "code",
   "execution_count": 16,
   "metadata": {},
   "outputs": [
    {
     "data": {
      "text/plain": [
       "[(0,\n",
       "  '0.131*\"язык\" + 0.073*\"английский\" + 0.029*\"требование\" + 0.025*\"казахстан\" + 0.023*\"психология\" + 0.016*\"отклик\" + 0.014*\"аренда\" + 0.012*\"среда\" + 0.011*\"называть\" + 0.008*\"представитель\"'),\n",
       " (1,\n",
       "  '0.114*\"навык\" + 0.054*\"тест\" + 0.047*\"профиль\" + 0.044*\"проверка\" + 0.027*\"стратегия\" + 0.025*\"значок\" + 0.023*\"айти\" + 0.023*\"коммуникация\" + 0.022*\"топ\" + 0.016*\"фронтенд\"'),\n",
       " (2,\n",
       "  '0.052*\"пожалуйста\" + 0.029*\"метод\" + 0.029*\"которыми\" + 0.015*\"доставка\" + 0.015*\"начаться\" + 0.012*\"выразить\" + 0.012*\"познакомиться\" + 0.011*\"александр\" + 0.011*\"замечательный\" + 0.011*\"благодарность\"'),\n",
       " (3,\n",
       "  '0.037*\"давно\" + 0.035*\"яндекс\" + 0.023*\"счастливый\" + 0.020*\"стажировка\" + 0.020*\"перейти\" + 0.019*\"нем\" + 0.019*\"защита\" + 0.018*\"ними\" + 0.016*\"недвижимость\" + 0.015*\"живой\"'),\n",
       " (4,\n",
       "  '0.075*\"пост\" + 0.037*\"час\" + 0.036*\"рынок\" + 0.030*\"некоторый\" + 0.025*\"ответ\" + 0.024*\"пара\" + 0.021*\"формат\" + 0.021*\"период\" + 0.021*\"получиться\" + 0.020*\"которых\"'),\n",
       " (5,\n",
       "  '0.077*\"иб\" + 0.033*\"сообщество\" + 0.028*\"остаться\" + 0.028*\"долгий\" + 0.027*\"ценный\" + 0.024*\"другими\" + 0.021*\"лично\" + 0.020*\"использоваться\" + 0.016*\"интересовать\" + 0.015*\"услышать\"'),\n",
       " (6,\n",
       "  '0.063*\"которой\" + 0.054*\"итог\" + 0.051*\"изменение\" + 0.035*\"действие\" + 0.031*\"почитать\" + 0.030*\"плохой\" + 0.022*\"площадка\" + 0.019*\"эффективность\" + 0.017*\"переход\" + 0.016*\"телеграмм\"'),\n",
       " (7,\n",
       "  '0.048*\"программист\" + 0.025*\"поработать\" + 0.025*\"кофе\" + 0.023*\"ментор\" + 0.014*\"ищу\" + 0.009*\"обед\" + 0.007*\"зарегистрироваться\" + 0.006*\"пиши\" + 0.005*\"управлениепроектами\" + 0.002*\"тренинг\"'),\n",
       " (8,\n",
       "  '0.048*\"тестирование\" + 0.045*\"интерфейс\" + 0.041*\"никто\" + 0.035*\"страница\" + 0.032*\"радость\" + 0.023*\"май\" + 0.020*\"цифровой\" + 0.017*\"пользовательский\" + 0.017*\"оказывать\" + 0.013*\"наука\"'),\n",
       " (9,\n",
       "  '0.035*\"сделать\" + 0.030*\"начать\" + 0.029*\"приложение\" + 0.027*\"несколько\" + 0.024*\"разный\" + 0.023*\"сегодня\" + 0.021*\"место\" + 0.021*\"думать\" + 0.020*\"рад\" + 0.019*\"пользователь\"'),\n",
       " (10,\n",
       "  '0.070*\"курс\" + 0.042*\"дело\" + 0.036*\"сказать\" + 0.036*\"функция\" + 0.022*\"увидеть\" + 0.022*\"случай\" + 0.021*\"понятный\" + 0.019*\"действительно\" + 0.019*\"тренировка\" + 0.015*\"кроме\"'),\n",
       " (11,\n",
       "  '0.000*\"коммуницируют\" + 0.000*\"злободневный\" + 0.000*\"торжественный\" + 0.000*\"розыгрышем\" + 0.000*\"проникнуться\" + 0.000*\"приз\" + 0.000*\"интегрированная\" + 0.000*\"такому\" + 0.000*\"вручениями\" + 0.000*\"полугодие\"'),\n",
       " (12,\n",
       "  '0.056*\"добрый\" + 0.043*\"низкий\" + 0.035*\"социальный\" + 0.031*\"коммент\" + 0.016*\"возможно\" + 0.015*\"значить\" + 0.015*\"постараться\" + 0.010*\"здоровый\" + 0.008*\"которому\" + 0.007*\"против\"'),\n",
       " (13,\n",
       "  '0.029*\"весь\" + 0.027*\"человек\" + 0.021*\"год\" + 0.020*\"время\" + 0.017*\"хотеть\" + 0.016*\"которые\" + 0.016*\"нужный\" + 0.016*\"работать\" + 0.014*\"задача\" + 0.013*\"вопрос\"'),\n",
       " (14,\n",
       "  '0.056*\"проводить\" + 0.036*\"попасть\" + 0.033*\"кстати\" + 0.032*\"попробовать\" + 0.028*\"разобраться\" + 0.026*\"российский\" + 0.021*\"насколько\" + 0.019*\"пробовать\" + 0.010*\"туда\" + 0.009*\"соцсеть\"'),\n",
       " (15,\n",
       "  '0.063*\"внимание\" + 0.051*\"позволять\" + 0.046*\"инструмент\" + 0.034*\"этап\" + 0.026*\"интерес\" + 0.022*\"работодатель\" + 0.020*\"появиться\" + 0.019*\"малый\" + 0.018*\"шанс\" + 0.017*\"рассматривать\"'),\n",
       " (16,\n",
       "  '0.064*\"контакт\" + 0.054*\"второй\" + 0.047*\"предложить\" + 0.047*\"заранее\" + 0.027*\"благодарить\" + 0.022*\"разбираться\" + 0.020*\"скоро\" + 0.020*\"здравствовать\" + 0.016*\"репостам\" + 0.013*\"совет\"'),\n",
       " (17,\n",
       "  '0.055*\"получить\" + 0.036*\"понимать\" + 0.034*\"карьера\" + 0.032*\"жизнь\" + 0.029*\"помогать\" + 0.027*\"онлайн\" + 0.024*\"цель\" + 0.021*\"ждать\" + 0.021*\"казаться\" + 0.018*\"идти\"'),\n",
       " (18,\n",
       "  '0.058*\"работа\" + 0.040*\"компания\" + 0.031*\"новый\" + 0.029*\"проект\" + 0.028*\"опыт\" + 0.024*\"команда\" + 0.020*\"данных\" + 0.016*\"возможность\" + 0.016*\"разработка\" + 0.013*\"искать\"'),\n",
       " (19,\n",
       "  '0.082*\"книга\" + 0.051*\"рассказывать\" + 0.034*\"смотреть\" + 0.031*\"зрение\" + 0.026*\"правильный\" + 0.026*\"основной\" + 0.024*\"консультация\" + 0.021*\"автор\" + 0.021*\"обязательно\" + 0.018*\"подробно\"')]"
      ]
     },
     "execution_count": 16,
     "metadata": {},
     "output_type": "execute_result"
    }
   ],
   "source": [
    "lda_model.print_topics()"
   ]
  },
  {
   "attachments": {},
   "cell_type": "markdown",
   "metadata": {},
   "source": [
    "Вычислим сложность и согласованность модели"
   ]
  },
  {
   "cell_type": "code",
   "execution_count": 17,
   "metadata": {},
   "outputs": [
    {
     "name": "stdout",
     "output_type": "stream",
     "text": [
      "Perplexity:  -16.32591711948903\n",
      "Coherence Score:  0.44153426954519304\n"
     ]
    }
   ],
   "source": [
    "print('Perplexity: ', lda_model.log_perplexity(corpus))\n",
    "\n",
    "coherence_model_lda = CoherenceModel(model=lda_model, texts=texts, dictionary=id2word, coherence='c_v')\n",
    "coherence_lda = coherence_model_lda.get_coherence()\n",
    "print('Coherence Score: ', coherence_lda)"
   ]
  },
  {
   "attachments": {},
   "cell_type": "markdown",
   "metadata": {},
   "source": [
    "Отобразим результаты моделирования"
   ]
  },
  {
   "cell_type": "code",
   "execution_count": 18,
   "metadata": {},
   "outputs": [
    {
     "data": {
      "text/html": [
       "\n",
       "<link rel=\"stylesheet\" type=\"text/css\" href=\"https://cdn.jsdelivr.net/gh/bmabey/pyLDAvis@3.4.0/pyLDAvis/js/ldavis.v1.0.0.css\">\n",
       "\n",
       "\n",
       "<div id=\"ldavis_el49648725605989767840789163\" style=\"background-color:white;\"></div>\n",
       "<script type=\"text/javascript\">\n",
       "\n",
       "var ldavis_el49648725605989767840789163_data = {\"mdsDat\": {\"x\": [-0.4126157606177127, -0.386007158467967, -0.16328366538072187, -0.05091875784557203, -0.028931091537956564, 0.007584281658258284, 0.06022605430614364, 0.062883866875355, 0.05936261534514682, 0.07306984418216729, 0.07371748113159192, 0.0735257567874238, 0.07032216193097565, 0.07207621928879329, 0.07888070624084924, 0.07910885213543191, 0.0819307815757693, 0.08132955855036836, 0.08339796223438209, 0.08434029160727304], \"y\": [0.21194889105506515, -0.009909186987399387, -0.3446269423587096, -0.13468770560642923, -0.0065790701048723844, 0.005932765053018284, 0.020879320253144103, 0.021014047660924424, 0.028080461626446215, 0.02053389670591149, 0.020528908899246055, 0.020486708002262495, 0.02277830183964991, 0.016843155926934587, 0.0195697596979108, 0.019398864509830815, 0.0182779914511456, 0.01853425314394219, 0.01706462239985726, 0.013930956832120783], \"topics\": [1, 2, 3, 4, 5, 6, 7, 8, 9, 10, 11, 12, 13, 14, 15, 16, 17, 18, 19, 20], \"cluster\": [1, 1, 1, 1, 1, 1, 1, 1, 1, 1, 1, 1, 1, 1, 1, 1, 1, 1, 1, 1], \"Freq\": [39.48842875293194, 26.901117254087982, 9.639069438293477, 4.953245621130407, 4.578087281093713, 3.2347141664922634, 1.6169241412960562, 1.4576896896571028, 1.0518689369248662, 0.9739487991428227, 0.8928322954599397, 0.8898227962683182, 0.8097429758289167, 0.8071192391830987, 0.7387873348025437, 0.7178032214835148, 0.49933040818265884, 0.422187000433394, 0.3083655137255638, 0.018915133581421405]}, \"tinfo\": {\"Term\": [\"\\u0440\\u0430\\u0431\\u043e\\u0442\\u0430\", \"\\u043a\\u043e\\u043c\\u043f\\u0430\\u043d\\u0438\\u044f\", \"\\u043f\\u043e\\u0441\\u0442\", \"\\u043a\\u0443\\u0440\\u0441\", \"\\u043f\\u0440\\u043e\\u0435\\u043a\\u0442\", \"\\u043e\\u043f\\u044b\\u0442\", \"\\u0447\\u0435\\u043b\\u043e\\u0432\\u0435\\u043a\", \"\\u0432\\u0435\\u0441\\u044c\", \"\\u043d\\u043e\\u0432\\u044b\\u0439\", \"\\u043f\\u043e\\u043b\\u0443\\u0447\\u0438\\u0442\\u044c\", \"\\u0441\\u0434\\u0435\\u043b\\u0430\\u0442\\u044c\", \"\\u043a\\u043e\\u043c\\u0430\\u043d\\u0434\\u0430\", \"\\u0436\\u0438\\u0437\\u043d\\u044c\", \"\\u0432\\u0440\\u0435\\u043c\\u044f\", \"\\u0434\\u0430\\u043d\\u043d\\u044b\\u0445\", \"\\u043d\\u0430\\u0447\\u0430\\u0442\\u044c\", \"\\u043f\\u0440\\u0438\\u043b\\u043e\\u0436\\u0435\\u043d\\u0438\\u0435\", \"\\u043d\\u0435\\u0441\\u043a\\u043e\\u043b\\u044c\\u043a\\u043e\", \"\\u0445\\u043e\\u0442\\u0435\\u0442\\u044c\", \"\\u044f\\u0437\\u044b\\u043a\", \"\\u043d\\u0430\\u0432\\u044b\\u043a\", \"\\u043a\\u043d\\u0438\\u0433\\u0430\", \"\\u043a\\u043e\\u0442\\u043e\\u0440\\u044b\\u0435\", \"\\u043c\\u0435\\u0441\\u0442\\u043e\", \"\\u043f\\u043e\\u043d\\u0438\\u043c\\u0430\\u0442\\u044c\", \"\\u0440\\u0430\\u0437\\u0440\\u0430\\u0431\\u043e\\u0442\\u043a\\u0430\", \"\\u0433\\u043e\\u0434\", \"\\u0440\\u0430\\u0437\\u043d\\u044b\\u0439\", \"\\u043d\\u0443\\u0436\\u043d\\u044b\\u0439\", \"\\u0447\\u0430\\u0441\", \"\\u0447\\u0435\\u043b\\u043e\\u0432\\u0435\\u043a\", \"\\u0432\\u0440\\u0435\\u043c\\u044f\", \"\\u0445\\u043e\\u0442\\u0435\\u0442\\u044c\", \"\\u043d\\u0443\\u0436\\u043d\\u044b\\u0439\", \"\\u043a\\u043e\\u0442\\u043e\\u0440\\u044b\\u0435\", \"\\u0432\\u043e\\u043f\\u0440\\u043e\\u0441\", \"\\u0434\\u0435\\u043d\\u044c\", \"\\u043f\\u0435\\u0440\\u0432\\u044b\\u0439\", \"\\u043a\\u0430\\u0436\\u0434\\u044b\\u0439\", \"\\u0434\\u0435\\u043b\\u0430\\u0442\\u044c\", \"\\u043a\\u043e\\u0442\\u043e\\u0440\\u044b\\u0439\", \"\\u0437\\u043d\\u0430\\u0442\\u044c\", \"\\u0432\\u0430\\u0436\\u043d\\u044b\\u0439\", \"\\u0441\\u0430\\u0439\\u0442\", \"\\u043f\\u0440\\u043e\\u0441\\u0442\\u043e\", \"\\u043f\\u043e\\u043c\\u043e\\u0447\\u044c\", \"\\u0441\\u0442\\u0430\\u0442\\u044c\", \"\\u043d\\u0430\\u043f\\u0438\\u0441\\u0430\\u0442\\u044c\", \"\\u043d\\u0430\\u0439\\u0442\\u0438\", \"\\u0440\\u0435\\u0437\\u044e\\u043c\\u0435\", \"\\u043f\\u043e\\u044d\\u0442\\u043e\\u043c\\u0443\", \"\\u0438\\u0441\\u043f\\u043e\\u043b\\u044c\\u0437\\u043e\\u0432\\u0430\\u0442\\u044c\", \"\\u0447\\u0430\\u0441\\u0442\\u044c\", \"\\u043f\\u0438\\u0441\\u0430\\u0442\\u044c\", \"\\u043f\\u043e\\u043b\\u0435\\u0437\\u043d\\u044b\\u0439\", \"\\u043f\\u0440\\u043e\\u0446\\u0435\\u0441\\u0441\", \"\\u0438\\u043d\\u0444\\u043e\\u0440\\u043c\\u0430\\u0446\\u0438\\u044f\", \"\\u0441\\u043b\\u043e\\u0436\\u043d\\u044b\\u0439\", \"\\u0430\\u043d\\u0430\\u043b\\u0438\\u0442\\u0438\\u043a\", \"\\u043c\\u0435\\u0441\\u044f\\u0446\", \"\\u0437\\u0430\\u0434\\u0430\\u0447\\u0430\", \"\\u0432\\u0435\\u0441\\u044c\", \"\\u0433\\u043e\\u0434\", \"\\u0440\\u0430\\u0431\\u043e\\u0442\\u0430\\u0442\\u044c\", \"\\u0445\\u043e\\u0440\\u043e\\u0448\\u0438\\u0439\", \"\\u043f\\u043e\\u0438\\u0441\\u043a\", \"\\u0438\\u043d\\u0442\\u0435\\u0440\\u0435\\u0441\\u043d\\u044b\\u0439\", \"\\u0434\\u0440\\u0443\\u0433\", \"\\u043a\\u043b\\u0438\\u0435\\u043d\\u0442\", \"\\u0440\\u0430\\u0431\\u043e\\u0442\\u0430\", \"\\u043a\\u043e\\u043c\\u043f\\u0430\\u043d\\u0438\\u044f\", \"\\u043f\\u0440\\u043e\\u0435\\u043a\\u0442\", \"\\u043e\\u043f\\u044b\\u0442\", \"\\u0434\\u0430\\u043d\\u043d\\u044b\\u0445\", \"\\u0440\\u0430\\u0437\\u0440\\u0430\\u0431\\u043e\\u0442\\u043a\\u0430\", \"\\u0438\\u0441\\u043a\\u0430\\u0442\\u044c\", \"\\u0440\\u0430\\u0437\\u0440\\u0430\\u0431\\u043e\\u0442\\u0447\\u0438\\u043a\", \"\\u043f\\u0440\\u0438\\u0432\\u0435\\u0442\", \"\\u0431\\u0438\\u0437\\u043d\\u0435\\u0441\", \"\\u043d\\u0430\\u0447\\u0438\\u043d\\u0430\\u0442\\u044c\", \"\\u043f\\u043e\\u043c\\u043e\\u0449\\u044c\", \"\\u0432\\u0430\\u043a\\u0430\\u043d\\u0441\\u0438\\u044f\", \"\\u0437\\u043d\\u0430\\u043d\\u0438\\u0435\", \"\\u0441\\u043f\\u0435\\u0446\\u0438\\u0430\\u043b\\u0438\\u0441\\u0442\", \"\\u043a\\u0430\\u0440\\u044c\\u0435\\u0440\\u043d\\u044b\\u0439\", \"\\u0440\\u0430\\u0437\\u0432\\u0438\\u0442\\u0438\\u0435\", \"\\u0441\\u0444\\u0435\\u0440\\u0430\", \"\\u0442\\u0435\\u0445\\u043d\\u043e\\u043b\\u043e\\u0433\\u0438\\u044f\", \"\\u0443\\u0434\\u043e\\u0432\\u043e\\u043b\\u044c\\u0441\\u0442\\u0432\\u0438\\u0435\", \"\\u043a\\u0440\\u0443\\u043f\\u043d\\u044b\\u0439\", \"\\u0440\\u0435\\u043a\\u043e\\u043c\\u0435\\u043d\\u0434\\u0430\\u0446\\u0438\\u044f\", \"\\u043f\\u0440\\u0438\\u043c\\u0435\\u0440\", \"\\u0434\\u043e\\u043b\\u0436\\u043d\\u043e\\u0441\\u0442\\u044c\", \"\\u043d\\u0430\\u043f\\u0440\\u0430\\u0432\\u043b\\u0435\\u043d\\u0438\\u0435\", \"\\u043e\\u0444\\u0438\\u0441\", \"\\u0437\\u0430\\u043f\\u0440\\u043e\\u0441\", \"\\u043f\\u043e\\u0434\\u0434\\u0435\\u0440\\u0436\\u043a\\u0430\", \"\\u043f\\u0443\\u0442\\u044c\", \"\\u0443\\u043f\\u0440\\u0430\\u0432\\u043b\\u0435\\u043d\\u0438\\u0435\", \"\\u043f\\u0440\\u043e\\u0431\\u043b\\u0435\\u043c\\u0430\", \"\\u043a\\u043e\\u043c\\u0430\\u043d\\u0434\\u0430\", \"\\u043e\\u0431\\u0443\\u0447\\u0435\\u043d\\u0438\\u0435\", \"\\u043f\\u0440\\u043e\\u0434\\u0443\\u043a\\u0442\", \"\\u0432\\u0441\\u0435\\u043c\", \"\\u0432\\u043e\\u0437\\u043c\\u043e\\u0436\\u043d\\u043e\\u0441\\u0442\\u044c\", \"\\u0440\\u0430\\u0431\\u043e\\u0442\\u0430\", \"\\u043d\\u043e\\u0432\\u044b\\u0439\", \"\\u0441\\u0438\\u0441\\u0442\\u0435\\u043c\\u0430\", \"\\u0443\\u0440\\u043e\\u0432\\u0435\\u043d\\u044c\", \"\\u0440\\u0435\\u0448\\u0435\\u043d\\u0438\\u0435\", \"\\u0442\\u0430\\u043a\\u0436\\u0435\", \"\\u043d\\u0430\\u0447\\u0430\\u0442\\u044c\", \"\\u043f\\u0440\\u0438\\u043b\\u043e\\u0436\\u0435\\u043d\\u0438\\u0435\", \"\\u043d\\u0435\\u0441\\u043a\\u043e\\u043b\\u044c\\u043a\\u043e\", \"\\u0440\\u0430\\u0437\\u043d\\u044b\\u0439\", \"\\u0441\\u0435\\u0433\\u043e\\u0434\\u043d\\u044f\", \"\\u0434\\u0443\\u043c\\u0430\\u0442\\u044c\", \"\\u0440\\u0430\\u0434\", \"\\u043f\\u043e\\u043b\\u044c\\u0437\\u043e\\u0432\\u0430\\u0442\\u0435\\u043b\\u044c\", \"\\u043d\\u0430\\u0445\\u043e\\u0434\\u0438\\u0442\\u044c\\u0441\\u044f\", \"\\u043d\\u0430\\u043f\\u0440\\u0438\\u043c\\u0435\\u0440\", \"\\u0433\\u043b\\u0430\\u0432\\u043d\\u044b\\u0439\", \"\\u043c\\u043e\\u0431\\u0438\\u043b\\u044c\\u043d\\u044b\\u0439\", \"\\u043f\\u0440\\u043e\\u0434\\u0430\\u0436\\u0430\", \"\\u0441\\u043e\\u0437\\u0434\\u0430\\u0442\\u044c\", \"\\u043f\\u043e\\u0441\\u043c\\u043e\\u0442\\u0440\\u0435\\u0442\\u044c\", \"\\u0441\\u0442\\u0440\\u0430\\u043d\\u0430\", \"\\u0432\\u0438\\u0434\\u0435\\u043e\", \"\\u0443\\u0434\\u043e\\u0431\\u043d\\u044b\\u0439\", \"\\u0442\\u0435\\u043a\\u0443\\u0449\\u0438\\u0439\", \"\\u043f\\u043e\\u0441\\u0442\\u043e\\u044f\\u043d\\u043d\\u043e\", \"\\u0432\\u043e\\u0437\\u043c\\u043e\\u0436\\u043d\\u044b\\u0439\", \"\\u043f\\u0440\\u0435\\u0434\\u0441\\u0442\\u0430\\u0432\\u0438\\u0442\\u044c\", \"\\u0438\\u043d\\u0442\\u0435\\u0440\\u043d\\u0435\\u0442\", \"\\u043e\\u0440\\u0433\\u0430\\u043d\\u0438\\u0437\\u0430\\u0446\\u0438\\u044f\", \"\\u0440\\u044f\\u0434\", \"\\u0443\\u0441\\u0442\\u0440\\u043e\\u0438\\u0442\\u044c\", \"\\u043f\\u0440\\u043e\\u0432\\u0435\\u0441\\u0442\\u0438\", \"\\u043a\\u0432\\u0430\\u0440\\u0442\\u0438\\u0440\\u0430\", \"\\u0442\\u043e\\u0432\\u0430\\u0440\", \"\\u0440\\u0435\\u0447\\u044c\", \"\\u0431\\u0435\\u0441\\u043f\\u043b\\u0430\\u0442\\u043d\\u044b\\u0439\", \"\\u0441\\u0434\\u0435\\u043b\\u0430\\u0442\\u044c\", \"\\u043d\\u0435\\u043e\\u0431\\u0445\\u043e\\u0434\\u0438\\u043c\\u044b\\u0439\", \"\\u0438\\u043c\\u0435\\u0442\\u044c\", \"\\u043c\\u0435\\u0441\\u0442\\u043e\", \"\\u0440\\u0430\\u0431\\u043e\\u0447\\u0438\\u0439\", \"\\u0436\\u0438\\u0437\\u043d\\u044c\", \"\\u043a\\u043e\\u043c\\u043c\\u0435\\u043d\\u0442\\u0430\\u0440\\u0438\\u0439\", \"\\u0441\\u0435\\u0440\\u0432\\u0438\\u0441\", \"\\u043f\\u043b\\u0430\\u0442\\u0444\\u043e\\u0440\\u043c\\u0430\", \"\\u043f\\u043e\\u043b\\u0443\\u0447\\u0438\\u0442\\u044c\", \"\\u043f\\u043e\\u043d\\u0438\\u043c\\u0430\\u0442\\u044c\", \"\\u043a\\u0430\\u0440\\u044c\\u0435\\u0440\\u0430\", \"\\u043f\\u043e\\u043c\\u043e\\u0433\\u0430\\u0442\\u044c\", \"\\u043e\\u043d\\u043b\\u0430\\u0439\\u043d\", \"\\u0436\\u0434\\u0430\\u0442\\u044c\", \"\\u043a\\u0430\\u0437\\u0430\\u0442\\u044c\\u0441\\u044f\", \"\\u0438\\u0434\\u0442\\u0438\", \"\\u043c\\u043d\\u0435\\u043d\\u0438\\u0435\", \"\\u0442\\u0435\\u0445\\u043d\\u0438\\u043a\\u0430\", \"\\u043f\\u0440\\u043e\\u0434\\u043e\\u043b\\u0436\\u0435\\u043d\\u0438\\u0435\", \"\\u043f\\u0440\\u0435\\u0434\\u044b\\u0434\\u0443\\u0449\\u0438\\u0439\", \"\\u0432\\u043e\\u043e\\u0431\\u0449\\u0435\", \"\\u0442\\u0440\\u0443\\u0434\", \"\\u0440\\u0443\\u043a\\u0430\", \"\\u0444\\u043e\\u0440\\u043c\\u0430\", \"\\u043f\\u0440\\u0435\\u0434\\u0441\\u0442\\u0430\\u0432\\u043b\\u044f\\u0442\\u044c\", \"\\u043f\\u0440\\u0438\\u043d\\u0446\\u0438\\u043f\", \"\\u043a\\u043e\\u0442\\u043e\\u0440\\u043e\\u043c\", \"\\u043c\\u0435\\u0440\\u043e\\u043f\\u0440\\u0438\\u044f\\u0442\\u0438\\u0435\", \"\\u0442\\u0435\\u043b\\u0435\\u0433\\u0440\\u0430\\u043c\", \"\\u0434\\u043e\\u0441\\u0442\\u0438\\u0433\\u043d\\u0443\\u0442\\u044c\", \"\\u0437\\u043d\\u0430\\u043a\\u043e\\u043c\\u044b\\u0439\", \"\\u043f\\u043e\\u0445\\u043e\\u0436\\u0438\\u0439\", \"\\u0434\\u043e\\u043c\", \"\\u0432\\u0435\\u0440\\u043d\\u0443\\u0442\\u044c\\u0441\\u044f\", \"\\u043f\\u043e\\u0432\\u044b\\u0441\\u0438\\u0442\\u044c\", \"\\u043f\\u0440\\u0435\\u0434\\u0441\\u0442\\u0430\\u0432\\u043b\\u0435\\u043d\\u0438\\u0435\", \"\\u0436\\u0435\\u043b\\u0430\\u0442\\u044c\", \"\\u0441\\u0442\\u0430\\u0432\\u0438\\u0442\\u044c\", \"\\u043e\\u0448\\u0438\\u0431\\u043a\\u0430\", \"\\u0441\\u043e\\u0432\\u0435\\u0442\", \"\\u0446\\u0435\\u043b\\u044c\", \"\\u0436\\u0438\\u0437\\u043d\\u044c\", \"\\u0438\\u043d\\u0436\\u0435\\u043d\\u0435\\u0440\", \"\\u043f\\u043e\\u0441\\u0442\", \"\\u0447\\u0430\\u0441\", \"\\u0440\\u044b\\u043d\\u043e\\u043a\", \"\\u043d\\u0435\\u043a\\u043e\\u0442\\u043e\\u0440\\u044b\\u0439\", \"\\u043f\\u0430\\u0440\\u0430\", \"\\u0444\\u043e\\u0440\\u043c\\u0430\\u0442\", \"\\u043f\\u0435\\u0440\\u0438\\u043e\\u0434\", \"\\u043f\\u043e\\u043b\\u0443\\u0447\\u0438\\u0442\\u044c\\u0441\\u044f\", \"\\u043a\\u043e\\u0442\\u043e\\u0440\\u044b\\u0445\", \"\\u0432\\u0437\\u044f\\u0442\\u044c\", \"\\u043e\\u0442\\u0432\\u0435\\u0442\\u0438\\u0442\\u044c\", \"\\u0441\\u0430\\u043c\\u043e\\u0435\", \"\\u0437\\u0430\\u0434\\u0430\\u043d\\u0438\\u0435\", \"\\u043f\\u043e\\u0434\\u043a\\u0430\\u0441\\u0442\", \"\\u0441\\u0443\\u0442\\u044c\", \"\\u043e\\u0431\\u0449\\u0435\\u043d\\u0438\\u0435\", \"\\u0431\\u044b\\u0432\\u0430\\u0442\\u044c\", \"\\u043d\\u0430\\u0434\\u0435\\u044f\\u0442\\u044c\\u0441\\u044f\", \"\\u043d\\u0430\\u0431\\u043e\\u0440\", \"\\u0445\\u043e\\u0442\\u044f\", \"\\u043f\\u043e\\u0440\\u0430\", \"\\u0441\\u0442\\u0430\\u043d\\u043e\\u0432\\u0438\\u0442\\u044c\\u0441\\u044f\", \"\\u043e\\u0442\\u043a\\u0440\\u044b\\u0442\\u044b\\u0439\", \"\\u043b\\u0441\", \"\\u0434\\u0430\\u0442\\u0430\", \"\\u0440\\u0435\\u0431\\u044f\\u0442\", \"\\u043e\\u043a\\u0442\\u044f\\u0431\\u0440\\u044c\", \"\\u043e\\u0442\\u0441\\u0443\\u0442\\u0441\\u0442\\u0432\\u0438\\u0435\", \"\\u0434\\u043e\\u043a\\u0443\\u043c\\u0435\\u043d\\u0442\", \"\\u043c\\u0430\\u0440\\u043a\\u0435\\u0442\\u0438\\u043d\\u0433\", \"\\u043e\\u0442\\u0432\\u0435\\u0442\", \"\\u0442\\u043e\\u043c\\u0443\", \"\\u0447\\u0438\\u0441\\u043b\\u043e\", \"\\u0434\\u0435\\u043b\\u043e\", \"\\u0441\\u043a\\u0430\\u0437\\u0430\\u0442\\u044c\", \"\\u0444\\u0443\\u043d\\u043a\\u0446\\u0438\\u044f\", \"\\u0443\\u0432\\u0438\\u0434\\u0435\\u0442\\u044c\", \"\\u0441\\u043b\\u0443\\u0447\\u0430\\u0439\", \"\\u043f\\u043e\\u043d\\u044f\\u0442\\u043d\\u044b\\u0439\", \"\\u0434\\u0435\\u0439\\u0441\\u0442\\u0432\\u0438\\u0442\\u0435\\u043b\\u044c\\u043d\\u043e\", \"\\u0442\\u0440\\u0435\\u043d\\u0438\\u0440\\u043e\\u0432\\u043a\\u0430\", \"\\u043a\\u0440\\u043e\\u043c\\u0435\", \"\\u043e\\u0442\\u043a\\u0430\\u0437\", \"\\u0441\\u043e\\u0431\\u0435\\u0441\", \"\\u0440\\u0435\\u043a\\u043b\\u0430\\u043c\\u0430\", \"\\u043f\\u0440\\u0438\\u0445\\u043e\\u0434\\u0438\\u0442\\u044c\\u0441\\u044f\", \"\\u0442\\u0435\\u043e\\u0440\\u0438\\u044f\", \"\\u043c\\u0430\\u043b\\u043e\", \"\\u043e\\u0447\\u0435\\u0440\\u0435\\u0434\\u043d\\u043e\\u0439\", \"\\u043f\\u043e\\u0442\\u043e\\u043a\", \"\\u0441\\u0430\\u043c\\u043e\\u043c\", \"\\u0434\\u0440\\u0443\\u0433\\u0438\\u043c\", \"\\u0437\\u0430\\u043d\\u044f\\u0442\\u0438\\u0435\", \"\\u0437\\u0430\\u043f\\u043e\\u043b\\u043d\\u0438\\u0442\\u044c\", \"\\u043a\\u043e\\u043c\\u043c\\u0435\\u0440\\u0447\\u0435\\u0441\\u043a\\u0438\\u0439\", \"\\u0437\\u0430\\u043f\\u0443\\u0441\\u0442\\u0438\\u0442\\u044c\", \"\\u0432\\u043c\\u0435\\u0441\\u0442\\u043e\", \"\\u0437\\u043d\\u0430\\u0447\\u0435\\u043d\\u0438\\u0435\", \"\\u0430\\u0433\\u0435\\u043d\\u0442\\u0441\\u0442\\u0432\\u043e\", \"\\u043f\\u043e\\u043c\\u043d\\u0438\\u0442\\u044c\", \"\\u043f\\u043e\\u043d\\u0440\\u0430\\u0432\\u0438\\u0442\\u044c\\u0441\\u044f\", \"\\u0431\\u0435\\u0441\\u043f\\u043b\\u0430\\u0442\\u043d\\u043e\", \"\\u0443\\u0441\\u0438\\u043b\\u0438\\u0435\", \"\\u0438\\u043d\\u0444\\u043e\\u0440\\u043c\\u0430\\u0446\\u0438\\u043e\\u043d\\u043d\\u044b\\u0439\", \"\\u043a\\u0443\\u0440\\u0441\", \"\\u043d\\u0438\\u0447\\u0442\\u043e\", \"\\u043a\\u043d\\u0438\\u0433\\u0430\", \"\\u0440\\u0430\\u0441\\u0441\\u043a\\u0430\\u0437\\u044b\\u0432\\u0430\\u0442\\u044c\", \"\\u0441\\u043c\\u043e\\u0442\\u0440\\u0435\\u0442\\u044c\", \"\\u0437\\u0440\\u0435\\u043d\\u0438\\u0435\", \"\\u043f\\u0440\\u0430\\u0432\\u0438\\u043b\\u044c\\u043d\\u044b\\u0439\", \"\\u043e\\u0441\\u043d\\u043e\\u0432\\u043d\\u043e\\u0439\", \"\\u043a\\u043e\\u043d\\u0441\\u0443\\u043b\\u044c\\u0442\\u0430\\u0446\\u0438\\u044f\", \"\\u0430\\u0432\\u0442\\u043e\\u0440\", \"\\u043e\\u0431\\u044f\\u0437\\u0430\\u0442\\u0435\\u043b\\u044c\\u043d\\u043e\", \"\\u043f\\u043e\\u0434\\u0440\\u043e\\u0431\\u043d\\u043e\", \"\\u0440\\u0430\\u0437\\u043e\\u0431\\u0440\\u0430\\u0442\\u044c\", \"\\u043e\\u043f\\u0438\\u0441\\u0430\\u0442\\u044c\", \"\\u0432\\u0438\\u043b\\u043a\\u0430\", \"\\u0441\\u043f\\u0438\\u043a\\u0435\\u0440\", \"\\u0441\\u043e\\u0442\\u043d\\u044f\", \"\\u043a\\u043e\\u043d\\u043a\\u0443\\u0440\\u0441\", \"\\u0432\\u043e\\u0441\\u043f\\u0440\\u0438\\u044f\\u0442\\u0438\\u0435\", \"\\u0437\\u0432\\u043e\\u043d\\u043e\\u043a\", \"\\u0441\\u043b\\u0443\\u0448\\u0430\\u0442\\u044c\", \"\\u0432\\u044b\\u043f\\u0443\\u0441\\u043a\", \"\\u0438\\u044e\\u043d\\u044c\", \"\\u043e\\u0440\\u0433\\u0430\\u043d\\u0438\\u0437\\u043e\\u0432\\u0430\\u0442\\u044c\", \"\\u0440\\u0435\\u0433\\u0443\\u043b\\u044f\\u0440\\u043d\\u044b\\u0439\", \"\\u0438\\u0437\\u043c\\u0435\\u043d\\u0438\\u0442\\u044c\\u0441\\u044f\", \"\\u043b\\u0430\\u0439\\u0444\\u0445\\u0430\\u043a\", \"\\u0431\\u043e\\u0440\\u043e\\u0442\\u044c\\u0441\\u044f\", \"\\u043f\\u043e\\u0434\\u0441\\u043a\\u0430\\u0437\\u044b\\u0432\\u0430\\u0442\\u044c\", \"\\u0441\\u043d\\u0433\", \"\\u0442\\u0430\\u0439\\u043c\", \"\\u0443\\u0433\\u0440\\u043e\\u0437\\u0430\", \"\\u0432\\u0441\\u0442\\u0440\\u0435\\u0447\\u0430\", \"\\u0432\\u043d\\u0438\\u043c\\u0430\\u043d\\u0438\\u0435\", \"\\u043f\\u043e\\u0437\\u0432\\u043e\\u043b\\u044f\\u0442\\u044c\", \"\\u0438\\u043d\\u0441\\u0442\\u0440\\u0443\\u043c\\u0435\\u043d\\u0442\", \"\\u044d\\u0442\\u0430\\u043f\", \"\\u0438\\u043d\\u0442\\u0435\\u0440\\u0435\\u0441\", \"\\u0440\\u0430\\u0431\\u043e\\u0442\\u043e\\u0434\\u0430\\u0442\\u0435\\u043b\\u044c\", \"\\u043f\\u043e\\u044f\\u0432\\u0438\\u0442\\u044c\\u0441\\u044f\", \"\\u043c\\u0430\\u043b\\u044b\\u0439\", \"\\u0448\\u0430\\u043d\\u0441\", \"\\u0440\\u0430\\u0441\\u0441\\u043c\\u0430\\u0442\\u0440\\u0438\\u0432\\u0430\\u0442\\u044c\", \"\\u043d\\u0430\\u0432\\u0435\\u0440\\u043d\\u043e\\u0435\", \"\\u043c\\u0430\\u0448\\u0438\\u043d\\u043d\\u044b\\u0439\", \"\\u043b\\u0435\\u0433\\u043a\\u043e\", \"\\u043f\\u0440\\u043e\\u0434\\u0430\\u0432\\u0435\\u0446\", \"\\u043c\\u0435\\u043d\\u044f\\u0442\\u044c\\u0441\\u044f\", \"\\u0432\\u044b\\u0441\\u0442\\u0443\\u043f\\u043b\\u0435\\u043d\\u0438\\u0435\", \"\\u043d\\u0430\\u0443\\u0447\\u0438\\u0442\\u044c\", \"\\u043e\\u0431\\u0440\\u0430\\u0442\\u0438\\u0442\\u044c\", \"\\u0441\\u043f\\u0435\\u0446\\u0438\\u0430\\u043b\\u044c\\u043d\\u044b\\u0439\", \"\\u0441\\u0442\\u043e\\u044f\\u0442\\u044c\", \"\\u0441\\u043e\\u0438\\u0441\\u043a\\u0430\\u0442\\u0435\\u043b\\u044c\", \"\\u043a\\u0438\\u0442\\u0430\\u0439\", \"\\u0437\\u0430\\u0440\\u0430\\u0431\\u043e\\u0442\\u0430\\u0442\\u044c\", \"\\u0438\\u0441\\u043a\\u0440\\u0435\\u043d\\u043d\\u0435\", \"\\u043a\\u0440\\u0438\\u0437\\u0438\\u0441\", \"\\u043f\\u0440\\u043e\\u044f\\u0432\\u0438\\u0442\\u044c\", \"\\u043f\\u043e\\u043a\\u0443\\u043f\\u0430\\u0442\\u0435\\u043b\\u044c\", \"\\u0441\\u043f\\u0435\\u0446\", \"\\u0430\\u0432\\u0442\\u043e\\u043c\\u043e\\u0431\\u0438\\u043b\\u044c\", \"\\u043a\\u0430\\u0434\\u0440\\u043e\\u0432\\u044b\\u0439\", \"\\u043d\\u0430\\u0432\\u044b\\u043a\", \"\\u0442\\u0435\\u0441\\u0442\", \"\\u043f\\u0440\\u043e\\u0444\\u0438\\u043b\\u044c\", \"\\u043f\\u0440\\u043e\\u0432\\u0435\\u0440\\u043a\\u0430\", \"\\u0441\\u0442\\u0440\\u0430\\u0442\\u0435\\u0433\\u0438\\u044f\", \"\\u0437\\u043d\\u0430\\u0447\\u043e\\u043a\", \"\\u0430\\u0439\\u0442\\u0438\", \"\\u043a\\u043e\\u043c\\u043c\\u0443\\u043d\\u0438\\u043a\\u0430\\u0446\\u0438\\u044f\", \"\\u0442\\u043e\\u043f\", \"\\u0444\\u0440\\u043e\\u043d\\u0442\\u0435\\u043d\\u0434\", \"\\u0434\\u0430\\u043b\\u044c\\u043d\\u0435\\u0439\\u0448\\u0438\\u0439\", \"\\u0438\\u043c\\u044f\", \"\\u043e\\u0444\\u0438\\u0446\\u0438\\u0430\\u043b\\u044c\\u043d\\u044b\\u0439\", \"\\u043d\\u0430\\u043f\\u0440\\u044f\\u043c\\u0443\\u044e\", \"\\u043a\\u043b\\u0443\\u0431\", \"\\u043c\\u0435\\u0441\\u0441\\u0435\\u043d\\u0434\\u0436\\u0435\\u0440\", \"\\u0430\\u0434\\u0430\\u043f\\u0442\\u0438\\u0432\\u043d\\u044b\\u0439\", \"\\u043f\\u0440\\u0438\\u043e\\u0431\\u0440\\u0435\\u0441\\u0442\\u0438\", \"\\u043f\\u0440\\u043e\\u0434\\u0430\\u043a\\u0442\\u0430\", \"\\u0443\\u043a\\u0430\\u0437\\u0430\\u043d\\u0438\\u0435\", \"\\u0441\\u043e\\u0433\\u043b\\u0430\\u0441\\u0438\\u0435\", \"\\u0431\\u0443\\u043c\\u0430\\u0436\\u043d\\u044b\\u0439\", \"\\u0448\\u043a\\u0430\\u043b\\u0430\", \"\\u0442\\u043e\\u043a\\u0441\\u0438\\u0447\\u043d\\u0438\\u043c\", \"\\u0440\\u0443\\u0447\\u043a\\u0430\", \"\\u0430\\u0440\\u043c\\u0438\\u044f\", \"\\u0438\\u0441\\u0445\\u043e\\u0434\\u043d\\u044b\\u0439\", \"\\u0430\\u0432\\u0442\\u043e\\u043c\\u0430\\u0442\\u0438\\u0447\\u0435\\u0441\\u043a\\u0438\\u0439\", \"\\u043c\\u0443\\u0441\\u043e\\u0440\", \"\\u0431\\u0443\\u0432\", \"\\u043f\\u0440\\u0435\\u0434\\u043f\\u0440\\u0438\\u043d\\u0438\\u043c\\u0430\\u0442\\u044c\", \"\\u0441\\u043b\\u0435\\u0434\\u0443\\u044e\\u0449\\u0438\\u0439\", \"\\u043f\\u0440\\u043e\\u0439\\u0442\\u0438\", \"\\u0432\\u043e\\u0435\\u043d\\u043d\\u044b\\u0439\", \"\\u043b\\u0438\\u0431\\u043e\", \"\\u0434\\u0430\\u043d\\u043d\\u044b\\u0435\", \"\\u0437\", \"\\u043c\\u0430\\u0442\\u0435\\u0440\\u0438\\u0430\\u043b\", \"\\u0443\\u0441\\u043f\\u0435\\u0445\", \"\\u043a\\u043e\\u0442\\u043e\\u0440\\u043e\\u0439\", \"\\u0438\\u0442\\u043e\\u0433\", \"\\u0438\\u0437\\u043c\\u0435\\u043d\\u0435\\u043d\\u0438\\u0435\", \"\\u0434\\u0435\\u0439\\u0441\\u0442\\u0432\\u0438\\u0435\", \"\\u043f\\u043e\\u0447\\u0438\\u0442\\u0430\\u0442\\u044c\", \"\\u043f\\u043b\\u043e\\u0445\\u043e\\u0439\", \"\\u043f\\u043b\\u043e\\u0449\\u0430\\u0434\\u043a\\u0430\", \"\\u044d\\u0444\\u0444\\u0435\\u043a\\u0442\\u0438\\u0432\\u043d\\u043e\\u0441\\u0442\\u044c\", \"\\u043f\\u0435\\u0440\\u0435\\u0445\\u043e\\u0434\", \"\\u0442\\u0435\\u043b\\u0435\\u0433\\u0440\\u0430\\u043c\\u043c\", \"\\u043d\\u0430\\u043f\\u0438\\u0448\\u0438\", \"\\u043f\\u043b\\u0430\\u0442\\u043d\\u044b\\u0439\", \"\\u0447\\u0435\\u0441\\u0442\\u043d\\u043e\\u0439\", \"\\u0440\\u0438\\u0441\\u043e\\u0432\\u0430\\u0442\\u044c\", \"\\u0434\\u043b\\u0438\\u0442\\u0435\\u043b\\u044c\\u043d\\u044b\\u0439\", \"\\u043e\\u0431\\u0443\\u0447\\u0430\\u0442\\u044c\", \"\\u0438\\u043b\\u043b\\u044e\\u0441\\u0442\\u0440\\u0430\\u0446\\u0438\\u044f\", \"\\u0432\\u044b\\u0433\\u043e\\u0434\\u043d\\u044b\\u0439\", \"\\u0440\\u0430\\u0441\\u043f\\u0440\\u0435\\u0434\\u0435\\u043b\\u0435\\u043d\\u0438\\u0435\", \"\\u0442\\u0440\\u0435\\u043a\\u0438\\u043d\\u0433\", \"\\u0438\\u043b\\u043b\\u044e\\u0441\\u0442\\u0440\\u0430\\u0442\\u043e\\u0440\", \"\\u0437\\u0430\\u043b\\u0435\\u0442\\u0430\\u0442\\u044c\", \"\\u043d\\u0430\\u0440\\u043e\\u0434\", \"\\u0432\\u0438\\u043d\\u043e\\u0432\\u0430\\u0442\\u044b\\u0439\", \"\\u0441\\u0442\\u0435\\u043f\\u0435\\u043d\\u044c\", \"\\u0432\\u044b\\u0432\\u043e\\u0434\", \"\\u0441\\u0435\\u043c\\u0438\\u043d\\u0430\\u0440\", \"\\u0438\\u0437\\u043c\\u0435\\u0440\\u0438\\u0442\\u044c\", \"\\u043a\\u0443\\u0440\\u0438\\u0442\\u044c\", \"\\u043f\\u0441\\u0438\\u0445\\u043e\\u043b\\u043e\\u0433\\u0438\\u0447\\u0435\\u0441\\u043a\\u0438\\u0439\", \"\\u0432\\u044b\\u0431\\u043e\\u0440\", \"\\u043f\\u0441\\u0438\\u0445\\u043e\\u043b\\u043e\\u0433\", \"\\u043b\\u0438\\u0431\\u043e\", \"\\u043c\\u0438\\u0440\", \"\\u0438\\u043d\\u0441\\u0442\\u0440\\u0443\\u043c\\u0435\\u043d\\u0442\", \"\\u0438\\u0431\", \"\\u0441\\u043e\\u043e\\u0431\\u0449\\u0435\\u0441\\u0442\\u0432\\u043e\", \"\\u043e\\u0441\\u0442\\u0430\\u0442\\u044c\\u0441\\u044f\", \"\\u0434\\u043e\\u043b\\u0433\\u0438\\u0439\", \"\\u0446\\u0435\\u043d\\u043d\\u044b\\u0439\", \"\\u0434\\u0440\\u0443\\u0433\\u0438\\u043c\\u0438\", \"\\u043b\\u0438\\u0447\\u043d\\u043e\", \"\\u0438\\u0441\\u043f\\u043e\\u043b\\u044c\\u0437\\u043e\\u0432\\u0430\\u0442\\u044c\\u0441\\u044f\", \"\\u0438\\u043d\\u0442\\u0435\\u0440\\u0435\\u0441\\u043e\\u0432\\u0430\\u0442\\u044c\", \"\\u0443\\u0441\\u043b\\u044b\\u0448\\u0430\\u0442\\u044c\", \"\\u043e\\u0431\\u043b\\u0430\\u0434\\u0430\\u0442\\u044c\", \"\\u043e\\u0431\\u0441\\u0443\\u0436\\u0434\\u0435\\u043d\\u0438\\u0435\", \"\\u0438\\u0441\\u043f\\u043e\\u043b\\u043d\\u0438\\u0442\\u0435\\u043b\\u044c\", \"\\u0441\\u0435\\u0437\\u043e\\u043d\", \"\\u0434\\u043e\\u043a\\u043b\\u0430\\u0434\", \"\\u0432\\u0437\\u0430\\u0438\\u043c\\u043e\\u0434\\u0435\\u0439\\u0441\\u0442\\u0432\\u043e\\u0432\\u0430\\u0442\\u044c\", \"\\u0438\\u043d\\u0446\\u0438\\u0434\\u0435\\u043d\\u0442\", \"\\u0441\\u043e\\u0432\\u043c\\u0435\\u0441\\u0442\\u043d\\u043e\", \"\\u0430\\u043d\\u043e\\u043d\\u0441\", \"\\u043d\\u0435\\u043f\\u043b\\u043e\\u0445\\u043e\\u0439\", \"\\u043e\\u0442\\u043d\\u043e\\u0441\\u0438\\u0442\\u0435\\u043b\\u044c\\u043d\\u043e\", \"\\u043e\\u0440\\u0433\\u0430\\u043d\\u0438\\u0437\\u0430\\u0442\\u043e\\u0440\", \"\\u0432\\u0438\\u0434\\u0435\\u043d\\u0438\\u0435\", \"\\u043f\\u043b\\u0438\\u0437\", \"\\u0442\\u043e\\u0432\\u0430\\u0440\\u0438\\u0449\", \"\\u043e\\u0431\\u043c\\u0435\\u043d\\u044f\\u0442\\u044c\\u0441\\u044f\", \"\\u043f\\u0443\\u043b\", \"\\u043a\\u0438\\u0431\\u0435\\u0440\\u0431\\u0435\\u0437\\u043e\\u043f\\u0430\\u0441\\u043d\\u043e\\u0441\\u0442\\u044c\", \"\\u0438\\u043d\\u0444\\u043e\\u0431\\u0435\\u0437\", \"\\u0442\\u0440\\u0435\\u0443\\u0433\\u043e\\u043b\\u044c\\u043d\\u0438\\u043a\", \"\\u0438\\u043d\\u0444\\u043e\\u0440\\u043c\\u0430\\u0446\\u0438\\u043e\\u043d\\u043d\\u044b\\u0439\", \"\\u0431\\u0435\\u0437\\u043e\\u043f\\u0430\\u0441\\u043d\\u043e\\u0441\\u0442\\u044c\", \"\\u044f\\u0437\\u044b\\u043a\", \"\\u0430\\u043d\\u0433\\u043b\\u0438\\u0439\\u0441\\u043a\\u0438\\u0439\", \"\\u0442\\u0440\\u0435\\u0431\\u043e\\u0432\\u0430\\u043d\\u0438\\u0435\", \"\\u043a\\u0430\\u0437\\u0430\\u0445\\u0441\\u0442\\u0430\\u043d\", \"\\u043f\\u0441\\u0438\\u0445\\u043e\\u043b\\u043e\\u0433\\u0438\\u044f\", \"\\u043e\\u0442\\u043a\\u043b\\u0438\\u043a\", \"\\u0430\\u0440\\u0435\\u043d\\u0434\\u0430\", \"\\u0441\\u0440\\u0435\\u0434\\u0430\", \"\\u043d\\u0430\\u0437\\u044b\\u0432\\u0430\\u0442\\u044c\", \"\\u043f\\u0440\\u0435\\u0434\\u0441\\u0442\\u0430\\u0432\\u0438\\u0442\\u0435\\u043b\\u044c\", \"\\u043a\\u043e\\u043c\\u0444\\u043e\\u0440\\u0442\", \"\\u0447\\u0443\\u0434\\u043e\", \"\\u043f\\u043e\\u043b\\u0438\\u0442\\u0438\\u043a\\u0430\", \"\\u0430\\u0434\\u0430\\u043f\\u0442\\u0430\\u0446\\u0438\\u044f\", \"\\u043e\\u0442\\u043a\\u043b\\u0438\\u043a\\u0430\\u0442\\u044c\\u0441\\u044f\", \"\\u0441\\u043c\\u0435\\u0436\\u043d\\u044b\\u0439\", \"\\u043f\\u0440\\u043e\\u0431\\u043b\\u0435\\u043c\\u043d\\u044b\\u0439\", \"\\u0444\\u0438\\u0447\\u0438\", \"\\u0430\\u0434\\u043c\\u0438\\u043d\\u0438\\u0441\\u0442\\u0440\\u0430\\u0442\\u043e\\u0440\", \"\\u0434\\u0435\\u0442\\u0430\\u043b\\u044c\\u043d\\u044b\\u0439\", \"\\u0432\\u0447\\u0435\\u0440\\u0430\\u0448\\u043d\\u0438\\u0439\", \"\\u0432\\u044b\\u0440\\u0430\\u0431\\u043e\\u0442\\u043a\\u0430\", \"\\u0431\\u043b\\u0430\\u0433\\u043e\\u043f\\u043e\\u043b\\u0443\\u0447\\u0438\\u0435\", \"\\u0438\\u043d\\u0442\\u0435\\u0433\\u0440\\u0430\\u0446\\u0438\\u043e\\u043d\\u043d\\u044b\\u0439\", \"\\u0440\\u0430\\u0441\\u043f\\u0440\\u0435\\u0434\\u0435\\u043b\\u044f\\u0442\\u044c\", \"\\u0438\\u0441\\u043f\\u0430\\u043d\\u0441\\u043a\\u0438\\u0439\", \"\\u043d\\u043e\\u0441\\u0438\\u0442\\u0435\\u043b\\u044c\", \"\\u0445\\u043e\\u0441\\u0435\", \"\\u0443\\u0447\\u0438\\u0442\\u0435\\u043b\\u044c\", \"\\u0440\\u0443\\u0441\\u0441\\u043a\\u0438\\u0439\", \"\\u043b\\u0438\\u0431\\u043e\", \"\\u0442\\u0435\\u0441\\u0442\\u0438\\u0440\\u043e\\u0432\\u0430\\u043d\\u0438\\u0435\", \"\\u0438\\u043d\\u0442\\u0435\\u0440\\u0444\\u0435\\u0439\\u0441\", \"\\u043d\\u0438\\u043a\\u0442\\u043e\", \"\\u0441\\u0442\\u0440\\u0430\\u043d\\u0438\\u0446\\u0430\", \"\\u0440\\u0430\\u0434\\u043e\\u0441\\u0442\\u044c\", \"\\u043c\\u0430\\u0439\", \"\\u0446\\u0438\\u0444\\u0440\\u043e\\u0432\\u043e\\u0439\", \"\\u043f\\u043e\\u043b\\u044c\\u0437\\u043e\\u0432\\u0430\\u0442\\u0435\\u043b\\u044c\\u0441\\u043a\\u0438\\u0439\", \"\\u043e\\u043a\\u0430\\u0437\\u044b\\u0432\\u0430\\u0442\\u044c\", \"\\u043d\\u0430\\u0443\\u043a\\u0430\", \"\\u043f\\u0440\\u043e\\u0441\\u043c\\u043e\\u0442\\u0440\\u0435\\u0442\\u044c\", \"\\u0441\\u043f\\u0435\\u0446\\u0438\\u0430\\u043b\\u044c\\u043d\\u043e\\u0441\\u0442\\u044c\", \"\\u0443\\u0441\\u043b\\u0443\\u0433\\u0438\", \"\\u043b\\u043e\\u0433\\u0438\\u043a\\u0430\", \"\\u0441\\u0442\\u0440\\u0430\\u0448\\u043d\\u044b\\u0439\", \"\\u0434\\u0438\\u043f\\u043b\\u043e\\u043c\", \"\\u0441\\u043c\\u043e\\u0436\\u0435\\u0448\\u044c\", \"\\u043f\\u043e\\u0437\\u0434\\u0440\\u0430\\u0432\\u043b\\u044f\\u0442\\u044c\", \"\\u043c\\u043e\\u043d\\u043e\\u043b\\u0438\\u0442\", \"\\u043f\\u0440\\u043e\\u0434\\u0432\\u0438\\u043d\\u0443\\u0442\\u044c\\u0441\\u044f\", \"\\u043c\\u0438\\u043a\\u0440\\u043e\\u0441\\u0435\\u0440\\u0432\\u0438\\u0441\\u044b\", \"\\u043f\\u043e\\u0437\\u0434\\u0440\\u0430\\u0432\\u0438\\u0442\\u044c\", \"\\u043f\\u0440\\u043e\\u0435\\u043a\\u0442\\u0438\\u0440\\u043e\\u0432\\u0430\\u043d\\u0438\\u0435\", \"\\u0443\\u0441\\u043b\\u0443\\u0433\\u0430\", \"\\u0432\\u0435\\u0431\", \"\\u043a\\u043e\\u043d\\u0441\\u0430\\u043b\\u0442\\u0438\\u043d\\u0433\", \"\\u0431\\u0443\\u0444\\u0435\\u0440\", \"\\u043e\\u0431\\u043b\\u0430\\u0447\\u043d\\u044b\\u0439\", \"\\u0438\\u043d\\u0436\\u0435\\u043d\\u0435\\u0440\\u043d\\u044b\\u0439\", \"\\u0441\\u043e\\u0441\\u0442\\u0430\\u0432\\u043b\\u0435\\u043d\\u0438\\u0435\", \"\\u0434\\u043e\\u043a\\u0443\\u043c\\u0435\\u043d\\u0442\\u0430\\u0446\\u0438\\u044f\", \"\\u0441\\u043e\\u043e\\u0431\\u0449\\u0430\\u0442\\u044c\", \"\\u0434\\u043e\\u0431\\u0430\\u0432\\u0438\\u0442\\u044c\", \"\\u0441\\u0442\\u0443\\u0434\\u0435\\u043d\\u0442\", \"\\u0432\\u0438\\u0434\", \"\\u0440\\u0430\\u0437\\u0440\\u0430\\u0431\\u043e\\u0442\\u043a\\u0430\", \"\\u043a\\u043e\\u043d\\u0442\\u0430\\u043a\\u0442\", \"\\u0432\\u0442\\u043e\\u0440\\u043e\\u0439\", \"\\u043f\\u0440\\u0435\\u0434\\u043b\\u043e\\u0436\\u0438\\u0442\\u044c\", \"\\u0437\\u0430\\u0440\\u0430\\u043d\\u0435\\u0435\", \"\\u0431\\u043b\\u0430\\u0433\\u043e\\u0434\\u0430\\u0440\\u0438\\u0442\\u044c\", \"\\u0440\\u0430\\u0437\\u0431\\u0438\\u0440\\u0430\\u0442\\u044c\\u0441\\u044f\", \"\\u0441\\u043a\\u043e\\u0440\\u043e\", \"\\u0437\\u0434\\u0440\\u0430\\u0432\\u0441\\u0442\\u0432\\u043e\\u0432\\u0430\\u0442\\u044c\", \"\\u0440\\u0435\\u043f\\u043e\\u0441\\u0442\\u0430\\u043c\", \"\\u0437\\u0430\\u0434\\u0430\\u0447\\u043a\\u0430\", \"\\u043e\\u0434\\u043d\\u043e\", \"\\u0442\\u0435\\u043b\\u043e\", \"\\u0437\\u0430\\u043d\\u044f\\u0442\\u044c\\u0441\\u044f\", \"\\u0434\\u043b\\u0438\\u043d\\u043d\\u044b\\u0439\", \"\\u043f\\u0430\\u0447\\u043a\\u0430\", \"\\u0437\\u0434\\u043e\\u0440\\u043e\\u0432\\u043e\", \"\\u0440\\u0430\\u0437\\u043d\\u043e\\u043e\\u0431\\u0440\\u0430\\u0437\\u043d\\u044b\\u0439\", \"\\u043e\\u0431\\u044a\\u044f\\u0432\\u043b\\u0435\\u043d\\u0438\\u0435\", \"\\u043f\\u043e\\u0434\\u043f\\u0438\\u0448\\u0438\\u0442\\u0435\\u0441\\u044c\", \"\\u043f\\u0440\\u043e\\u0448\\u043b\\u043e\\u0435\", \"\\u0431\\u0438\\u0437\\u043d\\u0435\\u0441\\u043c\\u0435\\u043d\", \"\\u043b\\u0430\\u0439\\u043a\\u0430\\u0439\\u0442\\u0435\", \"\\u043d\\u0441\\u043f\\u043a\", \"\\u0441\\u043e\\u0432\\u0435\\u0442\", \"\\u0434\\u0430\\u043d\\u043d\\u044b\\u0439\", \"\\u043f\\u0440\\u0438\\u0437\\u043d\\u0430\\u0442\\u0435\\u043b\\u0435\\u043d\", \"\\u043c\\u0430\\u0433\\u0438\\u044f\", \"\\u043f\\u0440\\u0438\\u0437\\u043d\\u0430\\u0442\\u0435\\u043b\\u044c\\u043d\\u044b\\u0439\", \"\\u0444\\u0430\\u0437\\u0430\", \"\\u0433\\u0430\\u0443\\u0445\\u0430\\u0440\", \"\\u0441\\u043e\\u043d\", \"\\u0432\\u0438\\u043d\\u043e\\u0432\\u0430\\u0442\\u044b\\u0439\", \"\\u043b\\u0438\\u0431\\u043e\", \"\\u043c\\u0438\\u0440\", \"\\u0440\\u0435\\u043a\\u043e\\u043c\\u0435\\u043d\\u0434\\u0430\\u0446\\u0438\\u044f\", \"\\u043a\\u0430\\u0440\\u044c\\u0435\\u0440\\u043d\\u044b\\u0439\", \"\\u0434\\u0430\\u0432\\u043d\\u043e\", \"\\u044f\\u043d\\u0434\\u0435\\u043a\\u0441\", \"\\u0441\\u0447\\u0430\\u0441\\u0442\\u043b\\u0438\\u0432\\u044b\\u0439\", \"\\u0441\\u0442\\u0430\\u0436\\u0438\\u0440\\u043e\\u0432\\u043a\\u0430\", \"\\u043f\\u0435\\u0440\\u0435\\u0439\\u0442\\u0438\", \"\\u043d\\u0435\\u043c\", \"\\u0437\\u0430\\u0449\\u0438\\u0442\\u0430\", \"\\u043d\\u0438\\u043c\\u0438\", \"\\u043d\\u0435\\u0434\\u0432\\u0438\\u0436\\u0438\\u043c\\u043e\\u0441\\u0442\\u044c\", \"\\u0436\\u0438\\u0432\\u043e\\u0439\", \"\\u043f\\u043e\\u0434\\u0434\\u0435\\u0440\\u0436\\u0430\\u0442\\u044c\", \"\\u0438\\u043d\\u0432\\u0435\\u0441\\u0442\\u043e\\u0440\", \"\\u043f\\u043e\\u0441\\u043e\\u0432\\u0435\\u0442\\u043e\\u0432\\u0430\\u0442\\u044c\", \"\\u0440\\u0435\\u043a\\u0440\\u0443\\u0442\\u0438\\u043d\\u0433\", \"\\u043f\\u043e\\u043b\\u044c\\u0448\\u0430\", \"\\u0431\\u043b\\u043e\\u0433\\u0435\\u0440\", \"\\u0434\\u0432\\u0435\\u0440\\u044c\", \"\\u043f\\u0430\\u043d\\u0434\\u0435\\u043c\\u0438\\u044f\", \"\\u043c\\u0438\\u0445\\u0430\\u0438\\u043b\", \"\\u0442\\u0435\\u043b\\u0435\\u0433\\u0440\\u0430\\u043c\\u043c\\u0430\", \"\\u043f\\u0435\\u0442\\u0435\\u0440\\u0431\\u0443\\u0440\\u0433\", \"\\u0434\\u0435\\u043d\\u0435\\u0436\\u043d\\u044b\\u0439\", \"\\u0440\\u0435\\u043f\\u043e\\u0441\\u0442\\u043e\\u043c\", \"\\u0432\\u043e\\u0437\\u043d\\u0430\\u0433\\u0440\\u0430\\u0436\\u0434\\u0435\\u043d\\u0438\\u0435\", \"\\u043e\\u0442\\u043a\\u043b\\u0438\\u043a\\u0430\\u0439\\u0442\\u0435\\u0441\\u044c\", \"\\u0440\\u0435\\u043b\\u043e\\u043a\\u0430\\u0446\\u0438\\u0435\\u0439\", \"\\u0448\\u0435\\u0441\\u0442\\u044c\", \"\\u044d\\u0442\\u0430\\u0436\", \"\\u0442\\u0440\\u0435\\u043f\\u0435\\u0442\", \"\\u0440\\u0435\\u043a\\u0440\\u0443\\u0442\\u0435\\u0440\\u043e\\u0432\", \"\\u043f\\u0440\\u043e\\u0432\\u043e\\u0434\\u0438\\u0442\\u044c\", \"\\u043f\\u043e\\u043f\\u0430\\u0441\\u0442\\u044c\", \"\\u043a\\u0441\\u0442\\u0430\\u0442\\u0438\", \"\\u043f\\u043e\\u043f\\u0440\\u043e\\u0431\\u043e\\u0432\\u0430\\u0442\\u044c\", \"\\u0440\\u0430\\u0437\\u043e\\u0431\\u0440\\u0430\\u0442\\u044c\\u0441\\u044f\", \"\\u0440\\u043e\\u0441\\u0441\\u0438\\u0439\\u0441\\u043a\\u0438\\u0439\", \"\\u043d\\u0430\\u0441\\u043a\\u043e\\u043b\\u044c\\u043a\\u043e\", \"\\u043f\\u0440\\u043e\\u0431\\u043e\\u0432\\u0430\\u0442\\u044c\", \"\\u0442\\u0443\\u0434\\u0430\", \"\\u0441\\u043e\\u0446\\u0441\\u0435\\u0442\\u044c\", \"\\u0441\\u043e\\u0444\\u0442\", \"\\u0437\\u0430\\u0439\\u0442\\u0438\", \"\\u0444\\u0440\\u043e\\u043d\\u0442\", \"\\u0432\\u043a\\u043e\\u043d\\u0442\\u0430\\u043a\\u0442\\u0435\", \"\\u0430\\u0440\\u0445\\u0438\\u0442\\u0435\\u043a\\u0442\\u043e\\u0440\", \"\\u0430\\u043a\\u0441\\u0435\\u043b\\u0435\\u0440\\u0430\\u0442\\u043e\\u0440\", \"\\u043f\\u0440\\u0438\\u043a\\u0440\\u0443\\u0442\\u0438\\u0442\\u044c\", \"\\u0430\\u0440\\u043c\\u0438\\u044f\", \"\\u043f\\u0438\\u0442\\u043e\\u043d\", \"\\u0433\\u043e\\u0448\\u043a\\u0438\", \"\\u0432\\u043e\\u0435\\u043d\\u043d\\u044b\\u0439\", \"\\u043c\\u0435\\u0442\\u0430\\u0444\\u043e\\u0440\\u0430\", \"\\u043a\\u043d\\u043e\\u043f\\u043e\\u0447\\u043a\\u0430\", \"\\u0430\\u043d\\u0438\\u043c\\u0430\\u0446\\u0438\\u0438\", \"\\u043a\\u043f\\u0434\", \"\\u043a\\u043e\\u043c\\u043f\\u043b\\u0435\\u043a\\u0441\", \"\\u043c\\u0430\\u0441\\u043a\", \"\\u0440\\u0435\\u0433\\u0443\\u043b\\u044f\\u0442\\u043e\\u0440\", \"\\u0436\\u0430\\u043b\\u0435\\u0442\\u044c\", \"\\u0436\\u043a\", \"\\u0437\\u0430\\u043a\\u043e\\u043d\\u0447\\u0438\\u0442\\u044c\\u0441\\u044f\", \"\\u0441\\u043b\\u044b\\u0448\\u0430\\u0442\\u044c\", \"\\u043b\\u0435\\u0441\", \"\\u043a\\u0440\\u0430\\u0441\\u0438\\u0432\\u044b\\u0439\", \"\\u043f\\u0440\\u0438\\u0440\\u043e\\u0434\\u0430\", \"\\u043f\\u0440\\u0438\\u0439\\u0442\\u0438\\u0441\\u044c\", \"\\u0443\\u0439\\u0442\\u0438\", \"\\u0432\\u044b\\u0431\\u043e\\u0440\", \"\\u043b\\u0438\\u0431\\u043e\", \"\\u043d\\u0430\\u0437\\u0432\\u0430\\u043d\\u0438\\u0435\", \"\\u0438\\u043d\\u0442\\u0435\\u0433\\u0440\\u0430\\u0446\\u0438\\u044f\", \"\\u0438\\u043c\\u0435\\u043d\\u043d\\u043e\", \"\\u043c\\u043e\\u0437\\u0433\", \"\\u0442\\u0435\\u0431\\u0435\", \"\\u0443\\u0441\\u043f\\u0435\\u0445\", \"\\u043c\\u0438\\u0440\", \"\\u043f\\u043e\\u0436\\u0430\\u043b\\u0443\\u0439\\u0441\\u0442\\u0430\", \"\\u043c\\u0435\\u0442\\u043e\\u0434\", \"\\u043a\\u043e\\u0442\\u043e\\u0440\\u044b\\u043c\\u0438\", \"\\u0434\\u043e\\u0441\\u0442\\u0430\\u0432\\u043a\\u0430\", \"\\u043d\\u0430\\u0447\\u0430\\u0442\\u044c\\u0441\\u044f\", \"\\u0432\\u044b\\u0440\\u0430\\u0437\\u0438\\u0442\\u044c\", \"\\u043f\\u043e\\u0437\\u043d\\u0430\\u043a\\u043e\\u043c\\u0438\\u0442\\u044c\\u0441\\u044f\", \"\\u0430\\u043b\\u0435\\u043a\\u0441\\u0430\\u043d\\u0434\\u0440\", \"\\u0437\\u0430\\u043c\\u0435\\u0447\\u0430\\u0442\\u0435\\u043b\\u044c\\u043d\\u044b\\u0439\", \"\\u0431\\u043b\\u0430\\u0433\\u043e\\u0434\\u0430\\u0440\\u043d\\u043e\\u0441\\u0442\\u044c\", \"\\u0432\\u043a\\u043b\\u0430\\u0434\", \"\\u0441\\u0442\\u0440\\u0430\\u043d\\u0438\\u0447\\u043a\\u0430\", \"\\u0438\\u044e\\u043b\\u044c\", \"\\u043f\\u043e\\u043d\\u044f\\u0442\\u0438\\u0435\", \"\\u043f\\u0440\\u0438\\u043d\\u0438\\u043c\\u0430\\u0442\\u044c\\u0441\\u044f\", \"\\u0437\\u0430\\u0432\\u0435\\u0440\\u0448\\u0438\\u0442\\u044c\\u0441\\u044f\", \"\\u0440\\u0430\\u0437\\u043b\\u043e\\u0436\\u0438\\u0442\\u044c\", \"\\u043f\\u0438\\u0441\\u0430\\u0442\\u0435\\u043b\\u044c\", \"\\u0432\\u0430\\u043b\\u0435\\u043d\\u0442\\u0438\\u043d\", \"\\u0432\\u0438\\u0442\\u0440\\u0430\\u0442\\u0438\", \"\\u0437\\u043c\\u0435\\u043d\\u0448\\u0438\\u0442\\u0438\", \"\\u0432\\u043e\\u043d\\u0438\", \"\\u0437\\u0430\\u0441\\u0442\\u043e\\u0441\\u0443\\u0432\\u0430\\u043d\\u043d\\u044f\", \"\\u0434\\u043e\\u043f\\u043e\\u043c\\u043e\\u0433\\u043e\\u044e\", \"\\u0441\\u043a\\u043e\\u0440\\u043e\\u0442\\u0438\\u0442\\u0438\", \"\\u0440\\u043e\\u0437\\u0432\\u0430\\u043d\\u0442\\u0430\\u0436\\u0435\\u043d\\u043d\\u044f\", \"\\u0447\\u0430\\u0441\\u0443\", \"\\u0437\\u043c\\u0435\\u043d\\u0448\\u0435\\u043d\\u043d\\u0438\\u0439\", \"\\u0432\\u0438\\u043a\\u043e\\u0440\\u0438\\u0441\\u0442\\u043e\\u0432\\u0443\\u044e\\u0442\\u044c\", \"\\u0432\\u0438\\u0442\\u0440\\u0430\\u0442\\u0430\\u0445\", \"\\u0432\\u0438\\u043a\\u043e\\u0440\\u0438\\u0441\\u0442\\u0430\\u043d\\u043d\\u044f\", \"\\u0449\\u043e\", \"\\u0446\\u0435\", \"\\u0430\\u0440\\u043c\\u0438\\u044f\", \"\\u043c\\u043e\\u0436\\u0435\", \"\\u043b\\u0438\\u0431\\u043e\", \"\\u0432\\u044b\\u0431\\u043e\\u0440\", \"\\u0434\\u043e\\u0431\\u0440\\u044b\\u0439\", \"\\u043d\\u0438\\u0437\\u043a\\u0438\\u0439\", \"\\u0441\\u043e\\u0446\\u0438\\u0430\\u043b\\u044c\\u043d\\u044b\\u0439\", \"\\u043a\\u043e\\u043c\\u043c\\u0435\\u043d\\u0442\", \"\\u0432\\u043e\\u0437\\u043c\\u043e\\u0436\\u043d\\u043e\", \"\\u0437\\u043d\\u0430\\u0447\\u0438\\u0442\\u044c\", \"\\u043f\\u043e\\u0441\\u0442\\u0430\\u0440\\u0430\\u0442\\u044c\\u0441\\u044f\", \"\\u0437\\u0434\\u043e\\u0440\\u043e\\u0432\\u044b\\u0439\", \"\\u043a\\u043e\\u0442\\u043e\\u0440\\u043e\\u043c\\u0443\", \"\\u043f\\u0440\\u043e\\u0442\\u0438\\u0432\", \"\\u0441\\u043b\\u0430\\u0431\\u044b\\u0439\", \"\\u043e\\u0431\\u043e\\u0440\\u043e\\u0442\", \"\\u043e\\u0442\\u043a\\u0443\\u0434\\u0430\", \"\\u043a\\u043e\\u0443\\u0447\\u0438\\u043d\\u0433\", \"\\u0445\\u0430\\u0440\\u0430\\u043a\\u0442\\u0435\\u0440\\u0438\\u0437\\u043e\\u0432\\u0430\\u0442\\u044c\\u0441\\u044f\", \"\\u043d\\u0435\\u0441\\u0442\\u0430\\u043d\\u0434\\u0430\\u0440\\u0442\\u043d\\u044b\\u0439\", \"\\u0440\\u0430\\u0441\\u0441\\u0442\\u0440\\u043e\\u0439\\u0441\\u0442\\u0432\\u043e\", \"\\u043f\\u0440\\u0438\\u0432\\u044b\\u0447\\u043a\\u0430\", \"\\u0431\\u0430\\u0445\\u043d\\u0443\\u0442\\u044c\", \"\\u0445\\u0435\\u0439\\u0442\", \"\\u043a\\u043e\\u0443\\u0447\", \"\\u0441\\u0443\\u0442\\u043e\\u043a\", \"\\u0432\\u0441\\u0435\\u043c\\u0443\", \"\\u043c\\u043d\\u043e\\u0433\\u0438\\u043c\", \"\\u0435\\u043a\\u0430\\u0442\\u0435\\u0440\\u0438\\u043d\\u0430\", \"\\u0430\\u0443\\u0442\\u0438\\u0441\\u0442\\u0438\\u0447\\u0435\\u0441\\u043a\\u0438\\u0439\", \"\\u0433\\u0438\\u043f\\u0435\\u0440\\u0430\\u043a\\u0442\\u0438\\u0432\\u043d\\u043e\\u0441\\u0442\\u0438\", \"\\u0437\\u0434\\u0440\\u0430\\u0432\\u043e\\u043c\\u044b\\u0441\\u043b\\u044f\\u0449\\u0438\\u0439\", \"\\u044f\\u0437\\u044b\\u043a\\u043e\\u0432\\u043e\\u0439\", \"\\u0442\\u0440\\u0443\\u0434\\u043d\\u043e\\u0441\\u0442\\u044c\", \"\\u0440\\u043e\\u0437\\u044b\\u0433\\u0440\\u044b\\u0448\", \"\\u043a\\u043e\\u0433\\u043d\\u0438\\u0442\\u0438\\u0432\\u043d\\u044b\\u0439\", \"\\u0442\\u0440\\u0435\\u0432\\u043e\\u0436\\u043d\\u044b\\u0439\", \"\\u043f\\u0441\\u0438\\u0445\\u0438\\u0447\\u0435\\u0441\\u043a\\u0438\\u0439\", \"\\u043e\\u0441\\u0442\\u0430\\u0432\\u0438\\u0442\\u044c\", \"\\u043e\\u0442\\u043d\\u043e\\u0441\\u0438\\u0442\\u044c\\u0441\\u044f\", \"\\u044d\\u043c\\u043e\\u0446\\u0438\\u044f\", \"\\u043a\\u043e\\u043c\\u0444\\u043e\\u0440\\u0442\\u043d\\u044b\\u0439\", \"\\u043d\\u0440\\u0430\\u0432\\u0438\\u0442\\u044c\\u0441\\u044f\", \"\\u043e\\u0431\\u043e\\u0440\\u0443\\u0434\\u043e\\u0432\\u0430\\u043d\\u0438\\u0435\", \"\\u0441\\u043e\\u0441\\u0442\\u043e\\u044f\\u043d\\u0438\\u0435\", \"\\u0432\\u0435\\u0449\\u044c\", \"\\u043e\\u0441\\u043d\\u043e\\u0432\\u043d\\u044b\\u0439\", \"\\u043c\\u0438\\u0440\", \"\\u043f\\u0440\\u043e\\u0441\\u0438\\u0442\\u044c\", \"\\u0434\\u0430\\u043d\\u043d\\u044b\\u0439\", \"\\u043f\\u0440\\u043e\\u0433\\u0440\\u0430\\u043c\\u043c\\u0438\\u0441\\u0442\", \"\\u043f\\u043e\\u0440\\u0430\\u0431\\u043e\\u0442\\u0430\\u0442\\u044c\", \"\\u043a\\u043e\\u0444\\u0435\", \"\\u043c\\u0435\\u043d\\u0442\\u043e\\u0440\", \"\\u0438\\u0449\\u0443\", \"\\u043e\\u0431\\u0435\\u0434\", \"\\u0437\\u0430\\u0440\\u0435\\u0433\\u0438\\u0441\\u0442\\u0440\\u0438\\u0440\\u043e\\u0432\\u0430\\u0442\\u044c\\u0441\\u044f\", \"\\u043f\\u0438\\u0448\\u0438\", \"\\u0443\\u043f\\u0440\\u0430\\u0432\\u043b\\u0435\\u043d\\u0438\\u0435\\u043f\\u0440\\u043e\\u0435\\u043a\\u0442\\u0430\\u043c\\u0438\", \"\\u0442\\u0440\\u0435\\u043d\\u0438\\u043d\\u0433\", \"\\u043b\\u0430\\u0437\\u0435\\u0440\\u043d\\u044b\\u0439\", \"\\u043a\\u043e\\u0432\\u043e\\u0440\\u043a\\u0438\\u043d\\u0433\", \"\\u043a\\u043e\\u0432\\u043e\\u0440\\u043a\\u0438\\u043d\\u0433\\u0435\", \"\\u0445\\u0430\\u0443\\u0441\", \"\\u0431\\u0430\\u0440\\u043d\\u044b\\u0439\", \"\\u043d\\u0435\\u0444\\u043e\\u0440\\u043c\\u0430\\u043b\\u044c\\u043d\\u044b\\u0439\", \"\\u0433\\u0430\\u0437\\u043f\\u0440\\u043e\\u043c\", \"\\u043a\\u0440\\u0430\\u0441\\u043d\\u044b\\u0439\", \"\\u0441\\u0442\\u0430\\u043d\\u0435\\u0448\\u044c\", \"\\u0441\\u0435\\u0439\\u043b\\u0437\", \"\\u0432\\u044b\\u0441\\u043e\\u043a\\u043e\\u043d\\u0430\\u0433\\u0440\\u0443\\u0436\\u0435\\u043d\\u043d\\u043e\\u0433\\u043e\", \"\\u043c\\u0435\\u0434\\u0438\\u0430\", \"\\u0432\\u043d\\u0438\\u0437\\u0443\", \"\\u043c\\u0441\\u043a\", \"\\u0441\\u0435\\u0440\\u0435\\u0434\\u0438\\u043d\\u0430\", \"\\u0440\\u0435\\u0432\\u044c\\u044e\", \"\\u0441\\u0438\\u043c\\u0444\\u0435\\u0440\\u043e\\u043f\\u043e\\u043b\\u044c\", \"\\u0438\\u043d\\u0442\\u0435\\u0440\\u0435\\u0441\\u0443\\u0435\\u0448\\u044c\\u0441\\u044f\", \"\\u0430\\u043b\\u044c\\u0444\\u044b\", \"\\u0432\\u044b\\u043f\\u0430\\u0441\\u0442\\u044c\", \"\\u043f\\u043e\\u0433\\u043e\\u0434\\u0430\", \"\\u0437\\u0430\\u043c\\u0435\\u043d\\u0438\\u0442\\u044c\", \"\\u0434\\u0435\\u043a\\u0430\\u0431\\u0440\\u044c\", \"\\u0432\\u043d\\u0435\", \"\\u0430\\u0442\\u043c\\u043e\\u0441\\u0444\\u0435\\u0440\\u0430\", \"\\u043e\\u0431\\u0443\\u0447\\u0438\\u0442\\u044c\", \"\\u0447\\u0430\\u0441\\u0442\\u0438\\u0447\\u043d\\u043e\", \"\\u0441\\u0445\\u043e\\u0434\\u0438\\u0442\\u044c\", \"\\u0445\\u0443\\u0434\\u043e\\u0436\\u043d\\u0438\\u043a\", \"\\u0432\\u043b\\u0438\\u044f\\u0442\\u044c\", \"\\u043e\\u0433\\u0440\\u043e\\u043c\\u043d\\u044b\\u0439\", \"\\u0438\\u0437\\u043e\\u0431\\u0440\\u0430\\u0436\\u0435\\u043d\\u0438\\u0435\", \"\\u0438\\u043c\\u0435\\u043d\\u043d\\u043e\", \"\\u0441\\u0440\\u043e\\u043a\", \"\\u043f\\u0440\\u0438\\u0439\\u0442\\u0438\\u0441\\u044c\", \"\\u0434\\u043e\\u0441\\u0442\\u0443\\u043f\", \"\\u0432\\u044b\\u0431\\u043e\\u0440\", \"\\u0442\\u0432\\u043e\\u0439\", \"\\u0440\\u0430\\u0437\\u0432\\u0438\\u0432\\u0430\\u0442\\u044c\\u0441\\u044f\", \"\\u043b\\u0438\\u0431\\u043e\", \"\\u0430\\u0432\\u0442\\u043e\\u043d\\u043e\\u043c\\u043d\\u043e\", \"\\u043f\\u043e\\u0441\\u0442\\u0438\\u043b\", \"\\u0434\\u0438\\u0430\\u043b\\u043e\\u0433\\u043e\\u0432\\u044b\\u0439\", \"\\u043b\\u0435\\u0439\\u0441\\u0430\\u043d\", \"\\u043f\\u0438\\u043d\", \"\\u043d\\u0430\\u043a\\u043e\\u043f\\u043b\\u0435\\u043d\\u043d\\u044b\\u043c\\u0438\", \"\\u043e\\u0434\\u043e\\u043b\\u0436\\u0435\\u043d\\u0438\\u0435\", \"\\u043f\\u0440\\u0438\\u0435\\u0434\\u0430\\u0442\\u044c\\u0441\\u044f\", \"\\u0440\\u043e\\u0441\\u0441\\u0438\\u0438\\u0443\", \"\\u0434\\u0436\\u0435\\u043c\\u0430\", \"\\u043c\\u0430\\u0442\\u0447\\u0430\\u0441\\u0442\\u044c\", \"\\u043c\\u0435\\u043b\\u043e\\u0447\\u044c\", \"\\u0443\\u0447\\u0435\\u0431\\u0443\", \"\\u0430\\u043d\\u0442\\u0438\\u0431\\u043e\\u0442\\u0430\", \"\\u043f\\u043b\\u0430\\u0442\\u0444\\u043e\\u0440\\u043c\\u0435\\u043d\\u043d\\u044b\\u0439\", \"\\u0431\\u044d\\u043a\\u043b\\u043e\\u0433\\u043e\\u043c\", \"\\u0432\\u044b\\u043a\\u0430\\u0442\\u044b\\u0432\\u0430\\u043d\\u0438\\u0435\", \"\\u0432\\u044b\\u0441\\u043e\\u0447\\u0430\\u0439\\u0448\\u0438\\u0445\", \"\\u0434\\u0436\\u043e\\u0431\\u044b\", \"\\u0437\\u0430\\u0433\\u043b\\u044f\\u043d\\u0438\\u043d\\u0430\\u0448\\u0430\", \"\\u0437\\u0430\\u043c\\u043e\\u0442\\u0438\\u0432\\u0438\\u0440\\u043e\\u0432\\u0430\\u043d\\u043d\\u043e\\u0441\\u0442\\u0438\", \"\\u0437\\u043e\\u043e\\u043f\\u0430\\u0440\\u043a\", \"\\u043a\\u0440\\u043e\\u0441\\u0441\\u0434\\u043e\\u043c\\u0435\\u043d\\u043d\\u043e\\u0439\", \"\\u043c\\u043e\\u0434\\u0435\\u0440\\u0430\\u0446\\u0438\\u044f\", \"\\u043c\\u044d\\u0442\\u0447\\u0438\\u043d\\u0433\\u0430\", \"\\u043f\\u0440\\u0435\\u0434\\u0441\\u0442\\u043e\\u0438\\u0442\\u044c\", \"\\u0440\\u0430\\u0431\\u043e\\u0442\\u044e\\u0449\\u0438\\u0445\", \"\\u0441\\u0432\\u0435\\u0440\\u043a\\u0430\", \"\\u0443\\u043c\\u0443\\u0434\\u0440\\u044f\\u0442\\u044c\\u0441\\u044f\", \"\\u044d\\u043a\\u0441\\u043f\\u043e\\u043d\\u0435\\u043d\\u0442\\u0435\", \"\\u0432\\u0435\\u0440\\u0441\\u0438\\u044f\", \"\\u0432\\u043d\\u0438\\u043c\\u0430\\u0442\\u0435\\u043b\\u044c\\u043d\\u044b\\u0439\", \"\\u0432\\u0441\\u0435\\u043c\", \"\\u0432\\u044b\\u0439\\u0442\\u0438\", \"\\u0437\\u0430\\u043f\\u0443\\u0441\\u0442\\u0438\\u0442\\u044c\", \"\\u0438\\u0433\\u0440\\u0430\", \"\\u0438\\u0441\\u0442\\u043e\\u0440\\u0438\\u044f\", \"\\u043c\\u0430\\u0448\\u0438\\u043d\\u043d\\u044b\\u0439\", \"\\u043c\\u0435\\u0441\\u044f\\u0446\\u0430\\u043f\\u0440\\u0438\", \"\\u043d\\u043e\\u043b\\u044c\", \"\\u043e\\u0431\\u0443\\u0447\\u0435\\u043d\\u0438\\u0435\", \"\\u043f\\u0435\\u0440\\u0432\\u044b\\u0439\", \"\\u043f\\u0440\\u043e\\u0447\\u0442\\u0435\\u043d\\u0438\\u0435\", \"\\u0440\\u0430\\u0437\\u0440\\u0430\\u0431\\u043e\\u0442\\u043a\\u0430\", \"\\u0441\\u043c\\u043e\\u0447\\u044c\", \"\\u0441\\u043e\\u0437\\u0434\\u0430\\u0442\\u044c\", \"\\u0441\\u0442\\u0430\\u0442\\u044c\\u044f\", \"\\u0442\\u0435\\u0445\\u043d\\u043e\\u043b\\u043e\\u0433\\u0438\\u044f\", \"\\u044d\\u043b\\u0435\\u043c\\u0435\\u043d\\u0442\", \"\\u0431\\u0440\\u0430\\u0442\", \"\\u0438\\u043d\\u0442\\u0435\\u0440\\u0435\\u0441\\u043d\\u044b\\u0439\", \"\\u043f\\u043e\\u0437\\u0430\\u043b\\u0438\\u043f\\u0430\\u0442\\u044c\", \"\\u043f\\u043e\\u043d\\u0440\\u0430\\u0432\\u0438\\u0442\\u044c\\u0441\\u044f\", \"\\u0441\\u043b\\u043e\\u0432\\u043e\", \"\\u0448\\u043d\\u0438\\u043a\\u0430\\u043c\", \"\\u0431\\u043b\\u0430\\u0433\\u043e\\u0434\\u0430\\u0440\\u043d\\u044b\\u0439\", \"\\u0432\\u0435\\u0441\\u044c\", \"\\u0432\\u0437\\u044f\\u0442\\u044c\", \"\\u0432\\u043d\\u0435\\u0448\\u043d\\u0438\\u0439\", \"\\u0432\\u043e\\u0437\\u043d\\u0430\\u0433\\u0440\\u0430\\u0436\\u0434\\u0435\\u043d\\u0438\\u0435\"], \"Freq\": [1941.0, 1096.0, 347.0, 318.0, 794.0, 778.0, 1083.0, 1166.0, 987.0, 277.0, 369.0, 652.0, 345.0, 806.0, 554.0, 295.0, 287.0, 267.0, 701.0, 119.0, 122.0, 135.0, 651.0, 289.0, 181.0, 443.0, 914.0, 231.0, 629.0, 170.0, 1082.7962171285287, 805.6868853706537, 700.9235422663137, 628.9375552654042, 650.1507925665115, 519.199848357562, 475.47688751196324, 434.5895930014036, 434.183819357707, 427.00800919862326, 382.09745648347194, 362.2797275074468, 348.93979276264264, 345.88484187810246, 334.2645931117955, 332.30576581439317, 329.7835447545789, 324.6790461911408, 305.428899222675, 300.2237144979935, 289.2119766170475, 288.91543390259596, 287.94234001666183, 287.8041279267989, 286.91934244189594, 281.55775293749264, 289.49470186201734, 269.59705967277876, 266.2482211220501, 256.8496494311883, 544.3358259797244, 1151.0145784590193, 853.8744407532473, 626.2417464022502, 459.6250153449834, 392.81880313502654, 425.48722746957975, 305.6832416277623, 314.18292990139474, 365.4949161639196, 1095.1827305507468, 793.7437979062823, 777.6594306678965, 553.784801211155, 442.88775892841824, 363.195527312048, 361.2663804652126, 350.2162083731244, 308.8726199336363, 293.5470006937998, 286.3324750025168, 281.29802510601814, 261.49435588360706, 258.8288790559071, 239.35322619225647, 216.017419958468, 211.40394476906133, 203.4045719211403, 201.87787944178683, 198.6921644911895, 194.763355941892, 191.17151822091884, 184.20422759967082, 183.97222659165345, 181.7599121589372, 176.0564372846685, 174.15742738660705, 173.79023044693844, 173.559528664946, 171.66632707146653, 647.9906612768111, 240.2576148806966, 348.5090763264286, 309.6341192343561, 445.03963387595593, 1575.5690567104525, 848.7561867036013, 309.45612526894297, 211.9440151951037, 272.6414604271618, 212.72523216137802, 294.7610543500625, 286.45132710117986, 266.9048084499368, 230.75904486488542, 222.04742661243733, 206.91758310930837, 193.48587240706283, 190.98607531306746, 188.79247045636652, 187.56571158625715, 114.94479773350557, 112.72411899844143, 110.74589113431628, 100.11600735994396, 99.91016008045354, 89.64394804845087, 89.1889681451685, 86.57950632607012, 85.13391092194878, 80.59750277906392, 74.78040251916848, 74.65644322443742, 74.1980859324179, 72.72055138453634, 71.4396265015452, 71.26539888309664, 69.56446832640796, 69.38629737840682, 69.35094433359878, 68.97232536404782, 95.94945066800997, 346.9566621302424, 114.9522553729603, 189.3050485297338, 210.05355244829536, 141.40487677008198, 183.1596797767039, 86.13795382503731, 85.09540869034528, 76.21285805548676, 276.97995196841725, 180.37996494957852, 169.31812832198858, 145.75892505855367, 135.63104601802317, 107.64101587255396, 105.48192320270765, 90.68030668999941, 85.41669978683848, 74.58305914464785, 69.35454776992033, 67.01993993261588, 66.91638889202564, 65.4408193982443, 63.40894215564241, 58.66636453707484, 55.54557370877707, 53.901379629102514, 52.287998504022866, 48.90173031369003, 48.605834012615844, 48.58822057913983, 48.47787746087362, 45.515401144759274, 42.78266873229911, 42.55902268843689, 41.9932632569388, 39.886255691038585, 37.116438909720536, 37.06181615796871, 68.25111658725821, 73.40979808604501, 119.92353145462128, 161.98658706220976, 47.21399751510088, 347.0749751305884, 170.0577465595884, 166.50007256269032, 139.33326306602888, 110.25830919467788, 98.97311263298303, 97.35558686819446, 95.68241202269031, 91.79381761982302, 82.87779092699785, 73.37102383698456, 72.71015415266218, 70.94605748410044, 63.51658872501542, 62.64091341571521, 62.452449627324164, 61.885618912291434, 60.16970578089648, 58.1286990092289, 58.42473252266788, 54.78089696218758, 53.65030498905159, 53.3007727489041, 51.33403122752151, 50.761278368187014, 44.35220894554835, 42.87593889499128, 40.195982176621925, 39.778236892225515, 39.294051738557805, 115.09299866518624, 55.10635477531624, 48.275274043396145, 138.76272127289505, 118.80334002077859, 118.451337712164, 73.06866078738055, 71.23704309380834, 68.70594824238572, 63.62040444596559, 62.01437553350947, 49.679928166040696, 47.18316603770141, 43.10528521319024, 42.66468193362076, 42.43497310320532, 42.40682198568785, 40.21093679584708, 39.36216681814367, 39.25116135605463, 38.88139535533082, 37.50614127861071, 36.81895075105003, 35.01227084286517, 33.59380679185763, 31.61386119704155, 30.73155187377787, 30.453465393857154, 29.72934145781898, 28.591638089734634, 27.668869576027994, 27.564116173879455, 26.700749887691735, 37.29990600788367, 230.38193313130753, 39.576446140513895, 134.57190240193012, 83.52349948835717, 55.58102630547809, 51.2652003665405, 43.20888721264182, 42.29483634635502, 40.187561918600025, 34.95390915728521, 34.53313657750626, 29.695698900521027, 25.612127947694862, 21.644032959410033, 18.23899488496334, 16.65182548771626, 16.42964431146649, 15.444716942538447, 15.306599022316247, 13.351815953478, 12.73824222887058, 10.942842480977866, 10.485992371018712, 10.40760759559184, 8.35817144415614, 8.243396006748371, 7.143190198962559, 7.018475697895865, 6.606763269044338, 6.2868642996882045, 5.814601827187238, 5.090172554706304, 8.145104776676938, 92.86133244776732, 76.11527283118141, 68.62606953866207, 50.686222525436854, 38.646363585727656, 33.0157108142374, 29.382859188684776, 27.714963142541823, 26.353513443668696, 25.347313242398645, 24.371617425811056, 21.90488556262356, 21.645162082054217, 18.43970314137387, 17.177282949819755, 14.417231094414719, 14.268553623502193, 14.092658533222114, 13.51756571042469, 11.790198675916725, 10.759342903336437, 10.607259261313223, 9.937398268671439, 9.260952702089238, 8.065373528306399, 7.4032545865964465, 6.631702648783008, 5.688045201739792, 5.130475352024059, 4.181232750648991, 121.66371950907926, 57.653323217253174, 50.67324917189583, 47.220345013633185, 28.60899237926369, 26.668582564219065, 24.354624779355103, 24.33762123851113, 23.686033998532775, 17.050150667238853, 16.252902749017146, 15.530704495576188, 12.250538183146915, 11.653141138188696, 8.497078759573693, 6.854206504685178, 3.8684855882840163, 0.9505758785248836, 0.9221001149145778, 0.5414868850036342, 0.44715661066136003, 0.3870618999742867, 0.036712861486398865, 0.036712270048064, 0.036712690280565084, 0.036714324518069316, 0.03671294708931575, 0.03671224281077226, 0.036712215573480526, 0.03671149573077033, 0.03671212607952196, 5.943707732863935, 6.7940067981295, 0.03671308327577444, 0.036716631905783614, 0.0367161494166157, 0.036716406225366365, 0.036714059927235296, 0.03671398599744344, 62.391126212256374, 53.930115852239105, 50.10156945426306, 34.64654601406493, 30.206999467716248, 29.368463646952545, 21.76025182208023, 19.198166947534844, 16.937535941278814, 16.25493261337473, 11.065667555463456, 8.885486596065892, 6.9815825490716135, 6.979077996504212, 5.746136711053062, 5.564034848916639, 4.716598205265177, 4.093275898063416, 2.530837226337958, 1.7182527621045605, 1.335790614424451, 1.2500624916550955, 0.9176841320744535, 0.03916020092660559, 0.03915257379505582, 0.03915414461666929, 0.0391518820570976, 0.03914993294128824, 0.03915004462814608, 0.0391507471745099, 0.03915367985522861, 0.039151806398258424, 0.03915310340693009, 0.039153016939685314, 0.03915278996316777, 69.55692280270154, 30.14528181675644, 25.51347025272779, 25.161576131991023, 24.798727700717233, 21.72781745611329, 19.392168381003103, 18.594872805512033, 14.61385855530971, 13.370169752429272, 11.488776218206738, 10.46637784708939, 10.188535237603302, 8.250961546083547, 7.243052525049011, 6.803285488743203, 6.670319470065882, 5.864705010553992, 5.60526768888244, 5.2875723912856385, 5.005107005258863, 3.995861669944939, 3.604473776258228, 1.7373018853746205, 1.194083895233476, 0.7009925396801523, 0.41521064968582055, 0.0362339604828163, 0.0362302382969157, 0.03622585226064596, 1.1984410787826976, 0.073121625323161, 118.23294291959591, 65.78319592961324, 26.47869346153921, 22.240418419090922, 21.134034496331086, 14.745817982346843, 12.360278029697486, 10.680004951456665, 9.80955909816715, 7.3704063176745125, 6.460506701458269, 6.454027979169933, 5.451153199818234, 4.051672925621347, 3.5482757403596086, 3.474460354557968, 3.37379389433117, 3.21059577731132, 3.061931704907352, 2.687686586593699, 2.478674587488403, 2.204477634223156, 1.0082367783893862, 0.9079393993048518, 0.5703088366720085, 0.03608204632513503, 0.03608097984495084, 0.0360781918550866, 0.03607825768719674, 0.03607622676659906, 0.036076358430819334, 39.374925382379665, 37.35064657443269, 34.16821117871632, 28.546615548786434, 26.123567661311288, 19.28554199615173, 16.1580259928493, 14.227728206045203, 13.791213354774728, 10.770856879708528, 10.726055630032675, 10.27060194667843, 9.012495438707932, 7.839145150278246, 6.342342875068138, 4.421033710406965, 4.223055128559536, 1.3832524822896883, 1.2955648194051927, 1.273599842149159, 1.0349319678570381, 0.4641486148060981, 4.012283748280918, 9.99907838484322, 0.03351978052157778, 0.0335124897747796, 0.03350948840736309, 0.03350927573562001, 0.03350852689145421, 0.03350874555395063, 0.03350903011473363, 3.140618020457312, 0.03350990176934261, 0.033509563291779676, 0.03350968909759953, 0.033554293251490945, 52.51083456981288, 44.323648847032516, 38.53795383217129, 38.32906807131572, 22.212540894455074, 18.31441518518848, 16.560548909228608, 16.54795883614629, 13.289931948131791, 10.868872817977739, 9.347322129261572, 8.188309290497157, 7.416908205731693, 6.493315669901877, 4.187158154089032, 4.108480133637685, 2.4537402373259503, 2.428008434699004, 2.3738568656573356, 2.0801260733824303, 0.7426890569863149, 0.4755002112545583, 0.3342209100468251, 10.967619133648206, 0.03216017923568617, 0.03215590076912005, 0.032154799056515096, 0.03215362270213474, 0.03215318679416638, 0.03215212688095565, 0.03215426462140321, 0.03215585299838379, 0.03215454228880771, 0.03215451541776856, 0.032156730785662536, 0.032155187193747194, 27.525255128742078, 26.15612502190934, 17.244109167189027, 14.772977350447478, 14.699677919447053, 14.113400007994276, 14.014027052182133, 13.427308378664545, 12.033193359357938, 11.21701675338895, 9.52565669492996, 7.69063478899088, 7.377242466575256, 6.7507754502796, 5.393003012272488, 5.288090796701388, 4.866157317714385, 4.5365648905499745, 4.2805643365178785, 3.752422241791371, 2.9439306372524126, 2.4553436146366643, 2.2572968006207312, 1.9459360065316071, 1.4952433275324186, 1.1739586531201642, 1.0103431396643507, 0.6891153095660104, 0.3353834416444138, 0.3336990571703472, 41.17712360706855, 26.120763994470476, 24.134325999496706, 23.18276212082429, 20.70217260539744, 19.271036497857004, 15.474065017318251, 13.701010262676151, 7.052858737892271, 6.8754580973393855, 6.7460872770409495, 5.724738159092266, 5.509745949011351, 4.341150268482517, 2.288068161909403, 0.8555954097172231, 0.8037115733090812, 0.03334734464745653, 0.03334501862575787, 0.03334480885896085, 0.033345942661775145, 0.03334425921684713, 0.03334452208916239, 0.033344814169512675, 0.033344301701261715, 0.03334539036438551, 0.033344336219848565, 0.03334427249322669, 0.03334437073843542, 0.03334455926302515, 0.03334523104783081, 0.033345671823632156, 0.03334456457357697, 0.03334593469594741, 0.033344692026820735, 0.03334584441656641, 0.03334494958858417, 0.03334782259712063, 0.033347169399246354, 0.03334506642072429, 0.03334511952624252, 0.03334557092314751, 0.03334526291114175, 0.03334519121869214, 0.03334526025586584, 0.03334535319052275, 26.225347033098764, 14.938991675596894, 14.894133374530426, 7.829585534176825, 7.506722184537624, 6.075358134787045, 6.064951913047225, 5.827175396964844, 5.608684933496644, 5.427911645057072, 5.417599995242002, 5.308899497794459, 2.3570723508289806, 1.7641481125109166, 1.7265365033932913, 1.0626082550477733, 0.8837566681191122, 0.545220859110411, 0.16786903796867195, 0.025584594521524923, 0.02558435809171305, 0.025584020070966385, 0.025583678356003912, 0.025583185178193205, 0.025582939512841806, 0.025582736330972227, 0.025582736330972227, 0.025582806521072626, 0.02558268461195088, 0.025582559008613323, 0.025582808368180533, 0.02558579329455544, 0.025583844595715385, 0.025583611860119322, 0.025583255368293607, 0.025584069942879827, 0.025583423455112986, 24.185331453682576, 18.489419965521957, 15.02502447034445, 13.196575079067314, 6.806223330239125, 6.547408655049013, 6.22697271371781, 4.152472446959598, 3.498567295488582, 3.207933277230559, 3.0054098573492434, 1.740420553183609, 1.4547869058875569, 0.021201575877299372, 0.021201079243549924, 0.021200877778915717, 0.021202159968564442, 0.021201563383368566, 0.021200696616919062, 0.021200696616919062, 0.021200696616919062, 0.021201291640373588, 0.02120071535781527, 0.021200840297123304, 0.02120055762193887, 0.02120038426864897, 0.02120038426864897, 0.02120038426864897, 0.021200771580503885, 0.021200863723243563, 0.02120085747627816, 0.021200637270747745, 0.02120063102378234, 0.02120079656836549, 0.021201112040118285, 0.02120086059976086, 0.02120106518787777, 0.02120096055120729, 0.021201146398427996, 0.02120109798444613, 0.021201124534049088, 0.021201082367032626, 0.021201235417684972, 0.021201340054355453, 0.021200916822449477, 0.02120091994593218, 14.930885849930956, 7.875611199711283, 7.823296127056538, 7.095635663068699, 4.429642331505048, 2.9588155255338693, 2.28443116631971, 1.8640399160589884, 1.7127059751173417, 0.6032740417922037, 0.14729990933621614, 0.01724993086320135, 0.017249684472787997, 0.017249644548415464, 0.017249668503038985, 0.017249668503038985, 0.017249644548415464, 0.01724968789487707, 0.017249650251897255, 0.017249644548415464, 0.017249540745046872, 0.01724965367398633, 0.01724954302643959, 0.01724969017626979, 0.01724969017626979, 0.01724945747421273, 0.017249468881176313, 0.017249441504463718, 0.017249467740479953, 0.017249467740479953, 0.017249540745046872, 0.01724994341086129, 0.017249905767881473, 0.017249740366909544, 0.017249746070391335, 0.017249840748189058, 0.017249691316966145, 0.01724971869367874, 0.0172499023457924, 0.01724977458780029, 0.017249927441112277, 0.017250025540999074, 0.017249966224788454, 0.017249830481921836, 0.017249813371476463, 0.017249784854067512, 0.017249820215654615, 0.017249751773873126, 0.017249751773873126, 0.017249772306407573, 0.0012661806632220992, 0.0012661806632220992, 0.0012661806632220992, 0.0012661806632220992, 0.0012661806632220992, 0.0012661806632220992, 0.0012661806632220992, 0.0012661806632220992, 0.0012661806632220992, 0.0012661806632220992, 0.0012661806632220992, 0.0012661806632220992, 0.0012661806632220992, 0.0012661806632220992, 0.0012661806632220992, 0.0012661806632220992, 0.0012661806632220992, 0.0012661806632220992, 0.0012661806632220992, 0.0012661806632220992, 0.0012661806632220992, 0.0012661806632220992, 0.0012661806632220992, 0.0012661806632220992, 0.0012661806632220992, 0.0012661806632220992, 0.0012661806632220992, 0.0012661806632220992, 0.0012661806632220992, 0.0012661806632220992, 0.0012661806632220992, 0.0012661806632220992, 0.0012661806632220992, 0.0012661806632220992, 0.0012661806632220992, 0.0012661806632220992, 0.0012661806632220992, 0.0012661806632220992, 0.0012661806632220992, 0.0012661806632220992, 0.0012661806632220992, 0.0012661806632220992, 0.0012661806632220992, 0.0012661806632220992, 0.0012661806632220992, 0.0012661806632220992, 0.0012661806632220992, 0.0012661806632220992, 0.0012661806632220992, 0.0012661806632220992, 0.0012661806632220992, 0.0012661806632220992, 0.0012661806632220992, 0.0012661806632220992, 0.0012661806632220992, 0.0012661806632220992, 0.0012661806632220992, 0.0012661806632220992, 0.0012661806632220992, 0.0012661806632220992], \"Total\": [1941.0, 1096.0, 347.0, 318.0, 794.0, 778.0, 1083.0, 1166.0, 987.0, 277.0, 369.0, 652.0, 345.0, 806.0, 554.0, 295.0, 287.0, 267.0, 701.0, 119.0, 122.0, 135.0, 651.0, 289.0, 181.0, 443.0, 914.0, 231.0, 629.0, 170.0, 1083.6283391779498, 806.5190084341538, 701.755671728061, 629.7696776190938, 651.0561815525576, 520.0319703870219, 476.309009541423, 435.42171503086337, 435.0159413871668, 427.840131228083, 382.9295785129317, 363.11184954288944, 349.7719147921024, 346.7169639075622, 335.09671514125523, 333.13788803665705, 330.6156726765878, 325.51116823434273, 306.261021395183, 301.0558365301861, 290.0440986465073, 289.74755614276904, 288.77449653202405, 288.63624995625867, 287.7514644713557, 282.3898749669524, 290.3826968735721, 270.4291817022385, 267.08034316664344, 257.68177146064806, 547.4022093396397, 1166.9592361978825, 914.718395437899, 664.5186771160859, 512.9065351197889, 444.9804091856074, 507.1180406175105, 320.6470512688375, 343.0212443366521, 1941.8107438032553, 1096.0194141792588, 794.577153649594, 778.4932480291467, 554.7002553128633, 443.7209580869089, 364.0316066307746, 362.0995318504409, 351.0513778674614, 309.7057713367649, 294.3801520790281, 287.1656263877451, 282.1311876442101, 262.32750726883535, 259.6624190081645, 240.18638184876198, 216.85057154454856, 212.2370961542896, 204.23772330636857, 202.7110308270151, 199.52531587641775, 195.59651312827904, 192.00466961527675, 185.03737898489908, 184.80537797688172, 182.59306354416546, 176.88958866989677, 174.990579043704, 174.6233818321667, 174.39268005017425, 172.49947852250645, 652.4740056726769, 242.66130612725976, 357.5714976344652, 318.8475480939339, 482.2423116687855, 1941.8107438032553, 987.9944001311214, 337.74574986054387, 238.75692578213287, 432.69567063767914, 312.2668296687208, 295.5953553915248, 287.2856295564599, 267.7394871675124, 231.59360194133507, 222.88172765988244, 207.7521017162785, 194.32017344852508, 191.8203763545297, 189.6267715131779, 188.4000126277194, 115.77909878118732, 113.5584200399037, 111.58019217577855, 100.95030840140623, 100.7444611219158, 90.47824908991313, 90.02326918663077, 87.41380736753239, 85.96821196341105, 81.43180403820824, 75.61470357756586, 75.49074426589969, 75.03238697986305, 73.5548524259986, 72.27392755671784, 72.09969994589092, 70.39876936787023, 70.22059843979893, 70.18524537506104, 69.80662640551009, 97.83001817543898, 369.00711865820983, 120.96835765177967, 230.81250011606082, 289.6624870859145, 178.48818871281097, 345.90661848604833, 119.05622982143815, 135.060865447555, 117.006023929582, 277.82450505989425, 181.22451804105546, 170.16268141346552, 146.6034781500306, 136.4755991095001, 108.48556896403092, 106.32647630331425, 91.5248597994202, 86.26125287831543, 75.42761226038809, 70.19910087650982, 67.86449302409284, 67.76094198350259, 66.28537248972125, 64.25349524711937, 59.51091762855181, 56.39012682158605, 54.74593272679897, 53.132551595499834, 49.74628341114827, 49.45038710409281, 49.4327736706168, 49.322430567699726, 46.35995438865234, 43.627221823776075, 43.40357580394052, 42.83781634841577, 40.730808806778825, 37.9609920011975, 37.906369249445675, 71.86871151326424, 85.18981939067295, 187.78348802691588, 345.90661848604833, 68.80159417612954, 347.92142821669813, 170.90419964569804, 167.34652567576117, 140.17971616126817, 111.10476228078755, 99.81956574335598, 98.20203998913102, 96.52886511792964, 92.64027071191397, 83.72424401310752, 74.21747693222389, 73.55660723877186, 71.79251057021011, 64.3630418111251, 63.48736652175476, 63.29890271672546, 62.73207199840112, 61.01615887613581, 58.975152095338586, 59.28420092466622, 55.62735004829727, 54.49675808594576, 54.147225840479585, 52.18048431363119, 51.607731460516185, 45.19866203165803, 43.722392001030826, 41.04243526273161, 40.624689984554685, 40.14050482466749, 133.2643041646981, 60.92928653726299, 64.23486088233666, 139.6141811406089, 119.6547939931007, 119.3027917087494, 73.9201147688323, 72.08849706613044, 69.55740224355182, 64.48253812890835, 62.86582954383703, 50.531382158292665, 48.03462002995338, 43.95673920977563, 43.51613590893825, 43.286427084657085, 43.25827595800996, 41.062390768169195, 40.21362079046578, 40.10261532837674, 39.73284932765293, 38.35759528337963, 37.670404726663755, 35.863724839450555, 34.445260776982444, 32.46531516936366, 31.583005846099972, 31.304919395023255, 30.58079543014108, 29.443092062056735, 28.520323548350095, 28.41557016753695, 27.552203860013837, 39.31357783240467, 318.5756052880206, 70.0755726261082, 135.4363921463088, 84.38798923273592, 56.44551604985682, 52.1296901457461, 44.07337698293329, 43.159326125560625, 41.052051662978755, 35.81839890166394, 35.39762632188499, 30.56018865111924, 26.476617726900468, 22.50852271291841, 19.103484644691203, 17.516315232094986, 17.294134084689215, 16.30920671118045, 16.17108876998658, 14.21630569785673, 13.60273197324931, 11.807332240705733, 11.350482115397442, 11.27209733997057, 9.222661280561567, 9.107885764837476, 8.00767994334129, 7.882965442274597, 7.47125301342307, 7.151354044066936, 6.67909157156597, 5.954662307999174, 116.89513573238035, 93.73052913466277, 76.98446951807686, 69.49527161367035, 51.5554192123323, 39.51556030744998, 33.88490752539612, 30.25205587558022, 28.584159847481054, 27.22271013514486, 26.216509944643224, 25.240814141550498, 22.77408228434588, 22.51435876894966, 19.30889982826931, 18.046479636715198, 15.286427781310163, 15.137750339005029, 14.961855220117558, 14.386762412669272, 12.65939539165617, 11.62853960558102, 11.476455980038338, 10.806594955566883, 10.130149497119362, 8.934570224331493, 8.272451310100527, 7.500899335678455, 6.557241903747767, 5.999672038919506, 5.050429437544437, 122.54551157308057, 58.53511528125449, 51.55504125124629, 48.10213708385399, 29.490784472109006, 27.55037462822038, 25.236416878104958, 25.219413317861584, 24.567826085158604, 17.931942766067046, 17.134694837281735, 16.4124965595775, 13.13233025336772, 12.534933202190013, 9.37887082357501, 7.735998574905984, 4.750277679543987, 1.8323679530898032, 1.8038921897161067, 1.4232789627471236, 1.3289486746626773, 1.268853963975604, 0.918515179163992, 0.9185088687473736, 0.9185250410640856, 0.9185665805704705, 0.9185362250986857, 0.9185254824028309, 0.9185252186100978, 0.9185097864741468, 0.9185258658055868, 180.19512384076677, 260.69941435262183, 0.9185540838024039, 0.9187033223475923, 0.9186875355097537, 0.9187302002276893, 0.918619250978451, 0.9186285129601177, 63.270481315924975, 54.80947093619336, 50.98092452908766, 35.52590110259991, 31.086354577367725, 30.247818730906797, 22.639606925748833, 20.077522022359446, 17.816891040366688, 17.134287701909706, 11.945022708246649, 9.764841676873372, 7.860937779267153, 7.858433164823687, 6.6254918147216655, 6.443389923741242, 5.59595328008978, 4.9726309820176695, 3.4101923011625606, 2.597607836929163, 2.2151456892490535, 2.129417566479698, 1.7970392068990562, 0.9186763802176244, 0.9185533040638623, 0.9185974056783298, 0.9185637383987819, 0.9185222301991943, 0.9185320692887449, 0.9185538012975584, 0.9186913707782937, 0.9186095418640973, 0.9187033223475923, 0.9187180116435703, 69.49527161367035, 70.4392021182185, 31.02756107597721, 26.39574951194856, 26.043855426038668, 25.681006988782002, 22.610096750160935, 20.27444765557301, 19.477152099559678, 15.496137850498055, 14.252449035913319, 12.371055521415835, 11.348657106310162, 11.070814531650951, 9.133240823348107, 8.125331784269784, 7.685564747963976, 7.552598772934944, 6.746984285123903, 6.487547060624927, 6.169851685686114, 5.887386264479637, 4.8781409291657125, 4.4867530703058796, 2.619581153509531, 2.076363154454248, 1.5832717989009244, 1.2974899242557298, 0.9186015478098588, 0.9185710787135536, 0.9185255555202556, 39.31357783240467, 51.9995073588052, 119.1153749049186, 66.6656278995868, 27.361125431512743, 23.122850395283944, 22.0164665047343, 15.628249952320383, 13.242710023934302, 11.562436921430205, 10.691991106858609, 8.252838311911328, 7.342938685142184, 7.336459989887283, 6.3335852058295545, 4.934104910944025, 4.430707740489755, 4.356892330750997, 4.256225914342054, 4.093027789227179, 3.9443637060497077, 3.5701186514037193, 3.3611065976769963, 3.086909604196696, 1.8906687483629263, 1.7903713722737686, 1.4527408066455487, 0.9185397487462669, 0.918540784308194, 0.9185268480782741, 0.9185454476779562, 0.9185430852612007, 0.9187033223475923, 40.259921348195164, 38.235642540248186, 35.053207179358694, 29.431611514601926, 27.00856362712678, 20.17053799081122, 17.04302196488428, 15.1127241718607, 14.676209320590223, 11.655852883642508, 11.611051595848172, 11.155597956036582, 9.897491404523427, 8.72414115092062, 7.227338863508146, 5.306029785911007, 5.108051130412811, 2.268248448105183, 2.1805607852206874, 2.158595845446807, 1.9199279336725332, 1.3491445806215931, 18.56979442275488, 105.6940082183075, 0.9186397425782286, 0.9185244941819622, 0.9185183867634488, 0.9185251047295783, 0.9185120801994472, 0.9185185731033702, 0.9185279124842191, 189.83148452867695, 0.9185907058946007, 0.9185826153555666, 0.9186600681035164, 443.7209580869089, 53.397186125990586, 45.21000041832275, 39.424305403698135, 39.215419636623075, 23.09889245063278, 19.200766776193063, 17.446900495652464, 17.434310392323994, 14.176283528572775, 11.755224408982324, 10.23367368543928, 9.074660855804515, 8.3032597619094, 7.37966729353662, 5.07350971939639, 4.99483189912252, 3.3400918285671435, 3.3143600267482514, 3.260208421835042, 2.966477735710235, 1.6290406222936715, 1.361851767432265, 1.2205724751386704, 85.18981939067295, 0.918618686859388, 0.9185326667187012, 0.9185183317290735, 0.9185371788623208, 0.9185289991566795, 0.9185090429015993, 0.9185785620878044, 0.9186763802176244, 0.9187033223475923, 0.9187180116435703, 195.59651312827904, 240.18638184876198, 28.41000292895995, 27.040872847824442, 18.128856971987627, 15.657725156884842, 15.58442571053528, 14.998147837512182, 14.89877484327036, 14.312056178882422, 12.91794117470944, 12.101764544477177, 10.410404486018187, 8.575382586298593, 8.26199037428491, 7.635523241367828, 6.2777508379428655, 6.172838628563375, 5.750905108802613, 5.421312696987339, 5.165312151869382, 4.637170032879599, 3.8286784494111967, 3.3400914057248907, 3.142044646216873, 2.8306837976198334, 2.3799911366035036, 2.0587064442083904, 1.8950909337382482, 1.573863100654237, 1.2201312327326403, 1.2184468482585735, 42.06228299346872, 27.005923371956506, 25.019485385896875, 24.06792148918067, 21.58733199344707, 20.156195866213384, 16.35922440560449, 14.586169631032531, 7.938018119959026, 7.760617465695766, 7.63124667424133, 6.609897527448647, 6.3949053416310075, 5.226309665682898, 3.1732275776810153, 1.740754778073603, 1.688870941665461, 0.9185665805704705, 0.9185265807521298, 0.9185226767125884, 0.9185540838024039, 0.9185109005567198, 0.9185190406628561, 0.9185270980988255, 0.9185143502052238, 0.9185444710374779, 0.9185156772219331, 0.918514349306578, 0.9185171559816916, 0.9185231080127245, 0.9185417876132762, 0.9185568303161162, 0.9185234595490863, 0.9185722817547145, 0.9185290923668376, 0.9185843554495574, 0.9185420391368743, 0.9186913707782937, 0.9187033223475923, 0.9185548923831676, 0.918567055621344, 0.9186387585053954, 0.9186021345154954, 0.9185927605868521, 0.9186285129601177, 0.9187180116435703, 27.11826809547777, 15.83191273608983, 15.787054432328711, 8.722506576625973, 8.399643255830771, 6.968279227665267, 6.957872979759648, 6.720096521940698, 6.501605975945791, 6.320832687506219, 6.310521046820799, 6.201820584602473, 3.2499934281050042, 2.657069154960063, 2.6194575642676687, 1.9555292974969198, 1.7766777516532144, 1.4381419015595576, 1.0607900804178185, 0.9185166284672108, 0.9185173877210272, 0.9185221763857844, 0.9185110768988579, 0.9185156758587236, 0.9185079912086689, 0.9185066646997321, 0.9185066646997321, 0.9185096308861962, 0.9185100429280814, 0.9185064816726323, 0.918515652486826, 0.9186389903137947, 0.9185671066674306, 0.9185665805704705, 0.9185454616934705, 0.9187033223475923, 0.9186913707782937, 25.082634031281348, 19.38672256259847, 15.922327032594085, 14.093877679139203, 7.703525898708247, 7.444711226428298, 7.124275308702487, 5.049775047638913, 4.395869877668078, 4.1052359093692266, 3.902712443862153, 2.637723150260121, 2.352089468137191, 0.9185268099670922, 0.9185246029608184, 0.9185174831255275, 0.9185744674563134, 0.9185490317058167, 0.9185119729201736, 0.9185119729201736, 0.918513776776931, 0.9185404988995328, 0.9185155369405671, 0.9185245048410816, 0.9185129102142878, 0.9185062410152256, 0.9185062410152256, 0.9185062410152256, 0.9185231862245603, 0.9185276896252234, 0.9185287105411722, 0.918519062578261, 0.9185215156974446, 0.9185321899605733, 0.9185685826507559, 0.9185433098456757, 0.9185678148859864, 0.9185572377279724, 0.9185867748095747, 0.9185814842844507, 0.9186109616997457, 0.9186093363331703, 0.9186668672693454, 0.9187180116435703, 0.918601553629774, 0.918618686859388, 15.83213909893581, 8.77686445927974, 8.724549360712254, 7.99688891472883, 5.330895565160764, 3.8600687880335856, 3.1856843999754267, 2.7652931559341924, 2.6139592087730583, 1.5045272754479206, 1.048553142991933, 0.9185200532701989, 0.9185119344877506, 0.918510296696827, 0.9185117587228, 0.9185117587228, 0.9185107022630502, 0.9185134684264276, 0.9185115644926294, 0.9185116458588783, 0.9185073105953667, 0.9185138352746584, 0.9185085311896072, 0.9185165327288701, 0.9185168471474126, 0.9185057109104408, 0.9185065270145214, 0.9185055774098536, 0.9185072222669324, 0.9185072222669324, 0.9185112783201835, 0.9185338909007982, 0.9185317964762388, 0.9185264801482896, 0.9185272923562315, 0.9185351991077364, 0.9185240962057406, 0.9185291971827865, 0.9185706102574287, 0.9185451996868677, 0.9185898973799558, 0.9186426996436056, 0.9186387585053954, 0.9185917476531434, 0.9185843554495574, 0.918606007909225, 0.9186913707782937, 0.9186047037691673, 0.9186082317400528, 0.9187033223475923, 0.9185025691881726, 0.9185025691881726, 0.9185025725202973, 0.9185025725202973, 0.9185025725202973, 0.9185025731349711, 0.9185025731349711, 0.9185025731349711, 0.9185025791178494, 0.9185025867674466, 0.9185025867674466, 0.9185025867674466, 0.9185025867674466, 0.9185025884311498, 0.9185025884311498, 0.9185025887331639, 0.9185025887331639, 0.9185025887331639, 0.9185025887331639, 0.9185025887331639, 0.9185025887331639, 0.9185025887331639, 0.9185025887331639, 0.9185025887331639, 0.9185025887331639, 0.9185025887331639, 0.9185025887331639, 0.9185025887331639, 0.9185025887331639, 0.9185025887331639, 79.37451700587076, 2.791029346305859, 318.8475480939339, 103.48803927251954, 32.46531516936366, 45.201736716211364, 128.799081802337, 22.77408228434588, 0.918502617002056, 1.2882856649612604, 242.66130612725976, 435.42171503086337, 0.9185198896128329, 443.7209580869089, 170.69792165483773, 100.95030840140623, 167.4669335914475, 204.23772330636857, 39.10361809418981, 2.576328884922846, 507.1180406175105, 0.9185026257359109, 28.520323548350095, 142.78519359254395, 0.9185026257359109, 136.3043403295691, 1166.9592361978825, 83.72424401310752, 32.44288562028172, 2.8306837976198334], \"Category\": [\"Default\", \"Default\", \"Default\", \"Default\", \"Default\", \"Default\", \"Default\", \"Default\", \"Default\", \"Default\", \"Default\", \"Default\", \"Default\", \"Default\", \"Default\", \"Default\", \"Default\", \"Default\", \"Default\", \"Default\", \"Default\", \"Default\", \"Default\", \"Default\", \"Default\", \"Default\", \"Default\", \"Default\", \"Default\", \"Default\", \"Topic1\", \"Topic1\", \"Topic1\", \"Topic1\", \"Topic1\", \"Topic1\", \"Topic1\", \"Topic1\", \"Topic1\", \"Topic1\", \"Topic1\", \"Topic1\", \"Topic1\", \"Topic1\", \"Topic1\", \"Topic1\", \"Topic1\", \"Topic1\", \"Topic1\", \"Topic1\", \"Topic1\", \"Topic1\", \"Topic1\", \"Topic1\", \"Topic1\", \"Topic1\", \"Topic1\", \"Topic1\", \"Topic1\", \"Topic1\", \"Topic1\", \"Topic1\", \"Topic1\", \"Topic1\", \"Topic1\", \"Topic1\", \"Topic1\", \"Topic1\", \"Topic1\", \"Topic1\", \"Topic2\", \"Topic2\", \"Topic2\", \"Topic2\", \"Topic2\", \"Topic2\", \"Topic2\", \"Topic2\", \"Topic2\", \"Topic2\", \"Topic2\", \"Topic2\", \"Topic2\", \"Topic2\", \"Topic2\", \"Topic2\", \"Topic2\", \"Topic2\", \"Topic2\", \"Topic2\", \"Topic2\", \"Topic2\", \"Topic2\", \"Topic2\", \"Topic2\", \"Topic2\", \"Topic2\", \"Topic2\", \"Topic2\", \"Topic2\", \"Topic2\", \"Topic2\", \"Topic2\", \"Topic2\", \"Topic2\", \"Topic2\", \"Topic2\", \"Topic2\", \"Topic2\", \"Topic2\", \"Topic2\", \"Topic3\", \"Topic3\", \"Topic3\", \"Topic3\", \"Topic3\", \"Topic3\", \"Topic3\", \"Topic3\", \"Topic3\", \"Topic3\", \"Topic3\", \"Topic3\", \"Topic3\", \"Topic3\", \"Topic3\", \"Topic3\", \"Topic3\", \"Topic3\", \"Topic3\", \"Topic3\", \"Topic3\", \"Topic3\", \"Topic3\", \"Topic3\", \"Topic3\", \"Topic3\", \"Topic3\", \"Topic3\", \"Topic3\", \"Topic3\", \"Topic3\", \"Topic3\", \"Topic3\", \"Topic3\", \"Topic3\", \"Topic3\", \"Topic3\", \"Topic3\", \"Topic3\", \"Topic3\", \"Topic4\", \"Topic4\", \"Topic4\", \"Topic4\", \"Topic4\", \"Topic4\", \"Topic4\", \"Topic4\", \"Topic4\", \"Topic4\", \"Topic4\", \"Topic4\", \"Topic4\", \"Topic4\", \"Topic4\", \"Topic4\", \"Topic4\", \"Topic4\", \"Topic4\", \"Topic4\", \"Topic4\", \"Topic4\", \"Topic4\", \"Topic4\", \"Topic4\", \"Topic4\", \"Topic4\", \"Topic4\", \"Topic4\", \"Topic4\", \"Topic4\", \"Topic4\", \"Topic4\", \"Topic4\", \"Topic4\", \"Topic5\", \"Topic5\", \"Topic5\", \"Topic5\", \"Topic5\", \"Topic5\", \"Topic5\", \"Topic5\", \"Topic5\", \"Topic5\", \"Topic5\", \"Topic5\", \"Topic5\", \"Topic5\", \"Topic5\", \"Topic5\", \"Topic5\", \"Topic5\", \"Topic5\", \"Topic5\", \"Topic5\", \"Topic5\", \"Topic5\", \"Topic5\", \"Topic5\", \"Topic5\", \"Topic5\", \"Topic5\", \"Topic5\", \"Topic5\", \"Topic5\", \"Topic5\", \"Topic5\", \"Topic6\", \"Topic6\", \"Topic6\", \"Topic6\", \"Topic6\", \"Topic6\", \"Topic6\", \"Topic6\", \"Topic6\", \"Topic6\", \"Topic6\", \"Topic6\", \"Topic6\", \"Topic6\", \"Topic6\", \"Topic6\", \"Topic6\", \"Topic6\", \"Topic6\", \"Topic6\", \"Topic6\", \"Topic6\", \"Topic6\", \"Topic6\", \"Topic6\", \"Topic6\", \"Topic6\", \"Topic6\", \"Topic6\", \"Topic6\", \"Topic6\", \"Topic6\", \"Topic6\", \"Topic7\", \"Topic7\", \"Topic7\", \"Topic7\", \"Topic7\", \"Topic7\", \"Topic7\", \"Topic7\", \"Topic7\", \"Topic7\", \"Topic7\", \"Topic7\", \"Topic7\", \"Topic7\", \"Topic7\", \"Topic7\", \"Topic7\", \"Topic7\", \"Topic7\", \"Topic7\", \"Topic7\", \"Topic7\", \"Topic7\", \"Topic7\", \"Topic7\", \"Topic7\", \"Topic7\", \"Topic7\", \"Topic7\", \"Topic7\", \"Topic7\", \"Topic8\", \"Topic8\", \"Topic8\", \"Topic8\", \"Topic8\", \"Topic8\", \"Topic8\", \"Topic8\", \"Topic8\", \"Topic8\", \"Topic8\", \"Topic8\", \"Topic8\", \"Topic8\", \"Topic8\", \"Topic8\", \"Topic8\", \"Topic8\", \"Topic8\", \"Topic8\", \"Topic8\", \"Topic8\", \"Topic8\", \"Topic8\", \"Topic8\", \"Topic8\", \"Topic8\", \"Topic8\", \"Topic8\", \"Topic8\", \"Topic9\", \"Topic9\", \"Topic9\", \"Topic9\", \"Topic9\", \"Topic9\", \"Topic9\", \"Topic9\", \"Topic9\", \"Topic9\", \"Topic9\", \"Topic9\", \"Topic9\", \"Topic9\", \"Topic9\", \"Topic9\", \"Topic9\", \"Topic9\", \"Topic9\", \"Topic9\", \"Topic9\", \"Topic9\", \"Topic9\", \"Topic9\", \"Topic9\", \"Topic9\", \"Topic9\", \"Topic9\", \"Topic9\", \"Topic9\", \"Topic9\", \"Topic9\", \"Topic9\", \"Topic9\", \"Topic9\", \"Topic9\", \"Topic9\", \"Topic9\", \"Topic9\", \"Topic10\", \"Topic10\", \"Topic10\", \"Topic10\", \"Topic10\", \"Topic10\", \"Topic10\", \"Topic10\", \"Topic10\", \"Topic10\", \"Topic10\", \"Topic10\", \"Topic10\", \"Topic10\", \"Topic10\", \"Topic10\", \"Topic10\", \"Topic10\", \"Topic10\", \"Topic10\", \"Topic10\", \"Topic10\", \"Topic10\", \"Topic10\", \"Topic10\", \"Topic10\", \"Topic10\", \"Topic10\", \"Topic10\", \"Topic10\", \"Topic10\", \"Topic10\", \"Topic10\", \"Topic10\", \"Topic10\", \"Topic11\", \"Topic11\", \"Topic11\", \"Topic11\", \"Topic11\", \"Topic11\", \"Topic11\", \"Topic11\", \"Topic11\", \"Topic11\", \"Topic11\", \"Topic11\", \"Topic11\", \"Topic11\", \"Topic11\", \"Topic11\", \"Topic11\", \"Topic11\", \"Topic11\", \"Topic11\", \"Topic11\", \"Topic11\", \"Topic11\", \"Topic11\", \"Topic11\", \"Topic11\", \"Topic11\", \"Topic11\", \"Topic11\", \"Topic11\", \"Topic11\", \"Topic11\", \"Topic12\", \"Topic12\", \"Topic12\", \"Topic12\", \"Topic12\", \"Topic12\", \"Topic12\", \"Topic12\", \"Topic12\", \"Topic12\", \"Topic12\", \"Topic12\", \"Topic12\", \"Topic12\", \"Topic12\", \"Topic12\", \"Topic12\", \"Topic12\", \"Topic12\", \"Topic12\", \"Topic12\", \"Topic12\", \"Topic12\", \"Topic12\", \"Topic12\", \"Topic12\", \"Topic12\", \"Topic12\", \"Topic12\", \"Topic12\", \"Topic12\", \"Topic13\", \"Topic13\", \"Topic13\", \"Topic13\", \"Topic13\", \"Topic13\", \"Topic13\", \"Topic13\", \"Topic13\", \"Topic13\", \"Topic13\", \"Topic13\", \"Topic13\", \"Topic13\", \"Topic13\", \"Topic13\", \"Topic13\", \"Topic13\", \"Topic13\", \"Topic13\", \"Topic13\", \"Topic13\", \"Topic13\", \"Topic13\", \"Topic13\", \"Topic13\", \"Topic13\", \"Topic13\", \"Topic13\", \"Topic13\", \"Topic13\", \"Topic13\", \"Topic13\", \"Topic13\", \"Topic13\", \"Topic13\", \"Topic14\", \"Topic14\", \"Topic14\", \"Topic14\", \"Topic14\", \"Topic14\", \"Topic14\", \"Topic14\", \"Topic14\", \"Topic14\", \"Topic14\", \"Topic14\", \"Topic14\", \"Topic14\", \"Topic14\", \"Topic14\", \"Topic14\", \"Topic14\", \"Topic14\", \"Topic14\", \"Topic14\", \"Topic14\", \"Topic14\", \"Topic14\", \"Topic14\", \"Topic14\", \"Topic14\", \"Topic14\", \"Topic14\", \"Topic14\", \"Topic14\", \"Topic14\", \"Topic14\", \"Topic14\", \"Topic14\", \"Topic14\", \"Topic15\", \"Topic15\", \"Topic15\", \"Topic15\", \"Topic15\", \"Topic15\", \"Topic15\", \"Topic15\", \"Topic15\", \"Topic15\", \"Topic15\", \"Topic15\", \"Topic15\", \"Topic15\", \"Topic15\", \"Topic15\", \"Topic15\", \"Topic15\", \"Topic15\", \"Topic15\", \"Topic15\", \"Topic15\", \"Topic15\", \"Topic15\", \"Topic15\", \"Topic15\", \"Topic15\", \"Topic15\", \"Topic15\", \"Topic15\", \"Topic16\", \"Topic16\", \"Topic16\", \"Topic16\", \"Topic16\", \"Topic16\", \"Topic16\", \"Topic16\", \"Topic16\", \"Topic16\", \"Topic16\", \"Topic16\", \"Topic16\", \"Topic16\", \"Topic16\", \"Topic16\", \"Topic16\", \"Topic16\", \"Topic16\", \"Topic16\", \"Topic16\", \"Topic16\", \"Topic16\", \"Topic16\", \"Topic16\", \"Topic16\", \"Topic16\", \"Topic16\", \"Topic16\", \"Topic16\", \"Topic16\", \"Topic16\", \"Topic16\", \"Topic16\", \"Topic16\", \"Topic16\", \"Topic16\", \"Topic16\", \"Topic16\", \"Topic16\", \"Topic16\", \"Topic16\", \"Topic16\", \"Topic16\", \"Topic16\", \"Topic16\", \"Topic17\", \"Topic17\", \"Topic17\", \"Topic17\", \"Topic17\", \"Topic17\", \"Topic17\", \"Topic17\", \"Topic17\", \"Topic17\", \"Topic17\", \"Topic17\", \"Topic17\", \"Topic17\", \"Topic17\", \"Topic17\", \"Topic17\", \"Topic17\", \"Topic17\", \"Topic17\", \"Topic17\", \"Topic17\", \"Topic17\", \"Topic17\", \"Topic17\", \"Topic17\", \"Topic17\", \"Topic17\", \"Topic17\", \"Topic17\", \"Topic17\", \"Topic17\", \"Topic17\", \"Topic17\", \"Topic17\", \"Topic17\", \"Topic17\", \"Topic18\", \"Topic18\", \"Topic18\", \"Topic18\", \"Topic18\", \"Topic18\", \"Topic18\", \"Topic18\", \"Topic18\", \"Topic18\", \"Topic18\", \"Topic18\", \"Topic18\", \"Topic18\", \"Topic18\", \"Topic18\", \"Topic18\", \"Topic18\", \"Topic18\", \"Topic18\", \"Topic18\", \"Topic18\", \"Topic18\", \"Topic18\", \"Topic18\", \"Topic18\", \"Topic18\", \"Topic18\", \"Topic18\", \"Topic18\", \"Topic18\", \"Topic18\", \"Topic18\", \"Topic18\", \"Topic18\", \"Topic18\", \"Topic18\", \"Topic18\", \"Topic18\", \"Topic18\", \"Topic18\", \"Topic18\", \"Topic18\", \"Topic18\", \"Topic18\", \"Topic18\", \"Topic19\", \"Topic19\", \"Topic19\", \"Topic19\", \"Topic19\", \"Topic19\", \"Topic19\", \"Topic19\", \"Topic19\", \"Topic19\", \"Topic19\", \"Topic19\", \"Topic19\", \"Topic19\", \"Topic19\", \"Topic19\", \"Topic19\", \"Topic19\", \"Topic19\", \"Topic19\", \"Topic19\", \"Topic19\", \"Topic19\", \"Topic19\", \"Topic19\", \"Topic19\", \"Topic19\", \"Topic19\", \"Topic19\", \"Topic19\", \"Topic19\", \"Topic19\", \"Topic19\", \"Topic19\", \"Topic19\", \"Topic19\", \"Topic19\", \"Topic19\", \"Topic19\", \"Topic19\", \"Topic19\", \"Topic19\", \"Topic19\", \"Topic19\", \"Topic19\", \"Topic19\", \"Topic19\", \"Topic19\", \"Topic19\", \"Topic19\", \"Topic20\", \"Topic20\", \"Topic20\", \"Topic20\", \"Topic20\", \"Topic20\", \"Topic20\", \"Topic20\", \"Topic20\", \"Topic20\", \"Topic20\", \"Topic20\", \"Topic20\", \"Topic20\", \"Topic20\", \"Topic20\", \"Topic20\", \"Topic20\", \"Topic20\", \"Topic20\", \"Topic20\", \"Topic20\", \"Topic20\", \"Topic20\", \"Topic20\", \"Topic20\", \"Topic20\", \"Topic20\", \"Topic20\", \"Topic20\", \"Topic20\", \"Topic20\", \"Topic20\", \"Topic20\", \"Topic20\", \"Topic20\", \"Topic20\", \"Topic20\", \"Topic20\", \"Topic20\", \"Topic20\", \"Topic20\", \"Topic20\", \"Topic20\", \"Topic20\", \"Topic20\", \"Topic20\", \"Topic20\", \"Topic20\", \"Topic20\", \"Topic20\", \"Topic20\", \"Topic20\", \"Topic20\", \"Topic20\", \"Topic20\", \"Topic20\", \"Topic20\", \"Topic20\", \"Topic20\"], \"logprob\": [30.0, 29.0, 28.0, 27.0, 26.0, 25.0, 24.0, 23.0, 22.0, 21.0, 20.0, 19.0, 18.0, 17.0, 16.0, 15.0, 14.0, 13.0, 12.0, 11.0, 10.0, 9.0, 8.0, 7.0, 6.0, 5.0, 4.0, 3.0, 2.0, 1.0, -3.6131, -3.9087, -4.048, -4.1564, -4.1232, -4.3482, -4.4361, -4.526, -4.527, -4.5436, -4.6548, -4.708, -4.7455, -4.7543, -4.7885, -4.7944, -4.802, -4.8176, -4.8787, -4.8959, -4.9333, -4.9343, -4.9377, -4.9382, -4.9412, -4.9601, -4.9323, -5.0035, -5.016, -5.052, -4.3009, -3.552, -3.8507, -4.1607, -4.47, -4.6271, -4.5472, -4.8779, -4.8505, -4.6992, -3.2179, -3.5398, -3.5603, -3.8998, -4.1233, -4.3217, -4.327, -4.3581, -4.4837, -4.5346, -4.5594, -4.5772, -4.6502, -4.6604, -4.7387, -4.8412, -4.8628, -4.9014, -4.9089, -4.9248, -4.9448, -4.9634, -5.0006, -5.0018, -5.0139, -5.0458, -5.0566, -5.0588, -5.0601, -5.0711, -3.7427, -4.7349, -4.3629, -4.4812, -4.1184, -2.8542, -3.4728, -4.4818, -4.8603, -4.6084, -4.8566, -3.5041, -3.5327, -3.6034, -3.7489, -3.7874, -3.8579, -3.9251, -3.9381, -3.9496, -3.9561, -4.4458, -4.4653, -4.483, -4.5839, -4.586, -4.6944, -4.6995, -4.7292, -4.746, -4.8008, -4.8757, -4.8774, -4.8835, -4.9036, -4.9214, -4.9238, -4.948, -4.9506, -4.9511, -4.9566, -4.6264, -3.3411, -4.4457, -3.9469, -3.8429, -4.2386, -3.9799, -4.7343, -4.7465, -4.8567, -2.9005, -3.3294, -3.3927, -3.5425, -3.6145, -3.8457, -3.8659, -4.0171, -4.0769, -4.2126, -4.2852, -4.3195, -4.321, -4.3433, -4.3749, -4.4526, -4.5073, -4.5373, -4.5677, -4.6347, -4.6407, -4.6411, -4.6434, -4.7064, -4.7683, -4.7736, -4.787, -4.8384, -4.9104, -4.9119, -4.3013, -4.2284, -3.7376, -3.437, -4.6698, -2.5962, -3.3096, -3.3307, -3.5088, -3.7429, -3.8509, -3.8673, -3.8847, -3.9262, -4.0283, -4.1502, -4.1592, -4.1838, -4.2944, -4.3083, -4.3113, -4.3204, -4.3485, -4.3831, -4.378, -4.4424, -4.4632, -4.4698, -4.5074, -4.5186, -4.6536, -4.6874, -4.7519, -4.7624, -4.7746, -3.7, -4.4365, -4.5688, -3.1656, -3.3209, -3.3239, -3.807, -3.8324, -3.8685, -3.9454, -3.971, -4.1928, -4.2443, -4.3347, -4.345, -4.3504, -4.3511, -4.4042, -4.4256, -4.4284, -4.4379, -4.4739, -4.4924, -4.5427, -4.584, -4.6448, -4.6731, -4.6822, -4.7062, -4.7453, -4.7781, -4.7819, -4.8137, -4.4794, -2.6586, -4.4201, -2.5029, -2.9798, -3.3871, -3.4679, -3.6389, -3.6603, -3.7114, -3.8509, -3.863, -4.014, -4.1619, -4.3302, -4.5014, -4.5924, -4.6059, -4.6677, -4.6767, -4.8133, -4.8604, -5.0123, -5.0549, -5.0624, -5.2817, -5.2955, -5.4388, -5.4564, -5.5169, -5.5665, -5.6446, -5.7776, -5.3075, -2.7702, -2.969, -3.0726, -3.3756, -3.6468, -3.8043, -3.9209, -3.9793, -4.0297, -4.0686, -4.1079, -4.2146, -4.2265, -4.3868, -4.4577, -4.6329, -4.6432, -4.6556, -4.6973, -4.834, -4.9255, -4.9397, -5.005, -5.0755, -5.2137, -5.2994, -5.4094, -5.5629, -5.6661, -5.8707, -2.1737, -2.9206, -3.0496, -3.1202, -3.6213, -3.6915, -3.7823, -3.783, -3.8101, -4.1388, -4.1867, -4.2322, -4.4694, -4.5194, -4.8353, -5.0501, -5.6221, -7.0257, -7.0561, -7.5884, -7.7799, -7.9242, -10.2796, -10.2796, -10.2796, -10.2796, -10.2796, -10.2796, -10.2796, -10.2797, -10.2797, -5.1927, -5.059, -10.2796, -10.2795, -10.2795, -10.2795, -10.2796, -10.2796, -2.7646, -2.9103, -2.984, -3.3528, -3.49, -3.5181, -3.818, -3.9432, -4.0685, -4.1096, -4.4942, -4.7136, -4.9548, -4.9551, -5.1495, -5.1817, -5.347, -5.4887, -5.9695, -6.3567, -6.6085, -6.6748, -6.9839, -10.1381, -10.1383, -10.1383, -10.1383, -10.1384, -10.1384, -10.1384, -10.1383, -10.1383, -10.1383, -10.1383, -10.1383, -2.5689, -3.4051, -3.5719, -3.5858, -3.6003, -3.7325, -3.8462, -3.8882, -4.1291, -4.2181, -4.3697, -4.4629, -4.4898, -4.7007, -4.831, -4.8937, -4.9134, -5.0421, -5.0874, -5.1457, -5.2006, -5.4258, -5.5289, -6.2587, -6.6337, -7.1663, -7.69, -10.1288, -10.1289, -10.1291, -6.6301, -9.4267, -2.035, -2.6213, -3.5314, -3.7058, -3.7568, -4.1167, -4.2932, -4.4393, -4.5243, -4.8102, -4.942, -4.943, -5.1119, -5.4086, -5.5412, -5.5623, -5.5917, -5.6412, -5.6887, -5.819, -5.9, -6.0172, -6.7995, -6.9043, -7.3693, -10.1297, -10.1297, -10.1298, -10.1298, -10.1298, -10.1298, -3.0403, -3.093, -3.1821, -3.3619, -3.4506, -3.754, -3.931, -4.0582, -4.0894, -4.3366, -4.3407, -4.3841, -4.5148, -4.6543, -4.8661, -5.227, -5.2728, -6.389, -6.4545, -6.4715, -6.6791, -7.4809, -5.324, -4.4109, -10.109, -10.1092, -10.1093, -10.1093, -10.1094, -10.1093, -10.1093, -5.569, -10.1093, -10.1093, -10.1093, -10.108, -2.7491, -2.9186, -3.0585, -3.0639, -3.6095, -3.8025, -3.9031, -3.9039, -4.1231, -4.3242, -4.4751, -4.6074, -4.7064, -4.8394, -5.2781, -5.2971, -5.8125, -5.8231, -5.8456, -5.9777, -7.0076, -7.4535, -7.8061, -4.3152, -10.1472, -10.1473, -10.1473, -10.1474, -10.1474, -10.1474, -10.1474, -10.1473, -10.1474, -10.1474, -10.1473, -10.1473, -3.3066, -3.3576, -3.7742, -3.9289, -3.9339, -3.9746, -3.9816, -4.0244, -4.134, -4.2043, -4.3677, -4.5817, -4.6233, -4.712, -4.9366, -4.9562, -5.0394, -5.1095, -5.1676, -5.2993, -5.5419, -5.7234, -5.8075, -5.9559, -6.2194, -6.4613, -6.6114, -6.994, -7.7142, -7.7192, -2.875, -3.3301, -3.4092, -3.4495, -3.5626, -3.6343, -3.8537, -3.9754, -4.6394, -4.6649, -4.6839, -4.8481, -4.8864, -5.1247, -5.7652, -6.7488, -6.8114, -9.9937, -9.9937, -9.9937, -9.9937, -9.9937, -9.9937, -9.9937, -9.9937, -9.9937, -9.9937, -9.9937, -9.9937, -9.9937, -9.9937, -9.9937, -9.9937, -9.9937, -9.9937, -9.9937, -9.9937, -9.9936, -9.9937, -9.9937, -9.9937, -9.9937, -9.9937, -9.9937, -9.9937, -9.9937, -2.9632, -3.526, -3.529, -4.172, -4.2141, -4.4257, -4.4274, -4.4674, -4.5056, -4.5384, -4.5403, -4.5606, -5.3725, -5.6623, -5.6838, -6.1692, -6.3535, -6.8365, -8.0145, -9.8957, -9.8957, -9.8957, -9.8957, -9.8958, -9.8958, -9.8958, -9.8958, -9.8958, -9.8958, -9.8958, -9.8958, -9.8957, -9.8957, -9.8958, -9.8958, -9.8957, -9.8958, -2.8764, -3.1449, -3.3524, -3.4822, -4.1443, -4.1831, -4.2332, -4.6384, -4.8098, -4.8965, -4.9617, -5.508, -5.6873, -9.9158, -9.9158, -9.9158, -9.9158, -9.9158, -9.9158, -9.9158, -9.9158, -9.9158, -9.9158, -9.9158, -9.9159, -9.9159, -9.9159, -9.9159, -9.9158, -9.9158, -9.9158, -9.9159, -9.9159, -9.9158, -9.9158, -9.9158, -9.9158, -9.9158, -9.9158, -9.9158, -9.9158, -9.9158, -9.9158, -9.9158, -9.9158, -9.9158, -3.0445, -3.6842, -3.6909, -3.7885, -4.2596, -4.6632, -4.9218, -5.1252, -5.2099, -6.2533, -7.6633, -9.8079, -9.8079, -9.8079, -9.8079, -9.8079, -9.8079, -9.8079, -9.8079, -9.8079, -9.8079, -9.8079, -9.8079, -9.8079, -9.8079, -9.8079, -9.8079, -9.8079, -9.8079, -9.8079, -9.8079, -9.8079, -9.8079, -9.8079, -9.8079, -9.8079, -9.8079, -9.8079, -9.8079, -9.8079, -9.8079, -9.8079, -9.8079, -9.8079, -9.8079, -9.8079, -9.8079, -9.8079, -9.8079, -9.8079, -9.6284, -9.6284, -9.6284, -9.6284, -9.6284, -9.6284, -9.6284, -9.6284, -9.6284, -9.6284, -9.6284, -9.6284, -9.6284, -9.6284, -9.6284, -9.6284, -9.6284, -9.6284, -9.6284, -9.6284, -9.6284, -9.6284, -9.6284, -9.6284, -9.6284, -9.6284, -9.6284, -9.6284, -9.6284, -9.6284, -9.6284, -9.6284, -9.6284, -9.6284, -9.6284, -9.6284, -9.6284, -9.6284, -9.6284, -9.6284, -9.6284, -9.6284, -9.6284, -9.6284, -9.6284, -9.6284, -9.6284, -9.6284, -9.6284, -9.6284, -9.6284, -9.6284, -9.6284, -9.6284, -9.6284, -9.6284, -9.6284, -9.6284, -9.6284, -9.6284], \"loglift\": [30.0, 29.0, 28.0, 27.0, 26.0, 25.0, 24.0, 23.0, 22.0, 21.0, 20.0, 19.0, 18.0, 17.0, 16.0, 15.0, 14.0, 13.0, 12.0, 11.0, 10.0, 9.0, 8.0, 7.0, 6.0, 5.0, 4.0, 3.0, 2.0, 1.0, 0.9284, 0.9281, 0.928, 0.9278, 0.9278, 0.9276, 0.9274, 0.9272, 0.9272, 0.9272, 0.927, 0.9269, 0.9268, 0.9268, 0.9267, 0.9267, 0.9266, 0.9266, 0.9264, 0.9264, 0.9263, 0.9263, 0.9263, 0.9263, 0.9263, 0.9262, 0.9261, 0.9261, 0.926, 0.9259, 0.9235, 0.9154, 0.8603, 0.8698, 0.8195, 0.8045, 0.7537, 0.8814, 0.8413, -0.741, 1.3122, 1.312, 1.3119, 1.3114, 1.3111, 1.3107, 1.3107, 1.3106, 1.3103, 1.3102, 1.3101, 1.31, 1.3098, 1.3098, 1.3095, 1.3092, 1.3091, 1.3089, 1.3089, 1.3088, 1.3087, 1.3087, 1.3085, 1.3085, 1.3084, 1.3083, 1.3082, 1.3082, 1.3082, 1.3082, 1.3061, 1.303, 1.2873, 1.2837, 1.2327, 1.104, 1.1611, 1.2255, 1.1939, 0.8511, 0.9291, 2.3365, 2.3364, 2.3362, 2.3357, 2.3356, 2.3353, 2.335, 2.335, 2.3349, 2.3349, 2.3321, 2.332, 2.3318, 2.331, 2.331, 2.3301, 2.33, 2.3298, 2.3296, 2.329, 2.3283, 2.3282, 2.3282, 2.3279, 2.3277, 2.3277, 2.3274, 2.3274, 2.3274, 2.3273, 2.3199, 2.2777, 2.2883, 2.1411, 2.018, 2.1065, 1.7035, 2.0157, 1.8774, 1.9107, 3.0021, 3.0005, 3.0002, 2.9993, 2.9989, 2.9973, 2.9972, 2.9959, 2.9953, 2.9939, 2.993, 2.9926, 2.9926, 2.9923, 2.9919, 2.9908, 2.99, 2.9896, 2.9891, 2.988, 2.9879, 2.9879, 2.9879, 2.9867, 2.9856, 2.9855, 2.9852, 2.9842, 2.9826, 2.9826, 2.9535, 2.8563, 2.5567, 2.2465, 2.6286, 3.0815, 3.0789, 3.0788, 3.0778, 3.0762, 3.0754, 3.0752, 3.0751, 3.0747, 3.0737, 3.0724, 3.0723, 3.072, 3.0707, 3.0705, 3.0704, 3.0703, 3.0699, 3.0694, 3.0693, 3.0686, 3.0682, 3.0681, 3.0675, 3.0674, 3.065, 3.0643, 3.063, 3.0628, 3.0626, 2.9373, 2.9834, 2.7983, 3.4251, 3.4241, 3.4241, 3.4196, 3.4193, 3.4189, 3.4178, 3.4176, 3.4142, 3.4133, 3.4117, 3.4115, 3.4114, 3.4114, 3.4103, 3.4098, 3.4098, 3.4096, 3.4088, 3.4084, 3.4072, 3.4062, 3.4047, 3.4039, 3.4037, 3.403, 3.4019, 3.4009, 3.4008, 3.3998, 3.3787, 3.1071, 2.8599, 4.1182, 4.1143, 4.1092, 4.1079, 4.1048, 4.1044, 4.1034, 4.1002, 4.0999, 4.0959, 4.0914, 4.0855, 4.0783, 4.074, 4.0734, 4.0702, 4.0697, 4.0619, 4.059, 4.0486, 4.0454, 4.0449, 4.0262, 4.0249, 4.0104, 4.0085, 4.0017, 3.9958, 3.986, 3.9678, 1.4608, 4.219, 4.217, 4.2157, 4.2113, 4.2061, 4.2023, 4.1992, 4.1974, 4.1959, 4.1946, 4.1933, 4.1894, 4.1889, 4.1823, 4.179, 4.1698, 4.1692, 4.1685, 4.166, 4.1572, 4.1506, 4.1496, 4.1445, 4.1386, 4.126, 4.1173, 4.1052, 4.0861, 4.0718, 4.0395, 4.5474, 4.5394, 4.5373, 4.5361, 4.5242, 4.5221, 4.519, 4.519, 4.518, 4.5042, 4.5018, 4.4994, 4.4851, 4.4817, 4.4559, 4.4336, 4.3493, 3.8983, 3.8836, 3.5882, 3.4654, 3.3673, 1.335, 1.335, 1.335, 1.335, 1.3349, 1.3349, 1.3349, 1.3349, 1.3349, 1.1429, 0.9073, 1.3349, 1.3349, 1.3349, 1.3348, 1.3349, 1.3349, 4.6176, 4.6154, 4.6142, 4.6065, 4.6029, 4.6021, 4.592, 4.5868, 4.581, 4.5789, 4.5551, 4.5372, 4.5129, 4.5129, 4.4892, 4.4848, 4.4606, 4.437, 4.3333, 4.2183, 4.1258, 4.0989, 3.9595, 1.4763, 1.4762, 1.4762, 1.4762, 1.4762, 1.4762, 1.4762, 1.4761, 1.4762, 1.4761, 1.4761, -2.85, 4.7059, 4.6897, 4.6845, 4.6841, 4.6836, 4.6787, 4.674, 4.6722, 4.6599, 4.6546, 4.6445, 4.6376, 4.6355, 4.6169, 4.6036, 4.5966, 4.5943, 4.5784, 4.5723, 4.5642, 4.5562, 4.519, 4.4996, 4.3078, 4.1653, 3.9038, 3.5791, 1.4857, 1.4856, 1.4855, 1.228, -1.8483, 4.7145, 4.7086, 4.6891, 4.683, 4.681, 4.6638, 4.6529, 4.6425, 4.6358, 4.6088, 4.5939, 4.5938, 4.5719, 4.5249, 4.4998, 4.4956, 4.4896, 4.4791, 4.4687, 4.438, 4.4174, 4.3852, 4.0932, 4.0429, 3.7869, 1.4849, 1.4849, 1.4848, 1.4848, 1.4847, 1.4846, 4.794, 4.7928, 4.7906, 4.7857, 4.7829, 4.7713, 4.7629, 4.7559, 4.754, 4.7372, 4.7369, 4.7336, 4.7225, 4.7092, 4.6856, 4.6337, 4.6259, 4.3216, 4.2956, 4.2886, 4.1983, 3.7492, 3.284, 2.4582, 1.5055, 1.5054, 1.5053, 1.5053, 1.5053, 1.5053, 1.5053, 0.7145, 1.5052, 1.5052, 1.5051, -4.6736, 4.8027, 4.7997, 4.7967, 4.7966, 4.7803, 4.7722, 4.7673, 4.7673, 4.7549, 4.7411, 4.7289, 4.7167, 4.7066, 4.6915, 4.6274, 4.6241, 4.5111, 4.5083, 4.5022, 4.4645, 4.034, 3.7672, 3.5242, 2.7695, 1.4673, 1.4673, 1.4673, 1.4672, 1.4672, 1.4672, 1.4672, 1.4671, 1.467, 1.467, -3.8937, -4.0991, 4.8763, 4.8746, 4.8579, 4.8498, 4.8495, 4.8471, 4.8467, 4.8441, 4.837, 4.832, 4.8191, 4.799, 4.7946, 4.7848, 4.756, 4.7532, 4.7409, 4.7297, 4.72, 4.6962, 4.6451, 4.6002, 4.5772, 4.5331, 4.4431, 4.3462, 4.2789, 4.082, 3.6165, 3.6128, 4.9155, 4.9034, 4.9007, 4.8993, 4.8949, 4.8918, 4.8811, 4.8741, 4.8185, 4.8156, 4.8134, 4.793, 4.7877, 4.7512, 4.6097, 4.2265, 4.1942, 1.6209, 1.6209, 1.6209, 1.6209, 1.6209, 1.6209, 1.6209, 1.6209, 1.6209, 1.6209, 1.6209, 1.6209, 1.6209, 1.6209, 1.6209, 1.6209, 1.6208, 1.6209, 1.6208, 1.6208, 1.6208, 1.6207, 1.6208, 1.6208, 1.6208, 1.6208, 1.6208, 1.6208, 1.6207, 5.2662, 5.2416, 5.2414, 5.1917, 5.1873, 5.1625, 5.1623, 5.1571, 5.1519, 5.1474, 5.1471, 5.1442, 4.9784, 4.8901, 4.8828, 4.6897, 4.6013, 4.3297, 3.4561, 1.7189, 1.7189, 1.7189, 1.7189, 1.7188, 1.7188, 1.7188, 1.7188, 1.7188, 1.7188, 1.7188, 1.7188, 1.7188, 1.7188, 1.7188, 1.7188, 1.7187, 1.7187, 5.431, 5.4201, 5.4095, 5.4017, 5.3436, 5.339, 5.3329, 5.2718, 5.2392, 5.2208, 5.2062, 5.0517, 4.987, 1.6988, 1.6988, 1.6988, 1.6988, 1.6988, 1.6988, 1.6988, 1.6988, 1.6988, 1.6988, 1.6987, 1.6987, 1.6987, 1.6987, 1.6987, 1.6987, 1.6987, 1.6987, 1.6987, 1.6987, 1.6987, 1.6987, 1.6987, 1.6987, 1.6987, 1.6987, 1.6987, 1.6987, 1.6987, 1.6986, 1.6986, 1.6987, 1.6987, 5.723, 5.6733, 5.6726, 5.6621, 5.5964, 5.5157, 5.4491, 5.3872, 5.3588, 4.8678, 3.8189, 1.8067, 1.8067, 1.8067, 1.8067, 1.8067, 1.8067, 1.8067, 1.8067, 1.8067, 1.8067, 1.8067, 1.8067, 1.8067, 1.8067, 1.8067, 1.8067, 1.8067, 1.8067, 1.8067, 1.8067, 1.8067, 1.8067, 1.8067, 1.8067, 1.8067, 1.8067, 1.8067, 1.8066, 1.8066, 1.8066, 1.8066, 1.8066, 1.8066, 1.8066, 1.8066, 1.8065, 1.8066, 1.8066, 1.8065, 1.9862, 1.9862, 1.9862, 1.9862, 1.9862, 1.9862, 1.9862, 1.9862, 1.9862, 1.9862, 1.9862, 1.9862, 1.9862, 1.9862, 1.9862, 1.9862, 1.9862, 1.9862, 1.9862, 1.9862, 1.9862, 1.9862, 1.9862, 1.9862, 1.9862, 1.9862, 1.9862, 1.9862, 1.9862, 1.9862, -2.473, 0.8748, -3.8635, -2.7382, -1.579, -1.9099, -2.957, -1.2244, 1.9862, 1.6479, -3.5905, -4.1751, 1.9862, -4.194, -3.2387, -2.7134, -3.2196, -3.4181, -1.765, 0.9548, -4.3275, 1.9862, -1.4494, -3.0601, 1.9862, -3.0137, -5.1609, -2.5263, -1.5783, 0.8607]}, \"token.table\": {\"Topic\": [8, 7, 6, 12, 9, 12, 9, 16, 17, 1, 12, 11, 12, 16, 2, 6, 2, 3, 2, 14, 14, 17, 1, 2, 12, 15, 7, 6, 5, 1, 2, 4, 1, 1, 2, 3, 11, 5, 11, 3, 7, 17, 16, 6, 5, 8, 8, 18, 1, 2, 3, 15, 4, 1, 7, 1, 1, 2, 2, 7, 14, 12, 10, 1, 7, 12, 17, 8, 3, 1, 2, 15, 9, 2, 5, 15, 10, 6, 1, 6, 15, 1, 12, 13, 14, 10, 18, 11, 5, 11, 2, 4, 17, 4, 1, 2, 6, 11, 3, 4, 4, 15, 3, 4, 17, 5, 1, 2, 14, 16, 10, 17, 6, 14, 6, 2, 6, 8, 14, 19, 15, 7, 14, 18, 14, 4, 2, 1, 6, 18, 9, 7, 11, 1, 4, 10, 7, 10, 10, 3, 4, 9, 15, 3, 4, 8, 12, 8, 1, 2, 11, 3, 13, 6, 11, 1, 11, 2, 8, 11, 1, 11, 1, 10, 19, 17, 7, 8, 1, 4, 12, 4, 2, 3, 8, 1, 2, 9, 7, 1, 2, 18, 3, 4, 6, 9, 2, 12, 7, 7, 14, 10, 4, 18, 1, 1, 17, 5, 19, 8, 6, 2, 16, 2, 6, 7, 8, 11, 13, 5, 13, 6, 8, 5, 8, 19, 8, 4, 9, 1, 3, 1, 17, 13, 15, 4, 3, 13, 5, 8, 9, 5, 12, 1, 1, 10, 2, 3, 9, 10, 16, 13, 8, 3, 3, 17, 2, 15, 5, 15, 3, 4, 11, 3, 18, 13, 15, 5, 6, 1, 2, 1, 19, 11, 11, 18, 8, 11, 10, 1, 2, 5, 14, 7, 14, 13, 5, 4, 7, 2, 11, 3, 7, 7, 11, 2, 5, 5, 6, 12, 15, 12, 5, 18, 11, 5, 2, 9, 6, 4, 5, 15, 5, 14, 1, 15, 10, 5, 15, 17, 1, 19, 10, 2, 3, 11, 10, 10, 4, 15, 2, 5, 14, 7, 7, 17, 8, 13, 17, 1, 2, 8, 1, 12, 4, 5, 3, 13, 15, 6, 4, 1, 2, 4, 6, 17, 6, 16, 16, 5, 19, 3, 15, 5, 18, 3, 6, 4, 10, 1, 8, 7, 14, 12, 3, 4, 4, 4, 2, 16, 3, 2, 17, 4, 9, 6, 2, 12, 16, 9, 3, 16, 19, 8, 3, 9, 13, 4, 1, 2, 2, 2, 13, 1, 9, 13, 1, 18, 9, 1, 14, 8, 12, 2, 1, 2, 1, 2, 8, 2, 3, 3, 13, 14, 2, 17, 14, 3, 7, 16, 2, 2, 10, 12, 7, 8, 5, 7, 1, 6, 2, 15, 15, 14, 15, 3, 1, 2, 10, 16, 4, 5, 3, 1, 5, 6, 2, 3, 3, 11, 2, 3, 1, 2, 6, 14, 18, 1, 9, 1, 1, 6, 7, 12, 13, 7, 1, 7, 6, 4, 14, 11, 3, 8, 2, 13, 11, 7, 16, 18, 16, 8, 2, 13, 8, 7, 12, 4, 15, 5, 1, 1, 8, 3, 13, 17, 9, 13, 5, 2, 15, 7, 1, 2, 3, 3, 4, 10, 15, 14, 6, 9, 13, 4, 2, 3, 11, 4, 5, 9, 12, 10, 19, 6, 4, 16, 6, 7, 3, 2, 9, 2, 19, 1, 2, 6, 1, 13, 13, 11, 3, 12, 4, 5, 16, 9, 6, 1, 2, 1, 5, 1, 2, 4, 11, 13, 5, 1, 1, 10, 5, 6, 12, 8, 15, 2, 15, 8, 10, 12, 15], \"Freq\": [0.8333788859733174, 0.9771514381781615, 0.9810078376977521, 0.8106840191273302, 0.8420560375291553, 0.7605789484876153, 0.951006639172391, 0.5744634526332564, 0.8928443185913137, 0.995954988098958, 0.9900154259314954, 0.9248487824336549, 0.9061589341087827, 0.6302731055493958, 0.9807785225365996, 0.9853752655643802, 0.010221811450619336, 0.9812938992594563, 0.9977211553607199, 0.6138582342974425, 0.9524266172942558, 0.7910350181998992, 0.696969735301901, 0.30079746470924146, 0.5289133809747848, 0.8100001151599303, 0.8879906998526914, 0.776298403400424, 0.9883301798413453, 0.99779309098456, 0.9959905615056048, 0.9907017844390628, 0.995281646805573, 0.9863240842500377, 0.011996991467854498, 0.0008569279619896071, 0.9107983901709249, 0.991349650013034, 0.8915132919778231, 0.9886332811963383, 0.9422364733337873, 0.792327600669198, 0.7653583993051316, 0.9815405205906972, 0.9863487599264336, 0.9922060705150483, 0.7165815016051884, 0.9086748187831475, 0.07465126789771526, 0.9227726170689803, 0.9918705814017337, 0.7065430627333544, 0.9887701976798396, 0.9980155635695745, 0.9275813282182885, 0.9993564833206332, 0.025090360731402472, 0.9722514783418458, 0.9239049967592761, 0.06843740716735378, 0.9732360007271232, 0.5950421213603535, 0.8044031448271636, 0.9952840997283332, 0.9316245004165752, 0.6478971710998509, 0.8610447147667344, 0.9158451013072522, 0.9932708166725348, 0.9336206686771271, 0.06559395798668341, 0.9855683602009766, 0.9337779372170164, 0.998737596916251, 0.9882240229648315, 0.8694283604761204, 0.9851966850585692, 0.9925167627871022, 0.998036343094624, 0.995600868510697, 0.5987860082427731, 0.9972517640540051, 0.8403082062329899, 0.7538593188114244, 0.8130447839098407, 0.905593149578445, 0.9568373070415507, 0.8615032820630947, 0.9846228984198478, 0.9599193203555023, 0.994393678776742, 0.985623154591195, 0.9171675515198692, 0.9912452076126563, 0.9543203306848529, 0.04366171447577758, 0.9906773278997868, 0.9730166236393221, 0.9963798117561014, 0.995524114694076, 0.9746847500411162, 0.9089583555829481, 0.5290445172773733, 0.46833449070456007, 0.5113705027482848, 0.9889610968621153, 0.9937848088999421, 0.0036536206209556695, 0.9357541478829408, 0.9077296546707494, 0.4696119801684439, 0.9228489118224636, 0.9822034105678394, 0.8430423954832764, 0.9759164770721069, 0.9949709382186598, 0.9856673139645734, 0.9253608598375962, 0.9690065885336593, 0.6278085801642583, 0.9396745804453627, 0.9144429133906354, 0.8008277517212762, 0.7921144926782929, 0.975088754154841, 0.9731880494842086, 0.9949395041234661, 0.9969379970819209, 0.9583158359695152, 0.9402648117700524, 0.9800229711701771, 0.9783292372813329, 0.9937648056052454, 0.9734139260233254, 0.9942653853764928, 0.9807589890111157, 0.8783597210765801, 0.4514375758007165, 0.8935028135045082, 0.8188464658758257, 0.17763336032226906, 0.9748669217946133, 0.9329029835685796, 0.30522548570954294, 0.6831237061118342, 0.9928733048713931, 0.558543336587203, 0.9869529799542591, 0.8380691790859649, 0.1597261258963839, 0.9679831287457146, 0.9862407818621028, 0.9676834895883466, 0.9411506670222807, 0.025436504514115693, 0.9952383634133196, 0.9268332941350989, 0.9971661619156577, 0.8884370366458328, 0.9032759036302576, 0.9974199742951388, 0.9755019575181905, 0.9937959045114675, 0.9852311850056771, 0.750342967913567, 0.6153858597696161, 0.8810198455301337, 0.7920118574995545, 0.9976645881437651, 0.9875244967252536, 0.9514397932742342, 0.9931672361777115, 0.9950605782075147, 0.9826176582524375, 0.9584840493557362, 0.9153951983563744, 0.08162759730566395, 0.8529811477828398, 0.9967778811928378, 0.006130512426891469, 0.9931430131564178, 0.922386322342056, 0.7223477522258495, 0.26878055896775793, 0.9870733805772206, 0.9516478316726766, 0.9990698940492563, 0.8171115485603186, 0.9197259109921667, 0.9743727385024338, 0.9925616656081198, 0.9799198411407501, 0.9786844116931934, 0.6824587814213101, 0.9983777413033097, 0.9975724557070216, 0.9501455806273157, 0.9930886351368182, 0.9169528040067042, 0.8953984130331888, 0.9894841158979567, 0.9973671718091998, 0.9592523439162524, 0.27309058997579017, 0.7219636286716291, 0.8741608118117636, 0.9771541897227369, 0.9371402034115247, 0.9169957089880184, 0.9773769000200174, 0.9419679340558758, 0.9741274010525286, 0.9795635117282437, 0.9715871828306799, 0.9660103851965988, 0.8753404073310634, 0.9420119791903261, 0.9849982077056831, 0.9048605596576227, 0.2727312079474358, 0.7249816920121712, 0.9973542115269408, 0.9474534284039203, 0.5208528833096097, 0.7743965674082943, 0.9853786858383031, 0.9950825307387381, 0.4585976262518145, 0.9834650346681232, 0.9508409619994026, 0.9955484981369125, 0.9833460693879692, 0.9352794909813649, 0.995882527298321, 0.9984296445583866, 0.9208856499205966, 0.9956420208886861, 0.9978767908656682, 0.9573246068757228, 0.5564708862004102, 0.9169138846742126, 0.9437318838707279, 0.9248401966259532, 0.9966947097808162, 0.9979859108721915, 0.9524214012835187, 0.9987086354961661, 0.9289405980183149, 0.9915842591669184, 0.933448593231246, 0.9506618278727051, 0.04133312295098718, 0.8103922516646328, 0.9972380347204829, 0.9284705004612908, 0.9699540423228696, 0.9083251097897188, 0.42810923800889267, 0.5708123173451902, 0.13967690503274652, 0.8593166113971143, 0.9987778426836876, 0.7771882224742099, 0.8891723087781501, 0.6316034939131613, 0.758229687525307, 0.9357128373475866, 0.8811615247798551, 0.9311868552130405, 0.008241940307331622, 0.9890328368797946, 0.9794798541368356, 0.6034347457304504, 0.9887668648098261, 0.8794495776043181, 0.9539247972130294, 0.9834777566375189, 0.9965151344811572, 0.9774075482694139, 0.9993664067987803, 0.8199845100998554, 0.9924566169640973, 0.8871463489354598, 0.9731384562820126, 0.9850070742727189, 0.12756604333438093, 0.862946763732577, 0.9835958189021206, 0.9784609510951016, 0.9598003644530203, 0.42016963198741347, 0.9027903067147133, 0.9788128417906511, 0.42515389552421257, 0.8492733065887823, 0.9746010377781313, 0.9967519930239738, 0.9137753748557048, 0.9698206536340165, 0.9461697387944651, 0.04174278259387346, 0.9222858520554504, 0.9900565713106377, 0.7884088572271212, 0.9990314791010515, 0.9624993746070347, 0.9541507528717605, 0.9877595211946303, 0.7835601865341716, 0.695341675891353, 0.9977956685747023, 0.7232506237930295, 0.9216739295748347, 0.34186274053781446, 0.6495392070218474, 0.7634808325447525, 0.9587468193324038, 0.9717483201962581, 0.9804421322132412, 0.960577469725659, 0.9943392435803267, 0.9943594677798098, 0.6134577122754254, 0.9816693326891905, 0.9369245008064373, 0.9587632922743967, 0.9872121023338909, 0.4408688126009149, 0.86233249981049, 0.8831849490166528, 0.11461178727697022, 0.9332214294230161, 0.9973884947110999, 0.7894422886105492, 0.9970322810087738, 0.9945211712860861, 0.9957232053751502, 0.9263717011435603, 0.7964635948562802, 0.9849508991405238, 0.995883602779103, 0.9965843331619734, 0.9959409264875901, 0.993243088439181, 0.9817560432837307, 0.752709050220434, 0.9919864424838624, 0.962751750491854, 0.9556288444076596, 0.9887222733466077, 0.9114872443474544, 0.9926104014689712, 0.8472534683394451, 0.9973516198142178, 0.8421909232888354, 0.9946973538986605, 0.972505151612979, 0.9922356612857142, 0.965053651605755, 0.9964002072395902, 0.9586125359304625, 0.9756456832579692, 0.9892374665995172, 0.8481930380117705, 0.9934992790086802, 0.9820575915826844, 0.9930816466715817, 0.9872614826167503, 0.9970050598466578, 0.5921115553174604, 0.9955249082300259, 0.9947674730136, 0.7635168545130249, 0.9863746457563993, 0.545741917344584, 0.9702810517915659, 0.9971044635799216, 0.7048498036467016, 0.9598133268801813, 0.9770875651131115, 0.9943355633706258, 0.9747449991329841, 0.9474398820187384, 0.9322126149127871, 0.9948002224726004, 0.5543568544178786, 0.46326411778718607, 0.9829185721535209, 0.02237314789608361, 0.9760285769666475, 0.999273634225521, 0.7539124925822986, 0.2154035693092282, 0.9704663151171962, 0.026850846663321635, 0.9473732770193986, 0.996727168331707, 0.730774081253945, 0.989234006262523, 0.998619373421239, 0.6742002395380052, 0.8461820731967459, 0.9538315331156466, 0.9964301353826382, 0.18796888479724155, 0.8116135957272675, 0.9420352227220289, 0.05718424674670463, 0.9738849065846528, 0.2016940182967754, 0.7899682383290371, 0.9932061945751876, 0.9626576355169884, 0.9374625612513616, 0.9960776144674637, 0.5628482706385506, 0.5987859324388618, 0.9974368810867001, 0.9819985418146435, 0.972792747449043, 0.9983751993820231, 0.9969634540955579, 0.8797157858157375, 0.6883540377096242, 0.9954023168905486, 0.9535975632449967, 0.9734801434870248, 0.867428582340051, 0.9964928880225171, 0.988139206339039, 0.9969502875141346, 0.9167675585184938, 0.4857419098352888, 0.9170245483449921, 0.636528192687544, 0.9884448447512081, 0.36746381068633294, 0.6309284296689868, 0.8907628089698276, 0.9426381905649446, 0.9804914076300686, 0.9979292926795948, 0.9823736221375529, 0.997932134904846, 0.9924329402936563, 0.9815555808341465, 0.05690947122202024, 0.940361262573382, 0.9960439661467989, 0.8759212808173081, 0.36279939298202574, 0.6293458857851466, 0.0829025976242818, 0.9148893809251099, 0.9945276409640682, 0.9743851066403556, 0.7686961422735973, 0.9600703743397357, 0.03329723841640702, 0.9945008752463186, 0.9984129608367818, 0.9849005443249579, 0.9556903734900736, 0.6885641811311162, 0.7830775178001668, 0.9921071489635543, 0.9959113640747836, 0.8390019516622662, 0.9782345272425745, 0.8569099045183848, 0.1291234102698936, 0.8892861975726115, 0.9905863744603182, 0.9459485346483786, 0.9798163906362005, 0.015803490171551623, 0.9668823123589695, 0.9251691886768165, 0.9172813170393176, 0.9420733520479753, 0.9019900840290195, 0.9150188582444584, 0.9974489222942052, 0.8964109355150023, 0.9731167860026185, 0.9705237531265168, 0.9513565414235674, 0.9760892623748467, 0.9579935686509585, 0.9908846305102713, 0.9981377994829965, 0.9972117863423317, 0.9479125683924227, 0.9947142092743432, 0.9853351042504829, 0.8062148738087838, 0.9833580394386197, 0.8301810823199182, 0.9923234093890514, 0.9941711596289922, 0.9377314866716685, 0.8983257581828974, 0.2529887663182475, 0.6821089522251483, 0.06404778894132848, 0.9887375584381919, 0.9908921419938584, 0.9338001251266906, 0.8625950680346461, 0.8815756453182358, 0.9709124802099985, 0.9908582176923488, 0.9687053201793787, 0.9943308259724316, 0.9939397909145711, 0.9831126133601551, 0.48161132018490305, 0.08206234282658327, 0.902685771092416, 0.9768874102580193, 0.9502533097580449, 0.7699391615496347, 0.6646605989261875, 0.9862273424192506, 0.9806085046905246, 0.8818322022217974, 0.9875525792714237, 0.8396781784389802, 0.9952661097829485, 0.9964923920315819, 0.7026029514761202, 0.997748299698925, 0.7651228807578682, 0.10889736460975023, 0.8879323575871942, 0.9799579059875045, 0.8988210552463922, 0.09461274265751497, 0.9093213251881938, 0.912123942154966, 0.9847475100906631, 0.7329537336384521, 0.9914147244083716, 0.9917895280624327, 0.938246882395559, 0.9480289013731084, 0.9890799562182093, 0.8968495593306631, 0.10333266661853292, 0.9989231697604949, 0.978338226633128, 0.06922866401404074, 0.28756521975063076, 0.6390338216680683, 0.9734820761086401, 0.9388006442147796, 0.9947093187436439, 0.9973179884604589, 0.999420152505031, 0.890478998378815, 0.7472577871371878, 0.2335180584803712, 0.8178331250045001, 0.9550849225123135, 0.5276791642010572, 0.971777084884281, 0.6353792776413091, 0.9892267540286154, 0.9463319217800156, 0.9906361802092389, 0.9615074241988388], \"Term\": [\"\\u0430\\u0432\\u0442\\u043e\\u043c\\u043e\\u0431\\u0438\\u043b\\u044c\", \"\\u0430\\u0432\\u0442\\u043e\\u0440\", \"\\u0430\\u0433\\u0435\\u043d\\u0442\\u0441\\u0442\\u0432\\u043e\", \"\\u0430\\u0434\\u0430\\u043f\\u0442\\u0430\\u0446\\u0438\\u044f\", \"\\u0430\\u0434\\u0430\\u043f\\u0442\\u0438\\u0432\\u043d\\u044b\\u0439\", \"\\u0430\\u0434\\u043c\\u0438\\u043d\\u0438\\u0441\\u0442\\u0440\\u0430\\u0442\\u043e\\u0440\", \"\\u0430\\u0439\\u0442\\u0438\", \"\\u0430\\u043a\\u0441\\u0435\\u043b\\u0435\\u0440\\u0430\\u0442\\u043e\\u0440\", \"\\u0430\\u043b\\u0435\\u043a\\u0441\\u0430\\u043d\\u0434\\u0440\", \"\\u0430\\u043d\\u0430\\u043b\\u0438\\u0442\\u0438\\u043a\", \"\\u0430\\u043d\\u0433\\u043b\\u0438\\u0439\\u0441\\u043a\\u0438\\u0439\", \"\\u0430\\u043d\\u043e\\u043d\\u0441\", \"\\u0430\\u0440\\u0435\\u043d\\u0434\\u0430\", \"\\u0430\\u0440\\u0445\\u0438\\u0442\\u0435\\u043a\\u0442\\u043e\\u0440\", \"\\u0431\\u0435\\u0437\\u043e\\u043f\\u0430\\u0441\\u043d\\u043e\\u0441\\u0442\\u044c\", \"\\u0431\\u0435\\u0441\\u043f\\u043b\\u0430\\u0442\\u043d\\u043e\", \"\\u0431\\u0435\\u0441\\u043f\\u043b\\u0430\\u0442\\u043d\\u044b\\u0439\", \"\\u0431\\u0435\\u0441\\u043f\\u043b\\u0430\\u0442\\u043d\\u044b\\u0439\", \"\\u0431\\u0438\\u0437\\u043d\\u0435\\u0441\", \"\\u0431\\u0438\\u0437\\u043d\\u0435\\u0441\\u043c\\u0435\\u043d\", \"\\u0431\\u043b\\u0430\\u0433\\u043e\\u0434\\u0430\\u0440\\u0438\\u0442\\u044c\", \"\\u0431\\u043b\\u0430\\u0433\\u043e\\u0434\\u0430\\u0440\\u043d\\u043e\\u0441\\u0442\\u044c\", \"\\u0431\\u043b\\u0430\\u0433\\u043e\\u0434\\u0430\\u0440\\u043d\\u044b\\u0439\", \"\\u0431\\u043b\\u0430\\u0433\\u043e\\u0434\\u0430\\u0440\\u043d\\u044b\\u0439\", \"\\u0431\\u043b\\u0430\\u0433\\u043e\\u043f\\u043e\\u043b\\u0443\\u0447\\u0438\\u0435\", \"\\u0431\\u043b\\u043e\\u0433\\u0435\\u0440\", \"\\u0431\\u043e\\u0440\\u043e\\u0442\\u044c\\u0441\\u044f\", \"\\u0431\\u0440\\u0430\\u0442\", \"\\u0431\\u044b\\u0432\\u0430\\u0442\\u044c\", \"\\u0432\\u0430\\u0436\\u043d\\u044b\\u0439\", \"\\u0432\\u0430\\u043a\\u0430\\u043d\\u0441\\u0438\\u044f\", \"\\u0432\\u0435\\u0440\\u043d\\u0443\\u0442\\u044c\\u0441\\u044f\", \"\\u0432\\u0435\\u0440\\u0441\\u0438\\u044f\", \"\\u0432\\u0435\\u0441\\u044c\", \"\\u0432\\u0435\\u0441\\u044c\", \"\\u0432\\u0435\\u0441\\u044c\", \"\\u0432\\u0437\\u0430\\u0438\\u043c\\u043e\\u0434\\u0435\\u0439\\u0441\\u0442\\u0432\\u043e\\u0432\\u0430\\u0442\\u044c\", \"\\u0432\\u0437\\u044f\\u0442\\u044c\", \"\\u0432\\u0438\\u0434\\u0435\\u043d\\u0438\\u0435\", \"\\u0432\\u0438\\u0434\\u0435\\u043e\", \"\\u0432\\u0438\\u043b\\u043a\\u0430\", \"\\u0432\\u043a\\u043b\\u0430\\u0434\", \"\\u0432\\u043a\\u043e\\u043d\\u0442\\u0430\\u043a\\u0442\\u0435\", \"\\u0432\\u043c\\u0435\\u0441\\u0442\\u043e\", \"\\u0432\\u043d\\u0435\\u0448\\u043d\\u0438\\u0439\", \"\\u0432\\u043d\\u0438\\u043c\\u0430\\u043d\\u0438\\u0435\", \"\\u0432\\u043d\\u0438\\u043c\\u0430\\u0442\\u0435\\u043b\\u044c\\u043d\\u044b\\u0439\", \"\\u0432\\u043e\\u0437\\u043c\\u043e\\u0436\\u043d\\u043e\", \"\\u0432\\u043e\\u0437\\u043c\\u043e\\u0436\\u043d\\u043e\\u0441\\u0442\\u044c\", \"\\u0432\\u043e\\u0437\\u043c\\u043e\\u0436\\u043d\\u043e\\u0441\\u0442\\u044c\", \"\\u0432\\u043e\\u0437\\u043c\\u043e\\u0436\\u043d\\u044b\\u0439\", \"\\u0432\\u043e\\u0437\\u043d\\u0430\\u0433\\u0440\\u0430\\u0436\\u0434\\u0435\\u043d\\u0438\\u0435\", \"\\u0432\\u043e\\u043e\\u0431\\u0449\\u0435\", \"\\u0432\\u043e\\u043f\\u0440\\u043e\\u0441\", \"\\u0432\\u043e\\u0441\\u043f\\u0440\\u0438\\u044f\\u0442\\u0438\\u0435\", \"\\u0432\\u0440\\u0435\\u043c\\u044f\", \"\\u0432\\u0441\\u0435\\u043c\", \"\\u0432\\u0441\\u0435\\u043c\", \"\\u0432\\u0441\\u0442\\u0440\\u0435\\u0447\\u0430\", \"\\u0432\\u0441\\u0442\\u0440\\u0435\\u0447\\u0430\", \"\\u0432\\u0442\\u043e\\u0440\\u043e\\u0439\", \"\\u0432\\u0447\\u0435\\u0440\\u0430\\u0448\\u043d\\u0438\\u0439\", \"\\u0432\\u044b\\u0433\\u043e\\u0434\\u043d\\u044b\\u0439\", \"\\u0432\\u044b\\u0439\\u0442\\u0438\", \"\\u0432\\u044b\\u043f\\u0443\\u0441\\u043a\", \"\\u0432\\u044b\\u0440\\u0430\\u0431\\u043e\\u0442\\u043a\\u0430\", \"\\u0432\\u044b\\u0440\\u0430\\u0437\\u0438\\u0442\\u044c\", \"\\u0432\\u044b\\u0441\\u0442\\u0443\\u043f\\u043b\\u0435\\u043d\\u0438\\u0435\", \"\\u0433\\u043b\\u0430\\u0432\\u043d\\u044b\\u0439\", \"\\u0433\\u043e\\u0434\", \"\\u0433\\u043e\\u0434\", \"\\u0434\\u0430\\u0432\\u043d\\u043e\", \"\\u0434\\u0430\\u043b\\u044c\\u043d\\u0435\\u0439\\u0448\\u0438\\u0439\", \"\\u0434\\u0430\\u043d\\u043d\\u044b\\u0445\", \"\\u0434\\u0430\\u0442\\u0430\", \"\\u0434\\u0432\\u0435\\u0440\\u044c\", \"\\u0434\\u0435\\u0439\\u0441\\u0442\\u0432\\u0438\\u0435\", \"\\u0434\\u0435\\u0439\\u0441\\u0442\\u0432\\u0438\\u0442\\u0435\\u043b\\u044c\\u043d\\u043e\", \"\\u0434\\u0435\\u043b\\u0430\\u0442\\u044c\", \"\\u0434\\u0435\\u043b\\u043e\", \"\\u0434\\u0435\\u043d\\u0435\\u0436\\u043d\\u044b\\u0439\", \"\\u0434\\u0435\\u043d\\u044c\", \"\\u0434\\u0435\\u0442\\u0430\\u043b\\u044c\\u043d\\u044b\\u0439\", \"\\u0434\\u0438\\u043f\\u043b\\u043e\\u043c\", \"\\u0434\\u043b\\u0438\\u043d\\u043d\\u044b\\u0439\", \"\\u0434\\u043b\\u0438\\u0442\\u0435\\u043b\\u044c\\u043d\\u044b\\u0439\", \"\\u0434\\u043e\\u0431\\u0440\\u044b\\u0439\", \"\\u0434\\u043e\\u043a\\u043b\\u0430\\u0434\", \"\\u0434\\u043e\\u043a\\u0443\\u043c\\u0435\\u043d\\u0442\", \"\\u0434\\u043e\\u043b\\u0433\\u0438\\u0439\", \"\\u0434\\u043e\\u043b\\u0436\\u043d\\u043e\\u0441\\u0442\\u044c\", \"\\u0434\\u043e\\u043c\", \"\\u0434\\u043e\\u0441\\u0442\\u0430\\u0432\\u043a\\u0430\", \"\\u0434\\u043e\\u0441\\u0442\\u0438\\u0433\\u043d\\u0443\\u0442\\u044c\", \"\\u0434\\u0440\\u0443\\u0433\", \"\\u0434\\u0440\\u0443\\u0433\", \"\\u0434\\u0440\\u0443\\u0433\\u0438\\u043c\", \"\\u0434\\u0440\\u0443\\u0433\\u0438\\u043c\\u0438\", \"\\u0434\\u0443\\u043c\\u0430\\u0442\\u044c\", \"\\u0436\\u0434\\u0430\\u0442\\u044c\", \"\\u0436\\u0435\\u043b\\u0430\\u0442\\u044c\", \"\\u0436\\u0438\\u0432\\u043e\\u0439\", \"\\u0436\\u0438\\u0437\\u043d\\u044c\", \"\\u0436\\u0438\\u0437\\u043d\\u044c\", \"\\u0437\\u0430\\u0432\\u0435\\u0440\\u0448\\u0438\\u0442\\u044c\\u0441\\u044f\", \"\\u0437\\u0430\\u0434\\u0430\\u043d\\u0438\\u0435\", \"\\u0437\\u0430\\u0434\\u0430\\u0447\\u0430\", \"\\u0437\\u0430\\u0434\\u0430\\u0447\\u0430\", \"\\u0437\\u0430\\u0434\\u0430\\u0447\\u043a\\u0430\", \"\\u0437\\u0430\\u0439\\u0442\\u0438\", \"\\u0437\\u0430\\u043b\\u0435\\u0442\\u0430\\u0442\\u044c\", \"\\u0437\\u0430\\u043c\\u0435\\u0447\\u0430\\u0442\\u0435\\u043b\\u044c\\u043d\\u044b\\u0439\", \"\\u0437\\u0430\\u043d\\u044f\\u0442\\u0438\\u0435\", \"\\u0437\\u0430\\u043d\\u044f\\u0442\\u044c\\u0441\\u044f\", \"\\u0437\\u0430\\u043f\\u043e\\u043b\\u043d\\u0438\\u0442\\u044c\", \"\\u0437\\u0430\\u043f\\u0440\\u043e\\u0441\", \"\\u0437\\u0430\\u043f\\u0443\\u0441\\u0442\\u0438\\u0442\\u044c\", \"\\u0437\\u0430\\u0440\\u0430\\u0431\\u043e\\u0442\\u0430\\u0442\\u044c\", \"\\u0437\\u0430\\u0440\\u0430\\u043d\\u0435\\u0435\", \"\\u0437\\u0430\\u0440\\u0435\\u0433\\u0438\\u0441\\u0442\\u0440\\u0438\\u0440\\u043e\\u0432\\u0430\\u0442\\u044c\\u0441\\u044f\", \"\\u0437\\u0430\\u0449\\u0438\\u0442\\u0430\", \"\\u0437\\u0432\\u043e\\u043d\\u043e\\u043a\", \"\\u0437\\u0434\\u043e\\u0440\\u043e\\u0432\\u043e\", \"\\u0437\\u0434\\u043e\\u0440\\u043e\\u0432\\u044b\\u0439\", \"\\u0437\\u0434\\u0440\\u0430\\u0432\\u0441\\u0442\\u0432\\u043e\\u0432\\u0430\\u0442\\u044c\", \"\\u0437\\u043d\\u0430\\u043a\\u043e\\u043c\\u044b\\u0439\", \"\\u0437\\u043d\\u0430\\u043d\\u0438\\u0435\", \"\\u0437\\u043d\\u0430\\u0442\\u044c\", \"\\u0437\\u043d\\u0430\\u0447\\u0435\\u043d\\u0438\\u0435\", \"\\u0437\\u043d\\u0430\\u0447\\u0438\\u0442\\u044c\", \"\\u0437\\u043d\\u0430\\u0447\\u043e\\u043a\", \"\\u0437\\u0440\\u0435\\u043d\\u0438\\u0435\", \"\\u0438\\u0431\", \"\\u0438\\u0433\\u0440\\u0430\", \"\\u0438\\u0434\\u0442\\u0438\", \"\\u0438\\u0437\\u043c\\u0435\\u043d\\u0435\\u043d\\u0438\\u0435\", \"\\u0438\\u0437\\u043c\\u0435\\u043d\\u0438\\u0442\\u044c\\u0441\\u044f\", \"\\u0438\\u043b\\u043b\\u044e\\u0441\\u0442\\u0440\\u0430\\u0442\\u043e\\u0440\", \"\\u0438\\u043b\\u043b\\u044e\\u0441\\u0442\\u0440\\u0430\\u0446\\u0438\\u044f\", \"\\u0438\\u043c\\u0435\\u0442\\u044c\", \"\\u0438\\u043c\\u0435\\u0442\\u044c\", \"\\u0438\\u043c\\u044f\", \"\\u0438\\u043d\\u0432\\u0435\\u0441\\u0442\\u043e\\u0440\", \"\\u0438\\u043d\\u0436\\u0435\\u043d\\u0435\\u0440\", \"\\u0438\\u043d\\u0436\\u0435\\u043d\\u0435\\u0440\", \"\\u0438\\u043d\\u0441\\u0442\\u0440\\u0443\\u043c\\u0435\\u043d\\u0442\", \"\\u0438\\u043d\\u0442\\u0435\\u0433\\u0440\\u0430\\u0446\\u0438\\u043e\\u043d\\u043d\\u044b\\u0439\", \"\\u0438\\u043d\\u0442\\u0435\\u0440\\u0435\\u0441\", \"\\u0438\\u043d\\u0442\\u0435\\u0440\\u0435\\u0441\\u043d\\u044b\\u0439\", \"\\u0438\\u043d\\u0442\\u0435\\u0440\\u0435\\u0441\\u043d\\u044b\\u0439\", \"\\u0438\\u043d\\u0442\\u0435\\u0440\\u0435\\u0441\\u043e\\u0432\\u0430\\u0442\\u044c\", \"\\u0438\\u043d\\u0442\\u0435\\u0440\\u043d\\u0435\\u0442\", \"\\u0438\\u043d\\u0442\\u0435\\u0440\\u0444\\u0435\\u0439\\u0441\", \"\\u0438\\u043d\\u0444\\u043e\\u0440\\u043c\\u0430\\u0446\\u0438\\u043e\\u043d\\u043d\\u044b\\u0439\", \"\\u0438\\u043d\\u0444\\u043e\\u0440\\u043c\\u0430\\u0446\\u0438\\u043e\\u043d\\u043d\\u044b\\u0439\", \"\\u0438\\u043d\\u0444\\u043e\\u0440\\u043c\\u0430\\u0446\\u0438\\u044f\", \"\\u0438\\u043d\\u0446\\u0438\\u0434\\u0435\\u043d\\u0442\", \"\\u0438\\u0441\\u043a\\u0430\\u0442\\u044c\", \"\\u0438\\u0441\\u043a\\u0440\\u0435\\u043d\\u043d\\u0435\", \"\\u0438\\u0441\\u043f\\u043e\\u043b\\u043d\\u0438\\u0442\\u0435\\u043b\\u044c\", \"\\u0438\\u0441\\u043f\\u043e\\u043b\\u044c\\u0437\\u043e\\u0432\\u0430\\u0442\\u044c\", \"\\u0438\\u0441\\u043f\\u043e\\u043b\\u044c\\u0437\\u043e\\u0432\\u0430\\u0442\\u044c\\u0441\\u044f\", \"\\u0438\\u0441\\u0442\\u043e\\u0440\\u0438\\u044f\", \"\\u0438\\u0442\\u043e\\u0433\", \"\\u0438\\u0449\\u0443\", \"\\u0438\\u044e\\u043b\\u044c\", \"\\u0438\\u044e\\u043d\\u044c\", \"\\u043a\\u0430\\u0434\\u0440\\u043e\\u0432\\u044b\\u0439\", \"\\u043a\\u0430\\u0436\\u0434\\u044b\\u0439\", \"\\u043a\\u0430\\u0437\\u0430\\u0442\\u044c\\u0441\\u044f\", \"\\u043a\\u0430\\u0437\\u0430\\u0445\\u0441\\u0442\\u0430\\u043d\", \"\\u043a\\u0430\\u0440\\u044c\\u0435\\u0440\\u0430\", \"\\u043a\\u0430\\u0440\\u044c\\u0435\\u0440\\u043d\\u044b\\u0439\", \"\\u043a\\u0432\\u0430\\u0440\\u0442\\u0438\\u0440\\u0430\", \"\\u043a\\u0438\\u0442\\u0430\\u0439\", \"\\u043a\\u043b\\u0438\\u0435\\u043d\\u0442\", \"\\u043a\\u043b\\u0438\\u0435\\u043d\\u0442\", \"\\u043a\\u043b\\u0443\\u0431\", \"\\u043a\\u043d\\u0438\\u0433\\u0430\", \"\\u043a\\u043e\\u043c\\u0430\\u043d\\u0434\\u0430\", \"\\u043a\\u043e\\u043c\\u0430\\u043d\\u0434\\u0430\", \"\\u043a\\u043e\\u043c\\u043c\\u0435\\u043d\\u0442\", \"\\u043a\\u043e\\u043c\\u043c\\u0435\\u043d\\u0442\\u0430\\u0440\\u0438\\u0439\", \"\\u043a\\u043e\\u043c\\u043c\\u0435\\u043d\\u0442\\u0430\\u0440\\u0438\\u0439\", \"\\u043a\\u043e\\u043c\\u043c\\u0435\\u0440\\u0447\\u0435\\u0441\\u043a\\u0438\\u0439\", \"\\u043a\\u043e\\u043c\\u043c\\u0443\\u043d\\u0438\\u043a\\u0430\\u0446\\u0438\\u044f\", \"\\u043a\\u043e\\u043c\\u043f\\u0430\\u043d\\u0438\\u044f\", \"\\u043a\\u043e\\u043c\\u0444\\u043e\\u0440\\u0442\", \"\\u043a\\u043e\\u043d\\u043a\\u0443\\u0440\\u0441\", \"\\u043a\\u043e\\u043d\\u0441\\u0443\\u043b\\u044c\\u0442\\u0430\\u0446\\u0438\\u044f\", \"\\u043a\\u043e\\u043d\\u0442\\u0430\\u043a\\u0442\", \"\\u043a\\u043e\\u0442\\u043e\\u0440\\u043e\\u0439\", \"\\u043a\\u043e\\u0442\\u043e\\u0440\\u043e\\u043c\", \"\\u043a\\u043e\\u0442\\u043e\\u0440\\u043e\\u043c\\u0443\", \"\\u043a\\u043e\\u0442\\u043e\\u0440\\u044b\\u0435\", \"\\u043a\\u043e\\u0442\\u043e\\u0440\\u044b\\u0439\", \"\\u043a\\u043e\\u0442\\u043e\\u0440\\u044b\\u043c\\u0438\", \"\\u043a\\u043e\\u0442\\u043e\\u0440\\u044b\\u0445\", \"\\u043a\\u043e\\u0444\\u0435\", \"\\u043a\\u0440\\u0438\\u0437\\u0438\\u0441\", \"\\u043a\\u0440\\u043e\\u043c\\u0435\", \"\\u043a\\u0440\\u0443\\u043f\\u043d\\u044b\\u0439\", \"\\u043a\\u0441\\u0442\\u0430\\u0442\\u0438\", \"\\u043a\\u0443\\u0440\\u0441\", \"\\u043a\\u0443\\u0440\\u0441\", \"\\u043b\\u0430\\u0439\\u0444\\u0445\\u0430\\u043a\", \"\\u043b\\u0435\\u0433\\u043a\\u043e\", \"\\u043b\\u0438\\u0447\\u043d\\u043e\", \"\\u043b\\u043e\\u0433\\u0438\\u043a\\u0430\", \"\\u043b\\u0441\", \"\\u043c\\u0430\\u0439\", \"\\u043c\\u0430\\u043b\\u043e\", \"\\u043c\\u0430\\u043b\\u044b\\u0439\", \"\\u043c\\u0430\\u0440\\u043a\\u0435\\u0442\\u0438\\u043d\\u0433\", \"\\u043c\\u0430\\u0448\\u0438\\u043d\\u043d\\u044b\\u0439\", \"\\u043c\\u0435\\u043d\\u0442\\u043e\\u0440\", \"\\u043c\\u0435\\u043d\\u044f\\u0442\\u044c\\u0441\\u044f\", \"\\u043c\\u0435\\u0440\\u043e\\u043f\\u0440\\u0438\\u044f\\u0442\\u0438\\u0435\", \"\\u043c\\u0435\\u0441\\u0441\\u0435\\u043d\\u0434\\u0436\\u0435\\u0440\", \"\\u043c\\u0435\\u0441\\u0442\\u043e\", \"\\u043c\\u0435\\u0441\\u0442\\u043e\", \"\\u043c\\u0435\\u0441\\u044f\\u0446\", \"\\u043c\\u0435\\u0442\\u043e\\u0434\", \"\\u043c\\u0438\\u043a\\u0440\\u043e\\u0441\\u0435\\u0440\\u0432\\u0438\\u0441\\u044b\", \"\\u043c\\u0438\\u0445\\u0430\\u0438\\u043b\", \"\\u043c\\u043d\\u0435\\u043d\\u0438\\u0435\", \"\\u043c\\u043e\\u0431\\u0438\\u043b\\u044c\\u043d\\u044b\\u0439\", \"\\u043c\\u043e\\u043d\\u043e\\u043b\\u0438\\u0442\", \"\\u043d\\u0430\\u0431\\u043e\\u0440\", \"\\u043d\\u0430\\u0432\\u0435\\u0440\\u043d\\u043e\\u0435\", \"\\u043d\\u0430\\u0432\\u044b\\u043a\", \"\\u043d\\u0430\\u0434\\u0435\\u044f\\u0442\\u044c\\u0441\\u044f\", \"\\u043d\\u0430\\u0437\\u044b\\u0432\\u0430\\u0442\\u044c\", \"\\u043d\\u0430\\u0439\\u0442\\u0438\", \"\\u043d\\u0430\\u043f\\u0438\\u0441\\u0430\\u0442\\u044c\", \"\\u043d\\u0430\\u043f\\u0438\\u0448\\u0438\", \"\\u043d\\u0430\\u043f\\u0440\\u0430\\u0432\\u043b\\u0435\\u043d\\u0438\\u0435\", \"\\u043d\\u0430\\u043f\\u0440\\u0438\\u043c\\u0435\\u0440\", \"\\u043d\\u0430\\u043f\\u0440\\u044f\\u043c\\u0443\\u044e\", \"\\u043d\\u0430\\u0440\\u043e\\u0434\", \"\\u043d\\u0430\\u0441\\u043a\\u043e\\u043b\\u044c\\u043a\\u043e\", \"\\u043d\\u0430\\u0443\\u043a\\u0430\", \"\\u043d\\u0430\\u0443\\u0447\\u0438\\u0442\\u044c\", \"\\u043d\\u0430\\u0445\\u043e\\u0434\\u0438\\u0442\\u044c\\u0441\\u044f\", \"\\u043d\\u0430\\u0447\\u0430\\u0442\\u044c\", \"\\u043d\\u0430\\u0447\\u0430\\u0442\\u044c\\u0441\\u044f\", \"\\u043d\\u0430\\u0447\\u0438\\u043d\\u0430\\u0442\\u044c\", \"\\u043d\\u0435\\u0434\\u0432\\u0438\\u0436\\u0438\\u043c\\u043e\\u0441\\u0442\\u044c\", \"\\u043d\\u0435\\u043a\\u043e\\u0442\\u043e\\u0440\\u044b\\u0439\", \"\\u043d\\u0435\\u043c\", \"\\u043d\\u0435\\u043e\\u0431\\u0445\\u043e\\u0434\\u0438\\u043c\\u044b\\u0439\", \"\\u043d\\u0435\\u043e\\u0431\\u0445\\u043e\\u0434\\u0438\\u043c\\u044b\\u0439\", \"\\u043d\\u0435\\u043f\\u043b\\u043e\\u0445\\u043e\\u0439\", \"\\u043d\\u0435\\u0441\\u043a\\u043e\\u043b\\u044c\\u043a\\u043e\", \"\\u043d\\u0438\\u0437\\u043a\\u0438\\u0439\", \"\\u043d\\u0438\\u043a\\u0442\\u043e\", \"\\u043d\\u0438\\u043c\\u0438\", \"\\u043d\\u0438\\u0447\\u0442\\u043e\", \"\\u043d\\u0438\\u0447\\u0442\\u043e\", \"\\u043d\\u043e\\u0432\\u044b\\u0439\", \"\\u043d\\u043e\\u0432\\u044b\\u0439\", \"\\u043d\\u0443\\u0436\\u043d\\u044b\\u0439\", \"\\u043e\\u0431\\u0435\\u0434\", \"\\u043e\\u0431\\u043b\\u0430\\u0434\\u0430\\u0442\\u044c\", \"\\u043e\\u0431\\u043c\\u0435\\u043d\\u044f\\u0442\\u044c\\u0441\\u044f\", \"\\u043e\\u0431\\u043e\\u0440\\u043e\\u0442\", \"\\u043e\\u0431\\u0440\\u0430\\u0442\\u0438\\u0442\\u044c\", \"\\u043e\\u0431\\u0441\\u0443\\u0436\\u0434\\u0435\\u043d\\u0438\\u0435\", \"\\u043e\\u0431\\u0443\\u0447\\u0430\\u0442\\u044c\", \"\\u043e\\u0431\\u0443\\u0447\\u0435\\u043d\\u0438\\u0435\", \"\\u043e\\u0431\\u0443\\u0447\\u0435\\u043d\\u0438\\u0435\", \"\\u043e\\u0431\\u0449\\u0435\\u043d\\u0438\\u0435\", \"\\u043e\\u0431\\u044a\\u044f\\u0432\\u043b\\u0435\\u043d\\u0438\\u0435\", \"\\u043e\\u0431\\u044f\\u0437\\u0430\\u0442\\u0435\\u043b\\u044c\\u043d\\u043e\", \"\\u043e\\u0434\\u043d\\u043e\", \"\\u043e\\u043a\\u0430\\u0437\\u044b\\u0432\\u0430\\u0442\\u044c\", \"\\u043e\\u043a\\u0442\\u044f\\u0431\\u0440\\u044c\", \"\\u043e\\u043d\\u043b\\u0430\\u0439\\u043d\", \"\\u043e\\u043f\\u0438\\u0441\\u0430\\u0442\\u044c\", \"\\u043e\\u043f\\u044b\\u0442\", \"\\u043e\\u0440\\u0433\\u0430\\u043d\\u0438\\u0437\\u0430\\u0442\\u043e\\u0440\", \"\\u043e\\u0440\\u0433\\u0430\\u043d\\u0438\\u0437\\u0430\\u0446\\u0438\\u044f\", \"\\u043e\\u0440\\u0433\\u0430\\u043d\\u0438\\u0437\\u043e\\u0432\\u0430\\u0442\\u044c\", \"\\u043e\\u0441\\u043d\\u043e\\u0432\\u043d\\u043e\\u0439\", \"\\u043e\\u0441\\u0442\\u0430\\u0442\\u044c\\u0441\\u044f\", \"\\u043e\\u0442\\u0432\\u0435\\u0442\", \"\\u043e\\u0442\\u0432\\u0435\\u0442\", \"\\u043e\\u0442\\u0432\\u0435\\u0442\\u0438\\u0442\\u044c\", \"\\u043e\\u0442\\u043a\\u0430\\u0437\", \"\\u043e\\u0442\\u043a\\u043b\\u0438\\u043a\", \"\\u043e\\u0442\\u043a\\u043b\\u0438\\u043a\\u0430\\u0439\\u0442\\u0435\\u0441\\u044c\", \"\\u043e\\u0442\\u043a\\u043b\\u0438\\u043a\\u0430\\u0442\\u044c\\u0441\\u044f\", \"\\u043e\\u0442\\u043a\\u0440\\u044b\\u0442\\u044b\\u0439\", \"\\u043e\\u0442\\u043a\\u0443\\u0434\\u0430\", \"\\u043e\\u0442\\u043d\\u043e\\u0441\\u0438\\u0442\\u0435\\u043b\\u044c\\u043d\\u043e\", \"\\u043e\\u0442\\u0441\\u0443\\u0442\\u0441\\u0442\\u0432\\u0438\\u0435\", \"\\u043e\\u0444\\u0438\\u0441\", \"\\u043e\\u0444\\u0438\\u0446\\u0438\\u0430\\u043b\\u044c\\u043d\\u044b\\u0439\", \"\\u043e\\u0447\\u0435\\u0440\\u0435\\u0434\\u043d\\u043e\\u0439\", \"\\u043e\\u0448\\u0438\\u0431\\u043a\\u0430\", \"\\u043e\\u0448\\u0438\\u0431\\u043a\\u0430\", \"\\u043f\\u0430\\u043d\\u0434\\u0435\\u043c\\u0438\\u044f\", \"\\u043f\\u0430\\u0440\\u0430\", \"\\u043f\\u0430\\u0447\\u043a\\u0430\", \"\\u043f\\u0435\\u0440\\u0432\\u044b\\u0439\", \"\\u043f\\u0435\\u0440\\u0435\\u0439\\u0442\\u0438\", \"\\u043f\\u0435\\u0440\\u0435\\u0445\\u043e\\u0434\", \"\\u043f\\u0435\\u0440\\u0438\\u043e\\u0434\", \"\\u043f\\u0435\\u0442\\u0435\\u0440\\u0431\\u0443\\u0440\\u0433\", \"\\u043f\\u0438\\u0441\\u0430\\u0442\\u0435\\u043b\\u044c\", \"\\u043f\\u0438\\u0441\\u0430\\u0442\\u044c\", \"\\u043f\\u0438\\u0448\\u0438\", \"\\u043f\\u043b\\u0430\\u0442\\u043d\\u044b\\u0439\", \"\\u043f\\u043b\\u0430\\u0442\\u0444\\u043e\\u0440\\u043c\\u0430\", \"\\u043f\\u043b\\u0430\\u0442\\u0444\\u043e\\u0440\\u043c\\u0430\", \"\\u043f\\u043b\\u0438\\u0437\", \"\\u043f\\u043b\\u043e\\u0445\\u043e\\u0439\", \"\\u043f\\u043b\\u043e\\u0449\\u0430\\u0434\\u043a\\u0430\", \"\\u043f\\u043e\\u0432\\u044b\\u0441\\u0438\\u0442\\u044c\", \"\\u043f\\u043e\\u0434\\u0434\\u0435\\u0440\\u0436\\u0430\\u0442\\u044c\", \"\\u043f\\u043e\\u0434\\u0434\\u0435\\u0440\\u0436\\u043a\\u0430\", \"\\u043f\\u043e\\u0434\\u043a\\u0430\\u0441\\u0442\", \"\\u043f\\u043e\\u0434\\u043f\\u0438\\u0448\\u0438\\u0442\\u0435\\u0441\\u044c\", \"\\u043f\\u043e\\u0434\\u0440\\u043e\\u0431\\u043d\\u043e\", \"\\u043f\\u043e\\u0434\\u0441\\u043a\\u0430\\u0437\\u044b\\u0432\\u0430\\u0442\\u044c\", \"\\u043f\\u043e\\u0436\\u0430\\u043b\\u0443\\u0439\\u0441\\u0442\\u0430\", \"\\u043f\\u043e\\u0437\\u0432\\u043e\\u043b\\u044f\\u0442\\u044c\", \"\\u043f\\u043e\\u0437\\u0434\\u0440\\u0430\\u0432\\u043b\\u044f\\u0442\\u044c\", \"\\u043f\\u043e\\u0437\\u043d\\u0430\\u043a\\u043e\\u043c\\u0438\\u0442\\u044c\\u0441\\u044f\", \"\\u043f\\u043e\\u0438\\u0441\\u043a\", \"\\u043f\\u043e\\u0438\\u0441\\u043a\", \"\\u043f\\u043e\\u043a\\u0443\\u043f\\u0430\\u0442\\u0435\\u043b\\u044c\", \"\\u043f\\u043e\\u043b\\u0435\\u0437\\u043d\\u044b\\u0439\", \"\\u043f\\u043e\\u043b\\u0438\\u0442\\u0438\\u043a\\u0430\", \"\\u043f\\u043e\\u043b\\u0443\\u0447\\u0438\\u0442\\u044c\", \"\\u043f\\u043e\\u043b\\u0443\\u0447\\u0438\\u0442\\u044c\\u0441\\u044f\", \"\\u043f\\u043e\\u043b\\u044c\\u0437\\u043e\\u0432\\u0430\\u0442\\u0435\\u043b\\u044c\", \"\\u043f\\u043e\\u043b\\u044c\\u0437\\u043e\\u0432\\u0430\\u0442\\u0435\\u043b\\u044c\\u0441\\u043a\\u0438\\u0439\", \"\\u043f\\u043e\\u043b\\u044c\\u0448\\u0430\", \"\\u043f\\u043e\\u043c\\u043d\\u0438\\u0442\\u044c\", \"\\u043f\\u043e\\u043c\\u043e\\u0433\\u0430\\u0442\\u044c\", \"\\u043f\\u043e\\u043c\\u043e\\u0447\\u044c\", \"\\u043f\\u043e\\u043c\\u043e\\u0449\\u044c\", \"\\u043f\\u043e\\u043d\\u0438\\u043c\\u0430\\u0442\\u044c\", \"\\u043f\\u043e\\u043d\\u0440\\u0430\\u0432\\u0438\\u0442\\u044c\\u0441\\u044f\", \"\\u043f\\u043e\\u043d\\u044f\\u0442\\u0438\\u0435\", \"\\u043f\\u043e\\u043d\\u044f\\u0442\\u043d\\u044b\\u0439\", \"\\u043f\\u043e\\u043f\\u0430\\u0441\\u0442\\u044c\", \"\\u043f\\u043e\\u043f\\u0440\\u043e\\u0431\\u043e\\u0432\\u0430\\u0442\\u044c\", \"\\u043f\\u043e\\u0440\\u0430\", \"\\u043f\\u043e\\u0440\\u0430\\u0431\\u043e\\u0442\\u0430\\u0442\\u044c\", \"\\u043f\\u043e\\u0441\\u043c\\u043e\\u0442\\u0440\\u0435\\u0442\\u044c\", \"\\u043f\\u043e\\u0441\\u043e\\u0432\\u0435\\u0442\\u043e\\u0432\\u0430\\u0442\\u044c\", \"\\u043f\\u043e\\u0441\\u0442\", \"\\u043f\\u043e\\u0441\\u0442\\u0430\\u0440\\u0430\\u0442\\u044c\\u0441\\u044f\", \"\\u043f\\u043e\\u0441\\u0442\\u043e\\u044f\\u043d\\u043d\\u043e\", \"\\u043f\\u043e\\u0442\\u043e\\u043a\", \"\\u043f\\u043e\\u0445\\u043e\\u0436\\u0438\\u0439\", \"\\u043f\\u043e\\u0447\\u0438\\u0442\\u0430\\u0442\\u044c\", \"\\u043f\\u043e\\u044d\\u0442\\u043e\\u043c\\u0443\", \"\\u043f\\u043e\\u044f\\u0432\\u0438\\u0442\\u044c\\u0441\\u044f\", \"\\u043f\\u0440\\u0430\\u0432\\u0438\\u043b\\u044c\\u043d\\u044b\\u0439\", \"\\u043f\\u0440\\u0435\\u0434\\u043b\\u043e\\u0436\\u0438\\u0442\\u044c\", \"\\u043f\\u0440\\u0435\\u0434\\u0441\\u0442\\u0430\\u0432\\u0438\\u0442\\u0435\\u043b\\u044c\", \"\\u043f\\u0440\\u0435\\u0434\\u0441\\u0442\\u0430\\u0432\\u0438\\u0442\\u044c\", \"\\u043f\\u0440\\u0435\\u0434\\u0441\\u0442\\u0430\\u0432\\u043b\\u0435\\u043d\\u0438\\u0435\", \"\\u043f\\u0440\\u0435\\u0434\\u0441\\u0442\\u0430\\u0432\\u043b\\u044f\\u0442\\u044c\", \"\\u043f\\u0440\\u0435\\u0434\\u044b\\u0434\\u0443\\u0449\\u0438\\u0439\", \"\\u043f\\u0440\\u0438\\u0432\\u0435\\u0442\", \"\\u043f\\u0440\\u0438\\u043a\\u0440\\u0443\\u0442\\u0438\\u0442\\u044c\", \"\\u043f\\u0440\\u0438\\u043b\\u043e\\u0436\\u0435\\u043d\\u0438\\u0435\", \"\\u043f\\u0440\\u0438\\u043c\\u0435\\u0440\", \"\\u043f\\u0440\\u0438\\u043d\\u0438\\u043c\\u0430\\u0442\\u044c\\u0441\\u044f\", \"\\u043f\\u0440\\u0438\\u043d\\u0446\\u0438\\u043f\", \"\\u043f\\u0440\\u0438\\u043e\\u0431\\u0440\\u0435\\u0441\\u0442\\u0438\", \"\\u043f\\u0440\\u0438\\u0445\\u043e\\u0434\\u0438\\u0442\\u044c\\u0441\\u044f\", \"\\u043f\\u0440\\u043e\\u0431\\u043b\\u0435\\u043c\\u0430\", \"\\u043f\\u0440\\u043e\\u0431\\u043b\\u0435\\u043c\\u043d\\u044b\\u0439\", \"\\u043f\\u0440\\u043e\\u0431\\u043e\\u0432\\u0430\\u0442\\u044c\", \"\\u043f\\u0440\\u043e\\u0432\\u0435\\u0440\\u043a\\u0430\", \"\\u043f\\u0440\\u043e\\u0432\\u0435\\u0441\\u0442\\u0438\", \"\\u043f\\u0440\\u043e\\u0432\\u043e\\u0434\\u0438\\u0442\\u044c\", \"\\u043f\\u0440\\u043e\\u0433\\u0440\\u0430\\u043c\\u043c\\u0438\\u0441\\u0442\", \"\\u043f\\u0440\\u043e\\u0434\\u0430\\u0432\\u0435\\u0446\", \"\\u043f\\u0440\\u043e\\u0434\\u0430\\u0436\\u0430\", \"\\u043f\\u0440\\u043e\\u0434\\u0430\\u043a\\u0442\\u0430\", \"\\u043f\\u0440\\u043e\\u0434\\u0432\\u0438\\u043d\\u0443\\u0442\\u044c\\u0441\\u044f\", \"\\u043f\\u0440\\u043e\\u0434\\u043e\\u043b\\u0436\\u0435\\u043d\\u0438\\u0435\", \"\\u043f\\u0440\\u043e\\u0434\\u0443\\u043a\\u0442\", \"\\u043f\\u0440\\u043e\\u0434\\u0443\\u043a\\u0442\", \"\\u043f\\u0440\\u043e\\u0435\\u043a\\u0442\", \"\\u043f\\u0440\\u043e\\u0435\\u043a\\u0442\\u0438\\u0440\\u043e\\u0432\\u0430\\u043d\\u0438\\u0435\", \"\\u043f\\u0440\\u043e\\u0435\\u043a\\u0442\\u0438\\u0440\\u043e\\u0432\\u0430\\u043d\\u0438\\u0435\", \"\\u043f\\u0440\\u043e\\u0439\\u0442\\u0438\", \"\\u043f\\u0440\\u043e\\u0439\\u0442\\u0438\", \"\\u043f\\u0440\\u043e\\u0441\\u043c\\u043e\\u0442\\u0440\\u0435\\u0442\\u044c\", \"\\u043f\\u0440\\u043e\\u0441\\u0442\\u043e\", \"\\u043f\\u0440\\u043e\\u0442\\u0438\\u0432\", \"\\u043f\\u0440\\u043e\\u0444\\u0438\\u043b\\u044c\", \"\\u043f\\u0440\\u043e\\u0446\\u0435\\u0441\\u0441\", \"\\u043f\\u0440\\u043e\\u0448\\u043b\\u043e\\u0435\", \"\\u043f\\u0440\\u043e\\u044f\\u0432\\u0438\\u0442\\u044c\", \"\\u043f\\u0441\\u0438\\u0445\\u043e\\u043b\\u043e\\u0433\\u0438\\u044f\", \"\\u043f\\u0443\\u0442\\u044c\", \"\\u0440\\u0430\\u0431\\u043e\\u0442\\u0430\", \"\\u0440\\u0430\\u0431\\u043e\\u0442\\u0430\", \"\\u0440\\u0430\\u0431\\u043e\\u0442\\u0430\\u0442\\u044c\", \"\\u0440\\u0430\\u0431\\u043e\\u0442\\u0430\\u0442\\u044c\", \"\\u0440\\u0430\\u0431\\u043e\\u0442\\u043e\\u0434\\u0430\\u0442\\u0435\\u043b\\u044c\", \"\\u0440\\u0430\\u0431\\u043e\\u0447\\u0438\\u0439\", \"\\u0440\\u0430\\u0431\\u043e\\u0447\\u0438\\u0439\", \"\\u0440\\u0430\\u0434\", \"\\u0440\\u0430\\u0434\\u043e\\u0441\\u0442\\u044c\", \"\\u0440\\u0430\\u0437\\u0431\\u0438\\u0440\\u0430\\u0442\\u044c\\u0441\\u044f\", \"\\u0440\\u0430\\u0437\\u0432\\u0438\\u0442\\u0438\\u0435\", \"\\u0440\\u0430\\u0437\\u043b\\u043e\\u0436\\u0438\\u0442\\u044c\", \"\\u0440\\u0430\\u0437\\u043d\\u043e\\u043e\\u0431\\u0440\\u0430\\u0437\\u043d\\u044b\\u0439\", \"\\u0440\\u0430\\u0437\\u043d\\u044b\\u0439\", \"\\u0440\\u0430\\u0437\\u043e\\u0431\\u0440\\u0430\\u0442\\u044c\", \"\\u0440\\u0430\\u0437\\u043e\\u0431\\u0440\\u0430\\u0442\\u044c\\u0441\\u044f\", \"\\u0440\\u0430\\u0437\\u0440\\u0430\\u0431\\u043e\\u0442\\u043a\\u0430\", \"\\u0440\\u0430\\u0437\\u0440\\u0430\\u0431\\u043e\\u0442\\u0447\\u0438\\u043a\", \"\\u0440\\u0430\\u0441\\u043f\\u0440\\u0435\\u0434\\u0435\\u043b\\u0435\\u043d\\u0438\\u0435\", \"\\u0440\\u0430\\u0441\\u043f\\u0440\\u0435\\u0434\\u0435\\u043b\\u044f\\u0442\\u044c\", \"\\u0440\\u0430\\u0441\\u0441\\u043a\\u0430\\u0437\\u044b\\u0432\\u0430\\u0442\\u044c\", \"\\u0440\\u0430\\u0441\\u0441\\u043c\\u0430\\u0442\\u0440\\u0438\\u0432\\u0430\\u0442\\u044c\", \"\\u0440\\u0435\\u0431\\u044f\\u0442\", \"\\u0440\\u0435\\u0433\\u0443\\u043b\\u044f\\u0440\\u043d\\u044b\\u0439\", \"\\u0440\\u0435\\u0437\\u044e\\u043c\\u0435\", \"\\u0440\\u0435\\u043a\\u043b\\u0430\\u043c\\u0430\", \"\\u0440\\u0435\\u043a\\u043e\\u043c\\u0435\\u043d\\u0434\\u0430\\u0446\\u0438\\u044f\", \"\\u0440\\u0435\\u043a\\u0440\\u0443\\u0442\\u0438\\u043d\\u0433\", \"\\u0440\\u0435\\u043b\\u043e\\u043a\\u0430\\u0446\\u0438\\u0435\\u0439\", \"\\u0440\\u0435\\u043f\\u043e\\u0441\\u0442\\u0430\\u043c\", \"\\u0440\\u0435\\u043f\\u043e\\u0441\\u0442\\u043e\\u043c\", \"\\u0440\\u0435\\u0447\\u044c\", \"\\u0440\\u0435\\u0448\\u0435\\u043d\\u0438\\u0435\", \"\\u0440\\u0435\\u0448\\u0435\\u043d\\u0438\\u0435\", \"\\u0440\\u0438\\u0441\\u043e\\u0432\\u0430\\u0442\\u044c\", \"\\u0440\\u043e\\u0441\\u0441\\u0438\\u0439\\u0441\\u043a\\u0438\\u0439\", \"\\u0440\\u0443\\u043a\\u0430\", \"\\u0440\\u044b\\u043d\\u043e\\u043a\", \"\\u0440\\u044f\\u0434\", \"\\u0441\\u0430\\u0439\\u0442\", \"\\u0441\\u0430\\u043c\\u043e\\u0435\", \"\\u0441\\u0430\\u043c\\u043e\\u043c\", \"\\u0441\\u0434\\u0435\\u043b\\u0430\\u0442\\u044c\", \"\\u0441\\u0434\\u0435\\u043b\\u0430\\u0442\\u044c\", \"\\u0441\\u0435\\u0433\\u043e\\u0434\\u043d\\u044f\", \"\\u0441\\u0435\\u0437\\u043e\\u043d\", \"\\u0441\\u0435\\u0440\\u0432\\u0438\\u0441\", \"\\u0441\\u0435\\u0440\\u0432\\u0438\\u0441\", \"\\u0441\\u0438\\u0441\\u0442\\u0435\\u043c\\u0430\", \"\\u0441\\u0438\\u0441\\u0442\\u0435\\u043c\\u0430\", \"\\u0441\\u043a\\u0430\\u0437\\u0430\\u0442\\u044c\", \"\\u0441\\u043a\\u043e\\u0440\\u043e\", \"\\u0441\\u043b\\u0430\\u0431\\u044b\\u0439\", \"\\u0441\\u043b\\u0435\\u0434\\u0443\\u044e\\u0449\\u0438\\u0439\", \"\\u0441\\u043b\\u0435\\u0434\\u0443\\u044e\\u0449\\u0438\\u0439\", \"\\u0441\\u043b\\u043e\\u0432\\u043e\", \"\\u0441\\u043b\\u043e\\u0436\\u043d\\u044b\\u0439\", \"\\u0441\\u043b\\u0443\\u0447\\u0430\\u0439\", \"\\u0441\\u043b\\u0443\\u0448\\u0430\\u0442\\u044c\", \"\\u0441\\u043c\\u0435\\u0436\\u043d\\u044b\\u0439\", \"\\u0441\\u043c\\u043e\\u0436\\u0435\\u0448\\u044c\", \"\\u0441\\u043c\\u043e\\u0442\\u0440\\u0435\\u0442\\u044c\", \"\\u0441\\u043c\\u043e\\u0447\\u044c\", \"\\u0441\\u043d\\u0433\", \"\\u0441\\u043e\\u0431\\u0435\\u0441\", \"\\u0441\\u043e\\u0432\\u0435\\u0442\", \"\\u0441\\u043e\\u0432\\u0435\\u0442\", \"\\u0441\\u043e\\u0432\\u043c\\u0435\\u0441\\u0442\\u043d\\u043e\", \"\\u0441\\u043e\\u0437\\u0434\\u0430\\u0442\\u044c\", \"\\u0441\\u043e\\u0438\\u0441\\u043a\\u0430\\u0442\\u0435\\u043b\\u044c\", \"\\u0441\\u043e\\u043e\\u0431\\u0449\\u0430\\u0442\\u044c\", \"\\u0441\\u043e\\u043e\\u0431\\u0449\\u0430\\u0442\\u044c\", \"\\u0441\\u043e\\u043e\\u0431\\u0449\\u0435\\u0441\\u0442\\u0432\\u043e\", \"\\u0441\\u043e\\u0442\\u043d\\u044f\", \"\\u0441\\u043e\\u0444\\u0442\", \"\\u0441\\u043e\\u0446\\u0438\\u0430\\u043b\\u044c\\u043d\\u044b\\u0439\", \"\\u0441\\u043e\\u0446\\u0441\\u0435\\u0442\\u044c\", \"\\u0441\\u043f\\u0435\\u0446\", \"\\u0441\\u043f\\u0435\\u0446\\u0438\\u0430\\u043b\\u0438\\u0441\\u0442\", \"\\u0441\\u043f\\u0435\\u0446\\u0438\\u0430\\u043b\\u044c\\u043d\\u043e\\u0441\\u0442\\u044c\", \"\\u0441\\u043f\\u0435\\u0446\\u0438\\u0430\\u043b\\u044c\\u043d\\u044b\\u0439\", \"\\u0441\\u043f\\u0438\\u043a\\u0435\\u0440\", \"\\u0441\\u0440\\u0435\\u0434\\u0430\", \"\\u0441\\u0442\\u0430\\u0432\\u0438\\u0442\\u044c\", \"\\u0441\\u0442\\u0430\\u0436\\u0438\\u0440\\u043e\\u0432\\u043a\\u0430\", \"\\u0441\\u0442\\u0430\\u043d\\u043e\\u0432\\u0438\\u0442\\u044c\\u0441\\u044f\", \"\\u0441\\u0442\\u0430\\u0442\\u044c\", \"\\u0441\\u0442\\u0430\\u0442\\u044c\\u044f\", \"\\u0441\\u0442\\u043e\\u044f\\u0442\\u044c\", \"\\u0441\\u0442\\u0440\\u0430\\u043d\\u0430\", \"\\u0441\\u0442\\u0440\\u0430\\u043d\\u0438\\u0446\\u0430\", \"\\u0441\\u0442\\u0440\\u0430\\u043d\\u0438\\u0447\\u043a\\u0430\", \"\\u0441\\u0442\\u0440\\u0430\\u0442\\u0435\\u0433\\u0438\\u044f\", \"\\u0441\\u0442\\u0440\\u0430\\u0448\\u043d\\u044b\\u0439\", \"\\u0441\\u0443\\u0442\\u044c\", \"\\u0441\\u0444\\u0435\\u0440\\u0430\", \"\\u0441\\u0447\\u0430\\u0441\\u0442\\u043b\\u0438\\u0432\\u044b\\u0439\", \"\\u0442\\u0430\\u0439\\u043c\", \"\\u0442\\u0430\\u043a\\u0436\\u0435\", \"\\u0442\\u0430\\u043a\\u0436\\u0435\", \"\\u0442\\u0430\\u043a\\u0436\\u0435\", \"\\u0442\\u0435\\u043a\\u0443\\u0449\\u0438\\u0439\", \"\\u0442\\u0435\\u043b\\u0435\\u0433\\u0440\\u0430\\u043c\", \"\\u0442\\u0435\\u043b\\u0435\\u0433\\u0440\\u0430\\u043c\\u043c\", \"\\u0442\\u0435\\u043b\\u0435\\u0433\\u0440\\u0430\\u043c\\u043c\\u0430\", \"\\u0442\\u0435\\u043b\\u043e\", \"\\u0442\\u0435\\u043e\\u0440\\u0438\\u044f\", \"\\u0442\\u0435\\u0441\\u0442\", \"\\u0442\\u0435\\u0441\\u0442\\u0438\\u0440\\u043e\\u0432\\u0430\\u043d\\u0438\\u0435\", \"\\u0442\\u0435\\u0445\\u043d\\u0438\\u043a\\u0430\", \"\\u0442\\u0435\\u0445\\u043d\\u043e\\u043b\\u043e\\u0433\\u0438\\u044f\", \"\\u0442\\u043e\\u0432\\u0430\\u0440\", \"\\u0442\\u043e\\u0432\\u0430\\u0440\\u0438\\u0449\", \"\\u0442\\u043e\\u043c\\u0443\", \"\\u0442\\u043e\\u043c\\u0443\", \"\\u0442\\u043e\\u043f\", \"\\u0442\\u0440\\u0435\\u0431\\u043e\\u0432\\u0430\\u043d\\u0438\\u0435\", \"\\u0442\\u0440\\u0435\\u043a\\u0438\\u043d\\u0433\", \"\\u0442\\u0440\\u0435\\u043d\\u0438\\u043d\\u0433\", \"\\u0442\\u0440\\u0435\\u043d\\u0438\\u0440\\u043e\\u0432\\u043a\\u0430\", \"\\u0442\\u0440\\u0443\\u0434\", \"\\u0442\\u0443\\u0434\\u0430\", \"\\u0443\\u0432\\u0438\\u0434\\u0435\\u0442\\u044c\", \"\\u0443\\u0433\\u0440\\u043e\\u0437\\u0430\", \"\\u0443\\u0434\\u043e\\u0431\\u043d\\u044b\\u0439\", \"\\u0443\\u0434\\u043e\\u0432\\u043e\\u043b\\u044c\\u0441\\u0442\\u0432\\u0438\\u0435\", \"\\u0443\\u043a\\u0430\\u0437\\u0430\\u043d\\u0438\\u0435\", \"\\u0443\\u043f\\u0440\\u0430\\u0432\\u043b\\u0435\\u043d\\u0438\\u0435\", \"\\u0443\\u043f\\u0440\\u0430\\u0432\\u043b\\u0435\\u043d\\u0438\\u0435\\u043f\\u0440\\u043e\\u0435\\u043a\\u0442\\u0430\\u043c\\u0438\", \"\\u0443\\u0440\\u043e\\u0432\\u0435\\u043d\\u044c\", \"\\u0443\\u0440\\u043e\\u0432\\u0435\\u043d\\u044c\", \"\\u0443\\u0441\\u0438\\u043b\\u0438\\u0435\", \"\\u0443\\u0441\\u043b\\u0443\\u0433\\u0430\", \"\\u0443\\u0441\\u043b\\u0443\\u0433\\u0430\", \"\\u0443\\u0441\\u043b\\u0443\\u0433\\u0438\", \"\\u0443\\u0441\\u043b\\u044b\\u0448\\u0430\\u0442\\u044c\", \"\\u0443\\u0441\\u0442\\u0440\\u043e\\u0438\\u0442\\u044c\", \"\\u0444\\u0438\\u0447\\u0438\", \"\\u0444\\u043e\\u0440\\u043c\\u0430\", \"\\u0444\\u043e\\u0440\\u043c\\u0430\\u0442\", \"\\u0444\\u0440\\u043e\\u043d\\u0442\", \"\\u0444\\u0440\\u043e\\u043d\\u0442\\u0435\\u043d\\u0434\", \"\\u0444\\u0443\\u043d\\u043a\\u0446\\u0438\\u044f\", \"\\u0445\\u043e\\u0440\\u043e\\u0448\\u0438\\u0439\", \"\\u0445\\u043e\\u0440\\u043e\\u0448\\u0438\\u0439\", \"\\u0445\\u043e\\u0442\\u0435\\u0442\\u044c\", \"\\u0445\\u043e\\u0442\\u044f\", \"\\u0446\\u0435\\u043b\\u044c\", \"\\u0446\\u0435\\u043b\\u044c\", \"\\u0446\\u0435\\u043b\\u044c\", \"\\u0446\\u0435\\u043d\\u043d\\u044b\\u0439\", \"\\u0446\\u0438\\u0444\\u0440\\u043e\\u0432\\u043e\\u0439\", \"\\u0447\\u0430\\u0441\", \"\\u0447\\u0430\\u0441\\u0442\\u044c\", \"\\u0447\\u0435\\u043b\\u043e\\u0432\\u0435\\u043a\", \"\\u0447\\u0435\\u0441\\u0442\\u043d\\u043e\\u0439\", \"\\u0447\\u0438\\u0441\\u043b\\u043e\", \"\\u0447\\u0438\\u0441\\u043b\\u043e\", \"\\u0447\\u0443\\u0434\\u043e\", \"\\u0448\\u0430\\u043d\\u0441\", \"\\u0448\\u0435\\u0441\\u0442\\u044c\", \"\\u044d\\u043b\\u0435\\u043c\\u0435\\u043d\\u0442\", \"\\u044d\\u0442\\u0430\\u0436\", \"\\u044d\\u0442\\u0430\\u043f\", \"\\u044d\\u0444\\u0444\\u0435\\u043a\\u0442\\u0438\\u0432\\u043d\\u043e\\u0441\\u0442\\u044c\", \"\\u044f\\u0437\\u044b\\u043a\", \"\\u044f\\u043d\\u0434\\u0435\\u043a\\u0441\"]}, \"R\": 30, \"lambda.step\": 0.01, \"plot.opts\": {\"xlab\": \"PC1\", \"ylab\": \"PC2\"}, \"topic.order\": [14, 19, 10, 18, 5, 11, 20, 16, 2, 7, 6, 1, 9, 17, 4, 15, 3, 13, 8, 12]};\n",
       "\n",
       "function LDAvis_load_lib(url, callback){\n",
       "  var s = document.createElement('script');\n",
       "  s.src = url;\n",
       "  s.async = true;\n",
       "  s.onreadystatechange = s.onload = callback;\n",
       "  s.onerror = function(){console.warn(\"failed to load library \" + url);};\n",
       "  document.getElementsByTagName(\"head\")[0].appendChild(s);\n",
       "}\n",
       "\n",
       "if(typeof(LDAvis) !== \"undefined\"){\n",
       "   // already loaded: just create the visualization\n",
       "   !function(LDAvis){\n",
       "       new LDAvis(\"#\" + \"ldavis_el49648725605989767840789163\", ldavis_el49648725605989767840789163_data);\n",
       "   }(LDAvis);\n",
       "}else if(typeof define === \"function\" && define.amd){\n",
       "   // require.js is available: use it to load d3/LDAvis\n",
       "   require.config({paths: {d3: \"https://d3js.org/d3.v5\"}});\n",
       "   require([\"d3\"], function(d3){\n",
       "      window.d3 = d3;\n",
       "      LDAvis_load_lib(\"https://cdn.jsdelivr.net/gh/bmabey/pyLDAvis@3.4.0/pyLDAvis/js/ldavis.v3.0.0.js\", function(){\n",
       "        new LDAvis(\"#\" + \"ldavis_el49648725605989767840789163\", ldavis_el49648725605989767840789163_data);\n",
       "      });\n",
       "    });\n",
       "}else{\n",
       "    // require.js not available: dynamically load d3 & LDAvis\n",
       "    LDAvis_load_lib(\"https://d3js.org/d3.v5.js\", function(){\n",
       "         LDAvis_load_lib(\"https://cdn.jsdelivr.net/gh/bmabey/pyLDAvis@3.4.0/pyLDAvis/js/ldavis.v3.0.0.js\", function(){\n",
       "                 new LDAvis(\"#\" + \"ldavis_el49648725605989767840789163\", ldavis_el49648725605989767840789163_data);\n",
       "            })\n",
       "         });\n",
       "}\n",
       "</script>"
      ],
      "text/plain": [
       "PreparedData(topic_coordinates=              x         y  topics  cluster       Freq\n",
       "topic                                                \n",
       "13    -0.412616  0.211949       1        1  39.488429\n",
       "18    -0.386007 -0.009909       2        1  26.901117\n",
       "9     -0.163284 -0.344627       3        1   9.639069\n",
       "17    -0.050919 -0.134688       4        1   4.953246\n",
       "4     -0.028931 -0.006579       5        1   4.578087\n",
       "10     0.007584  0.005933       6        1   3.234714\n",
       "19     0.060226  0.020879       7        1   1.616924\n",
       "15     0.062884  0.021014       8        1   1.457690\n",
       "1      0.059363  0.028080       9        1   1.051869\n",
       "6      0.073070  0.020534      10        1   0.973949\n",
       "5      0.073717  0.020529      11        1   0.892832\n",
       "0      0.073526  0.020487      12        1   0.889823\n",
       "8      0.070322  0.022778      13        1   0.809743\n",
       "16     0.072076  0.016843      14        1   0.807119\n",
       "3      0.078881  0.019570      15        1   0.738787\n",
       "14     0.079109  0.019399      16        1   0.717803\n",
       "2      0.081931  0.018278      17        1   0.499330\n",
       "12     0.081330  0.018534      18        1   0.422187\n",
       "7      0.083398  0.017065      19        1   0.308366\n",
       "11     0.084340  0.013931      20        1   0.018915, topic_info=                Term         Freq        Total Category  logprob  loglift\n",
       "236           работа  1941.000000  1941.000000  Default  30.0000  30.0000\n",
       "46          компания  1096.000000  1096.000000  Default  29.0000  29.0000\n",
       "1564            пост   347.000000   347.000000  Default  28.0000  28.0000\n",
       "327             курс   318.000000   318.000000  Default  27.0000  27.0000\n",
       "193           проект   794.000000   794.000000  Default  26.0000  26.0000\n",
       "...              ...          ...          ...      ...      ...      ...\n",
       "25       благодарный     0.001266   136.304340  Topic20  -9.6284  -3.0137\n",
       "26              весь     0.001266  1166.959236  Topic20  -9.6284  -5.1609\n",
       "27             взять     0.001266    83.724244  Topic20  -9.6284  -2.5263\n",
       "28           внешний     0.001266    32.442886  Topic20  -9.6284  -1.5783\n",
       "29    вознаграждение     0.001266     2.830684  Topic20  -9.6284   0.8607\n",
       "\n",
       "[791 rows x 6 columns], token_table=      Topic      Freq           Term\n",
       "term                                \n",
       "1559      8  0.833379     автомобиль\n",
       "1068      7  0.977151          автор\n",
       "220       6  0.981008      агентство\n",
       "1575     12  0.810684      адаптация\n",
       "1364      9  0.842056     адаптивный\n",
       "...     ...       ...            ...\n",
       "1630     15  0.635379           этаж\n",
       "833       8  0.989227           этап\n",
       "1545     10  0.946332  эффективность\n",
       "219      12  0.990636           язык\n",
       "272      15  0.961507         яндекс\n",
       "\n",
       "[571 rows x 3 columns], R=30, lambda_step=0.01, plot_opts={'xlab': 'PC1', 'ylab': 'PC2'}, topic_order=[14, 19, 10, 18, 5, 11, 20, 16, 2, 7, 6, 1, 9, 17, 4, 15, 3, 13, 8, 12])"
      ]
     },
     "execution_count": 18,
     "metadata": {},
     "output_type": "execute_result"
    }
   ],
   "source": [
    "pyLDAvis.enable_notebook()\n",
    "vis = pyLDAvis.gensim.prepare(lda_model, corpus, id2word)\n",
    "vis"
   ]
  },
  {
   "attachments": {},
   "cell_type": "markdown",
   "metadata": {},
   "source": [
    "# Подбор количества тем"
   ]
  },
  {
   "attachments": {},
   "cell_type": "markdown",
   "metadata": {},
   "source": [
    "Подберем количество тем основываясь на согласованности модели"
   ]
  },
  {
   "cell_type": "code",
   "execution_count": 19,
   "metadata": {},
   "outputs": [],
   "source": [
    "def compute_coherence_values(dictionary, corpus, texts, limit, start, step):\n",
    "    coherence_values = []\n",
    "    model_list = []\n",
    "    for num_topics in range(start, limit, step):\n",
    "        model = gensim.models.ldamodel.LdaModel(\n",
    "            corpus=corpus,\n",
    "            id2word=id2word,\n",
    "            num_topics=num_topics, \n",
    "            random_state=765,\n",
    "            update_every=1,\n",
    "            chunksize=100,\n",
    "            passes=10,\n",
    "            alpha='auto',\n",
    "            per_word_topics=True\n",
    "            )\n",
    "        model_list.append(model)\n",
    "        coherencemodel = CoherenceModel(model=model, texts=texts, dictionary=dictionary, coherence='c_v')\n",
    "        coherence_values.append(coherencemodel.get_coherence())\n",
    "\n",
    "    return model_list, coherence_values"
   ]
  },
  {
   "cell_type": "code",
   "execution_count": 20,
   "metadata": {},
   "outputs": [],
   "source": [
    "model_list, coherence_values = compute_coherence_values(dictionary=id2word, corpus=corpus, texts=data_words_nostops, start=1, limit=10, step=1)"
   ]
  },
  {
   "cell_type": "code",
   "execution_count": 21,
   "metadata": {},
   "outputs": [
    {
     "data": {
      "image/png": "[encoded data removed]",
      "text/plain": [
       "<Figure size 640x480 with 1 Axes>"
      ]
     },
     "metadata": {},
     "output_type": "display_data"
    }
   ],
   "source": [
    "limit=10\n",
    "start=1\n",
    "step=1\n",
    "x = range(start, limit, step)\n",
    "plt.plot(x, coherence_values)\n",
    "plt.xlabel(\"Num Topics\")\n",
    "plt.ylabel(\"Coherence score\")\n",
    "plt.legend((\"coherence_values\"), loc='best')\n",
    "plt.show()"
   ]
  },
  {
   "attachments": {},
   "cell_type": "markdown",
   "metadata": {},
   "source": [
    "Наилучший результат показала модель с 3 темами"
   ]
  },
  {
   "cell_type": "code",
   "execution_count": 22,
   "metadata": {},
   "outputs": [
    {
     "name": "stdout",
     "output_type": "stream",
     "text": [
      "Perplexity:  -8.381390061581836\n",
      "Coherence Score:  0.5966520391095856\n"
     ]
    }
   ],
   "source": [
    "def model_scorer(data):\n",
    "    id2word = corpora.Dictionary(data)\n",
    "\n",
    "    texts = data\n",
    "\n",
    "    corpus = [id2word.doc2bow(text) for text in texts]\n",
    "\n",
    "    lda_model = gensim.models.ldamodel.LdaModel(\n",
    "        corpus=corpus,\n",
    "        id2word=id2word,\n",
    "        num_topics=3, \n",
    "        random_state=765,\n",
    "        update_every=1,\n",
    "        chunksize=100,\n",
    "        passes=10,\n",
    "        alpha='auto',\n",
    "        per_word_topics=True\n",
    "        )\n",
    "\n",
    "    print('Perplexity: ', lda_model.log_perplexity(corpus))\n",
    "\n",
    "    coherence_model_lda = CoherenceModel(model=lda_model, texts=texts, dictionary=id2word, coherence='c_v')\n",
    "    coherence_lda = coherence_model_lda.get_coherence()\n",
    "    print('Coherence Score: ', coherence_lda)\n",
    "\n",
    "    return lda_model, corpus, id2word\n",
    "\n",
    "best_model, best_corpus, best_id2word = model_scorer(data_words_nostops)"
   ]
  },
  {
   "attachments": {},
   "cell_type": "markdown",
   "metadata": {},
   "source": [
    "# Использование биграмм и триграмм"
   ]
  },
  {
   "attachments": {},
   "cell_type": "markdown",
   "metadata": {},
   "source": [
    "Проверим, повлияет ли использование биграмм и триграмм на согласованность модели"
   ]
  },
  {
   "cell_type": "code",
   "execution_count": 23,
   "metadata": {},
   "outputs": [],
   "source": [
    "bigram = gensim.models.Phrases(data_words_nostops, min_count=5, threshold=100)\n",
    "trigram = gensim.models.Phrases(bigram[data_words_nostops], threshold=100)  \n",
    "\n",
    "bigram_mod = gensim.models.phrases.Phraser(bigram)\n",
    "trigram_mod = gensim.models.phrases.Phraser(trigram)"
   ]
  },
  {
   "cell_type": "code",
   "execution_count": 24,
   "metadata": {},
   "outputs": [],
   "source": [
    "def make_bigrams(texts):\n",
    "    return [bigram_mod[doc] for doc in texts]\n",
    "\n",
    "def make_trigrams(texts):\n",
    "    return [trigram_mod[bigram_mod[doc]] for doc in texts]\n",
    "\n",
    "data_words_bigrams = make_bigrams(data_words_nostops)\n",
    "data_words_trigrams = make_trigrams(data_words_nostops)"
   ]
  },
  {
   "cell_type": "code",
   "execution_count": 25,
   "metadata": {},
   "outputs": [
    {
     "name": "stdout",
     "output_type": "stream",
     "text": [
      "Perplexity:  -8.434334494421696\n",
      "Coherence Score:  0.439582008213859\n",
      "Complete\n"
     ]
    }
   ],
   "source": [
    "model_scorer(data_words_bigrams)\n",
    "print('Complete')"
   ]
  },
  {
   "cell_type": "code",
   "execution_count": 26,
   "metadata": {},
   "outputs": [
    {
     "name": "stdout",
     "output_type": "stream",
     "text": [
      "Perplexity:  -8.429958224926464\n",
      "Coherence Score:  0.5836013461964166\n",
      "Complete\n"
     ]
    }
   ],
   "source": [
    "model_scorer(data_words_trigrams)\n",
    "print('Complete')"
   ]
  },
  {
   "attachments": {},
   "cell_type": "markdown",
   "metadata": {},
   "source": [
    "Использование биграмм и триграмм только ухудшили согласованнось"
   ]
  },
  {
   "attachments": {},
   "cell_type": "markdown",
   "metadata": {},
   "source": [
    "# Анализ наилучшей модели"
   ]
  },
  {
   "cell_type": "code",
   "execution_count": 27,
   "metadata": {},
   "outputs": [
    {
     "data": {
      "text/html": [
       "\n",
       "<link rel=\"stylesheet\" type=\"text/css\" href=\"https://cdn.jsdelivr.net/gh/bmabey/pyLDAvis@3.4.0/pyLDAvis/js/ldavis.v1.0.0.css\">\n",
       "\n",
       "\n",
       "<div id=\"ldavis_el49648727066240801342476716\" style=\"background-color:white;\"></div>\n",
       "<script type=\"text/javascript\">\n",
       "\n",
       "var ldavis_el49648727066240801342476716_data = {\"mdsDat\": {\"x\": [-0.16309979892126789, -0.06342349196567423, 0.22652329088694223], \"y\": [0.12542690976489695, -0.16854548150836213, 0.043118571743465034], \"topics\": [1, 2, 3], \"cluster\": [1, 1, 1], \"Freq\": [54.14636841948127, 40.62747697804631, 5.226154602472411]}, \"tinfo\": {\"Term\": [\"\\u043a\\u043e\\u043c\\u043f\\u0430\\u043d\\u0438\\u044f\", \"\\u0447\\u0435\\u043b\\u043e\\u0432\\u0435\\u043a\", \"\\u0437\", \"\\u043f\\u0440\\u043e\\u0435\\u043a\\u0442\", \"\\u043a\\u043e\\u043c\\u0430\\u043d\\u0434\\u0430\", \"\\u043e\\u043f\\u044b\\u0442\", \"\\u0434\\u0430\\u043d\\u043d\\u044b\\u0445\", \"\\u0440\\u0430\\u0431\\u043e\\u0442\\u0430\", \"\\u0436\\u0438\\u0437\\u043d\\u044c\", \"\\u0449\\u043e\", \"\\u0434\\u0435\\u043d\\u044c\", \"\\u0447\\u0430\\u0441\", \"\\u0432\\u043e\\u0437\\u043c\\u043e\\u0436\\u043d\\u043e\\u0441\\u0442\\u044c\", \"\\u0440\\u0430\\u0437\\u0440\\u0430\\u0431\\u043e\\u0442\\u043a\\u0430\", \"\\u0434\\u0435\\u043b\\u0430\\u0442\\u044c\", \"\\u043f\\u043e\\u0438\\u0441\\u043a\", \"\\u0438\\u0441\\u043a\\u0430\\u0442\\u044c\", \"\\u0440\\u0430\\u0437\\u0440\\u0430\\u0431\\u043e\\u0442\\u0447\\u0438\\u043a\", \"\\u043f\\u0440\\u0438\\u0432\\u0435\\u0442\", \"\\u043f\\u0440\\u043e\\u0434\\u0443\\u043a\\u0442\", \"\\u044f\\u043a\", \"\\u043f\\u0440\\u043e\\u0441\\u0442\\u043e\", \"\\u043f\\u043e\\u043d\\u044f\\u0442\\u044c\", \"\\u0431\\u0438\\u0437\\u043d\\u0435\\u0441\", \"\\u0433\\u043e\\u0432\\u043e\\u0440\\u0438\\u0442\\u044c\", \"\\u043f\\u0440\\u0438\\u043b\\u043e\\u0436\\u0435\\u043d\\u0438\\u0435\", \"\\u0441\\u0430\\u0439\\u0442\", \"\\u0440\\u0435\\u0437\\u044e\\u043c\\u0435\", \"\\u0434\\u0443\\u043c\\u0430\\u0442\\u044c\", \"\\u043a\\u043d\\u0438\\u0433\\u0430\", \"\\u0434\\u0430\\u043d\\u043d\\u044b\\u0445\", \"\\u043a\\u043e\\u043c\\u0430\\u043d\\u0434\\u0430\", \"\\u0440\\u0430\\u0437\\u0440\\u0430\\u0431\\u043e\\u0442\\u043a\\u0430\", \"\\u0440\\u0430\\u0437\\u0440\\u0430\\u0431\\u043e\\u0442\\u0447\\u0438\\u043a\", \"\\u0438\\u0441\\u043a\\u0430\\u0442\\u044c\", \"\\u043f\\u0440\\u0438\\u0432\\u0435\\u0442\", \"\\u0431\\u0438\\u0437\\u043d\\u0435\\u0441\", \"\\u043f\\u0440\\u0438\\u043b\\u043e\\u0436\\u0435\\u043d\\u0438\\u0435\", \"\\u0432\\u0430\\u043a\\u0430\\u043d\\u0441\\u0438\\u044f\", \"\\u0430\\u043d\\u0430\\u043b\\u0438\\u0442\\u0438\\u043a\", \"\\u0440\\u0435\\u0437\\u044e\\u043c\\u0435\", \"\\u043a\\u0430\\u0440\\u044c\\u0435\\u0440\\u043d\\u044b\\u0439\", \"\\u0441\\u043e\\u043e\\u0431\\u0449\\u0430\\u0442\\u044c\", \"\\u0442\\u0435\\u0445\\u043d\\u043e\\u043b\\u043e\\u0433\\u0438\\u044f\", \"\\u0440\\u0430\\u0437\\u0432\\u0438\\u0442\\u0438\\u0435\", \"\\u043a\\u0440\\u0443\\u043f\\u043d\\u044b\\u0439\", \"\\u043f\\u043e\\u043b\\u044c\\u0437\\u043e\\u0432\\u0430\\u0442\\u0435\\u043b\\u044c\", \"\\u0441\\u0441\\u044b\\u043b\\u043a\\u0430\", \"\\u0440\\u044b\\u043d\\u043e\\u043a\", \"\\u043a\\u043e\\u0434\", \"\\u043f\\u043e\\u0437\\u0438\\u0446\\u0438\\u044f\", \"\\u043c\\u043e\\u0434\\u0435\\u043b\\u044c\", \"\\u043f\\u0440\\u043e\\u0434\\u0443\\u043a\\u0442\", \"\\u0443\\u043f\\u0440\\u0430\\u0432\\u043b\\u0435\\u043d\\u0438\\u0435\", \"\\u0434\\u0430\\u043d\\u043d\\u044b\\u0435\", \"\\u0440\\u0435\\u043a\\u043e\\u043c\\u0435\\u043d\\u0434\\u0430\\u0446\\u0438\\u044f\", \"\\u0430\\u043d\\u0430\\u043b\\u0438\\u0437\", \"\\u0438\\u0442\", \"\\u043f\\u043e\\u0434\\u0434\\u0435\\u0440\\u0436\\u043a\\u0430\", \"\\u0437\\u0430\\u043f\\u0440\\u043e\\u0441\", \"\\u043a\\u043e\\u043c\\u043f\\u0430\\u043d\\u0438\\u044f\", \"\\u043f\\u0440\\u043e\\u0435\\u043a\\u0442\", \"\\u0432\\u043e\\u0437\\u043c\\u043e\\u0436\\u043d\\u043e\\u0441\\u0442\\u044c\", \"\\u043d\\u0430\\u0432\\u044b\\u043a\", \"\\u043f\\u043e\\u0438\\u0441\\u043a\", \"\\u043e\\u043f\\u044b\\u0442\", \"\\u0441\\u0430\\u0439\\u0442\", \"\\u043a\\u043b\\u0438\\u0435\\u043d\\u0442\", \"\\u0441\\u043f\\u0435\\u0446\\u0438\\u0430\\u043b\\u0438\\u0441\\u0442\", \"\\u0440\\u0430\\u0431\\u043e\\u0442\\u0430\", \"\\u0438\\u0441\\u043f\\u043e\\u043b\\u044c\\u0437\\u043e\\u0432\\u0430\\u0442\\u044c\", \"\\u043d\\u043e\\u0432\\u044b\\u0439\", \"\\u0432\\u0441\\u0435\\u043c\", \"\\u0441\\u0438\\u0441\\u0442\\u0435\\u043c\\u0430\", \"\\u0440\\u0435\\u0448\\u0435\\u043d\\u0438\\u0435\", \"\\u043f\\u043e\\u043c\\u043e\\u0449\\u044c\", \"\\u0438\\u043d\\u0442\\u0435\\u0440\\u0435\\u0441\\u043d\\u044b\\u0439\", \"\\u0437\\u0430\\u0434\\u0430\\u0447\\u0430\", \"\\u0432\\u0435\\u0441\\u044c\", \"\\u0445\\u043e\\u0442\\u0435\\u0442\\u044c\", \"\\u0433\\u043e\\u0434\", \"\\u043a\\u043e\\u0442\\u043e\\u0440\\u044b\\u0435\", \"\\u0440\\u0430\\u0431\\u043e\\u0442\\u0430\\u0442\\u044c\", \"\\u0445\\u043e\\u0440\\u043e\\u0448\\u0438\\u0439\", \"\\u0436\\u0438\\u0437\\u043d\\u044c\", \"\\u043f\\u043e\\u043d\\u044f\\u0442\\u044c\", \"\\u0433\\u043e\\u0432\\u043e\\u0440\\u0438\\u0442\\u044c\", \"\\u0434\\u0443\\u043c\\u0430\\u0442\\u044c\", \"\\u0432\\u0438\\u043d\\u043e\\u0432\\u0430\\u0442\\u044b\\u0439\", \"\\u0434\\u0435\\u043b\\u043e\", \"\\u043f\\u043e\\u0447\\u0435\\u043c\\u0443\", \"\\u043a\\u043d\\u0438\\u0433\\u0430\", \"\\u0441\\u043a\\u0430\\u0437\\u0430\\u0442\\u044c\", \"\\u043c\\u044b\\u0441\\u043b\\u044c\", \"\\u043f\\u0430\\u0440\\u0430\", \"\\u043d\\u0435\\u043c\\u043d\\u043e\\u0433\\u043e\", \"\\u043a\\u0430\\u0437\\u0430\\u0442\\u044c\\u0441\\u044f\", \"\\u0432\\u0442\\u043e\\u0440\\u043e\\u0439\", \"\\u043f\\u0440\\u0438\\u0439\\u0442\\u0438\", \"\\u043d\\u0430\\u0437\\u0430\\u0434\", \"\\u043f\\u0440\\u0438\\u0447\\u0438\\u043d\\u0430\", \"\\u043f\\u043e\\u043b\\u0443\\u0447\\u0438\\u0442\\u044c\\u0441\\u044f\", \"\\u0433\\u043e\\u043b\\u043e\\u0432\\u0430\", \"\\u043c\\u043e\\u0437\\u0433\", \"\\u043f\\u0440\\u043e\\u0438\\u0441\\u0445\\u043e\\u0434\\u0438\\u0442\\u044c\", \"\\u0438\\u0434\\u0442\\u0438\", \"\\u043f\\u0441\\u0438\\u0445\\u043e\\u043b\\u043e\\u0433\", \"\\u043d\\u0438\\u0447\\u0442\\u043e\", \"\\u0441\\u043e\\u0441\\u0442\\u043e\\u044f\\u043d\\u0438\\u0435\", \"\\u0441\\u0430\\u043c\\u0438\", \"\\u043d\\u0440\\u0430\\u0432\\u0438\\u0442\\u044c\\u0441\\u044f\", \"\\u043d\\u0438\\u043a\\u0442\\u043e\", \"\\u0441\\u0430\\u043c\\u043e\\u0435\", \"\\u0442\\u0440\\u0435\\u043d\\u0438\\u0440\\u043e\\u0432\\u043a\\u0430\", \"\\u0434\\u043e\\u0432\\u043e\\u043b\\u044c\\u043d\\u043e\", \"\\u0447\\u0430\\u0441\\u0442\\u043e\", \"\\u0441\\u043b\\u043e\\u0432\\u043e\", \"\\u043f\\u043e\\u043a\\u0430\", \"\\u0434\\u0435\\u043b\\u0430\\u0442\\u044c\", \"\\u0447\\u0435\\u043b\\u043e\\u0432\\u0435\\u043a\", \"\\u043f\\u0440\\u043e\\u0441\\u0442\\u043e\", \"\\u0447\\u0443\\u0432\\u0441\\u0442\\u0432\\u043e\", \"\\u043f\\u043e\\u043d\\u0438\\u043c\\u0430\\u0442\\u044c\", \"\\u043f\\u0443\\u0442\\u044c\", \"\\u043d\\u0435\\u0434\\u0435\\u043b\\u044f\", \"\\u0434\\u0435\\u043d\\u044c\", \"\\u043a\\u0430\\u0436\\u0434\\u044b\\u0439\", \"\\u0432\\u0440\\u0435\\u043c\\u044f\", \"\\u043d\\u0430\\u0447\\u0430\\u0442\\u044c\", \"\\u043d\\u0443\\u0436\\u043d\\u044b\\u0439\", \"\\u0432\\u0435\\u0441\\u044c\", \"\\u0433\\u043e\\u0434\", \"\\u0437\\u043d\\u0430\\u0442\\u044c\", \"\\u043c\\u0435\\u0441\\u044f\\u0446\", \"\\u0441\\u0434\\u0435\\u043b\\u0430\\u0442\\u044c\", \"\\u043f\\u043e\\u044d\\u0442\\u043e\\u043c\\u0443\", \"\\u0434\\u043e\\u043b\\u0436\\u043d\\u044b\\u0439\", \"\\u0432\\u0430\\u0436\\u043d\\u044b\\u0439\", \"\\u0440\\u0430\\u0431\\u043e\\u0442\\u0430\\u0442\\u044c\", \"\\u0445\\u043e\\u0442\\u0435\\u0442\\u044c\", \"\\u0432\\u043e\\u043f\\u0440\\u043e\\u0441\", \"\\u043a\\u043e\\u0442\\u043e\\u0440\\u044b\\u0435\", \"\\u043f\\u0435\\u0440\\u0432\\u044b\\u0439\", \"\\u043f\\u043e\\u0441\\u0442\", \"\\u0440\\u0430\\u0431\\u043e\\u0442\\u0430\", \"\\u043a\\u0443\\u0440\\u0441\", \"\\u0445\\u043e\\u0440\\u043e\\u0448\\u0438\\u0439\", \"\\u043d\\u043e\\u0432\\u044b\\u0439\", \"\\u0437\", \"\\u0449\\u043e\", \"\\u044f\\u043a\", \"\\u043c\\u0438\", \"\\u0446\\u0435\", \"\\u0431\\u0443\\u0434\\u0435\", \"\\u0430\\u043b\\u0435\", \"\\u044f\\u043a\\u0449\\u043e\", \"\\u0440\\u043e\\u0431\\u043e\\u0442\\u0438\", \"\\u0442\\u0430\\u043a\\u043e\\u0436\", \"\\u043c\\u043e\\u0436\\u0435\", \"\\u0436\\u0438\\u0442\\u0442\\u044f\", \"\\u0432\\u0438\", \"\\u0434\\u043e\\u043f\\u043e\\u043c\\u043e\\u0433\\u0442\\u0438\", \"\\u043c\\u043e\\u0436\\u043d\\u0430\", \"\\u044f\\u043a\\u0438\\u0439\", \"\\u0449\\u0435\", \"\\u0431\\u0443\\u0442\\u0438\", \"\\u0446\\u0435\\u0439\", \"\\u0430\\u0431\\u043e\", \"\\u043a\\u043e\\u043b\\u0438\", \"\\u0442\\u0438\", \"\\u0449\\u043e\\u0431\", \"\\u0439\\u043e\\u0433\\u043e\", \"\\u0434\\u0443\\u0436\\u0435\", \"\\u0447\\u0438\", \"\\u0434\\u0435\", \"\\u043a\\u0440\\u0438\\u0437\\u0438\", \"\\u0432\\u0436\\u0435\", \"\\u0431\\u0430\\u0433\\u0430\\u0442\\u043e\", \"\\u0437\\u0430\\u0440\\u0430\\u0437\", \"\\u0447\\u0430\\u0441\", \"\\u0434\\u0435\\u043d\\u044c\", \"\\u0440\\u043e\\u0431\\u043e\\u0442\"], \"Freq\": [629.0, 568.0, 92.0, 453.0, 375.0, 446.0, 319.0, 1097.0, 196.0, 53.0, 241.0, 93.0, 277.0, 255.0, 223.0, 253.0, 209.0, 208.0, 202.0, 205.0, 36.0, 174.0, 119.0, 178.0, 114.0, 167.0, 196.0, 171.0, 110.0, 112.0, 318.74730582976696, 374.725725498489, 254.9494350585026, 207.98886188531668, 209.05697795970664, 201.56206503576243, 177.85843331800405, 167.23061236006427, 162.013068581636, 151.5028874256078, 170.5019269475347, 137.79790818833234, 111.7151758803626, 117.20409751718336, 124.39520055714544, 114.47785888232067, 111.5575536722004, 133.93892016958443, 113.62194824335012, 113.29641018412119, 119.24089281912576, 123.96073960406858, 204.405981929484, 100.04909425815079, 101.58910912385264, 112.16562210455027, 101.80510897807622, 95.56587307018798, 100.32526000648701, 101.41495683782567, 623.2622082084796, 448.0017980629083, 274.77119687384607, 162.26041084794127, 250.0227668107679, 432.38889275422514, 193.5702242572795, 190.4513017331331, 147.11993631834153, 920.0462642913201, 158.48648959670837, 444.9466243384683, 170.73556572160467, 170.61834894611385, 201.82107257609402, 151.31473040125803, 204.04042300705706, 211.92519964414677, 306.3808591015905, 207.62512325839714, 225.90656896195128, 191.48456299425104, 186.2399070679484, 167.5175781011117, 195.6152483983053, 118.82398427707655, 113.48631493260524, 110.18224084041893, 89.09133795005759, 92.87629493909834, 93.2890024224616, 111.52390566159114, 79.46950561547264, 69.26652789669807, 68.7161278157286, 78.63459245167748, 64.0759627810549, 61.93456419434427, 66.90312157769395, 57.62483061495772, 92.11852637235536, 59.63374979171907, 53.59947065119942, 46.90853666209789, 47.34839215682949, 55.04950148480085, 49.76274728583116, 45.09083182227282, 51.57031430316474, 46.50122511651235, 44.303424071461976, 45.86673593389977, 45.355006740337366, 41.62494211653281, 44.00285302407313, 65.51547105506839, 71.71040197942496, 80.76794522385858, 206.3167684466614, 496.70890342210686, 160.94257775285226, 51.876589078008465, 102.86000136817793, 84.14562914102342, 102.85873173575965, 184.8619812104765, 171.64964763382466, 279.635462864313, 127.21300353350274, 208.58919886999593, 325.5888464015473, 268.55867025207834, 133.7639797853427, 107.27645620890635, 137.64186040160385, 114.84509093614213, 94.8945199443801, 127.1806567621186, 174.91131407955464, 171.9088834894135, 146.05190554035113, 162.9148651488177, 133.32630286441977, 127.93831952616006, 177.20409709529144, 113.62154040358044, 113.48945053994132, 108.05454851276937, 91.47230478159074, 52.87559427494187, 35.79339028199673, 30.061421231260724, 25.400383557909834, 20.249373584873076, 18.204752036613836, 18.066307075834285, 17.04245898668819, 16.485848256843457, 15.99221485845839, 15.564552998647574, 15.36633153855936, 12.939964667774172, 12.431099168650404, 12.119558104756141, 12.001385905783396, 11.978627457161215, 10.996247899276458, 10.854717172982948, 10.687433790952669, 10.71420843639053, 10.509528397319615, 10.483575302924764, 10.302377518741334, 10.234250645954848, 10.087953933791345, 9.488751226379472, 9.5472527131131, 8.966264559435674, 9.056113043835241, 19.442023991970835, 14.133789688078005, 9.912366576120762], \"Total\": [629.0, 568.0, 92.0, 453.0, 375.0, 446.0, 319.0, 1097.0, 196.0, 53.0, 241.0, 93.0, 277.0, 255.0, 223.0, 253.0, 209.0, 208.0, 202.0, 205.0, 36.0, 174.0, 119.0, 178.0, 114.0, 167.0, 196.0, 171.0, 110.0, 112.0, 319.26027533050717, 375.3679104168467, 255.4434476998632, 208.50047708662106, 209.6042629028352, 202.13799385336526, 178.3724897935887, 167.7290593327801, 162.5165129609512, 152.033582317229, 171.19794852837424, 138.3810986157372, 112.20264848594321, 117.71864086529646, 124.96577199884561, 115.00754593013731, 112.07816179854649, 134.57241551642022, 114.17129292727213, 113.85684634761888, 119.83204257642359, 124.5768922026696, 205.43234748698828, 100.55766357243535, 102.11043882122007, 112.74330703057643, 102.33054688980033, 96.07055551460935, 100.88553024246112, 101.9848236450298, 629.9613259821066, 453.2846361818639, 277.15900786708346, 163.35784301922894, 253.21454719444358, 446.63476437298596, 196.9240397833317, 194.98696653314727, 149.4205364079696, 1097.4298949576928, 164.39545801452832, 555.3388245821344, 182.484998091327, 189.9776914430228, 243.99959099873166, 164.21529146172858, 281.5727745577168, 302.6549987818509, 632.171427196756, 381.2478219220808, 494.64560792685387, 354.57897283029865, 361.33070936469824, 281.1897318030748, 196.2013537606812, 119.41755672128336, 114.05585003550149, 110.7782587079929, 89.60682609143612, 93.42554451579406, 93.86283752341512, 112.24623153337114, 80.06996828004806, 69.79760339379212, 69.2808292991148, 79.28747047665323, 64.63035134249141, 62.495618952056695, 67.51510192573599, 58.17118726543925, 93.03067160644659, 60.22621852756234, 54.190351203948744, 47.43208481380087, 47.884793019088505, 55.67563441634346, 50.33824619160508, 45.61687133029286, 52.17569746176707, 47.06766824149406, 44.843763849505166, 46.43029949999825, 45.947766207746845, 42.17779481944184, 44.59238653779032, 66.73995510169394, 73.52046036695153, 83.26520567962422, 223.57021845667776, 568.149624183737, 174.95086591651187, 52.83737396819242, 110.60981174883693, 92.62678862261644, 117.56712251661934, 241.62538355253156, 230.98023088110827, 431.68878227138094, 160.36831114482547, 338.09065990176236, 632.171427196756, 494.64560792685387, 188.64088663472262, 136.4071567561513, 201.99051425853054, 154.06751344192284, 114.34828645140794, 186.81977110660003, 361.33070936469824, 381.2478219220808, 281.750218318782, 354.57897283029865, 234.8966871992462, 224.78965784369026, 1097.4298949576928, 208.69584536891358, 281.1897318030748, 555.3388245821344, 92.11203297607719, 53.502173060633524, 36.421000681481736, 30.68889060715521, 26.026898380320105, 20.877994020782275, 18.831121581809214, 18.692978605465328, 17.66911847335516, 17.112332473455194, 16.6187861508538, 16.194831774312604, 15.993357749211338, 13.56669053721944, 13.057524705791895, 12.746954918955188, 12.62856794518346, 12.605173220113091, 11.623629137957197, 11.481805650726127, 11.314499641320584, 11.34936586073265, 11.13619655062664, 11.110208267279532, 10.92907498468076, 10.860626597619264, 10.715123881096488, 10.114826738176419, 10.179459476143979, 9.593106496832398, 9.689467362424796, 93.66474211893348, 241.62538355253156, 30.353676268120587], \"Category\": [\"Default\", \"Default\", \"Default\", \"Default\", \"Default\", \"Default\", \"Default\", \"Default\", \"Default\", \"Default\", \"Default\", \"Default\", \"Default\", \"Default\", \"Default\", \"Default\", \"Default\", \"Default\", \"Default\", \"Default\", \"Default\", \"Default\", \"Default\", \"Default\", \"Default\", \"Default\", \"Default\", \"Default\", \"Default\", \"Default\", \"Topic1\", \"Topic1\", \"Topic1\", \"Topic1\", \"Topic1\", \"Topic1\", \"Topic1\", \"Topic1\", \"Topic1\", \"Topic1\", \"Topic1\", \"Topic1\", \"Topic1\", \"Topic1\", \"Topic1\", \"Topic1\", \"Topic1\", \"Topic1\", \"Topic1\", \"Topic1\", \"Topic1\", \"Topic1\", \"Topic1\", \"Topic1\", \"Topic1\", \"Topic1\", \"Topic1\", \"Topic1\", \"Topic1\", \"Topic1\", \"Topic1\", \"Topic1\", \"Topic1\", \"Topic1\", \"Topic1\", \"Topic1\", \"Topic1\", \"Topic1\", \"Topic1\", \"Topic1\", \"Topic1\", \"Topic1\", \"Topic1\", \"Topic1\", \"Topic1\", \"Topic1\", \"Topic1\", \"Topic1\", \"Topic1\", \"Topic1\", \"Topic1\", \"Topic1\", \"Topic1\", \"Topic1\", \"Topic2\", \"Topic2\", \"Topic2\", \"Topic2\", \"Topic2\", \"Topic2\", \"Topic2\", \"Topic2\", \"Topic2\", \"Topic2\", \"Topic2\", \"Topic2\", \"Topic2\", \"Topic2\", \"Topic2\", \"Topic2\", \"Topic2\", \"Topic2\", \"Topic2\", \"Topic2\", \"Topic2\", \"Topic2\", \"Topic2\", \"Topic2\", \"Topic2\", \"Topic2\", \"Topic2\", \"Topic2\", \"Topic2\", \"Topic2\", \"Topic2\", \"Topic2\", \"Topic2\", \"Topic2\", \"Topic2\", \"Topic2\", \"Topic2\", \"Topic2\", \"Topic2\", \"Topic2\", \"Topic2\", \"Topic2\", \"Topic2\", \"Topic2\", \"Topic2\", \"Topic2\", \"Topic2\", \"Topic2\", \"Topic2\", \"Topic2\", \"Topic2\", \"Topic2\", \"Topic2\", \"Topic2\", \"Topic2\", \"Topic2\", \"Topic2\", \"Topic2\", \"Topic2\", \"Topic2\", \"Topic2\", \"Topic2\", \"Topic2\", \"Topic2\", \"Topic3\", \"Topic3\", \"Topic3\", \"Topic3\", \"Topic3\", \"Topic3\", \"Topic3\", \"Topic3\", \"Topic3\", \"Topic3\", \"Topic3\", \"Topic3\", \"Topic3\", \"Topic3\", \"Topic3\", \"Topic3\", \"Topic3\", \"Topic3\", \"Topic3\", \"Topic3\", \"Topic3\", \"Topic3\", \"Topic3\", \"Topic3\", \"Topic3\", \"Topic3\", \"Topic3\", \"Topic3\", \"Topic3\", \"Topic3\", \"Topic3\", \"Topic3\", \"Topic3\", \"Topic3\"], \"logprob\": [30.0, 29.0, 28.0, 27.0, 26.0, 25.0, 24.0, 23.0, 22.0, 21.0, 20.0, 19.0, 18.0, 17.0, 16.0, 15.0, 14.0, 13.0, 12.0, 11.0, 10.0, 9.0, 8.0, 7.0, 6.0, 5.0, 4.0, 3.0, 2.0, 1.0, -5.1517, -4.9899, -5.3751, -5.5786, -5.5735, -5.61, -5.7351, -5.7968, -5.8284, -5.8955, -5.7774, -5.9903, -6.2002, -6.1522, -6.0927, -6.1757, -6.2016, -6.0187, -6.1832, -6.1861, -6.135, -6.0962, -5.596, -6.3105, -6.2952, -6.1961, -6.2931, -6.3563, -6.3077, -6.2969, -4.4812, -4.8113, -5.3002, -5.8269, -5.3946, -4.8468, -5.6505, -5.6667, -5.9249, -4.0917, -5.8505, -4.8182, -5.776, -5.7767, -5.6087, -5.8968, -5.5978, -5.5599, -5.1913, -5.5804, -5.496, -5.6613, -5.6891, -5.795, -5.3527, -5.8512, -5.8972, -5.9267, -6.1392, -6.0976, -6.0932, -5.9146, -6.2535, -6.3909, -6.3989, -6.2641, -6.4688, -6.5028, -6.4256, -6.5749, -6.1058, -6.5407, -6.6473, -6.7807, -6.7713, -6.6206, -6.7216, -6.8202, -6.6859, -6.7894, -6.8378, -6.8031, -6.8144, -6.9002, -6.8446, -6.4466, -6.3562, -6.2373, -5.2995, -4.4209, -5.5478, -6.68, -5.9955, -6.1963, -5.9955, -5.4093, -5.4834, -4.9954, -5.783, -5.2885, -4.8432, -5.0358, -5.7328, -5.9535, -5.7042, -5.8853, -6.0761, -5.7833, -5.4646, -5.4819, -5.6449, -5.5357, -5.7361, -5.7773, -5.4516, -5.896, -5.8972, -5.9462, -4.0621, -4.6102, -5.0003, -5.1749, -5.3433, -5.57, -5.6764, -5.6841, -5.7424, -5.7756, -5.806, -5.8331, -5.8459, -6.0178, -6.0579, -6.0833, -6.0931, -6.095, -6.1806, -6.1935, -6.209, -6.2065, -6.2258, -6.2283, -6.2457, -6.2524, -6.2668, -6.328, -6.3219, -6.3846, -6.3747, -5.6107, -5.9295, -6.2843], \"loglift\": [30.0, 29.0, 28.0, 27.0, 26.0, 25.0, 24.0, 23.0, 22.0, 21.0, 20.0, 19.0, 18.0, 17.0, 16.0, 15.0, 14.0, 13.0, 12.0, 11.0, 10.0, 9.0, 8.0, 7.0, 6.0, 5.0, 4.0, 3.0, 2.0, 1.0, 0.6119, 0.6118, 0.6115, 0.611, 0.6109, 0.6106, 0.6106, 0.6105, 0.6104, 0.61, 0.6094, 0.6093, 0.6091, 0.6091, 0.6089, 0.6089, 0.6088, 0.6088, 0.6087, 0.6085, 0.6085, 0.6085, 0.6085, 0.6084, 0.6084, 0.6083, 0.6083, 0.6082, 0.6079, 0.6079, 0.6028, 0.6018, 0.6048, 0.6067, 0.6008, 0.5811, 0.5963, 0.5899, 0.598, 0.4372, 0.5769, 0.3919, 0.5469, 0.506, 0.4237, 0.5317, 0.2914, 0.2571, -0.1109, 0.0058, -0.1702, -0.0026, -0.0493, 0.0955, 0.8977, 0.8957, 0.8957, 0.8953, 0.895, 0.8948, 0.8946, 0.8943, 0.8932, 0.8931, 0.8925, 0.8925, 0.8921, 0.8917, 0.8916, 0.8913, 0.8909, 0.8908, 0.8898, 0.8896, 0.8895, 0.8894, 0.8892, 0.8891, 0.8891, 0.8886, 0.8886, 0.8885, 0.8877, 0.8875, 0.8874, 0.8822, 0.8758, 0.8703, 0.8204, 0.7663, 0.8173, 0.8824, 0.8281, 0.8047, 0.7671, 0.6329, 0.6038, 0.4665, 0.6691, 0.4178, 0.2372, 0.29, 0.557, 0.6605, 0.5172, 0.6069, 0.7142, 0.5162, 0.1752, 0.1042, 0.2437, 0.123, 0.3344, 0.3371, -0.9227, 0.2927, -0.0066, -0.7362, 2.9445, 2.9397, 2.9341, 2.9308, 2.9271, 2.9209, 2.9177, 2.9174, 2.9154, 2.9142, 2.9131, 2.9118, 2.9115, 2.9042, 2.9023, 2.901, 2.9006, 2.9005, 2.896, 2.8953, 2.8945, 2.8939, 2.8936, 2.8934, 2.8924, 2.8921, 2.8912, 2.8876, 2.8874, 2.8839, 2.8839, 1.3792, 0.1127, 1.8324]}, \"token.table\": {\"Topic\": [3, 3, 1, 1, 3, 1, 3, 3, 1, 2, 1, 1, 2, 3, 3, 2, 1, 2, 1, 2, 1, 2, 1, 2, 2, 2, 1, 2, 2, 1, 1, 3, 1, 2, 2, 1, 2, 3, 2, 1, 2, 3, 3, 2, 2, 3, 3, 1, 2, 1, 3, 1, 2, 3, 2, 1, 2, 1, 1, 2, 1, 3, 1, 2, 2, 1, 1, 2, 2, 1, 3, 1, 1, 2, 1, 2, 3, 1, 1, 2, 1, 2, 3, 1, 3, 3, 2, 2, 1, 2, 2, 1, 2, 1, 2, 2, 2, 2, 1, 2, 3, 2, 1, 2, 1, 2, 2, 1, 2, 1, 1, 1, 2, 1, 2, 2, 1, 1, 2, 1, 2, 2, 1, 2, 2, 1, 2, 1, 2, 1, 2, 3, 1, 3, 1, 3, 2, 1, 2, 3, 2, 1, 2, 1, 2, 1, 2, 1, 1, 1, 1, 1, 1, 2, 1, 3, 3, 1, 1, 2, 2, 2, 1, 2, 1, 2, 3, 2, 2, 3, 1, 2, 1, 2, 1, 3, 1, 3, 2, 1, 1, 2, 1, 2, 3, 3, 3, 1, 2, 3, 2, 3, 1, 2, 3, 1, 2, 3, 3, 3, 3, 3, 3], \"Freq\": [0.9580374668077005, 0.9558644673288035, 0.9967698121445955, 0.9997791125045062, 0.9381736774184422, 0.9979117307045512, 0.9579464377703957, 0.9519900909296936, 0.3158123984978784, 0.6797995696479756, 0.9968217816667325, 0.48404591988109746, 0.5156829081086202, 0.9823704316948704, 0.9378893560196687, 0.9932279032981605, 0.9922102193838173, 0.007216074322791398, 0.48269705277078034, 0.518189483121573, 0.3521055126803023, 0.6486154180952938, 0.9370633300739649, 0.06575883018062911, 0.9920695408675462, 0.9907426928546599, 0.4568927660091949, 0.5438236905153692, 0.9964873598395341, 0.9989184375026198, 0.9991847550396374, 0.9332603254024806, 0.07603875022958019, 0.9214107380760894, 0.9954450946151872, 0.17796143504372922, 0.7656480344904628, 0.05794093233981881, 0.986715522900119, 0.16615902686109782, 0.8307951343054891, 0.9582292722263579, 0.9149905196932915, 0.9929746259142386, 0.9989737391877184, 0.9879695092219707, 0.9879273864646327, 0.700467531854005, 0.3006723839562003, 0.9903434294453692, 0.9288436261111203, 0.2597528079630045, 0.7103444136131143, 0.03180646628118422, 0.9878648097426056, 0.7245018639335249, 0.27346393883765396, 0.9971171249359785, 0.9610971124642439, 0.036497358701173814, 0.9992655864824408, 0.9000731362931165, 0.255433115530865, 0.744652472395064, 0.9902468216650869, 0.997246021172332, 0.9744241032012799, 0.020514191646342734, 0.9978063269473957, 0.992474353759959, 0.9722038400909899, 0.9990198671579621, 0.988949597864196, 0.011111793234429169, 0.5386670238097072, 0.45970013026692286, 0.8897829130410385, 0.9912393058908555, 0.4552079119355137, 0.5462494943226165, 0.21259881585129692, 0.7844163205547852, 0.9775524434567018, 0.9953691877163617, 0.962765863569283, 0.9190103231952675, 0.9908904528338347, 0.9885726249181923, 0.9916879226969891, 0.006121530387018452, 0.9970571811667156, 0.20577631431310858, 0.7919270278110543, 0.12758668987479552, 0.8760952704735959, 0.9963743265496422, 0.9907323557109886, 0.9864771232155237, 0.8013126046694844, 0.19447586809956025, 0.0036014049648066715, 0.9811843659614117, 0.38155446245537517, 0.618177384908321, 0.9672332618497999, 0.031345522374762035, 0.9959465078297152, 0.4299762640514758, 0.5662063675133295, 0.9912224256508054, 0.9930565935576626, 0.987305045345696, 0.011847660544148353, 0.024019636817992258, 0.9727952911286865, 0.9962438530411998, 0.9993026134860511, 0.9195245988111376, 0.07916436943407144, 0.07232631421673241, 0.9312012955404297, 0.9965033891770376, 0.43151451419286346, 0.5694212146050157, 0.9908074638889979, 0.25313577878117316, 0.7464260143547413, 0.9993173284708398, 0.9923705673094801, 0.9956533510908588, 0.9889211634329944, 0.010749143080793418, 0.9930276438715232, 0.004867782567997663, 0.9883414619423729, 0.011030596673463984, 0.981522463327015, 0.07430657706034857, 0.9202583774397015, 0.005715890543103736, 0.9932805328513513, 0.08636810278065346, 0.9068650791968613, 0.8383223422535496, 0.1612859288900851, 0.5147638857683323, 0.48432086026590404, 0.9922717078172851, 0.9982640083202124, 0.9975996357724729, 0.9988437447406595, 0.9934070850842184, 0.8278702401638453, 0.1721314360736708, 0.6588987713822759, 0.32944938569113796, 0.9621306250017972, 0.9984996847904556, 0.9851514330777039, 0.015234300511510885, 0.9985623200803815, 0.9793729644339696, 0.3168465620028349, 0.6832003993186128, 0.9001056845207823, 0.08422041492592115, 0.021055103731480288, 0.9866370837527274, 0.9793192213519518, 0.013601655852110442, 0.9981939063945661, 0.9966325804864263, 0.9838005105177732, 0.013385040959425486, 0.9957464127085511, 0.9349981964655809, 0.9938952670535944, 0.9692171470177544, 0.9957846345404504, 0.9944542906763776, 0.5974613614897404, 0.4018638919544087, 0.5455768873677944, 0.4511501184002915, 0.005245931609305715, 0.9605447270237709, 0.9463481559368818, 0.010676375948702464, 0.7793754442552798, 0.20285114302534682, 0.9889128618596396, 0.014983528209994539, 0.1249670808143295, 0.8747695657003065, 0.9207571874528934, 0.018925997355621612, 0.9841518624923238, 0.950226506448564, 0.9906139688931062, 0.9877699221626098, 0.9884407162460038, 0.9414013053545487, 0.9629284010808893], \"Term\": [\"\\u0430\\u0431\\u043e\", \"\\u0430\\u043b\\u0435\", \"\\u0430\\u043d\\u0430\\u043b\\u0438\\u0437\", \"\\u0430\\u043d\\u0430\\u043b\\u0438\\u0442\\u0438\\u043a\", \"\\u0431\\u0430\\u0433\\u0430\\u0442\\u043e\", \"\\u0431\\u0438\\u0437\\u043d\\u0435\\u0441\", \"\\u0431\\u0443\\u0434\\u0435\", \"\\u0431\\u0443\\u0442\\u0438\", \"\\u0432\\u0430\\u0436\\u043d\\u044b\\u0439\", \"\\u0432\\u0430\\u0436\\u043d\\u044b\\u0439\", \"\\u0432\\u0430\\u043a\\u0430\\u043d\\u0441\\u0438\\u044f\", \"\\u0432\\u0435\\u0441\\u044c\", \"\\u0432\\u0435\\u0441\\u044c\", \"\\u0432\\u0436\\u0435\", \"\\u0432\\u0438\", \"\\u0432\\u0438\\u043d\\u043e\\u0432\\u0430\\u0442\\u044b\\u0439\", \"\\u0432\\u043e\\u0437\\u043c\\u043e\\u0436\\u043d\\u043e\\u0441\\u0442\\u044c\", \"\\u0432\\u043e\\u0437\\u043c\\u043e\\u0436\\u043d\\u043e\\u0441\\u0442\\u044c\", \"\\u0432\\u043e\\u043f\\u0440\\u043e\\u0441\", \"\\u0432\\u043e\\u043f\\u0440\\u043e\\u0441\", \"\\u0432\\u0440\\u0435\\u043c\\u044f\", \"\\u0432\\u0440\\u0435\\u043c\\u044f\", \"\\u0432\\u0441\\u0435\\u043c\", \"\\u0432\\u0441\\u0435\\u043c\", \"\\u0432\\u0442\\u043e\\u0440\\u043e\\u0439\", \"\\u0433\\u043e\\u0432\\u043e\\u0440\\u0438\\u0442\\u044c\", \"\\u0433\\u043e\\u0434\", \"\\u0433\\u043e\\u0434\", \"\\u0433\\u043e\\u043b\\u043e\\u0432\\u0430\", \"\\u0434\\u0430\\u043d\\u043d\\u044b\\u0435\", \"\\u0434\\u0430\\u043d\\u043d\\u044b\\u0445\", \"\\u0434\\u0435\", \"\\u0434\\u0435\\u043b\\u0430\\u0442\\u044c\", \"\\u0434\\u0435\\u043b\\u0430\\u0442\\u044c\", \"\\u0434\\u0435\\u043b\\u043e\", \"\\u0434\\u0435\\u043d\\u044c\", \"\\u0434\\u0435\\u043d\\u044c\", \"\\u0434\\u0435\\u043d\\u044c\", \"\\u0434\\u043e\\u0432\\u043e\\u043b\\u044c\\u043d\\u043e\", \"\\u0434\\u043e\\u043b\\u0436\\u043d\\u044b\\u0439\", \"\\u0434\\u043e\\u043b\\u0436\\u043d\\u044b\\u0439\", \"\\u0434\\u043e\\u043f\\u043e\\u043c\\u043e\\u0433\\u0442\\u0438\", \"\\u0434\\u0443\\u0436\\u0435\", \"\\u0434\\u0443\\u043c\\u0430\\u0442\\u044c\", \"\\u0436\\u0438\\u0437\\u043d\\u044c\", \"\\u0436\\u0438\\u0442\\u0442\\u044f\", \"\\u0437\", \"\\u0437\\u0430\\u0434\\u0430\\u0447\\u0430\", \"\\u0437\\u0430\\u0434\\u0430\\u0447\\u0430\", \"\\u0437\\u0430\\u043f\\u0440\\u043e\\u0441\", \"\\u0437\\u0430\\u0440\\u0430\\u0437\", \"\\u0437\\u043d\\u0430\\u0442\\u044c\", \"\\u0437\\u043d\\u0430\\u0442\\u044c\", \"\\u0437\\u043d\\u0430\\u0442\\u044c\", \"\\u0438\\u0434\\u0442\\u0438\", \"\\u0438\\u043d\\u0442\\u0435\\u0440\\u0435\\u0441\\u043d\\u044b\\u0439\", \"\\u0438\\u043d\\u0442\\u0435\\u0440\\u0435\\u0441\\u043d\\u044b\\u0439\", \"\\u0438\\u0441\\u043a\\u0430\\u0442\\u044c\", \"\\u0438\\u0441\\u043f\\u043e\\u043b\\u044c\\u0437\\u043e\\u0432\\u0430\\u0442\\u044c\", \"\\u0438\\u0441\\u043f\\u043e\\u043b\\u044c\\u0437\\u043e\\u0432\\u0430\\u0442\\u044c\", \"\\u0438\\u0442\", \"\\u0439\\u043e\\u0433\\u043e\", \"\\u043a\\u0430\\u0436\\u0434\\u044b\\u0439\", \"\\u043a\\u0430\\u0436\\u0434\\u044b\\u0439\", \"\\u043a\\u0430\\u0437\\u0430\\u0442\\u044c\\u0441\\u044f\", \"\\u043a\\u0430\\u0440\\u044c\\u0435\\u0440\\u043d\\u044b\\u0439\", \"\\u043a\\u043b\\u0438\\u0435\\u043d\\u0442\", \"\\u043a\\u043b\\u0438\\u0435\\u043d\\u0442\", \"\\u043a\\u043d\\u0438\\u0433\\u0430\", \"\\u043a\\u043e\\u0434\", \"\\u043a\\u043e\\u043b\\u0438\", \"\\u043a\\u043e\\u043c\\u0430\\u043d\\u0434\\u0430\", \"\\u043a\\u043e\\u043c\\u043f\\u0430\\u043d\\u0438\\u044f\", \"\\u043a\\u043e\\u043c\\u043f\\u0430\\u043d\\u0438\\u044f\", \"\\u043a\\u043e\\u0442\\u043e\\u0440\\u044b\\u0435\", \"\\u043a\\u043e\\u0442\\u043e\\u0440\\u044b\\u0435\", \"\\u043a\\u0440\\u0438\\u0437\\u0438\", \"\\u043a\\u0440\\u0443\\u043f\\u043d\\u044b\\u0439\", \"\\u043a\\u0443\\u0440\\u0441\", \"\\u043a\\u0443\\u0440\\u0441\", \"\\u043c\\u0435\\u0441\\u044f\\u0446\", \"\\u043c\\u0435\\u0441\\u044f\\u0446\", \"\\u043c\\u0438\", \"\\u043c\\u043e\\u0434\\u0435\\u043b\\u044c\", \"\\u043c\\u043e\\u0436\\u0435\", \"\\u043c\\u043e\\u0436\\u043d\\u0430\", \"\\u043c\\u043e\\u0437\\u0433\", \"\\u043c\\u044b\\u0441\\u043b\\u044c\", \"\\u043d\\u0430\\u0432\\u044b\\u043a\", \"\\u043d\\u0430\\u0432\\u044b\\u043a\", \"\\u043d\\u0430\\u0437\\u0430\\u0434\", \"\\u043d\\u0430\\u0447\\u0430\\u0442\\u044c\", \"\\u043d\\u0430\\u0447\\u0430\\u0442\\u044c\", \"\\u043d\\u0435\\u0434\\u0435\\u043b\\u044f\", \"\\u043d\\u0435\\u0434\\u0435\\u043b\\u044f\", \"\\u043d\\u0435\\u043c\\u043d\\u043e\\u0433\\u043e\", \"\\u043d\\u0438\\u043a\\u0442\\u043e\", \"\\u043d\\u0438\\u0447\\u0442\\u043e\", \"\\u043d\\u043e\\u0432\\u044b\\u0439\", \"\\u043d\\u043e\\u0432\\u044b\\u0439\", \"\\u043d\\u043e\\u0432\\u044b\\u0439\", \"\\u043d\\u0440\\u0430\\u0432\\u0438\\u0442\\u044c\\u0441\\u044f\", \"\\u043d\\u0443\\u0436\\u043d\\u044b\\u0439\", \"\\u043d\\u0443\\u0436\\u043d\\u044b\\u0439\", \"\\u043e\\u043f\\u044b\\u0442\", \"\\u043e\\u043f\\u044b\\u0442\", \"\\u043f\\u0430\\u0440\\u0430\", \"\\u043f\\u0435\\u0440\\u0432\\u044b\\u0439\", \"\\u043f\\u0435\\u0440\\u0432\\u044b\\u0439\", \"\\u043f\\u043e\\u0434\\u0434\\u0435\\u0440\\u0436\\u043a\\u0430\", \"\\u043f\\u043e\\u0437\\u0438\\u0446\\u0438\\u044f\", \"\\u043f\\u043e\\u0438\\u0441\\u043a\", \"\\u043f\\u043e\\u0438\\u0441\\u043a\", \"\\u043f\\u043e\\u043a\\u0430\", \"\\u043f\\u043e\\u043a\\u0430\", \"\\u043f\\u043e\\u043b\\u0443\\u0447\\u0438\\u0442\\u044c\\u0441\\u044f\", \"\\u043f\\u043e\\u043b\\u044c\\u0437\\u043e\\u0432\\u0430\\u0442\\u0435\\u043b\\u044c\", \"\\u043f\\u043e\\u043c\\u043e\\u0449\\u044c\", \"\\u043f\\u043e\\u043c\\u043e\\u0449\\u044c\", \"\\u043f\\u043e\\u043d\\u0438\\u043c\\u0430\\u0442\\u044c\", \"\\u043f\\u043e\\u043d\\u0438\\u043c\\u0430\\u0442\\u044c\", \"\\u043f\\u043e\\u043d\\u044f\\u0442\\u044c\", \"\\u043f\\u043e\\u0441\\u0442\", \"\\u043f\\u043e\\u0441\\u0442\", \"\\u043f\\u043e\\u0447\\u0435\\u043c\\u0443\", \"\\u043f\\u043e\\u044d\\u0442\\u043e\\u043c\\u0443\", \"\\u043f\\u043e\\u044d\\u0442\\u043e\\u043c\\u0443\", \"\\u043f\\u0440\\u0438\\u0432\\u0435\\u0442\", \"\\u043f\\u0440\\u0438\\u0439\\u0442\\u0438\", \"\\u043f\\u0440\\u0438\\u043b\\u043e\\u0436\\u0435\\u043d\\u0438\\u0435\", \"\\u043f\\u0440\\u0438\\u0447\\u0438\\u043d\\u0430\", \"\\u043f\\u0440\\u0438\\u0447\\u0438\\u043d\\u0430\", \"\\u043f\\u0440\\u043e\\u0434\\u0443\\u043a\\u0442\", \"\\u043f\\u0440\\u043e\\u0434\\u0443\\u043a\\u0442\", \"\\u043f\\u0440\\u043e\\u0435\\u043a\\u0442\", \"\\u043f\\u0440\\u043e\\u0435\\u043a\\u0442\", \"\\u043f\\u0440\\u043e\\u0438\\u0441\\u0445\\u043e\\u0434\\u0438\\u0442\\u044c\", \"\\u043f\\u0440\\u043e\\u0441\\u0442\\u043e\", \"\\u043f\\u0440\\u043e\\u0441\\u0442\\u043e\", \"\\u043f\\u0440\\u043e\\u0441\\u0442\\u043e\", \"\\u043f\\u0441\\u0438\\u0445\\u043e\\u043b\\u043e\\u0433\", \"\\u043f\\u0443\\u0442\\u044c\", \"\\u043f\\u0443\\u0442\\u044c\", \"\\u0440\\u0430\\u0431\\u043e\\u0442\\u0430\", \"\\u0440\\u0430\\u0431\\u043e\\u0442\\u0430\", \"\\u0440\\u0430\\u0431\\u043e\\u0442\\u0430\\u0442\\u044c\", \"\\u0440\\u0430\\u0431\\u043e\\u0442\\u0430\\u0442\\u044c\", \"\\u0440\\u0430\\u0437\\u0432\\u0438\\u0442\\u0438\\u0435\", \"\\u0440\\u0430\\u0437\\u0440\\u0430\\u0431\\u043e\\u0442\\u043a\\u0430\", \"\\u0440\\u0430\\u0437\\u0440\\u0430\\u0431\\u043e\\u0442\\u0447\\u0438\\u043a\", \"\\u0440\\u0435\\u0437\\u044e\\u043c\\u0435\", \"\\u0440\\u0435\\u043a\\u043e\\u043c\\u0435\\u043d\\u0434\\u0430\\u0446\\u0438\\u044f\", \"\\u0440\\u0435\\u0448\\u0435\\u043d\\u0438\\u0435\", \"\\u0440\\u0435\\u0448\\u0435\\u043d\\u0438\\u0435\", \"\\u0440\\u043e\\u0431\\u043e\\u0442\", \"\\u0440\\u043e\\u0431\\u043e\\u0442\", \"\\u0440\\u043e\\u0431\\u043e\\u0442\\u0438\", \"\\u0440\\u044b\\u043d\\u043e\\u043a\", \"\\u0441\\u0430\\u0439\\u0442\", \"\\u0441\\u0430\\u0439\\u0442\", \"\\u0441\\u0430\\u043c\\u0438\", \"\\u0441\\u0430\\u043c\\u043e\\u0435\", \"\\u0441\\u0434\\u0435\\u043b\\u0430\\u0442\\u044c\", \"\\u0441\\u0434\\u0435\\u043b\\u0430\\u0442\\u044c\", \"\\u0441\\u0438\\u0441\\u0442\\u0435\\u043c\\u0430\", \"\\u0441\\u0438\\u0441\\u0442\\u0435\\u043c\\u0430\", \"\\u0441\\u0438\\u0441\\u0442\\u0435\\u043c\\u0430\", \"\\u0441\\u043a\\u0430\\u0437\\u0430\\u0442\\u044c\", \"\\u0441\\u043b\\u043e\\u0432\\u043e\", \"\\u0441\\u043b\\u043e\\u0432\\u043e\", \"\\u0441\\u043e\\u043e\\u0431\\u0449\\u0430\\u0442\\u044c\", \"\\u0441\\u043e\\u0441\\u0442\\u043e\\u044f\\u043d\\u0438\\u0435\", \"\\u0441\\u043f\\u0435\\u0446\\u0438\\u0430\\u043b\\u0438\\u0441\\u0442\", \"\\u0441\\u043f\\u0435\\u0446\\u0438\\u0430\\u043b\\u0438\\u0441\\u0442\", \"\\u0441\\u0441\\u044b\\u043b\\u043a\\u0430\", \"\\u0442\\u0430\\u043a\\u043e\\u0436\", \"\\u0442\\u0435\\u0445\\u043d\\u043e\\u043b\\u043e\\u0433\\u0438\\u044f\", \"\\u0442\\u0438\", \"\\u0442\\u0440\\u0435\\u043d\\u0438\\u0440\\u043e\\u0432\\u043a\\u0430\", \"\\u0443\\u043f\\u0440\\u0430\\u0432\\u043b\\u0435\\u043d\\u0438\\u0435\", \"\\u0445\\u043e\\u0440\\u043e\\u0448\\u0438\\u0439\", \"\\u0445\\u043e\\u0440\\u043e\\u0448\\u0438\\u0439\", \"\\u0445\\u043e\\u0442\\u0435\\u0442\\u044c\", \"\\u0445\\u043e\\u0442\\u0435\\u0442\\u044c\", \"\\u0445\\u043e\\u0442\\u0435\\u0442\\u044c\", \"\\u0446\\u0435\", \"\\u0446\\u0435\\u0439\", \"\\u0447\\u0430\\u0441\", \"\\u0447\\u0430\\u0441\", \"\\u0447\\u0430\\u0441\", \"\\u0447\\u0430\\u0441\\u0442\\u043e\", \"\\u0447\\u0430\\u0441\\u0442\\u043e\", \"\\u0447\\u0435\\u043b\\u043e\\u0432\\u0435\\u043a\", \"\\u0447\\u0435\\u043b\\u043e\\u0432\\u0435\\u043a\", \"\\u0447\\u0438\", \"\\u0447\\u0443\\u0432\\u0441\\u0442\\u0432\\u043e\", \"\\u0447\\u0443\\u0432\\u0441\\u0442\\u0432\\u043e\", \"\\u0449\\u0435\", \"\\u0449\\u043e\", \"\\u0449\\u043e\\u0431\", \"\\u044f\\u043a\", \"\\u044f\\u043a\\u0438\\u0439\", \"\\u044f\\u043a\\u0449\\u043e\"]}, \"R\": 30, \"lambda.step\": 0.01, \"plot.opts\": {\"xlab\": \"PC1\", \"ylab\": \"PC2\"}, \"topic.order\": [1, 3, 2]};\n",
       "\n",
       "function LDAvis_load_lib(url, callback){\n",
       "  var s = document.createElement('script');\n",
       "  s.src = url;\n",
       "  s.async = true;\n",
       "  s.onreadystatechange = s.onload = callback;\n",
       "  s.onerror = function(){console.warn(\"failed to load library \" + url);};\n",
       "  document.getElementsByTagName(\"head\")[0].appendChild(s);\n",
       "}\n",
       "\n",
       "if(typeof(LDAvis) !== \"undefined\"){\n",
       "   // already loaded: just create the visualization\n",
       "   !function(LDAvis){\n",
       "       new LDAvis(\"#\" + \"ldavis_el49648727066240801342476716\", ldavis_el49648727066240801342476716_data);\n",
       "   }(LDAvis);\n",
       "}else if(typeof define === \"function\" && define.amd){\n",
       "   // require.js is available: use it to load d3/LDAvis\n",
       "   require.config({paths: {d3: \"https://d3js.org/d3.v5\"}});\n",
       "   require([\"d3\"], function(d3){\n",
       "      window.d3 = d3;\n",
       "      LDAvis_load_lib(\"https://cdn.jsdelivr.net/gh/bmabey/pyLDAvis@3.4.0/pyLDAvis/js/ldavis.v3.0.0.js\", function(){\n",
       "        new LDAvis(\"#\" + \"ldavis_el49648727066240801342476716\", ldavis_el49648727066240801342476716_data);\n",
       "      });\n",
       "    });\n",
       "}else{\n",
       "    // require.js not available: dynamically load d3 & LDAvis\n",
       "    LDAvis_load_lib(\"https://d3js.org/d3.v5.js\", function(){\n",
       "         LDAvis_load_lib(\"https://cdn.jsdelivr.net/gh/bmabey/pyLDAvis@3.4.0/pyLDAvis/js/ldavis.v3.0.0.js\", function(){\n",
       "                 new LDAvis(\"#\" + \"ldavis_el49648727066240801342476716\", ldavis_el49648727066240801342476716_data);\n",
       "            })\n",
       "         });\n",
       "}\n",
       "</script>"
      ],
      "text/plain": [
       "PreparedData(topic_coordinates=              x         y  topics  cluster       Freq\n",
       "topic                                                \n",
       "0     -0.163100  0.125427       1        1  54.146368\n",
       "2     -0.063423 -0.168545       2        1  40.627477\n",
       "1      0.226523  0.043119       3        1   5.226155, topic_info=          Term        Freq       Total Category  logprob  loglift\n",
       "46    компания  629.000000  629.000000  Default  30.0000  30.0000\n",
       "87     человек  568.000000  568.000000  Default  29.0000  29.0000\n",
       "7842         з   92.000000   92.000000  Default  28.0000  28.0000\n",
       "193     проект  453.000000  453.000000  Default  27.0000  27.0000\n",
       "45     команда  375.000000  375.000000  Default  26.0000  26.0000\n",
       "...        ...         ...         ...      ...      ...      ...\n",
       "8667    багато    8.966265    9.593106   Topic3  -6.3846   2.8839\n",
       "9910     зараз    9.056113    9.689467   Topic3  -6.3747   2.8839\n",
       "902        час   19.442024   93.664742   Topic3  -5.6107   1.3792\n",
       "97        день   14.133790  241.625384   Topic3  -5.9295   0.1127\n",
       "413      робот    9.912367   30.353676   Topic3  -6.2843   1.8324\n",
       "\n",
       "[182 rows x 6 columns], token_table=      Topic      Freq      Term\n",
       "term                           \n",
       "7841      3  0.958037       або\n",
       "8500      3  0.955864       але\n",
       "454       1  0.996770    анализ\n",
       "690       1  0.999779  аналитик\n",
       "8667      3  0.938174    багато\n",
       "...     ...       ...       ...\n",
       "8649      3  0.990614        що\n",
       "8650      3  0.987770       щоб\n",
       "8530      3  0.988441        як\n",
       "8867      3  0.941401      який\n",
       "8532      3  0.962928      якщо\n",
       "\n",
       "[203 rows x 3 columns], R=30, lambda_step=0.01, plot_opts={'xlab': 'PC1', 'ylab': 'PC2'}, topic_order=[1, 3, 2])"
      ]
     },
     "execution_count": 27,
     "metadata": {},
     "output_type": "execute_result"
    }
   ],
   "source": [
    "pyLDAvis.enable_notebook()\n",
    "vis = pyLDAvis.gensim.prepare(best_model, best_corpus, best_id2word)\n",
    "vis"
   ]
  },
  {
   "cell_type": "code",
   "execution_count": 28,
   "metadata": {},
   "outputs": [],
   "source": [
    "topic_probs = best_model.get_document_topics(best_corpus)\n",
    "max_prob_topics = list(map(lambda doc_probs: max(doc_probs, key=lambda x: x[1])[0], topic_probs))"
   ]
  },
  {
   "cell_type": "code",
   "execution_count": 29,
   "metadata": {},
   "outputs": [
    {
     "data": {
      "text/html": [
       "<div>\n",
       "<style scoped>\n",
       "    .dataframe tbody tr th:only-of-type {\n",
       "        vertical-align: middle;\n",
       "    }\n",
       "\n",
       "    .dataframe tbody tr th {\n",
       "        vertical-align: top;\n",
       "    }\n",
       "\n",
       "    .dataframe thead th {\n",
       "        text-align: right;\n",
       "    }\n",
       "</style>\n",
       "<table border=\"1\" class=\"dataframe\">\n",
       "  <thead>\n",
       "    <tr style=\"text-align: right;\">\n",
       "      <th></th>\n",
       "      <th>text</th>\n",
       "      <th>topic_label</th>\n",
       "    </tr>\n",
       "  </thead>\n",
       "  <tbody>\n",
       "    <tr>\n",
       "      <th>0</th>\n",
       "      <td>Всем привет!Выпустил свою первую статью на хаб...</td>\n",
       "      <td>0</td>\n",
       "    </tr>\n",
       "    <tr>\n",
       "      <th>1</th>\n",
       "      <td>Если вам интересно позалипать в слова, я запус...</td>\n",
       "      <td>2</td>\n",
       "    </tr>\n",
       "    <tr>\n",
       "      <th>2</th>\n",
       "      <td>С трепетом готов представить свой продукт. Реф...</td>\n",
       "      <td>0</td>\n",
       "    </tr>\n",
       "  </tbody>\n",
       "</table>\n",
       "</div>"
      ],
      "text/plain": [
       "                                                text topic_label\n",
       "0  Всем привет!Выпустил свою первую статью на хаб...           0\n",
       "1  Если вам интересно позалипать в слова, я запус...           2\n",
       "2  С трепетом готов представить свой продукт. Реф...           0"
      ]
     },
     "execution_count": 29,
     "metadata": {},
     "output_type": "execute_result"
    }
   ],
   "source": [
    "df = pd.DataFrame([list(data_dd[\"text\"]), max_prob_topics]).transpose()\n",
    "df.columns = ['text', 'topic_label']\n",
    "df.head(3)"
   ]
  },
  {
   "cell_type": "code",
   "execution_count": 35,
   "metadata": {},
   "outputs": [
    {
     "data": {
      "text/html": [
       "<div>\n",
       "<style scoped>\n",
       "    .dataframe tbody tr th:only-of-type {\n",
       "        vertical-align: middle;\n",
       "    }\n",
       "\n",
       "    .dataframe tbody tr th {\n",
       "        vertical-align: top;\n",
       "    }\n",
       "\n",
       "    .dataframe thead th {\n",
       "        text-align: right;\n",
       "    }\n",
       "</style>\n",
       "<table border=\"1\" class=\"dataframe\">\n",
       "  <thead>\n",
       "    <tr style=\"text-align: right;\">\n",
       "      <th></th>\n",
       "      <th>text</th>\n",
       "      <th>topic_label</th>\n",
       "    </tr>\n",
       "  </thead>\n",
       "  <tbody>\n",
       "    <tr>\n",
       "      <th>159</th>\n",
       "      <td>Юрий Бура (@juriy), спасибо! Это были очень кр...</td>\n",
       "      <td>1</td>\n",
       "    </tr>\n",
       "    <tr>\n",
       "      <th>306</th>\n",
       "      <td>Штош, надоело мне в IT. Уволюсь и открою пивну...</td>\n",
       "      <td>1</td>\n",
       "    </tr>\n",
       "    <tr>\n",
       "      <th>336</th>\n",
       "      <td>Компания первой создавший и распространивший э...</td>\n",
       "      <td>1</td>\n",
       "    </tr>\n",
       "    <tr>\n",
       "      <th>607</th>\n",
       "      <td>Дизайн и верстка. Земельные участки Подмосковь...</td>\n",
       "      <td>1</td>\n",
       "    </tr>\n",
       "    <tr>\n",
       "      <th>609</th>\n",
       "      <td>Лендинг пейдж для службы вскрытия дверей. #web...</td>\n",
       "      <td>1</td>\n",
       "    </tr>\n",
       "  </tbody>\n",
       "</table>\n",
       "</div>"
      ],
      "text/plain": [
       "                                                  text topic_label\n",
       "159  Юрий Бура (@juriy), спасибо! Это были очень кр...           1\n",
       "306  Штош, надоело мне в IT. Уволюсь и открою пивну...           1\n",
       "336  Компания первой создавший и распространивший э...           1\n",
       "607  Дизайн и верстка. Земельные участки Подмосковь...           1\n",
       "609  Лендинг пейдж для службы вскрытия дверей. #web...           1"
      ]
     },
     "execution_count": 35,
     "metadata": {},
     "output_type": "execute_result"
    }
   ],
   "source": [
    "df.loc[df['topic_label'] == 1].head()"
   ]
  },
  {
   "cell_type": "code",
   "execution_count": 38,
   "metadata": {},
   "outputs": [
    {
     "data": {
      "text/plain": [
       "[('человек', 0.012023695),\n",
       " ('весь', 0.007881439),\n",
       " ('время', 0.0067690583),\n",
       " ('год', 0.0065009254),\n",
       " ('нужный', 0.0050492613),\n",
       " ('делать', 0.004994253),\n",
       " ('жизнь', 0.0047352044),\n",
       " ('день', 0.004474903),\n",
       " ('работа', 0.0042895307),\n",
       " ('работать', 0.00423403)]"
      ]
     },
     "execution_count": 38,
     "metadata": {},
     "output_type": "execute_result"
    }
   ],
   "source": [
    "best_model.show_topic(2)"
   ]
  },
  {
   "attachments": {},
   "cell_type": "markdown",
   "metadata": {},
   "source": [
    "# Вывод"
   ]
  },
  {
   "attachments": {},
   "cell_type": "markdown",
   "metadata": {},
   "source": [
    "С имеющимися данными наилучшую согласованность имеет модель с разделением на 3 темы. После разделения на 3 темы было выявлено, что как отдельная тема выделены тексты на украинском языке. Для получения нормальных результатов нужно провести повторное моделирование исключив из данных украинские тексты."
   ]
  }
 ],
 "metadata": {
  "kernelspec": {
   "display_name": "venv",
   "language": "python",
   "name": "python3"
  },
  "language_info": {
   "codemirror_mode": {
    "name": "ipython",
    "version": 3
   },
   "file_extension": ".py",
   "mimetype": "text/x-python",
   "name": "python",
   "nbconvert_exporter": "python",
   "pygments_lexer": "ipython3",
   "version": "3.10.7"
  },
  "orig_nbformat": 4
 },
 "nbformat": 4,
 "nbformat_minor": 2
}
