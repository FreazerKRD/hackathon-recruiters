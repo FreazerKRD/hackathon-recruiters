{
 "cells": [
  {
   "attachments": {},
   "cell_type": "markdown",
   "metadata": {},
   "source": [
    "Загрузим нужные библиотеки"
   ]
  },
  {
   "cell_type": "code",
   "execution_count": 1,
   "metadata": {},
   "outputs": [
    {
     "name": "stdout",
     "output_type": "stream",
     "text": [
      "Collecting ru-core-news-sm==3.5.0\n",
      "  Downloading https://github.com/explosion/spacy-models/releases/download/ru_core_news_sm-3.5.0/ru_core_news_sm-3.5.0-py3-none-any.whl (15.3 MB)\n",
      "                                              0.0/15.3 MB ? eta -:--:--\n",
      "                                              0.0/15.3 MB 1.3 MB/s eta 0:00:12\n",
      "                                             0.0/15.3 MB 653.6 kB/s eta 0:00:24\n",
      "                                             0.1/15.3 MB 871.5 kB/s eta 0:00:18\n",
      "                                             0.1/15.3 MB 798.9 kB/s eta 0:00:19\n",
      "                                             0.2/15.3 MB 984.6 kB/s eta 0:00:16\n",
      "                                              0.2/15.3 MB 1.1 MB/s eta 0:00:14\n",
      "                                              0.3/15.3 MB 1.3 MB/s eta 0:00:12\n",
      "     -                                        0.4/15.3 MB 1.3 MB/s eta 0:00:12\n",
      "     -                                        0.5/15.3 MB 1.5 MB/s eta 0:00:11\n",
      "     -                                        0.6/15.3 MB 1.5 MB/s eta 0:00:10\n",
      "     -                                        0.7/15.3 MB 1.6 MB/s eta 0:00:09\n",
      "     --                                       0.8/15.3 MB 1.7 MB/s eta 0:00:09\n",
      "     --                                       0.9/15.3 MB 1.8 MB/s eta 0:00:08\n",
      "     --                                       1.0/15.3 MB 1.8 MB/s eta 0:00:08\n",
      "     --                                       1.1/15.3 MB 1.9 MB/s eta 0:00:08\n",
      "     --                                       1.1/15.3 MB 1.9 MB/s eta 0:00:08\n",
      "     ---                                      1.2/15.3 MB 1.9 MB/s eta 0:00:08\n",
      "     ---                                      1.3/15.3 MB 1.9 MB/s eta 0:00:08\n",
      "     ---                                      1.4/15.3 MB 1.9 MB/s eta 0:00:08\n",
      "     ---                                      1.5/15.3 MB 1.9 MB/s eta 0:00:08\n",
      "     ----                                     1.6/15.3 MB 1.9 MB/s eta 0:00:08\n",
      "     ----                                     1.6/15.3 MB 1.9 MB/s eta 0:00:08\n",
      "     ----                                     1.7/15.3 MB 1.9 MB/s eta 0:00:08\n",
      "     ----                                     1.8/15.3 MB 1.9 MB/s eta 0:00:08\n",
      "     -----                                    1.9/15.3 MB 1.9 MB/s eta 0:00:08\n",
      "     -----                                    2.0/15.3 MB 1.9 MB/s eta 0:00:08\n",
      "     -----                                    2.1/15.3 MB 1.9 MB/s eta 0:00:07\n",
      "     -----                                    2.2/15.3 MB 1.9 MB/s eta 0:00:07\n",
      "     ------                                   2.3/15.3 MB 1.9 MB/s eta 0:00:07\n",
      "     ------                                   2.4/15.3 MB 1.9 MB/s eta 0:00:07\n",
      "     ------                                   2.5/15.3 MB 1.9 MB/s eta 0:00:07\n",
      "     ------                                   2.5/15.3 MB 1.9 MB/s eta 0:00:07\n",
      "     ------                                   2.6/15.3 MB 1.9 MB/s eta 0:00:07\n",
      "     -------                                  2.7/15.3 MB 1.9 MB/s eta 0:00:07\n",
      "     -------                                  2.8/15.3 MB 1.9 MB/s eta 0:00:07\n",
      "     -------                                  2.8/15.3 MB 1.9 MB/s eta 0:00:07\n",
      "     -------                                  2.9/15.3 MB 1.9 MB/s eta 0:00:07\n",
      "     -------                                  3.0/15.3 MB 1.9 MB/s eta 0:00:07\n",
      "     --------                                 3.1/15.3 MB 1.9 MB/s eta 0:00:07\n",
      "     --------                                 3.2/15.3 MB 1.9 MB/s eta 0:00:07\n",
      "     --------                                 3.3/15.3 MB 1.9 MB/s eta 0:00:07\n",
      "     --------                                 3.3/15.3 MB 1.9 MB/s eta 0:00:07\n",
      "     ---------                                3.5/15.3 MB 1.9 MB/s eta 0:00:07\n",
      "     ---------                                3.6/15.3 MB 1.9 MB/s eta 0:00:06\n",
      "     ---------                                3.7/15.3 MB 2.0 MB/s eta 0:00:06\n",
      "     ---------                                3.8/15.3 MB 2.0 MB/s eta 0:00:06\n",
      "     ----------                               3.9/15.3 MB 2.0 MB/s eta 0:00:06\n",
      "     ----------                               3.9/15.3 MB 2.0 MB/s eta 0:00:06\n",
      "     ----------                               4.0/15.3 MB 2.0 MB/s eta 0:00:06\n",
      "     ----------                               4.2/15.3 MB 2.0 MB/s eta 0:00:06\n",
      "     -----------                              4.2/15.3 MB 2.0 MB/s eta 0:00:06\n",
      "     -----------                              4.4/15.3 MB 2.0 MB/s eta 0:00:06\n",
      "     -----------                              4.5/15.3 MB 2.0 MB/s eta 0:00:06\n",
      "     ------------                             4.6/15.3 MB 2.0 MB/s eta 0:00:06\n",
      "     ------------                             4.8/15.3 MB 2.1 MB/s eta 0:00:06\n",
      "     -------------                            5.0/15.3 MB 2.1 MB/s eta 0:00:05\n",
      "     -------------                            5.2/15.3 MB 2.1 MB/s eta 0:00:05\n",
      "     -------------                            5.3/15.3 MB 2.1 MB/s eta 0:00:05\n",
      "     --------------                           5.4/15.3 MB 2.1 MB/s eta 0:00:05\n",
      "     --------------                           5.4/15.3 MB 2.1 MB/s eta 0:00:05\n",
      "     --------------                           5.6/15.3 MB 2.1 MB/s eta 0:00:05\n",
      "     --------------                           5.7/15.3 MB 2.1 MB/s eta 0:00:05\n",
      "     ---------------                          5.8/15.3 MB 2.1 MB/s eta 0:00:05\n",
      "     ---------------                          5.9/15.3 MB 2.1 MB/s eta 0:00:05\n",
      "     ---------------                          6.0/15.3 MB 2.1 MB/s eta 0:00:05\n",
      "     ----------------                         6.1/15.3 MB 2.1 MB/s eta 0:00:05\n",
      "     ----------------                         6.3/15.3 MB 2.1 MB/s eta 0:00:05\n",
      "     ----------------                         6.4/15.3 MB 2.1 MB/s eta 0:00:05\n",
      "     -----------------                        6.5/15.3 MB 2.1 MB/s eta 0:00:05\n",
      "     -----------------                        6.6/15.3 MB 2.1 MB/s eta 0:00:05\n",
      "     -----------------                        6.7/15.3 MB 2.1 MB/s eta 0:00:05\n",
      "     -----------------                        6.8/15.3 MB 2.1 MB/s eta 0:00:04\n",
      "     ------------------                       6.9/15.3 MB 2.1 MB/s eta 0:00:04\n",
      "     ------------------                       7.0/15.3 MB 2.1 MB/s eta 0:00:04\n",
      "     ------------------                       7.1/15.3 MB 2.1 MB/s eta 0:00:04\n",
      "     ------------------                       7.1/15.3 MB 2.1 MB/s eta 0:00:04\n",
      "     -------------------                      7.3/15.3 MB 2.1 MB/s eta 0:00:04\n",
      "     -------------------                      7.4/15.3 MB 2.1 MB/s eta 0:00:04\n",
      "     -------------------                      7.5/15.3 MB 2.2 MB/s eta 0:00:04\n",
      "     -------------------                      7.6/15.3 MB 2.2 MB/s eta 0:00:04\n",
      "     --------------------                     7.7/15.3 MB 2.1 MB/s eta 0:00:04\n",
      "     --------------------                     7.8/15.3 MB 2.2 MB/s eta 0:00:04\n",
      "     --------------------                     7.9/15.3 MB 2.2 MB/s eta 0:00:04\n",
      "     --------------------                     8.0/15.3 MB 2.2 MB/s eta 0:00:04\n",
      "     ---------------------                    8.1/15.3 MB 2.2 MB/s eta 0:00:04\n",
      "     ---------------------                    8.2/15.3 MB 2.2 MB/s eta 0:00:04\n",
      "     ---------------------                    8.4/15.3 MB 2.2 MB/s eta 0:00:04\n",
      "     ----------------------                   8.4/15.3 MB 2.2 MB/s eta 0:00:04\n",
      "     ----------------------                   8.6/15.3 MB 2.2 MB/s eta 0:00:04\n",
      "     ----------------------                   8.7/15.3 MB 2.2 MB/s eta 0:00:04\n",
      "     -----------------------                  8.8/15.3 MB 2.2 MB/s eta 0:00:03\n",
      "     -----------------------                  9.0/15.3 MB 2.2 MB/s eta 0:00:03\n",
      "     ------------------------                 9.2/15.3 MB 2.2 MB/s eta 0:00:03\n",
      "     ------------------------                 9.3/15.3 MB 2.3 MB/s eta 0:00:03\n",
      "     ------------------------                 9.3/15.3 MB 2.3 MB/s eta 0:00:03\n",
      "     ------------------------                 9.4/15.3 MB 2.2 MB/s eta 0:00:03\n",
      "     -------------------------                9.6/15.3 MB 2.2 MB/s eta 0:00:03\n",
      "     -------------------------                9.7/15.3 MB 2.2 MB/s eta 0:00:03\n",
      "     -------------------------                9.9/15.3 MB 2.3 MB/s eta 0:00:03\n",
      "     --------------------------               10.0/15.3 MB 2.3 MB/s eta 0:00:03\n",
      "     --------------------------               10.1/15.3 MB 2.3 MB/s eta 0:00:03\n",
      "     --------------------------               10.1/15.3 MB 2.3 MB/s eta 0:00:03\n",
      "     --------------------------               10.3/15.3 MB 2.3 MB/s eta 0:00:03\n",
      "     ---------------------------              10.4/15.3 MB 2.3 MB/s eta 0:00:03\n",
      "     ---------------------------              10.5/15.3 MB 2.3 MB/s eta 0:00:03\n",
      "     ---------------------------              10.7/15.3 MB 2.4 MB/s eta 0:00:02\n",
      "     ---------------------------              10.7/15.3 MB 2.4 MB/s eta 0:00:02\n",
      "     ----------------------------             10.7/15.3 MB 2.3 MB/s eta 0:00:02\n",
      "     ----------------------------             10.8/15.3 MB 2.3 MB/s eta 0:00:02\n",
      "     ----------------------------             10.9/15.3 MB 2.3 MB/s eta 0:00:02\n",
      "     ----------------------------             11.0/15.3 MB 2.3 MB/s eta 0:00:02\n",
      "     -----------------------------            11.1/15.3 MB 2.3 MB/s eta 0:00:02\n",
      "     -----------------------------            11.2/15.3 MB 2.3 MB/s eta 0:00:02\n",
      "     -----------------------------            11.2/15.3 MB 2.3 MB/s eta 0:00:02\n",
      "     -----------------------------            11.2/15.3 MB 2.3 MB/s eta 0:00:02\n",
      "     -----------------------------            11.3/15.3 MB 2.3 MB/s eta 0:00:02\n",
      "     ------------------------------           11.4/15.3 MB 2.3 MB/s eta 0:00:02\n",
      "     ------------------------------           11.6/15.3 MB 2.3 MB/s eta 0:00:02\n",
      "     ------------------------------           11.7/15.3 MB 2.3 MB/s eta 0:00:02\n",
      "     ------------------------------           11.8/15.3 MB 2.3 MB/s eta 0:00:02\n",
      "     -------------------------------          11.8/15.3 MB 2.3 MB/s eta 0:00:02\n",
      "     -------------------------------          11.9/15.3 MB 2.3 MB/s eta 0:00:02\n",
      "     -------------------------------          12.0/15.3 MB 2.3 MB/s eta 0:00:02\n",
      "     -------------------------------          12.2/15.3 MB 2.3 MB/s eta 0:00:02\n",
      "     --------------------------------         12.3/15.3 MB 2.4 MB/s eta 0:00:02\n",
      "     --------------------------------         12.5/15.3 MB 2.4 MB/s eta 0:00:02\n",
      "     --------------------------------         12.5/15.3 MB 2.4 MB/s eta 0:00:02\n",
      "     ---------------------------------        12.6/15.3 MB 2.4 MB/s eta 0:00:02\n",
      "     ---------------------------------        12.7/15.3 MB 2.4 MB/s eta 0:00:02\n",
      "     ---------------------------------        12.9/15.3 MB 2.4 MB/s eta 0:00:01\n",
      "     ----------------------------------       13.1/15.3 MB 2.4 MB/s eta 0:00:01\n",
      "     ----------------------------------       13.2/15.3 MB 2.4 MB/s eta 0:00:01\n",
      "     ----------------------------------       13.2/15.3 MB 2.4 MB/s eta 0:00:01\n",
      "     ----------------------------------       13.3/15.3 MB 2.4 MB/s eta 0:00:01\n",
      "     -----------------------------------      13.5/15.3 MB 2.5 MB/s eta 0:00:01\n",
      "     -----------------------------------      13.7/15.3 MB 2.5 MB/s eta 0:00:01\n",
      "     ------------------------------------     13.8/15.3 MB 2.5 MB/s eta 0:00:01\n",
      "     ------------------------------------     13.8/15.3 MB 2.5 MB/s eta 0:00:01\n",
      "     ------------------------------------     13.9/15.3 MB 2.4 MB/s eta 0:00:01\n",
      "     ------------------------------------     14.0/15.3 MB 2.5 MB/s eta 0:00:01\n",
      "     ------------------------------------     14.1/15.3 MB 2.5 MB/s eta 0:00:01\n",
      "     -------------------------------------    14.2/15.3 MB 2.5 MB/s eta 0:00:01\n",
      "     -------------------------------------    14.4/15.3 MB 2.5 MB/s eta 0:00:01\n",
      "     -------------------------------------    14.4/15.3 MB 2.5 MB/s eta 0:00:01\n",
      "     -------------------------------------    14.4/15.3 MB 2.5 MB/s eta 0:00:01\n",
      "     --------------------------------------   14.5/15.3 MB 2.4 MB/s eta 0:00:01\n",
      "     --------------------------------------   14.7/15.3 MB 2.4 MB/s eta 0:00:01\n",
      "     --------------------------------------   14.8/15.3 MB 2.5 MB/s eta 0:00:01\n",
      "     ---------------------------------------  14.9/15.3 MB 2.5 MB/s eta 0:00:01\n",
      "     ---------------------------------------  15.0/15.3 MB 2.5 MB/s eta 0:00:01\n",
      "     ---------------------------------------  15.0/15.3 MB 2.5 MB/s eta 0:00:01\n",
      "     ---------------------------------------  15.0/15.3 MB 2.4 MB/s eta 0:00:01\n",
      "     ---------------------------------------  15.1/15.3 MB 2.4 MB/s eta 0:00:01\n",
      "     ---------------------------------------  15.2/15.3 MB 2.4 MB/s eta 0:00:01\n",
      "     ---------------------------------------  15.2/15.3 MB 2.4 MB/s eta 0:00:01\n",
      "     ---------------------------------------  15.2/15.3 MB 2.4 MB/s eta 0:00:01\n",
      "     ---------------------------------------  15.2/15.3 MB 2.4 MB/s eta 0:00:01\n",
      "     ---------------------------------------  15.2/15.3 MB 2.4 MB/s eta 0:00:01\n",
      "     ---------------------------------------  15.2/15.3 MB 2.4 MB/s eta 0:00:01\n",
      "     ---------------------------------------  15.2/15.3 MB 2.4 MB/s eta 0:00:01\n",
      "     ---------------------------------------- 15.3/15.3 MB 2.3 MB/s eta 0:00:00\n",
      "Requirement already satisfied: spacy<3.6.0,>=3.5.0 in c:\\users\\андрей\\desktop\\github\\recruiters\\venv\\lib\\site-packages (from ru-core-news-sm==3.5.0) (3.5.4)\n",
      "Requirement already satisfied: pymorphy3>=1.0.0 in c:\\users\\андрей\\desktop\\github\\recruiters\\venv\\lib\\site-packages (from ru-core-news-sm==3.5.0) (1.2.0)\n",
      "Requirement already satisfied: dawg-python>=0.7.1 in c:\\users\\андрей\\desktop\\github\\recruiters\\venv\\lib\\site-packages (from pymorphy3>=1.0.0->ru-core-news-sm==3.5.0) (0.7.2)\n",
      "Requirement already satisfied: docopt>=0.6 in c:\\users\\андрей\\desktop\\github\\recruiters\\venv\\lib\\site-packages (from pymorphy3>=1.0.0->ru-core-news-sm==3.5.0) (0.6.2)\n",
      "Requirement already satisfied: pymorphy3-dicts-ru in c:\\users\\андрей\\desktop\\github\\recruiters\\venv\\lib\\site-packages (from pymorphy3>=1.0.0->ru-core-news-sm==3.5.0) (2.4.417150.4580142)\n",
      "Requirement already satisfied: spacy-legacy<3.1.0,>=3.0.11 in c:\\users\\андрей\\desktop\\github\\recruiters\\venv\\lib\\site-packages (from spacy<3.6.0,>=3.5.0->ru-core-news-sm==3.5.0) (3.0.12)\n",
      "Requirement already satisfied: spacy-loggers<2.0.0,>=1.0.0 in c:\\users\\андрей\\desktop\\github\\recruiters\\venv\\lib\\site-packages (from spacy<3.6.0,>=3.5.0->ru-core-news-sm==3.5.0) (1.0.4)\n",
      "Requirement already satisfied: murmurhash<1.1.0,>=0.28.0 in c:\\users\\андрей\\desktop\\github\\recruiters\\venv\\lib\\site-packages (from spacy<3.6.0,>=3.5.0->ru-core-news-sm==3.5.0) (1.0.9)\n",
      "Requirement already satisfied: cymem<2.1.0,>=2.0.2 in c:\\users\\андрей\\desktop\\github\\recruiters\\venv\\lib\\site-packages (from spacy<3.6.0,>=3.5.0->ru-core-news-sm==3.5.0) (2.0.7)\n",
      "Requirement already satisfied: preshed<3.1.0,>=3.0.2 in c:\\users\\андрей\\desktop\\github\\recruiters\\venv\\lib\\site-packages (from spacy<3.6.0,>=3.5.0->ru-core-news-sm==3.5.0) (3.0.8)\n",
      "Requirement already satisfied: thinc<8.2.0,>=8.1.8 in c:\\users\\андрей\\desktop\\github\\recruiters\\venv\\lib\\site-packages (from spacy<3.6.0,>=3.5.0->ru-core-news-sm==3.5.0) (8.1.10)\n",
      "Requirement already satisfied: wasabi<1.2.0,>=0.9.1 in c:\\users\\андрей\\desktop\\github\\recruiters\\venv\\lib\\site-packages (from spacy<3.6.0,>=3.5.0->ru-core-news-sm==3.5.0) (1.1.2)\n",
      "Requirement already satisfied: srsly<3.0.0,>=2.4.3 in c:\\users\\андрей\\desktop\\github\\recruiters\\venv\\lib\\site-packages (from spacy<3.6.0,>=3.5.0->ru-core-news-sm==3.5.0) (2.4.6)\n",
      "Requirement already satisfied: catalogue<2.1.0,>=2.0.6 in c:\\users\\андрей\\desktop\\github\\recruiters\\venv\\lib\\site-packages (from spacy<3.6.0,>=3.5.0->ru-core-news-sm==3.5.0) (2.0.8)\n",
      "Requirement already satisfied: typer<0.10.0,>=0.3.0 in c:\\users\\андрей\\desktop\\github\\recruiters\\venv\\lib\\site-packages (from spacy<3.6.0,>=3.5.0->ru-core-news-sm==3.5.0) (0.9.0)\n",
      "Requirement already satisfied: pathy>=0.10.0 in c:\\users\\андрей\\desktop\\github\\recruiters\\venv\\lib\\site-packages (from spacy<3.6.0,>=3.5.0->ru-core-news-sm==3.5.0) (0.10.2)\n",
      "Requirement already satisfied: smart-open<7.0.0,>=5.2.1 in c:\\users\\андрей\\desktop\\github\\recruiters\\venv\\lib\\site-packages (from spacy<3.6.0,>=3.5.0->ru-core-news-sm==3.5.0) (6.3.0)\n",
      "Requirement already satisfied: tqdm<5.0.0,>=4.38.0 in c:\\users\\андрей\\desktop\\github\\recruiters\\venv\\lib\\site-packages (from spacy<3.6.0,>=3.5.0->ru-core-news-sm==3.5.0) (4.65.0)\n",
      "Requirement already satisfied: numpy>=1.15.0 in c:\\users\\андрей\\desktop\\github\\recruiters\\venv\\lib\\site-packages (from spacy<3.6.0,>=3.5.0->ru-core-news-sm==3.5.0) (1.25.0)\n",
      "Requirement already satisfied: requests<3.0.0,>=2.13.0 in c:\\users\\андрей\\desktop\\github\\recruiters\\venv\\lib\\site-packages (from spacy<3.6.0,>=3.5.0->ru-core-news-sm==3.5.0) (2.31.0)\n",
      "Requirement already satisfied: pydantic!=1.8,!=1.8.1,<1.11.0,>=1.7.4 in c:\\users\\андрей\\desktop\\github\\recruiters\\venv\\lib\\site-packages (from spacy<3.6.0,>=3.5.0->ru-core-news-sm==3.5.0) (1.10.10)\n",
      "Requirement already satisfied: jinja2 in c:\\users\\андрей\\desktop\\github\\recruiters\\venv\\lib\\site-packages (from spacy<3.6.0,>=3.5.0->ru-core-news-sm==3.5.0) (3.1.2)\n",
      "Requirement already satisfied: setuptools in c:\\users\\андрей\\desktop\\github\\recruiters\\venv\\lib\\site-packages (from spacy<3.6.0,>=3.5.0->ru-core-news-sm==3.5.0) (63.2.0)\n",
      "Requirement already satisfied: packaging>=20.0 in c:\\users\\андрей\\desktop\\github\\recruiters\\venv\\lib\\site-packages (from spacy<3.6.0,>=3.5.0->ru-core-news-sm==3.5.0) (23.1)\n",
      "Requirement already satisfied: langcodes<4.0.0,>=3.2.0 in c:\\users\\андрей\\desktop\\github\\recruiters\\venv\\lib\\site-packages (from spacy<3.6.0,>=3.5.0->ru-core-news-sm==3.5.0) (3.3.0)\n",
      "Requirement already satisfied: typing-extensions>=4.2.0 in c:\\users\\андрей\\desktop\\github\\recruiters\\venv\\lib\\site-packages (from pydantic!=1.8,!=1.8.1,<1.11.0,>=1.7.4->spacy<3.6.0,>=3.5.0->ru-core-news-sm==3.5.0) (4.7.1)\n",
      "Requirement already satisfied: charset-normalizer<4,>=2 in c:\\users\\андрей\\desktop\\github\\recruiters\\venv\\lib\\site-packages (from requests<3.0.0,>=2.13.0->spacy<3.6.0,>=3.5.0->ru-core-news-sm==3.5.0) (3.1.0)\n",
      "Requirement already satisfied: idna<4,>=2.5 in c:\\users\\андрей\\desktop\\github\\recruiters\\venv\\lib\\site-packages (from requests<3.0.0,>=2.13.0->spacy<3.6.0,>=3.5.0->ru-core-news-sm==3.5.0) (3.4)\n",
      "Requirement already satisfied: urllib3<3,>=1.21.1 in c:\\users\\андрей\\desktop\\github\\recruiters\\venv\\lib\\site-packages (from requests<3.0.0,>=2.13.0->spacy<3.6.0,>=3.5.0->ru-core-news-sm==3.5.0) (2.0.3)\n",
      "Requirement already satisfied: certifi>=2017.4.17 in c:\\users\\андрей\\desktop\\github\\recruiters\\venv\\lib\\site-packages (from requests<3.0.0,>=2.13.0->spacy<3.6.0,>=3.5.0->ru-core-news-sm==3.5.0) (2023.5.7)\n",
      "Requirement already satisfied: blis<0.8.0,>=0.7.8 in c:\\users\\андрей\\desktop\\github\\recruiters\\venv\\lib\\site-packages (from thinc<8.2.0,>=8.1.8->spacy<3.6.0,>=3.5.0->ru-core-news-sm==3.5.0) (0.7.9)\n",
      "Requirement already satisfied: confection<1.0.0,>=0.0.1 in c:\\users\\андрей\\desktop\\github\\recruiters\\venv\\lib\\site-packages (from thinc<8.2.0,>=8.1.8->spacy<3.6.0,>=3.5.0->ru-core-news-sm==3.5.0) (0.1.0)\n",
      "Requirement already satisfied: colorama in c:\\users\\андрей\\desktop\\github\\recruiters\\venv\\lib\\site-packages (from tqdm<5.0.0,>=4.38.0->spacy<3.6.0,>=3.5.0->ru-core-news-sm==3.5.0) (0.4.6)\n",
      "Requirement already satisfied: click<9.0.0,>=7.1.1 in c:\\users\\андрей\\desktop\\github\\recruiters\\venv\\lib\\site-packages (from typer<0.10.0,>=0.3.0->spacy<3.6.0,>=3.5.0->ru-core-news-sm==3.5.0) (8.1.3)\n",
      "Requirement already satisfied: MarkupSafe>=2.0 in c:\\users\\андрей\\desktop\\github\\recruiters\\venv\\lib\\site-packages (from jinja2->spacy<3.6.0,>=3.5.0->ru-core-news-sm==3.5.0) (2.1.3)\n",
      "\u001b[38;5;2m✔ Download and installation successful\u001b[0m\n",
      "You can now load the package via spacy.load('ru_core_news_sm')\n"
     ]
    }
   ],
   "source": [
    "! python -m spacy download ru_core_news_sm"
   ]
  },
  {
   "cell_type": "code",
   "execution_count": 2,
   "metadata": {},
   "outputs": [],
   "source": [
    "import pandas as pd\n",
    "import unicodedata\n",
    "import re\n",
    "import spacy\n",
    "import json\n",
    "import numpy as np\n",
    "from nltk.corpus import stopwords\n",
    "from sklearn.decomposition import LatentDirichletAllocation\n",
    "from sklearn.feature_extraction.text import TfidfVectorizer\n",
    "import os\n",
    "import json\n",
    "import pyLDAvis\n",
    "import pyLDAvis.gensim\n",
    "import matplotlib.pyplot as plt\n",
    "import gensim\n",
    "import gensim.corpora as corpora\n",
    "from gensim.models import CoherenceModel\n",
    "from gensim.utils import simple_preprocess"
   ]
  },
  {
   "attachments": {},
   "cell_type": "markdown",
   "metadata": {},
   "source": [
    "# Подготовка данных"
   ]
  },
  {
   "attachments": {},
   "cell_type": "markdown",
   "metadata": {},
   "source": [
    "Загрузим данные"
   ]
  },
  {
   "cell_type": "code",
   "execution_count": 3,
   "metadata": {},
   "outputs": [],
   "source": [
    "data = pd.read_csv('csv\\\\full_df.csv', sep=';')\n",
    "data.head(3)\n",
    "data = data.drop(columns='Unnamed: 0', axis=1)"
   ]
  },
  {
   "attachments": {},
   "cell_type": "markdown",
   "metadata": {},
   "source": [
    "Отфильтруем тексты по количеству символов. Оставим только 100+."
   ]
  },
  {
   "cell_type": "code",
   "execution_count": 4,
   "metadata": {},
   "outputs": [
    {
     "name": "stdout",
     "output_type": "stream",
     "text": [
      "Количество постов с 100+ символами: 8556\n"
     ]
    },
    {
     "data": {
      "text/html": [
       "<div>\n",
       "<style scoped>\n",
       "    .dataframe tbody tr th:only-of-type {\n",
       "        vertical-align: middle;\n",
       "    }\n",
       "\n",
       "    .dataframe tbody tr th {\n",
       "        vertical-align: top;\n",
       "    }\n",
       "\n",
       "    .dataframe thead th {\n",
       "        text-align: right;\n",
       "    }\n",
       "</style>\n",
       "<table border=\"1\" class=\"dataframe\">\n",
       "  <thead>\n",
       "    <tr style=\"text-align: right;\">\n",
       "      <th></th>\n",
       "      <th>status</th>\n",
       "      <th>url</th>\n",
       "      <th>text</th>\n",
       "      <th>likes</th>\n",
       "      <th>reposts</th>\n",
       "      <th>comments</th>\n",
       "      <th>text_len</th>\n",
       "    </tr>\n",
       "  </thead>\n",
       "  <tbody>\n",
       "    <tr>\n",
       "      <th>0</th>\n",
       "      <td>Middle Software Engineer - Yandex</td>\n",
       "      <td>https://www.linkedin.com/in/michilegorov</td>\n",
       "      <td>Всем привет!Выпустил свою первую статью на хаб...</td>\n",
       "      <td>17.0</td>\n",
       "      <td>0.0</td>\n",
       "      <td>0.0</td>\n",
       "      <td>295</td>\n",
       "    </tr>\n",
       "    <tr>\n",
       "      <th>1</th>\n",
       "      <td>Middle Software Engineer - Yandex</td>\n",
       "      <td>https://www.linkedin.com/in/michilegorov</td>\n",
       "      <td>Если вам интересно позалипать в слова, я запус...</td>\n",
       "      <td>6.0</td>\n",
       "      <td>0.0</td>\n",
       "      <td>2.0</td>\n",
       "      <td>117</td>\n",
       "    </tr>\n",
       "    <tr>\n",
       "      <th>2</th>\n",
       "      <td>Middle Software Engineer - Yandex</td>\n",
       "      <td>https://www.linkedin.com/in/michilegorov</td>\n",
       "      <td>Если вам интересно позалипать в слова, я запус...</td>\n",
       "      <td>17.0</td>\n",
       "      <td>6.0</td>\n",
       "      <td>0.0</td>\n",
       "      <td>117</td>\n",
       "    </tr>\n",
       "  </tbody>\n",
       "</table>\n",
       "</div>"
      ],
      "text/plain": [
       "                              status  \\\n",
       "0  Middle Software Engineer - Yandex   \n",
       "1  Middle Software Engineer - Yandex   \n",
       "2  Middle Software Engineer - Yandex   \n",
       "\n",
       "                                        url  \\\n",
       "0  https://www.linkedin.com/in/michilegorov   \n",
       "1  https://www.linkedin.com/in/michilegorov   \n",
       "2  https://www.linkedin.com/in/michilegorov   \n",
       "\n",
       "                                                text likes  reposts  comments  \\\n",
       "0  Всем привет!Выпустил свою первую статью на хаб...  17.0      0.0       0.0   \n",
       "1  Если вам интересно позалипать в слова, я запус...   6.0      0.0       2.0   \n",
       "2  Если вам интересно позалипать в слова, я запус...  17.0      6.0       0.0   \n",
       "\n",
       "   text_len  \n",
       "0       295  \n",
       "1       117  \n",
       "2       117  "
      ]
     },
     "execution_count": 4,
     "metadata": {},
     "output_type": "execute_result"
    }
   ],
   "source": [
    "data['text_len'] = data.loc[:, 'text'].apply(lambda x: len(x))\n",
    "data_filtered_by_text_len = data.query('text_len > 100')\n",
    "print(f'Количество постов с 100+ символами: {data_filtered_by_text_len.shape[0]}')\n",
    "data_filtered_by_text_len.head(3)"
   ]
  },
  {
   "attachments": {},
   "cell_type": "markdown",
   "metadata": {},
   "source": [
    "Оставим только тексты содержащие кириллицу"
   ]
  },
  {
   "cell_type": "code",
   "execution_count": 5,
   "metadata": {},
   "outputs": [
    {
     "name": "stdout",
     "output_type": "stream",
     "text": [
      "Текстов на кириллице: 1960\n"
     ]
    },
    {
     "data": {
      "text/html": [
       "<div>\n",
       "<style scoped>\n",
       "    .dataframe tbody tr th:only-of-type {\n",
       "        vertical-align: middle;\n",
       "    }\n",
       "\n",
       "    .dataframe tbody tr th {\n",
       "        vertical-align: top;\n",
       "    }\n",
       "\n",
       "    .dataframe thead th {\n",
       "        text-align: right;\n",
       "    }\n",
       "</style>\n",
       "<table border=\"1\" class=\"dataframe\">\n",
       "  <thead>\n",
       "    <tr style=\"text-align: right;\">\n",
       "      <th></th>\n",
       "      <th>status</th>\n",
       "      <th>url</th>\n",
       "      <th>text</th>\n",
       "      <th>likes</th>\n",
       "      <th>reposts</th>\n",
       "      <th>comments</th>\n",
       "      <th>text_len</th>\n",
       "    </tr>\n",
       "  </thead>\n",
       "  <tbody>\n",
       "    <tr>\n",
       "      <th>0</th>\n",
       "      <td>Middle Software Engineer - Yandex</td>\n",
       "      <td>https://www.linkedin.com/in/michilegorov</td>\n",
       "      <td>Всем привет!Выпустил свою первую статью на хаб...</td>\n",
       "      <td>17.0</td>\n",
       "      <td>0.0</td>\n",
       "      <td>0.0</td>\n",
       "      <td>295</td>\n",
       "    </tr>\n",
       "    <tr>\n",
       "      <th>1</th>\n",
       "      <td>Middle Software Engineer - Yandex</td>\n",
       "      <td>https://www.linkedin.com/in/michilegorov</td>\n",
       "      <td>Если вам интересно позалипать в слова, я запус...</td>\n",
       "      <td>6.0</td>\n",
       "      <td>0.0</td>\n",
       "      <td>2.0</td>\n",
       "      <td>117</td>\n",
       "    </tr>\n",
       "    <tr>\n",
       "      <th>2</th>\n",
       "      <td>Middle Software Engineer - Yandex</td>\n",
       "      <td>https://www.linkedin.com/in/michilegorov</td>\n",
       "      <td>Если вам интересно позалипать в слова, я запус...</td>\n",
       "      <td>17.0</td>\n",
       "      <td>6.0</td>\n",
       "      <td>0.0</td>\n",
       "      <td>117</td>\n",
       "    </tr>\n",
       "  </tbody>\n",
       "</table>\n",
       "</div>"
      ],
      "text/plain": [
       "                              status  \\\n",
       "0  Middle Software Engineer - Yandex   \n",
       "1  Middle Software Engineer - Yandex   \n",
       "2  Middle Software Engineer - Yandex   \n",
       "\n",
       "                                        url  \\\n",
       "0  https://www.linkedin.com/in/michilegorov   \n",
       "1  https://www.linkedin.com/in/michilegorov   \n",
       "2  https://www.linkedin.com/in/michilegorov   \n",
       "\n",
       "                                                text likes  reposts  comments  \\\n",
       "0  Всем привет!Выпустил свою первую статью на хаб...  17.0      0.0       0.0   \n",
       "1  Если вам интересно позалипать в слова, я запус...   6.0      0.0       2.0   \n",
       "2  Если вам интересно позалипать в слова, я запус...  17.0      6.0       0.0   \n",
       "\n",
       "   text_len  \n",
       "0       295  \n",
       "1       117  \n",
       "2       117  "
      ]
     },
     "execution_count": 5,
     "metadata": {},
     "output_type": "execute_result"
    }
   ],
   "source": [
    "data_cyrillic = data_filtered_by_text_len[data_filtered_by_text_len['text'].apply(lambda x: re.match(r'[А-Яа-я]+', x) is not None)]\n",
    "\n",
    "print(f'Текстов на кириллице: {data_cyrillic.shape[0]}')\n",
    "data_cyrillic.head(3)"
   ]
  },
  {
   "attachments": {},
   "cell_type": "markdown",
   "metadata": {},
   "source": [
    "Удалим дубликаты текстов"
   ]
  },
  {
   "cell_type": "code",
   "execution_count": 6,
   "metadata": {},
   "outputs": [
    {
     "name": "stdout",
     "output_type": "stream",
     "text": [
      "Осталось 1862 строк\n"
     ]
    },
    {
     "data": {
      "text/html": [
       "<div>\n",
       "<style scoped>\n",
       "    .dataframe tbody tr th:only-of-type {\n",
       "        vertical-align: middle;\n",
       "    }\n",
       "\n",
       "    .dataframe tbody tr th {\n",
       "        vertical-align: top;\n",
       "    }\n",
       "\n",
       "    .dataframe thead th {\n",
       "        text-align: right;\n",
       "    }\n",
       "</style>\n",
       "<table border=\"1\" class=\"dataframe\">\n",
       "  <thead>\n",
       "    <tr style=\"text-align: right;\">\n",
       "      <th></th>\n",
       "      <th>status</th>\n",
       "      <th>url</th>\n",
       "      <th>text</th>\n",
       "      <th>likes</th>\n",
       "      <th>reposts</th>\n",
       "      <th>comments</th>\n",
       "      <th>text_len</th>\n",
       "    </tr>\n",
       "  </thead>\n",
       "  <tbody>\n",
       "    <tr>\n",
       "      <th>0</th>\n",
       "      <td>Middle Software Engineer - Yandex</td>\n",
       "      <td>https://www.linkedin.com/in/michilegorov</td>\n",
       "      <td>Всем привет!Выпустил свою первую статью на хаб...</td>\n",
       "      <td>17.0</td>\n",
       "      <td>0.0</td>\n",
       "      <td>0.0</td>\n",
       "      <td>295</td>\n",
       "    </tr>\n",
       "    <tr>\n",
       "      <th>1</th>\n",
       "      <td>Middle Software Engineer - Yandex</td>\n",
       "      <td>https://www.linkedin.com/in/michilegorov</td>\n",
       "      <td>Если вам интересно позалипать в слова, я запус...</td>\n",
       "      <td>6.0</td>\n",
       "      <td>0.0</td>\n",
       "      <td>2.0</td>\n",
       "      <td>117</td>\n",
       "    </tr>\n",
       "    <tr>\n",
       "      <th>6</th>\n",
       "      <td>Talent Acquisition Manager | Recruitment Lead ...</td>\n",
       "      <td>https://www.linkedin.com/in/dariaivanova</td>\n",
       "      <td>С трепетом готов представить свой продукт. Реф...</td>\n",
       "      <td>8.0</td>\n",
       "      <td>0.0</td>\n",
       "      <td>0.0</td>\n",
       "      <td>841</td>\n",
       "    </tr>\n",
       "  </tbody>\n",
       "</table>\n",
       "</div>"
      ],
      "text/plain": [
       "                                              status  \\\n",
       "0                  Middle Software Engineer - Yandex   \n",
       "1                  Middle Software Engineer - Yandex   \n",
       "6  Talent Acquisition Manager | Recruitment Lead ...   \n",
       "\n",
       "                                        url  \\\n",
       "0  https://www.linkedin.com/in/michilegorov   \n",
       "1  https://www.linkedin.com/in/michilegorov   \n",
       "6  https://www.linkedin.com/in/dariaivanova   \n",
       "\n",
       "                                                text likes  reposts  comments  \\\n",
       "0  Всем привет!Выпустил свою первую статью на хаб...  17.0      0.0       0.0   \n",
       "1  Если вам интересно позалипать в слова, я запус...   6.0      0.0       2.0   \n",
       "6  С трепетом готов представить свой продукт. Реф...   8.0      0.0       0.0   \n",
       "\n",
       "   text_len  \n",
       "0       295  \n",
       "1       117  \n",
       "6       841  "
      ]
     },
     "execution_count": 6,
     "metadata": {},
     "output_type": "execute_result"
    }
   ],
   "source": [
    "data_dd = data_cyrillic.drop_duplicates('text')\n",
    "print(f'Осталось {data_dd.shape[0]} строк')\n",
    "data_dd.head(3)"
   ]
  },
  {
   "cell_type": "code",
   "execution_count": 7,
   "metadata": {},
   "outputs": [
    {
     "data": {
      "text/plain": [
       "(1862, 7)"
      ]
     },
     "execution_count": 7,
     "metadata": {},
     "output_type": "execute_result"
    }
   ],
   "source": [
    "data_dd.shape"
   ]
  },
  {
   "attachments": {},
   "cell_type": "markdown",
   "metadata": {},
   "source": [
    "# Подготовка к моделированию"
   ]
  },
  {
   "cell_type": "code",
   "execution_count": 8,
   "metadata": {},
   "outputs": [
    {
     "data": {
      "text/plain": [
       "'Всем привет!Выпустил свою первую статью на хабр!https://lnkd.in/dt9N6D7BСтатья про историю и технологии разработки игры https://guess-word.com и как мы создали игру с элементами машинного обучения и вышли в ноль за 2 месяцаПри\\xa0внимательном прочтении вы даже сможете запустить первую версию игры!'"
      ]
     },
     "execution_count": 8,
     "metadata": {},
     "output_type": "execute_result"
    }
   ],
   "source": [
    "texts = data_dd[\"text\"].tolist()\n",
    "texts[0]"
   ]
  },
  {
   "cell_type": "code",
   "execution_count": 9,
   "metadata": {},
   "outputs": [
    {
     "data": {
      "text/plain": [
       "1862"
      ]
     },
     "execution_count": 9,
     "metadata": {},
     "output_type": "execute_result"
    }
   ],
   "source": [
    "len(texts)"
   ]
  },
  {
   "attachments": {},
   "cell_type": "markdown",
   "metadata": {},
   "source": [
    "Проведем лемматизацию"
   ]
  },
  {
   "cell_type": "code",
   "execution_count": 10,
   "metadata": {},
   "outputs": [
    {
     "name": "stdout",
     "output_type": "stream",
     "text": [
      "['всем', 'привет!выпустил', 'свой', 'первый', 'статья', 'на', 'хабр!https://lnkd.in', '/', 'dt9n6d7bстатья', 'про', 'история', 'и', 'технология', 'разработка', 'игра', 'https://guess-word.com', 'и', 'как', 'мы', 'создать', 'игра', 'с', 'элемент', 'машинный', 'обучение', 'и', 'выйти', 'в', 'ноль', 'за', '2', 'месяцапри', '\\xa0', 'внимательный', 'прочтение', 'вы', 'даже', 'смочь', 'запустить', 'первый', 'версия', 'игра', '!']\n"
     ]
    }
   ],
   "source": [
    "if os.path.exists('lemmas.json'):\n",
    "    with open(\"lemmas.json\") as f:\n",
    "        data_lemmatized = json.load(f)['lemmas']\n",
    "else:\n",
    "    model = spacy.load('ru_core_news_sm', disable=['ner', 'parser'])\n",
    "    data_lemmatized = []\n",
    "    for doc in model.pipe(texts, disable=[\"tagger\", \"parser\"]):\n",
    "        data_lemmatized.append([token.lemma_ for token in doc])\n",
    "\n",
    "    with open(\"lemmas.json\", \"w\") as fid:\n",
    "        json.dump({\"lemmas\": data_lemmatized}, fid)\n",
    "\n",
    "print(data_lemmatized[0])"
   ]
  },
  {
   "cell_type": "code",
   "execution_count": 11,
   "metadata": {},
   "outputs": [
    {
     "data": {
      "text/plain": [
       "1862"
      ]
     },
     "execution_count": 11,
     "metadata": {},
     "output_type": "execute_result"
    }
   ],
   "source": [
    "len(data_lemmatized)"
   ]
  },
  {
   "attachments": {},
   "cell_type": "markdown",
   "metadata": {},
   "source": [
    "Очистим тексты от ненужных символов"
   ]
  },
  {
   "cell_type": "code",
   "execution_count": 12,
   "metadata": {},
   "outputs": [
    {
     "name": "stdout",
     "output_type": "stream",
     "text": [
      "['всем', 'свой', 'первый', 'статья', 'на', 'про', 'история', 'и', 'технология', 'разработка', 'игра', 'и', 'как', 'мы', 'создать', 'игра', 'с', 'элемент', 'машинный', 'обучение', 'и', 'выйти', 'в', 'ноль', 'за', 'месяцапри', 'внимательный', 'прочтение', 'вы', 'даже', 'смочь', 'запустить', 'первый', 'версия', 'игра']\n"
     ]
    }
   ],
   "source": [
    "word_pattern = re.compile(\"^[а-я]*$\")\n",
    "\n",
    "def remove_symbols(doc):\n",
    "    return [token for token in doc if word_pattern.match(token)]\n",
    "\n",
    "data_words = list(map(remove_symbols, data_lemmatized))\n",
    "print(data_words[0])"
   ]
  },
  {
   "cell_type": "code",
   "execution_count": 13,
   "metadata": {},
   "outputs": [
    {
     "data": {
      "text/plain": [
       "1862"
      ]
     },
     "execution_count": 13,
     "metadata": {},
     "output_type": "execute_result"
    }
   ],
   "source": [
    "len(data_words)"
   ]
  },
  {
   "attachments": {},
   "cell_type": "markdown",
   "metadata": {},
   "source": [
    "Загрузим русские стоп-слова"
   ]
  },
  {
   "cell_type": "code",
   "execution_count": 14,
   "metadata": {},
   "outputs": [],
   "source": [
    "stop_words = stopwords.words('russian')\n",
    "stop_words += ['это', 'свой', 'очень', 'мочь', 'ваш', 'наш']"
   ]
  },
  {
   "attachments": {},
   "cell_type": "markdown",
   "metadata": {},
   "source": [
    "Определим функцию для удаления стоп-слов"
   ]
  },
  {
   "cell_type": "code",
   "execution_count": 15,
   "metadata": {},
   "outputs": [],
   "source": [
    "def remove_stopwords(texts):\n",
    "    return [[word for word in doc if word not in stop_words] for doc in texts]"
   ]
  },
  {
   "attachments": {},
   "cell_type": "markdown",
   "metadata": {},
   "source": [
    "Применим функцию для удаления стоп-слов"
   ]
  },
  {
   "cell_type": "code",
   "execution_count": 16,
   "metadata": {},
   "outputs": [
    {
     "data": {
      "text/plain": [
       "1862"
      ]
     },
     "execution_count": 16,
     "metadata": {},
     "output_type": "execute_result"
    }
   ],
   "source": [
    "len(data_words)"
   ]
  },
  {
   "cell_type": "code",
   "execution_count": 17,
   "metadata": {},
   "outputs": [],
   "source": [
    "data_words_nostops = remove_stopwords(data_words)"
   ]
  },
  {
   "cell_type": "code",
   "execution_count": 18,
   "metadata": {},
   "outputs": [
    {
     "data": {
      "text/plain": [
       "1862"
      ]
     },
     "execution_count": 18,
     "metadata": {},
     "output_type": "execute_result"
    }
   ],
   "source": [
    "len(data_words_nostops)"
   ]
  },
  {
   "cell_type": "code",
   "execution_count": 19,
   "metadata": {},
   "outputs": [],
   "source": [
    "id2word = corpora.Dictionary(data_words_nostops)\n",
    "\n",
    "texts = data_words_nostops\n",
    "\n",
    "corpus = [id2word.doc2bow(text) for text in texts]"
   ]
  },
  {
   "cell_type": "code",
   "execution_count": 20,
   "metadata": {},
   "outputs": [
    {
     "data": {
      "text/plain": [
       "[[('версия', 1),\n",
       "  ('внимательный', 1),\n",
       "  ('всем', 1),\n",
       "  ('выйти', 1),\n",
       "  ('запустить', 1),\n",
       "  ('игра', 3),\n",
       "  ('история', 1),\n",
       "  ('машинный', 1),\n",
       "  ('месяцапри', 1),\n",
       "  ('ноль', 1),\n",
       "  ('обучение', 1),\n",
       "  ('первый', 2),\n",
       "  ('прочтение', 1),\n",
       "  ('разработка', 1),\n",
       "  ('смочь', 1),\n",
       "  ('создать', 1),\n",
       "  ('статья', 1),\n",
       "  ('технология', 1),\n",
       "  ('элемент', 1)]]"
      ]
     },
     "execution_count": 20,
     "metadata": {},
     "output_type": "execute_result"
    }
   ],
   "source": [
    "[[(id2word[id], freq) for id, freq in cp] for cp in corpus[:1]]"
   ]
  },
  {
   "attachments": {},
   "cell_type": "markdown",
   "metadata": {},
   "source": [
    "# Протестируем моделирование с 20 темами"
   ]
  },
  {
   "cell_type": "code",
   "execution_count": 21,
   "metadata": {},
   "outputs": [],
   "source": [
    "lda_model = gensim.models.ldamodel.LdaModel(\n",
    "    corpus=corpus,\n",
    "    id2word=id2word,\n",
    "    num_topics=20, \n",
    "    random_state=765,\n",
    "    update_every=1,\n",
    "    chunksize=100,\n",
    "    passes=10,\n",
    "    alpha='auto',\n",
    "    per_word_topics=True\n",
    "    )"
   ]
  },
  {
   "cell_type": "code",
   "execution_count": 22,
   "metadata": {},
   "outputs": [
    {
     "data": {
      "text/plain": [
       "[(0,\n",
       "  '0.217*\"пост\" + 0.019*\"защита\" + 0.017*\"единственный\" + 0.017*\"продавец\" + 0.011*\"стоять\" + 0.009*\"заработать\" + 0.006*\"покупатель\" + 0.005*\"автомобиль\" + 0.005*\"кол\" + 0.002*\"свитер\"'),\n",
       " (1,\n",
       "  '0.032*\"минута\" + 0.031*\"попасть\" + 0.029*\"рекомендовать\" + 0.029*\"реализовать\" + 0.026*\"школа\" + 0.023*\"очередной\" + 0.022*\"отсутствие\" + 0.022*\"начинаться\" + 0.021*\"семья\" + 0.021*\"нормальный\"'),\n",
       " (2,\n",
       "  '0.048*\"одну\" + 0.046*\"подкаст\" + 0.030*\"которыми\" + 0.023*\"перейти\" + 0.014*\"праздник\" + 0.012*\"познакомиться\" + 0.011*\"замечательный\" + 0.011*\"страничка\" + 0.009*\"музыка\" + 0.003*\"экосистема\"'),\n",
       " (3,\n",
       "  '0.078*\"рассказывать\" + 0.048*\"зрение\" + 0.030*\"другими\" + 0.014*\"восприятие\" + 0.014*\"исполнитель\" + 0.012*\"александр\" + 0.010*\"взаимодействовать\" + 0.009*\"вероятность\" + 0.005*\"неожиданный\" + 0.005*\"видение\"'),\n",
       " (4,\n",
       "  '0.040*\"мечта\" + 0.037*\"требовать\" + 0.027*\"верить\" + 0.024*\"игра\" + 0.024*\"счастливый\" + 0.020*\"публикация\" + 0.018*\"двигаться\" + 0.013*\"попросить\" + 0.013*\"довольный\" + 0.011*\"инвестор\"'),\n",
       " (5,\n",
       "  '0.051*\"которой\" + 0.045*\"инструмент\" + 0.044*\"второй\" + 0.033*\"никто\" + 0.032*\"довольно\" + 0.030*\"тренировка\" + 0.021*\"достигнуть\" + 0.021*\"закончить\" + 0.018*\"включать\" + 0.017*\"научиться\"'),\n",
       " (6,\n",
       "  '0.073*\"навык\" + 0.035*\"тест\" + 0.034*\"позволять\" + 0.028*\"проверка\" + 0.027*\"проводить\" + 0.026*\"создать\" + 0.026*\"тестирование\" + 0.024*\"интерфейс\" + 0.023*\"исследование\" + 0.021*\"постоянно\"'),\n",
       " (7,\n",
       "  '0.076*\"собеседование\" + 0.054*\"дизайнер\" + 0.036*\"течение\" + 0.024*\"кстати\" + 0.023*\"попробовать\" + 0.021*\"разобраться\" + 0.021*\"выполнение\" + 0.019*\"вернуться\" + 0.019*\"окончание\" + 0.017*\"пол\"'),\n",
       " (8,\n",
       "  '0.126*\"работа\" + 0.060*\"опыт\" + 0.057*\"проект\" + 0.034*\"команда\" + 0.034*\"разработка\" + 0.028*\"искать\" + 0.028*\"разработчик\" + 0.027*\"привет\" + 0.025*\"всем\" + 0.023*\"резюме\"'),\n",
       " (9,\n",
       "  '0.040*\"айти\" + 0.035*\"метод\" + 0.006*\"эпизод\" + 0.000*\"армия\" + 0.000*\"военный\" + 0.000*\"выбор\" + 0.000*\"прийтись\" + 0.000*\"учить\" + 0.000*\"гошки\" + 0.000*\"академия\"'),\n",
       " (10,\n",
       "  '0.039*\"квартира\" + 0.030*\"топ\" + 0.026*\"документ\" + 0.025*\"приглашать\" + 0.021*\"агентство\" + 0.018*\"технологический\" + 0.018*\"чистый\" + 0.017*\"ведущий\" + 0.016*\"официальный\" + 0.014*\"обеспечивать\"'),\n",
       " (11,\n",
       "  '0.025*\"стажировка\" + 0.019*\"живой\" + 0.015*\"раздел\" + 0.014*\"выразить\" + 0.012*\"благодарность\" + 0.012*\"вклад\" + 0.009*\"польша\" + 0.006*\"телеграмма\" + 0.006*\"откликаться\" + 0.004*\"объявление\"'),\n",
       " (12,\n",
       "  '0.055*\"новый\" + 0.029*\"найти\" + 0.028*\"начинать\" + 0.027*\"полезный\" + 0.021*\"тема\" + 0.021*\"канал\" + 0.019*\"удовольствие\" + 0.019*\"час\" + 0.019*\"крупный\" + 0.019*\"иметь\"'),\n",
       " (13,\n",
       "  '0.061*\"язык\" + 0.046*\"книга\" + 0.042*\"карьера\" + 0.036*\"некоторый\" + 0.034*\"английский\" + 0.033*\"конец\" + 0.026*\"казаться\" + 0.025*\"формат\" + 0.019*\"приятный\" + 0.019*\"ответить\"'),\n",
       " (14,\n",
       "  '0.038*\"смочь\" + 0.037*\"являться\" + 0.037*\"руководитель\" + 0.035*\"онлайн\" + 0.035*\"ответ\" + 0.027*\"встреча\" + 0.027*\"пишите\" + 0.025*\"назад\" + 0.020*\"многие\" + 0.019*\"оказаться\"'),\n",
       " (15,\n",
       "  '0.050*\"человек\" + 0.031*\"время\" + 0.026*\"нужный\" + 0.024*\"хотеть\" + 0.018*\"курс\" + 0.017*\"сделать\" + 0.017*\"жизнь\" + 0.017*\"знать\" + 0.017*\"весь\" + 0.016*\"день\"'),\n",
       " (16,\n",
       "  '0.086*\"иб\" + 0.037*\"товар\" + 0.031*\"ценный\" + 0.029*\"знакомый\" + 0.027*\"безопасность\" + 0.026*\"информационный\" + 0.015*\"обработка\" + 0.014*\"обладать\" + 0.014*\"доставка\" + 0.008*\"инцидент\"'),\n",
       " (17,\n",
       "  '0.033*\"год\" + 0.029*\"весь\" + 0.025*\"данных\" + 0.023*\"возможность\" + 0.022*\"интересный\" + 0.020*\"новый\" + 0.017*\"сайт\" + 0.017*\"поиск\" + 0.016*\"просто\" + 0.016*\"написать\"'),\n",
       " (18,\n",
       "  '0.048*\"компания\" + 0.027*\"задача\" + 0.022*\"решение\" + 0.018*\"продукт\" + 0.017*\"клиент\" + 0.017*\"система\" + 0.017*\"результат\" + 0.014*\"процесс\" + 0.014*\"которые\" + 0.013*\"бизнес\"'),\n",
       " (19,\n",
       "  '0.125*\"приложение\" + 0.049*\"мобильный\" + 0.031*\"надеяться\" + 0.025*\"тг\" + 0.024*\"автор\" + 0.021*\"разбираться\" + 0.018*\"миллион\" + 0.017*\"подборка\" + 0.016*\"участвовать\" + 0.015*\"голос\"')]"
      ]
     },
     "execution_count": 22,
     "metadata": {},
     "output_type": "execute_result"
    }
   ],
   "source": [
    "lda_model.print_topics()"
   ]
  },
  {
   "attachments": {},
   "cell_type": "markdown",
   "metadata": {},
   "source": [
    "Вычислим сложность и согласованность модели"
   ]
  },
  {
   "cell_type": "code",
   "execution_count": 23,
   "metadata": {},
   "outputs": [
    {
     "name": "stdout",
     "output_type": "stream",
     "text": [
      "Perplexity:  -16.289506735300908\n",
      "Coherence Score:  0.442760065331451\n"
     ]
    }
   ],
   "source": [
    "print('Perplexity: ', lda_model.log_perplexity(corpus))\n",
    "\n",
    "coherence_model_lda = CoherenceModel(model=lda_model, texts=texts, dictionary=id2word, coherence='c_v')\n",
    "coherence_lda = coherence_model_lda.get_coherence()\n",
    "print('Coherence Score: ', coherence_lda)"
   ]
  },
  {
   "attachments": {},
   "cell_type": "markdown",
   "metadata": {},
   "source": [
    "Отобразим результаты моделирования"
   ]
  },
  {
   "cell_type": "code",
   "execution_count": 24,
   "metadata": {},
   "outputs": [
    {
     "data": {
      "text/html": [
       "\n",
       "<link rel=\"stylesheet\" type=\"text/css\" href=\"https://cdn.jsdelivr.net/gh/bmabey/pyLDAvis@3.4.0/pyLDAvis/js/ldavis.v1.0.0.css\">\n",
       "\n",
       "\n",
       "<div id=\"ldavis_el14682364472300802079112267\" style=\"background-color:white;\"></div>\n",
       "<script type=\"text/javascript\">\n",
       "\n",
       "var ldavis_el14682364472300802079112267_data = {\"mdsDat\": {\"x\": [0.3064210335279517, 0.3205433002000786, 0.32777732399970877, 0.2088469202745226, 0.16574007445519234, -0.03008042732329502, -0.030141126904507657, -0.0422249074677798, -0.08622794205195684, -0.09025202957244886, -0.09546247428550422, -0.09909294993683525, -0.10420535416494135, -0.10436491433939017, -0.10594564183345331, -0.10626691039813069, -0.10764305394725249, -0.10819060569385149, -0.10950776727088644, -0.10972254726722043], \"y\": [0.2500230809556361, -0.030791184405995285, 0.09937710164661845, -0.321957991485404, -0.1201323582518678, -0.002581210291330554, 0.0035175751434961757, 0.00598205921068098, 0.009913571761734392, 0.010259891358616425, 0.010314191300288244, 0.010352105164747077, 0.009999453875476095, 0.009969126943835557, 0.009820699986904585, 0.009778559109367256, 0.009498405438727923, 0.009360633401885768, 0.008823803596078908, 0.008472485540503194], \"topics\": [1, 2, 3, 4, 5, 6, 7, 8, 9, 10, 11, 12, 13, 14, 15, 16, 17, 18, 19, 20], \"cluster\": [1, 1, 1, 1, 1, 1, 1, 1, 1, 1, 1, 1, 1, 1, 1, 1, 1, 1, 1, 1], \"Freq\": [20.85338143669744, 20.457524170247627, 18.999776234655076, 11.616707987933891, 9.792153261639926, 3.5373204293185947, 3.463260266161309, 2.599372026399907, 1.4314918816563702, 1.3880299142613708, 1.1103056180683306, 1.0816845340782155, 0.6874105757396995, 0.6432937150485876, 0.6072641684606608, 0.5953884998739792, 0.44456813487824853, 0.3619738974991788, 0.22723952932359476, 0.10185371805798932]}, \"tinfo\": {\"Term\": [\"\\u0440\\u0430\\u0431\\u043e\\u0442\\u0430\", \"\\u0447\\u0435\\u043b\\u043e\\u0432\\u0435\\u043a\", \"\\u043e\\u043f\\u044b\\u0442\", \"\\u043d\\u043e\\u0432\\u044b\\u0439\", \"\\u043f\\u0440\\u043e\\u0435\\u043a\\u0442\", \"\\u043a\\u043e\\u043c\\u043f\\u0430\\u043d\\u0438\\u044f\", \"\\u043a\\u043e\\u043c\\u0430\\u043d\\u0434\\u0430\", \"\\u0437\\u0430\\u0434\\u0430\\u0447\\u0430\", \"\\u0440\\u0430\\u0437\\u0440\\u0430\\u0431\\u043e\\u0442\\u043a\\u0430\", \"\\u0432\\u0440\\u0435\\u043c\\u044f\", \"\\u0433\\u043e\\u0434\", \"\\u043f\\u043e\\u0441\\u0442\", \"\\u044f\\u0437\\u044b\\u043a\", \"\\u043d\\u0430\\u0432\\u044b\\u043a\", \"\\u0438\\u0441\\u043a\\u0430\\u0442\\u044c\", \"\\u0440\\u0430\\u0437\\u0440\\u0430\\u0431\\u043e\\u0442\\u0447\\u0438\\u043a\", \"\\u043d\\u0443\\u0436\\u043d\\u044b\\u0439\", \"\\u0434\\u0430\\u043d\\u043d\\u044b\\u0445\", \"\\u0440\\u0435\\u0448\\u0435\\u043d\\u0438\\u0435\", \"\\u043f\\u0440\\u0438\\u0432\\u0435\\u0442\", \"\\u043d\\u0430\\u0439\\u0442\\u0438\", \"\\u0445\\u043e\\u0442\\u0435\\u0442\\u044c\", \"\\u0432\\u0435\\u0441\\u044c\", \"\\u043f\\u0440\\u0438\\u043b\\u043e\\u0436\\u0435\\u043d\\u0438\\u0435\", \"\\u043d\\u0430\\u0447\\u0438\\u043d\\u0430\\u0442\\u044c\", \"\\u0432\\u043e\\u0437\\u043c\\u043e\\u0436\\u043d\\u043e\\u0441\\u0442\\u044c\", \"\\u0432\\u0441\\u0435\\u043c\", \"\\u043f\\u043e\\u043b\\u0435\\u0437\\u043d\\u044b\\u0439\", \"\\u0440\\u0435\\u0437\\u044e\\u043c\\u0435\", \"\\u043a\\u0443\\u0440\\u0441\", \"\\u0447\\u0435\\u043b\\u043e\\u0432\\u0435\\u043a\", \"\\u0441\\u0434\\u0435\\u043b\\u0430\\u0442\\u044c\", \"\\u0436\\u0438\\u0437\\u043d\\u044c\", \"\\u043a\\u0443\\u0440\\u0441\", \"\\u0437\\u043d\\u0430\\u0442\\u044c\", \"\\u043c\\u0435\\u0441\\u0442\\u043e\", \"\\u043f\\u043e\\u043c\\u043e\\u0449\\u044c\", \"\\u0440\\u0435\\u0448\\u0438\\u0442\\u044c\", \"\\u0441\\u043b\\u043e\\u0436\\u043d\\u044b\\u0439\", \"\\u043f\\u043e\\u043d\\u044f\\u0442\\u044c\", \"\\u0433\\u043e\\u0432\\u043e\\u0440\\u0438\\u0442\\u044c\", \"\\u0434\\u0443\\u043c\\u0430\\u0442\\u044c\", \"\\u043f\\u043e\\u043d\\u0438\\u043c\\u0430\\u0442\\u044c\", \"\\u0446\\u0435\\u043b\\u044c\", \"\\u043f\\u043e\\u044d\\u0442\\u043e\\u043c\\u0443\", \"\\u0440\\u044b\\u043d\\u043e\\u043a\", \"\\u043d\\u0430\\u043f\\u0440\\u0438\\u043c\\u0435\\u0440\", \"\\u0434\\u0430\\u0432\\u0430\\u0442\\u044c\", \"\\u0438\\u0434\\u0435\\u044f\", \"\\u0440\\u0430\\u0431\\u043e\\u0447\\u0438\\u0439\", \"\\u043f\\u043e\\u0447\\u0435\\u043c\\u0443\", \"\\u0434\\u0435\\u043b\\u043e\", \"\\u043f\\u0440\\u0438\\u0447\\u0438\\u043d\\u0430\", \"\\u0432\\u043d\\u0438\\u043c\\u0430\\u043d\\u0438\\u0435\", \"\\u0441\\u0438\\u0442\\u0443\\u0430\\u0446\\u0438\\u044f\", \"\\u0434\\u0430\\u0442\\u044c\", \"\\u0444\\u0443\\u043d\\u043a\\u0446\\u0438\\u044f\", \"\\u043a\\u043e\\u043b\\u0438\\u0447\\u0435\\u0441\\u0442\\u0432\\u043e\", \"\\u043b\\u0430\\u0439\\u043a\", \"\\u0445\\u043e\\u0442\\u0435\\u0442\\u044c\\u0441\\u044f\", \"\\u043f\\u043e\\u043c\\u043e\\u0447\\u044c\", \"\\u0447\\u0430\\u0441\\u0442\\u044c\", \"\\u043d\\u0443\\u0436\\u043d\\u044b\\u0439\", \"\\u043e\\u0431\\u0443\\u0447\\u0435\\u043d\\u0438\\u0435\", \"\\u043f\\u0440\\u043e\\u0439\\u0442\\u0438\", \"\\u0432\\u0440\\u0435\\u043c\\u044f\", \"\\u0441\\u0442\\u0430\\u0442\\u044c\", \"\\u0445\\u043e\\u0442\\u0435\\u0442\\u044c\", \"\\u0434\\u0435\\u043d\\u044c\", \"\\u043a\\u0430\\u0436\\u0434\\u044b\\u0439\", \"\\u0440\\u0430\\u0441\\u0441\\u043a\\u0430\\u0437\\u0430\\u0442\\u044c\", \"\\u0445\\u043e\\u0440\\u043e\\u0448\\u0438\\u0439\", \"\\u0432\\u0435\\u0441\\u044c\", \"\\u0432\\u043e\\u043f\\u0440\\u043e\\u0441\", \"\\u0440\\u0430\\u0431\\u043e\\u0442\\u0430\\u0442\\u044c\", \"\\u0437\\u0430\\u0434\\u0430\\u0447\\u0430\", \"\\u0440\\u0435\\u0448\\u0435\\u043d\\u0438\\u0435\", \"\\u0441\\u0438\\u0441\\u0442\\u0435\\u043c\\u0430\", \"\\u0440\\u0435\\u0437\\u0443\\u043b\\u044c\\u0442\\u0430\\u0442\", \"\\u043f\\u0440\\u043e\\u0446\\u0435\\u0441\\u0441\", \"\\u0441\\u043f\\u0430\\u0441\\u0438\\u0431\\u043e\", \"\\u043c\\u043e\\u0434\\u0435\\u043b\\u044c\", \"\\u0441\\u043e\\u0442\\u0440\\u0443\\u0434\\u043d\\u0438\\u043a\", \"\\u0434\\u043e\\u043b\\u0436\\u043d\\u044b\\u0439\", \"\\u043a\\u0430\\u0447\\u0435\\u0441\\u0442\\u0432\\u043e\", \"\\u0442\\u0435\\u0445\\u043d\\u043e\\u043b\\u043e\\u0433\\u0438\\u044f\", \"\\u043a\\u043e\\u0434\", \"\\u043f\\u0440\\u0438\\u043c\\u0435\\u0440\", \"\\u0437\\u0430\\u043d\\u0438\\u043c\\u0430\\u0442\\u044c\\u0441\\u044f\", \"\\u043a\\u043b\\u0438\\u0435\\u043d\\u0442\", \"\\u043f\\u043e\\u043c\\u043e\\u0433\\u0430\\u0442\\u044c\", \"\\u0438\\u0442\", \"\\u0440\\u043e\\u0441\\u0442\", \"\\u043a\\u0440\\u0443\\u0442\\u043e\\u0439\", \"\\u0441\\u043a\\u0430\\u0437\\u0430\\u0442\\u044c\", \"\\u043f\\u0440\\u043e\\u0444\\u0435\\u0441\\u0441\\u0438\\u043e\\u043d\\u0430\\u043b\\u044c\\u043d\\u044b\\u0439\", \"\\u0434\\u0440\\u0443\\u0433\\u0438\\u0445\", \"\\u0440\\u0430\\u0437\\u0432\\u0438\\u0442\\u0438\\u0435\", \"\\u0447\\u0430\\u0441\\u0442\\u043e\", \"\\u0438\\u0442\\u043e\\u0433\", \"\\u043f\\u0440\\u0435\\u0434\\u043b\\u0430\\u0433\\u0430\\u0442\\u044c\", \"\\u0430\\u043d\\u0430\\u043b\\u0438\\u0442\\u0438\\u043a\\u0430\", \"\\u0438\\u0434\\u0442\\u0438\", \"\\u0441\\u0447\\u0438\\u0442\\u0430\\u0442\\u044c\", \"\\u0430\\u043a\\u0442\\u0438\\u0432\\u043d\\u043e\", \"\\u043f\\u0440\\u043e\\u0434\\u0443\\u043a\\u0442\", \"\\u043a\\u043e\\u043c\\u043f\\u0430\\u043d\\u0438\\u044f\", \"\\u0431\\u043e\\u043b\\u044c\\u0448\\u0438\\u0439\", \"\\u0431\\u0438\\u0437\\u043d\\u0435\\u0441\", \"\\u043a\\u043e\\u043b\\u043b\\u0435\\u0433\\u0430\", \"\\u043f\\u0435\\u0440\\u0432\\u044b\\u0439\", \"\\u043a\\u043e\\u0442\\u043e\\u0440\\u044b\\u0435\", \"\\u0432\\u043e\\u043f\\u0440\\u043e\\u0441\", \"\\u043a\\u043e\\u0442\\u043e\\u0440\\u0430\\u044f\", \"\\u0445\\u043e\\u0440\\u043e\\u0448\\u0438\\u0439\", \"\\u043a\\u043e\\u043c\\u0430\\u043d\\u0434\\u0430\", \"\\u0432\\u0435\\u0441\\u044c\", \"\\u043a\\u043e\\u0442\\u043e\\u0440\\u044b\\u0439\", \"\\u0440\\u0430\\u0431\\u043e\\u0442\\u0430\", \"\\u0441\\u0430\\u0439\\u0442\", \"\\u043d\\u0430\\u043f\\u0438\\u0441\\u0430\\u0442\\u044c\", \"\\u043f\\u0440\\u043e\\u0441\\u0442\\u043e\", \"\\u043d\\u0430\\u0447\\u0430\\u0442\\u044c\", \"\\u043d\\u0435\\u0441\\u043a\\u043e\\u043b\\u044c\\u043a\\u043e\", \"\\u043c\\u0435\\u0441\\u044f\\u0446\", \"\\u043c\\u043e\\u043c\\u0435\\u043d\\u0442\", \"\\u043a\\u0430\\u0440\\u044c\\u0435\\u0440\\u043d\\u044b\\u0439\", \"\\u0434\\u0440\\u0443\\u0433\", \"\\u043f\\u043e\\u0434\\u0435\\u043b\\u0438\\u0442\\u044c\\u0441\\u044f\", \"\\u043f\\u043e\\u043b\\u044c\\u0437\\u043e\\u0432\\u0430\\u0442\\u0435\\u043b\\u044c\", \"\\u043d\\u0430\\u0445\\u043e\\u0434\\u0438\\u0442\\u044c\\u0441\\u044f\", \"\\u0430\\u043d\\u0430\\u043b\\u0438\\u0437\", \"\\u0437\\u0430\\u043f\\u0440\\u043e\\u0441\", \"\\u0441\\u0442\\u0430\\u0442\\u044c\\u044f\", \"\\u043f\\u043e\\u043b\\u0443\\u0447\\u0430\\u0442\\u044c\", \"\\u0431\\u0430\\u0437\\u0430\", \"\\u043a\\u043e\\u043d\\u0442\\u0430\\u043a\\u0442\", \"\\u0441\\u0435\\u0440\\u0432\\u0438\\u0441\", \"\\u0431\\u043b\\u0430\\u0433\\u043e\\u0434\\u0430\\u0440\\u043d\\u044b\\u0439\", \"\\u043f\\u0430\\u0440\\u0430\", \"\\u043f\\u043e\\u043b\\u0443\\u0447\\u0438\\u0442\\u044c\", \"\\u043f\\u043e\\u0434\\u0440\\u043e\\u0431\\u043d\\u044b\\u0439\", \"\\u043f\\u0435\\u0440\\u0438\\u043e\\u0434\", \"\\u0441\\u0442\\u043e\\u0440\\u043e\\u043d\\u0430\", \"\\u0441\\u043e\\u0432\\u0435\\u0442\", \"\\u043f\\u043e\\u043b\\u0443\\u0447\\u0438\\u0442\\u044c\\u0441\\u044f\", \"\\u0441\\u0435\\u0442\\u044c\", \"\\u0438\\u0437\\u043c\\u0435\\u043d\\u0435\\u043d\\u0438\\u0435\", \"\\u043e\\u0431\\u0449\\u0438\\u0439\", \"\\u0440\\u0435\\u043a\\u043e\\u043c\\u0435\\u043d\\u0434\\u0430\\u0446\\u0438\\u044f\", \"\\u043b\\u044e\\u0431\\u043e\\u0439\", \"\\u0441\\u043e\\u0437\\u0434\\u0430\\u043d\\u0438\\u0435\", \"\\u0441\\u0435\\u0433\\u043e\\u0434\\u043d\\u044f\", \"\\u0432\\u043e\\u0437\\u043c\\u043e\\u0436\\u043d\\u043e\\u0441\\u0442\\u044c\", \"\\u0434\\u0430\\u043d\\u043d\\u044b\\u0445\", \"\\u0438\\u043d\\u0442\\u0435\\u0440\\u0435\\u0441\\u043d\\u044b\\u0439\", \"\\u0438\\u043d\\u0444\\u043e\\u0440\\u043c\\u0430\\u0446\\u0438\\u044f\", \"\\u0438\\u0441\\u043f\\u043e\\u043b\\u044c\\u0437\\u043e\\u0432\\u0430\\u0442\\u044c\", \"\\u0433\\u043e\\u0434\", \"\\u0442\\u0430\\u043a\\u0436\\u0435\", \"\\u0441\\u0441\\u044b\\u043b\\u043a\\u0430\", \"\\u043f\\u043e\\u0438\\u0441\\u043a\", \"\\u043f\\u0438\\u0441\\u0430\\u0442\\u044c\", \"\\u0432\\u0435\\u0441\\u044c\", \"\\u043d\\u043e\\u0432\\u044b\\u0439\", \"\\u0440\\u0430\\u0431\\u043e\\u0442\\u0430\\u0442\\u044c\", \"\\u043a\\u043e\\u0442\\u043e\\u0440\\u044b\\u0435\", \"\\u0433\\u043e\\u0442\\u043e\\u0432\\u044b\\u0439\", \"\\u0432\\u0430\\u0436\\u043d\\u044b\\u0439\", \"\\u043e\\u043f\\u044b\\u0442\", \"\\u0438\\u0441\\u043a\\u0430\\u0442\\u044c\", \"\\u0440\\u0430\\u0437\\u0440\\u0430\\u0431\\u043e\\u0442\\u0447\\u0438\\u043a\", \"\\u043f\\u0440\\u0438\\u0432\\u0435\\u0442\", \"\\u0432\\u0441\\u0435\\u043c\", \"\\u0440\\u0435\\u0437\\u044e\\u043c\\u0435\", \"\\u0432\\u0430\\u043a\\u0430\\u043d\\u0441\\u0438\\u044f\", \"\\u0430\\u043d\\u0430\\u043b\\u0438\\u0442\\u0438\\u043a\", \"\\u0437\\u043d\\u0430\\u043d\\u0438\\u0435\", \"\\u0440\\u0430\\u0437\\u0440\\u0430\\u0431\\u043e\\u0442\\u043a\\u0430\", \"\\u0440\\u0430\\u0434\", \"\\u043f\\u0443\\u0442\\u044c\", \"\\u0434\\u0438\\u0437\\u0430\\u0439\\u043d\", \"\\u043f\\u0440\\u043e\\u0444\\u0438\\u043b\\u044c\", \"\\u0441\\u0442\\u0430\\u0440\\u0442\\u0430\\u043f\", \"\\u043c\\u043d\\u043e\\u0439\", \"\\u0442\\u0435\\u043a\\u0443\\u0449\\u0438\\u0439\", \"\\u043f\\u043e\\u0437\\u0438\\u0446\\u0438\\u044f\", \"\\u043f\\u0440\\u043e\\u0434\\u043e\\u043b\\u0436\\u0435\\u043d\\u0438\\u0435\", \"\\u043f\\u0440\\u043e\\u0433\\u0440\\u0430\\u043c\\u043c\\u0438\\u0440\\u043e\\u0432\\u0430\\u043d\\u0438\\u0435\", \"\\u043f\\u0440\\u0435\\u0434\\u044b\\u0434\\u0443\\u0449\\u0438\\u0439\", \"\\u0438\\u043d\\u0436\\u0435\\u043d\\u0435\\u0440\", \"\\u043f\\u043e\\u0447\\u0442\\u0430\", \"\\u043d\\u0430\\u0431\\u043e\\u0440\", \"\\u0437\\u0430\\u0440\\u043f\\u043b\\u0430\\u0442\\u0430\", \"\\u043f\\u0440\\u0430\\u043a\\u0442\\u0438\\u0447\\u0435\\u0441\\u043a\\u0438\\u0439\", \"\\u043f\\u043e\\u0434\\u0433\\u043e\\u0442\\u043e\\u0432\\u043a\\u0430\", \"\\u0442\\u0440\\u0435\\u0431\\u043e\\u0432\\u0430\\u043d\\u0438\\u0435\", \"\\u0441\\u0442\\u0435\\u043a\", \"\\u043f\\u0440\\u043e\\u0434\\u0443\\u043a\\u0442\\u043e\\u0432\\u044b\\u0439\", \"\\u0441\\u043f\\u0435\\u0446\\u0438\\u0430\\u043b\\u0438\\u0441\\u0442\", \"\\u043f\\u0440\\u043e\\u0435\\u043a\\u0442\", \"\\u0440\\u0430\\u0431\\u043e\\u0442\\u0430\", \"\\u043c\\u0435\\u043d\\u0435\\u0434\\u0436\\u0435\\u0440\", \"\\u043d\\u0435\\u043e\\u0431\\u0445\\u043e\\u0434\\u0438\\u043c\\u044b\\u0439\", \"\\u043e\\u0444\\u0438\\u0441\", \"\\u043a\\u043e\\u043c\\u0430\\u043d\\u0434\\u0430\", \"\\u043d\\u0430\\u043f\\u0440\\u0430\\u0432\\u043b\\u0435\\u043d\\u0438\\u0435\", \"\\u0443\\u0440\\u043e\\u0432\\u0435\\u043d\\u044c\", \"\\u0443\\u043f\\u0440\\u0430\\u0432\\u043b\\u0435\\u043d\\u0438\\u0435\", \"\\u043f\\u043e\\u0438\\u0441\\u043a\", \"\\u043d\\u0430\\u0439\\u0442\\u0438\", \"\\u043d\\u0430\\u0447\\u0438\\u043d\\u0430\\u0442\\u044c\", \"\\u0442\\u0435\\u043c\\u0430\", \"\\u0443\\u0434\\u043e\\u0432\\u043e\\u043b\\u044c\\u0441\\u0442\\u0432\\u0438\\u0435\", \"\\u0447\\u0430\\u0441\", \"\\u043a\\u0440\\u0443\\u043f\\u043d\\u044b\\u0439\", \"\\u0434\\u043e\\u043b\\u0436\\u043d\\u043e\\u0441\\u0442\\u044c\", \"\\u043f\\u043b\\u0430\\u043d\", \"\\u0432\\u0438\\u0434\\u0435\\u0442\\u044c\", \"\\u043f\\u0440\\u043e\\u0433\\u0440\\u0430\\u043c\\u043c\\u0430\", \"\\u0441\\u043b\\u043e\\u0432\\u043e\", \"\\u043c\\u044b\\u0441\\u043b\\u044c\", \"\\u0434\\u0435\\u043b\\u0438\\u0442\\u044c\\u0441\\u044f\", \"\\u0438\\u0441\\u0442\\u043e\\u0440\\u0438\\u044f\", \"\\u0441\\u043f\\u0438\\u0441\\u043e\\u043a\", \"\\u043f\\u0440\\u043e\\u0434\\u043e\\u043b\\u0436\\u0430\\u0442\\u044c\", \"\\u0443\\u0441\\u043b\\u043e\\u0432\\u0438\\u0435\", \"\\u0433\\u043e\\u043b\\u043e\\u0432\\u0430\", \"\\u0443\\u0432\\u0438\\u0434\\u0435\\u0442\\u044c\", \"\\u043d\\u0435\\u0434\\u0430\\u0432\\u043d\\u043e\", \"\\u0442\\u043e\\u0447\\u043d\\u043e\", \"\\u043f\\u043e\\u043d\\u044f\\u0442\\u043d\\u044b\\u0439\", \"\\u0447\\u0438\\u0442\\u0430\\u0442\\u044c\", \"\\u0442\\u0435\\u0445\\u043d\\u0438\\u043a\\u0430\", \"\\u0441\\u043e\\u0431\\u0440\\u0430\\u0442\\u044c\", \"\\u0437\\u0430\\u0434\\u0430\\u043d\\u0438\\u0435\", \"\\u043a\\u0435\\u0439\\u0441\", \"\\u043d\\u043e\\u0432\\u043e\\u0441\\u0442\\u044c\", \"\\u0447\\u0438\\u0441\\u043b\\u043e\", \"\\u0440\\u0435\\u0431\\u044f\\u0442\\u0430\", \"\\u043f\\u043e\\u043b\\u0435\\u0437\\u043d\\u044b\\u0439\", \"\\u043f\\u0440\\u0438\\u0439\\u0442\\u0438\", \"\\u043a\\u0430\\u043d\\u0430\\u043b\", \"\\u0441\\u043e\\u043e\\u0431\\u0449\\u0430\\u0442\\u044c\", \"\\u0438\\u043c\\u0435\\u0442\\u044c\", \"\\u043d\\u043e\\u0432\\u044b\\u0439\", \"\\u043d\\u0435\\u0434\\u0435\\u043b\\u044f\", \"\\u0434\\u0435\\u043b\\u0430\\u0442\\u044c\", \"\\u043a\\u043e\\u043c\\u043f\\u0430\\u043d\\u0438\\u044f\", \"\\u0432\\u0430\\u0436\\u043d\\u044b\\u0439\", \"\\u0440\\u0430\\u0431\\u043e\\u0442\\u0430\", \"\\u0441\\u043c\\u043e\\u0447\\u044c\", \"\\u044f\\u0432\\u043b\\u044f\\u0442\\u044c\\u0441\\u044f\", \"\\u0440\\u0443\\u043a\\u043e\\u0432\\u043e\\u0434\\u0438\\u0442\\u0435\\u043b\\u044c\", \"\\u043e\\u043d\\u043b\\u0430\\u0439\\u043d\", \"\\u043e\\u0442\\u0432\\u0435\\u0442\", \"\\u0432\\u0441\\u0442\\u0440\\u0435\\u0447\\u0430\", \"\\u043f\\u0438\\u0448\\u0438\\u0442\\u0435\", \"\\u043d\\u0430\\u0437\\u0430\\u0434\", \"\\u043c\\u043d\\u043e\\u0433\\u0438\\u0435\", \"\\u043e\\u043a\\u0430\\u0437\\u0430\\u0442\\u044c\\u0441\\u044f\", \"\\u0441\\u0443\\u0442\\u044c\", \"\\u043f\\u0440\\u043e\\u0433\\u0440\\u0430\\u043c\\u043c\\u0438\\u0441\\u0442\", \"\\u043f\\u0440\\u0438\\u043d\\u0438\\u043c\\u0430\\u0442\\u044c\", \"\\u043e\\u0442\\u0437\\u044b\\u0432\", \"\\u0441\\u043f\\u043e\\u0441\\u043e\\u0431\", \"\\u043a\\u043e\\u0442\\u043e\\u0440\\u043e\\u043c\", \"\\u043e\\u0441\\u0442\\u0430\\u0442\\u044c\\u0441\\u044f\", \"\\u043f\\u0440\\u0435\\u0434\\u043e\\u0441\\u0442\\u0430\\u0432\\u043b\\u044f\\u0442\\u044c\", \"\\u0442\\u0435\\u043b\\u0435\\u0433\\u0440\\u0430\\u043c\", \"\\u043e\\u043a\\u0442\\u044f\\u0431\\u0440\\u044c\", \"\\u043f\\u043e\\u043f\\u0443\\u043b\\u044f\\u0440\\u043d\\u044b\\u0439\", \"\\u0434\\u043e\\u043c\", \"\\u043c\\u0430\\u0439\", \"\\u043f\\u043e\\u043b\\u043d\\u043e\\u0441\\u0442\\u044c\\u044e\", \"\\u043b\\u0438\\u0447\\u043d\\u043e\", \"\\u0434\\u043e\\u043b\\u043b\\u0430\\u0440\", \"\\u0441\\u043e\\u0431\\u0438\\u0440\\u0430\\u0442\\u044c\", \"\\u043a\\u043e\\u0444\\u0435\", \"\\u0445\\u0432\\u0430\\u0442\\u0430\\u0442\\u044c\", \"\\u043d\\u0430\\u043f\\u0440\\u0430\\u0432\\u0438\\u0442\\u044c\", \"\\u044d\\u0444\\u0444\\u0435\\u043a\\u0442\\u0438\\u0432\\u043d\\u044b\\u0439\", \"\\u044f\\u0437\\u044b\\u043a\", \"\\u043a\\u043d\\u0438\\u0433\\u0430\", \"\\u043a\\u0430\\u0440\\u044c\\u0435\\u0440\\u0430\", \"\\u043d\\u0435\\u043a\\u043e\\u0442\\u043e\\u0440\\u044b\\u0439\", \"\\u0430\\u043d\\u0433\\u043b\\u0438\\u0439\\u0441\\u043a\\u0438\\u0439\", \"\\u043a\\u043e\\u043d\\u0435\\u0446\", \"\\u043a\\u0430\\u0437\\u0430\\u0442\\u044c\\u0441\\u044f\", \"\\u0444\\u043e\\u0440\\u043c\\u0430\\u0442\", \"\\u043f\\u0440\\u0438\\u044f\\u0442\\u043d\\u044b\\u0439\", \"\\u043e\\u0442\\u0432\\u0435\\u0442\\u0438\\u0442\\u044c\", \"\\u043e\\u0448\\u0438\\u0431\\u043a\\u0430\", \"\\u0434\\u0435\\u0439\\u0441\\u0442\\u0432\\u0438\\u0442\\u0435\\u043b\\u044c\\u043d\\u043e\", \"\\u043e\\u0431\\u0449\\u0435\\u043d\\u0438\\u0435\", \"\\u0440\\u0443\\u043a\\u0430\", \"\\u0441\\u043e\\u043e\\u0431\\u0449\\u0435\\u0441\\u0442\\u0432\\u043e\", \"\\u0442\\u043e\\u043c\\u0443\", \"\\u0444\\u043e\\u0440\\u043c\\u0430\", \"\\u0441\\u0442\\u0430\\u043d\\u043e\\u0432\\u0438\\u0442\\u044c\\u0441\\u044f\", \"\\u0434\\u043e\\u043b\\u0433\\u0438\\u0439\", \"\\u0437\\u043f\", \"\\u0440\\u0435\\u0431\\u044f\\u0442\", \"\\u043f\\u043e\\u0432\\u044b\\u0441\\u0438\\u0442\\u044c\", \"\\u0436\\u0435\\u043b\\u0430\\u0442\\u044c\", \"\\u043c\\u043d\\u043e\\u0433\\u0438\\u0445\", \"\\u043d\\u0430\\u043f\\u0438\\u0441\\u0430\\u043d\\u0438\\u0435\", \"\\u043d\\u0430\\u0441\\u0442\\u043e\\u044f\\u0449\\u0438\\u0439\", \"\\u0438\\u043c\\u044f\", \"\\u043e\\u0431\\u044a\\u044f\\u0441\\u043d\\u0438\\u0442\\u044c\", \"\\u0441\\u0430\\u043c\\u043e\\u0439\", \"\\u0438\\u043d\\u0442\\u0435\\u0440\\u0435\\u0441\\u043e\\u0432\\u0430\\u0442\\u044c\", \"\\u043d\\u0430\\u0432\\u044b\\u043a\", \"\\u0442\\u0435\\u0441\\u0442\", \"\\u043f\\u043e\\u0437\\u0432\\u043e\\u043b\\u044f\\u0442\\u044c\", \"\\u043f\\u0440\\u043e\\u0432\\u0435\\u0440\\u043a\\u0430\", \"\\u043f\\u0440\\u043e\\u0432\\u043e\\u0434\\u0438\\u0442\\u044c\", \"\\u0441\\u043e\\u0437\\u0434\\u0430\\u0442\\u044c\", \"\\u0442\\u0435\\u0441\\u0442\\u0438\\u0440\\u043e\\u0432\\u0430\\u043d\\u0438\\u0435\", \"\\u0438\\u043d\\u0442\\u0435\\u0440\\u0444\\u0435\\u0439\\u0441\", \"\\u0438\\u0441\\u0441\\u043b\\u0435\\u0434\\u043e\\u0432\\u0430\\u043d\\u0438\\u0435\", \"\\u043f\\u043e\\u0441\\u0442\\u043e\\u044f\\u043d\\u043d\\u043e\", \"\\u0441\\u0442\\u0440\\u0430\\u043d\\u0438\\u0446\\u0430\", \"\\u0440\\u0430\\u0434\\u043e\\u0441\\u0442\\u044c\", \"\\u043f\\u0440\\u0435\\u0434\\u0441\\u0442\\u0430\\u0432\\u043b\\u044f\\u0442\\u044c\", \"\\u043c\\u0430\\u043a\\u0441\\u0438\\u043c\\u0430\\u043b\\u044c\\u043d\\u043e\", \"\\u0437\\u043d\\u0430\\u0447\\u043e\\u043a\", \"\\u0440\\u043e\\u0441\\u0441\\u0438\\u0439\\u0441\\u043a\\u0438\\u0439\", \"\\u0444\\u0443\\u043d\\u043a\\u0446\\u0438\\u043e\\u043d\\u0430\\u043b\", \"\\u043c\\u0430\\u0440\\u043a\\u0435\\u0442\\u0438\\u043d\\u0433\", \"\\u043f\\u0440\\u0435\\u0434\\u0441\\u0442\\u0430\\u0432\\u043b\\u0435\\u043d\\u0438\\u0435\", \"\\u043e\\u0442\\u0434\\u044b\\u0445\", \"\\u0432\\u043b\\u0438\\u044f\\u043d\\u0438\\u0435\", \"\\u0432\\u043d\\u0435\\u0448\\u043d\\u0438\\u0439\", \"\\u043f\\u043e\\u043b\\u044c\\u0437\\u043e\\u0432\\u0430\\u0442\\u0435\\u043b\\u044c\\u0441\\u043a\\u0438\\u0439\", \"\\u0438\\u043d\\u0444\\u0440\\u0430\\u0441\\u0442\\u0440\\u0443\\u043a\\u0442\\u0443\\u0440\\u0430\", \"\\u043e\\u043a\\u0430\\u0437\\u044b\\u0432\\u0430\\u0442\\u044c\", \"\\u0444\\u0438\\u043b\\u044c\\u043c\", \"\\u043a\\u0438\\u0442\\u0430\\u0439\\u0441\\u043a\\u0438\\u0439\", \"\\u043f\\u0440\\u043e\\u0441\\u043c\\u043e\\u0442\\u0440\\u0435\\u0442\\u044c\", \"\\u0434\\u0443\\u0448\\u0430\", \"\\u0443\\u0441\\u043b\\u0443\\u0433\\u0438\", \"\\u043f\\u043e\\u0432\\u0435\\u0434\\u0435\\u043d\\u0438\\u0435\", \"\\u0441\\u043b\\u0435\\u0434\\u0443\\u044e\\u0449\\u0438\\u0439\", \"\\u043a\\u043e\\u0442\\u043e\\u0440\\u043e\\u0439\", \"\\u0438\\u043d\\u0441\\u0442\\u0440\\u0443\\u043c\\u0435\\u043d\\u0442\", \"\\u0432\\u0442\\u043e\\u0440\\u043e\\u0439\", \"\\u043d\\u0438\\u043a\\u0442\\u043e\", \"\\u0434\\u043e\\u0432\\u043e\\u043b\\u044c\\u043d\\u043e\", \"\\u0442\\u0440\\u0435\\u043d\\u0438\\u0440\\u043e\\u0432\\u043a\\u0430\", \"\\u0434\\u043e\\u0441\\u0442\\u0438\\u0433\\u043d\\u0443\\u0442\\u044c\", \"\\u0437\\u0430\\u043a\\u043e\\u043d\\u0447\\u0438\\u0442\\u044c\", \"\\u0432\\u043a\\u043b\\u044e\\u0447\\u0430\\u0442\\u044c\", \"\\u043d\\u0430\\u0443\\u0447\\u0438\\u0442\\u044c\\u0441\\u044f\", \"\\u0441\\u0442\\u0430\\u0432\\u0438\\u0442\\u044c\", \"\\u044d\\u0444\\u0444\\u0435\\u043a\\u0442\\u0438\\u0432\\u043d\\u043e\\u0441\\u0442\\u044c\", \"\\u043e\\u0436\\u0438\\u0434\\u0430\\u0442\\u044c\", \"\\u043f\\u0435\\u0440\\u0435\\u0445\\u043e\\u0434\", \"\\u0431\\u0430\\u0437\\u043e\\u0432\\u044b\\u0439\", \"\\u043f\\u0440\\u0438\\u043c\\u0435\\u0440\\u043d\\u043e\", \"\\u0441\\u0442\\u0440\\u0430\\u0434\\u0430\\u0442\\u044c\", \"\\u0437\\u0430\\u043d\\u044f\\u0442\\u044c\", \"\\u043d\\u0430\\u0443\\u043a\\u0430\", \"\\u0441\\u043f\\u0435\\u0446\\u0438\\u0430\\u043b\\u044c\\u043d\\u043e\\u0441\\u0442\\u044c\", \"\\u0441\\u0442\\u0430\\u0440\\u0442\\u043e\\u0432\\u0430\\u0442\\u044c\", \"\\u043b\\u0435\\u043a\\u0446\\u0438\\u044f\", \"\\u043f\\u043b\\u0430\\u0442\\u043d\\u044b\\u0439\", \"\\u043c\\u0430\\u0442\\u0435\\u043c\\u0430\\u0442\\u0438\\u043a\\u0430\", \"\\u0440\\u0430\\u0441\\u0441\\u0447\\u0438\\u0442\\u0430\\u0442\\u044c\", \"\\u0434\\u0438\\u043f\\u043b\\u043e\\u043c\", \"\\u0433\\u0440\\u0430\\u043c\\u043e\\u0442\\u043d\\u043e\", \"\\u043e\\u0442\\u043b\\u0438\\u0447\\u0438\\u0435\", \"\\u0432\\u044b\\u0433\\u043e\\u0434\\u043d\\u044b\\u0439\", \"\\u0443\\u0433\\u0440\\u043e\\u0437\\u0430\", \"\\u0443\\u043d\\u0438\\u0432\\u0435\\u0440\\u0441\\u0438\\u0442\\u0435\\u0442\", \"\\u0441\\u043e\\u0431\\u0435\\u0441\\u0435\\u0434\\u043e\\u0432\\u0430\\u043d\\u0438\\u0435\", \"\\u0434\\u0438\\u0437\\u0430\\u0439\\u043d\\u0435\\u0440\", \"\\u0442\\u0435\\u0447\\u0435\\u043d\\u0438\\u0435\", \"\\u043a\\u0441\\u0442\\u0430\\u0442\\u0438\", \"\\u043f\\u043e\\u043f\\u0440\\u043e\\u0431\\u043e\\u0432\\u0430\\u0442\\u044c\", \"\\u0440\\u0430\\u0437\\u043e\\u0431\\u0440\\u0430\\u0442\\u044c\\u0441\\u044f\", \"\\u0432\\u044b\\u043f\\u043e\\u043b\\u043d\\u0435\\u043d\\u0438\\u0435\", \"\\u0432\\u0435\\u0440\\u043d\\u0443\\u0442\\u044c\\u0441\\u044f\", \"\\u043e\\u043a\\u043e\\u043d\\u0447\\u0430\\u043d\\u0438\\u0435\", \"\\u043f\\u043e\\u043b\", \"\\u043d\\u0430\\u0441\\u043a\\u043e\\u043b\\u044c\\u043a\\u043e\", \"\\u0432\\u043c\\u0435\\u0441\\u0442\\u043e\", \"\\u043f\\u0440\\u043e\\u0434\\u043e\\u043b\\u0436\\u0438\\u0442\\u044c\", \"\\u043f\\u043e\\u0443\\u0447\\u0430\\u0441\\u0442\\u0432\\u043e\\u0432\\u0430\\u0442\\u044c\", \"\\u043f\\u0440\\u043e\\u0431\\u043e\\u0432\\u0430\\u0442\\u044c\", \"\\u0432\\u044b\\u043f\\u043e\\u043b\\u043d\\u0438\\u0442\\u044c\", \"\\u043f\\u0440\\u0438\\u0441\\u0442\\u0443\\u043f\\u0438\\u0442\\u044c\", \"\\u043f\\u0440\\u043e\\u0438\\u0437\\u0432\\u043e\\u0434\\u0438\\u0442\\u0435\\u043b\\u044c\\u043d\\u043e\\u0441\\u0442\\u044c\", \"\\u0442\\u0443\\u0434\\u0430\", \"\\u0441\\u043e\\u0446\\u0441\\u0435\\u0442\\u044c\", \"\\u0433\\u0440\\u0430\\u0436\\u0434\\u0430\\u043d\\u0438\\u043d\", \"\\u0433\\u043e\\u0442\\u043e\\u0432\\u0438\\u0442\\u044c\\u0441\\u044f\", \"\\u0437\\u0430\\u0439\\u0442\\u0438\", \"\\u0444\\u0440\\u043e\\u043d\\u0442\", \"\\u0437\\u0430\\u0432\\u0435\\u0440\\u0448\\u0435\\u043d\\u0438\\u0435\", \"\\u0434\\u043e\\u0431\\u0440\\u043e\", \"\\u0432\\u043a\\u043e\\u043d\\u0442\\u0430\\u043a\\u0442\\u0435\", \"\\u043f\\u0440\\u043e\\u0431\\u043b\\u0435\\u043c\\u043d\\u044b\\u0439\", \"\\u0430\\u0434\\u043c\\u0438\\u043d\\u0438\\u0441\\u0442\\u0440\\u0430\\u0442\\u043e\\u0440\", \"\\u0430\\u0440\\u0445\\u0438\\u0442\\u0435\\u043a\\u0442\\u043e\\u0440\", \"\\u043f\\u0440\\u0438\\u043b\\u043e\\u0436\\u0435\\u043d\\u0438\\u0435\", \"\\u043c\\u043e\\u0431\\u0438\\u043b\\u044c\\u043d\\u044b\\u0439\", \"\\u043d\\u0430\\u0434\\u0435\\u044f\\u0442\\u044c\\u0441\\u044f\", \"\\u0442\\u0433\", \"\\u0430\\u0432\\u0442\\u043e\\u0440\", \"\\u0440\\u0430\\u0437\\u0431\\u0438\\u0440\\u0430\\u0442\\u044c\\u0441\\u044f\", \"\\u043c\\u0438\\u043b\\u043b\\u0438\\u043e\\u043d\", \"\\u043f\\u043e\\u0434\\u0431\\u043e\\u0440\\u043a\\u0430\", \"\\u0443\\u0447\\u0430\\u0441\\u0442\\u0432\\u043e\\u0432\\u0430\\u0442\\u044c\", \"\\u0433\\u043e\\u043b\\u043e\\u0441\", \"\\u0441\\u043a\\u043e\\u0440\\u043e\\u0441\\u0442\\u044c\", \"\\u0444\\u0440\\u0435\\u0439\\u043c\\u0432\\u043e\\u0440\\u043a\", \"\\u043e\\u0434\\u043d\\u043e\", \"\\u0440\\u0435\\u0439\\u0442\\u0438\\u043d\\u0433\", \"\\u0434\\u043b\\u0438\\u043d\\u043d\\u044b\\u0439\", \"\\u0440\\u0435\\u043a\\u043b\\u0430\\u043c\\u043d\\u044b\\u0439\", \"\\u043a\\u0430\\u0447\\u0435\\u0441\\u0442\\u0432\\u0435\\u043d\\u043d\\u043e\", \"\\u0447\\u0443\\u0434\\u043e\", \"\\u0438\\u0437\\u043c\\u0435\\u043d\\u0438\\u0442\\u044c\\u0441\\u044f\", \"\\u043c\\u0435\\u0447\\u0442\\u0430\\u0442\\u044c\", \"\\u043f\\u0440\\u0435\\u0434\\u043c\\u0435\\u0442\\u043d\\u044b\\u0439\", \"\\u043d\\u0438\\u0433\\u0434\\u0435\", \"\\u043f\\u043e\\u0434\\u043f\\u0438\\u0448\\u0438\\u0442\\u0435\\u0441\\u044c\", \"\\u043f\\u0440\\u043e\\u0448\\u043b\\u043e\\u0435\", \"\\u0442\\u0430\\u0440\\u0438\\u0444\", \"\\u0432\\u044b\\u0436\\u0438\\u0442\\u044c\", \"\\u0431\\u0438\\u0437\\u043d\\u0435\\u0441\\u043c\\u0435\\u043d\", \"\\u043b\\u0430\\u0439\\u043a\\u0430\\u0439\\u0442\\u0435\", \"\\u0442\\u0435\\u043d\\u0434\\u0435\\u043d\\u0446\\u0438\\u044f\", \"\\u0438\\u043d\\u0441\\u0442\\u0440\\u0443\\u043a\\u0446\\u0438\\u044f\", \"\\u043d\\u0438\\u0436\\u0435\", \"\\u0432\\u0435\\u0431\", \"\\u0438\\u0437\\u043e\\u0431\\u0440\\u0430\\u0436\\u0435\\u043d\\u0438\\u0435\", \"\\u043c\\u0438\\u0440\", \"\\u043c\\u0438\\u043d\\u0443\\u0442\\u0430\", \"\\u043f\\u043e\\u043f\\u0430\\u0441\\u0442\\u044c\", \"\\u0440\\u0435\\u043a\\u043e\\u043c\\u0435\\u043d\\u0434\\u043e\\u0432\\u0430\\u0442\\u044c\", \"\\u0440\\u0435\\u0430\\u043b\\u0438\\u0437\\u043e\\u0432\\u0430\\u0442\\u044c\", \"\\u0448\\u043a\\u043e\\u043b\\u0430\", \"\\u043e\\u0447\\u0435\\u0440\\u0435\\u0434\\u043d\\u043e\\u0439\", \"\\u043e\\u0442\\u0441\\u0443\\u0442\\u0441\\u0442\\u0432\\u0438\\u0435\", \"\\u043d\\u0430\\u0447\\u0438\\u043d\\u0430\\u0442\\u044c\\u0441\\u044f\", \"\\u0441\\u0435\\u043c\\u044c\\u044f\", \"\\u043d\\u043e\\u0440\\u043c\\u0430\\u043b\\u044c\\u043d\\u044b\\u0439\", \"\\u0431\\u043e\\u043b\\u044c\\u0448\\u0438\\u043d\\u0441\\u0442\\u0432\\u043e\", \"\\u043c\\u0435\\u043d\\u0442\\u043e\\u0440\", \"\\u0441\\u0442\\u0430\\u0440\\u0430\\u0442\\u044c\\u0441\\u044f\", \"\\u0432\\u044b\\u0441\\u043e\\u043a\\u043e\", \"\\u0441\\u043b\\u0443\\u0447\\u0438\\u0442\\u044c\\u0441\\u044f\", \"\\u0437\\u0430\\u0431\\u044b\\u0432\\u0430\\u0442\\u044c\", \"\\u0438\\u0431\\u043e\", \"\\u0441\\u043e\\u0444\\u0442\", \"\\u0438\\u0441\\u043a\\u0440\\u0435\\u043d\\u043d\\u0435\", \"\\u043e\\u0441\\u0442\\u0430\\u043b\\u044c\\u043d\\u044b\\u0435\", \"\\u043f\\u0435\\u0440\\u0435\\u043f\\u0438\\u0441\\u043a\\u0430\", \"\\u0432\\u044b\\u0447\\u0438\\u0441\\u043b\\u0438\\u0442\\u0435\\u043b\\u044c\\u043d\\u044b\\u0439\", \"\\u043f\\u0430\\u0434\\u0430\\u0442\\u044c\", \"\\u0432\\u0448\\u044d\", \"\\u0437\\u0430\\u043a\\u0430\\u043d\\u0447\\u0438\\u0432\\u0430\\u0442\\u044c\\u0441\\u044f\", \"\\u0443\\u043f\\u0440\\u0430\\u0432\\u043b\\u0435\\u043d\\u0438\\u0435\\u043f\\u0440\\u043e\\u0435\\u043a\\u0442\\u0430\\u043c\\u0438\", \"\\u0432\\u043e\\u0437\\u043d\\u0430\\u0433\\u0440\\u0430\\u0436\\u0434\\u0435\\u043d\\u0438\\u0435\", \"\\u043e\\u0442\\u043a\\u043b\\u0438\\u043a\\u0430\\u0439\\u0442\\u0435\\u0441\\u044c\", \"\\u0443\\u0432\\u0430\\u0436\\u0435\\u043d\\u0438\\u0435\", \"\\u0432\\u0430\\u0434\\u0438\\u043c\", \"\\u043f\\u043e\\u0432\\u0435\\u0434\\u0435\\u043d\\u0438\\u0435\", \"\\u0438\\u0431\", \"\\u0442\\u043e\\u0432\\u0430\\u0440\", \"\\u0446\\u0435\\u043d\\u043d\\u044b\\u0439\", \"\\u0437\\u043d\\u0430\\u043a\\u043e\\u043c\\u044b\\u0439\", \"\\u0431\\u0435\\u0437\\u043e\\u043f\\u0430\\u0441\\u043d\\u043e\\u0441\\u0442\\u044c\", \"\\u0438\\u043d\\u0444\\u043e\\u0440\\u043c\\u0430\\u0446\\u0438\\u043e\\u043d\\u043d\\u044b\\u0439\", \"\\u043e\\u0431\\u0440\\u0430\\u0431\\u043e\\u0442\\u043a\\u0430\", \"\\u043e\\u0431\\u043b\\u0430\\u0434\\u0430\\u0442\\u044c\", \"\\u0434\\u043e\\u0441\\u0442\\u0430\\u0432\\u043a\\u0430\", \"\\u0438\\u043d\\u0446\\u0438\\u0434\\u0435\\u043d\\u0442\", \"\\u043e\\u0431\\u0441\\u043b\\u0443\\u0436\\u0438\\u0432\\u0430\\u043d\\u0438\\u0435\", \"\\u043c\\u043e\\u043d\\u0438\\u0442\\u043e\\u0440\\u0438\\u043d\\u0433\", \"\\u0437\\u0430\\u043d\\u044f\\u0442\\u043e\\u0441\\u0442\\u044c\", \"\\u0443\\u043f\\u0440\\u043e\\u0441\\u0442\\u0438\\u0442\\u044c\", \"\\u0440\\u0430\\u0437\\u043d\\u043e\\u043e\\u0431\\u0440\\u0430\\u0437\\u043d\\u044b\\u0439\", \"\\u0437\\u0430\\u043f\\u0430\\u0441\\u043d\\u044b\\u0439\", \"\\u043f\\u0440\\u0435\\u0434\\u043e\\u0441\\u0442\\u0430\\u0432\\u043b\\u0435\\u043d\\u0438\\u0435\", \"\\u0442\\u0435\\u043b\\u0435\\u0433\\u0430\", \"\\u043e\\u0440\\u0438\\u0435\\u043d\\u0442\\u0438\\u0440\\u043e\\u0432\\u0430\\u0442\\u044c\", \"\\u043a\\u0438\\u0431\\u0435\\u0440\\u0431\\u0435\\u0437\\u043e\\u043f\\u0430\\u0441\\u043d\\u043e\\u0441\\u0442\\u044c\", \"\\u0438\\u043d\\u0444\\u043e\\u0431\\u0435\\u0437\", \"\\u0432\\u0438\\u0442\\u0440\\u0430\\u0442\\u0438\", \"\\u0437\\u043c\\u0435\\u043d\\u0448\\u0438\\u0442\\u0438\", \"\\u0432\\u043e\\u043d\\u0438\", \"\\u0438\\u043d\\u0444\\u043e\\u0440\\u043c\\u0430\\u0446\\u0438\\u043e\\u043d\\u043d\\u0430\\u044f\\u0431\\u0435\\u0437\\u043e\\u043f\\u0430\\u0441\\u043d\\u043e\\u0441\\u0442\\u044c\", \"\\u0437\\u0430\\u0441\\u0442\\u043e\\u0441\\u0443\\u0432\\u0430\\u043d\\u043d\\u044f\", \"\\u043f\\u0434\\u043d\", \"\\u0440\\u0435\\u0433\\u0443\\u043b\\u044f\\u0442\\u043e\\u0440\", \"\\u0434\\u043e\\u043f\\u043e\\u043c\\u043e\\u0433\\u043e\\u044e\", \"\\u043a\\u0440\\u043e\\u043a\", \"\\u0449\\u043e\", \"\\u0438\\u0441\\u0445\\u043e\\u0434\\u043d\\u044b\\u0439\", \"\\u0434\\u0430\\u043d\\u043d\\u044b\\u0435\", \"\\u0431\\u043b\\u043e\\u043a\", \"\\u0438\\u0437\\u043e\\u0431\\u0440\\u0430\\u0436\\u0435\\u043d\\u0438\\u0435\", \"\\u043f\\u043e\\u0441\\u0442\", \"\\u0437\\u0430\\u0449\\u0438\\u0442\\u0430\", \"\\u0435\\u0434\\u0438\\u043d\\u0441\\u0442\\u0432\\u0435\\u043d\\u043d\\u044b\\u0439\", \"\\u043f\\u0440\\u043e\\u0434\\u0430\\u0432\\u0435\\u0446\", \"\\u0441\\u0442\\u043e\\u044f\\u0442\\u044c\", \"\\u0437\\u0430\\u0440\\u0430\\u0431\\u043e\\u0442\\u0430\\u0442\\u044c\", \"\\u043f\\u043e\\u043a\\u0443\\u043f\\u0430\\u0442\\u0435\\u043b\\u044c\", \"\\u0430\\u0432\\u0442\\u043e\\u043c\\u043e\\u0431\\u0438\\u043b\\u044c\", \"\\u043a\\u043e\\u043b\", \"\\u0441\\u0432\\u0438\\u0442\\u0435\\u0440\", \"\\u043c\\u043e\\u043d\\u0442\\u0430\\u0436\", \"\\u0437\\u0435\\u043c\\u043b\\u044f\", \"\\u0441\\u0434\\u0435\\u043b\\u043a\\u0430\", \"\\u043c\\u043e\\u043d\\u043e\\u043b\\u0438\\u0442\", \"\\u043c\\u0438\\u043a\\u0440\\u043e\\u0441\\u0435\\u0440\\u0432\\u0438\\u0441\\u044b\", \"\\u043f\\u0440\\u043e\\u0441\\u0442\\u0438\\u0442\\u044c\", \"\\u0432\\u0438\\u043d\\u043e\\u0432\\u0430\\u0442\\u044b\\u0439\", \"\\u043c\\u0430\\u0440\\u043a\\u0435\\u0442\\u043f\\u043b\\u0435\\u0439\\u0441\\u043e\\u0432\", \"\\u0435\\u0434\\u0438\\u043d\\u043e\\u0440\\u043e\\u0433\", \"\\u043d\\u0430\\u0446\\u0438\\u044f\", \"\\u0447\\u0430\\u0441\\u0442\\u043d\\u044b\\u0439\", \"\\u043c\\u0430\\u0433\\u0430\\u0437\\u0438\\u043d\\u043e\\u0432\", \"\\u043f\\u0440\\u0430\\u043a\\u0442\\u0438\\u0447\\u043d\\u043e\", \"\\u0441\\u043e\\u0445\\u0440\\u0430\\u043d\\u043d\\u043e\\u0441\\u0442\\u044c\", \"\\u043c\\u0430\\u0440\\u043a\\u0435\\u0442\\u043f\\u043b\\u0435\\u0439\\u0441\\u0430\", \"\\u043e\\u0431\\u043b\\u0435\\u0433\\u0447\\u0435\\u043d\\u0438\\u0435\", \"\\u043b\\u043e\\u0433\\u0438\\u0441\\u0442\\u0438\\u043a\\u0430\", \"\\u043f\\u0435\\u0440\\u0435\\u0436\\u0438\\u0432\\u0430\\u0442\\u044c\", \"\\u0434\\u043e\\u0441\\u0442\\u0430\\u0432\\u0438\\u0442\\u044c\", \"\\u0432\\u0438\\u0440\\u0442\\u0443\\u0430\\u043b\\u044c\\u043d\\u044b\\u0439\", \"\\u0444\\u0430\\u043a\\u0442\", \"\\u0431\\u0435\\u043b\\u0430\\u0440\\u0443\\u0441\\u044c\", \"\\u0440\\u0435\\u0430\\u043a\\u0446\\u0438\\u044f\", \"\\u0440\\u043e\\u0441\\u0441\\u0438\\u044f\\u043d\\u0438\\u043d\", \"\\u0434\\u0438\\u043a\\u0442\\u0430\\u0442\\u043e\\u0440\", \"\\u0437\\u0430\\u043a\\u0430\\u0437\", \"\\u0431\\u0435\\u043b\\u043e\\u0440\\u0443\\u0441\", \"\\u0437\\u0430\\u044f\\u0432\\u043b\\u044f\\u0442\\u044c\", \"\\u043f\\u0440\\u043e\\u0441\\u0438\\u0442\\u044c\", \"\\u0441\\u0430\\u043c\\u043e\\u0441\\u0442\\u043e\\u044f\\u0442\\u0435\\u043b\\u044c\\u043d\\u043e\", \"\\u0443\\u043a\\u0440\\u0430\\u0438\\u043d\\u0430\", \"\\u0443\\u043a\\u0440\\u0430\\u0438\\u043d\\u0435\\u0446\", \"\\u043f\\u0441\\u0438\\u0445\\u043e\\u043b\\u043e\\u0433\", \"\\u0441\\u043e\\u0441\\u0442\\u043e\\u044f\\u043d\\u0438\\u0435\", \"\\u043c\\u0438\\u0440\", \"\\u0432\\u044b\\u0431\\u043e\\u0440\", \"\\u043b\\u0438\\u0431\\u043e\", \"\\u0441\\u0438\\u043b\\u0430\", \"\\u0447\\u0443\\u0432\\u0441\\u0442\\u0432\\u043e\", \"\\u0434\\u0430\\u043d\\u043d\\u044b\\u0435\", \"\\u0437\", \"\\u043e\\u0441\\u043d\\u043e\\u0432\\u043d\\u044b\\u0439\", \"\\u043a\\u0432\\u0430\\u0440\\u0442\\u0438\\u0440\\u0430\", \"\\u0442\\u043e\\u043f\", \"\\u0434\\u043e\\u043a\\u0443\\u043c\\u0435\\u043d\\u0442\", \"\\u043f\\u0440\\u0438\\u0433\\u043b\\u0430\\u0448\\u0430\\u0442\\u044c\", \"\\u0430\\u0433\\u0435\\u043d\\u0442\\u0441\\u0442\\u0432\\u043e\", \"\\u0442\\u0435\\u0445\\u043d\\u043e\\u043b\\u043e\\u0433\\u0438\\u0447\\u0435\\u0441\\u043a\\u0438\\u0439\", \"\\u0447\\u0438\\u0441\\u0442\\u044b\\u0439\", \"\\u0432\\u0435\\u0434\\u0443\\u0449\\u0438\\u0439\", \"\\u043e\\u0444\\u0438\\u0446\\u0438\\u0430\\u043b\\u044c\\u043d\\u044b\\u0439\", \"\\u043e\\u0431\\u0435\\u0441\\u043f\\u0435\\u0447\\u0438\\u0432\\u0430\\u0442\\u044c\", \"\\u0444\\u043e\\u043d\", \"\\u043a\\u043b\\u0443\\u0431\", \"\\u043e\\u0444\\u0438\\u0441\\u043d\\u044b\\u0439\", \"\\u0438\\u044e\\u043d\\u044c\", \"\\u0441\\u0430\\u043c\\u0443\\u044e\", \"\\u0438\\u0437\\u0432\\u043b\\u0435\\u0447\\u0435\\u043d\\u0438\\u0435\", \"\\u0432\\u044b\\u043f\\u0443\\u0441\\u0442\\u0438\\u0442\\u044c\", \"\\u0441\\u0438\\u043b\\u0438\\u043a\\u043e\\u043d\\u043e\\u0432\\u044b\\u0439\", \"\\u0441\\u043a\\u0430\\u0439\\u043f\", \"\\u043f\\u0440\\u0438\\u043e\\u0431\\u0440\\u0435\\u0441\\u0442\\u0438\", \"\\u0431\\u0443\\u043c\\u0430\\u0436\\u043d\\u044b\\u0439\", \"\\u0442\\u043e\\u043a\\u0441\\u0438\\u0447\\u043d\\u0438\\u043c\", \"\\u0432\\u0435\\u043d\\u0447\\u0443\\u0440\\u043d\\u044b\\u0439\", \"\\u043a\\u043e\\u043c\\u043f\\u043b\\u0435\\u043a\\u0441\", \"\\u0436\\u043a\", \"\\u043b\\u0435\\u0441\", \"\\u0442\\u0435\\u0440\\u0440\\u0438\\u0442\\u043e\\u0440\\u0438\\u044f\", \"\\u043f\\u0440\\u0438\\u0440\\u043e\\u0434\\u0430\", \"\\u0431\\u0443\\u0432\", \"\\u0432\\u043f\\u043e\", \"\\u0443\\u0439\\u0442\\u0438\", \"\\u043a\\u043e\\u043c\\u044c\\u044e\\u043d\\u0438\\u0442\\u0438\", \"\\u0437\", \"\\u0440\\u0435\\u0441\\u0443\\u0440\\u0441\", \"\\u0432\\u044b\\u0431\\u043e\\u0440\", \"\\u043c\\u0438\\u0440\", \"\\u043c\\u0435\\u0447\\u0442\\u0430\", \"\\u0442\\u0440\\u0435\\u0431\\u043e\\u0432\\u0430\\u0442\\u044c\", \"\\u0432\\u0435\\u0440\\u0438\\u0442\\u044c\", \"\\u0438\\u0433\\u0440\\u0430\", \"\\u0441\\u0447\\u0430\\u0441\\u0442\\u043b\\u0438\\u0432\\u044b\\u0439\", \"\\u043f\\u0443\\u0431\\u043b\\u0438\\u043a\\u0430\\u0446\\u0438\\u044f\", \"\\u0434\\u0432\\u0438\\u0433\\u0430\\u0442\\u044c\\u0441\\u044f\", \"\\u043f\\u043e\\u043f\\u0440\\u043e\\u0441\\u0438\\u0442\\u044c\", \"\\u0434\\u043e\\u0432\\u043e\\u043b\\u044c\\u043d\\u044b\\u0439\", \"\\u0438\\u043d\\u0432\\u0435\\u0441\\u0442\\u043e\\u0440\", \"\\u0438\\u043d\\u0430\\u0447\\u0435\", \"\\u043f\\u043e\\u0437\\u0434\\u043d\\u043e\", \"\\u0440\\u0430\\u0434\\u043e\\u0432\\u0430\\u0442\\u044c\\u0441\\u044f\", \"\\u043f\\u043e\\u0431\\u0435\\u0434\\u0430\", \"\\u0443\\u0447\\u0435\\u043d\\u0438\\u043a\", \"\\u0432\\u043d\\u0435\\u0437\\u0430\\u043f\\u043d\\u043e\", \"\\u0434\\u0435\\u043d\\u0435\\u0436\\u043d\\u044b\\u0439\", \"\\u0440\\u0430\\u043d\\u043e\", \"\\u0440\\u0435\\u0448\\u0438\\u0442\\u044c\\u0441\\u044f\", \"\\u0432\\u043d\\u0438\\u043c\\u0430\\u0442\\u0435\\u043b\\u044c\\u043d\\u044b\\u0439\", \"\\u0432\\u0437\\u0440\\u0430\\u0449\\u0438\\u0432\\u0430\\u043d\\u0438\\u0435\", \"\\u0440\\u0435\\u043a\\u0440\\u0443\\u0442\\u043c\\u0435\\u043d\\u0442\\u0430\", \"\\u043d\\u043e\\u043b\\u044c\", \"\\u0443\\u043f\\u043e\\u0440\", \"\\u0441\\u0431\\u044b\\u0442\\u044c\\u0441\\u044f\", \"\\u0432\\u0441\\u0435\\u0432\\u044b\\u0448\\u043d\\u0438\\u0439\", \"\\u0444\\u0430\\u043d\\u0442\\u0430\\u0437\\u0438\\u044f\", \"\\u043e\\u043f\\u0430\\u0441\\u043d\\u044b\\u0439\", \"\\u0431\\u0443\\u043d\\u0442\\u0430\\u0440\\u0438\", \"\\u0437\\u0430\\u0441\\u043b\\u0443\\u0436\\u0435\\u043d\\u043d\\u043e\\u0435\", \"\\u0441\\u043f\\u0430\\u0441\\u0435\\u043d\\u0438\\u0435\", \"\\u043f\\u0441\\u0438\\u0445\\u043e\\u043b\\u043e\\u0433\\u0438\\u0447\\u0435\\u0441\\u043a\\u0438\\u0439\", \"\\u0440\\u0430\\u043d\\u0435\\u0435\", \"\\u043c\\u043e\\u0437\\u0433\", \"\\u043c\\u0438\\u0440\", \"\\u0442\\u0432\\u043e\\u0439\", \"\\u0442\\u0438\\u043f\", \"\\u043f\\u0441\\u0438\\u0445\\u043e\\u043b\\u043e\\u0433\", \"\\u0440\\u0435\\u0441\\u0443\\u0440\\u0441\", \"\\u0440\\u0430\\u0441\\u0441\\u043a\\u0430\\u0437\\u044b\\u0432\\u0430\\u0442\\u044c\", \"\\u0437\\u0440\\u0435\\u043d\\u0438\\u0435\", \"\\u0434\\u0440\\u0443\\u0433\\u0438\\u043c\\u0438\", \"\\u0432\\u043e\\u0441\\u043f\\u0440\\u0438\\u044f\\u0442\\u0438\\u0435\", \"\\u0438\\u0441\\u043f\\u043e\\u043b\\u043d\\u0438\\u0442\\u0435\\u043b\\u044c\", \"\\u0430\\u043b\\u0435\\u043a\\u0441\\u0430\\u043d\\u0434\\u0440\", \"\\u0432\\u0437\\u0430\\u0438\\u043c\\u043e\\u0434\\u0435\\u0439\\u0441\\u0442\\u0432\\u043e\\u0432\\u0430\\u0442\\u044c\", \"\\u0432\\u0435\\u0440\\u043e\\u044f\\u0442\\u043d\\u043e\\u0441\\u0442\\u044c\", \"\\u043d\\u0435\\u043e\\u0436\\u0438\\u0434\\u0430\\u043d\\u043d\\u044b\\u0439\", \"\\u0432\\u0438\\u0434\\u0435\\u043d\\u0438\\u0435\", \"\\u0441\\u043c\\u0435\\u0436\\u043d\\u044b\\u0439\", \"\\u043e\\u0431\\u043c\\u0435\\u043d\\u044f\\u0442\\u044c\\u0441\\u044f\", \"\\u0440\\u043e\\u0431\\u043e\\u0442\\u043e\\u0442\\u0435\\u0445\\u043d\\u0438\\u043a\\u0430\", \"\\u043a\\u043e\\u043c\\u043f\\u044c\\u044e\\u0442\\u0435\\u0440\\u043d\\u044b\\u0439\", \"\\u0432\\u044b\\u0448\\u043a\\u0430\", \"\\u043f\\u0430\\u0439\\u043f\", \"\\u043f\\u0441\\u0435\\u0432\\u0434\\u043e\\u043d\\u0438\\u043c\", \"\\u043f\\u043e\\u0441\\u043b\\u0443\\u0448\\u0430\\u0442\\u044c\", \"\\u043e\\u0441\\u043e\\u0437\\u043d\\u0430\\u043d\\u043d\\u043e\", \"\\u043f\\u0440\\u0435\\u0434\\u043f\\u043e\\u0441\\u044b\\u043b\\u043a\\u0430\", \"\\u043f\\u0440\\u0430\\u0432\\u0438\\u043b\\u044c\\u043d\\u043e\\u0441\\u0442\\u044c\", \"\\u043c\\u0435\\u0445\\u0430\\u0442\\u0440\\u043e\\u043d\\u0438\\u043a\\u0430\", \"\\u0434\\u0438\\u0441\\u0446\\u0438\\u043f\\u043b\\u0438\\u043d\\u0430\", \"\\u043f\\u0440\\u043e\\u0446\\u0435\\u0441\\u0441\\u0430\", \"\\u043a\\u043e\\u043d\\u0441\\u0443\\u043b\\u044c\\u0442\\u0438\\u0440\\u043e\\u0432\\u0430\\u0442\\u044c\", \"\\u044f\\u0441\\u043d\\u044b\\u0439\", \"\\u0444\\u0430\\u0437\\u0430\", \"\\u043a\\u043e\\u043d\\u0442\\u0440\\u043e\\u043b\\u0438\\u0440\\u043e\\u0432\\u0430\\u0442\\u044c\", \"\\u043e\\u0447\\u0435\\u0432\\u0438\\u0434\\u043d\\u043e\", \"\\u043f\\u0440\\u043e\\u043a\\u0430\\u0447\\u043a\\u0430\", \"\\u0437\\u0430\\u043c\\u0435\\u0442\\u0438\\u0442\\u044c\", \"\\u0445\\u0443\\u0434\\u043e\\u0436\\u043d\\u0438\\u043a\", \"\\u0440\\u0435\\u0433\\u0443\\u043b\\u044f\\u0440\\u043d\\u043e\", \"\\u043d\", \"\\u0430\\u0432\\u0442\\u043e\\u0440\\u0441\\u043a\\u0438\\u0439\", \"\\u0438\\u0441\\u043a\", \"\\u0438\\u0437\\u043e\\u0431\\u0440\\u0430\\u0436\\u0435\\u043d\\u0438\\u0435\", \"\\u0441\\u043e\\u043d\", \"\\u043a\\u043e\\u043b\\u043b\\u0435\\u043a\\u0442\\u0438\\u0432\", \"\\u043f\\u0440\\u0430\\u0432\\u0438\\u043b\\u043e\", \"\\u043f\\u0440\\u0430\\u0432\\u043e\", \"\\u0443\\u0441\\u043f\\u0435\\u0445\", \"\\u043b\\u0438\\u0446\\u043e\", \"\\u0441\\u0435\\u0441\\u0441\\u0438\\u044f\", \"\\u0438\\u0437\\u0443\\u0447\\u0438\\u0442\\u044c\", \"\\u043c\\u0438\\u0440\", \"\\u043c\\u0430\\u0442\\u0435\\u0440\\u0438\\u0430\\u043b\", \"\\u0432\\u0435\\u0449\\u044c\", \"\\u043b\\u0438\\u0431\\u043e\", \"\\u0442\\u0438\\u043f\", \"\\u0434\\u0430\\u043d\\u043d\\u044b\\u0435\", \"\\u043e\\u0434\\u043d\\u0443\", \"\\u043f\\u043e\\u0434\\u043a\\u0430\\u0441\\u0442\", \"\\u043a\\u043e\\u0442\\u043e\\u0440\\u044b\\u043c\\u0438\", \"\\u043f\\u0435\\u0440\\u0435\\u0439\\u0442\\u0438\", \"\\u043f\\u0440\\u0430\\u0437\\u0434\\u043d\\u0438\\u043a\", \"\\u043f\\u043e\\u0437\\u043d\\u0430\\u043a\\u043e\\u043c\\u0438\\u0442\\u044c\\u0441\\u044f\", \"\\u0437\\u0430\\u043c\\u0435\\u0447\\u0430\\u0442\\u0435\\u043b\\u044c\\u043d\\u044b\\u0439\", \"\\u0441\\u0442\\u0440\\u0430\\u043d\\u0438\\u0447\\u043a\\u0430\", \"\\u043c\\u0443\\u0437\\u044b\\u043a\\u0430\", \"\\u044d\\u043a\\u043e\\u0441\\u0438\\u0441\\u0442\\u0435\\u043c\\u0430\", \"\\u0437\\u0430\\u0432\\u0435\\u0440\\u0448\\u0438\\u0442\\u044c\\u0441\\u044f\", \"\\u0445\\u0438\\u043f\", \"\\u0445\\u043e\\u043f\", \"\\u0432\\u0435\\u043d\\u0447\\u0443\\u0440\\u043d\\u044b\\u0439\", \"\\u0438\\u0433\\u0440\\u043e\\u043a\", \"\\u0441\\u043e\\u0435\\u0434\\u0438\\u043d\\u0438\\u0442\\u044c\", \"\\u0433\\u0440\\u0443\\u0437\\u0438\\u044f\", \"\\u043a\\u0443\\u043b\\u044c\\u0442\\u043e\\u0432\\u044b\\u0439\", \"\\u0431\\u0438\\u043e\\u0438\\u043d\\u0444\\u043e\\u0440\\u043c\\u0430\\u0442\\u0438\\u043a\\u0443\", \"\\u0431\\u0430\\u0440\", \"\\u043f\\u043e\\u0442\\u0440\\u044f\\u0441\\u0430\\u0442\\u044c\", \"\\u0442\\u0435\\u043f\\u043b\\u043e\", \"\\u0432\\u043e\\u043a\\u0430\\u043b\\u0438\\u0441\\u0442\", \"\\u0433\\u0438\\u0442\\u0430\\u0440\\u0430\", \"\\u0434\\u0436\\u0430\\u0437\", \"\\u0437\\u0430\\u0441\\u0442\\u043e\\u043b\\u044c\\u0435\", \"\\u0438\\u043d\\u0434\\u0438\", \"\\u0438\\u0441\\u043f\\u043e\\u043b\\u043d\\u044f\\u0442\\u044c\", \"\\u043a\\u0430\\u0432\\u043a\\u0430\\u0437\", \"\\u043a\\u0430\\u0432\\u043a\\u0430\\u0437\\u0441\\u043a\\u0438\\u0439\", \"\\u043c\\u0435\\u0441\\u0442\\u043d\\u044b\\u0439\", \"\\u0431\\u0430\\u0445\", \"\\u0432\\u0438\\u0434\\u0435\\u043e\\u0444\\u043e\\u0440\\u043c\\u0430\\u0442\\u0435\", \"\\u0433\\u043e\\u0440\\u0434\\u0438\\u043c\\u0441\\u044f\", \"\\u043a\\u043e\\u043b\\u0435\\u0441\\u0430\\u0445\", \"\\u043b\\u044e\\u0431\\u043e\\u0432\\u0430\\u0442\\u044c\\u0441\\u044f\", \"\\u0441\\u0435\\u0440\\u043a\\u0435\\u0431\\u0430\\u0439\", \"\\u0441\\u0442\\u0430\\u0440\\u043e\\u0436\\u0438\\u043b\", \"\\u043f\\u0440\\u043e\\u0433\\u0440\\u0435\\u0441\\u0441\", \"\\u0441\\u043e\\u0441\\u0442\\u0430\\u0432\\u043b\\u044f\\u044e\\u0449\\u0435\\u0439\", \"\\u043a\\u043e\\u043c\\u0430\\u043d\\u0434\\u043d\\u044b\\u0439\", \"\\u043c\\u0435\\u043d\\u044c\\u0448\\u0435\", \"\\u0444\\u043e\\u0442\\u043e\\u0433\\u0440\\u0430\\u0444\\u0438\\u044f\", \"\\u0440\\u0435\\u0431\\u044f\\u0442\\u0430\\u043c\\u0438\", \"\\u0440\\u043e\\u043a\", \"\\u0441\\u0442\\u043e\\u043b\", \"\\u043c\\u043e\\u0437\\u0433\", \"\\u0441\\u0442\\u0440\\u043e\\u043a\\u0430\", \"\\u043f\\u0440\\u043e\\u0441\\u043c\\u043e\\u0442\\u0440\", \"\\u0441\\u0442\\u043e\\u0438\\u0442\\u044c\", \"\\u043b\\u0438\\u0448\\u044c\", \"\\u043c\\u0438\\u0440\", \"\\u043e\\u0431\\u0441\\u0443\\u0434\\u0438\\u0442\\u044c\", \"\\u0438\\u043c\\u0435\\u043d\\u043d\\u043e\", \"\\u0432\\u0438\\u0434\", \"\\u0442\\u0438\\u043f\", \"\\u043e\\u0441\\u043d\\u043e\\u0432\\u043d\\u044b\\u0439\", \"\\u043b\\u0438\\u0431\\u043e\", \"\\u0432\\u043c\\u0435\\u0441\\u0442\\u0435\", \"\\u043e\\u0434\\u043d\\u0430\\u043a\\u043e\", \"\\u0441\\u0442\\u0430\\u0436\\u0438\\u0440\\u043e\\u0432\\u043a\\u0430\", \"\\u0436\\u0438\\u0432\\u043e\\u0439\", \"\\u0440\\u0430\\u0437\\u0434\\u0435\\u043b\", \"\\u0432\\u044b\\u0440\\u0430\\u0437\\u0438\\u0442\\u044c\", \"\\u0431\\u043b\\u0430\\u0433\\u043e\\u0434\\u0430\\u0440\\u043d\\u043e\\u0441\\u0442\\u044c\", \"\\u0432\\u043a\\u043b\\u0430\\u0434\", \"\\u043f\\u043e\\u043b\\u044c\\u0448\\u0430\", \"\\u0442\\u0435\\u043b\\u0435\\u0433\\u0440\\u0430\\u043c\\u043c\\u0430\", \"\\u043e\\u0442\\u043a\\u043b\\u0438\\u043a\\u0430\\u0442\\u044c\\u0441\\u044f\", \"\\u043e\\u0431\\u044a\\u044f\\u0432\\u043b\\u0435\\u043d\\u0438\\u0435\", \"\\u043d\\u0435\\u043e\\u0442\\u044a\\u0435\\u043c\\u043b\\u0435\\u043c\\u044b\\u0439\", \"\\u0441\\u0435\\u0440\\u0432\\u0435\\u0440\\u043d\\u044b\\u0439\", \"\\u0440\\u0435\\u043b\\u043e\\u043a\\u0430\\u0446\\u0438\\u0435\\u0439\", \"\\u0432\\u0430\\u043b\\u0435\\u043d\\u0442\\u0438\\u043d\", \"\\u0444\\u043e\\u0442\\u043e\\u0433\\u0440\\u0430\\u0444\", \"\\u0434\\u0435\\u043b\\u0435\\u043d\\u0434\\u0438\\u043a\", \"\\u043f\\u043e\\u0434\\u0440\\u0443\\u0433\\u0430\", \"\\u0432\\u043a\\u043b\\u0430\\u0434\\u043a\\u0430\", \"\\u0432\\u0430\\u0440\\u0448\\u0430\\u0432\\u0430\", \"\\u0430\\u043d\\u0442\\u043e\\u043d\", \"\\u0437\\u043c\\u0443\\u0448\\u0435\\u043d\\u0430\", \"\\u0437\\u043d\\u0430\\u0445\\u043e\\u0434\\u0438\\u0442\\u044c\\u0441\\u044f\", \"\\u043f\\u043e\\u043a\\u0438\\u043d\\u0443\\u0442\\u0438\", \"\\u0442\\u0438\\u043c\\u0447\\u0430\\u0441\\u043e\\u0432\\u043e\", \"\\u0445\\u043e\\u0440\\u043e\\u0448\\u0430\", \"\\u0437\\u0430\\u043f\\u043e\\u043b\\u043d\\u044f\\u0442\\u044c\", \"\\u0432\\u0440\\u0435\\u043c\\u0435\\u043d\\u043d\\u043e\", \"\\u0431\\u0430\\u0434\\u0434\\u0438\", \"\\u0432\\u044b\\u0431\\u0440\\u0430\\u043d\\u043d\\u044b\\u043c\", \"\\u043e\\u043f\\u043b\\u0430\\u0447\\u0438\\u0432\\u0430\\u0435\\u043c\\u0443\\u044e\", \"\\u0432\\u044b\\u043d\\u0443\\u0434\\u0438\\u0442\\u044c\", \"\\u0431\\u0443\\u043b\\u0430\", \"\\u043f\\u0435\\u0440\\u0435\\u0440\\u0430\\u0445\\u043e\\u0432\\u0430\\u043d\\u043e\", \"\\u043f\\u043e\\u043a\\u0438\\u043d\\u0443\\u0442\\u044c\", \"\\u043b\\u0438\\u0442\\u043a\\u043e\\u0434\\u0435\", \"\\u043f\\u0440\\u0430\\u043a\\u0442\\u0438\\u043a\\u0443\\u043c\", \"\\u0442\\u0435\\u0441\\u0442\\u043e\\u0432\\u044b\\u0439\", \"\\u0430\\u0440\\u043c\\u0438\\u044f\", \"\\u0430\\u043a\\u0430\\u0434\\u0435\\u043c\\u0438\\u044f\", \"\\u043b\\u0435\\u0442\\u043d\\u0438\\u0439\", \"\\u0431\\u0443\\u0434\\u0435\", \"\\u0432\\u0443\\u0437\", \"\\u0441\\u0440\\u043e\\u043a\", \"\\u0432\\u0438\\u0434\", \"\\u0441\\u0442\\u0443\\u0434\\u0435\\u043d\\u0442\", \"\\u043e\\u0441\\u043d\\u043e\\u0432\\u043d\\u044b\\u0439\", \"\\u043b\\u0438\\u0431\\u043e\", \"\\u0430\\u0439\\u0442\\u0438\", \"\\u043c\\u0435\\u0442\\u043e\\u0434\", \"\\u044d\\u043f\\u0438\\u0437\\u043e\\u0434\", \"\\u0430\\u0440\\u043c\\u0438\\u044f\", \"\\u0433\\u043e\\u0448\\u043a\\u0438\", \"\\u043f\\u0438\\u0442\\u043e\\u043d\", \"\\u0430\\u043d\\u0438\\u043c\\u0430\\u0446\\u0438\\u0438\", \"\\u0432\\u043e\\u0435\\u043d\\u043d\\u044b\\u0439\", \"\\u0430\\u0439\\u0442\\u0438\\u0448\\u043a\\u0435\", \"\\u0430\\u0439\\u0444\\u043e\\u043d\\u0430\\u0445\", \"\\u0431\\u044d\\u043a\\u044d\\u043d\\u0434\\u0435\", \"\\u0432\\u0437\\u0432\\u043e\\u0434\", \"\\u0432\\u0437\\u043e\\u0440\", \"\\u0433\\u043e\\u0448\\u0435\\u0447\\u043a\\u043e\\u0439\", \"\\u0433\\u043e\\u0448\\u043a\\u0430\", \"\\u0433\\u0440\\u0435\\u0441\\u0442\\u0438\", \"\\u0434\\u0430\\u0433\\u0435\\u0441\\u0442\\u0430\\u043d\", \"\\u0434\\u0435\\u0432\\u0430\\u0442\\u044c\\u0441\\u044f\", \"\\u043a\\u043e\\u0437\\u044b\\u0440\\u0435\\u0432\", \"\\u043b\\u043e\\u043f\\u0430\\u0442\\u0430\", \"\\u043c\\u0430\\u0441\\u043a\\u043e\\u0442\", \"\\u043c\\u0430\\u0445\\u0430\\u0447\\u043a\\u0430\\u043b\\u0430\", \"\\u043c\\u043b\\u0430\\u0434\\u0448\\u0435\\u043c\\u0443\", \"\\u043d\\u044f\\u0448\\u043d\\u043e\\u0433\\u043e\", \"\\u043e\\u043b\\u0435\\u0433\", \"\\u0440\\u0435\\u0441\\u043f\", \"\\u0441\\u043a\\u0438\\u043b\\u043e\\u0432\", \"\\u0441\\u043f\\u0440\\u043e\\u0441\\u0438\\u0448\\u044c\", \"\\u0443\\u0432\\u043e\\u043b\\u0438\\u0442\\u044c\\u0441\\u044f\", \"\\u0448\\u0435\\u043c\\u0443\", \"\\u043e\\u0442\\u0440\\u0430\\u0431\\u043e\\u0442\\u0430\\u0442\\u044c\", \"\\u0430\\u043a\\u0430\\u0434\\u0435\\u043c\\u0438\\u044f\", \"\\u043f\\u043e\\u0434\\u0435\\u043b\\u0438\\u0441\\u044c\", \"\\u0441\\u0435\\u043d\\u0442\\u044f\\u0431\\u0440\\u044c\", \"\\u043a\\u043e\\u0440\\u043e\\u0431\\u043a\\u0430\", \"\\u0443\\u0447\\u0438\\u0442\\u044c\", \"\\u043c\\u0430\\u043a\\u0441\\u0438\\u043c\", \"\\u043f\\u0440\\u0438\\u0439\\u0442\\u0438\\u0441\\u044c\", \"\\u043a\\u0440\\u0430\\u0441\\u0438\\u0432\\u044b\\u0439\", \"\\u0441\\u0442\\u043e\\u043b\", \"\\u0432\\u044b\\u0431\\u043e\\u0440\", \"\\u0442\\u0435\\u0431\\u0435\", \"\\u043a\\u0440\\u0443\\u0433\", \"\\u0432\\u0437\\u0433\\u043b\\u044f\\u0434\", \"\\u043e\\u0441\\u043e\\u0431\\u043e\", \"\\u043b\\u0438\\u0431\\u043e\", \"\\u043f\\u0440\\u0438\\u043a\\u043e\\u043b\\u044c\\u043d\\u044b\\u0439\", \"\\u0438\\u043c\\u0435\\u043d\\u043d\\u043e\", \"\\u043c\\u0438\", \"\\u043c\\u0430\\u0442\\u0435\\u0440\\u0438\\u0430\\u043b\", \"\\u043d\\u0430\\u0437\\u0432\\u0430\\u043d\\u0438\\u0435\", \"\\u0441\\u0430\\u043c\\u043e\\u043c\\u0443\", \"\\u043d\\u0440\\u0430\\u0432\\u0438\\u0442\\u044c\\u0441\\u044f\"], \"Freq\": [1798.0, 1058.0, 710.0, 948.0, 732.0, 1139.0, 624.0, 569.0, 404.0, 793.0, 880.0, 142.0, 214.0, 193.0, 332.0, 330.0, 618.0, 536.0, 453.0, 320.0, 290.0, 680.0, 1135.0, 142.0, 282.0, 464.0, 290.0, 273.0, 271.0, 377.0, 1057.847776215399, 368.71451054757983, 368.34625189732196, 376.30295319558445, 353.9326225447097, 287.48484372541145, 283.10861259122044, 234.3586359490268, 263.2478437847671, 223.63191788687433, 213.55229867991542, 207.38548687561598, 205.8496342369145, 202.95885912648188, 282.07682484139883, 195.02085907992438, 187.98723339776032, 183.08406931822228, 178.43638368990614, 177.56234208434986, 175.46922374146422, 174.65450479707133, 174.34519359806933, 158.9407138713318, 154.13638798058295, 150.9397772997651, 149.08761283510344, 141.75958561078772, 138.03852034480133, 137.57333905107146, 306.4493940459868, 267.35238345015466, 546.908291410458, 225.75637613098044, 240.46754694023338, 649.1466718771047, 286.4536089165062, 513.1858862689819, 349.4785254807693, 322.36279664251174, 212.56723443752145, 277.57442443884133, 350.368799851797, 256.3833982751019, 254.9930678368375, 568.1521119197422, 452.3118481166479, 354.0788292302381, 343.73375384734936, 292.66173196552376, 244.8882182503008, 226.59702830554957, 224.72635031282474, 224.44687515491367, 213.97986599662687, 213.97372474991553, 206.919815159801, 201.10808411190874, 199.0015008787927, 355.17848047891044, 176.97780841782546, 174.36868909735242, 164.96986940647858, 160.69508705644395, 159.09574755406305, 140.517255752122, 135.10350461334983, 226.5440237282555, 133.14885427403095, 123.69770806149361, 118.29842856718004, 110.11934377715598, 110.10301232296777, 109.59417031824626, 104.88335945170643, 372.5654929267793, 995.2987970928649, 157.4930080870202, 275.5963503627706, 175.23917691590344, 260.8216344103295, 287.9424841496376, 260.0519831505562, 166.60617262723562, 216.83798671767047, 220.27894468575096, 218.7978387123269, 183.86586560069776, 172.82863103010308, 327.3217479903863, 307.2531826330695, 316.2484495810733, 286.16264048905936, 259.11937144334547, 243.06426006478554, 239.30930503839525, 229.23945109024226, 302.3732794617069, 190.34299659614456, 185.41397376584408, 183.28586904049675, 169.18248142883422, 168.6184150157561, 157.6919897844322, 150.72855842802213, 136.97603451933347, 133.51274770950468, 129.66821677761172, 128.66900056548118, 125.09481667951182, 304.6526835321124, 115.98327288319804, 110.45749117817469, 109.79167690015379, 108.95832500154671, 108.5595471404221, 104.70036127731855, 104.62244454360771, 100.73144785376343, 185.01016698725678, 255.38557565465152, 146.2315007155902, 211.94584058958287, 435.50436022424446, 479.760561180626, 425.18844017512635, 249.718444484201, 248.94951490750864, 637.7451817829945, 256.2006381271376, 200.8967421587576, 326.5617067329303, 235.03011910254907, 565.3084387398196, 379.95132142900985, 294.07725694788024, 282.55094213829676, 209.62210287828984, 210.9352350938964, 709.2633710873881, 331.25627548597413, 329.4943531333082, 319.41840849538863, 289.9490850036795, 270.5588964040218, 256.5599952679936, 239.94174147740827, 238.478910950046, 402.69931055426576, 178.88164150153543, 158.49890983706257, 121.4973853390649, 107.4580779843247, 102.54030124000326, 79.02261684887699, 78.71008745315227, 187.61941754251575, 73.00249729322147, 71.60440692298408, 70.55059447752197, 68.88500679876306, 63.04000469275797, 62.803370342743484, 62.01061419271935, 61.69530707572462, 59.503162452057715, 57.14646672044275, 54.89168860746563, 54.57184912942834, 228.47988443933409, 676.4354800561321, 1487.096700377138, 135.29762164968642, 105.7523811105144, 141.60006769513865, 403.387613383661, 108.17377299574902, 102.02663732213865, 80.50084310264477, 89.9139409389664, 289.9703537001157, 282.0540471069183, 212.42165088288235, 193.97746976686184, 193.56357663413124, 190.9087963103996, 176.99158640231948, 165.33054566495863, 151.11912055512033, 143.64684449397635, 134.76704060790567, 126.44438914137731, 125.35939640052635, 121.488437554953, 107.5726742420404, 105.71581170277952, 102.28500725605437, 97.87822399661331, 89.372040404732, 87.18613310314167, 86.81647239957104, 84.04370183922907, 82.924371009242, 82.70962581123655, 82.05862089368003, 80.7516407059402, 80.71688532973654, 77.80765262526089, 73.43246263335608, 70.08775378171174, 265.69433544289046, 120.23882042943191, 209.60214417097515, 171.5367171248905, 184.5196862000553, 549.476080832095, 129.36868127246842, 117.52171596390068, 138.1203594827104, 101.42126011841663, 91.19951666139166, 136.39563897769196, 134.48218079520797, 131.92028212588093, 127.21943027565935, 124.88277202009915, 98.13986112059696, 97.04411541467141, 88.93295487020389, 70.96616620547294, 68.01684330511358, 60.30584292346219, 60.044799869267955, 56.21890184287499, 55.21494730021591, 64.26134463231556, 49.043534152498324, 48.85897368496566, 46.80077408311149, 45.592692903127784, 41.28341903338932, 40.9254964728514, 40.13045877857713, 39.93315232986685, 39.125844325723044, 37.13536423910847, 33.85481666782632, 33.02836456843151, 31.46066248035217, 31.447708811702018, 31.3360734454142, 32.68535195854314, 214.01597653188276, 162.67428120743097, 149.49272164816324, 126.26340009935836, 119.07393079317778, 114.67041790334426, 93.12977561939181, 89.6901690688382, 67.59879906323324, 66.48848852739441, 62.77453809148787, 61.96471036229619, 56.596084216867034, 55.98447937387655, 54.33589400021886, 54.33019066469431, 51.79377075594989, 48.617206368944935, 45.36385193135238, 42.19480453400945, 40.191080754787606, 37.07553779433228, 32.7714839919729, 31.601545886742535, 30.732487427491396, 29.87272353573685, 27.62441554140348, 27.472040716712034, 27.2070881489408, 26.35519709038159, 192.45667578010926, 91.20184601218007, 89.64708721486917, 74.69974879877722, 71.71594371718346, 69.04459589285818, 68.2426450764419, 64.73506657557837, 61.97972004761948, 55.58052728243116, 49.475694292706315, 45.2777677542725, 43.60625164507701, 42.447924192942146, 42.18496916079592, 33.561162152677824, 33.074501863600425, 31.671046088137604, 31.315142074359528, 29.366351965164196, 25.52350973683041, 25.456737118299007, 24.65935251906829, 23.97310053831568, 23.9050282094479, 23.297256086544518, 19.123108339492163, 18.589280626910025, 18.569823126239765, 15.619065887678273, 22.716711418244685, 54.09897565444577, 74.72181515070488, 65.25672756531456, 64.63946105208376, 47.81635665016176, 45.89193464998496, 43.3649734271527, 30.801336565127407, 30.607409164488008, 25.91585072739437, 25.040897297239123, 23.49469717061391, 22.99369545888209, 21.954328855849443, 20.28529331124709, 19.895749426384267, 18.30189436852879, 17.44032211337991, 17.16136440149802, 15.076160893709964, 14.386219051407476, 12.950226884023273, 11.502964218310334, 10.64215245745571, 10.463937872083138, 6.944234039996133, 6.214260510070743, 5.858114660729343, 5.5656093733515615, 4.90471407515418, 4.422531547094323, 9.587719662647073, 107.2799164673847, 75.81155899944058, 51.28301830002378, 34.469418428377175, 33.11039603999416, 29.56739126549807, 29.09290223571749, 27.400018229987, 26.964066153431272, 24.56229043715475, 22.10334679777109, 21.81782396393013, 21.336527413829216, 20.39585271512218, 19.567095280395527, 18.67980026892709, 17.000746873123333, 10.153264739162925, 10.072461746953657, 9.820091891973373, 9.291734857943377, 8.8598647961308, 8.176107281337856, 7.864456529912924, 7.354765298607177, 7.078845813571077, 6.201687816335196, 4.468409872569555, 4.049454251217929, 3.265232905213712, 141.39464961823134, 55.64146709629612, 34.706515226696304, 28.196219439207322, 26.8949694741292, 23.6796661057791, 20.747081699170515, 19.600957790263028, 17.51876564190945, 16.676073118697673, 15.036990575633205, 12.671953292083895, 12.082203846865292, 11.601873072583931, 8.402948070035869, 8.13174138454565, 8.004219977265484, 7.441423810479982, 6.3417064980313045, 5.803902138188651, 4.2023761752155435, 3.1117146995814986, 3.069190565453306, 2.7218694808489303, 2.4599173553637264, 1.0930338651499159, 0.9635190487238953, 0.6146841455303504, 0.041566127676541754, 0.041566439824410245, 0.04156668214972921, 0.041569195761512315, 0.041568834327138274, 0.04156912593896279, 35.02175326606213, 33.69329687837692, 32.42093958523802, 31.83536444028785, 28.965298460630986, 25.248315003376188, 23.995112899004326, 23.741020856521963, 23.146681444454643, 22.916452464941106, 20.817932904621262, 17.69849914615014, 16.885484303986583, 13.817099635750456, 13.213884303326644, 9.951884723346454, 9.17081295104982, 8.698978653710084, 8.102909640774682, 7.805643646626363, 5.964970853089718, 5.259187679551549, 4.8057510703321595, 4.699754757730997, 4.420608855117151, 4.270715149563044, 2.4788770757096716, 1.9101760387251827, 1.7268607541818712, 0.4487289590923426, 4.716945771393185, 59.872561049910374, 25.675783670124602, 21.344750400230392, 20.432570741349288, 18.70880568896954, 18.345766694203814, 10.287780012352153, 9.887730816563614, 9.542554415741424, 5.748137163188768, 5.736501740297121, 5.035694048345516, 4.239306831989727, 3.786125207302919, 2.379383115724699, 2.181630725707978, 1.260774868397437, 1.2488966340064844, 0.28111804439598637, 0.031189158445701706, 0.031184644889953685, 0.031180118619964118, 0.031179849078043394, 0.031179701592841485, 0.031179627850240532, 0.031179009938101507, 0.031178976881073493, 0.031178651396489974, 0.031178608168068726, 0.031178468311411744, 0.031181260358854747, 0.03117876073896725, 0.03117952867915649, 0.031178775996057104, 0.031178872624292836, 141.78974439004887, 12.219905922756006, 11.184853768864295, 11.00611955009438, 7.040035404584345, 5.932806294497392, 3.9575475512564573, 3.062575225313422, 3.0111220350223644, 1.57440493714681, 1.357955852460213, 1.3285614702703517, 1.2073898665842275, 1.138104740327023, 0.9088756649444316, 0.7535110049794063, 0.029444740397305512, 0.029436330705163577, 0.02943620458357797, 0.029436330705163577, 0.029436283112112407, 0.029435438335454117, 0.029435431196496442, 0.029435431196496442, 0.029435431196496442, 0.029435431196496442, 0.029435431196496442, 0.029435512104683433, 0.029435431196496442, 0.029435450233716912, 0.02943691847934554, 0.029435819079863486, 0.029436385437172422, 0.029435740551329054, 0.02943573103271882, 0.029436747144361324, 0.02943573103271882, 0.029435821459516044, 0.029437301603407465, 0.02943640685404545, 0.029436380677867306, 0.02943598089623747, 0.029436939896218567, 0.029436830432200873, 0.02943787509967408, 0.029437446762213538, 0.02943747531804424, 0.029436756662971558, 0.02943659008729246, 0.029436830432200873, 0.029437023184058116, 0.02943665195825898, 23.888172221495307, 18.70613712766343, 16.00245099197826, 15.636677896957869, 12.854939603110521, 10.93198897565543, 10.892113515927997, 10.517139276465166, 9.673348325371034, 8.752597852017264, 7.148359916188641, 6.71189385334544, 6.281675942650186, 5.628170984412558, 4.063939337083907, 3.452063806733051, 2.5035517553818507, 1.503184354239159, 1.49715688578995, 0.7513142019199004, 0.3059179252077241, 0.028993668745425787, 0.02899423033871451, 0.028994870555063654, 0.028993767585844602, 0.028993767585844602, 0.028993855194397643, 0.02899382149880032, 0.028992817370000083, 0.028992644399267156, 0.028993895629114433, 0.028993268891004217, 0.028996894537276212, 0.028994888526048895, 0.02899462570038977, 0.028994196643117188, 23.9304354887498, 22.628012302885498, 16.38053798278537, 14.749129430894065, 14.671992475333447, 11.895278584112045, 10.599955087922616, 8.110026485424727, 7.866656881607863, 6.5415166057903935, 6.180383605853591, 5.019126517771785, 4.9362385429383195, 3.1852034338303024, 3.0235321332130103, 2.303044297754283, 2.089037030277819, 1.7845931523032124, 1.7431443723704185, 1.119898026868796, 0.33268141784337824, 0.3017016778106657, 0.24532338223018713, 0.21514298806558513, 0.02872070081124266, 0.02872021847621633, 0.028720264727520223, 0.028720207464001116, 0.028719725128974787, 0.028719725128974787, 0.028720002636798154, 0.02872082635049609, 0.028720577474432275, 0.02872125142200331, 0.028721976025764328, 0.02872092766287605, 0.028720980521509072, 0.028720846172483473, 0.0287208681969139, 35.397632013099695, 21.725900678407882, 13.730823797145607, 6.48690598834712, 6.435454683710514, 5.218689763914553, 4.298259469279983, 3.964069327390985, 2.4203716816306344, 2.2786774611721543, 2.2058271256435398, 0.4431143203225006, 0.022892653259883104, 0.022892839092104468, 0.02289179481369238, 0.022891710942512827, 0.022891710942512827, 0.02289175863396787, 0.02289150702042921, 0.02289150702042921, 0.02289151359856094, 0.02289154977828545, 0.02289150702042921, 0.02289151524309387, 0.022891518532159736, 0.02289150702042921, 0.022892026692835854, 0.022891577735345302, 0.02289150702042921, 0.022891789880093584, 0.022892108919482474, 0.02289305123685275, 0.02289197242324908, 0.022892321064230756, 0.022891967489650285, 0.022891967489650285, 0.022893565975660595, 0.022892505251919187, 0.02289200531390773, 0.02289252663084731, 0.022892293107170905, 0.022892788111583563, 0.022892210880524285, 0.022892215814123082, 0.022892023403769987, 0.022893001900864778, 0.022892347376757674, 0.022892225681320676, 0.022892355599422338, 0.022892062872560365, 0.02289208589602142, 17.521076597870504, 16.896371999988958, 11.158860435337253, 8.345114746001038, 5.085124700571477, 4.544296440325317, 4.202984659293047, 3.9694214298541906, 3.4088943597012795, 1.2125881173501192, 0.7960407446884216, 0.0191667129412386, 0.0191667129412386, 0.01916710660807352, 0.019166818722462946, 0.019166518785826817, 0.019166727670269838, 0.019166445140670625, 0.019166443801667786, 0.01916677855237775, 0.019166443801667786, 0.019166435767650748, 0.019166372834517272, 0.019166372834517272, 0.019166372834517272, 0.019166372834517272, 0.019166372834517272, 0.019166372834517272, 0.019166372834517272, 0.019166372834517272, 0.019166575023946093, 0.01916641032659679, 0.01916641032659679, 0.01916641032659679, 0.01916641032659679, 0.01916641032659679, 0.01916641032659679, 0.01916641032659679, 0.019167190965252427, 0.019166493344772863, 0.019166892367619138, 0.019166822739471467, 0.019166751772320953, 0.019166660720127845, 0.019166639296082404, 0.019166844163516904, 0.01916736503562161, 0.019166659381125006, 0.019166755789329474, 0.019167241847360343, 0.019166824078474306, 0.019167726566388373, 0.01916688165559642, 0.01916708384502524, 0.019167114642090557, 0.01916690174063902, 0.01916699948784633, 0.019167023589897445, 0.01916679729841751, 0.019166759806337995, 5.782240844295214, 4.388817694900334, 3.5669567718794095, 3.1373029075609256, 2.8032780040061493, 2.7921208938100457, 2.107633356080794, 1.4685079595856194, 1.3023584316396273, 1.0007112479721272, 0.9466476711808423, 0.7333786823653279, 0.45927474699777676, 0.08661514570357015, 0.013211333933396012, 0.013211027955884101, 0.013211338976981374, 0.013211127986993764, 0.01321137091968866, 0.013211034680664582, 0.013211022071701179, 0.013211022071701179, 0.013211022071701179, 0.013211022071701179, 0.013211022071701179, 0.013210938852542719, 0.013211022071701179, 0.01321090186625007, 0.01321090186625007, 0.01321090186625007, 0.013211022071701179, 0.013211022071701179, 0.013211022071701179, 0.013211088478908435, 0.013211248192444873, 0.013211213727944903, 0.013211357470127697, 0.013211307034274086, 0.013211170857469335, 0.013211094363091357, 0.013211174219859574, 0.013211094363091357, 0.013211233902286349, 0.013211286859932642, 0.013211121262213282, 0.013211179263444936, 0.013211163292091292, 4.157009284645994, 3.658617369223935, 0.6066606340225051, 0.006265703717567338, 0.006265285875003806, 0.006265285875003806, 0.006265285875003806, 0.006265494984672661, 0.006265076765334951, 0.006265076765334951, 0.006265076765334951, 0.006265076765334951, 0.006265076765334951, 0.006265076765334951, 0.006265076765334951, 0.006265076765334951, 0.006265076765334951, 0.006265076765334951, 0.006265076765334951, 0.006265076765334951, 0.006265076765334951, 0.006265076765334951, 0.006265076765334951, 0.006265076765334951, 0.006265076765334951, 0.006265076765334951, 0.006265076765334951, 0.006265076765334951, 0.006265076765334951, 0.006265076765334951, 0.00626513516533256, 0.006265285875003806, 0.006265080533076733, 0.006265285875003806, 0.006265096357592214, 0.0062652922801648345, 0.006265107284043379, 0.006265322422099083, 0.006265285875003806, 0.006265166437589343, 0.006265416238869435, 0.006265196956297771, 0.006265112558881873, 0.006265145715009547, 0.006265098995011461, 0.006265224837586952, 0.006265083924044336, 0.006265136295655094, 0.00626510502339831, 0.006265096357592214, 0.00626508317049598, 0.006265078649205842, 0.006265080533076733], \"Total\": [1798.0, 1058.0, 710.0, 948.0, 732.0, 1139.0, 624.0, 569.0, 404.0, 793.0, 880.0, 142.0, 214.0, 193.0, 332.0, 330.0, 618.0, 536.0, 453.0, 320.0, 290.0, 680.0, 1135.0, 142.0, 282.0, 464.0, 290.0, 273.0, 271.0, 377.0, 1058.7314863764, 369.5975566285741, 369.2292990756161, 377.2092119190805, 354.815668625704, 288.36788980640574, 283.9916586722147, 235.24652436576915, 264.2564543138787, 224.51496540069232, 214.4353447609097, 208.26853295661024, 206.73268031790877, 203.84190641789579, 283.34712283510856, 195.90390516091864, 188.87027979502986, 183.96711539921654, 179.3194297709004, 178.44538816534413, 176.35226982245848, 175.53755638393662, 175.2282396790636, 159.82375995232607, 155.01943406157721, 151.82282338075936, 149.97065893915038, 142.6426319906204, 138.92156643995256, 138.45638513206572, 325.334958585531, 283.08323581492084, 618.9365781222263, 238.93630520913092, 256.7257782844578, 793.6908173378238, 321.94794829832836, 680.2773311346222, 461.79758327252847, 430.92856541384, 244.73063307668292, 514.1893682945298, 1135.1872984959496, 523.5363540796445, 644.4218127488189, 569.0298611685655, 453.18950384419253, 354.95647867424674, 344.611403291358, 293.53938193665783, 245.7658677181089, 227.47467775834357, 225.6039997568333, 225.3245246054648, 214.85751999031427, 214.8540371526832, 207.79746460380957, 201.9857335559173, 199.87915032280128, 356.83567583929056, 177.85545786183403, 175.2463395606059, 165.84751885048715, 161.57273650045252, 159.97339699807162, 141.39490519613057, 135.98120159983029, 228.02790178843088, 134.02650371803952, 124.5753575055022, 119.17607801118862, 110.99699333091291, 110.98066176697635, 110.47182077945376, 105.76101120546932, 375.7063005803264, 1139.1346661395162, 165.01106933128847, 321.3037681054353, 202.85082396608283, 435.50428082507744, 644.2846749050152, 523.5363540796445, 220.40964581910893, 514.1893682945298, 624.4663628793032, 1135.1872984959496, 385.22189869348716, 1798.0235875001222, 328.20743991683923, 308.1388765399348, 317.21601008607513, 287.0483323940262, 260.00506335485494, 243.94995196975236, 240.1949973284065, 230.1251430196826, 303.74046996305543, 191.2286938892582, 186.29976671441116, 184.17156096047762, 170.0681733445441, 169.50410692072293, 158.57768168939901, 151.61678703483292, 137.86303461071577, 134.3984396144715, 130.55390869203802, 129.55469247581954, 125.98050858447863, 306.83282109457474, 116.86896478816485, 111.34318310413434, 110.6773688051206, 109.84401690651352, 109.4452390453889, 105.58605318228535, 105.50813644857452, 101.61713975873023, 187.34711303306906, 259.7004675264106, 148.21504926541314, 216.8114900195513, 464.0118249534774, 536.334819747841, 481.2520432020553, 277.111020964846, 276.70190899465314, 880.8201204749296, 297.17657859900356, 224.49458196011736, 417.2834949427459, 275.05595269742594, 1135.1872984959496, 948.1312025209037, 644.4218127488189, 644.2846749050152, 309.9380151302863, 328.65682296859745, 710.1570522263604, 332.14586719651896, 330.3839448154746, 320.30809413766843, 290.8445233066796, 271.44848809497364, 257.44958695016, 240.83142641046882, 239.38846385024553, 404.51177800908215, 179.77123318370184, 159.39110702777876, 122.3869770212313, 108.3476696664911, 103.42989292216966, 79.91220854947134, 79.59969897280683, 189.83835760290367, 73.89208900327529, 72.49399862103648, 71.44018615968837, 69.77459848092946, 63.92988453910786, 63.69296202490986, 62.900216441142916, 62.58489878286152, 60.392754153326095, 58.03605840260913, 55.78128028963201, 55.46144081159471, 238.11864629378042, 732.111746123216, 1798.0235875001222, 144.01120317565795, 111.96762100252306, 170.37258341562014, 624.4663628793032, 173.6943153165593, 235.08242076693946, 171.11869614154838, 417.2834949427459, 290.8557808371412, 282.9394742439438, 213.30709869894025, 194.8628969038874, 194.44900377115678, 191.79422346225613, 177.87701353934503, 166.21597280198418, 152.00454769214588, 144.5322716310019, 135.65246774493122, 127.32981627840282, 126.25536124367237, 122.3738646919785, 108.45810137906591, 106.60123884944754, 103.17043440723681, 98.76365113363882, 90.25746756018546, 88.07156024016717, 87.70189953659654, 84.92912897625457, 83.8097981462675, 83.59505298152101, 82.9507273687524, 81.6370678429657, 81.60231246676204, 78.69307976228639, 74.31788977038158, 70.97318091873724, 273.92046924947044, 122.83013372666484, 221.35055679410777, 182.81870413928536, 228.0528423586894, 948.1312025209037, 214.9387499276838, 418.61241494218365, 1139.1346661395162, 328.65682296859745, 1798.0235875001222, 137.29371176605693, 135.380253579976, 132.81835489581795, 128.11750304559638, 125.78084479003614, 99.03793389053395, 97.94218818997992, 89.83102764014087, 71.86423897540993, 68.914916102938, 61.20391571719863, 60.94287263920493, 57.116999910765976, 56.11302010870717, 65.42078386893218, 49.9416069224353, 49.757046454902635, 47.698846853048465, 46.49076567306476, 42.1814918215712, 41.82356924278837, 41.0285315485141, 40.831225099803824, 40.02391709566002, 38.033437028147446, 34.7528894568653, 33.92643733836849, 32.35873525028914, 32.345781581638995, 32.234146250856504, 46.288404493604425, 214.91812166433638, 163.5764263398846, 150.3948667947738, 127.16554525969939, 119.97607592563136, 115.57256303579784, 94.03192079157073, 90.59231423455074, 68.50094421411478, 67.39063367895, 63.67668323340092, 62.86685549474976, 57.4982293493206, 56.88662450633012, 55.23803913267243, 55.232335797147876, 52.69591590683142, 49.5193515013985, 46.2659970822339, 43.096949706264546, 41.093225887241175, 37.97768305916913, 33.67362912442647, 32.503691019196104, 31.63463255994498, 30.774868668190432, 28.526560673857063, 28.37418585880814, 28.10923330049639, 27.257342256094123, 193.36604080048374, 92.11121103255451, 90.55645223524361, 75.60911381915166, 72.62530874720042, 69.95396091323262, 69.15201009681634, 65.64443159595281, 62.8890850679939, 56.49049750775323, 50.38505931308074, 46.187132774646926, 44.51561671584363, 43.357289957564795, 43.094334181170346, 34.47052717305225, 33.983866892760275, 32.58041110851203, 32.22450713983081, 30.275717014633432, 26.4328748023017, 26.366102171932393, 25.568717539442723, 24.882465558690114, 24.814393229822333, 24.206621125346903, 20.03247360775722, 19.49864564728446, 19.4791881466142, 16.52843090805271, 28.300009737843386, 166.10545742402823, 75.64236627843547, 66.17727867771715, 65.56001214001282, 48.73690775719282, 46.812485771172966, 44.28552456933356, 31.721891281955383, 31.527960286429565, 26.83640182478291, 25.961448385168183, 24.415248283016496, 23.91424654681115, 22.874879983580026, 21.205844431871338, 20.816300514313326, 19.222445456457848, 18.360873234004156, 18.081915529228603, 15.996712014897975, 15.30677015435058, 13.870777977323852, 12.423515306239391, 11.562703545384768, 11.384488960012195, 7.864785183332962, 7.134811637801329, 6.778665748658403, 6.486160470923146, 5.825265163083239, 5.343082635023382, 39.360600751681105, 108.19973181651511, 76.731374348571, 52.2028336491542, 35.389233795935546, 34.03021138912458, 30.48720663305645, 30.012717584847916, 28.319833624214287, 27.88388155805463, 25.48210581954413, 23.023162166003523, 22.737639357669845, 22.256342796218597, 21.315668098850566, 20.486910629525955, 19.599615618057516, 17.920562302052655, 11.073080097752833, 10.992277112269182, 10.739907241103799, 10.21155027253531, 9.779680145261226, 9.095922630468282, 8.784271918844876, 8.274580852884137, 7.998661162701505, 7.12150320526715, 5.388225266309268, 4.969269600348357, 4.185048316817614, 142.3205237116816, 56.567341112822184, 35.63238926702184, 29.122093495534916, 27.820843509757275, 24.605540162106692, 21.672955750126587, 20.526831806789097, 18.444639703532378, 17.601947176841158, 15.962864620046703, 13.59782732276691, 13.00807786339136, 12.527747122368952, 9.328822132412343, 9.057615401071718, 8.930094033593079, 8.367297862644657, 7.267580524199899, 6.729776208740866, 5.1282502464366795, 4.037588775517729, 3.995064581979376, 3.6477435164770062, 3.385791396174693, 2.0189078816759864, 1.8893930652499655, 1.5405581620564206, 0.9674560291766218, 0.9674675291529836, 0.9674776748871672, 0.967601010978234, 0.9676018611430721, 0.9676914686055923, 35.94617710053469, 34.617720736648955, 33.34536341971058, 32.75978830801937, 29.889722295103553, 26.172738856276705, 24.9195367525789, 24.665444724253483, 24.07110527892721, 23.84087631851568, 21.742356758195836, 18.622922980622707, 17.80990813845915, 14.741523470223024, 14.138308182182834, 10.876308607723638, 10.095236830619244, 9.623402516070081, 9.027333525639438, 8.730067539689664, 6.889394777099322, 6.183611587631988, 5.730174923232678, 5.624178651163891, 5.345032724019725, 5.195138984035613, 3.4033009101822405, 2.834599878569273, 2.65128458865444, 1.3731527935649113, 28.300009737843386, 60.80882111476655, 26.612043661006417, 22.28101042145425, 21.368830767868477, 19.645065670391872, 19.282026675626145, 11.22404003301225, 10.823990857533088, 10.478814397163758, 6.684397158878342, 6.672761721719455, 5.971954062463039, 5.175566908116401, 4.722385188725253, 3.31564314232008, 3.117890742205153, 2.19703484981977, 2.1851566338567663, 1.2173780258183198, 0.9675575467810311, 0.967520329528851, 0.9674519466183029, 0.9674529750981924, 0.9674584957512179, 0.9674567408338679, 0.9674456925834627, 0.9674532366502199, 0.9674493335961816, 0.9674517840872664, 0.9674481992842999, 0.9676038838189587, 0.9674726404282222, 0.9676449545077295, 0.9674880363868946, 0.9676018611430721, 142.72774621452768, 13.157907719191325, 12.122855583727564, 11.944121346712743, 7.978037216530706, 6.87080808147323, 4.8955493382322945, 4.000577012289259, 3.9491240201260713, 2.51240681473078, 2.2959576394360504, 2.2665633017792834, 2.145391653560065, 2.0761065273028603, 1.8468774519202689, 1.6915127919552435, 0.9676339735293253, 0.9674483998334374, 0.9674644468162109, 0.9674704611376186, 0.9674689377608051, 0.9674419601321717, 0.9674417264322893, 0.9674417264322893, 0.9674420052984881, 0.9674424288064208, 0.967443009556363, 0.9674471957184251, 0.9674445866486256, 0.9674452129344744, 0.9675052331359743, 0.9674605494469255, 0.967491685107484, 0.9674593129867018, 0.9674590753896393, 0.9675157895761356, 0.967459239687471, 0.9674646919041636, 0.9675572750802756, 0.9675024568626786, 0.9675069541134461, 0.9674779017451366, 0.9675559451438509, 0.9675547349772572, 0.9676914686055923, 0.9676602780682249, 0.9676778850081745, 0.967577956794438, 0.9675600157959208, 0.9676449545077295, 0.9677175673255051, 0.9676287306241541, 24.826616895894396, 19.644581772884784, 16.94089567265395, 16.581474197657915, 13.793384238689352, 11.870433644493213, 11.830558191308354, 11.455583942202997, 10.611792984566291, 9.691042487596095, 8.086804584950233, 7.650338488924271, 7.220120611487969, 6.566615626533963, 5.002384208060659, 4.390508871855975, 3.4419964373965413, 2.441629008245938, 2.435601547187651, 1.689758847141255, 1.2443625607865543, 0.9674449758523299, 0.9674657684095997, 0.9674900309027482, 0.9674637509112409, 0.9674641845279273, 0.9674696670617968, 0.9674705050238551, 0.9674460917497736, 0.967442926020088, 0.9674857530229385, 0.9674734986294351, 0.9677175673255051, 0.9676046742987942, 0.9676602780682249, 0.9676914686055923, 24.869152996929554, 23.566729837246587, 17.319255490965123, 15.687846920645866, 15.610709974727772, 12.833996109318178, 11.538672596102366, 9.048743975176528, 8.80537441116119, 7.4802341203296745, 7.119101123492823, 5.957844007523587, 5.874956065949072, 4.123920923582103, 3.9622496229648108, 3.241761856085908, 3.0277545200296196, 2.723310642055013, 2.681861862122219, 2.0586155166205966, 1.2713989075951788, 1.2404191675624663, 1.1840408719819877, 1.1538604778173858, 0.9674603386263835, 0.9674494748489963, 0.9674531169690929, 0.9674544885717685, 0.9674473808658889, 0.9674473808658889, 0.9674582662272855, 0.96749378324478, 0.9674963398454092, 0.9675520004106395, 0.9676914686055923, 0.9675523959605418, 0.9675666544389971, 0.9675559451438509, 0.9676046742987942, 36.34217733052395, 22.67044604044143, 14.675369147828821, 7.431451305771381, 7.380000052378394, 6.16323512865455, 5.242804796163725, 4.908614663917252, 3.364917045866623, 3.223222823803567, 3.1503724430678006, 1.3876596377467616, 0.9674597266945768, 0.9674902258556642, 0.9674482624479941, 0.9674498480865268, 0.9674498480865268, 0.967452662405672, 0.9674421523232556, 0.9674421523232556, 0.9674425130061008, 0.9674441214617016, 0.967442373063618, 0.9674429913860462, 0.9674438078508855, 0.9674437285945084, 0.9674659534591, 0.9674485246963247, 0.9674460918647271, 0.9674588566425487, 0.9674726535178737, 0.9675173755006286, 0.9674708969025682, 0.9675004284847387, 0.9674763580159926, 0.9674773701497796, 0.9676018611430721, 0.9675205260738629, 0.9674887237861746, 0.9675401575245622, 0.9675196836043605, 0.9675830933694565, 0.9675118354072363, 0.9675129234786795, 0.9674922166763537, 0.9676914686055923, 0.9675709013280659, 0.9675601526318386, 0.9676778850081745, 0.9675666544389971, 0.9676449545077295, 18.469346921228247, 17.844642283545177, 12.107130752152424, 9.293385057444686, 6.033395017386646, 5.492566747681005, 5.151254942849265, 4.917691811570977, 4.357164643257498, 2.160858412612192, 1.7443110282446395, 0.9674413212104783, 0.9674413212104783, 0.9674657684095997, 0.9674521950376747, 0.967443374043479, 0.967454718863857, 0.9674407565070622, 0.9674412001267708, 0.9674587680604579, 0.9674422757199129, 0.9674418982584195, 0.9674388212612911, 0.9674388212612911, 0.9674388212612911, 0.9674388212612911, 0.9674388212612911, 0.9674388212612911, 0.9674388212612911, 0.9674388212612911, 0.9674491454001376, 0.9674409714397874, 0.9674409714397874, 0.9674409714397874, 0.9674409714397874, 0.9674409714397874, 0.9674409714397874, 0.9674409714397874, 0.9674862221153668, 0.9674458470035457, 0.9674744723014203, 0.9674728585818279, 0.9674673591885303, 0.9674611812412537, 0.9674646669392692, 0.9674887118317886, 0.9675520004106395, 0.9674700708339521, 0.9674873127638262, 0.9675636278830485, 0.9675018110062222, 0.9676914686055923, 0.9675275730126756, 0.9675953424009089, 0.967609877675775, 0.9675666544389971, 0.9676287306241541, 0.9676778850081745, 0.9675350722848057, 0.9675363409044113, 6.736466458120396, 5.343043328861772, 4.521182405840848, 4.091528573669646, 3.7575036100801573, 3.746346558106119, 3.0618590319463417, 2.422733565659627, 2.2565840400932875, 1.9549368594176564, 1.9008733170563759, 1.6876043099468887, 1.4135003530717845, 1.0408407517775777, 0.9674577537034865, 0.9674398202869162, 0.967466243623736, 0.9674515390558506, 0.9674696975226867, 0.9674452422879434, 0.9674460421390301, 0.9674460421390301, 0.9674460421390301, 0.9674460421390301, 0.9674460421390301, 0.9674400668899158, 0.9674463888306521, 0.9674383260066389, 0.9674383260066389, 0.9674383260066389, 0.9674474992561543, 0.9674483386569829, 0.9674486612797533, 0.9674559323644767, 0.9674834788946067, 0.9674883238500341, 0.9675212889813323, 0.9675142321009225, 0.967487545398805, 0.9674662361530108, 0.9674978872118067, 0.9674791593126415, 0.9675474153106962, 0.967609877675775, 0.967530282085144, 0.9676287306241541, 0.9676778850081745, 5.118180751702291, 4.619788845739713, 1.5678320975887088, 0.9675142321009225, 0.9674604666773301, 0.967464364037169, 0.9674665763705886, 0.9674992191575107, 0.9674483750486049, 0.9674483750486049, 0.9674483750486049, 0.9674483750486049, 0.9674483750486049, 0.9674483750486049, 0.9674483750486049, 0.9674483750486049, 0.9674483750486049, 0.9674483750486049, 0.9674483750486049, 0.9674483750486049, 0.9674483750486049, 0.9674483750486049, 0.9674483750486049, 0.9674483750486049, 0.9674483750486049, 0.9674483750486049, 0.9674483750486049, 0.9674483750486049, 0.9674483750486049, 0.9674483750486049, 0.9674584522498798, 0.967487545398805, 0.96744915524853, 0.9674932831524542, 0.9674529410453246, 0.9675016213143119, 0.9674581434292399, 0.9675307514947165, 0.967521368456874, 0.9674887118317886, 0.9676602780682249, 0.9675428117157843, 0.9674770709916545, 0.9675196320370528, 0.9674748748937486, 0.9676778850081745, 0.9674636063276005, 0.9675953424009089, 0.9675274132977831, 0.9675709013280659, 0.96749518699872, 0.9674650783858455, 0.9675348343809997], \"Category\": [\"Default\", \"Default\", \"Default\", \"Default\", \"Default\", \"Default\", \"Default\", \"Default\", \"Default\", \"Default\", \"Default\", \"Default\", \"Default\", \"Default\", \"Default\", \"Default\", \"Default\", \"Default\", \"Default\", \"Default\", \"Default\", \"Default\", \"Default\", \"Default\", \"Default\", \"Default\", \"Default\", \"Default\", \"Default\", \"Default\", \"Topic1\", \"Topic1\", \"Topic1\", \"Topic1\", \"Topic1\", \"Topic1\", \"Topic1\", \"Topic1\", \"Topic1\", \"Topic1\", \"Topic1\", \"Topic1\", \"Topic1\", \"Topic1\", \"Topic1\", \"Topic1\", \"Topic1\", \"Topic1\", \"Topic1\", \"Topic1\", \"Topic1\", \"Topic1\", \"Topic1\", \"Topic1\", \"Topic1\", \"Topic1\", \"Topic1\", \"Topic1\", \"Topic1\", \"Topic1\", \"Topic1\", \"Topic1\", \"Topic1\", \"Topic1\", \"Topic1\", \"Topic1\", \"Topic1\", \"Topic1\", \"Topic1\", \"Topic1\", \"Topic1\", \"Topic1\", \"Topic1\", \"Topic1\", \"Topic1\", \"Topic2\", \"Topic2\", \"Topic2\", \"Topic2\", \"Topic2\", \"Topic2\", \"Topic2\", \"Topic2\", \"Topic2\", \"Topic2\", \"Topic2\", \"Topic2\", \"Topic2\", \"Topic2\", \"Topic2\", \"Topic2\", \"Topic2\", \"Topic2\", \"Topic2\", \"Topic2\", \"Topic2\", \"Topic2\", \"Topic2\", \"Topic2\", \"Topic2\", \"Topic2\", \"Topic2\", \"Topic2\", \"Topic2\", \"Topic2\", \"Topic2\", \"Topic2\", \"Topic2\", \"Topic2\", \"Topic2\", \"Topic2\", \"Topic2\", \"Topic2\", \"Topic2\", \"Topic2\", \"Topic2\", \"Topic2\", \"Topic2\", \"Topic2\", \"Topic3\", \"Topic3\", \"Topic3\", \"Topic3\", \"Topic3\", \"Topic3\", \"Topic3\", \"Topic3\", \"Topic3\", \"Topic3\", \"Topic3\", \"Topic3\", \"Topic3\", \"Topic3\", \"Topic3\", \"Topic3\", \"Topic3\", \"Topic3\", \"Topic3\", \"Topic3\", \"Topic3\", \"Topic3\", \"Topic3\", \"Topic3\", \"Topic3\", \"Topic3\", \"Topic3\", \"Topic3\", \"Topic3\", \"Topic3\", \"Topic3\", \"Topic3\", \"Topic3\", \"Topic3\", \"Topic3\", \"Topic3\", \"Topic3\", \"Topic3\", \"Topic3\", \"Topic3\", \"Topic3\", \"Topic3\", \"Topic3\", \"Topic3\", \"Topic3\", \"Topic3\", \"Topic3\", \"Topic3\", \"Topic3\", \"Topic3\", \"Topic4\", \"Topic4\", \"Topic4\", \"Topic4\", \"Topic4\", \"Topic4\", \"Topic4\", \"Topic4\", \"Topic4\", \"Topic4\", \"Topic4\", \"Topic4\", \"Topic4\", \"Topic4\", \"Topic4\", \"Topic4\", \"Topic4\", \"Topic4\", \"Topic4\", \"Topic4\", \"Topic4\", \"Topic4\", \"Topic4\", \"Topic4\", \"Topic4\", \"Topic4\", \"Topic4\", \"Topic4\", \"Topic4\", \"Topic4\", \"Topic4\", \"Topic4\", \"Topic4\", \"Topic4\", \"Topic4\", \"Topic4\", \"Topic4\", \"Topic4\", \"Topic4\", \"Topic4\", \"Topic4\", \"Topic5\", \"Topic5\", \"Topic5\", \"Topic5\", \"Topic5\", \"Topic5\", \"Topic5\", \"Topic5\", \"Topic5\", \"Topic5\", \"Topic5\", \"Topic5\", \"Topic5\", \"Topic5\", \"Topic5\", \"Topic5\", \"Topic5\", \"Topic5\", \"Topic5\", \"Topic5\", \"Topic5\", \"Topic5\", \"Topic5\", \"Topic5\", \"Topic5\", \"Topic5\", \"Topic5\", \"Topic5\", \"Topic5\", \"Topic5\", \"Topic5\", \"Topic5\", \"Topic5\", \"Topic5\", \"Topic5\", \"Topic5\", \"Topic5\", \"Topic5\", \"Topic5\", \"Topic5\", \"Topic5\", \"Topic6\", \"Topic6\", \"Topic6\", \"Topic6\", \"Topic6\", \"Topic6\", \"Topic6\", \"Topic6\", \"Topic6\", \"Topic6\", \"Topic6\", \"Topic6\", \"Topic6\", \"Topic6\", \"Topic6\", \"Topic6\", \"Topic6\", \"Topic6\", \"Topic6\", \"Topic6\", \"Topic6\", \"Topic6\", \"Topic6\", \"Topic6\", \"Topic6\", \"Topic6\", \"Topic6\", \"Topic6\", \"Topic6\", \"Topic6\", \"Topic6\", \"Topic7\", \"Topic7\", \"Topic7\", \"Topic7\", \"Topic7\", \"Topic7\", \"Topic7\", \"Topic7\", \"Topic7\", \"Topic7\", \"Topic7\", \"Topic7\", \"Topic7\", \"Topic7\", \"Topic7\", \"Topic7\", \"Topic7\", \"Topic7\", \"Topic7\", \"Topic7\", \"Topic7\", \"Topic7\", \"Topic7\", \"Topic7\", \"Topic7\", \"Topic7\", \"Topic7\", \"Topic7\", \"Topic7\", \"Topic7\", \"Topic8\", \"Topic8\", \"Topic8\", \"Topic8\", \"Topic8\", \"Topic8\", \"Topic8\", \"Topic8\", \"Topic8\", \"Topic8\", \"Topic8\", \"Topic8\", \"Topic8\", \"Topic8\", \"Topic8\", \"Topic8\", \"Topic8\", \"Topic8\", \"Topic8\", \"Topic8\", \"Topic8\", \"Topic8\", \"Topic8\", \"Topic8\", \"Topic8\", \"Topic8\", \"Topic8\", \"Topic8\", \"Topic8\", \"Topic8\", \"Topic8\", \"Topic8\", \"Topic9\", \"Topic9\", \"Topic9\", \"Topic9\", \"Topic9\", \"Topic9\", \"Topic9\", \"Topic9\", \"Topic9\", \"Topic9\", \"Topic9\", \"Topic9\", \"Topic9\", \"Topic9\", \"Topic9\", \"Topic9\", \"Topic9\", \"Topic9\", \"Topic9\", \"Topic9\", \"Topic9\", \"Topic9\", \"Topic9\", \"Topic9\", \"Topic9\", \"Topic9\", \"Topic9\", \"Topic9\", \"Topic9\", \"Topic9\", \"Topic9\", \"Topic10\", \"Topic10\", \"Topic10\", \"Topic10\", \"Topic10\", \"Topic10\", \"Topic10\", \"Topic10\", \"Topic10\", \"Topic10\", \"Topic10\", \"Topic10\", \"Topic10\", \"Topic10\", \"Topic10\", \"Topic10\", \"Topic10\", \"Topic10\", \"Topic10\", \"Topic10\", \"Topic10\", \"Topic10\", \"Topic10\", \"Topic10\", \"Topic10\", \"Topic10\", \"Topic10\", \"Topic10\", \"Topic10\", \"Topic10\", \"Topic11\", \"Topic11\", \"Topic11\", \"Topic11\", \"Topic11\", \"Topic11\", \"Topic11\", \"Topic11\", \"Topic11\", \"Topic11\", \"Topic11\", \"Topic11\", \"Topic11\", \"Topic11\", \"Topic11\", \"Topic11\", \"Topic11\", \"Topic11\", \"Topic11\", \"Topic11\", \"Topic11\", \"Topic11\", \"Topic11\", \"Topic11\", \"Topic11\", \"Topic11\", \"Topic11\", \"Topic11\", \"Topic11\", \"Topic11\", \"Topic11\", \"Topic11\", \"Topic11\", \"Topic11\", \"Topic12\", \"Topic12\", \"Topic12\", \"Topic12\", \"Topic12\", \"Topic12\", \"Topic12\", \"Topic12\", \"Topic12\", \"Topic12\", \"Topic12\", \"Topic12\", \"Topic12\", \"Topic12\", \"Topic12\", \"Topic12\", \"Topic12\", \"Topic12\", \"Topic12\", \"Topic12\", \"Topic12\", \"Topic12\", \"Topic12\", \"Topic12\", \"Topic12\", \"Topic12\", \"Topic12\", \"Topic12\", \"Topic12\", \"Topic12\", \"Topic12\", \"Topic13\", \"Topic13\", \"Topic13\", \"Topic13\", \"Topic13\", \"Topic13\", \"Topic13\", \"Topic13\", \"Topic13\", \"Topic13\", \"Topic13\", \"Topic13\", \"Topic13\", \"Topic13\", \"Topic13\", \"Topic13\", \"Topic13\", \"Topic13\", \"Topic13\", \"Topic13\", \"Topic13\", \"Topic13\", \"Topic13\", \"Topic13\", \"Topic13\", \"Topic13\", \"Topic13\", \"Topic13\", \"Topic13\", \"Topic13\", \"Topic13\", \"Topic13\", \"Topic13\", \"Topic13\", \"Topic13\", \"Topic14\", \"Topic14\", \"Topic14\", \"Topic14\", \"Topic14\", \"Topic14\", \"Topic14\", \"Topic14\", \"Topic14\", \"Topic14\", \"Topic14\", \"Topic14\", \"Topic14\", \"Topic14\", \"Topic14\", \"Topic14\", \"Topic14\", \"Topic14\", \"Topic14\", \"Topic14\", \"Topic14\", \"Topic14\", \"Topic14\", \"Topic14\", \"Topic14\", \"Topic14\", \"Topic14\", \"Topic14\", \"Topic14\", \"Topic14\", \"Topic14\", \"Topic14\", \"Topic14\", \"Topic14\", \"Topic14\", \"Topic14\", \"Topic14\", \"Topic14\", \"Topic14\", \"Topic14\", \"Topic14\", \"Topic14\", \"Topic14\", \"Topic14\", \"Topic14\", \"Topic14\", \"Topic14\", \"Topic14\", \"Topic14\", \"Topic14\", \"Topic14\", \"Topic14\", \"Topic15\", \"Topic15\", \"Topic15\", \"Topic15\", \"Topic15\", \"Topic15\", \"Topic15\", \"Topic15\", \"Topic15\", \"Topic15\", \"Topic15\", \"Topic15\", \"Topic15\", \"Topic15\", \"Topic15\", \"Topic15\", \"Topic15\", \"Topic15\", \"Topic15\", \"Topic15\", \"Topic15\", \"Topic15\", \"Topic15\", \"Topic15\", \"Topic15\", \"Topic15\", \"Topic15\", \"Topic15\", \"Topic15\", \"Topic15\", \"Topic15\", \"Topic15\", \"Topic15\", \"Topic15\", \"Topic15\", \"Topic15\", \"Topic16\", \"Topic16\", \"Topic16\", \"Topic16\", \"Topic16\", \"Topic16\", \"Topic16\", \"Topic16\", \"Topic16\", \"Topic16\", \"Topic16\", \"Topic16\", \"Topic16\", \"Topic16\", \"Topic16\", \"Topic16\", \"Topic16\", \"Topic16\", \"Topic16\", \"Topic16\", \"Topic16\", \"Topic16\", \"Topic16\", \"Topic16\", \"Topic16\", \"Topic16\", \"Topic16\", \"Topic16\", \"Topic16\", \"Topic16\", \"Topic16\", \"Topic16\", \"Topic16\", \"Topic16\", \"Topic16\", \"Topic16\", \"Topic16\", \"Topic16\", \"Topic16\", \"Topic17\", \"Topic17\", \"Topic17\", \"Topic17\", \"Topic17\", \"Topic17\", \"Topic17\", \"Topic17\", \"Topic17\", \"Topic17\", \"Topic17\", \"Topic17\", \"Topic17\", \"Topic17\", \"Topic17\", \"Topic17\", \"Topic17\", \"Topic17\", \"Topic17\", \"Topic17\", \"Topic17\", \"Topic17\", \"Topic17\", \"Topic17\", \"Topic17\", \"Topic17\", \"Topic17\", \"Topic17\", \"Topic17\", \"Topic17\", \"Topic17\", \"Topic17\", \"Topic17\", \"Topic17\", \"Topic17\", \"Topic17\", \"Topic17\", \"Topic17\", \"Topic17\", \"Topic17\", \"Topic17\", \"Topic17\", \"Topic17\", \"Topic17\", \"Topic17\", \"Topic17\", \"Topic17\", \"Topic17\", \"Topic17\", \"Topic17\", \"Topic17\", \"Topic18\", \"Topic18\", \"Topic18\", \"Topic18\", \"Topic18\", \"Topic18\", \"Topic18\", \"Topic18\", \"Topic18\", \"Topic18\", \"Topic18\", \"Topic18\", \"Topic18\", \"Topic18\", \"Topic18\", \"Topic18\", \"Topic18\", \"Topic18\", \"Topic18\", \"Topic18\", \"Topic18\", \"Topic18\", \"Topic18\", \"Topic18\", \"Topic18\", \"Topic18\", \"Topic18\", \"Topic18\", \"Topic18\", \"Topic18\", \"Topic18\", \"Topic18\", \"Topic18\", \"Topic18\", \"Topic18\", \"Topic18\", \"Topic18\", \"Topic18\", \"Topic18\", \"Topic18\", \"Topic18\", \"Topic18\", \"Topic18\", \"Topic18\", \"Topic18\", \"Topic18\", \"Topic18\", \"Topic18\", \"Topic18\", \"Topic18\", \"Topic18\", \"Topic18\", \"Topic18\", \"Topic18\", \"Topic18\", \"Topic18\", \"Topic18\", \"Topic18\", \"Topic18\", \"Topic18\", \"Topic19\", \"Topic19\", \"Topic19\", \"Topic19\", \"Topic19\", \"Topic19\", \"Topic19\", \"Topic19\", \"Topic19\", \"Topic19\", \"Topic19\", \"Topic19\", \"Topic19\", \"Topic19\", \"Topic19\", \"Topic19\", \"Topic19\", \"Topic19\", \"Topic19\", \"Topic19\", \"Topic19\", \"Topic19\", \"Topic19\", \"Topic19\", \"Topic19\", \"Topic19\", \"Topic19\", \"Topic19\", \"Topic19\", \"Topic19\", \"Topic19\", \"Topic19\", \"Topic19\", \"Topic19\", \"Topic19\", \"Topic19\", \"Topic19\", \"Topic19\", \"Topic19\", \"Topic19\", \"Topic19\", \"Topic19\", \"Topic19\", \"Topic19\", \"Topic19\", \"Topic19\", \"Topic19\", \"Topic20\", \"Topic20\", \"Topic20\", \"Topic20\", \"Topic20\", \"Topic20\", \"Topic20\", \"Topic20\", \"Topic20\", \"Topic20\", \"Topic20\", \"Topic20\", \"Topic20\", \"Topic20\", \"Topic20\", \"Topic20\", \"Topic20\", \"Topic20\", \"Topic20\", \"Topic20\", \"Topic20\", \"Topic20\", \"Topic20\", \"Topic20\", \"Topic20\", \"Topic20\", \"Topic20\", \"Topic20\", \"Topic20\", \"Topic20\", \"Topic20\", \"Topic20\", \"Topic20\", \"Topic20\", \"Topic20\", \"Topic20\", \"Topic20\", \"Topic20\", \"Topic20\", \"Topic20\", \"Topic20\", \"Topic20\", \"Topic20\", \"Topic20\", \"Topic20\", \"Topic20\", \"Topic20\", \"Topic20\", \"Topic20\", \"Topic20\", \"Topic20\", \"Topic20\", \"Topic20\"], \"logprob\": [30.0, 29.0, 28.0, 27.0, 26.0, 25.0, 24.0, 23.0, 22.0, 21.0, 20.0, 19.0, 18.0, 17.0, 16.0, 15.0, 14.0, 13.0, 12.0, 11.0, 10.0, 9.0, 8.0, 7.0, 6.0, 5.0, 4.0, 3.0, 2.0, 1.0, -2.998, -4.0519, -4.0529, -4.0316, -4.0928, -4.3008, -4.3161, -4.5051, -4.3889, -4.552, -4.5981, -4.6274, -4.6348, -4.6489, -4.3198, -4.6888, -4.7256, -4.752, -4.7777, -4.7826, -4.7945, -4.7991, -4.8009, -4.8934, -4.9241, -4.9451, -4.9574, -5.0078, -5.0344, -5.0378, -4.2369, -4.3734, -3.6577, -4.5425, -4.4794, -3.4863, -4.3044, -3.7213, -4.1055, -4.1863, -4.6027, -4.3359, -4.103, -4.4153, -4.4207, -3.6004, -3.8284, -4.0733, -4.1029, -4.2638, -4.442, -4.5196, -4.5279, -4.5291, -4.5769, -4.5769, -4.6105, -4.6389, -4.6495, -4.0702, -4.7668, -4.7816, -4.837, -4.8633, -4.8733, -4.9975, -5.0367, -4.5198, -5.0513, -5.1249, -5.1696, -5.2412, -5.2414, -5.246, -5.2899, -4.0224, -3.0397, -4.8834, -4.3238, -4.7766, -4.3789, -4.28, -4.3819, -4.8272, -4.5636, -4.5479, -4.5546, -4.7286, -4.7905, -4.0779, -4.1412, -4.1123, -4.2123, -4.3116, -4.3755, -4.3911, -4.4341, -4.1572, -4.62, -4.6463, -4.6578, -4.7379, -4.7412, -4.8082, -4.8534, -4.9491, -4.9747, -5.0039, -5.0116, -5.0398, -4.1497, -5.1154, -5.1642, -5.1703, -5.1779, -5.1816, -5.2178, -5.2185, -5.2564, -4.6485, -4.3261, -4.8837, -4.5125, -3.7924, -3.6956, -3.8163, -4.3485, -4.3516, -3.4109, -4.3229, -4.5661, -4.0802, -4.4091, -3.5315, -3.9288, -4.185, -4.225, -4.5236, -4.5173, -2.8127, -3.574, -3.5793, -3.6104, -3.7072, -3.7764, -3.8295, -3.8965, -3.9026, -3.3787, -4.1902, -4.3111, -4.577, -4.6998, -4.7466, -5.0071, -5.0111, -4.1425, -5.0864, -5.1057, -5.1205, -5.1444, -5.2331, -5.2369, -5.2496, -5.2547, -5.2909, -5.3313, -5.3715, -5.3774, -3.9454, -2.86, -2.0723, -4.4694, -4.7158, -4.4239, -3.377, -4.6931, -4.7516, -4.9886, -4.878, -3.5362, -3.5639, -3.8474, -3.9383, -3.9404, -3.9542, -4.0299, -4.0981, -4.1879, -4.2387, -4.3025, -4.3662, -4.3748, -4.4062, -4.5279, -4.5453, -4.5783, -4.6223, -4.7132, -4.738, -4.7422, -4.7747, -4.7881, -4.7907, -4.7986, -4.8146, -4.8151, -4.8518, -4.9097, -4.9563, -3.6237, -4.4165, -3.8608, -4.0612, -3.9883, -2.8971, -4.3434, -4.4394, -4.2779, -4.5867, -4.693, -3.2722, -3.2864, -3.3056, -3.3419, -3.3604, -3.6014, -3.6126, -3.6999, -3.9256, -3.968, -4.0884, -4.0927, -4.1586, -4.1766, -4.0248, -4.2951, -4.2989, -4.3419, -4.3681, -4.4673, -4.4761, -4.4957, -4.5006, -4.521, -4.5732, -4.6657, -4.6904, -4.7391, -4.7395, -4.743, -4.7009, -2.8006, -3.0749, -3.1594, -3.3283, -3.3869, -3.4246, -3.6327, -3.6703, -3.9531, -3.9696, -4.0271, -4.0401, -4.1307, -4.1416, -4.1715, -4.1716, -4.2194, -4.2827, -4.3519, -4.4243, -4.473, -4.5537, -4.6771, -4.7134, -4.7413, -4.7697, -4.8479, -4.8535, -4.8632, -4.895, -2.6198, -3.3666, -3.3838, -3.5662, -3.607, -3.645, -3.6566, -3.7094, -3.7529, -3.8619, -3.9782, -4.0669, -4.1045, -4.1314, -4.1376, -4.3663, -4.3809, -4.4243, -4.4356, -4.4999, -4.6401, -4.6427, -4.6745, -4.7028, -4.7056, -4.7314, -4.9288, -4.9571, -4.9582, -5.1312, -4.7566, -3.8889, -2.9694, -3.1048, -3.1143, -3.4158, -3.4569, -3.5135, -3.8556, -3.8619, -4.0283, -4.0626, -4.1264, -4.1479, -4.1942, -4.2733, -4.2926, -4.3761, -4.4244, -4.4405, -4.57, -4.6169, -4.722, -4.8405, -4.9183, -4.9352, -5.3452, -5.4563, -5.5153, -5.5665, -5.693, -5.7964, -5.0227, -2.5769, -2.9241, -3.315, -3.7122, -3.7525, -3.8656, -3.8818, -3.9418, -3.9578, -4.0511, -4.1566, -4.1696, -4.1919, -4.237, -4.2785, -4.3249, -4.4191, -4.9345, -4.9425, -4.9679, -5.0232, -5.0708, -5.1511, -5.19, -5.257, -5.2952, -5.4275, -5.7553, -5.8537, -6.069, -2.0775, -3.0101, -3.4821, -3.6899, -3.7371, -3.8645, -3.9967, -4.0535, -4.1658, -4.2151, -4.3186, -4.4897, -4.5373, -4.5779, -4.9005, -4.9333, -4.9491, -5.022, -5.1819, -5.2705, -5.5934, -5.8939, -5.9077, -6.0278, -6.1289, -6.9401, -7.0662, -7.5157, -10.2095, -10.2095, -10.2095, -10.2095, -10.2095, -10.2095, -3.447, -3.4857, -3.5242, -3.5424, -3.6369, -3.7742, -3.8251, -3.8358, -3.8611, -3.8711, -3.9671, -4.1295, -4.1765, -4.377, -4.4217, -4.7052, -4.7869, -4.8397, -4.9107, -4.9481, -5.2171, -5.343, -5.4331, -5.4554, -5.5167, -5.5512, -6.0951, -6.3558, -6.4566, -7.8043, -5.4518, -2.4574, -3.3041, -3.4888, -3.5325, -3.6206, -3.6402, -4.2187, -4.2583, -4.2939, -4.8007, -4.8028, -4.9331, -5.1052, -5.2183, -5.6828, -5.7695, -6.3179, -6.3274, -7.8186, -10.0173, -10.0174, -10.0176, -10.0176, -10.0176, -10.0176, -10.0176, -10.0176, -10.0176, -10.0176, -10.0176, -10.0175, -10.0176, -10.0176, -10.0176, -10.0176, -1.5289, -3.9802, -4.0687, -4.0848, -4.5317, -4.7028, -5.1077, -5.364, -5.381, -6.0294, -6.1773, -6.1992, -6.2948, -6.3539, -6.5788, -6.7663, -10.0085, -10.0088, -10.0088, -10.0088, -10.0088, -10.0088, -10.0088, -10.0088, -10.0088, -10.0088, -10.0088, -10.0088, -10.0088, -10.0088, -10.0088, -10.0088, -10.0088, -10.0088, -10.0088, -10.0088, -10.0088, -10.0088, -10.0088, -10.0088, -10.0088, -10.0088, -10.0088, -10.0088, -10.0088, -10.0088, -10.0088, -10.0088, -10.0088, -10.0088, -10.0088, -10.0088, -3.2523, -3.4968, -3.6529, -3.676, -3.8719, -4.034, -4.0376, -4.0726, -4.1563, -4.2563, -4.4588, -4.5218, -4.588, -4.6979, -5.0235, -5.1867, -5.5079, -6.0181, -6.0221, -6.7116, -7.6101, -9.9663, -9.9663, -9.9663, -9.9663, -9.9663, -9.9663, -9.9663, -9.9664, -9.9664, -9.9663, -9.9663, -9.9662, -9.9663, -9.9663, -9.9663, -3.2307, -3.2867, -3.6098, -3.7147, -3.72, -3.9298, -4.045, -4.3128, -4.3433, -4.5277, -4.5845, -4.7926, -4.8093, -5.2474, -5.2995, -5.5717, -5.6692, -5.8267, -5.8502, -6.2927, -7.5065, -7.6042, -7.8111, -7.9423, -9.956, -9.956, -9.956, -9.956, -9.9561, -9.9561, -9.9561, -9.956, -9.956, -9.956, -9.956, -9.956, -9.956, -9.956, -9.956, -2.5471, -3.0353, -3.4941, -4.244, -4.252, -4.4615, -4.6556, -4.7365, -5.2299, -5.2902, -5.3227, -6.9277, -9.8907, -9.8907, -9.8908, -9.8908, -9.8908, -9.8908, -9.8908, -9.8908, -9.8908, -9.8908, -9.8908, -9.8908, -9.8908, -9.8908, -9.8908, -9.8908, -9.8908, -9.8908, -9.8907, -9.8907, -9.8908, -9.8907, -9.8908, -9.8908, -9.8907, -9.8907, -9.8908, -9.8907, -9.8907, -9.8907, -9.8907, -9.8907, -9.8908, -9.8907, -9.8907, -9.8907, -9.8907, -9.8907, -9.8907, -3.0448, -3.0812, -3.496, -3.7866, -4.2819, -4.3944, -4.4725, -4.5296, -4.6819, -5.7155, -6.1364, -9.8628, -9.8628, -9.8628, -9.8628, -9.8628, -9.8628, -9.8628, -9.8628, -9.8628, -9.8628, -9.8628, -9.8629, -9.8629, -9.8629, -9.8629, -9.8629, -9.8629, -9.8629, -9.8629, -9.8628, -9.8628, -9.8628, -9.8628, -9.8628, -9.8628, -9.8628, -9.8628, -9.8628, -9.8628, -9.8628, -9.8628, -9.8628, -9.8628, -9.8628, -9.8628, -9.8628, -9.8628, -9.8628, -9.8628, -9.8628, -9.8628, -9.8628, -9.8628, -9.8628, -9.8628, -9.8628, -9.8628, -9.8628, -9.8628, -3.6879, -3.9636, -4.171, -4.2993, -4.4119, -4.4159, -4.6971, -5.0584, -5.1785, -5.442, -5.4975, -5.7528, -6.2208, -7.889, -9.7694, -9.7694, -9.7694, -9.7694, -9.7694, -9.7694, -9.7694, -9.7694, -9.7694, -9.7694, -9.7694, -9.7694, -9.7694, -9.7694, -9.7694, -9.7694, -9.7694, -9.7694, -9.7694, -9.7694, -9.7694, -9.7694, -9.7694, -9.7694, -9.7694, -9.7694, -9.7694, -9.7694, -9.7694, -9.7694, -9.7694, -9.7694, -9.7694, -3.2154, -3.3431, -5.14, -9.7129, -9.7129, -9.7129, -9.7129, -9.7129, -9.713, -9.713, -9.713, -9.713, -9.713, -9.713, -9.713, -9.713, -9.713, -9.713, -9.713, -9.713, -9.713, -9.713, -9.713, -9.713, -9.713, -9.713, -9.713, -9.713, -9.713, -9.713, -9.713, -9.7129, -9.713, -9.7129, -9.713, -9.7129, -9.713, -9.7129, -9.7129, -9.713, -9.7129, -9.713, -9.713, -9.713, -9.713, -9.713, -9.713, -9.713, -9.713, -9.713, -9.713, -9.713, -9.713], \"loglift\": [30.0, 29.0, 28.0, 27.0, 26.0, 25.0, 24.0, 23.0, 22.0, 21.0, 20.0, 19.0, 18.0, 17.0, 16.0, 15.0, 14.0, 13.0, 12.0, 11.0, 10.0, 9.0, 8.0, 7.0, 6.0, 5.0, 4.0, 3.0, 2.0, 1.0, 1.5668, 1.5653, 1.5653, 1.5652, 1.5652, 1.5646, 1.5645, 1.5639, 1.5638, 1.5637, 1.5635, 1.5634, 1.5634, 1.5633, 1.5632, 1.5631, 1.563, 1.5628, 1.5627, 1.5627, 1.5626, 1.5626, 1.5626, 1.5621, 1.5619, 1.5618, 1.5617, 1.5614, 1.5613, 1.5613, 1.5079, 1.5105, 1.4439, 1.5109, 1.5022, 1.3666, 1.4508, 1.2858, 1.289, 1.2774, 1.4268, 0.9512, 0.3921, 0.8537, 0.6405, 1.5853, 1.5849, 1.5843, 1.5843, 1.5838, 1.5832, 1.583, 1.5829, 1.5829, 1.5827, 1.5827, 1.5826, 1.5825, 1.5824, 1.5822, 1.5819, 1.5818, 1.5815, 1.5814, 1.5813, 1.5806, 1.5803, 1.5803, 1.5802, 1.5797, 1.5794, 1.5789, 1.5789, 1.5788, 1.5785, 1.5784, 1.4518, 1.5402, 1.4334, 1.4405, 1.0742, 0.7814, 0.8871, 1.307, 0.7234, 0.5448, -0.0596, 0.8472, -0.7553, 1.658, 1.6579, 1.6577, 1.6577, 1.6573, 1.6571, 1.657, 1.6569, 1.6562, 1.6561, 1.656, 1.6559, 1.6555, 1.6555, 1.6551, 1.6549, 1.6543, 1.6541, 1.6539, 1.6539, 1.6537, 1.6536, 1.6531, 1.6528, 1.6527, 1.6526, 1.6526, 1.6523, 1.6523, 1.652, 1.6482, 1.644, 1.6473, 1.638, 1.5973, 1.5493, 1.5369, 1.5567, 1.5551, 1.3378, 1.5124, 1.5497, 1.4156, 1.5035, 0.9636, 0.7463, 0.8762, 0.8365, 1.2697, 1.2173, 2.1515, 2.15, 2.15, 2.1499, 2.1496, 2.1494, 2.1493, 2.149, 2.1489, 2.1482, 2.1478, 2.1471, 2.1454, 2.1445, 2.1441, 2.1415, 2.1415, 2.141, 2.1406, 2.1404, 2.1402, 2.1399, 2.1387, 2.1387, 2.1385, 2.1384, 2.1379, 2.1373, 2.1366, 2.1366, 2.1114, 2.0736, 1.9629, 2.0903, 2.0956, 1.9677, 1.7157, 1.6792, 1.318, 1.3986, 0.6178, 2.3205, 2.3205, 2.3194, 2.319, 2.319, 2.319, 2.3186, 2.3182, 2.3177, 2.3174, 2.317, 2.3166, 2.3165, 2.3163, 2.3154, 2.3152, 2.315, 2.3146, 2.3137, 2.3135, 2.3134, 2.3131, 2.313, 2.3129, 2.3128, 2.3127, 2.3127, 2.3123, 2.3116, 2.311, 2.2931, 2.3023, 2.2691, 2.2599, 2.1118, 1.7781, 1.8159, 1.0533, 0.2137, 1.1479, -0.6578, 3.3352, 3.3351, 3.335, 3.3348, 3.3346, 3.3327, 3.3326, 3.3318, 3.3292, 3.3287, 3.327, 3.327, 3.326, 3.3257, 3.3239, 3.3237, 3.3236, 3.3228, 3.3223, 3.3203, 3.3201, 3.3197, 3.3196, 3.3191, 3.3179, 3.3156, 3.315, 3.3137, 3.3136, 3.3135, 2.9938, 3.3588, 3.3574, 3.3569, 3.3558, 3.3554, 3.3551, 3.3533, 3.353, 3.3497, 3.3495, 3.3487, 3.3485, 3.3471, 3.347, 3.3465, 3.3465, 3.3457, 3.3446, 3.3433, 3.3418, 3.3408, 3.3389, 3.3358, 3.3348, 3.334, 3.3332, 3.3308, 3.3306, 3.3303, 3.3293, 3.6452, 3.64, 3.6398, 3.6378, 3.6373, 3.6368, 3.6367, 3.636, 3.6353, 3.6337, 3.6317, 3.63, 3.6293, 3.6287, 3.6286, 3.6232, 3.6228, 3.6216, 3.6213, 3.6194, 3.6149, 3.6148, 3.6137, 3.6127, 3.6126, 3.6116, 3.6034, 3.6021, 3.6021, 3.5933, 3.4301, 2.5281, 4.2342, 4.2324, 4.2323, 4.2274, 4.2266, 4.2254, 4.217, 4.2168, 4.2115, 4.2104, 4.208, 4.2072, 4.2054, 4.2021, 4.2012, 4.1974, 4.195, 4.1942, 4.1872, 4.1844, 4.1778, 4.1695, 4.1635, 4.1621, 4.122, 4.1083, 4.1005, 4.0934, 4.0744, 4.0574, 2.8342, 4.2687, 4.2652, 4.2595, 4.2509, 4.2499, 4.2466, 4.2462, 4.2443, 4.2437, 4.2405, 4.2365, 4.236, 4.2351, 4.2332, 4.2313, 4.2292, 4.2246, 4.1906, 4.1899, 4.1877, 4.1829, 4.1785, 4.1707, 4.1667, 4.1594, 4.1551, 4.139, 4.0901, 4.0726, 4.0291, 4.494, 4.484, 4.4742, 4.4682, 4.4667, 4.4622, 4.4569, 4.4544, 4.449, 4.4465, 4.4408, 4.43, 4.4267, 4.4238, 4.396, 4.3927, 4.3911, 4.3833, 4.3643, 4.3525, 4.3014, 4.2401, 4.2369, 4.2077, 4.1811, 3.8869, 3.8271, 3.5817, 1.3532, 1.3531, 1.3531, 1.3531, 1.3531, 1.353, 4.5006, 4.4996, 4.4985, 4.498, 4.4952, 4.4907, 4.4888, 4.4885, 4.4875, 4.4871, 4.4832, 4.4757, 4.4733, 4.4619, 4.459, 4.4378, 4.4306, 4.4257, 4.4186, 4.4147, 4.3826, 4.3647, 4.3507, 4.3471, 4.3368, 4.3307, 4.2097, 4.1319, 4.0979, 3.4082, 2.7349, 4.9645, 4.9442, 4.9371, 4.9352, 4.9312, 4.9302, 4.8929, 4.8895, 4.8864, 4.8291, 4.8288, 4.8095, 4.7804, 4.759, 4.6482, 4.6229, 4.4246, 4.4206, 3.5143, 1.5453, 1.5452, 1.5451, 1.5451, 1.5451, 1.5451, 1.5451, 1.5451, 1.5451, 1.5451, 1.5451, 1.545, 1.545, 1.5449, 1.545, 1.5449, 5.0397, 4.9724, 4.9658, 4.9645, 4.9212, 4.8995, 4.8336, 4.7791, 4.7751, 4.579, 4.5212, 4.5122, 4.4715, 4.4452, 4.3373, 4.2377, 1.554, 1.5539, 1.5539, 1.5539, 1.5539, 1.5539, 1.5539, 1.5539, 1.5539, 1.5539, 1.5539, 1.5539, 1.5539, 1.5539, 1.5539, 1.5539, 1.5538, 1.5539, 1.5539, 1.5538, 1.5539, 1.5539, 1.5538, 1.5538, 1.5538, 1.5538, 1.5538, 1.5538, 1.5537, 1.5537, 1.5537, 1.5538, 1.5538, 1.5537, 1.5536, 1.5537, 5.0654, 5.055, 5.047, 5.0453, 5.0335, 5.0216, 5.0213, 5.0185, 5.0114, 5.0021, 4.9806, 4.9731, 4.9647, 4.9497, 4.8962, 4.8635, 4.7856, 4.6189, 4.6173, 4.2934, 3.7009, 1.5964, 1.5964, 1.5964, 1.5964, 1.5964, 1.5964, 1.5964, 1.5963, 1.5963, 1.5963, 1.5963, 1.5962, 1.5963, 1.5962, 1.5961, 5.0852, 5.0831, 5.068, 5.062, 5.0617, 5.0478, 5.0389, 5.0142, 5.011, 4.9896, 4.9823, 4.9523, 4.9496, 4.8654, 4.8533, 4.7818, 4.7526, 4.7011, 4.6929, 4.5149, 3.783, 3.7099, 3.5496, 3.4441, 1.6067, 1.6066, 1.6066, 1.6066, 1.6066, 1.6066, 1.6066, 1.6066, 1.6066, 1.6066, 1.6065, 1.6066, 1.6066, 1.6066, 1.6065, 5.3895, 5.3733, 5.3493, 5.2799, 5.2789, 5.2495, 5.2172, 5.2021, 5.0863, 5.069, 5.0594, 4.2743, 1.672, 1.6719, 1.6719, 1.6719, 1.6719, 1.6719, 1.6719, 1.6719, 1.6719, 1.6719, 1.6719, 1.6719, 1.6719, 1.6719, 1.6719, 1.6719, 1.6719, 1.6719, 1.6719, 1.6719, 1.6719, 1.6719, 1.6719, 1.6719, 1.6719, 1.6719, 1.6719, 1.6719, 1.6719, 1.6718, 1.6719, 1.6719, 1.6719, 1.6717, 1.6718, 1.6718, 1.6717, 1.6718, 1.6717, 5.5686, 5.5667, 5.5398, 5.5137, 5.4504, 5.4318, 5.4179, 5.4071, 5.3759, 5.0436, 4.8369, 1.6999, 1.6999, 1.6999, 1.6999, 1.6999, 1.6999, 1.6999, 1.6999, 1.6999, 1.6999, 1.6999, 1.6999, 1.6999, 1.6999, 1.6999, 1.6999, 1.6999, 1.6999, 1.6999, 1.6999, 1.6999, 1.6999, 1.6999, 1.6999, 1.6999, 1.6999, 1.6999, 1.6999, 1.6999, 1.6998, 1.6998, 1.6998, 1.6999, 1.6998, 1.6998, 1.6998, 1.6998, 1.6998, 1.6998, 1.6998, 1.6997, 1.6998, 1.6997, 1.6997, 1.6998, 1.6997, 1.6996, 1.6998, 1.6998, 5.9342, 5.8902, 5.8499, 5.8214, 5.794, 5.7929, 5.7135, 5.5863, 5.5372, 5.4173, 5.3898, 5.2535, 4.9627, 3.6006, 1.7933, 1.7933, 1.7933, 1.7933, 1.7933, 1.7933, 1.7933, 1.7933, 1.7933, 1.7933, 1.7933, 1.7933, 1.7933, 1.7933, 1.7933, 1.7933, 1.7933, 1.7933, 1.7933, 1.7933, 1.7933, 1.7933, 1.7933, 1.7933, 1.7933, 1.7933, 1.7933, 1.7933, 1.7932, 1.7932, 1.7932, 1.7931, 1.7931, 6.6814, 6.6561, 5.9399, 1.8497, 1.8497, 1.8497, 1.8497, 1.8497, 1.8497, 1.8497, 1.8497, 1.8497, 1.8497, 1.8497, 1.8497, 1.8497, 1.8497, 1.8497, 1.8497, 1.8497, 1.8497, 1.8497, 1.8497, 1.8497, 1.8497, 1.8497, 1.8497, 1.8497, 1.8497, 1.8497, 1.8497, 1.8497, 1.8497, 1.8497, 1.8497, 1.8497, 1.8497, 1.8497, 1.8497, 1.8497, 1.8496, 1.8496, 1.8497, 1.8497, 1.8497, 1.8495, 1.8497, 1.8496, 1.8496, 1.8496, 1.8497, 1.8497, 1.8496]}, \"token.table\": {\"Topic\": [14, 11, 15, 10, 20, 2, 17, 3, 4, 2, 7, 10, 3, 9, 13, 2, 4, 5, 11, 19, 3, 1, 2, 12, 3, 5, 6, 4, 15, 16, 10, 17, 1, 2, 3, 17, 17, 5, 19, 9, 10, 8, 10, 16, 8, 1, 16, 2, 3, 12, 1, 2, 3, 17, 1, 2, 3, 4, 6, 9, 12, 9, 11, 10, 10, 15, 19, 12, 12, 1, 1, 2, 3, 5, 11, 10, 2, 3, 10, 9, 1, 2, 3, 1, 16, 7, 2, 3, 5, 5, 1, 16, 1, 3, 4, 10, 9, 11, 10, 9, 16, 15, 7, 5, 2, 6, 6, 13, 9, 2, 3, 17, 2, 1, 8, 14, 7, 19, 1, 12, 10, 18, 5, 2, 10, 12, 9, 18, 2, 13, 9, 13, 3, 14, 4, 14, 14, 13, 4, 1, 8, 7, 17, 13, 12, 16, 1, 2, 15, 3, 11, 4, 5, 7, 16, 16, 4, 9, 1, 3, 4, 5, 7, 8, 13, 1, 2, 3, 8, 13, 4, 12, 17, 2, 3, 8, 5, 2, 2, 15, 1, 2, 3, 7, 3, 5, 7, 3, 11, 2, 15, 5, 8, 2, 3, 15, 7, 2, 14, 1, 2, 3, 2, 4, 2, 4, 5, 7, 3, 1, 2, 3, 9, 6, 1, 2, 3, 1, 2, 18, 6, 5, 2, 10, 1, 1, 11, 9, 6, 1, 3, 6, 8, 8, 9, 4, 5, 12, 1, 3, 20, 16, 11, 14, 11, 12, 6, 7, 4, 11, 2, 3, 13, 14, 14, 18, 5, 4, 8, 11, 6, 5, 7, 3, 6, 1, 4, 1, 10, 7, 9, 9, 3, 3, 5, 12, 5, 1, 5, 7, 4, 6, 17, 19, 3, 11, 9, 5, 2, 3, 5, 12, 1, 2, 3, 15, 13, 13, 13, 1, 4, 7, 3, 19, 7, 11, 18, 9, 6, 8, 10, 6, 6, 4, 12, 6, 6, 7, 8, 6, 12, 19, 9, 12, 2, 4, 15, 15, 12, 7, 12, 3, 2, 3, 18, 12, 9, 3, 1, 2, 3, 6, 5, 9, 16, 8, 12, 7, 11, 4, 3, 18, 11, 3, 8, 16, 3, 4, 18, 3, 4, 14, 10, 2, 5, 6, 3, 3, 6, 3, 3, 8, 19, 2, 1, 2, 3, 1, 1, 5, 1, 12, 10, 16, 6, 14, 8, 10, 1, 4, 1, 18, 4, 2, 11, 13, 6, 8, 8, 4, 4, 15, 5, 6, 11, 2, 9, 6, 15, 10, 1, 7, 10, 10, 8, 8, 5, 4, 6, 14, 5, 4, 10, 2, 4, 4, 2, 4, 10, 1, 8, 8, 14, 3, 2, 4, 2, 11, 16, 4, 1, 2, 3, 4, 5, 1, 2, 3, 4, 5, 1, 4, 16, 8, 11, 2, 4, 19, 13, 10, 4, 8, 4, 16, 1, 5, 17, 9, 12, 7, 5, 2, 4, 11, 11, 3, 4, 12, 2, 1, 16, 8, 2, 7, 6, 1, 3, 7, 15, 14, 1, 14, 2, 3, 12, 19, 3, 3, 15, 2, 1, 2, 15, 11, 2, 8, 5, 1, 12, 17, 6, 10, 6, 5, 3, 3, 4, 8, 5, 8, 7, 2, 12, 10, 2, 2, 4, 9, 5, 6, 1, 3, 9, 19, 7, 12, 4, 9, 1, 3, 3, 4, 3, 14, 9, 8, 18, 6, 16, 2, 3, 4, 5, 11, 11, 4, 13, 6, 19, 5, 8, 8, 5, 15, 2, 10, 13, 7, 15, 5, 4, 16, 9, 10, 12, 5, 9, 5, 2, 9, 2, 4, 12, 13, 1, 2, 4, 5, 8, 11, 16, 8, 15, 7, 7, 11, 10, 8, 1, 6, 1, 2, 3, 1, 3, 1, 1, 13, 5, 2, 1, 2, 1, 5, 15, 5, 11, 12, 18, 20, 9, 4, 6, 6, 7], \"Freq\": [0.7498918258002245, 0.9704953766240269, 0.942480813630641, 0.8049472702627345, 0.7815276939310148, 0.9928044257822871, 0.8112622503648522, 0.9937191461310043, 0.9965476830708474, 0.9910178347989967, 0.9918644119829657, 0.7168376020760625, 0.9937399128551556, 0.9607855145177195, 0.9671639850324305, 0.8590001966906003, 0.006224639106453626, 0.13382974078875295, 0.5292704934680708, 0.7984024265344624, 0.995718468662005, 0.042421396506111236, 0.9514513216370664, 0.9658566563665641, 0.6420070579826687, 0.3073114353376755, 0.04868299965745355, 0.9982536893708552, 0.9602304042725748, 0.9238272400535154, 0.9533954315647607, 0.8148938700370209, 0.30831916500803663, 0.19291970610502862, 0.4977152235129734, 0.7629503968804804, 0.6204969713015057, 0.9933913313292416, 0.8007801610101395, 0.9688333096871985, 0.8425187530017999, 0.9836236199982301, 0.9675586657846684, 0.6169484646891346, 0.9481871774969205, 0.9948458229704282, 0.48576336471105125, 0.060343289748719935, 0.9396312260872104, 0.5876647563006422, 0.4889822798457569, 0.49662262796834683, 0.011460522183884927, 0.8073793062924743, 0.8176987635775581, 0.1411128836990547, 0.04031796677115849, 0.9970963066552603, 0.9895198349787752, 0.9914580226309777, 0.8890187012400964, 0.8583300261912135, 0.49531729955398207, 0.9662570514654364, 0.969406766451834, 0.8715871891689526, 0.7332223021259102, 0.949698314986178, 0.8085889498623486, 0.9979698087486693, 0.14191319781909753, 0.1328307531586753, 0.7243249616686738, 0.9922678928444484, 0.9658022393321838, 0.9202754963679438, 0.3226451584455161, 0.6775548327355838, 0.881354912799689, 0.8851299389098051, 0.9947429985129795, 0.10441238930996223, 0.8949633369425335, 0.994580370971657, 0.9533158956009963, 0.9862112477564247, 0.3535489983507558, 0.36310437668456, 0.2818836608472242, 0.9900569668384258, 0.9969376559921976, 0.6605555327452486, 0.755742369907637, 0.24253050266376888, 0.9886672826228015, 0.9904683793978647, 0.8409472183135259, 0.8575573514478915, 0.87514645984026, 0.982643823377709, 0.9085360402005913, 0.9444600987554189, 0.9726365546605708, 0.9950695510235164, 0.994121702429933, 0.9783359177141293, 0.9749313097570182, 0.9543064340090464, 0.9772431197264073, 0.0032922843640876436, 0.9942698779544684, 0.9539794099197334, 0.9927842849725818, 0.9939091472984326, 0.9753999939316008, 0.9073769726965348, 0.9799953512008652, 0.7486370133652125, 0.99667063508044, 0.9194295933179625, 0.8459643001204252, 0.5732922533926387, 0.9921963409539506, 0.9981901456516701, 0.8795149568667933, 0.7483583743135263, 0.9832542200119171, 0.7765098105953028, 0.9956015906542455, 0.7728621948113821, 0.9401658785829557, 0.6414592958396881, 0.9970259899309772, 0.8732597285286838, 0.9856881821386851, 0.9119991001682987, 0.44119659010405143, 0.9359426454943554, 0.9941999550524953, 0.9977011482360311, 0.9746060775282032, 0.9745469293362752, 0.9704264292266048, 0.9866989509097696, 0.8915095456406383, 0.9561541539686603, 0.9926420144622023, 0.9911636698559662, 0.6832920938232445, 0.99518391220167, 0.8255842477453046, 0.18416784270524877, 0.8112154976302625, 0.9815413894483388, 0.8428030303151866, 0.9357995869374595, 0.9888985605393177, 0.9822102283254878, 0.04363617837396501, 0.8831131337588157, 0.016623306047224767, 0.05402574465348049, 0.9538714286858613, 0.9901829967860893, 0.9335118295813417, 0.01082598587943053, 0.08660788703544424, 0.9021654899525441, 0.9645346416090219, 0.897612732665157, 0.9965501085225276, 0.8861974554588457, 0.813008124311103, 0.09757793178261642, 0.8998853708841292, 0.9858626490267326, 0.9887732180769433, 0.9928880707937705, 0.9953814500955633, 0.9137126856878269, 0.7472236139434595, 0.23437759319344537, 0.01624399160746651, 0.9890258458735725, 0.04969492807841364, 0.9487213542242604, 0.9907253031669145, 0.9951107340774737, 0.8958472295930741, 0.996008890029295, 0.9667044084435404, 0.9926189289426403, 0.9484600040926843, 0.9948556829835666, 0.0028024103746015962, 0.9149921941537887, 0.9964761038446526, 0.9961622986818919, 0.7596621389227043, 0.9954948111819567, 0.8627029290709731, 0.133102737628093, 0.3523008012563225, 0.6453510132104454, 0.8734700378946564, 0.00438929667283747, 0.12114458817031416, 0.9950458567262154, 0.9970353851159698, 0.013611019557928566, 0.7576800887246902, 0.2268503259654761, 0.9915078505599499, 0.9811458425056744, 0.1133039521866047, 0.4470073730101665, 0.4392468283398511, 0.5217771904497346, 0.4776467813072197, 0.908555480665343, 0.9580102485533021, 0.9958589813190467, 0.996455240451715, 0.9607441685811491, 0.996794320284681, 0.9933662824025894, 0.6491153820931667, 0.9659101875918572, 0.9728281977938878, 0.015402359641856303, 0.9819004271683394, 0.9796424158772592, 0.9686952307468197, 0.9821852736425296, 0.8783881327589507, 0.9374270683325483, 0.05555123367896582, 0.9665507406506023, 0.9952564420146638, 0.9961059554958628, 0.8658404385059133, 0.9650509610425066, 0.8915601074827708, 0.5414544419069397, 0.9689495167209643, 0.9736779491769483, 0.9879740050443496, 0.9845035747202177, 0.988584866242226, 0.9899705182944584, 0.9979132720924311, 0.9950248866891569, 0.8372468956899223, 0.48167085207286237, 0.4355481054282984, 0.6885211474949323, 0.9895561281931389, 0.9891202732157621, 0.9929354668750071, 0.9822524035005666, 0.9907489910560755, 0.9970577141885298, 0.9799386776899525, 0.9963040154078474, 0.9617130777638104, 0.37422065242340813, 0.621782007103509, 0.9953921824229078, 0.9555594423291538, 0.974821381805234, 0.9376926949757098, 0.9629663040788795, 0.9936387520724276, 0.9963478889241998, 0.9966795928830567, 0.973021174696309, 0.9878330730459972, 0.39546149788531976, 0.600170979143603, 0.9908344256510748, 0.9467022613404585, 0.04465576704436125, 0.5943682928102932, 0.5260739845349421, 0.9961344469915833, 0.743017718443929, 0.9848798828012625, 0.9911926212015082, 0.01898471430129223, 0.4007884130272804, 0.579033786189413, 0.9647296388236105, 0.8837739105023126, 0.10340316320319562, 0.011309720975349522, 0.9286926573193148, 0.9238736554401631, 0.8909447908763608, 0.8991779191620684, 0.9458587710318517, 0.05022258961231071, 0.9913348749177353, 0.9939268143130626, 0.5115254721310455, 0.9515691528332767, 0.9225037031621409, 0.9745877900702168, 0.9617536798353464, 0.9867239756691949, 0.9671806107737673, 0.9683013444087984, 0.9719902788984102, 0.9912775146328081, 0.9983707093765625, 0.9163732082975825, 0.9847851408224404, 0.993792021421548, 0.9793645852096451, 0.9578633591397083, 0.9801646728949729, 0.7055669532482565, 0.443147687935726, 0.9250464935145287, 0.9630997653885465, 0.16434569129995888, 0.8334674344497914, 0.8310110485486033, 0.9423478213855021, 0.9551923525192908, 0.9893731394438274, 0.8725737114460113, 0.9922169818530211, 0.5993052456465566, 0.3995368304310377, 0.8608273466072958, 0.870903786780268, 0.9431362219153596, 0.9879365483661616, 0.10543309357824122, 0.036356239164910764, 0.854371620375403, 0.9903801598944029, 0.9926843805593053, 0.9513346041281695, 0.727463027441892, 0.8127205684047487, 0.17667838443581493, 0.9742563795256834, 0.9743344802671958, 0.9934966676245802, 0.9935747409854205, 0.9526668974292617, 0.7509265340871246, 0.9925646232107906, 0.993855189536378, 0.8392297605788238, 0.005267639336049041, 0.9903161951772198, 0.9103212085881396, 0.7836399089900898, 0.215680708896355, 0.8170686727149474, 0.9810806130796942, 0.025554862764289504, 0.9710847850430011, 0.974417369164223, 0.9959319344058437, 0.9940266458847641, 0.0032591037569992265, 0.9959318555172212, 0.9930232509823609, 0.9777572911677948, 0.6531979360031652, 0.995190151192894, 0.9405690717358066, 0.0122950205455661, 0.04303257190948135, 0.9965081415529908, 0.9964559047133619, 0.9890599493076827, 0.9977063203792529, 0.9821559385336716, 0.9697265650999213, 0.8841006024644356, 0.9803084897415736, 0.994901158087133, 0.9913171678531258, 0.938276947607309, 0.9923319964987132, 0.9854546188247998, 0.9952456802044448, 0.8287208090289669, 0.9906543144714377, 0.9901315932625488, 0.779993137577357, 0.4551589157004193, 0.9853487683842445, 0.9620007488549833, 0.9884171723569515, 0.9938383956796469, 0.9959161377386042, 0.9649322978930277, 0.9769589624239703, 0.01628264937373284, 0.9907214808009225, 0.9951197862415149, 0.9364053101762262, 0.9804436522837147, 0.5918004227004383, 0.9486309477048489, 0.992990629356814, 0.992687046582176, 0.7423594601752517, 0.9762330866605035, 0.9919439100872338, 0.9913899333718905, 0.9963172817738531, 0.9931856618419013, 0.9845285822874327, 0.920955144434079, 0.9943599262453537, 0.9879271378667377, 0.9435512470435146, 0.9927967655156537, 0.0053233070537032365, 0.9916799707176334, 0.07512514351974812, 0.9233563094427223, 0.9030910922453633, 0.9348496345157622, 0.05842810215723514, 0.9744266521734598, 0.591186779524195, 0.9961666181800056, 0.997207076198518, 0.9875616183473127, 0.9981624886817598, 0.822426244183254, 0.9350166462406317, 0.9912723673627769, 0.019465818047838944, 0.09621675777931821, 0.006673994759259066, 0.827019183918186, 0.05061112692438125, 0.3957035515484534, 0.12879762658243776, 0.45622291825586386, 0.012414229068186771, 0.0062071145340933855, 0.9975040645772731, 0.9957099188226977, 0.8510701942061711, 0.974297326910525, 0.9753900886500658, 0.995492210469118, 0.004385428239952062, 0.8847243134522642, 0.603201223458724, 0.9840193088556632, 0.9962627095395769, 0.002472115904564707, 0.9958111014860376, 0.7344002439952271, 0.870344661484447, 0.126669880309943, 0.9630683291670405, 0.8900433815833123, 0.9768072888360705, 0.973396445189264, 0.9862880470321386, 0.9982258181664375, 0.9983477966736115, 0.9578737408079836, 0.8832346755475422, 0.9874718484044386, 0.010675371334102039, 0.9596536585078773, 0.9973752617081761, 0.9947011996494749, 0.7457505653991269, 0.9863498701168665, 0.9948897706980399, 0.9844141832280545, 0.9938385406410141, 0.9953859768125798, 0.9963211074156479, 0.9605384718736957, 0.7996187085259358, 0.7960494249074517, 0.9983832235417762, 0.46611535862955333, 0.01844920672626388, 0.9778079564919857, 0.9555024471657769, 0.5925559647518744, 0.9957572416054993, 0.9944495208919915, 0.8191252615551109, 0.9973053635256379, 0.9934238305813174, 0.9939152570593762, 0.41057618852093586, 0.9396809630999748, 0.6682501690275177, 0.3250946768241978, 0.9951901520423642, 0.9952453221354953, 0.9194876665924332, 0.6348455733863709, 0.990577050110923, 0.9889118780945815, 0.9726927608363773, 0.9885386494017587, 0.9923162232201337, 0.9850551662844534, 0.006746953193729133, 0.986363017893785, 0.9408227719903165, 0.05469899837153003, 0.9775871998334541, 0.9973227435795273, 0.9352201557578971, 0.9311067382153895, 0.9968837506801907, 0.03779628407972802, 0.9575058633531098, 0.9146279625830037, 0.9957762364153433, 0.9782823777871775, 0.10245236120703381, 0.8953445479397303, 0.9420342457053382, 0.8906746641286054, 0.9895121505905861, 0.9545248559306033, 0.995843629824763, 0.937222124184569, 0.8883423594145172, 0.10871322580247587, 0.9963571059732699, 0.9859938623571316, 0.9938797894056074, 0.8774087924152338, 0.9258818893491496, 0.9725105153796821, 0.8133897269829488, 0.9803294331238299, 0.9608787828537938, 0.9957290395313054, 0.8614407003636536, 0.09422007660227462, 0.04374503556534179, 0.5907038461553253, 0.9614693395683604, 0.9924660648149976, 0.4576330980150453, 0.9894438031733882, 0.4127569016148643, 0.9938722212860572, 0.9879362021180921, 0.9833409022354742, 0.9928817201461365, 0.9266721275261065, 0.9960250355822903, 0.9769584605839938, 0.9770012529363454, 0.9776881462758721, 0.9671878088148207, 0.9919967578774773, 0.9821480226065361, 0.9759521222859319, 0.9709719014997567, 0.9097296126967507, 0.7543513090064108, 0.9860679942150277, 0.7486315060486605, 0.9955717742187062, 0.7367773724531225, 0.2540611629148698, 0.5259507115783101, 0.4733556404204791, 0.7699505272701631, 0.8470295920692882, 0.00850765443658077, 0.5529975383777501, 0.43389037626561927, 0.9886553312103268, 0.9680289731679699, 0.9758932833235434, 0.7571456332817331, 0.9501532609983537, 0.8656076607844826, 0.9867937411304925, 0.9934617606410054, 0.9560350849752324, 0.9107186200415336, 0.9710490011079382, 0.993527674372997, 0.9583939074638739, 0.5406568418986843, 0.4220235060863831, 0.036951366892356126, 0.7541042109170045, 0.24401812672947903, 0.9967037624763178, 0.9958698069857638, 0.9425066279659933, 0.9976908918922248, 0.9923410393499554, 0.9431854882942061, 0.05298794878057338, 0.9993090916952857, 0.9822668569512207, 0.9297955195454305, 0.9903376673828255, 0.8365902726196849, 0.9702331695718263, 0.4627790484389638, 0.637823400565646, 0.9617697950457461, 0.28084787415379986, 0.7129215266981074, 0.9898046166743172, 0.9957280397891699], \"Term\": [\"\\u0430\\u0432\\u0442\\u043e\\u043c\\u043e\\u0431\\u0438\\u043b\\u044c\", \"\\u0430\\u0432\\u0442\\u043e\\u0440\", \"\\u0430\\u0433\\u0435\\u043d\\u0442\\u0441\\u0442\\u0432\\u043e\", \"\\u0430\\u0434\\u043c\\u0438\\u043d\\u0438\\u0441\\u0442\\u0440\\u0430\\u0442\\u043e\\u0440\", \"\\u0430\\u0439\\u0442\\u0438\", \"\\u0430\\u043a\\u0442\\u0438\\u0432\\u043d\\u043e\", \"\\u0430\\u043b\\u0435\\u043a\\u0441\\u0430\\u043d\\u0434\\u0440\", \"\\u0430\\u043d\\u0430\\u043b\\u0438\\u0437\", \"\\u0430\\u043d\\u0430\\u043b\\u0438\\u0442\\u0438\\u043a\", \"\\u0430\\u043d\\u0430\\u043b\\u0438\\u0442\\u0438\\u043a\\u0430\", \"\\u0430\\u043d\\u0433\\u043b\\u0438\\u0439\\u0441\\u043a\\u0438\\u0439\", \"\\u0430\\u0440\\u0445\\u0438\\u0442\\u0435\\u043a\\u0442\\u043e\\u0440\", \"\\u0431\\u0430\\u0437\\u0430\", \"\\u0431\\u0430\\u0437\\u043e\\u0432\\u044b\\u0439\", \"\\u0431\\u0435\\u0437\\u043e\\u043f\\u0430\\u0441\\u043d\\u043e\\u0441\\u0442\\u044c\", \"\\u0431\\u0438\\u0437\\u043d\\u0435\\u0441\", \"\\u0431\\u0438\\u0437\\u043d\\u0435\\u0441\", \"\\u0431\\u0438\\u0437\\u043d\\u0435\\u0441\", \"\\u0431\\u0438\\u0437\\u043d\\u0435\\u0441\\u043c\\u0435\\u043d\", \"\\u0431\\u043b\\u0430\\u0433\\u043e\\u0434\\u0430\\u0440\\u043d\\u043e\\u0441\\u0442\\u044c\", \"\\u0431\\u043b\\u0430\\u0433\\u043e\\u0434\\u0430\\u0440\\u043d\\u044b\\u0439\", \"\\u0431\\u043e\\u043b\\u044c\\u0448\\u0438\\u0439\", \"\\u0431\\u043e\\u043b\\u044c\\u0448\\u0438\\u0439\", \"\\u0431\\u043e\\u043b\\u044c\\u0448\\u0438\\u043d\\u0441\\u0442\\u0432\\u043e\", \"\\u0432\\u0430\\u0436\\u043d\\u044b\\u0439\", \"\\u0432\\u0430\\u0436\\u043d\\u044b\\u0439\", \"\\u0432\\u0430\\u0436\\u043d\\u044b\\u0439\", \"\\u0432\\u0430\\u043a\\u0430\\u043d\\u0441\\u0438\\u044f\", \"\\u0432\\u0435\\u0434\\u0443\\u0449\\u0438\\u0439\", \"\\u0432\\u0435\\u0440\\u0438\\u0442\\u044c\", \"\\u0432\\u0435\\u0440\\u043d\\u0443\\u0442\\u044c\\u0441\\u044f\", \"\\u0432\\u0435\\u0440\\u043e\\u044f\\u0442\\u043d\\u043e\\u0441\\u0442\\u044c\", \"\\u0432\\u0435\\u0441\\u044c\", \"\\u0432\\u0435\\u0441\\u044c\", \"\\u0432\\u0435\\u0441\\u044c\", \"\\u0432\\u0437\\u0430\\u0438\\u043c\\u043e\\u0434\\u0435\\u0439\\u0441\\u0442\\u0432\\u043e\\u0432\\u0430\\u0442\\u044c\", \"\\u0432\\u0438\\u0434\\u0435\\u043d\\u0438\\u0435\", \"\\u0432\\u0438\\u0434\\u0435\\u0442\\u044c\", \"\\u0432\\u043a\\u043b\\u0430\\u0434\", \"\\u0432\\u043a\\u043b\\u044e\\u0447\\u0430\\u0442\\u044c\", \"\\u0432\\u043a\\u043e\\u043d\\u0442\\u0430\\u043a\\u0442\\u0435\", \"\\u0432\\u043b\\u0438\\u044f\\u043d\\u0438\\u0435\", \"\\u0432\\u043c\\u0435\\u0441\\u0442\\u043e\", \"\\u0432\\u043d\\u0435\\u0437\\u0430\\u043f\\u043d\\u043e\", \"\\u0432\\u043d\\u0435\\u0448\\u043d\\u0438\\u0439\", \"\\u0432\\u043d\\u0438\\u043c\\u0430\\u043d\\u0438\\u0435\", \"\\u0432\\u043d\\u0438\\u043c\\u0430\\u0442\\u0435\\u043b\\u044c\\u043d\\u044b\\u0439\", \"\\u0432\\u043e\\u0437\\u043c\\u043e\\u0436\\u043d\\u043e\\u0441\\u0442\\u044c\", \"\\u0432\\u043e\\u0437\\u043c\\u043e\\u0436\\u043d\\u043e\\u0441\\u0442\\u044c\", \"\\u0432\\u043e\\u0437\\u043d\\u0430\\u0433\\u0440\\u0430\\u0436\\u0434\\u0435\\u043d\\u0438\\u0435\", \"\\u0432\\u043e\\u043f\\u0440\\u043e\\u0441\", \"\\u0432\\u043e\\u043f\\u0440\\u043e\\u0441\", \"\\u0432\\u043e\\u043f\\u0440\\u043e\\u0441\", \"\\u0432\\u043e\\u0441\\u043f\\u0440\\u0438\\u044f\\u0442\\u0438\\u0435\", \"\\u0432\\u0440\\u0435\\u043c\\u044f\", \"\\u0432\\u0440\\u0435\\u043c\\u044f\", \"\\u0432\\u0440\\u0435\\u043c\\u044f\", \"\\u0432\\u0441\\u0435\\u043c\", \"\\u0432\\u0441\\u0442\\u0440\\u0435\\u0447\\u0430\", \"\\u0432\\u0442\\u043e\\u0440\\u043e\\u0439\", \"\\u0432\\u0448\\u044d\", \"\\u0432\\u044b\\u0433\\u043e\\u0434\\u043d\\u044b\\u0439\", \"\\u0432\\u044b\\u0436\\u0438\\u0442\\u044c\", \"\\u0432\\u044b\\u043f\\u043e\\u043b\\u043d\\u0435\\u043d\\u0438\\u0435\", \"\\u0432\\u044b\\u043f\\u043e\\u043b\\u043d\\u0438\\u0442\\u044c\", \"\\u0432\\u044b\\u043f\\u0443\\u0441\\u0442\\u0438\\u0442\\u044c\", \"\\u0432\\u044b\\u0440\\u0430\\u0437\\u0438\\u0442\\u044c\", \"\\u0432\\u044b\\u0441\\u043e\\u043a\\u043e\", \"\\u0432\\u044b\\u0447\\u0438\\u0441\\u043b\\u0438\\u0442\\u0435\\u043b\\u044c\\u043d\\u044b\\u0439\", \"\\u0433\\u043e\\u0432\\u043e\\u0440\\u0438\\u0442\\u044c\", \"\\u0433\\u043e\\u0434\", \"\\u0433\\u043e\\u0434\", \"\\u0433\\u043e\\u0434\", \"\\u0433\\u043e\\u043b\\u043e\\u0432\\u0430\", \"\\u0433\\u043e\\u043b\\u043e\\u0441\", \"\\u0433\\u043e\\u0442\\u043e\\u0432\\u0438\\u0442\\u044c\\u0441\\u044f\", \"\\u0433\\u043e\\u0442\\u043e\\u0432\\u044b\\u0439\", \"\\u0433\\u043e\\u0442\\u043e\\u0432\\u044b\\u0439\", \"\\u0433\\u0440\\u0430\\u0436\\u0434\\u0430\\u043d\\u0438\\u043d\", \"\\u0433\\u0440\\u0430\\u043c\\u043e\\u0442\\u043d\\u043e\", \"\\u0434\\u0430\\u0432\\u0430\\u0442\\u044c\", \"\\u0434\\u0430\\u043d\\u043d\\u044b\\u0445\", \"\\u0434\\u0430\\u043d\\u043d\\u044b\\u0445\", \"\\u0434\\u0430\\u0442\\u044c\", \"\\u0434\\u0432\\u0438\\u0433\\u0430\\u0442\\u044c\\u0441\\u044f\", \"\\u0434\\u0435\\u0439\\u0441\\u0442\\u0432\\u0438\\u0442\\u0435\\u043b\\u044c\\u043d\\u043e\", \"\\u0434\\u0435\\u043b\\u0430\\u0442\\u044c\", \"\\u0434\\u0435\\u043b\\u0430\\u0442\\u044c\", \"\\u0434\\u0435\\u043b\\u0430\\u0442\\u044c\", \"\\u0434\\u0435\\u043b\\u0438\\u0442\\u044c\\u0441\\u044f\", \"\\u0434\\u0435\\u043b\\u043e\", \"\\u0434\\u0435\\u043d\\u0435\\u0436\\u043d\\u044b\\u0439\", \"\\u0434\\u0435\\u043d\\u044c\", \"\\u0434\\u0435\\u043d\\u044c\", \"\\u0434\\u0438\\u0437\\u0430\\u0439\\u043d\", \"\\u0434\\u0438\\u0437\\u0430\\u0439\\u043d\\u0435\\u0440\", \"\\u0434\\u0438\\u043f\\u043b\\u043e\\u043c\", \"\\u0434\\u043b\\u0438\\u043d\\u043d\\u044b\\u0439\", \"\\u0434\\u043e\\u0431\\u0440\\u043e\", \"\\u0434\\u043e\\u0432\\u043e\\u043b\\u044c\\u043d\\u043e\", \"\\u0434\\u043e\\u0432\\u043e\\u043b\\u044c\\u043d\\u044b\\u0439\", \"\\u0434\\u043e\\u043a\\u0443\\u043c\\u0435\\u043d\\u0442\", \"\\u0434\\u043e\\u043b\\u0433\\u0438\\u0439\", \"\\u0434\\u043e\\u043b\\u0436\\u043d\\u043e\\u0441\\u0442\\u044c\", \"\\u0434\\u043e\\u043b\\u0436\\u043d\\u044b\\u0439\", \"\\u0434\\u043e\\u043b\\u043b\\u0430\\u0440\", \"\\u0434\\u043e\\u043c\", \"\\u0434\\u043e\\u0441\\u0442\\u0430\\u0432\\u043a\\u0430\", \"\\u0434\\u043e\\u0441\\u0442\\u0438\\u0433\\u043d\\u0443\\u0442\\u044c\", \"\\u0434\\u0440\\u0443\\u0433\", \"\\u0434\\u0440\\u0443\\u0433\", \"\\u0434\\u0440\\u0443\\u0433\\u0438\\u043c\\u0438\", \"\\u0434\\u0440\\u0443\\u0433\\u0438\\u0445\", \"\\u0434\\u0443\\u043c\\u0430\\u0442\\u044c\", \"\\u0434\\u0443\\u0448\\u0430\", \"\\u0435\\u0434\\u0438\\u043d\\u0441\\u0442\\u0432\\u0435\\u043d\\u043d\\u044b\\u0439\", \"\\u0436\\u0435\\u043b\\u0430\\u0442\\u044c\", \"\\u0436\\u0438\\u0432\\u043e\\u0439\", \"\\u0436\\u0438\\u0437\\u043d\\u044c\", \"\\u0437\\u0430\\u0431\\u044b\\u0432\\u0430\\u0442\\u044c\", \"\\u0437\\u0430\\u0432\\u0435\\u0440\\u0448\\u0435\\u043d\\u0438\\u0435\", \"\\u0437\\u0430\\u0432\\u0435\\u0440\\u0448\\u0438\\u0442\\u044c\\u0441\\u044f\", \"\\u0437\\u0430\\u0434\\u0430\\u043d\\u0438\\u0435\", \"\\u0437\\u0430\\u0434\\u0430\\u0447\\u0430\", \"\\u0437\\u0430\\u0439\\u0442\\u0438\", \"\\u0437\\u0430\\u043a\\u0430\\u043d\\u0447\\u0438\\u0432\\u0430\\u0442\\u044c\\u0441\\u044f\", \"\\u0437\\u0430\\u043a\\u043e\\u043d\\u0447\\u0438\\u0442\\u044c\", \"\\u0437\\u0430\\u043c\\u0435\\u0447\\u0430\\u0442\\u0435\\u043b\\u044c\\u043d\\u044b\\u0439\", \"\\u0437\\u0430\\u043d\\u0438\\u043c\\u0430\\u0442\\u044c\\u0441\\u044f\", \"\\u0437\\u0430\\u043d\\u044f\\u0442\\u043e\\u0441\\u0442\\u044c\", \"\\u0437\\u0430\\u043d\\u044f\\u0442\\u044c\", \"\\u0437\\u0430\\u043f\\u0430\\u0441\\u043d\\u044b\\u0439\", \"\\u0437\\u0430\\u043f\\u0440\\u043e\\u0441\", \"\\u0437\\u0430\\u0440\\u0430\\u0431\\u043e\\u0442\\u0430\\u0442\\u044c\", \"\\u0437\\u0430\\u0440\\u043f\\u043b\\u0430\\u0442\\u0430\", \"\\u0437\\u0430\\u0449\\u0438\\u0442\\u0430\", \"\\u0437\\u0435\\u043c\\u043b\\u044f\", \"\\u0437\\u043d\\u0430\\u043a\\u043e\\u043c\\u044b\\u0439\", \"\\u0437\\u043d\\u0430\\u043d\\u0438\\u0435\", \"\\u0437\\u043d\\u0430\\u0442\\u044c\", \"\\u0437\\u043d\\u0430\\u0447\\u043e\\u043a\", \"\\u0437\\u043f\", \"\\u0437\\u0440\\u0435\\u043d\\u0438\\u0435\", \"\\u0438\\u0431\", \"\\u0438\\u0431\\u043e\", \"\\u0438\\u0433\\u0440\\u0430\", \"\\u0438\\u0434\\u0435\\u044f\", \"\\u0438\\u0434\\u0442\\u0438\", \"\\u0438\\u0437\\u0432\\u043b\\u0435\\u0447\\u0435\\u043d\\u0438\\u0435\", \"\\u0438\\u0437\\u043c\\u0435\\u043d\\u0435\\u043d\\u0438\\u0435\", \"\\u0438\\u0437\\u043c\\u0435\\u043d\\u0438\\u0442\\u044c\\u0441\\u044f\", \"\\u0438\\u043c\\u0435\\u0442\\u044c\", \"\\u0438\\u043c\\u0435\\u0442\\u044c\", \"\\u0438\\u043c\\u044f\", \"\\u0438\\u043d\\u0430\\u0447\\u0435\", \"\\u0438\\u043d\\u0432\\u0435\\u0441\\u0442\\u043e\\u0440\", \"\\u0438\\u043d\\u0436\\u0435\\u043d\\u0435\\u0440\", \"\\u0438\\u043d\\u0441\\u0442\\u0440\\u0443\\u043c\\u0435\\u043d\\u0442\", \"\\u0438\\u043d\\u0442\\u0435\\u0440\\u0435\\u0441\\u043d\\u044b\\u0439\", \"\\u0438\\u043d\\u0442\\u0435\\u0440\\u0435\\u0441\\u043d\\u044b\\u0439\", \"\\u0438\\u043d\\u0442\\u0435\\u0440\\u0435\\u0441\\u043d\\u044b\\u0439\", \"\\u0438\\u043d\\u0442\\u0435\\u0440\\u0435\\u0441\\u043d\\u044b\\u0439\", \"\\u0438\\u043d\\u0442\\u0435\\u0440\\u0435\\u0441\\u043e\\u0432\\u0430\\u0442\\u044c\", \"\\u0438\\u043d\\u0442\\u0435\\u0440\\u0444\\u0435\\u0439\\u0441\", \"\\u0438\\u043d\\u0444\\u043e\\u0440\\u043c\\u0430\\u0446\\u0438\\u043e\\u043d\\u043d\\u044b\\u0439\", \"\\u0438\\u043d\\u0444\\u043e\\u0440\\u043c\\u0430\\u0446\\u0438\\u044f\", \"\\u0438\\u043d\\u0444\\u043e\\u0440\\u043c\\u0430\\u0446\\u0438\\u044f\", \"\\u0438\\u043d\\u0444\\u043e\\u0440\\u043c\\u0430\\u0446\\u0438\\u044f\", \"\\u0438\\u043d\\u0444\\u0440\\u0430\\u0441\\u0442\\u0440\\u0443\\u043a\\u0442\\u0443\\u0440\\u0430\", \"\\u0438\\u043d\\u0446\\u0438\\u0434\\u0435\\u043d\\u0442\", \"\\u0438\\u0441\\u043a\\u0430\\u0442\\u044c\", \"\\u0438\\u0441\\u043a\\u0440\\u0435\\u043d\\u043d\\u0435\", \"\\u0438\\u0441\\u043f\\u043e\\u043b\\u043d\\u0438\\u0442\\u0435\\u043b\\u044c\", \"\\u0438\\u0441\\u043f\\u043e\\u043b\\u044c\\u0437\\u043e\\u0432\\u0430\\u0442\\u044c\", \"\\u0438\\u0441\\u043f\\u043e\\u043b\\u044c\\u0437\\u043e\\u0432\\u0430\\u0442\\u044c\", \"\\u0438\\u0441\\u0441\\u043b\\u0435\\u0434\\u043e\\u0432\\u0430\\u043d\\u0438\\u0435\", \"\\u0438\\u0441\\u0442\\u043e\\u0440\\u0438\\u044f\", \"\\u0438\\u0442\", \"\\u0438\\u0442\\u043e\\u0433\", \"\\u0438\\u044e\\u043d\\u044c\", \"\\u043a\\u0430\\u0436\\u0434\\u044b\\u0439\", \"\\u043a\\u0430\\u0436\\u0434\\u044b\\u0439\", \"\\u043a\\u0430\\u0436\\u0434\\u044b\\u0439\", \"\\u043a\\u0430\\u0437\\u0430\\u0442\\u044c\\u0441\\u044f\", \"\\u043a\\u0430\\u043d\\u0430\\u043b\", \"\\u043a\\u0430\\u043d\\u0430\\u043b\", \"\\u043a\\u0430\\u0440\\u044c\\u0435\\u0440\\u0430\", \"\\u043a\\u0430\\u0440\\u044c\\u0435\\u0440\\u043d\\u044b\\u0439\", \"\\u043a\\u0430\\u0447\\u0435\\u0441\\u0442\\u0432\\u0435\\u043d\\u043d\\u043e\", \"\\u043a\\u0430\\u0447\\u0435\\u0441\\u0442\\u0432\\u043e\", \"\\u043a\\u0432\\u0430\\u0440\\u0442\\u0438\\u0440\\u0430\", \"\\u043a\\u0435\\u0439\\u0441\", \"\\u043a\\u0438\\u0442\\u0430\\u0439\\u0441\\u043a\\u0438\\u0439\", \"\\u043a\\u043b\\u0438\\u0435\\u043d\\u0442\", \"\\u043a\\u043b\\u0438\\u0435\\u043d\\u0442\", \"\\u043a\\u043b\\u0443\\u0431\", \"\\u043a\\u043d\\u0438\\u0433\\u0430\", \"\\u043a\\u043e\\u0434\", \"\\u043a\\u043e\\u043b\", \"\\u043a\\u043e\\u043b\\u0438\\u0447\\u0435\\u0441\\u0442\\u0432\\u043e\", \"\\u043a\\u043e\\u043b\\u043b\\u0435\\u0433\\u0430\", \"\\u043a\\u043e\\u043b\\u043b\\u0435\\u0433\\u0430\", \"\\u043a\\u043e\\u043c\\u0430\\u043d\\u0434\\u0430\", \"\\u043a\\u043e\\u043c\\u0430\\u043d\\u0434\\u0430\", \"\\u043a\\u043e\\u043c\\u043f\\u0430\\u043d\\u0438\\u044f\", \"\\u043a\\u043e\\u043c\\u043f\\u0430\\u043d\\u0438\\u044f\", \"\\u043a\\u043e\\u043c\\u043f\\u0430\\u043d\\u0438\\u044f\", \"\\u043a\\u043e\\u043d\\u0435\\u0446\", \"\\u043a\\u043e\\u043d\\u0442\\u0430\\u043a\\u0442\", \"\\u043a\\u043e\\u0442\\u043e\\u0440\\u0430\\u044f\", \"\\u043a\\u043e\\u0442\\u043e\\u0440\\u0430\\u044f\", \"\\u043a\\u043e\\u0442\\u043e\\u0440\\u0430\\u044f\", \"\\u043a\\u043e\\u0442\\u043e\\u0440\\u043e\\u0439\", \"\\u043a\\u043e\\u0442\\u043e\\u0440\\u043e\\u043c\", \"\\u043a\\u043e\\u0442\\u043e\\u0440\\u044b\\u0435\", \"\\u043a\\u043e\\u0442\\u043e\\u0440\\u044b\\u0435\", \"\\u043a\\u043e\\u0442\\u043e\\u0440\\u044b\\u0435\", \"\\u043a\\u043e\\u0442\\u043e\\u0440\\u044b\\u0439\", \"\\u043a\\u043e\\u0442\\u043e\\u0440\\u044b\\u0439\", \"\\u043a\\u043e\\u0442\\u043e\\u0440\\u044b\\u043c\\u0438\", \"\\u043a\\u043e\\u0444\\u0435\", \"\\u043a\\u0440\\u0443\\u043f\\u043d\\u044b\\u0439\", \"\\u043a\\u0440\\u0443\\u0442\\u043e\\u0439\", \"\\u043a\\u0441\\u0442\\u0430\\u0442\\u0438\", \"\\u043a\\u0443\\u0440\\u0441\", \"\\u043b\\u0430\\u0439\\u043a\", \"\\u043b\\u0430\\u0439\\u043a\\u0430\\u0439\\u0442\\u0435\", \"\\u043b\\u0435\\u043a\\u0446\\u0438\\u044f\", \"\\u043b\\u0438\\u0447\\u043d\\u043e\", \"\\u043b\\u044e\\u0431\\u043e\\u0439\", \"\\u043b\\u044e\\u0431\\u043e\\u0439\", \"\\u043c\\u0430\\u0439\", \"\\u043c\\u0430\\u043a\\u0441\\u0438\\u043c\\u0430\\u043b\\u044c\\u043d\\u043e\", \"\\u043c\\u0430\\u0440\\u043a\\u0435\\u0442\\u0438\\u043d\\u0433\", \"\\u043c\\u0430\\u0442\\u0435\\u043c\\u0430\\u0442\\u0438\\u043a\\u0430\", \"\\u043c\\u0435\\u043d\\u0435\\u0434\\u0436\\u0435\\u0440\", \"\\u043c\\u0435\\u043d\\u0435\\u0434\\u0436\\u0435\\u0440\", \"\\u043c\\u0435\\u043d\\u0442\\u043e\\u0440\", \"\\u043c\\u0435\\u0441\\u0442\\u043e\", \"\\u043c\\u0435\\u0441\\u044f\\u0446\", \"\\u043c\\u0435\\u0442\\u043e\\u0434\", \"\\u043c\\u0435\\u0447\\u0442\\u0430\", \"\\u043c\\u0435\\u0447\\u0442\\u0430\\u0442\\u044c\", \"\\u043c\\u0438\\u043a\\u0440\\u043e\\u0441\\u0435\\u0440\\u0432\\u0438\\u0441\\u044b\", \"\\u043c\\u0438\\u043b\\u043b\\u0438\\u043e\\u043d\", \"\\u043c\\u0438\\u043d\\u0443\\u0442\\u0430\", \"\\u043c\\u043d\\u043e\\u0433\\u0438\\u0435\", \"\\u043c\\u043d\\u043e\\u0433\\u0438\\u0445\", \"\\u043c\\u043d\\u043e\\u0439\", \"\\u043c\\u043e\\u0431\\u0438\\u043b\\u044c\\u043d\\u044b\\u0439\", \"\\u043c\\u043e\\u0434\\u0435\\u043b\\u044c\", \"\\u043c\\u043e\\u043c\\u0435\\u043d\\u0442\", \"\\u043c\\u043e\\u043d\\u0438\\u0442\\u043e\\u0440\\u0438\\u043d\\u0433\", \"\\u043c\\u043e\\u043d\\u043e\\u043b\\u0438\\u0442\", \"\\u043c\\u043e\\u043d\\u0442\\u0430\\u0436\", \"\\u043c\\u0443\\u0437\\u044b\\u043a\\u0430\", \"\\u043c\\u044b\\u0441\\u043b\\u044c\", \"\\u043d\\u0430\\u0431\\u043e\\u0440\", \"\\u043d\\u0430\\u0432\\u044b\\u043a\", \"\\u043d\\u0430\\u0434\\u0435\\u044f\\u0442\\u044c\\u0441\\u044f\", \"\\u043d\\u0430\\u0437\\u0430\\u0434\", \"\\u043d\\u0430\\u0439\\u0442\\u0438\", \"\\u043d\\u0430\\u043f\\u0438\\u0441\\u0430\\u043d\\u0438\\u0435\", \"\\u043d\\u0430\\u043f\\u0438\\u0441\\u0430\\u0442\\u044c\", \"\\u043d\\u0430\\u043f\\u0440\\u0430\\u0432\\u0438\\u0442\\u044c\", \"\\u043d\\u0430\\u043f\\u0440\\u0430\\u0432\\u043b\\u0435\\u043d\\u0438\\u0435\", \"\\u043d\\u0430\\u043f\\u0440\\u0430\\u0432\\u043b\\u0435\\u043d\\u0438\\u0435\", \"\\u043d\\u0430\\u043f\\u0440\\u0438\\u043c\\u0435\\u0440\", \"\\u043d\\u0430\\u0441\\u043a\\u043e\\u043b\\u044c\\u043a\\u043e\", \"\\u043d\\u0430\\u0441\\u0442\\u043e\\u044f\\u0449\\u0438\\u0439\", \"\\u043d\\u0430\\u0443\\u043a\\u0430\", \"\\u043d\\u0430\\u0443\\u0447\\u0438\\u0442\\u044c\\u0441\\u044f\", \"\\u043d\\u0430\\u0445\\u043e\\u0434\\u0438\\u0442\\u044c\\u0441\\u044f\", \"\\u043d\\u0430\\u0447\\u0430\\u0442\\u044c\", \"\\u043d\\u0430\\u0447\\u0438\\u043d\\u0430\\u0442\\u044c\", \"\\u043d\\u0430\\u0447\\u0438\\u043d\\u0430\\u0442\\u044c\\u0441\\u044f\", \"\\u043d\\u0435\\u0434\\u0430\\u0432\\u043d\\u043e\", \"\\u043d\\u0435\\u0434\\u0435\\u043b\\u044f\", \"\\u043d\\u0435\\u0434\\u0435\\u043b\\u044f\", \"\\u043d\\u0435\\u043a\\u043e\\u0442\\u043e\\u0440\\u044b\\u0439\", \"\\u043d\\u0435\\u043e\\u0431\\u0445\\u043e\\u0434\\u0438\\u043c\\u044b\\u0439\", \"\\u043d\\u0435\\u043e\\u0431\\u0445\\u043e\\u0434\\u0438\\u043c\\u044b\\u0439\", \"\\u043d\\u0435\\u043e\\u0436\\u0438\\u0434\\u0430\\u043d\\u043d\\u044b\\u0439\", \"\\u043d\\u0435\\u043e\\u0442\\u044a\\u0435\\u043c\\u043b\\u0435\\u043c\\u044b\\u0439\", \"\\u043d\\u0435\\u0441\\u043a\\u043e\\u043b\\u044c\\u043a\\u043e\", \"\\u043d\\u0438\\u0433\\u0434\\u0435\", \"\\u043d\\u0438\\u043a\\u0442\\u043e\", \"\\u043d\\u043e\\u0432\\u043e\\u0441\\u0442\\u044c\", \"\\u043d\\u043e\\u0432\\u044b\\u0439\", \"\\u043d\\u043e\\u0432\\u044b\\u0439\", \"\\u043d\\u043e\\u0432\\u044b\\u0439\", \"\\u043d\\u043e\\u0440\\u043c\\u0430\\u043b\\u044c\\u043d\\u044b\\u0439\", \"\\u043d\\u0443\\u0436\\u043d\\u044b\\u0439\", \"\\u043d\\u0443\\u0436\\u043d\\u044b\\u0439\", \"\\u043d\\u0443\\u0436\\u043d\\u044b\\u0439\", \"\\u043e\\u0431\\u0435\\u0441\\u043f\\u0435\\u0447\\u0438\\u0432\\u0430\\u0442\\u044c\", \"\\u043e\\u0431\\u043b\\u0430\\u0434\\u0430\\u0442\\u044c\", \"\\u043e\\u0431\\u0440\\u0430\\u0431\\u043e\\u0442\\u043a\\u0430\", \"\\u043e\\u0431\\u0441\\u043b\\u0443\\u0436\\u0438\\u0432\\u0430\\u043d\\u0438\\u0435\", \"\\u043e\\u0431\\u0443\\u0447\\u0435\\u043d\\u0438\\u0435\", \"\\u043e\\u0431\\u0443\\u0447\\u0435\\u043d\\u0438\\u0435\", \"\\u043e\\u0431\\u0449\\u0435\\u043d\\u0438\\u0435\", \"\\u043e\\u0431\\u0449\\u0438\\u0439\", \"\\u043e\\u0431\\u044a\\u044f\\u0432\\u043b\\u0435\\u043d\\u0438\\u0435\", \"\\u043e\\u0431\\u044a\\u044f\\u0441\\u043d\\u0438\\u0442\\u044c\", \"\\u043e\\u0434\\u043d\\u043e\", \"\\u043e\\u0434\\u043d\\u0443\", \"\\u043e\\u0436\\u0438\\u0434\\u0430\\u0442\\u044c\", \"\\u043e\\u043a\\u0430\\u0437\\u0430\\u0442\\u044c\\u0441\\u044f\", \"\\u043e\\u043a\\u0430\\u0437\\u044b\\u0432\\u0430\\u0442\\u044c\", \"\\u043e\\u043a\\u043e\\u043d\\u0447\\u0430\\u043d\\u0438\\u0435\", \"\\u043e\\u043a\\u0442\\u044f\\u0431\\u0440\\u044c\", \"\\u043e\\u043d\\u043b\\u0430\\u0439\\u043d\", \"\\u043e\\u043f\\u044b\\u0442\", \"\\u043e\\u0441\\u0442\\u0430\\u043b\\u044c\\u043d\\u044b\\u0435\", \"\\u043e\\u0441\\u0442\\u0430\\u0442\\u044c\\u0441\\u044f\", \"\\u043e\\u0442\\u0432\\u0435\\u0442\", \"\\u043e\\u0442\\u0432\\u0435\\u0442\\u0438\\u0442\\u044c\", \"\\u043e\\u0442\\u0434\\u044b\\u0445\", \"\\u043e\\u0442\\u0437\\u044b\\u0432\", \"\\u043e\\u0442\\u043a\\u043b\\u0438\\u043a\\u0430\\u0439\\u0442\\u0435\\u0441\\u044c\", \"\\u043e\\u0442\\u043a\\u043b\\u0438\\u043a\\u0430\\u0442\\u044c\\u0441\\u044f\", \"\\u043e\\u0442\\u043b\\u0438\\u0447\\u0438\\u0435\", \"\\u043e\\u0442\\u0441\\u0443\\u0442\\u0441\\u0442\\u0432\\u0438\\u0435\", \"\\u043e\\u0444\\u0438\\u0441\", \"\\u043e\\u0444\\u0438\\u0441\", \"\\u043e\\u0444\\u0438\\u0441\\u043d\\u044b\\u0439\", \"\\u043e\\u0444\\u0438\\u0446\\u0438\\u0430\\u043b\\u044c\\u043d\\u044b\\u0439\", \"\\u043e\\u0447\\u0435\\u0440\\u0435\\u0434\\u043d\\u043e\\u0439\", \"\\u043e\\u0448\\u0438\\u0431\\u043a\\u0430\", \"\\u043f\\u0430\\u0434\\u0430\\u0442\\u044c\", \"\\u043f\\u0430\\u0440\\u0430\", \"\\u043f\\u0435\\u0440\\u0432\\u044b\\u0439\", \"\\u043f\\u0435\\u0440\\u0432\\u044b\\u0439\", \"\\u043f\\u0435\\u0440\\u0435\\u0439\\u0442\\u0438\", \"\\u043f\\u0435\\u0440\\u0435\\u043f\\u0438\\u0441\\u043a\\u0430\", \"\\u043f\\u0435\\u0440\\u0435\\u0445\\u043e\\u0434\", \"\\u043f\\u0435\\u0440\\u0438\\u043e\\u0434\", \"\\u043f\\u0438\\u0441\\u0430\\u0442\\u044c\", \"\\u043f\\u0438\\u0441\\u0430\\u0442\\u044c\", \"\\u043f\\u0438\\u0441\\u0430\\u0442\\u044c\", \"\\u043f\\u0438\\u0448\\u0438\\u0442\\u0435\", \"\\u043f\\u043b\\u0430\\u043d\", \"\\u043f\\u043b\\u0430\\u0442\\u043d\\u044b\\u0439\", \"\\u043f\\u043e\\u0431\\u0435\\u0434\\u0430\", \"\\u043f\\u043e\\u0432\\u0435\\u0434\\u0435\\u043d\\u0438\\u0435\", \"\\u043f\\u043e\\u0432\\u0435\\u0434\\u0435\\u043d\\u0438\\u0435\", \"\\u043f\\u043e\\u0432\\u044b\\u0441\\u0438\\u0442\\u044c\", \"\\u043f\\u043e\\u0434\\u0431\\u043e\\u0440\\u043a\\u0430\", \"\\u043f\\u043e\\u0434\\u0433\\u043e\\u0442\\u043e\\u0432\\u043a\\u0430\", \"\\u043f\\u043e\\u0434\\u0435\\u043b\\u0438\\u0442\\u044c\\u0441\\u044f\", \"\\u043f\\u043e\\u0434\\u043a\\u0430\\u0441\\u0442\", \"\\u043f\\u043e\\u0434\\u043f\\u0438\\u0448\\u0438\\u0442\\u0435\\u0441\\u044c\", \"\\u043f\\u043e\\u0434\\u0440\\u043e\\u0431\\u043d\\u044b\\u0439\", \"\\u043f\\u043e\\u0437\\u0432\\u043e\\u043b\\u044f\\u0442\\u044c\", \"\\u043f\\u043e\\u0437\\u0434\\u043d\\u043e\", \"\\u043f\\u043e\\u0437\\u0438\\u0446\\u0438\\u044f\", \"\\u043f\\u043e\\u0437\\u0438\\u0446\\u0438\\u044f\", \"\\u043f\\u043e\\u0437\\u043d\\u0430\\u043a\\u043e\\u043c\\u0438\\u0442\\u044c\\u0441\\u044f\", \"\\u043f\\u043e\\u0438\\u0441\\u043a\", \"\\u043f\\u043e\\u0438\\u0441\\u043a\", \"\\u043f\\u043e\\u043a\\u0443\\u043f\\u0430\\u0442\\u0435\\u043b\\u044c\", \"\\u043f\\u043e\\u043b\", \"\\u043f\\u043e\\u043b\\u0435\\u0437\\u043d\\u044b\\u0439\", \"\\u043f\\u043e\\u043b\\u0435\\u0437\\u043d\\u044b\\u0439\", \"\\u043f\\u043e\\u043b\\u043d\\u043e\\u0441\\u0442\\u044c\\u044e\", \"\\u043f\\u043e\\u043b\\u0443\\u0447\\u0430\\u0442\\u044c\", \"\\u043f\\u043e\\u043b\\u0443\\u0447\\u0438\\u0442\\u044c\", \"\\u043f\\u043e\\u043b\\u0443\\u0447\\u0438\\u0442\\u044c\", \"\\u043f\\u043e\\u043b\\u0443\\u0447\\u0438\\u0442\\u044c\\u0441\\u044f\", \"\\u043f\\u043e\\u043b\\u044c\\u0437\\u043e\\u0432\\u0430\\u0442\\u0435\\u043b\\u044c\", \"\\u043f\\u043e\\u043b\\u044c\\u0437\\u043e\\u0432\\u0430\\u0442\\u0435\\u043b\\u044c\\u0441\\u043a\\u0438\\u0439\", \"\\u043f\\u043e\\u043b\\u044c\\u0448\\u0430\", \"\\u043f\\u043e\\u043c\\u043e\\u0433\\u0430\\u0442\\u044c\", \"\\u043f\\u043e\\u043c\\u043e\\u0447\\u044c\", \"\\u043f\\u043e\\u043c\\u043e\\u0447\\u044c\", \"\\u043f\\u043e\\u043c\\u043e\\u0447\\u044c\", \"\\u043f\\u043e\\u043c\\u043e\\u0449\\u044c\", \"\\u043f\\u043e\\u043d\\u0438\\u043c\\u0430\\u0442\\u044c\", \"\\u043f\\u043e\\u043d\\u044f\\u0442\\u043d\\u044b\\u0439\", \"\\u043f\\u043e\\u043d\\u044f\\u0442\\u044c\", \"\\u043f\\u043e\\u043f\\u0430\\u0441\\u0442\\u044c\", \"\\u043f\\u043e\\u043f\\u0440\\u043e\\u0431\\u043e\\u0432\\u0430\\u0442\\u044c\", \"\\u043f\\u043e\\u043f\\u0440\\u043e\\u0441\\u0438\\u0442\\u044c\", \"\\u043f\\u043e\\u043f\\u0443\\u043b\\u044f\\u0440\\u043d\\u044b\\u0439\", \"\\u043f\\u043e\\u0441\\u0442\", \"\\u043f\\u043e\\u0441\\u0442\\u043e\\u044f\\u043d\\u043d\\u043e\", \"\\u043f\\u043e\\u0443\\u0447\\u0430\\u0441\\u0442\\u0432\\u043e\\u0432\\u0430\\u0442\\u044c\", \"\\u043f\\u043e\\u0447\\u0435\\u043c\\u0443\", \"\\u043f\\u043e\\u0447\\u0442\\u0430\", \"\\u043f\\u043e\\u044d\\u0442\\u043e\\u043c\\u0443\", \"\\u043f\\u0440\\u0430\\u0437\\u0434\\u043d\\u0438\\u043a\", \"\\u043f\\u0440\\u0430\\u043a\\u0442\\u0438\\u0447\\u0435\\u0441\\u043a\\u0438\\u0439\", \"\\u043f\\u0440\\u0435\\u0434\\u043b\\u0430\\u0433\\u0430\\u0442\\u044c\", \"\\u043f\\u0440\\u0435\\u0434\\u043c\\u0435\\u0442\\u043d\\u044b\\u0439\", \"\\u043f\\u0440\\u0435\\u0434\\u043e\\u0441\\u0442\\u0430\\u0432\\u043b\\u0435\\u043d\\u0438\\u0435\", \"\\u043f\\u0440\\u0435\\u0434\\u043e\\u0441\\u0442\\u0430\\u0432\\u043b\\u044f\\u0442\\u044c\", \"\\u043f\\u0440\\u0435\\u0434\\u0441\\u0442\\u0430\\u0432\\u043b\\u0435\\u043d\\u0438\\u0435\", \"\\u043f\\u0440\\u0435\\u0434\\u0441\\u0442\\u0430\\u0432\\u043b\\u044f\\u0442\\u044c\", \"\\u043f\\u0440\\u0435\\u0434\\u044b\\u0434\\u0443\\u0449\\u0438\\u0439\", \"\\u043f\\u0440\\u0438\\u0432\\u0435\\u0442\", \"\\u043f\\u0440\\u0438\\u0433\\u043b\\u0430\\u0448\\u0430\\u0442\\u044c\", \"\\u043f\\u0440\\u0438\\u0439\\u0442\\u0438\", \"\\u043f\\u0440\\u0438\\u0439\\u0442\\u0438\", \"\\u043f\\u0440\\u0438\\u043b\\u043e\\u0436\\u0435\\u043d\\u0438\\u0435\", \"\\u043f\\u0440\\u0438\\u043c\\u0435\\u0440\", \"\\u043f\\u0440\\u0438\\u043c\\u0435\\u0440\\u043d\\u043e\", \"\\u043f\\u0440\\u0438\\u043d\\u0438\\u043c\\u0430\\u0442\\u044c\", \"\\u043f\\u0440\\u0438\\u043e\\u0431\\u0440\\u0435\\u0441\\u0442\\u0438\", \"\\u043f\\u0440\\u0438\\u0441\\u0442\\u0443\\u043f\\u0438\\u0442\\u044c\", \"\\u043f\\u0440\\u0438\\u0447\\u0438\\u043d\\u0430\", \"\\u043f\\u0440\\u0438\\u044f\\u0442\\u043d\\u044b\\u0439\", \"\\u043f\\u0440\\u043e\\u0431\\u043b\\u0435\\u043c\\u043d\\u044b\\u0439\", \"\\u043f\\u0440\\u043e\\u0431\\u043e\\u0432\\u0430\\u0442\\u044c\", \"\\u043f\\u0440\\u043e\\u0432\\u0435\\u0440\\u043a\\u0430\", \"\\u043f\\u0440\\u043e\\u0432\\u043e\\u0434\\u0438\\u0442\\u044c\", \"\\u043f\\u0440\\u043e\\u0433\\u0440\\u0430\\u043c\\u043c\\u0430\", \"\\u043f\\u0440\\u043e\\u0433\\u0440\\u0430\\u043c\\u043c\\u0438\\u0440\\u043e\\u0432\\u0430\\u043d\\u0438\\u0435\", \"\\u043f\\u0440\\u043e\\u0433\\u0440\\u0430\\u043c\\u043c\\u0438\\u0441\\u0442\", \"\\u043f\\u0440\\u043e\\u0434\\u0430\\u0432\\u0435\\u0446\", \"\\u043f\\u0440\\u043e\\u0434\\u043e\\u043b\\u0436\\u0430\\u0442\\u044c\", \"\\u043f\\u0440\\u043e\\u0434\\u043e\\u043b\\u0436\\u0435\\u043d\\u0438\\u0435\", \"\\u043f\\u0440\\u043e\\u0434\\u043e\\u043b\\u0436\\u0438\\u0442\\u044c\", \"\\u043f\\u0440\\u043e\\u0434\\u0443\\u043a\\u0442\", \"\\u043f\\u0440\\u043e\\u0434\\u0443\\u043a\\u0442\", \"\\u043f\\u0440\\u043e\\u0434\\u0443\\u043a\\u0442\\u043e\\u0432\\u044b\\u0439\", \"\\u043f\\u0440\\u043e\\u0435\\u043a\\u0442\", \"\\u043f\\u0440\\u043e\\u0435\\u043a\\u0442\", \"\\u043f\\u0440\\u043e\\u0438\\u0437\\u0432\\u043e\\u0434\\u0438\\u0442\\u0435\\u043b\\u044c\\u043d\\u043e\\u0441\\u0442\\u044c\", \"\\u043f\\u0440\\u043e\\u0439\\u0442\\u0438\", \"\\u043f\\u0440\\u043e\\u0439\\u0442\\u0438\", \"\\u043f\\u0440\\u043e\\u0441\\u043c\\u043e\\u0442\\u0440\\u0435\\u0442\\u044c\", \"\\u043f\\u0440\\u043e\\u0441\\u0442\\u0438\\u0442\\u044c\", \"\\u043f\\u0440\\u043e\\u0441\\u0442\\u043e\", \"\\u043f\\u0440\\u043e\\u0444\\u0435\\u0441\\u0441\\u0438\\u043e\\u043d\\u0430\\u043b\\u044c\\u043d\\u044b\\u0439\", \"\\u043f\\u0440\\u043e\\u0444\\u0438\\u043b\\u044c\", \"\\u043f\\u0440\\u043e\\u0446\\u0435\\u0441\\u0441\", \"\\u043f\\u0440\\u043e\\u0448\\u043b\\u043e\\u0435\", \"\\u043f\\u0443\\u0431\\u043b\\u0438\\u043a\\u0430\\u0446\\u0438\\u044f\", \"\\u043f\\u0443\\u0442\\u044c\", \"\\u0440\\u0430\\u0431\\u043e\\u0442\\u0430\", \"\\u0440\\u0430\\u0431\\u043e\\u0442\\u0430\", \"\\u0440\\u0430\\u0431\\u043e\\u0442\\u0430\", \"\\u0440\\u0430\\u0431\\u043e\\u0442\\u0430\", \"\\u0440\\u0430\\u0431\\u043e\\u0442\\u0430\", \"\\u0440\\u0430\\u0431\\u043e\\u0442\\u0430\\u0442\\u044c\", \"\\u0440\\u0430\\u0431\\u043e\\u0442\\u0430\\u0442\\u044c\", \"\\u0440\\u0430\\u0431\\u043e\\u0442\\u0430\\u0442\\u044c\", \"\\u0440\\u0430\\u0431\\u043e\\u0442\\u0430\\u0442\\u044c\", \"\\u0440\\u0430\\u0431\\u043e\\u0442\\u0430\\u0442\\u044c\", \"\\u0440\\u0430\\u0431\\u043e\\u0447\\u0438\\u0439\", \"\\u0440\\u0430\\u0434\", \"\\u0440\\u0430\\u0434\\u043e\\u0432\\u0430\\u0442\\u044c\\u0441\\u044f\", \"\\u0440\\u0430\\u0434\\u043e\\u0441\\u0442\\u044c\", \"\\u0440\\u0430\\u0437\\u0431\\u0438\\u0440\\u0430\\u0442\\u044c\\u0441\\u044f\", \"\\u0440\\u0430\\u0437\\u0432\\u0438\\u0442\\u0438\\u0435\", \"\\u0440\\u0430\\u0437\\u0432\\u0438\\u0442\\u0438\\u0435\", \"\\u0440\\u0430\\u0437\\u0434\\u0435\\u043b\", \"\\u0440\\u0430\\u0437\\u043d\\u043e\\u043e\\u0431\\u0440\\u0430\\u0437\\u043d\\u044b\\u0439\", \"\\u0440\\u0430\\u0437\\u043e\\u0431\\u0440\\u0430\\u0442\\u044c\\u0441\\u044f\", \"\\u0440\\u0430\\u0437\\u0440\\u0430\\u0431\\u043e\\u0442\\u043a\\u0430\", \"\\u0440\\u0430\\u0437\\u0440\\u0430\\u0431\\u043e\\u0442\\u043a\\u0430\", \"\\u0440\\u0430\\u0437\\u0440\\u0430\\u0431\\u043e\\u0442\\u0447\\u0438\\u043a\", \"\\u0440\\u0430\\u043d\\u043e\", \"\\u0440\\u0430\\u0441\\u0441\\u043a\\u0430\\u0437\\u0430\\u0442\\u044c\", \"\\u0440\\u0430\\u0441\\u0441\\u043a\\u0430\\u0437\\u0430\\u0442\\u044c\", \"\\u0440\\u0430\\u0441\\u0441\\u043a\\u0430\\u0437\\u044b\\u0432\\u0430\\u0442\\u044c\", \"\\u0440\\u0430\\u0441\\u0441\\u0447\\u0438\\u0442\\u0430\\u0442\\u044c\", \"\\u0440\\u0435\\u0430\\u043b\\u0438\\u0437\\u043e\\u0432\\u0430\\u0442\\u044c\", \"\\u0440\\u0435\\u0431\\u044f\\u0442\", \"\\u0440\\u0435\\u0431\\u044f\\u0442\\u0430\", \"\\u0440\\u0435\\u0437\\u0443\\u043b\\u044c\\u0442\\u0430\\u0442\", \"\\u0440\\u0435\\u0437\\u044e\\u043c\\u0435\", \"\\u0440\\u0435\\u0439\\u0442\\u0438\\u043d\\u0433\", \"\\u0440\\u0435\\u043a\\u043b\\u0430\\u043c\\u043d\\u044b\\u0439\", \"\\u0440\\u0435\\u043a\\u043e\\u043c\\u0435\\u043d\\u0434\\u0430\\u0446\\u0438\\u044f\", \"\\u0440\\u0435\\u043a\\u043e\\u043c\\u0435\\u043d\\u0434\\u0430\\u0446\\u0438\\u044f\", \"\\u0440\\u0435\\u043a\\u043e\\u043c\\u0435\\u043d\\u0434\\u043e\\u0432\\u0430\\u0442\\u044c\", \"\\u0440\\u0435\\u0448\\u0435\\u043d\\u0438\\u0435\", \"\\u0440\\u0435\\u0448\\u0438\\u0442\\u044c\", \"\\u0440\\u0435\\u0448\\u0438\\u0442\\u044c\\u0441\\u044f\", \"\\u0440\\u043e\\u0441\\u0441\\u0438\\u0439\\u0441\\u043a\\u0438\\u0439\", \"\\u0440\\u043e\\u0441\\u0442\", \"\\u0440\\u0443\\u043a\\u0430\", \"\\u0440\\u0443\\u043a\\u043e\\u0432\\u043e\\u0434\\u0438\\u0442\\u0435\\u043b\\u044c\", \"\\u0440\\u044b\\u043d\\u043e\\u043a\", \"\\u0441\\u0430\\u0439\\u0442\", \"\\u0441\\u0430\\u043c\\u043e\\u0439\", \"\\u0441\\u0430\\u043c\\u0443\\u044e\", \"\\u0441\\u0432\\u0438\\u0442\\u0435\\u0440\", \"\\u0441\\u0434\\u0435\\u043b\\u0430\\u0442\\u044c\", \"\\u0441\\u0434\\u0435\\u043b\\u043a\\u0430\", \"\\u0441\\u0435\\u0433\\u043e\\u0434\\u043d\\u044f\", \"\\u0441\\u0435\\u0433\\u043e\\u0434\\u043d\\u044f\", \"\\u0441\\u0435\\u043c\\u044c\\u044f\", \"\\u0441\\u0435\\u0440\\u0432\\u0435\\u0440\\u043d\\u044b\\u0439\", \"\\u0441\\u0435\\u0440\\u0432\\u0438\\u0441\", \"\\u0441\\u0435\\u0442\\u044c\", \"\\u0441\\u0438\\u043b\\u0438\\u043a\\u043e\\u043d\\u043e\\u0432\\u044b\\u0439\", \"\\u0441\\u0438\\u0441\\u0442\\u0435\\u043c\\u0430\", \"\\u0441\\u0438\\u0442\\u0443\\u0430\\u0446\\u0438\\u044f\", \"\\u0441\\u043a\\u0430\\u0437\\u0430\\u0442\\u044c\", \"\\u0441\\u043a\\u0430\\u0439\\u043f\", \"\\u0441\\u043a\\u043e\\u0440\\u043e\\u0441\\u0442\\u044c\", \"\\u0441\\u043b\\u0435\\u0434\\u0443\\u044e\\u0449\\u0438\\u0439\", \"\\u0441\\u043b\\u0435\\u0434\\u0443\\u044e\\u0449\\u0438\\u0439\", \"\\u0441\\u043b\\u043e\\u0432\\u043e\", \"\\u0441\\u043b\\u043e\\u0436\\u043d\\u044b\\u0439\", \"\\u0441\\u043b\\u0443\\u0447\\u0438\\u0442\\u044c\\u0441\\u044f\", \"\\u0441\\u043c\\u0435\\u0436\\u043d\\u044b\\u0439\", \"\\u0441\\u043c\\u043e\\u0447\\u044c\", \"\\u0441\\u043e\\u0431\\u0435\\u0441\\u0435\\u0434\\u043e\\u0432\\u0430\\u043d\\u0438\\u0435\", \"\\u0441\\u043e\\u0431\\u0438\\u0440\\u0430\\u0442\\u044c\", \"\\u0441\\u043e\\u0431\\u0440\\u0430\\u0442\\u044c\", \"\\u0441\\u043e\\u0432\\u0435\\u0442\", \"\\u0441\\u043e\\u0437\\u0434\\u0430\\u043d\\u0438\\u0435\", \"\\u0441\\u043e\\u0437\\u0434\\u0430\\u043d\\u0438\\u0435\", \"\\u0441\\u043e\\u0437\\u0434\\u0430\\u0442\\u044c\", \"\\u0441\\u043e\\u043e\\u0431\\u0449\\u0430\\u0442\\u044c\", \"\\u0441\\u043e\\u043e\\u0431\\u0449\\u0430\\u0442\\u044c\", \"\\u0441\\u043e\\u043e\\u0431\\u0449\\u0435\\u0441\\u0442\\u0432\\u043e\", \"\\u0441\\u043e\\u0442\\u0440\\u0443\\u0434\\u043d\\u0438\\u043a\", \"\\u0441\\u043e\\u0444\\u0442\", \"\\u0441\\u043e\\u0446\\u0441\\u0435\\u0442\\u044c\", \"\\u0441\\u043f\\u0430\\u0441\\u0438\\u0431\\u043e\", \"\\u0441\\u043f\\u0435\\u0446\\u0438\\u0430\\u043b\\u0438\\u0441\\u0442\", \"\\u0441\\u043f\\u0435\\u0446\\u0438\\u0430\\u043b\\u0438\\u0441\\u0442\", \"\\u0441\\u043f\\u0435\\u0446\\u0438\\u0430\\u043b\\u044c\\u043d\\u043e\\u0441\\u0442\\u044c\", \"\\u0441\\u043f\\u0438\\u0441\\u043e\\u043a\", \"\\u0441\\u043f\\u043e\\u0441\\u043e\\u0431\", \"\\u0441\\u0441\\u044b\\u043b\\u043a\\u0430\", \"\\u0441\\u0441\\u044b\\u043b\\u043a\\u0430\", \"\\u0441\\u0442\\u0430\\u0432\\u0438\\u0442\\u044c\", \"\\u0441\\u0442\\u0430\\u0436\\u0438\\u0440\\u043e\\u0432\\u043a\\u0430\", \"\\u0441\\u0442\\u0430\\u043d\\u043e\\u0432\\u0438\\u0442\\u044c\\u0441\\u044f\", \"\\u0441\\u0442\\u0430\\u0440\\u0430\\u0442\\u044c\\u0441\\u044f\", \"\\u0441\\u0442\\u0430\\u0440\\u0442\\u0430\\u043f\", \"\\u0441\\u0442\\u0430\\u0440\\u0442\\u043e\\u0432\\u0430\\u0442\\u044c\", \"\\u0441\\u0442\\u0430\\u0442\\u044c\", \"\\u0441\\u0442\\u0430\\u0442\\u044c\", \"\\u0441\\u0442\\u0430\\u0442\\u044c\\u044f\", \"\\u0441\\u0442\\u0435\\u043a\", \"\\u0441\\u0442\\u043e\\u0440\\u043e\\u043d\\u0430\", \"\\u0441\\u0442\\u043e\\u044f\\u0442\\u044c\", \"\\u0441\\u0442\\u0440\\u0430\\u0434\\u0430\\u0442\\u044c\", \"\\u0441\\u0442\\u0440\\u0430\\u043d\\u0438\\u0446\\u0430\", \"\\u0441\\u0442\\u0440\\u0430\\u043d\\u0438\\u0447\\u043a\\u0430\", \"\\u0441\\u0443\\u0442\\u044c\", \"\\u0441\\u0447\\u0430\\u0441\\u0442\\u043b\\u0438\\u0432\\u044b\\u0439\", \"\\u0441\\u0447\\u0438\\u0442\\u0430\\u0442\\u044c\", \"\\u0442\\u0430\\u043a\\u0436\\u0435\", \"\\u0442\\u0430\\u043a\\u0436\\u0435\", \"\\u0442\\u0430\\u043a\\u0436\\u0435\", \"\\u0442\\u0430\\u0440\\u0438\\u0444\", \"\\u0442\\u0433\", \"\\u0442\\u0435\\u043a\\u0443\\u0449\\u0438\\u0439\", \"\\u0442\\u0435\\u043b\\u0435\\u0433\\u0430\", \"\\u0442\\u0435\\u043b\\u0435\\u0433\\u0440\\u0430\\u043c\", \"\\u0442\\u0435\\u043b\\u0435\\u0433\\u0440\\u0430\\u043c\\u043c\\u0430\", \"\\u0442\\u0435\\u043c\\u0430\", \"\\u0442\\u0435\\u0441\\u0442\", \"\\u0442\\u0435\\u0441\\u0442\\u0438\\u0440\\u043e\\u0432\\u0430\\u043d\\u0438\\u0435\", \"\\u0442\\u0435\\u0445\\u043d\\u0438\\u043a\\u0430\", \"\\u0442\\u0435\\u0445\\u043d\\u043e\\u043b\\u043e\\u0433\\u0438\\u0447\\u0435\\u0441\\u043a\\u0438\\u0439\", \"\\u0442\\u0435\\u0445\\u043d\\u043e\\u043b\\u043e\\u0433\\u0438\\u044f\", \"\\u0442\\u0435\\u0447\\u0435\\u043d\\u0438\\u0435\", \"\\u0442\\u043e\\u0432\\u0430\\u0440\", \"\\u0442\\u043e\\u043c\\u0443\", \"\\u0442\\u043e\\u043f\", \"\\u0442\\u043e\\u0447\\u043d\\u043e\", \"\\u0442\\u0440\\u0435\\u0431\\u043e\\u0432\\u0430\\u043d\\u0438\\u0435\", \"\\u0442\\u0440\\u0435\\u0431\\u043e\\u0432\\u0430\\u0442\\u044c\", \"\\u0442\\u0440\\u0435\\u043d\\u0438\\u0440\\u043e\\u0432\\u043a\\u0430\", \"\\u0442\\u0443\\u0434\\u0430\", \"\\u0443\\u0432\\u0430\\u0436\\u0435\\u043d\\u0438\\u0435\", \"\\u0443\\u0432\\u0438\\u0434\\u0435\\u0442\\u044c\", \"\\u0443\\u0433\\u0440\\u043e\\u0437\\u0430\", \"\\u0443\\u0434\\u043e\\u0432\\u043e\\u043b\\u044c\\u0441\\u0442\\u0432\\u0438\\u0435\", \"\\u0443\\u043d\\u0438\\u0432\\u0435\\u0440\\u0441\\u0438\\u0442\\u0435\\u0442\", \"\\u0443\\u043d\\u0438\\u0432\\u0435\\u0440\\u0441\\u0438\\u0442\\u0435\\u0442\", \"\\u0443\\u043f\\u0440\\u0430\\u0432\\u043b\\u0435\\u043d\\u0438\\u0435\", \"\\u0443\\u043f\\u0440\\u0430\\u0432\\u043b\\u0435\\u043d\\u0438\\u0435\", \"\\u0443\\u043f\\u0440\\u0430\\u0432\\u043b\\u0435\\u043d\\u0438\\u0435\\u043f\\u0440\\u043e\\u0435\\u043a\\u0442\\u0430\\u043c\\u0438\", \"\\u0443\\u043f\\u0440\\u043e\\u0441\\u0442\\u0438\\u0442\\u044c\", \"\\u0443\\u0440\\u043e\\u0432\\u0435\\u043d\\u044c\", \"\\u0443\\u0440\\u043e\\u0432\\u0435\\u043d\\u044c\", \"\\u0443\\u0440\\u043e\\u0432\\u0435\\u043d\\u044c\", \"\\u0443\\u0441\\u043b\\u043e\\u0432\\u0438\\u0435\", \"\\u0443\\u0441\\u043b\\u0443\\u0433\\u0438\", \"\\u0443\\u0447\\u0430\\u0441\\u0442\\u0432\\u043e\\u0432\\u0430\\u0442\\u044c\", \"\\u0443\\u0447\\u0435\\u043d\\u0438\\u043a\", \"\\u0444\\u0438\\u043b\\u044c\\u043c\", \"\\u0444\\u043e\\u043d\", \"\\u0444\\u043e\\u0440\\u043c\\u0430\", \"\\u0444\\u043e\\u0440\\u043c\\u0430\\u0442\", \"\\u0444\\u0440\\u0435\\u0439\\u043c\\u0432\\u043e\\u0440\\u043a\", \"\\u0444\\u0440\\u043e\\u043d\\u0442\", \"\\u0444\\u0443\\u043d\\u043a\\u0446\\u0438\\u043e\\u043d\\u0430\\u043b\", \"\\u0444\\u0443\\u043d\\u043a\\u0446\\u0438\\u044f\", \"\\u0445\\u0432\\u0430\\u0442\\u0430\\u0442\\u044c\", \"\\u0445\\u043e\\u0440\\u043e\\u0448\\u0438\\u0439\", \"\\u0445\\u043e\\u0440\\u043e\\u0448\\u0438\\u0439\", \"\\u0445\\u043e\\u0440\\u043e\\u0448\\u0438\\u0439\", \"\\u0445\\u043e\\u0442\\u0435\\u0442\\u044c\", \"\\u0445\\u043e\\u0442\\u0435\\u0442\\u044c\", \"\\u0445\\u043e\\u0442\\u0435\\u0442\\u044c\\u0441\\u044f\", \"\\u0446\\u0435\\u043b\\u044c\", \"\\u0446\\u0435\\u043d\\u043d\\u044b\\u0439\", \"\\u0447\\u0430\\u0441\", \"\\u0447\\u0430\\u0441\\u0442\\u043e\", \"\\u0447\\u0430\\u0441\\u0442\\u044c\", \"\\u0447\\u0430\\u0441\\u0442\\u044c\", \"\\u0447\\u0435\\u043b\\u043e\\u0432\\u0435\\u043a\", \"\\u0447\\u0438\\u0441\\u043b\\u043e\", \"\\u0447\\u0438\\u0441\\u0442\\u044b\\u0439\", \"\\u0447\\u0438\\u0442\\u0430\\u0442\\u044c\", \"\\u0447\\u0443\\u0434\\u043e\", \"\\u0448\\u043a\\u043e\\u043b\\u0430\", \"\\u044d\\u043a\\u043e\\u0441\\u0438\\u0441\\u0442\\u0435\\u043c\\u0430\", \"\\u044d\\u043f\\u0438\\u0437\\u043e\\u0434\", \"\\u044d\\u0444\\u0444\\u0435\\u043a\\u0442\\u0438\\u0432\\u043d\\u043e\\u0441\\u0442\\u044c\", \"\\u044d\\u0444\\u0444\\u0435\\u043a\\u0442\\u0438\\u0432\\u043d\\u044b\\u0439\", \"\\u044d\\u0444\\u0444\\u0435\\u043a\\u0442\\u0438\\u0432\\u043d\\u044b\\u0439\", \"\\u044f\\u0432\\u043b\\u044f\\u0442\\u044c\\u0441\\u044f\", \"\\u044f\\u0437\\u044b\\u043a\"]}, \"R\": 30, \"lambda.step\": 0.01, \"plot.opts\": {\"xlab\": \"PC1\", \"ylab\": \"PC2\"}, \"topic.order\": [16, 19, 18, 9, 13, 15, 14, 7, 6, 8, 20, 2, 17, 1, 11, 5, 4, 3, 12, 10]};\n",
       "\n",
       "function LDAvis_load_lib(url, callback){\n",
       "  var s = document.createElement('script');\n",
       "  s.src = url;\n",
       "  s.async = true;\n",
       "  s.onreadystatechange = s.onload = callback;\n",
       "  s.onerror = function(){console.warn(\"failed to load library \" + url);};\n",
       "  document.getElementsByTagName(\"head\")[0].appendChild(s);\n",
       "}\n",
       "\n",
       "if(typeof(LDAvis) !== \"undefined\"){\n",
       "   // already loaded: just create the visualization\n",
       "   !function(LDAvis){\n",
       "       new LDAvis(\"#\" + \"ldavis_el14682364472300802079112267\", ldavis_el14682364472300802079112267_data);\n",
       "   }(LDAvis);\n",
       "}else if(typeof define === \"function\" && define.amd){\n",
       "   // require.js is available: use it to load d3/LDAvis\n",
       "   require.config({paths: {d3: \"https://d3js.org/d3.v5\"}});\n",
       "   require([\"d3\"], function(d3){\n",
       "      window.d3 = d3;\n",
       "      LDAvis_load_lib(\"https://cdn.jsdelivr.net/gh/bmabey/pyLDAvis@3.4.0/pyLDAvis/js/ldavis.v3.0.0.js\", function(){\n",
       "        new LDAvis(\"#\" + \"ldavis_el14682364472300802079112267\", ldavis_el14682364472300802079112267_data);\n",
       "      });\n",
       "    });\n",
       "}else{\n",
       "    // require.js not available: dynamically load d3 & LDAvis\n",
       "    LDAvis_load_lib(\"https://d3js.org/d3.v5.js\", function(){\n",
       "         LDAvis_load_lib(\"https://cdn.jsdelivr.net/gh/bmabey/pyLDAvis@3.4.0/pyLDAvis/js/ldavis.v3.0.0.js\", function(){\n",
       "                 new LDAvis(\"#\" + \"ldavis_el14682364472300802079112267\", ldavis_el14682364472300802079112267_data);\n",
       "            })\n",
       "         });\n",
       "}\n",
       "</script>"
      ],
      "text/plain": [
       "PreparedData(topic_coordinates=              x         y  topics  cluster       Freq\n",
       "topic                                                \n",
       "15     0.306421  0.250023       1        1  20.853381\n",
       "18     0.320543 -0.030791       2        1  20.457524\n",
       "17     0.327777  0.099377       3        1  18.999776\n",
       "8      0.208847 -0.321958       4        1  11.616708\n",
       "12     0.165740 -0.120132       5        1   9.792153\n",
       "14    -0.030080 -0.002581       6        1   3.537320\n",
       "13    -0.030141  0.003518       7        1   3.463260\n",
       "6     -0.042225  0.005982       8        1   2.599372\n",
       "5     -0.086228  0.009914       9        1   1.431492\n",
       "7     -0.090252  0.010260      10        1   1.388030\n",
       "19    -0.095462  0.010314      11        1   1.110306\n",
       "1     -0.099093  0.010352      12        1   1.081685\n",
       "16    -0.104205  0.009999      13        1   0.687411\n",
       "0     -0.104365  0.009969      14        1   0.643294\n",
       "10    -0.105946  0.009821      15        1   0.607264\n",
       "4     -0.106267  0.009779      16        1   0.595388\n",
       "3     -0.107643  0.009498      17        1   0.444568\n",
       "2     -0.108191  0.009361      18        1   0.361974\n",
       "11    -0.109508  0.008824      19        1   0.227240\n",
       "9     -0.109723  0.008472      20        1   0.101854, topic_info=           Term         Freq        Total Category  logprob  loglift\n",
       "236      работа  1798.000000  1798.000000  Default   30.000  30.0000\n",
       "87      человек  1058.000000  1058.000000  Default   29.000  29.0000\n",
       "119        опыт   710.000000   710.000000  Default   28.000  28.0000\n",
       "169       новый   948.000000   948.000000  Default   27.000  27.0000\n",
       "193      проект   732.000000   732.000000  Default   26.000  26.0000\n",
       "...         ...          ...          ...      ...      ...      ...\n",
       "9169         ми     0.006265     0.967527  Topic20   -9.713   1.8496\n",
       "2444   материал     0.006265     0.967571  Topic20   -9.713   1.8496\n",
       "5638   название     0.006265     0.967495  Topic20   -9.713   1.8497\n",
       "4073     самому     0.006265     0.967465  Topic20   -9.713   1.8497\n",
       "2043  нравиться     0.006265     0.967535  Topic20   -9.713   1.8496\n",
       "\n",
       "[843 rows x 6 columns], token_table=      Topic      Freq           Term\n",
       "term                                \n",
       "1559     14  0.749892     автомобиль\n",
       "1068     11  0.970495          автор\n",
       "220      15  0.942481      агентство\n",
       "1241     10  0.804947  администратор\n",
       "1780     20  0.781528           айти\n",
       "...     ...       ...            ...\n",
       "1545      9  0.961770  эффективность\n",
       "155       4  0.280848    эффективный\n",
       "155       6  0.712922    эффективный\n",
       "1392      6  0.989805       являться\n",
       "219       7  0.995728           язык\n",
       "\n",
       "[625 rows x 3 columns], R=30, lambda_step=0.01, plot_opts={'xlab': 'PC1', 'ylab': 'PC2'}, topic_order=[16, 19, 18, 9, 13, 15, 14, 7, 6, 8, 20, 2, 17, 1, 11, 5, 4, 3, 12, 10])"
      ]
     },
     "execution_count": 24,
     "metadata": {},
     "output_type": "execute_result"
    }
   ],
   "source": [
    "pyLDAvis.enable_notebook()\n",
    "vis = pyLDAvis.gensim.prepare(lda_model, corpus, id2word)\n",
    "vis"
   ]
  },
  {
   "attachments": {},
   "cell_type": "markdown",
   "metadata": {},
   "source": [
    "# Подбор количества тем"
   ]
  },
  {
   "attachments": {},
   "cell_type": "markdown",
   "metadata": {},
   "source": [
    "Подберем количество тем основываясь на согласованности модели"
   ]
  },
  {
   "cell_type": "code",
   "execution_count": 25,
   "metadata": {},
   "outputs": [],
   "source": [
    "def compute_coherence_values(dictionary, corpus, texts, limit, start, step):\n",
    "    coherence_values = []\n",
    "    model_list = []\n",
    "    for num_topics in range(start, limit, step):\n",
    "        model = gensim.models.ldamodel.LdaModel(\n",
    "            corpus=corpus,\n",
    "            id2word=id2word,\n",
    "            num_topics=num_topics, \n",
    "            random_state=765,\n",
    "            update_every=1,\n",
    "            chunksize=100,\n",
    "            passes=10,\n",
    "            alpha='auto',\n",
    "            per_word_topics=True\n",
    "            )\n",
    "        model_list.append(model)\n",
    "        coherencemodel = CoherenceModel(model=model, texts=texts, dictionary=dictionary, coherence='c_v')\n",
    "        coherence_values.append(coherencemodel.get_coherence())\n",
    "\n",
    "    return model_list, coherence_values"
   ]
  },
  {
   "cell_type": "code",
   "execution_count": 26,
   "metadata": {},
   "outputs": [],
   "source": [
    "#model_list, coherence_values = compute_coherence_values(dictionary=id2word, corpus=corpus, texts=data_words_nostops, start=1, limit=10, step=1)"
   ]
  },
  {
   "cell_type": "code",
   "execution_count": 27,
   "metadata": {},
   "outputs": [],
   "source": [
    "# limit=10\n",
    "# start=1\n",
    "# step=1\n",
    "# x = range(start, limit, step)\n",
    "# plt.plot(x, coherence_values)\n",
    "# plt.xlabel(\"Num Topics\")\n",
    "# plt.ylabel(\"Coherence score\")\n",
    "# plt.legend((\"coherence_values\"), loc='best')\n",
    "# plt.show()"
   ]
  },
  {
   "attachments": {},
   "cell_type": "markdown",
   "metadata": {},
   "source": [
    "Наилучший результат показала модель с 3 темами"
   ]
  },
  {
   "cell_type": "code",
   "execution_count": 28,
   "metadata": {},
   "outputs": [
    {
     "name": "stdout",
     "output_type": "stream",
     "text": [
      "Perplexity:  -8.381390061581836\n",
      "Coherence Score:  0.5966520391095856\n"
     ]
    }
   ],
   "source": [
    "def model_scorer(data):\n",
    "    id2word = corpora.Dictionary(data)\n",
    "\n",
    "    texts = data\n",
    "\n",
    "    corpus = [id2word.doc2bow(text) for text in texts]\n",
    "\n",
    "    lda_model = gensim.models.ldamodel.LdaModel(\n",
    "        corpus=corpus,\n",
    "        id2word=id2word,\n",
    "        num_topics=3, \n",
    "        random_state=765,\n",
    "        update_every=1,\n",
    "        chunksize=100,\n",
    "        passes=10,\n",
    "        alpha='auto',\n",
    "        per_word_topics=True\n",
    "        )\n",
    "\n",
    "    print('Perplexity: ', lda_model.log_perplexity(corpus))\n",
    "\n",
    "    coherence_model_lda = CoherenceModel(model=lda_model, texts=texts, dictionary=id2word, coherence='c_v')\n",
    "    coherence_lda = coherence_model_lda.get_coherence()\n",
    "    print('Coherence Score: ', coherence_lda)\n",
    "\n",
    "    return lda_model, corpus, id2word\n",
    "\n",
    "best_model, best_corpus, best_id2word = model_scorer(data_words_nostops)"
   ]
  },
  {
   "cell_type": "code",
   "execution_count": 29,
   "metadata": {},
   "outputs": [
    {
     "data": {
      "text/plain": [
       "[(0,\n",
       "  '0.017*\"работа\" + 0.011*\"компания\" + 0.008*\"проект\" + 0.008*\"новый\" + 0.008*\"опыт\" + 0.007*\"команда\" + 0.006*\"данных\" + 0.006*\"весь\" + 0.005*\"возможность\" + 0.005*\"разработка\"'),\n",
       " (1,\n",
       "  '0.017*\"з\" + 0.010*\"що\" + 0.007*\"як\" + 0.006*\"ми\" + 0.005*\"це\" + 0.004*\"буде\" + 0.004*\"час\" + 0.003*\"але\" + 0.003*\"якщо\" + 0.003*\"роботи\"'),\n",
       " (2,\n",
       "  '0.012*\"человек\" + 0.008*\"весь\" + 0.007*\"время\" + 0.007*\"год\" + 0.005*\"нужный\" + 0.005*\"делать\" + 0.005*\"жизнь\" + 0.004*\"день\" + 0.004*\"работа\" + 0.004*\"работать\"')]"
      ]
     },
     "execution_count": 29,
     "metadata": {},
     "output_type": "execute_result"
    }
   ],
   "source": [
    "best_model.print_topics()"
   ]
  },
  {
   "attachments": {},
   "cell_type": "markdown",
   "metadata": {},
   "source": [
    "# Использование биграмм и триграмм"
   ]
  },
  {
   "attachments": {},
   "cell_type": "markdown",
   "metadata": {},
   "source": [
    "Проверим, повлияет ли использование биграмм и триграмм на согласованность модели"
   ]
  },
  {
   "cell_type": "code",
   "execution_count": 30,
   "metadata": {},
   "outputs": [],
   "source": [
    "bigram = gensim.models.Phrases(data_words_nostops, min_count=5, threshold=100)\n",
    "trigram = gensim.models.Phrases(bigram[data_words_nostops], threshold=100)  \n",
    "\n",
    "bigram_mod = gensim.models.phrases.Phraser(bigram)\n",
    "trigram_mod = gensim.models.phrases.Phraser(trigram)"
   ]
  },
  {
   "cell_type": "code",
   "execution_count": 31,
   "metadata": {},
   "outputs": [],
   "source": [
    "def make_bigrams(texts):\n",
    "    return [bigram_mod[doc] for doc in texts]\n",
    "\n",
    "def make_trigrams(texts):\n",
    "    return [trigram_mod[bigram_mod[doc]] for doc in texts]\n",
    "\n",
    "data_words_bigrams = make_bigrams(data_words_nostops)\n",
    "data_words_trigrams = make_trigrams(data_words_nostops)"
   ]
  },
  {
   "cell_type": "code",
   "execution_count": 32,
   "metadata": {},
   "outputs": [
    {
     "name": "stdout",
     "output_type": "stream",
     "text": [
      "Perplexity:  -8.434334494421696\n",
      "Coherence Score:  0.439582008213859\n",
      "Complete\n"
     ]
    }
   ],
   "source": [
    "model_scorer(data_words_bigrams)\n",
    "print('Complete')"
   ]
  },
  {
   "cell_type": "code",
   "execution_count": 33,
   "metadata": {},
   "outputs": [
    {
     "name": "stdout",
     "output_type": "stream",
     "text": [
      "Perplexity:  -8.429958224926464\n",
      "Coherence Score:  0.5836013461964166\n",
      "Complete\n"
     ]
    }
   ],
   "source": [
    "model_scorer(data_words_trigrams)\n",
    "print('Complete')"
   ]
  },
  {
   "attachments": {},
   "cell_type": "markdown",
   "metadata": {},
   "source": [
    "Использование биграмм и триграмм только ухудшили согласованнось"
   ]
  },
  {
   "attachments": {},
   "cell_type": "markdown",
   "metadata": {},
   "source": [
    "# Анализ наилучшей модели"
   ]
  },
  {
   "cell_type": "code",
   "execution_count": 34,
   "metadata": {},
   "outputs": [
    {
     "data": {
      "text/html": [
       "\n",
       "<link rel=\"stylesheet\" type=\"text/css\" href=\"https://cdn.jsdelivr.net/gh/bmabey/pyLDAvis@3.4.0/pyLDAvis/js/ldavis.v1.0.0.css\">\n",
       "\n",
       "\n",
       "<div id=\"ldavis_el14682365787213444677380430\" style=\"background-color:white;\"></div>\n",
       "<script type=\"text/javascript\">\n",
       "\n",
       "var ldavis_el14682365787213444677380430_data = {\"mdsDat\": {\"x\": [-0.16309979892126789, -0.06342349196567423, 0.22652329088694223], \"y\": [0.12542690976489695, -0.16854548150836213, 0.043118571743465034], \"topics\": [1, 2, 3], \"cluster\": [1, 1, 1], \"Freq\": [54.14636841948127, 40.62747697804631, 5.226154602472411]}, \"tinfo\": {\"Term\": [\"\\u043a\\u043e\\u043c\\u043f\\u0430\\u043d\\u0438\\u044f\", \"\\u0447\\u0435\\u043b\\u043e\\u0432\\u0435\\u043a\", \"\\u0437\", \"\\u043f\\u0440\\u043e\\u0435\\u043a\\u0442\", \"\\u043a\\u043e\\u043c\\u0430\\u043d\\u0434\\u0430\", \"\\u043e\\u043f\\u044b\\u0442\", \"\\u0434\\u0430\\u043d\\u043d\\u044b\\u0445\", \"\\u0440\\u0430\\u0431\\u043e\\u0442\\u0430\", \"\\u0436\\u0438\\u0437\\u043d\\u044c\", \"\\u0449\\u043e\", \"\\u0434\\u0435\\u043d\\u044c\", \"\\u0447\\u0430\\u0441\", \"\\u0432\\u043e\\u0437\\u043c\\u043e\\u0436\\u043d\\u043e\\u0441\\u0442\\u044c\", \"\\u0440\\u0430\\u0437\\u0440\\u0430\\u0431\\u043e\\u0442\\u043a\\u0430\", \"\\u0434\\u0435\\u043b\\u0430\\u0442\\u044c\", \"\\u043f\\u043e\\u0438\\u0441\\u043a\", \"\\u0438\\u0441\\u043a\\u0430\\u0442\\u044c\", \"\\u0440\\u0430\\u0437\\u0440\\u0430\\u0431\\u043e\\u0442\\u0447\\u0438\\u043a\", \"\\u043f\\u0440\\u0438\\u0432\\u0435\\u0442\", \"\\u043f\\u0440\\u043e\\u0434\\u0443\\u043a\\u0442\", \"\\u044f\\u043a\", \"\\u043f\\u0440\\u043e\\u0441\\u0442\\u043e\", \"\\u043f\\u043e\\u043d\\u044f\\u0442\\u044c\", \"\\u0431\\u0438\\u0437\\u043d\\u0435\\u0441\", \"\\u0433\\u043e\\u0432\\u043e\\u0440\\u0438\\u0442\\u044c\", \"\\u043f\\u0440\\u0438\\u043b\\u043e\\u0436\\u0435\\u043d\\u0438\\u0435\", \"\\u0441\\u0430\\u0439\\u0442\", \"\\u0440\\u0435\\u0437\\u044e\\u043c\\u0435\", \"\\u0434\\u0443\\u043c\\u0430\\u0442\\u044c\", \"\\u043a\\u043d\\u0438\\u0433\\u0430\", \"\\u0434\\u0430\\u043d\\u043d\\u044b\\u0445\", \"\\u043a\\u043e\\u043c\\u0430\\u043d\\u0434\\u0430\", \"\\u0440\\u0430\\u0437\\u0440\\u0430\\u0431\\u043e\\u0442\\u043a\\u0430\", \"\\u0440\\u0430\\u0437\\u0440\\u0430\\u0431\\u043e\\u0442\\u0447\\u0438\\u043a\", \"\\u0438\\u0441\\u043a\\u0430\\u0442\\u044c\", \"\\u043f\\u0440\\u0438\\u0432\\u0435\\u0442\", \"\\u0431\\u0438\\u0437\\u043d\\u0435\\u0441\", \"\\u043f\\u0440\\u0438\\u043b\\u043e\\u0436\\u0435\\u043d\\u0438\\u0435\", \"\\u0432\\u0430\\u043a\\u0430\\u043d\\u0441\\u0438\\u044f\", \"\\u0430\\u043d\\u0430\\u043b\\u0438\\u0442\\u0438\\u043a\", \"\\u0440\\u0435\\u0437\\u044e\\u043c\\u0435\", \"\\u043a\\u0430\\u0440\\u044c\\u0435\\u0440\\u043d\\u044b\\u0439\", \"\\u0441\\u043e\\u043e\\u0431\\u0449\\u0430\\u0442\\u044c\", \"\\u0442\\u0435\\u0445\\u043d\\u043e\\u043b\\u043e\\u0433\\u0438\\u044f\", \"\\u0440\\u0430\\u0437\\u0432\\u0438\\u0442\\u0438\\u0435\", \"\\u043a\\u0440\\u0443\\u043f\\u043d\\u044b\\u0439\", \"\\u043f\\u043e\\u043b\\u044c\\u0437\\u043e\\u0432\\u0430\\u0442\\u0435\\u043b\\u044c\", \"\\u0441\\u0441\\u044b\\u043b\\u043a\\u0430\", \"\\u0440\\u044b\\u043d\\u043e\\u043a\", \"\\u043a\\u043e\\u0434\", \"\\u043f\\u043e\\u0437\\u0438\\u0446\\u0438\\u044f\", \"\\u043c\\u043e\\u0434\\u0435\\u043b\\u044c\", \"\\u043f\\u0440\\u043e\\u0434\\u0443\\u043a\\u0442\", \"\\u0443\\u043f\\u0440\\u0430\\u0432\\u043b\\u0435\\u043d\\u0438\\u0435\", \"\\u0434\\u0430\\u043d\\u043d\\u044b\\u0435\", \"\\u0440\\u0435\\u043a\\u043e\\u043c\\u0435\\u043d\\u0434\\u0430\\u0446\\u0438\\u044f\", \"\\u0430\\u043d\\u0430\\u043b\\u0438\\u0437\", \"\\u0438\\u0442\", \"\\u043f\\u043e\\u0434\\u0434\\u0435\\u0440\\u0436\\u043a\\u0430\", \"\\u0437\\u0430\\u043f\\u0440\\u043e\\u0441\", \"\\u043a\\u043e\\u043c\\u043f\\u0430\\u043d\\u0438\\u044f\", \"\\u043f\\u0440\\u043e\\u0435\\u043a\\u0442\", \"\\u0432\\u043e\\u0437\\u043c\\u043e\\u0436\\u043d\\u043e\\u0441\\u0442\\u044c\", \"\\u043d\\u0430\\u0432\\u044b\\u043a\", \"\\u043f\\u043e\\u0438\\u0441\\u043a\", \"\\u043e\\u043f\\u044b\\u0442\", \"\\u0441\\u0430\\u0439\\u0442\", \"\\u043a\\u043b\\u0438\\u0435\\u043d\\u0442\", \"\\u0441\\u043f\\u0435\\u0446\\u0438\\u0430\\u043b\\u0438\\u0441\\u0442\", \"\\u0440\\u0430\\u0431\\u043e\\u0442\\u0430\", \"\\u0438\\u0441\\u043f\\u043e\\u043b\\u044c\\u0437\\u043e\\u0432\\u0430\\u0442\\u044c\", \"\\u043d\\u043e\\u0432\\u044b\\u0439\", \"\\u0432\\u0441\\u0435\\u043c\", \"\\u0441\\u0438\\u0441\\u0442\\u0435\\u043c\\u0430\", \"\\u0440\\u0435\\u0448\\u0435\\u043d\\u0438\\u0435\", \"\\u043f\\u043e\\u043c\\u043e\\u0449\\u044c\", \"\\u0438\\u043d\\u0442\\u0435\\u0440\\u0435\\u0441\\u043d\\u044b\\u0439\", \"\\u0437\\u0430\\u0434\\u0430\\u0447\\u0430\", \"\\u0432\\u0435\\u0441\\u044c\", \"\\u0445\\u043e\\u0442\\u0435\\u0442\\u044c\", \"\\u0433\\u043e\\u0434\", \"\\u043a\\u043e\\u0442\\u043e\\u0440\\u044b\\u0435\", \"\\u0440\\u0430\\u0431\\u043e\\u0442\\u0430\\u0442\\u044c\", \"\\u0445\\u043e\\u0440\\u043e\\u0448\\u0438\\u0439\", \"\\u0436\\u0438\\u0437\\u043d\\u044c\", \"\\u043f\\u043e\\u043d\\u044f\\u0442\\u044c\", \"\\u0433\\u043e\\u0432\\u043e\\u0440\\u0438\\u0442\\u044c\", \"\\u0434\\u0443\\u043c\\u0430\\u0442\\u044c\", \"\\u0432\\u0438\\u043d\\u043e\\u0432\\u0430\\u0442\\u044b\\u0439\", \"\\u0434\\u0435\\u043b\\u043e\", \"\\u043f\\u043e\\u0447\\u0435\\u043c\\u0443\", \"\\u043a\\u043d\\u0438\\u0433\\u0430\", \"\\u0441\\u043a\\u0430\\u0437\\u0430\\u0442\\u044c\", \"\\u043c\\u044b\\u0441\\u043b\\u044c\", \"\\u043f\\u0430\\u0440\\u0430\", \"\\u043d\\u0435\\u043c\\u043d\\u043e\\u0433\\u043e\", \"\\u043a\\u0430\\u0437\\u0430\\u0442\\u044c\\u0441\\u044f\", \"\\u0432\\u0442\\u043e\\u0440\\u043e\\u0439\", \"\\u043f\\u0440\\u0438\\u0439\\u0442\\u0438\", \"\\u043d\\u0430\\u0437\\u0430\\u0434\", \"\\u043f\\u0440\\u0438\\u0447\\u0438\\u043d\\u0430\", \"\\u043f\\u043e\\u043b\\u0443\\u0447\\u0438\\u0442\\u044c\\u0441\\u044f\", \"\\u0433\\u043e\\u043b\\u043e\\u0432\\u0430\", \"\\u043c\\u043e\\u0437\\u0433\", \"\\u043f\\u0440\\u043e\\u0438\\u0441\\u0445\\u043e\\u0434\\u0438\\u0442\\u044c\", \"\\u0438\\u0434\\u0442\\u0438\", \"\\u043f\\u0441\\u0438\\u0445\\u043e\\u043b\\u043e\\u0433\", \"\\u043d\\u0438\\u0447\\u0442\\u043e\", \"\\u0441\\u043e\\u0441\\u0442\\u043e\\u044f\\u043d\\u0438\\u0435\", \"\\u0441\\u0430\\u043c\\u0438\", \"\\u043d\\u0440\\u0430\\u0432\\u0438\\u0442\\u044c\\u0441\\u044f\", \"\\u043d\\u0438\\u043a\\u0442\\u043e\", \"\\u0441\\u0430\\u043c\\u043e\\u0435\", \"\\u0442\\u0440\\u0435\\u043d\\u0438\\u0440\\u043e\\u0432\\u043a\\u0430\", \"\\u0434\\u043e\\u0432\\u043e\\u043b\\u044c\\u043d\\u043e\", \"\\u0447\\u0430\\u0441\\u0442\\u043e\", \"\\u0441\\u043b\\u043e\\u0432\\u043e\", \"\\u043f\\u043e\\u043a\\u0430\", \"\\u0434\\u0435\\u043b\\u0430\\u0442\\u044c\", \"\\u0447\\u0435\\u043b\\u043e\\u0432\\u0435\\u043a\", \"\\u043f\\u0440\\u043e\\u0441\\u0442\\u043e\", \"\\u0447\\u0443\\u0432\\u0441\\u0442\\u0432\\u043e\", \"\\u043f\\u043e\\u043d\\u0438\\u043c\\u0430\\u0442\\u044c\", \"\\u043f\\u0443\\u0442\\u044c\", \"\\u043d\\u0435\\u0434\\u0435\\u043b\\u044f\", \"\\u0434\\u0435\\u043d\\u044c\", \"\\u043a\\u0430\\u0436\\u0434\\u044b\\u0439\", \"\\u0432\\u0440\\u0435\\u043c\\u044f\", \"\\u043d\\u0430\\u0447\\u0430\\u0442\\u044c\", \"\\u043d\\u0443\\u0436\\u043d\\u044b\\u0439\", \"\\u0432\\u0435\\u0441\\u044c\", \"\\u0433\\u043e\\u0434\", \"\\u0437\\u043d\\u0430\\u0442\\u044c\", \"\\u043c\\u0435\\u0441\\u044f\\u0446\", \"\\u0441\\u0434\\u0435\\u043b\\u0430\\u0442\\u044c\", \"\\u043f\\u043e\\u044d\\u0442\\u043e\\u043c\\u0443\", \"\\u0434\\u043e\\u043b\\u0436\\u043d\\u044b\\u0439\", \"\\u0432\\u0430\\u0436\\u043d\\u044b\\u0439\", \"\\u0440\\u0430\\u0431\\u043e\\u0442\\u0430\\u0442\\u044c\", \"\\u0445\\u043e\\u0442\\u0435\\u0442\\u044c\", \"\\u0432\\u043e\\u043f\\u0440\\u043e\\u0441\", \"\\u043a\\u043e\\u0442\\u043e\\u0440\\u044b\\u0435\", \"\\u043f\\u0435\\u0440\\u0432\\u044b\\u0439\", \"\\u043f\\u043e\\u0441\\u0442\", \"\\u0440\\u0430\\u0431\\u043e\\u0442\\u0430\", \"\\u043a\\u0443\\u0440\\u0441\", \"\\u0445\\u043e\\u0440\\u043e\\u0448\\u0438\\u0439\", \"\\u043d\\u043e\\u0432\\u044b\\u0439\", \"\\u0437\", \"\\u0449\\u043e\", \"\\u044f\\u043a\", \"\\u043c\\u0438\", \"\\u0446\\u0435\", \"\\u0431\\u0443\\u0434\\u0435\", \"\\u0430\\u043b\\u0435\", \"\\u044f\\u043a\\u0449\\u043e\", \"\\u0440\\u043e\\u0431\\u043e\\u0442\\u0438\", \"\\u0442\\u0430\\u043a\\u043e\\u0436\", \"\\u043c\\u043e\\u0436\\u0435\", \"\\u0436\\u0438\\u0442\\u0442\\u044f\", \"\\u0432\\u0438\", \"\\u0434\\u043e\\u043f\\u043e\\u043c\\u043e\\u0433\\u0442\\u0438\", \"\\u043c\\u043e\\u0436\\u043d\\u0430\", \"\\u044f\\u043a\\u0438\\u0439\", \"\\u0449\\u0435\", \"\\u0431\\u0443\\u0442\\u0438\", \"\\u0446\\u0435\\u0439\", \"\\u0430\\u0431\\u043e\", \"\\u043a\\u043e\\u043b\\u0438\", \"\\u0442\\u0438\", \"\\u0449\\u043e\\u0431\", \"\\u0439\\u043e\\u0433\\u043e\", \"\\u0434\\u0443\\u0436\\u0435\", \"\\u0447\\u0438\", \"\\u0434\\u0435\", \"\\u043a\\u0440\\u0438\\u0437\\u0438\", \"\\u0432\\u0436\\u0435\", \"\\u0431\\u0430\\u0433\\u0430\\u0442\\u043e\", \"\\u0437\\u0430\\u0440\\u0430\\u0437\", \"\\u0447\\u0430\\u0441\", \"\\u0434\\u0435\\u043d\\u044c\", \"\\u0440\\u043e\\u0431\\u043e\\u0442\"], \"Freq\": [629.0, 568.0, 92.0, 453.0, 375.0, 446.0, 319.0, 1097.0, 196.0, 53.0, 241.0, 93.0, 277.0, 255.0, 223.0, 253.0, 209.0, 208.0, 202.0, 205.0, 36.0, 174.0, 119.0, 178.0, 114.0, 167.0, 196.0, 171.0, 110.0, 112.0, 318.74730582976696, 374.725725498489, 254.9494350585026, 207.98886188531668, 209.05697795970664, 201.56206503576243, 177.85843331800405, 167.23061236006427, 162.013068581636, 151.5028874256078, 170.5019269475347, 137.79790818833234, 111.7151758803626, 117.20409751718336, 124.39520055714544, 114.47785888232067, 111.5575536722004, 133.93892016958443, 113.62194824335012, 113.29641018412119, 119.24089281912576, 123.96073960406858, 204.405981929484, 100.04909425815079, 101.58910912385264, 112.16562210455027, 101.80510897807622, 95.56587307018798, 100.32526000648701, 101.41495683782567, 623.2622082084796, 448.0017980629083, 274.77119687384607, 162.26041084794127, 250.0227668107679, 432.38889275422514, 193.5702242572795, 190.4513017331331, 147.11993631834153, 920.0462642913201, 158.48648959670837, 444.9466243384683, 170.73556572160467, 170.61834894611385, 201.82107257609402, 151.31473040125803, 204.04042300705706, 211.92519964414677, 306.3808591015905, 207.62512325839714, 225.90656896195128, 191.48456299425104, 186.2399070679484, 167.5175781011117, 195.6152483983053, 118.82398427707655, 113.48631493260524, 110.18224084041893, 89.09133795005759, 92.87629493909834, 93.2890024224616, 111.52390566159114, 79.46950561547264, 69.26652789669807, 68.7161278157286, 78.63459245167748, 64.0759627810549, 61.93456419434427, 66.90312157769395, 57.62483061495772, 92.11852637235536, 59.63374979171907, 53.59947065119942, 46.90853666209789, 47.34839215682949, 55.04950148480085, 49.76274728583116, 45.09083182227282, 51.57031430316474, 46.50122511651235, 44.303424071461976, 45.86673593389977, 45.355006740337366, 41.62494211653281, 44.00285302407313, 65.51547105506839, 71.71040197942496, 80.76794522385858, 206.3167684466614, 496.70890342210686, 160.94257775285226, 51.876589078008465, 102.86000136817793, 84.14562914102342, 102.85873173575965, 184.8619812104765, 171.64964763382466, 279.635462864313, 127.21300353350274, 208.58919886999593, 325.5888464015473, 268.55867025207834, 133.7639797853427, 107.27645620890635, 137.64186040160385, 114.84509093614213, 94.8945199443801, 127.1806567621186, 174.91131407955464, 171.9088834894135, 146.05190554035113, 162.9148651488177, 133.32630286441977, 127.93831952616006, 177.20409709529144, 113.62154040358044, 113.48945053994132, 108.05454851276937, 91.47230478159074, 52.87559427494187, 35.79339028199673, 30.061421231260724, 25.400383557909834, 20.249373584873076, 18.204752036613836, 18.066307075834285, 17.04245898668819, 16.485848256843457, 15.99221485845839, 15.564552998647574, 15.36633153855936, 12.939964667774172, 12.431099168650404, 12.119558104756141, 12.001385905783396, 11.978627457161215, 10.996247899276458, 10.854717172982948, 10.687433790952669, 10.71420843639053, 10.509528397319615, 10.483575302924764, 10.302377518741334, 10.234250645954848, 10.087953933791345, 9.488751226379472, 9.5472527131131, 8.966264559435674, 9.056113043835241, 19.442023991970835, 14.133789688078005, 9.912366576120762], \"Total\": [629.0, 568.0, 92.0, 453.0, 375.0, 446.0, 319.0, 1097.0, 196.0, 53.0, 241.0, 93.0, 277.0, 255.0, 223.0, 253.0, 209.0, 208.0, 202.0, 205.0, 36.0, 174.0, 119.0, 178.0, 114.0, 167.0, 196.0, 171.0, 110.0, 112.0, 319.26027533050717, 375.3679104168467, 255.4434476998632, 208.50047708662106, 209.6042629028352, 202.13799385336526, 178.3724897935887, 167.7290593327801, 162.5165129609512, 152.033582317229, 171.19794852837424, 138.3810986157372, 112.20264848594321, 117.71864086529646, 124.96577199884561, 115.00754593013731, 112.07816179854649, 134.57241551642022, 114.17129292727213, 113.85684634761888, 119.83204257642359, 124.5768922026696, 205.43234748698828, 100.55766357243535, 102.11043882122007, 112.74330703057643, 102.33054688980033, 96.07055551460935, 100.88553024246112, 101.9848236450298, 629.9613259821066, 453.2846361818639, 277.15900786708346, 163.35784301922894, 253.21454719444358, 446.63476437298596, 196.9240397833317, 194.98696653314727, 149.4205364079696, 1097.4298949576928, 164.39545801452832, 555.3388245821344, 182.484998091327, 189.9776914430228, 243.99959099873166, 164.21529146172858, 281.5727745577168, 302.6549987818509, 632.171427196756, 381.2478219220808, 494.64560792685387, 354.57897283029865, 361.33070936469824, 281.1897318030748, 196.2013537606812, 119.41755672128336, 114.05585003550149, 110.7782587079929, 89.60682609143612, 93.42554451579406, 93.86283752341512, 112.24623153337114, 80.06996828004806, 69.79760339379212, 69.2808292991148, 79.28747047665323, 64.63035134249141, 62.495618952056695, 67.51510192573599, 58.17118726543925, 93.03067160644659, 60.22621852756234, 54.190351203948744, 47.43208481380087, 47.884793019088505, 55.67563441634346, 50.33824619160508, 45.61687133029286, 52.17569746176707, 47.06766824149406, 44.843763849505166, 46.43029949999825, 45.947766207746845, 42.17779481944184, 44.59238653779032, 66.73995510169394, 73.52046036695153, 83.26520567962422, 223.57021845667776, 568.149624183737, 174.95086591651187, 52.83737396819242, 110.60981174883693, 92.62678862261644, 117.56712251661934, 241.62538355253156, 230.98023088110827, 431.68878227138094, 160.36831114482547, 338.09065990176236, 632.171427196756, 494.64560792685387, 188.64088663472262, 136.4071567561513, 201.99051425853054, 154.06751344192284, 114.34828645140794, 186.81977110660003, 361.33070936469824, 381.2478219220808, 281.750218318782, 354.57897283029865, 234.8966871992462, 224.78965784369026, 1097.4298949576928, 208.69584536891358, 281.1897318030748, 555.3388245821344, 92.11203297607719, 53.502173060633524, 36.421000681481736, 30.68889060715521, 26.026898380320105, 20.877994020782275, 18.831121581809214, 18.692978605465328, 17.66911847335516, 17.112332473455194, 16.6187861508538, 16.194831774312604, 15.993357749211338, 13.56669053721944, 13.057524705791895, 12.746954918955188, 12.62856794518346, 12.605173220113091, 11.623629137957197, 11.481805650726127, 11.314499641320584, 11.34936586073265, 11.13619655062664, 11.110208267279532, 10.92907498468076, 10.860626597619264, 10.715123881096488, 10.114826738176419, 10.179459476143979, 9.593106496832398, 9.689467362424796, 93.66474211893348, 241.62538355253156, 30.353676268120587], \"Category\": [\"Default\", \"Default\", \"Default\", \"Default\", \"Default\", \"Default\", \"Default\", \"Default\", \"Default\", \"Default\", \"Default\", \"Default\", \"Default\", \"Default\", \"Default\", \"Default\", \"Default\", \"Default\", \"Default\", \"Default\", \"Default\", \"Default\", \"Default\", \"Default\", \"Default\", \"Default\", \"Default\", \"Default\", \"Default\", \"Default\", \"Topic1\", \"Topic1\", \"Topic1\", \"Topic1\", \"Topic1\", \"Topic1\", \"Topic1\", \"Topic1\", \"Topic1\", \"Topic1\", \"Topic1\", \"Topic1\", \"Topic1\", \"Topic1\", \"Topic1\", \"Topic1\", \"Topic1\", \"Topic1\", \"Topic1\", \"Topic1\", \"Topic1\", \"Topic1\", \"Topic1\", \"Topic1\", \"Topic1\", \"Topic1\", \"Topic1\", \"Topic1\", \"Topic1\", \"Topic1\", \"Topic1\", \"Topic1\", \"Topic1\", \"Topic1\", \"Topic1\", \"Topic1\", \"Topic1\", \"Topic1\", \"Topic1\", \"Topic1\", \"Topic1\", \"Topic1\", \"Topic1\", \"Topic1\", \"Topic1\", \"Topic1\", \"Topic1\", \"Topic1\", \"Topic1\", \"Topic1\", \"Topic1\", \"Topic1\", \"Topic1\", \"Topic1\", \"Topic2\", \"Topic2\", \"Topic2\", \"Topic2\", \"Topic2\", \"Topic2\", \"Topic2\", \"Topic2\", \"Topic2\", \"Topic2\", \"Topic2\", \"Topic2\", \"Topic2\", \"Topic2\", \"Topic2\", \"Topic2\", \"Topic2\", \"Topic2\", \"Topic2\", \"Topic2\", \"Topic2\", \"Topic2\", \"Topic2\", \"Topic2\", \"Topic2\", \"Topic2\", \"Topic2\", \"Topic2\", \"Topic2\", \"Topic2\", \"Topic2\", \"Topic2\", \"Topic2\", \"Topic2\", \"Topic2\", \"Topic2\", \"Topic2\", \"Topic2\", \"Topic2\", \"Topic2\", \"Topic2\", \"Topic2\", \"Topic2\", \"Topic2\", \"Topic2\", \"Topic2\", \"Topic2\", \"Topic2\", \"Topic2\", \"Topic2\", \"Topic2\", \"Topic2\", \"Topic2\", \"Topic2\", \"Topic2\", \"Topic2\", \"Topic2\", \"Topic2\", \"Topic2\", \"Topic2\", \"Topic2\", \"Topic2\", \"Topic2\", \"Topic2\", \"Topic3\", \"Topic3\", \"Topic3\", \"Topic3\", \"Topic3\", \"Topic3\", \"Topic3\", \"Topic3\", \"Topic3\", \"Topic3\", \"Topic3\", \"Topic3\", \"Topic3\", \"Topic3\", \"Topic3\", \"Topic3\", \"Topic3\", \"Topic3\", \"Topic3\", \"Topic3\", \"Topic3\", \"Topic3\", \"Topic3\", \"Topic3\", \"Topic3\", \"Topic3\", \"Topic3\", \"Topic3\", \"Topic3\", \"Topic3\", \"Topic3\", \"Topic3\", \"Topic3\", \"Topic3\"], \"logprob\": [30.0, 29.0, 28.0, 27.0, 26.0, 25.0, 24.0, 23.0, 22.0, 21.0, 20.0, 19.0, 18.0, 17.0, 16.0, 15.0, 14.0, 13.0, 12.0, 11.0, 10.0, 9.0, 8.0, 7.0, 6.0, 5.0, 4.0, 3.0, 2.0, 1.0, -5.1517, -4.9899, -5.3751, -5.5786, -5.5735, -5.61, -5.7351, -5.7968, -5.8284, -5.8955, -5.7774, -5.9903, -6.2002, -6.1522, -6.0927, -6.1757, -6.2016, -6.0187, -6.1832, -6.1861, -6.135, -6.0962, -5.596, -6.3105, -6.2952, -6.1961, -6.2931, -6.3563, -6.3077, -6.2969, -4.4812, -4.8113, -5.3002, -5.8269, -5.3946, -4.8468, -5.6505, -5.6667, -5.9249, -4.0917, -5.8505, -4.8182, -5.776, -5.7767, -5.6087, -5.8968, -5.5978, -5.5599, -5.1913, -5.5804, -5.496, -5.6613, -5.6891, -5.795, -5.3527, -5.8512, -5.8972, -5.9267, -6.1392, -6.0976, -6.0932, -5.9146, -6.2535, -6.3909, -6.3989, -6.2641, -6.4688, -6.5028, -6.4256, -6.5749, -6.1058, -6.5407, -6.6473, -6.7807, -6.7713, -6.6206, -6.7216, -6.8202, -6.6859, -6.7894, -6.8378, -6.8031, -6.8144, -6.9002, -6.8446, -6.4466, -6.3562, -6.2373, -5.2995, -4.4209, -5.5478, -6.68, -5.9955, -6.1963, -5.9955, -5.4093, -5.4834, -4.9954, -5.783, -5.2885, -4.8432, -5.0358, -5.7328, -5.9535, -5.7042, -5.8853, -6.0761, -5.7833, -5.4646, -5.4819, -5.6449, -5.5357, -5.7361, -5.7773, -5.4516, -5.896, -5.8972, -5.9462, -4.0621, -4.6102, -5.0003, -5.1749, -5.3433, -5.57, -5.6764, -5.6841, -5.7424, -5.7756, -5.806, -5.8331, -5.8459, -6.0178, -6.0579, -6.0833, -6.0931, -6.095, -6.1806, -6.1935, -6.209, -6.2065, -6.2258, -6.2283, -6.2457, -6.2524, -6.2668, -6.328, -6.3219, -6.3846, -6.3747, -5.6107, -5.9295, -6.2843], \"loglift\": [30.0, 29.0, 28.0, 27.0, 26.0, 25.0, 24.0, 23.0, 22.0, 21.0, 20.0, 19.0, 18.0, 17.0, 16.0, 15.0, 14.0, 13.0, 12.0, 11.0, 10.0, 9.0, 8.0, 7.0, 6.0, 5.0, 4.0, 3.0, 2.0, 1.0, 0.6119, 0.6118, 0.6115, 0.611, 0.6109, 0.6106, 0.6106, 0.6105, 0.6104, 0.61, 0.6094, 0.6093, 0.6091, 0.6091, 0.6089, 0.6089, 0.6088, 0.6088, 0.6087, 0.6085, 0.6085, 0.6085, 0.6085, 0.6084, 0.6084, 0.6083, 0.6083, 0.6082, 0.6079, 0.6079, 0.6028, 0.6018, 0.6048, 0.6067, 0.6008, 0.5811, 0.5963, 0.5899, 0.598, 0.4372, 0.5769, 0.3919, 0.5469, 0.506, 0.4237, 0.5317, 0.2914, 0.2571, -0.1109, 0.0058, -0.1702, -0.0026, -0.0493, 0.0955, 0.8977, 0.8957, 0.8957, 0.8953, 0.895, 0.8948, 0.8946, 0.8943, 0.8932, 0.8931, 0.8925, 0.8925, 0.8921, 0.8917, 0.8916, 0.8913, 0.8909, 0.8908, 0.8898, 0.8896, 0.8895, 0.8894, 0.8892, 0.8891, 0.8891, 0.8886, 0.8886, 0.8885, 0.8877, 0.8875, 0.8874, 0.8822, 0.8758, 0.8703, 0.8204, 0.7663, 0.8173, 0.8824, 0.8281, 0.8047, 0.7671, 0.6329, 0.6038, 0.4665, 0.6691, 0.4178, 0.2372, 0.29, 0.557, 0.6605, 0.5172, 0.6069, 0.7142, 0.5162, 0.1752, 0.1042, 0.2437, 0.123, 0.3344, 0.3371, -0.9227, 0.2927, -0.0066, -0.7362, 2.9445, 2.9397, 2.9341, 2.9308, 2.9271, 2.9209, 2.9177, 2.9174, 2.9154, 2.9142, 2.9131, 2.9118, 2.9115, 2.9042, 2.9023, 2.901, 2.9006, 2.9005, 2.896, 2.8953, 2.8945, 2.8939, 2.8936, 2.8934, 2.8924, 2.8921, 2.8912, 2.8876, 2.8874, 2.8839, 2.8839, 1.3792, 0.1127, 1.8324]}, \"token.table\": {\"Topic\": [3, 3, 1, 1, 3, 1, 3, 3, 1, 2, 1, 1, 2, 3, 3, 2, 1, 2, 1, 2, 1, 2, 1, 2, 2, 2, 1, 2, 2, 1, 1, 3, 1, 2, 2, 1, 2, 3, 2, 1, 2, 3, 3, 2, 2, 3, 3, 1, 2, 1, 3, 1, 2, 3, 2, 1, 2, 1, 1, 2, 1, 3, 1, 2, 2, 1, 1, 2, 2, 1, 3, 1, 1, 2, 1, 2, 3, 1, 1, 2, 1, 2, 3, 1, 3, 3, 2, 2, 1, 2, 2, 1, 2, 1, 2, 2, 2, 2, 1, 2, 3, 2, 1, 2, 1, 2, 2, 1, 2, 1, 1, 1, 2, 1, 2, 2, 1, 1, 2, 1, 2, 2, 1, 2, 2, 1, 2, 1, 2, 1, 2, 3, 1, 3, 1, 3, 2, 1, 2, 3, 2, 1, 2, 1, 2, 1, 2, 1, 1, 1, 1, 1, 1, 2, 1, 3, 3, 1, 1, 2, 2, 2, 1, 2, 1, 2, 3, 2, 2, 3, 1, 2, 1, 2, 1, 3, 1, 3, 2, 1, 1, 2, 1, 2, 3, 3, 3, 1, 2, 3, 2, 3, 1, 2, 3, 1, 2, 3, 3, 3, 3, 3, 3], \"Freq\": [0.9580374668077005, 0.9558644673288035, 0.9967698121445955, 0.9997791125045062, 0.9381736774184422, 0.9979117307045512, 0.9579464377703957, 0.9519900909296936, 0.3158123984978784, 0.6797995696479756, 0.9968217816667325, 0.48404591988109746, 0.5156829081086202, 0.9823704316948704, 0.9378893560196687, 0.9932279032981605, 0.9922102193838173, 0.007216074322791398, 0.48269705277078034, 0.518189483121573, 0.3521055126803023, 0.6486154180952938, 0.9370633300739649, 0.06575883018062911, 0.9920695408675462, 0.9907426928546599, 0.4568927660091949, 0.5438236905153692, 0.9964873598395341, 0.9989184375026198, 0.9991847550396374, 0.9332603254024806, 0.07603875022958019, 0.9214107380760894, 0.9954450946151872, 0.17796143504372922, 0.7656480344904628, 0.05794093233981881, 0.986715522900119, 0.16615902686109782, 0.8307951343054891, 0.9582292722263579, 0.9149905196932915, 0.9929746259142386, 0.9989737391877184, 0.9879695092219707, 0.9879273864646327, 0.700467531854005, 0.3006723839562003, 0.9903434294453692, 0.9288436261111203, 0.2597528079630045, 0.7103444136131143, 0.03180646628118422, 0.9878648097426056, 0.7245018639335249, 0.27346393883765396, 0.9971171249359785, 0.9610971124642439, 0.036497358701173814, 0.9992655864824408, 0.9000731362931165, 0.255433115530865, 0.744652472395064, 0.9902468216650869, 0.997246021172332, 0.9744241032012799, 0.020514191646342734, 0.9978063269473957, 0.992474353759959, 0.9722038400909899, 0.9990198671579621, 0.988949597864196, 0.011111793234429169, 0.5386670238097072, 0.45970013026692286, 0.8897829130410385, 0.9912393058908555, 0.4552079119355137, 0.5462494943226165, 0.21259881585129692, 0.7844163205547852, 0.9775524434567018, 0.9953691877163617, 0.962765863569283, 0.9190103231952675, 0.9908904528338347, 0.9885726249181923, 0.9916879226969891, 0.006121530387018452, 0.9970571811667156, 0.20577631431310858, 0.7919270278110543, 0.12758668987479552, 0.8760952704735959, 0.9963743265496422, 0.9907323557109886, 0.9864771232155237, 0.8013126046694844, 0.19447586809956025, 0.0036014049648066715, 0.9811843659614117, 0.38155446245537517, 0.618177384908321, 0.9672332618497999, 0.031345522374762035, 0.9959465078297152, 0.4299762640514758, 0.5662063675133295, 0.9912224256508054, 0.9930565935576626, 0.987305045345696, 0.011847660544148353, 0.024019636817992258, 0.9727952911286865, 0.9962438530411998, 0.9993026134860511, 0.9195245988111376, 0.07916436943407144, 0.07232631421673241, 0.9312012955404297, 0.9965033891770376, 0.43151451419286346, 0.5694212146050157, 0.9908074638889979, 0.25313577878117316, 0.7464260143547413, 0.9993173284708398, 0.9923705673094801, 0.9956533510908588, 0.9889211634329944, 0.010749143080793418, 0.9930276438715232, 0.004867782567997663, 0.9883414619423729, 0.011030596673463984, 0.981522463327015, 0.07430657706034857, 0.9202583774397015, 0.005715890543103736, 0.9932805328513513, 0.08636810278065346, 0.9068650791968613, 0.8383223422535496, 0.1612859288900851, 0.5147638857683323, 0.48432086026590404, 0.9922717078172851, 0.9982640083202124, 0.9975996357724729, 0.9988437447406595, 0.9934070850842184, 0.8278702401638453, 0.1721314360736708, 0.6588987713822759, 0.32944938569113796, 0.9621306250017972, 0.9984996847904556, 0.9851514330777039, 0.015234300511510885, 0.9985623200803815, 0.9793729644339696, 0.3168465620028349, 0.6832003993186128, 0.9001056845207823, 0.08422041492592115, 0.021055103731480288, 0.9866370837527274, 0.9793192213519518, 0.013601655852110442, 0.9981939063945661, 0.9966325804864263, 0.9838005105177732, 0.013385040959425486, 0.9957464127085511, 0.9349981964655809, 0.9938952670535944, 0.9692171470177544, 0.9957846345404504, 0.9944542906763776, 0.5974613614897404, 0.4018638919544087, 0.5455768873677944, 0.4511501184002915, 0.005245931609305715, 0.9605447270237709, 0.9463481559368818, 0.010676375948702464, 0.7793754442552798, 0.20285114302534682, 0.9889128618596396, 0.014983528209994539, 0.1249670808143295, 0.8747695657003065, 0.9207571874528934, 0.018925997355621612, 0.9841518624923238, 0.950226506448564, 0.9906139688931062, 0.9877699221626098, 0.9884407162460038, 0.9414013053545487, 0.9629284010808893], \"Term\": [\"\\u0430\\u0431\\u043e\", \"\\u0430\\u043b\\u0435\", \"\\u0430\\u043d\\u0430\\u043b\\u0438\\u0437\", \"\\u0430\\u043d\\u0430\\u043b\\u0438\\u0442\\u0438\\u043a\", \"\\u0431\\u0430\\u0433\\u0430\\u0442\\u043e\", \"\\u0431\\u0438\\u0437\\u043d\\u0435\\u0441\", \"\\u0431\\u0443\\u0434\\u0435\", \"\\u0431\\u0443\\u0442\\u0438\", \"\\u0432\\u0430\\u0436\\u043d\\u044b\\u0439\", \"\\u0432\\u0430\\u0436\\u043d\\u044b\\u0439\", \"\\u0432\\u0430\\u043a\\u0430\\u043d\\u0441\\u0438\\u044f\", \"\\u0432\\u0435\\u0441\\u044c\", \"\\u0432\\u0435\\u0441\\u044c\", \"\\u0432\\u0436\\u0435\", \"\\u0432\\u0438\", \"\\u0432\\u0438\\u043d\\u043e\\u0432\\u0430\\u0442\\u044b\\u0439\", \"\\u0432\\u043e\\u0437\\u043c\\u043e\\u0436\\u043d\\u043e\\u0441\\u0442\\u044c\", \"\\u0432\\u043e\\u0437\\u043c\\u043e\\u0436\\u043d\\u043e\\u0441\\u0442\\u044c\", \"\\u0432\\u043e\\u043f\\u0440\\u043e\\u0441\", \"\\u0432\\u043e\\u043f\\u0440\\u043e\\u0441\", \"\\u0432\\u0440\\u0435\\u043c\\u044f\", \"\\u0432\\u0440\\u0435\\u043c\\u044f\", \"\\u0432\\u0441\\u0435\\u043c\", \"\\u0432\\u0441\\u0435\\u043c\", \"\\u0432\\u0442\\u043e\\u0440\\u043e\\u0439\", \"\\u0433\\u043e\\u0432\\u043e\\u0440\\u0438\\u0442\\u044c\", \"\\u0433\\u043e\\u0434\", \"\\u0433\\u043e\\u0434\", \"\\u0433\\u043e\\u043b\\u043e\\u0432\\u0430\", \"\\u0434\\u0430\\u043d\\u043d\\u044b\\u0435\", \"\\u0434\\u0430\\u043d\\u043d\\u044b\\u0445\", \"\\u0434\\u0435\", \"\\u0434\\u0435\\u043b\\u0430\\u0442\\u044c\", \"\\u0434\\u0435\\u043b\\u0430\\u0442\\u044c\", \"\\u0434\\u0435\\u043b\\u043e\", \"\\u0434\\u0435\\u043d\\u044c\", \"\\u0434\\u0435\\u043d\\u044c\", \"\\u0434\\u0435\\u043d\\u044c\", \"\\u0434\\u043e\\u0432\\u043e\\u043b\\u044c\\u043d\\u043e\", \"\\u0434\\u043e\\u043b\\u0436\\u043d\\u044b\\u0439\", \"\\u0434\\u043e\\u043b\\u0436\\u043d\\u044b\\u0439\", \"\\u0434\\u043e\\u043f\\u043e\\u043c\\u043e\\u0433\\u0442\\u0438\", \"\\u0434\\u0443\\u0436\\u0435\", \"\\u0434\\u0443\\u043c\\u0430\\u0442\\u044c\", \"\\u0436\\u0438\\u0437\\u043d\\u044c\", \"\\u0436\\u0438\\u0442\\u0442\\u044f\", \"\\u0437\", \"\\u0437\\u0430\\u0434\\u0430\\u0447\\u0430\", \"\\u0437\\u0430\\u0434\\u0430\\u0447\\u0430\", \"\\u0437\\u0430\\u043f\\u0440\\u043e\\u0441\", \"\\u0437\\u0430\\u0440\\u0430\\u0437\", \"\\u0437\\u043d\\u0430\\u0442\\u044c\", \"\\u0437\\u043d\\u0430\\u0442\\u044c\", \"\\u0437\\u043d\\u0430\\u0442\\u044c\", \"\\u0438\\u0434\\u0442\\u0438\", \"\\u0438\\u043d\\u0442\\u0435\\u0440\\u0435\\u0441\\u043d\\u044b\\u0439\", \"\\u0438\\u043d\\u0442\\u0435\\u0440\\u0435\\u0441\\u043d\\u044b\\u0439\", \"\\u0438\\u0441\\u043a\\u0430\\u0442\\u044c\", \"\\u0438\\u0441\\u043f\\u043e\\u043b\\u044c\\u0437\\u043e\\u0432\\u0430\\u0442\\u044c\", \"\\u0438\\u0441\\u043f\\u043e\\u043b\\u044c\\u0437\\u043e\\u0432\\u0430\\u0442\\u044c\", \"\\u0438\\u0442\", \"\\u0439\\u043e\\u0433\\u043e\", \"\\u043a\\u0430\\u0436\\u0434\\u044b\\u0439\", \"\\u043a\\u0430\\u0436\\u0434\\u044b\\u0439\", \"\\u043a\\u0430\\u0437\\u0430\\u0442\\u044c\\u0441\\u044f\", \"\\u043a\\u0430\\u0440\\u044c\\u0435\\u0440\\u043d\\u044b\\u0439\", \"\\u043a\\u043b\\u0438\\u0435\\u043d\\u0442\", \"\\u043a\\u043b\\u0438\\u0435\\u043d\\u0442\", \"\\u043a\\u043d\\u0438\\u0433\\u0430\", \"\\u043a\\u043e\\u0434\", \"\\u043a\\u043e\\u043b\\u0438\", \"\\u043a\\u043e\\u043c\\u0430\\u043d\\u0434\\u0430\", \"\\u043a\\u043e\\u043c\\u043f\\u0430\\u043d\\u0438\\u044f\", \"\\u043a\\u043e\\u043c\\u043f\\u0430\\u043d\\u0438\\u044f\", \"\\u043a\\u043e\\u0442\\u043e\\u0440\\u044b\\u0435\", \"\\u043a\\u043e\\u0442\\u043e\\u0440\\u044b\\u0435\", \"\\u043a\\u0440\\u0438\\u0437\\u0438\", \"\\u043a\\u0440\\u0443\\u043f\\u043d\\u044b\\u0439\", \"\\u043a\\u0443\\u0440\\u0441\", \"\\u043a\\u0443\\u0440\\u0441\", \"\\u043c\\u0435\\u0441\\u044f\\u0446\", \"\\u043c\\u0435\\u0441\\u044f\\u0446\", \"\\u043c\\u0438\", \"\\u043c\\u043e\\u0434\\u0435\\u043b\\u044c\", \"\\u043c\\u043e\\u0436\\u0435\", \"\\u043c\\u043e\\u0436\\u043d\\u0430\", \"\\u043c\\u043e\\u0437\\u0433\", \"\\u043c\\u044b\\u0441\\u043b\\u044c\", \"\\u043d\\u0430\\u0432\\u044b\\u043a\", \"\\u043d\\u0430\\u0432\\u044b\\u043a\", \"\\u043d\\u0430\\u0437\\u0430\\u0434\", \"\\u043d\\u0430\\u0447\\u0430\\u0442\\u044c\", \"\\u043d\\u0430\\u0447\\u0430\\u0442\\u044c\", \"\\u043d\\u0435\\u0434\\u0435\\u043b\\u044f\", \"\\u043d\\u0435\\u0434\\u0435\\u043b\\u044f\", \"\\u043d\\u0435\\u043c\\u043d\\u043e\\u0433\\u043e\", \"\\u043d\\u0438\\u043a\\u0442\\u043e\", \"\\u043d\\u0438\\u0447\\u0442\\u043e\", \"\\u043d\\u043e\\u0432\\u044b\\u0439\", \"\\u043d\\u043e\\u0432\\u044b\\u0439\", \"\\u043d\\u043e\\u0432\\u044b\\u0439\", \"\\u043d\\u0440\\u0430\\u0432\\u0438\\u0442\\u044c\\u0441\\u044f\", \"\\u043d\\u0443\\u0436\\u043d\\u044b\\u0439\", \"\\u043d\\u0443\\u0436\\u043d\\u044b\\u0439\", \"\\u043e\\u043f\\u044b\\u0442\", \"\\u043e\\u043f\\u044b\\u0442\", \"\\u043f\\u0430\\u0440\\u0430\", \"\\u043f\\u0435\\u0440\\u0432\\u044b\\u0439\", \"\\u043f\\u0435\\u0440\\u0432\\u044b\\u0439\", \"\\u043f\\u043e\\u0434\\u0434\\u0435\\u0440\\u0436\\u043a\\u0430\", \"\\u043f\\u043e\\u0437\\u0438\\u0446\\u0438\\u044f\", \"\\u043f\\u043e\\u0438\\u0441\\u043a\", \"\\u043f\\u043e\\u0438\\u0441\\u043a\", \"\\u043f\\u043e\\u043a\\u0430\", \"\\u043f\\u043e\\u043a\\u0430\", \"\\u043f\\u043e\\u043b\\u0443\\u0447\\u0438\\u0442\\u044c\\u0441\\u044f\", \"\\u043f\\u043e\\u043b\\u044c\\u0437\\u043e\\u0432\\u0430\\u0442\\u0435\\u043b\\u044c\", \"\\u043f\\u043e\\u043c\\u043e\\u0449\\u044c\", \"\\u043f\\u043e\\u043c\\u043e\\u0449\\u044c\", \"\\u043f\\u043e\\u043d\\u0438\\u043c\\u0430\\u0442\\u044c\", \"\\u043f\\u043e\\u043d\\u0438\\u043c\\u0430\\u0442\\u044c\", \"\\u043f\\u043e\\u043d\\u044f\\u0442\\u044c\", \"\\u043f\\u043e\\u0441\\u0442\", \"\\u043f\\u043e\\u0441\\u0442\", \"\\u043f\\u043e\\u0447\\u0435\\u043c\\u0443\", \"\\u043f\\u043e\\u044d\\u0442\\u043e\\u043c\\u0443\", \"\\u043f\\u043e\\u044d\\u0442\\u043e\\u043c\\u0443\", \"\\u043f\\u0440\\u0438\\u0432\\u0435\\u0442\", \"\\u043f\\u0440\\u0438\\u0439\\u0442\\u0438\", \"\\u043f\\u0440\\u0438\\u043b\\u043e\\u0436\\u0435\\u043d\\u0438\\u0435\", \"\\u043f\\u0440\\u0438\\u0447\\u0438\\u043d\\u0430\", \"\\u043f\\u0440\\u0438\\u0447\\u0438\\u043d\\u0430\", \"\\u043f\\u0440\\u043e\\u0434\\u0443\\u043a\\u0442\", \"\\u043f\\u0440\\u043e\\u0434\\u0443\\u043a\\u0442\", \"\\u043f\\u0440\\u043e\\u0435\\u043a\\u0442\", \"\\u043f\\u0440\\u043e\\u0435\\u043a\\u0442\", \"\\u043f\\u0440\\u043e\\u0438\\u0441\\u0445\\u043e\\u0434\\u0438\\u0442\\u044c\", \"\\u043f\\u0440\\u043e\\u0441\\u0442\\u043e\", \"\\u043f\\u0440\\u043e\\u0441\\u0442\\u043e\", \"\\u043f\\u0440\\u043e\\u0441\\u0442\\u043e\", \"\\u043f\\u0441\\u0438\\u0445\\u043e\\u043b\\u043e\\u0433\", \"\\u043f\\u0443\\u0442\\u044c\", \"\\u043f\\u0443\\u0442\\u044c\", \"\\u0440\\u0430\\u0431\\u043e\\u0442\\u0430\", \"\\u0440\\u0430\\u0431\\u043e\\u0442\\u0430\", \"\\u0440\\u0430\\u0431\\u043e\\u0442\\u0430\\u0442\\u044c\", \"\\u0440\\u0430\\u0431\\u043e\\u0442\\u0430\\u0442\\u044c\", \"\\u0440\\u0430\\u0437\\u0432\\u0438\\u0442\\u0438\\u0435\", \"\\u0440\\u0430\\u0437\\u0440\\u0430\\u0431\\u043e\\u0442\\u043a\\u0430\", \"\\u0440\\u0430\\u0437\\u0440\\u0430\\u0431\\u043e\\u0442\\u0447\\u0438\\u043a\", \"\\u0440\\u0435\\u0437\\u044e\\u043c\\u0435\", \"\\u0440\\u0435\\u043a\\u043e\\u043c\\u0435\\u043d\\u0434\\u0430\\u0446\\u0438\\u044f\", \"\\u0440\\u0435\\u0448\\u0435\\u043d\\u0438\\u0435\", \"\\u0440\\u0435\\u0448\\u0435\\u043d\\u0438\\u0435\", \"\\u0440\\u043e\\u0431\\u043e\\u0442\", \"\\u0440\\u043e\\u0431\\u043e\\u0442\", \"\\u0440\\u043e\\u0431\\u043e\\u0442\\u0438\", \"\\u0440\\u044b\\u043d\\u043e\\u043a\", \"\\u0441\\u0430\\u0439\\u0442\", \"\\u0441\\u0430\\u0439\\u0442\", \"\\u0441\\u0430\\u043c\\u0438\", \"\\u0441\\u0430\\u043c\\u043e\\u0435\", \"\\u0441\\u0434\\u0435\\u043b\\u0430\\u0442\\u044c\", \"\\u0441\\u0434\\u0435\\u043b\\u0430\\u0442\\u044c\", \"\\u0441\\u0438\\u0441\\u0442\\u0435\\u043c\\u0430\", \"\\u0441\\u0438\\u0441\\u0442\\u0435\\u043c\\u0430\", \"\\u0441\\u0438\\u0441\\u0442\\u0435\\u043c\\u0430\", \"\\u0441\\u043a\\u0430\\u0437\\u0430\\u0442\\u044c\", \"\\u0441\\u043b\\u043e\\u0432\\u043e\", \"\\u0441\\u043b\\u043e\\u0432\\u043e\", \"\\u0441\\u043e\\u043e\\u0431\\u0449\\u0430\\u0442\\u044c\", \"\\u0441\\u043e\\u0441\\u0442\\u043e\\u044f\\u043d\\u0438\\u0435\", \"\\u0441\\u043f\\u0435\\u0446\\u0438\\u0430\\u043b\\u0438\\u0441\\u0442\", \"\\u0441\\u043f\\u0435\\u0446\\u0438\\u0430\\u043b\\u0438\\u0441\\u0442\", \"\\u0441\\u0441\\u044b\\u043b\\u043a\\u0430\", \"\\u0442\\u0430\\u043a\\u043e\\u0436\", \"\\u0442\\u0435\\u0445\\u043d\\u043e\\u043b\\u043e\\u0433\\u0438\\u044f\", \"\\u0442\\u0438\", \"\\u0442\\u0440\\u0435\\u043d\\u0438\\u0440\\u043e\\u0432\\u043a\\u0430\", \"\\u0443\\u043f\\u0440\\u0430\\u0432\\u043b\\u0435\\u043d\\u0438\\u0435\", \"\\u0445\\u043e\\u0440\\u043e\\u0448\\u0438\\u0439\", \"\\u0445\\u043e\\u0440\\u043e\\u0448\\u0438\\u0439\", \"\\u0445\\u043e\\u0442\\u0435\\u0442\\u044c\", \"\\u0445\\u043e\\u0442\\u0435\\u0442\\u044c\", \"\\u0445\\u043e\\u0442\\u0435\\u0442\\u044c\", \"\\u0446\\u0435\", \"\\u0446\\u0435\\u0439\", \"\\u0447\\u0430\\u0441\", \"\\u0447\\u0430\\u0441\", \"\\u0447\\u0430\\u0441\", \"\\u0447\\u0430\\u0441\\u0442\\u043e\", \"\\u0447\\u0430\\u0441\\u0442\\u043e\", \"\\u0447\\u0435\\u043b\\u043e\\u0432\\u0435\\u043a\", \"\\u0447\\u0435\\u043b\\u043e\\u0432\\u0435\\u043a\", \"\\u0447\\u0438\", \"\\u0447\\u0443\\u0432\\u0441\\u0442\\u0432\\u043e\", \"\\u0447\\u0443\\u0432\\u0441\\u0442\\u0432\\u043e\", \"\\u0449\\u0435\", \"\\u0449\\u043e\", \"\\u0449\\u043e\\u0431\", \"\\u044f\\u043a\", \"\\u044f\\u043a\\u0438\\u0439\", \"\\u044f\\u043a\\u0449\\u043e\"]}, \"R\": 30, \"lambda.step\": 0.01, \"plot.opts\": {\"xlab\": \"PC1\", \"ylab\": \"PC2\"}, \"topic.order\": [1, 3, 2]};\n",
       "\n",
       "function LDAvis_load_lib(url, callback){\n",
       "  var s = document.createElement('script');\n",
       "  s.src = url;\n",
       "  s.async = true;\n",
       "  s.onreadystatechange = s.onload = callback;\n",
       "  s.onerror = function(){console.warn(\"failed to load library \" + url);};\n",
       "  document.getElementsByTagName(\"head\")[0].appendChild(s);\n",
       "}\n",
       "\n",
       "if(typeof(LDAvis) !== \"undefined\"){\n",
       "   // already loaded: just create the visualization\n",
       "   !function(LDAvis){\n",
       "       new LDAvis(\"#\" + \"ldavis_el14682365787213444677380430\", ldavis_el14682365787213444677380430_data);\n",
       "   }(LDAvis);\n",
       "}else if(typeof define === \"function\" && define.amd){\n",
       "   // require.js is available: use it to load d3/LDAvis\n",
       "   require.config({paths: {d3: \"https://d3js.org/d3.v5\"}});\n",
       "   require([\"d3\"], function(d3){\n",
       "      window.d3 = d3;\n",
       "      LDAvis_load_lib(\"https://cdn.jsdelivr.net/gh/bmabey/pyLDAvis@3.4.0/pyLDAvis/js/ldavis.v3.0.0.js\", function(){\n",
       "        new LDAvis(\"#\" + \"ldavis_el14682365787213444677380430\", ldavis_el14682365787213444677380430_data);\n",
       "      });\n",
       "    });\n",
       "}else{\n",
       "    // require.js not available: dynamically load d3 & LDAvis\n",
       "    LDAvis_load_lib(\"https://d3js.org/d3.v5.js\", function(){\n",
       "         LDAvis_load_lib(\"https://cdn.jsdelivr.net/gh/bmabey/pyLDAvis@3.4.0/pyLDAvis/js/ldavis.v3.0.0.js\", function(){\n",
       "                 new LDAvis(\"#\" + \"ldavis_el14682365787213444677380430\", ldavis_el14682365787213444677380430_data);\n",
       "            })\n",
       "         });\n",
       "}\n",
       "</script>"
      ],
      "text/plain": [
       "PreparedData(topic_coordinates=              x         y  topics  cluster       Freq\n",
       "topic                                                \n",
       "0     -0.163100  0.125427       1        1  54.146368\n",
       "2     -0.063423 -0.168545       2        1  40.627477\n",
       "1      0.226523  0.043119       3        1   5.226155, topic_info=          Term        Freq       Total Category  logprob  loglift\n",
       "46    компания  629.000000  629.000000  Default  30.0000  30.0000\n",
       "87     человек  568.000000  568.000000  Default  29.0000  29.0000\n",
       "7842         з   92.000000   92.000000  Default  28.0000  28.0000\n",
       "193     проект  453.000000  453.000000  Default  27.0000  27.0000\n",
       "45     команда  375.000000  375.000000  Default  26.0000  26.0000\n",
       "...        ...         ...         ...      ...      ...      ...\n",
       "8667    багато    8.966265    9.593106   Topic3  -6.3846   2.8839\n",
       "9910     зараз    9.056113    9.689467   Topic3  -6.3747   2.8839\n",
       "902        час   19.442024   93.664742   Topic3  -5.6107   1.3792\n",
       "97        день   14.133790  241.625384   Topic3  -5.9295   0.1127\n",
       "413      робот    9.912367   30.353676   Topic3  -6.2843   1.8324\n",
       "\n",
       "[182 rows x 6 columns], token_table=      Topic      Freq      Term\n",
       "term                           \n",
       "7841      3  0.958037       або\n",
       "8500      3  0.955864       але\n",
       "454       1  0.996770    анализ\n",
       "690       1  0.999779  аналитик\n",
       "8667      3  0.938174    багато\n",
       "...     ...       ...       ...\n",
       "8649      3  0.990614        що\n",
       "8650      3  0.987770       щоб\n",
       "8530      3  0.988441        як\n",
       "8867      3  0.941401      який\n",
       "8532      3  0.962928      якщо\n",
       "\n",
       "[203 rows x 3 columns], R=30, lambda_step=0.01, plot_opts={'xlab': 'PC1', 'ylab': 'PC2'}, topic_order=[1, 3, 2])"
      ]
     },
     "execution_count": 34,
     "metadata": {},
     "output_type": "execute_result"
    }
   ],
   "source": [
    "pyLDAvis.enable_notebook()\n",
    "vis = pyLDAvis.gensim.prepare(best_model, best_corpus, best_id2word)\n",
    "vis"
   ]
  },
  {
   "cell_type": "code",
   "execution_count": 35,
   "metadata": {},
   "outputs": [],
   "source": [
    "topic_probs = best_model.get_document_topics(best_corpus)\n",
    "max_prob_topics = list(map(lambda doc_probs: max(doc_probs, key=lambda x: x[1])[0], topic_probs))"
   ]
  },
  {
   "cell_type": "code",
   "execution_count": 36,
   "metadata": {},
   "outputs": [
    {
     "data": {
      "text/html": [
       "<div>\n",
       "<style scoped>\n",
       "    .dataframe tbody tr th:only-of-type {\n",
       "        vertical-align: middle;\n",
       "    }\n",
       "\n",
       "    .dataframe tbody tr th {\n",
       "        vertical-align: top;\n",
       "    }\n",
       "\n",
       "    .dataframe thead th {\n",
       "        text-align: right;\n",
       "    }\n",
       "</style>\n",
       "<table border=\"1\" class=\"dataframe\">\n",
       "  <thead>\n",
       "    <tr style=\"text-align: right;\">\n",
       "      <th></th>\n",
       "      <th>text</th>\n",
       "      <th>topic_label</th>\n",
       "    </tr>\n",
       "  </thead>\n",
       "  <tbody>\n",
       "    <tr>\n",
       "      <th>0</th>\n",
       "      <td>Всем привет!Выпустил свою первую статью на хаб...</td>\n",
       "      <td>0</td>\n",
       "    </tr>\n",
       "    <tr>\n",
       "      <th>1</th>\n",
       "      <td>Если вам интересно позалипать в слова, я запус...</td>\n",
       "      <td>2</td>\n",
       "    </tr>\n",
       "    <tr>\n",
       "      <th>2</th>\n",
       "      <td>С трепетом готов представить свой продукт. Реф...</td>\n",
       "      <td>0</td>\n",
       "    </tr>\n",
       "  </tbody>\n",
       "</table>\n",
       "</div>"
      ],
      "text/plain": [
       "                                                text topic_label\n",
       "0  Всем привет!Выпустил свою первую статью на хаб...           0\n",
       "1  Если вам интересно позалипать в слова, я запус...           2\n",
       "2  С трепетом готов представить свой продукт. Реф...           0"
      ]
     },
     "execution_count": 36,
     "metadata": {},
     "output_type": "execute_result"
    }
   ],
   "source": [
    "df = pd.DataFrame([list(data_dd[\"text\"]), max_prob_topics]).transpose()\n",
    "df.columns = ['text', 'topic_label']\n",
    "df.head(3)"
   ]
  },
  {
   "cell_type": "code",
   "execution_count": 37,
   "metadata": {},
   "outputs": [
    {
     "data": {
      "text/html": [
       "<div>\n",
       "<style scoped>\n",
       "    .dataframe tbody tr th:only-of-type {\n",
       "        vertical-align: middle;\n",
       "    }\n",
       "\n",
       "    .dataframe tbody tr th {\n",
       "        vertical-align: top;\n",
       "    }\n",
       "\n",
       "    .dataframe thead th {\n",
       "        text-align: right;\n",
       "    }\n",
       "</style>\n",
       "<table border=\"1\" class=\"dataframe\">\n",
       "  <thead>\n",
       "    <tr style=\"text-align: right;\">\n",
       "      <th></th>\n",
       "      <th>text</th>\n",
       "      <th>topic_label</th>\n",
       "    </tr>\n",
       "  </thead>\n",
       "  <tbody>\n",
       "    <tr>\n",
       "      <th>159</th>\n",
       "      <td>Юрий Бура (@juriy), спасибо! Это были очень кр...</td>\n",
       "      <td>1</td>\n",
       "    </tr>\n",
       "    <tr>\n",
       "      <th>306</th>\n",
       "      <td>Штош, надоело мне в IT. Уволюсь и открою пивну...</td>\n",
       "      <td>1</td>\n",
       "    </tr>\n",
       "    <tr>\n",
       "      <th>336</th>\n",
       "      <td>Компания первой создавший и распространивший э...</td>\n",
       "      <td>1</td>\n",
       "    </tr>\n",
       "    <tr>\n",
       "      <th>607</th>\n",
       "      <td>Дизайн и верстка. Земельные участки Подмосковь...</td>\n",
       "      <td>1</td>\n",
       "    </tr>\n",
       "    <tr>\n",
       "      <th>609</th>\n",
       "      <td>Лендинг пейдж для службы вскрытия дверей. #web...</td>\n",
       "      <td>1</td>\n",
       "    </tr>\n",
       "  </tbody>\n",
       "</table>\n",
       "</div>"
      ],
      "text/plain": [
       "                                                  text topic_label\n",
       "159  Юрий Бура (@juriy), спасибо! Это были очень кр...           1\n",
       "306  Штош, надоело мне в IT. Уволюсь и открою пивну...           1\n",
       "336  Компания первой создавший и распространивший э...           1\n",
       "607  Дизайн и верстка. Земельные участки Подмосковь...           1\n",
       "609  Лендинг пейдж для службы вскрытия дверей. #web...           1"
      ]
     },
     "execution_count": 37,
     "metadata": {},
     "output_type": "execute_result"
    }
   ],
   "source": [
    "df.loc[df['topic_label'] == 1].head()"
   ]
  },
  {
   "cell_type": "code",
   "execution_count": 38,
   "metadata": {},
   "outputs": [
    {
     "data": {
      "text/plain": [
       "[('человек', 0.012023695),\n",
       " ('весь', 0.007881439),\n",
       " ('время', 0.0067690583),\n",
       " ('год', 0.0065009254),\n",
       " ('нужный', 0.0050492613),\n",
       " ('делать', 0.004994253),\n",
       " ('жизнь', 0.0047352044),\n",
       " ('день', 0.004474903),\n",
       " ('работа', 0.0042895307),\n",
       " ('работать', 0.00423403)]"
      ]
     },
     "execution_count": 38,
     "metadata": {},
     "output_type": "execute_result"
    }
   ],
   "source": [
    "best_model.show_topic(2)"
   ]
  },
  {
   "attachments": {},
   "cell_type": "markdown",
   "metadata": {},
   "source": [
    "# Вывод"
   ]
  },
  {
   "attachments": {},
   "cell_type": "markdown",
   "metadata": {},
   "source": [
    "С имеющимися данными наилучшую согласованность имеет модель с разделением на 3 темы. После разделения на 3 темы было выявлено, что как отдельная тема выделены тексты на украинском языке. Для получения нормальных результатов нужно провести повторное моделирование исключив из данных украинские тексты."
   ]
  },
  {
   "attachments": {},
   "cell_type": "markdown",
   "metadata": {},
   "source": [
    "# Анализ с исключением украинских постов"
   ]
  },
  {
   "attachments": {},
   "cell_type": "markdown",
   "metadata": {},
   "source": [
    "Сбросим индексы"
   ]
  },
  {
   "cell_type": "code",
   "execution_count": 48,
   "metadata": {},
   "outputs": [
    {
     "data": {
      "text/html": [
       "<div>\n",
       "<style scoped>\n",
       "    .dataframe tbody tr th:only-of-type {\n",
       "        vertical-align: middle;\n",
       "    }\n",
       "\n",
       "    .dataframe tbody tr th {\n",
       "        vertical-align: top;\n",
       "    }\n",
       "\n",
       "    .dataframe thead th {\n",
       "        text-align: right;\n",
       "    }\n",
       "</style>\n",
       "<table border=\"1\" class=\"dataframe\">\n",
       "  <thead>\n",
       "    <tr style=\"text-align: right;\">\n",
       "      <th></th>\n",
       "      <th>text</th>\n",
       "      <th>topic_label</th>\n",
       "    </tr>\n",
       "  </thead>\n",
       "  <tbody>\n",
       "    <tr>\n",
       "      <th>0</th>\n",
       "      <td>Всем привет!Выпустил свою первую статью на хаб...</td>\n",
       "      <td>0</td>\n",
       "    </tr>\n",
       "    <tr>\n",
       "      <th>1</th>\n",
       "      <td>Если вам интересно позалипать в слова, я запус...</td>\n",
       "      <td>2</td>\n",
       "    </tr>\n",
       "    <tr>\n",
       "      <th>2</th>\n",
       "      <td>С трепетом готов представить свой продукт. Реф...</td>\n",
       "      <td>0</td>\n",
       "    </tr>\n",
       "    <tr>\n",
       "      <th>3</th>\n",
       "      <td>Всем привет! Мы в AppFollow ищем Senior DevOps...</td>\n",
       "      <td>0</td>\n",
       "    </tr>\n",
       "    <tr>\n",
       "      <th>4</th>\n",
       "      <td>На следующей неделе российская data-практика E...</td>\n",
       "      <td>0</td>\n",
       "    </tr>\n",
       "  </tbody>\n",
       "</table>\n",
       "</div>"
      ],
      "text/plain": [
       "                                                text topic_label\n",
       "0  Всем привет!Выпустил свою первую статью на хаб...           0\n",
       "1  Если вам интересно позалипать в слова, я запус...           2\n",
       "2  С трепетом готов представить свой продукт. Реф...           0\n",
       "3  Всем привет! Мы в AppFollow ищем Senior DevOps...           0\n",
       "4  На следующей неделе российская data-практика E...           0"
      ]
     },
     "execution_count": 48,
     "metadata": {},
     "output_type": "execute_result"
    }
   ],
   "source": [
    "df = df.reset_index(drop=True)\n",
    "df.head()"
   ]
  },
  {
   "cell_type": "code",
   "execution_count": 49,
   "metadata": {},
   "outputs": [
    {
     "data": {
      "text/html": [
       "<div>\n",
       "<style scoped>\n",
       "    .dataframe tbody tr th:only-of-type {\n",
       "        vertical-align: middle;\n",
       "    }\n",
       "\n",
       "    .dataframe tbody tr th {\n",
       "        vertical-align: top;\n",
       "    }\n",
       "\n",
       "    .dataframe thead th {\n",
       "        text-align: right;\n",
       "    }\n",
       "</style>\n",
       "<table border=\"1\" class=\"dataframe\">\n",
       "  <thead>\n",
       "    <tr style=\"text-align: right;\">\n",
       "      <th></th>\n",
       "      <th>status</th>\n",
       "      <th>url</th>\n",
       "      <th>text</th>\n",
       "      <th>likes</th>\n",
       "      <th>reposts</th>\n",
       "      <th>comments</th>\n",
       "      <th>text_len</th>\n",
       "    </tr>\n",
       "  </thead>\n",
       "  <tbody>\n",
       "    <tr>\n",
       "      <th>0</th>\n",
       "      <td>Middle Software Engineer - Yandex</td>\n",
       "      <td>https://www.linkedin.com/in/michilegorov</td>\n",
       "      <td>Всем привет!Выпустил свою первую статью на хаб...</td>\n",
       "      <td>17.0</td>\n",
       "      <td>0.0</td>\n",
       "      <td>0.0</td>\n",
       "      <td>295</td>\n",
       "    </tr>\n",
       "    <tr>\n",
       "      <th>1</th>\n",
       "      <td>Middle Software Engineer - Yandex</td>\n",
       "      <td>https://www.linkedin.com/in/michilegorov</td>\n",
       "      <td>Если вам интересно позалипать в слова, я запус...</td>\n",
       "      <td>6.0</td>\n",
       "      <td>0.0</td>\n",
       "      <td>2.0</td>\n",
       "      <td>117</td>\n",
       "    </tr>\n",
       "    <tr>\n",
       "      <th>2</th>\n",
       "      <td>Talent Acquisition Manager | Recruitment Lead ...</td>\n",
       "      <td>https://www.linkedin.com/in/dariaivanova</td>\n",
       "      <td>С трепетом готов представить свой продукт. Реф...</td>\n",
       "      <td>8.0</td>\n",
       "      <td>0.0</td>\n",
       "      <td>0.0</td>\n",
       "      <td>841</td>\n",
       "    </tr>\n",
       "    <tr>\n",
       "      <th>3</th>\n",
       "      <td>Talent Acquisition Manager | Recruitment Lead ...</td>\n",
       "      <td>https://www.linkedin.com/in/dariaivanova</td>\n",
       "      <td>Всем привет! Мы в AppFollow ищем Senior DevOps...</td>\n",
       "      <td>12.0</td>\n",
       "      <td>4.0</td>\n",
       "      <td>6.0</td>\n",
       "      <td>1233</td>\n",
       "    </tr>\n",
       "    <tr>\n",
       "      <th>4</th>\n",
       "      <td>Talent Acquisition Manager | Recruitment Lead ...</td>\n",
       "      <td>https://www.linkedin.com/in/dariaivanova</td>\n",
       "      <td>На следующей неделе российская data-практика E...</td>\n",
       "      <td>11.0</td>\n",
       "      <td>0.0</td>\n",
       "      <td>0.0</td>\n",
       "      <td>539</td>\n",
       "    </tr>\n",
       "  </tbody>\n",
       "</table>\n",
       "</div>"
      ],
      "text/plain": [
       "                                              status  \\\n",
       "0                  Middle Software Engineer - Yandex   \n",
       "1                  Middle Software Engineer - Yandex   \n",
       "2  Talent Acquisition Manager | Recruitment Lead ...   \n",
       "3  Talent Acquisition Manager | Recruitment Lead ...   \n",
       "4  Talent Acquisition Manager | Recruitment Lead ...   \n",
       "\n",
       "                                        url  \\\n",
       "0  https://www.linkedin.com/in/michilegorov   \n",
       "1  https://www.linkedin.com/in/michilegorov   \n",
       "2  https://www.linkedin.com/in/dariaivanova   \n",
       "3  https://www.linkedin.com/in/dariaivanova   \n",
       "4  https://www.linkedin.com/in/dariaivanova   \n",
       "\n",
       "                                                text likes  reposts  comments  \\\n",
       "0  Всем привет!Выпустил свою первую статью на хаб...  17.0      0.0       0.0   \n",
       "1  Если вам интересно позалипать в слова, я запус...   6.0      0.0       2.0   \n",
       "2  С трепетом готов представить свой продукт. Реф...   8.0      0.0       0.0   \n",
       "3  Всем привет! Мы в AppFollow ищем Senior DevOps...  12.0      4.0       6.0   \n",
       "4  На следующей неделе российская data-практика E...  11.0      0.0       0.0   \n",
       "\n",
       "   text_len  \n",
       "0       295  \n",
       "1       117  \n",
       "2       841  \n",
       "3      1233  \n",
       "4       539  "
      ]
     },
     "execution_count": 49,
     "metadata": {},
     "output_type": "execute_result"
    }
   ],
   "source": [
    "data_dd = data_dd.reset_index(drop=True)\n",
    "data_dd.head()"
   ]
  },
  {
   "attachments": {},
   "cell_type": "markdown",
   "metadata": {},
   "source": [
    "Отфильтруем посты от украинских"
   ]
  },
  {
   "cell_type": "code",
   "execution_count": 57,
   "metadata": {},
   "outputs": [
    {
     "data": {
      "text/plain": [
       "(1710, 2)"
      ]
     },
     "metadata": {},
     "output_type": "display_data"
    }
   ],
   "source": [
    "df_wu = df.loc[df['topic_label'] != 1]\n",
    "display(df_wu.shape)\n",
    "wu_indexes = df_wu.index"
   ]
  },
  {
   "cell_type": "code",
   "execution_count": 58,
   "metadata": {},
   "outputs": [],
   "source": [
    "data_dd_wu = data_dd.loc[wu_indexes]"
   ]
  },
  {
   "cell_type": "code",
   "execution_count": 59,
   "metadata": {},
   "outputs": [
    {
     "data": {
      "text/plain": [
       "1710"
      ]
     },
     "execution_count": 59,
     "metadata": {},
     "output_type": "execute_result"
    }
   ],
   "source": [
    "data_words_wu = [data_words_nostops[i] for i in wu_indexes]\n",
    "len(data_words_wu)"
   ]
  },
  {
   "attachments": {},
   "cell_type": "markdown",
   "metadata": {},
   "source": [
    "Подготовка к моделированию"
   ]
  },
  {
   "cell_type": "code",
   "execution_count": 61,
   "metadata": {},
   "outputs": [],
   "source": [
    "id2word_wu = corpora.Dictionary(data_words_wu)\n",
    "\n",
    "texts_wu = data_words_wu\n",
    "\n",
    "corpus_wu = [id2word_wu.doc2bow(text) for text in texts_wu]"
   ]
  },
  {
   "attachments": {},
   "cell_type": "markdown",
   "metadata": {},
   "source": [
    "Определим оптимальное количество постов"
   ]
  },
  {
   "cell_type": "code",
   "execution_count": 62,
   "metadata": {},
   "outputs": [],
   "source": [
    "def compute_coherence_values(dictionary, corpus, texts, limit, start, step):\n",
    "    coherence_values = []\n",
    "    model_list = []\n",
    "    for num_topics in range(start, limit, step):\n",
    "        model = gensim.models.ldamodel.LdaModel(\n",
    "            corpus=corpus,\n",
    "            id2word=id2word,\n",
    "            num_topics=num_topics, \n",
    "            random_state=765,\n",
    "            update_every=1,\n",
    "            chunksize=100,\n",
    "            passes=10,\n",
    "            alpha='auto',\n",
    "            per_word_topics=True\n",
    "            )\n",
    "        model_list.append(model)\n",
    "        coherencemodel = CoherenceModel(model=model, texts=texts, dictionary=dictionary, coherence='c_v')\n",
    "        coherence_values.append(coherencemodel.get_coherence())\n",
    "\n",
    "    return model_list, coherence_values"
   ]
  },
  {
   "cell_type": "code",
   "execution_count": 79,
   "metadata": {},
   "outputs": [],
   "source": [
    "limit=16\n",
    "start=9\n",
    "step=1"
   ]
  },
  {
   "cell_type": "code",
   "execution_count": 80,
   "metadata": {},
   "outputs": [],
   "source": [
    "model_list, coherence_values = compute_coherence_values(\n",
    "    dictionary=id2word_wu, \n",
    "    corpus=corpus_wu, \n",
    "    texts=data_words_wu, \n",
    "    start=start, \n",
    "    limit=limit, \n",
    "    step=step\n",
    "    )"
   ]
  },
  {
   "cell_type": "code",
   "execution_count": 81,
   "metadata": {},
   "outputs": [
    {
     "data": {
      "image/png": "[encoded data removed]",
      "text/plain": [
       "<Figure size 640x480 with 1 Axes>"
      ]
     },
     "metadata": {},
     "output_type": "display_data"
    }
   ],
   "source": [
    "x = range(start, limit, step)\n",
    "plt.plot(x, coherence_values)\n",
    "plt.xlabel(\"Num Topics\")\n",
    "plt.ylabel(\"Coherence score\")\n",
    "plt.legend((\"coherence_values\"), loc='best')\n",
    "plt.show()"
   ]
  },
  {
   "cell_type": "code",
   "execution_count": 82,
   "metadata": {},
   "outputs": [],
   "source": [
    "def model_scorer(data, topics_cnt):\n",
    "    id2word = corpora.Dictionary(data)\n",
    "\n",
    "    texts = data\n",
    "\n",
    "    corpus = [id2word.doc2bow(text) for text in texts]\n",
    "\n",
    "    lda_model = gensim.models.ldamodel.LdaModel(\n",
    "        corpus=corpus,\n",
    "        id2word=id2word,\n",
    "        num_topics=topics_cnt, \n",
    "        random_state=765,\n",
    "        update_every=1,\n",
    "        chunksize=100,\n",
    "        passes=10,\n",
    "        alpha='auto',\n",
    "        per_word_topics=True\n",
    "        )\n",
    "\n",
    "    print('Perplexity: ', lda_model.log_perplexity(corpus))\n",
    "\n",
    "    coherence_model_lda = CoherenceModel(model=lda_model, texts=texts, dictionary=id2word, coherence='c_v')\n",
    "    coherence_lda = coherence_model_lda.get_coherence()\n",
    "    print('Coherence Score: ', coherence_lda)\n",
    "\n",
    "    return lda_model, corpus, id2word"
   ]
  },
  {
   "cell_type": "code",
   "execution_count": 83,
   "metadata": {},
   "outputs": [
    {
     "name": "stdout",
     "output_type": "stream",
     "text": [
      "Perplexity:  -12.605366232657266\n",
      "Coherence Score:  0.48892843571015315\n"
     ]
    }
   ],
   "source": [
    "best_model_wu, best_corpus_wu, best_id2word_wu = model_scorer(data_words_wu, 14)"
   ]
  },
  {
   "cell_type": "code",
   "execution_count": 84,
   "metadata": {},
   "outputs": [
    {
     "data": {
      "text/plain": [
       "[(0,\n",
       "  '0.139*\"пост\" + 0.065*\"итог\" + 0.037*\"напиши\" + 0.032*\"дата\" + 0.030*\"другими\" + 0.021*\"александр\" + 0.019*\"почитать\" + 0.017*\"плохой\" + 0.015*\"личка\" + 0.012*\"метод\"'),\n",
       " (1,\n",
       "  '0.067*\"мной\" + 0.046*\"кейс\" + 0.044*\"встреча\" + 0.034*\"различный\" + 0.029*\"учиться\" + 0.017*\"заявка\" + 0.015*\"насколько\" + 0.012*\"пробовать\" + 0.011*\"лето\" + 0.010*\"вилка\"'),\n",
       " (2,\n",
       "  '0.017*\"машинный\" + 0.011*\"заняться\" + 0.007*\"пачка\" + 0.004*\"клик\" + 0.004*\"доверительный\" + 0.002*\"скучный\" + 0.001*\"интервал\" + 0.000*\"курить\" + 0.000*\"шкала\" + 0.000*\"тренд\"'),\n",
       " (3,\n",
       "  '0.043*\"вакансия\" + 0.031*\"позиция\" + 0.031*\"резюме\" + 0.027*\"кандидат\" + 0.026*\"дизайнер\" + 0.026*\"предложение\" + 0.024*\"сессия\" + 0.024*\"поиск\" + 0.023*\"период\" + 0.022*\"английский\"'),\n",
       " (4,\n",
       "  '0.052*\"работа\" + 0.035*\"компания\" + 0.024*\"проект\" + 0.021*\"данных\" + 0.021*\"опыт\" + 0.019*\"команда\" + 0.013*\"разработка\" + 0.012*\"модель\" + 0.011*\"новый\" + 0.010*\"система\"'),\n",
       " (5,\n",
       "  '0.037*\"отзыв\" + 0.031*\"исследование\" + 0.023*\"стратегия\" + 0.022*\"реализовать\" + 0.021*\"подробность\" + 0.016*\"финансовый\" + 0.015*\"короткий\" + 0.014*\"дальнейший\" + 0.013*\"сотрудничество\" + 0.013*\"подборка\"'),\n",
       " (6,\n",
       "  '0.056*\"начинать\" + 0.040*\"удовольствие\" + 0.040*\"данные\" + 0.040*\"должность\" + 0.038*\"сообщать\" + 0.032*\"находиться\" + 0.027*\"рассказывать\" + 0.027*\"зрение\" + 0.023*\"статья\" + 0.020*\"добавить\"'),\n",
       " (7,\n",
       "  '0.052*\"конец\" + 0.036*\"начинаться\" + 0.023*\"довольно\" + 0.022*\"кстати\" + 0.020*\"рекомендовать\" + 0.019*\"психология\" + 0.018*\"разобраться\" + 0.017*\"очередной\" + 0.016*\"большинство\" + 0.014*\"маркетинг\"'),\n",
       " (8,\n",
       "  '0.055*\"проверка\" + 0.048*\"тест\" + 0.047*\"навык\" + 0.032*\"функция\" + 0.024*\"очередь\" + 0.022*\"значок\" + 0.022*\"пройти\" + 0.021*\"коммерческий\" + 0.017*\"следующий\" + 0.016*\"потребитель\"'),\n",
       " (9,\n",
       "  '0.081*\"собес\" + 0.064*\"кроме\" + 0.047*\"сообщество\" + 0.022*\"отказ\" + 0.012*\"интересовать\" + 0.011*\"услышать\" + 0.008*\"оперативный\" + 0.007*\"инвестор\" + 0.007*\"стремиться\" + 0.007*\"доклад\"'),\n",
       " (10,\n",
       "  '0.053*\"часто\" + 0.031*\"ибо\" + 0.028*\"надеяться\" + 0.017*\"стажировка\" + 0.014*\"участвовать\" + 0.013*\"голос\" + 0.010*\"рейтинг\" + 0.008*\"праздник\" + 0.007*\"комфорт\" + 0.005*\"мечтать\"'),\n",
       " (11,\n",
       "  '0.062*\"цена\" + 0.044*\"продажа\" + 0.036*\"профиль\" + 0.031*\"основатель\" + 0.025*\"самую\" + 0.014*\"направить\" + 0.011*\"чистый\" + 0.010*\"обеспечивать\" + 0.010*\"аренда\" + 0.008*\"краткосрочный\"'),\n",
       " (12,\n",
       "  '0.024*\"весь\" + 0.023*\"человек\" + 0.018*\"которые\" + 0.017*\"время\" + 0.015*\"работать\" + 0.014*\"хотеть\" + 0.013*\"вопрос\" + 0.013*\"год\" + 0.012*\"нужный\" + 0.010*\"новый\"'),\n",
       " (13,\n",
       "  '0.037*\"первый\" + 0.030*\"жизнь\" + 0.026*\"говорить\" + 0.026*\"неделя\" + 0.020*\"знать\" + 0.020*\"цель\" + 0.014*\"книга\" + 0.014*\"суть\" + 0.014*\"пара\" + 0.013*\"час\"')]"
      ]
     },
     "execution_count": 84,
     "metadata": {},
     "output_type": "execute_result"
    }
   ],
   "source": [
    "best_model_wu.print_topics()"
   ]
  },
  {
   "cell_type": "code",
   "execution_count": 139,
   "metadata": {},
   "outputs": [
    {
     "data": {
      "text/plain": [
       "(1710, 1)"
      ]
     },
     "metadata": {},
     "output_type": "display_data"
    },
    {
     "data": {
      "text/html": [
       "<div>\n",
       "<style scoped>\n",
       "    .dataframe tbody tr th:only-of-type {\n",
       "        vertical-align: middle;\n",
       "    }\n",
       "\n",
       "    .dataframe tbody tr th {\n",
       "        vertical-align: top;\n",
       "    }\n",
       "\n",
       "    .dataframe thead th {\n",
       "        text-align: right;\n",
       "    }\n",
       "</style>\n",
       "<table border=\"1\" class=\"dataframe\">\n",
       "  <thead>\n",
       "    <tr style=\"text-align: right;\">\n",
       "      <th></th>\n",
       "      <th>text</th>\n",
       "    </tr>\n",
       "  </thead>\n",
       "  <tbody>\n",
       "    <tr>\n",
       "      <th>0</th>\n",
       "      <td>Всем привет!Выпустил свою первую статью на хаб...</td>\n",
       "    </tr>\n",
       "    <tr>\n",
       "      <th>1</th>\n",
       "      <td>Если вам интересно позалипать в слова, я запус...</td>\n",
       "    </tr>\n",
       "    <tr>\n",
       "      <th>2</th>\n",
       "      <td>С трепетом готов представить свой продукт. Реф...</td>\n",
       "    </tr>\n",
       "  </tbody>\n",
       "</table>\n",
       "</div>"
      ],
      "text/plain": [
       "                                                text\n",
       "0  Всем привет!Выпустил свою первую статью на хаб...\n",
       "1  Если вам интересно позалипать в слова, я запус...\n",
       "2  С трепетом готов представить свой продукт. Реф..."
      ]
     },
     "metadata": {},
     "output_type": "display_data"
    }
   ],
   "source": [
    "result_df = pd.DataFrame([list(data_dd_wu[\"text\"])]).transpose()\n",
    "result_df.columns = ['text']\n",
    "\n",
    "def shapenhead(data):\n",
    "    display(data.shape)\n",
    "    display(data.head(3))\n",
    "\n",
    "shapenhead(result_df)"
   ]
  },
  {
   "cell_type": "code",
   "execution_count": 140,
   "metadata": {},
   "outputs": [
    {
     "data": {
      "text/plain": [
       "(1710, 12)"
      ]
     },
     "metadata": {},
     "output_type": "display_data"
    },
    {
     "data": {
      "text/html": [
       "<div>\n",
       "<style scoped>\n",
       "    .dataframe tbody tr th:only-of-type {\n",
       "        vertical-align: middle;\n",
       "    }\n",
       "\n",
       "    .dataframe tbody tr th {\n",
       "        vertical-align: top;\n",
       "    }\n",
       "\n",
       "    .dataframe thead th {\n",
       "        text-align: right;\n",
       "    }\n",
       "</style>\n",
       "<table border=\"1\" class=\"dataframe\">\n",
       "  <thead>\n",
       "    <tr style=\"text-align: right;\">\n",
       "      <th></th>\n",
       "      <th>0</th>\n",
       "      <th>1</th>\n",
       "      <th>2</th>\n",
       "      <th>3</th>\n",
       "      <th>4</th>\n",
       "      <th>5</th>\n",
       "      <th>6</th>\n",
       "      <th>7</th>\n",
       "      <th>8</th>\n",
       "      <th>9</th>\n",
       "      <th>10</th>\n",
       "      <th>11</th>\n",
       "    </tr>\n",
       "  </thead>\n",
       "  <tbody>\n",
       "    <tr>\n",
       "      <th>0</th>\n",
       "      <td>2</td>\n",
       "      <td>3</td>\n",
       "      <td>4</td>\n",
       "      <td>6</td>\n",
       "      <td>8.0</td>\n",
       "      <td>10.0</td>\n",
       "      <td>12.0</td>\n",
       "      <td>13.0</td>\n",
       "      <td>NaN</td>\n",
       "      <td>NaN</td>\n",
       "      <td>NaN</td>\n",
       "      <td>NaN</td>\n",
       "    </tr>\n",
       "    <tr>\n",
       "      <th>1</th>\n",
       "      <td>0</td>\n",
       "      <td>3</td>\n",
       "      <td>4</td>\n",
       "      <td>5</td>\n",
       "      <td>6.0</td>\n",
       "      <td>8.0</td>\n",
       "      <td>12.0</td>\n",
       "      <td>13.0</td>\n",
       "      <td>NaN</td>\n",
       "      <td>NaN</td>\n",
       "      <td>NaN</td>\n",
       "      <td>NaN</td>\n",
       "    </tr>\n",
       "    <tr>\n",
       "      <th>2</th>\n",
       "      <td>3</td>\n",
       "      <td>4</td>\n",
       "      <td>6</td>\n",
       "      <td>9</td>\n",
       "      <td>12.0</td>\n",
       "      <td>13.0</td>\n",
       "      <td>NaN</td>\n",
       "      <td>NaN</td>\n",
       "      <td>NaN</td>\n",
       "      <td>NaN</td>\n",
       "      <td>NaN</td>\n",
       "      <td>NaN</td>\n",
       "    </tr>\n",
       "  </tbody>\n",
       "</table>\n",
       "</div>"
      ],
      "text/plain": [
       "   0   1   2   3     4     5     6     7   8   9   10  11\n",
       "0   2   3   4   6   8.0  10.0  12.0  13.0 NaN NaN NaN NaN\n",
       "1   0   3   4   5   6.0   8.0  12.0  13.0 NaN NaN NaN NaN\n",
       "2   3   4   6   9  12.0  13.0   NaN   NaN NaN NaN NaN NaN"
      ]
     },
     "metadata": {},
     "output_type": "display_data"
    }
   ],
   "source": [
    "# Вывод номеров тем с пороговой вероятностью\n",
    "topics = []\n",
    "for topic in best_model_wu.get_document_topics(best_corpus_wu):\n",
    "    t = []\n",
    "    for n in topic:\n",
    "        t.append(n[0])\n",
    "    topics.append(t)\n",
    "\n",
    "topics = pd.DataFrame(topics)\n",
    "shapenhead(topics)"
   ]
  },
  {
   "cell_type": "code",
   "execution_count": 141,
   "metadata": {},
   "outputs": [
    {
     "data": {
      "text/plain": [
       "(1710, 13)"
      ]
     },
     "metadata": {},
     "output_type": "display_data"
    },
    {
     "data": {
      "text/html": [
       "<div>\n",
       "<style scoped>\n",
       "    .dataframe tbody tr th:only-of-type {\n",
       "        vertical-align: middle;\n",
       "    }\n",
       "\n",
       "    .dataframe tbody tr th {\n",
       "        vertical-align: top;\n",
       "    }\n",
       "\n",
       "    .dataframe thead th {\n",
       "        text-align: right;\n",
       "    }\n",
       "</style>\n",
       "<table border=\"1\" class=\"dataframe\">\n",
       "  <thead>\n",
       "    <tr style=\"text-align: right;\">\n",
       "      <th></th>\n",
       "      <th>text</th>\n",
       "      <th>0</th>\n",
       "      <th>1</th>\n",
       "      <th>2</th>\n",
       "      <th>3</th>\n",
       "      <th>4</th>\n",
       "      <th>5</th>\n",
       "      <th>6</th>\n",
       "      <th>7</th>\n",
       "      <th>8</th>\n",
       "      <th>9</th>\n",
       "      <th>10</th>\n",
       "      <th>11</th>\n",
       "    </tr>\n",
       "  </thead>\n",
       "  <tbody>\n",
       "    <tr>\n",
       "      <th>0</th>\n",
       "      <td>Всем привет!Выпустил свою первую статью на хаб...</td>\n",
       "      <td>2</td>\n",
       "      <td>3</td>\n",
       "      <td>4</td>\n",
       "      <td>6</td>\n",
       "      <td>8.0</td>\n",
       "      <td>10.0</td>\n",
       "      <td>12.0</td>\n",
       "      <td>13.0</td>\n",
       "      <td>NaN</td>\n",
       "      <td>NaN</td>\n",
       "      <td>NaN</td>\n",
       "      <td>NaN</td>\n",
       "    </tr>\n",
       "    <tr>\n",
       "      <th>1</th>\n",
       "      <td>Если вам интересно позалипать в слова, я запус...</td>\n",
       "      <td>0</td>\n",
       "      <td>3</td>\n",
       "      <td>4</td>\n",
       "      <td>5</td>\n",
       "      <td>6.0</td>\n",
       "      <td>8.0</td>\n",
       "      <td>12.0</td>\n",
       "      <td>13.0</td>\n",
       "      <td>NaN</td>\n",
       "      <td>NaN</td>\n",
       "      <td>NaN</td>\n",
       "      <td>NaN</td>\n",
       "    </tr>\n",
       "    <tr>\n",
       "      <th>2</th>\n",
       "      <td>С трепетом готов представить свой продукт. Реф...</td>\n",
       "      <td>3</td>\n",
       "      <td>4</td>\n",
       "      <td>6</td>\n",
       "      <td>9</td>\n",
       "      <td>12.0</td>\n",
       "      <td>13.0</td>\n",
       "      <td>NaN</td>\n",
       "      <td>NaN</td>\n",
       "      <td>NaN</td>\n",
       "      <td>NaN</td>\n",
       "      <td>NaN</td>\n",
       "      <td>NaN</td>\n",
       "    </tr>\n",
       "  </tbody>\n",
       "</table>\n",
       "</div>"
      ],
      "text/plain": [
       "                                                text  0  1  2  3     4     5  \\\n",
       "0  Всем привет!Выпустил свою первую статью на хаб...  2  3  4  6   8.0  10.0   \n",
       "1  Если вам интересно позалипать в слова, я запус...  0  3  4  5   6.0   8.0   \n",
       "2  С трепетом готов представить свой продукт. Реф...  3  4  6  9  12.0  13.0   \n",
       "\n",
       "      6     7   8   9  10  11  \n",
       "0  12.0  13.0 NaN NaN NaN NaN  \n",
       "1  12.0  13.0 NaN NaN NaN NaN  \n",
       "2   NaN   NaN NaN NaN NaN NaN  "
      ]
     },
     "metadata": {},
     "output_type": "display_data"
    }
   ],
   "source": [
    "result_df_topics = pd.concat([result_df, topics], axis=1)\n",
    "shapenhead(result_df_topics)"
   ]
  },
  {
   "cell_type": "code",
   "execution_count": 142,
   "metadata": {},
   "outputs": [
    {
     "data": {
      "text/plain": [
       "(1710, 13)"
      ]
     },
     "metadata": {},
     "output_type": "display_data"
    },
    {
     "data": {
      "text/html": [
       "<div>\n",
       "<style scoped>\n",
       "    .dataframe tbody tr th:only-of-type {\n",
       "        vertical-align: middle;\n",
       "    }\n",
       "\n",
       "    .dataframe tbody tr th {\n",
       "        vertical-align: top;\n",
       "    }\n",
       "\n",
       "    .dataframe thead th {\n",
       "        text-align: right;\n",
       "    }\n",
       "</style>\n",
       "<table border=\"1\" class=\"dataframe\">\n",
       "  <thead>\n",
       "    <tr style=\"text-align: right;\">\n",
       "      <th></th>\n",
       "      <th>text</th>\n",
       "      <th>0</th>\n",
       "      <th>1</th>\n",
       "      <th>2</th>\n",
       "      <th>3</th>\n",
       "      <th>4</th>\n",
       "      <th>5</th>\n",
       "      <th>6</th>\n",
       "      <th>7</th>\n",
       "      <th>8</th>\n",
       "      <th>9</th>\n",
       "      <th>10</th>\n",
       "      <th>11</th>\n",
       "    </tr>\n",
       "  </thead>\n",
       "  <tbody>\n",
       "    <tr>\n",
       "      <th>0</th>\n",
       "      <td>Всем привет!Выпустил свою первую статью на хаб...</td>\n",
       "      <td>Машинное обучение и статистика</td>\n",
       "      <td>Вакансии и резюме</td>\n",
       "      <td>Работа и проекты</td>\n",
       "      <td>Карьера и развитие</td>\n",
       "      <td>Тестирование и навыки</td>\n",
       "      <td>Стажировка и мечты</td>\n",
       "      <td>Общие темы</td>\n",
       "      <td>Жизнь и цели</td>\n",
       "      <td>NaN</td>\n",
       "      <td>NaN</td>\n",
       "      <td>NaN</td>\n",
       "      <td>NaN</td>\n",
       "    </tr>\n",
       "    <tr>\n",
       "      <th>1</th>\n",
       "      <td>Если вам интересно позалипать в слова, я запус...</td>\n",
       "      <td>Статьи и методы</td>\n",
       "      <td>Вакансии и резюме</td>\n",
       "      <td>Работа и проекты</td>\n",
       "      <td>Исследования и стратегии</td>\n",
       "      <td>Карьера и развитие</td>\n",
       "      <td>Тестирование и навыки</td>\n",
       "      <td>Общие темы</td>\n",
       "      <td>Жизнь и цели</td>\n",
       "      <td>NaN</td>\n",
       "      <td>NaN</td>\n",
       "      <td>NaN</td>\n",
       "      <td>NaN</td>\n",
       "    </tr>\n",
       "    <tr>\n",
       "      <th>2</th>\n",
       "      <td>С трепетом готов представить свой продукт. Реф...</td>\n",
       "      <td>Вакансии и резюме</td>\n",
       "      <td>Работа и проекты</td>\n",
       "      <td>Карьера и развитие</td>\n",
       "      <td>Собеседование и сообщество</td>\n",
       "      <td>Общие темы</td>\n",
       "      <td>Жизнь и цели</td>\n",
       "      <td>NaN</td>\n",
       "      <td>NaN</td>\n",
       "      <td>NaN</td>\n",
       "      <td>NaN</td>\n",
       "      <td>NaN</td>\n",
       "      <td>NaN</td>\n",
       "    </tr>\n",
       "  </tbody>\n",
       "</table>\n",
       "</div>"
      ],
      "text/plain": [
       "                                                text  \\\n",
       "0  Всем привет!Выпустил свою первую статью на хаб...   \n",
       "1  Если вам интересно позалипать в слова, я запус...   \n",
       "2  С трепетом готов представить свой продукт. Реф...   \n",
       "\n",
       "                                0                  1                   2  \\\n",
       "0  Машинное обучение и статистика  Вакансии и резюме    Работа и проекты   \n",
       "1                 Статьи и методы  Вакансии и резюме    Работа и проекты   \n",
       "2               Вакансии и резюме   Работа и проекты  Карьера и развитие   \n",
       "\n",
       "                            3                      4                      5  \\\n",
       "0          Карьера и развитие  Тестирование и навыки     Стажировка и мечты   \n",
       "1    Исследования и стратегии     Карьера и развитие  Тестирование и навыки   \n",
       "2  Собеседование и сообщество             Общие темы           Жизнь и цели   \n",
       "\n",
       "            6             7    8    9   10   11  \n",
       "0  Общие темы  Жизнь и цели  NaN  NaN  NaN  NaN  \n",
       "1  Общие темы  Жизнь и цели  NaN  NaN  NaN  NaN  \n",
       "2         NaN           NaN  NaN  NaN  NaN  NaN  "
      ]
     },
     "metadata": {},
     "output_type": "display_data"
    }
   ],
   "source": [
    "topics_dict = {\n",
    "    0: \"Статьи и методы\",\n",
    "    1: \"Обучение и опыт\",\n",
    "    2: \"Машинное обучение и статистика\",\n",
    "    3: \"Вакансии и резюме\",\n",
    "    4: \"Работа и проекты\",\n",
    "    5: \"Исследования и стратегии\",\n",
    "    6: \"Карьера и развитие\",\n",
    "    7: \"Психология и рекомендации\",\n",
    "    8: \"Тестирование и навыки\",\n",
    "    9: \"Собеседование и сообщество\",\n",
    "    10: \"Стажировка и мечты\",\n",
    "    11: \"Продажи и бизнес\",\n",
    "    12: \"Общие темы\",\n",
    "    13: \"Жизнь и цели\"\n",
    "}\n",
    "\n",
    "columns = [0,1,2,3,4,5,6,7,8,9,10,11]\n",
    "for i in columns:\n",
    "    result_df_topics[i] = result_df_topics[i].map(topics_dict)\n",
    "\n",
    "shapenhead(result_df_topics)"
   ]
  },
  {
   "cell_type": "code",
   "execution_count": 183,
   "metadata": {},
   "outputs": [
    {
     "data": {
      "text/plain": [
       "(1710, 3)"
      ]
     },
     "metadata": {},
     "output_type": "display_data"
    },
    {
     "data": {
      "text/html": [
       "<div>\n",
       "<style scoped>\n",
       "    .dataframe tbody tr th:only-of-type {\n",
       "        vertical-align: middle;\n",
       "    }\n",
       "\n",
       "    .dataframe tbody tr th {\n",
       "        vertical-align: top;\n",
       "    }\n",
       "\n",
       "    .dataframe thead th {\n",
       "        text-align: right;\n",
       "    }\n",
       "</style>\n",
       "<table border=\"1\" class=\"dataframe\">\n",
       "  <thead>\n",
       "    <tr style=\"text-align: right;\">\n",
       "      <th></th>\n",
       "      <th>likes</th>\n",
       "      <th>reposts</th>\n",
       "      <th>comments</th>\n",
       "    </tr>\n",
       "  </thead>\n",
       "  <tbody>\n",
       "    <tr>\n",
       "      <th>0</th>\n",
       "      <td>17.0</td>\n",
       "      <td>0.0</td>\n",
       "      <td>0.0</td>\n",
       "    </tr>\n",
       "    <tr>\n",
       "      <th>1</th>\n",
       "      <td>6.0</td>\n",
       "      <td>0.0</td>\n",
       "      <td>2.0</td>\n",
       "    </tr>\n",
       "    <tr>\n",
       "      <th>2</th>\n",
       "      <td>8.0</td>\n",
       "      <td>0.0</td>\n",
       "      <td>0.0</td>\n",
       "    </tr>\n",
       "  </tbody>\n",
       "</table>\n",
       "</div>"
      ],
      "text/plain": [
       "  likes  reposts  comments\n",
       "0  17.0      0.0       0.0\n",
       "1   6.0      0.0       2.0\n",
       "2   8.0      0.0       0.0"
      ]
     },
     "metadata": {},
     "output_type": "display_data"
    }
   ],
   "source": [
    "reactions = data_dd_wu[['likes', 'reposts', 'comments']]\n",
    "shapenhead(reactions)"
   ]
  },
  {
   "cell_type": "code",
   "execution_count": 149,
   "metadata": {},
   "outputs": [
    {
     "data": {
      "text/plain": [
       "likes       0\n",
       "reposts     0\n",
       "comments    0\n",
       "dtype: int64"
      ]
     },
     "execution_count": 149,
     "metadata": {},
     "output_type": "execute_result"
    }
   ],
   "source": [
    "reactions = reactions.fillna(0)\n",
    "reactions.isna().sum()"
   ]
  },
  {
   "cell_type": "code",
   "execution_count": 161,
   "metadata": {},
   "outputs": [
    {
     "name": "stdout",
     "output_type": "stream",
     "text": [
      "<class 'pandas.core.frame.DataFrame'>\n",
      "Index: 1710 entries, 0 to 1861\n",
      "Data columns (total 3 columns):\n",
      " #   Column    Non-Null Count  Dtype  \n",
      "---  ------    --------------  -----  \n",
      " 0   likes     1710 non-null   int32  \n",
      " 1   reposts   1710 non-null   float64\n",
      " 2   comments  1710 non-null   float64\n",
      "dtypes: float64(2), int32(1)\n",
      "memory usage: 46.8 KB\n"
     ]
    }
   ],
   "source": [
    "reactions['likes'] = reactions['likes'].astype(str).apply(lambda x: x.split(',')[0]).apply(lambda x: x.split('.')[0])\\\n",
    "    .apply(lambda x: x.replace(\" \", \"\")).astype(int)\n",
    "reactions.info()"
   ]
  },
  {
   "cell_type": "code",
   "execution_count": 162,
   "metadata": {},
   "outputs": [
    {
     "data": {
      "text/plain": [
       "(1710, 4)"
      ]
     },
     "metadata": {},
     "output_type": "display_data"
    },
    {
     "data": {
      "text/html": [
       "<div>\n",
       "<style scoped>\n",
       "    .dataframe tbody tr th:only-of-type {\n",
       "        vertical-align: middle;\n",
       "    }\n",
       "\n",
       "    .dataframe tbody tr th {\n",
       "        vertical-align: top;\n",
       "    }\n",
       "\n",
       "    .dataframe thead th {\n",
       "        text-align: right;\n",
       "    }\n",
       "</style>\n",
       "<table border=\"1\" class=\"dataframe\">\n",
       "  <thead>\n",
       "    <tr style=\"text-align: right;\">\n",
       "      <th></th>\n",
       "      <th>likes</th>\n",
       "      <th>reposts</th>\n",
       "      <th>comments</th>\n",
       "      <th>sum</th>\n",
       "    </tr>\n",
       "  </thead>\n",
       "  <tbody>\n",
       "    <tr>\n",
       "      <th>0</th>\n",
       "      <td>17</td>\n",
       "      <td>0.0</td>\n",
       "      <td>0.0</td>\n",
       "      <td>17.0</td>\n",
       "    </tr>\n",
       "    <tr>\n",
       "      <th>1</th>\n",
       "      <td>6</td>\n",
       "      <td>0.0</td>\n",
       "      <td>2.0</td>\n",
       "      <td>8.0</td>\n",
       "    </tr>\n",
       "    <tr>\n",
       "      <th>2</th>\n",
       "      <td>8</td>\n",
       "      <td>0.0</td>\n",
       "      <td>0.0</td>\n",
       "      <td>8.0</td>\n",
       "    </tr>\n",
       "  </tbody>\n",
       "</table>\n",
       "</div>"
      ],
      "text/plain": [
       "   likes  reposts  comments   sum\n",
       "0     17      0.0       0.0  17.0\n",
       "1      6      0.0       2.0   8.0\n",
       "2      8      0.0       0.0   8.0"
      ]
     },
     "metadata": {},
     "output_type": "display_data"
    }
   ],
   "source": [
    "reactions['sum'] = reactions[['likes', 'reposts', 'comments']].sum(axis=1)\n",
    "shapenhead(reactions)"
   ]
  },
  {
   "cell_type": "code",
   "execution_count": 163,
   "metadata": {},
   "outputs": [
    {
     "data": {
      "text/plain": [
       "(1854, 14)"
      ]
     },
     "metadata": {},
     "output_type": "display_data"
    },
    {
     "data": {
      "text/html": [
       "<div>\n",
       "<style scoped>\n",
       "    .dataframe tbody tr th:only-of-type {\n",
       "        vertical-align: middle;\n",
       "    }\n",
       "\n",
       "    .dataframe tbody tr th {\n",
       "        vertical-align: top;\n",
       "    }\n",
       "\n",
       "    .dataframe thead th {\n",
       "        text-align: right;\n",
       "    }\n",
       "</style>\n",
       "<table border=\"1\" class=\"dataframe\">\n",
       "  <thead>\n",
       "    <tr style=\"text-align: right;\">\n",
       "      <th></th>\n",
       "      <th>text</th>\n",
       "      <th>0</th>\n",
       "      <th>1</th>\n",
       "      <th>2</th>\n",
       "      <th>3</th>\n",
       "      <th>4</th>\n",
       "      <th>5</th>\n",
       "      <th>6</th>\n",
       "      <th>7</th>\n",
       "      <th>8</th>\n",
       "      <th>9</th>\n",
       "      <th>10</th>\n",
       "      <th>11</th>\n",
       "      <th>sum</th>\n",
       "    </tr>\n",
       "  </thead>\n",
       "  <tbody>\n",
       "    <tr>\n",
       "      <th>0</th>\n",
       "      <td>Всем привет!Выпустил свою первую статью на хаб...</td>\n",
       "      <td>Машинное обучение и статистика</td>\n",
       "      <td>Вакансии и резюме</td>\n",
       "      <td>Работа и проекты</td>\n",
       "      <td>Карьера и развитие</td>\n",
       "      <td>Тестирование и навыки</td>\n",
       "      <td>Стажировка и мечты</td>\n",
       "      <td>Общие темы</td>\n",
       "      <td>Жизнь и цели</td>\n",
       "      <td>NaN</td>\n",
       "      <td>NaN</td>\n",
       "      <td>NaN</td>\n",
       "      <td>NaN</td>\n",
       "      <td>17.0</td>\n",
       "    </tr>\n",
       "    <tr>\n",
       "      <th>1</th>\n",
       "      <td>Если вам интересно позалипать в слова, я запус...</td>\n",
       "      <td>Статьи и методы</td>\n",
       "      <td>Вакансии и резюме</td>\n",
       "      <td>Работа и проекты</td>\n",
       "      <td>Исследования и стратегии</td>\n",
       "      <td>Карьера и развитие</td>\n",
       "      <td>Тестирование и навыки</td>\n",
       "      <td>Общие темы</td>\n",
       "      <td>Жизнь и цели</td>\n",
       "      <td>NaN</td>\n",
       "      <td>NaN</td>\n",
       "      <td>NaN</td>\n",
       "      <td>NaN</td>\n",
       "      <td>8.0</td>\n",
       "    </tr>\n",
       "    <tr>\n",
       "      <th>2</th>\n",
       "      <td>С трепетом готов представить свой продукт. Реф...</td>\n",
       "      <td>Вакансии и резюме</td>\n",
       "      <td>Работа и проекты</td>\n",
       "      <td>Карьера и развитие</td>\n",
       "      <td>Собеседование и сообщество</td>\n",
       "      <td>Общие темы</td>\n",
       "      <td>Жизнь и цели</td>\n",
       "      <td>NaN</td>\n",
       "      <td>NaN</td>\n",
       "      <td>NaN</td>\n",
       "      <td>NaN</td>\n",
       "      <td>NaN</td>\n",
       "      <td>NaN</td>\n",
       "      <td>8.0</td>\n",
       "    </tr>\n",
       "  </tbody>\n",
       "</table>\n",
       "</div>"
      ],
      "text/plain": [
       "                                                text  \\\n",
       "0  Всем привет!Выпустил свою первую статью на хаб...   \n",
       "1  Если вам интересно позалипать в слова, я запус...   \n",
       "2  С трепетом готов представить свой продукт. Реф...   \n",
       "\n",
       "                                0                  1                   2  \\\n",
       "0  Машинное обучение и статистика  Вакансии и резюме    Работа и проекты   \n",
       "1                 Статьи и методы  Вакансии и резюме    Работа и проекты   \n",
       "2               Вакансии и резюме   Работа и проекты  Карьера и развитие   \n",
       "\n",
       "                            3                      4                      5  \\\n",
       "0          Карьера и развитие  Тестирование и навыки     Стажировка и мечты   \n",
       "1    Исследования и стратегии     Карьера и развитие  Тестирование и навыки   \n",
       "2  Собеседование и сообщество             Общие темы           Жизнь и цели   \n",
       "\n",
       "            6             7    8    9   10   11   sum  \n",
       "0  Общие темы  Жизнь и цели  NaN  NaN  NaN  NaN  17.0  \n",
       "1  Общие темы  Жизнь и цели  NaN  NaN  NaN  NaN   8.0  \n",
       "2         NaN           NaN  NaN  NaN  NaN  NaN   8.0  "
      ]
     },
     "metadata": {},
     "output_type": "display_data"
    }
   ],
   "source": [
    "result_df_topics = pd.concat([result_df_topics, reactions['sum']], axis=1)\n",
    "shapenhead(result_df_topics)"
   ]
  },
  {
   "attachments": {},
   "cell_type": "markdown",
   "metadata": {},
   "source": [
    "Количество тектов по темам"
   ]
  },
  {
   "cell_type": "code",
   "execution_count": 185,
   "metadata": {},
   "outputs": [
    {
     "data": {
      "text/html": [
       "<div>\n",
       "<style scoped>\n",
       "    .dataframe tbody tr th:only-of-type {\n",
       "        vertical-align: middle;\n",
       "    }\n",
       "\n",
       "    .dataframe tbody tr th {\n",
       "        vertical-align: top;\n",
       "    }\n",
       "\n",
       "    .dataframe thead th {\n",
       "        text-align: right;\n",
       "    }\n",
       "</style>\n",
       "<table border=\"1\" class=\"dataframe\">\n",
       "  <thead>\n",
       "    <tr style=\"text-align: right;\">\n",
       "      <th></th>\n",
       "      <th>1</th>\n",
       "      <th>text</th>\n",
       "    </tr>\n",
       "  </thead>\n",
       "  <tbody>\n",
       "    <tr>\n",
       "      <th>0</th>\n",
       "      <td>Вакансии и резюме</td>\n",
       "      <td>839</td>\n",
       "    </tr>\n",
       "    <tr>\n",
       "      <th>1</th>\n",
       "      <td>Исследования и стратегии</td>\n",
       "      <td>1</td>\n",
       "    </tr>\n",
       "    <tr>\n",
       "      <th>2</th>\n",
       "      <td>Карьера и развитие</td>\n",
       "      <td>1</td>\n",
       "    </tr>\n",
       "    <tr>\n",
       "      <th>3</th>\n",
       "      <td>Машинное обучение и статистика</td>\n",
       "      <td>19</td>\n",
       "    </tr>\n",
       "    <tr>\n",
       "      <th>4</th>\n",
       "      <td>Обучение и опыт</td>\n",
       "      <td>230</td>\n",
       "    </tr>\n",
       "    <tr>\n",
       "      <th>5</th>\n",
       "      <td>Работа и проекты</td>\n",
       "      <td>620</td>\n",
       "    </tr>\n",
       "  </tbody>\n",
       "</table>\n",
       "</div>"
      ],
      "text/plain": [
       "                                1  text\n",
       "0               Вакансии и резюме   839\n",
       "1        Исследования и стратегии     1\n",
       "2              Карьера и развитие     1\n",
       "3  Машинное обучение и статистика    19\n",
       "4                 Обучение и опыт   230\n",
       "5                Работа и проекты   620"
      ]
     },
     "execution_count": 185,
     "metadata": {},
     "output_type": "execute_result"
    }
   ],
   "source": [
    "result_df_topics.loc[result_df_topics[1].notna()].groupby(1).count().reset_index()[[1, 'text']]"
   ]
  },
  {
   "cell_type": "code",
   "execution_count": 190,
   "metadata": {},
   "outputs": [
    {
     "data": {
      "text/html": [
       "<div>\n",
       "<style scoped>\n",
       "    .dataframe tbody tr th:only-of-type {\n",
       "        vertical-align: middle;\n",
       "    }\n",
       "\n",
       "    .dataframe tbody tr th {\n",
       "        vertical-align: top;\n",
       "    }\n",
       "\n",
       "    .dataframe thead th {\n",
       "        text-align: right;\n",
       "    }\n",
       "</style>\n",
       "<table border=\"1\" class=\"dataframe\">\n",
       "  <thead>\n",
       "    <tr style=\"text-align: right;\">\n",
       "      <th></th>\n",
       "      <th>0</th>\n",
       "      <th>text</th>\n",
       "    </tr>\n",
       "  </thead>\n",
       "  <tbody>\n",
       "    <tr>\n",
       "      <th>0</th>\n",
       "      <td>Вакансии и резюме</td>\n",
       "      <td>620</td>\n",
       "    </tr>\n",
       "    <tr>\n",
       "      <th>1</th>\n",
       "      <td>Машинное обучение и статистика</td>\n",
       "      <td>18</td>\n",
       "    </tr>\n",
       "    <tr>\n",
       "      <th>2</th>\n",
       "      <td>Обучение и опыт</td>\n",
       "      <td>181</td>\n",
       "    </tr>\n",
       "    <tr>\n",
       "      <th>3</th>\n",
       "      <td>Работа и проекты</td>\n",
       "      <td>2</td>\n",
       "    </tr>\n",
       "    <tr>\n",
       "      <th>4</th>\n",
       "      <td>Статьи и методы</td>\n",
       "      <td>889</td>\n",
       "    </tr>\n",
       "    <tr>\n",
       "      <th>...</th>\n",
       "      <td>...</td>\n",
       "      <td>...</td>\n",
       "    </tr>\n",
       "    <tr>\n",
       "      <th>1</th>\n",
       "      <td>Общие темы</td>\n",
       "      <td>15</td>\n",
       "    </tr>\n",
       "    <tr>\n",
       "      <th>2</th>\n",
       "      <td>Продажи и бизнес</td>\n",
       "      <td>1</td>\n",
       "    </tr>\n",
       "    <tr>\n",
       "      <th>0</th>\n",
       "      <td>Жизнь и цели</td>\n",
       "      <td>15</td>\n",
       "    </tr>\n",
       "    <tr>\n",
       "      <th>1</th>\n",
       "      <td>Общие темы</td>\n",
       "      <td>1</td>\n",
       "    </tr>\n",
       "    <tr>\n",
       "      <th>0</th>\n",
       "      <td>Жизнь и цели</td>\n",
       "      <td>1</td>\n",
       "    </tr>\n",
       "  </tbody>\n",
       "</table>\n",
       "<p>76 rows × 2 columns</p>\n",
       "</div>"
      ],
      "text/plain": [
       "                                 0  text\n",
       "0                Вакансии и резюме   620\n",
       "1   Машинное обучение и статистика    18\n",
       "2                  Обучение и опыт   181\n",
       "3                 Работа и проекты     2\n",
       "4                  Статьи и методы   889\n",
       "..                             ...   ...\n",
       "1                       Общие темы    15\n",
       "2                 Продажи и бизнес     1\n",
       "0                     Жизнь и цели    15\n",
       "1                       Общие темы     1\n",
       "0                     Жизнь и цели     1\n",
       "\n",
       "[76 rows x 2 columns]"
      ]
     },
     "execution_count": 190,
     "metadata": {},
     "output_type": "execute_result"
    }
   ],
   "source": [
    "topics_count = result_df_topics.loc[result_df_topics[0].notna()].groupby(0).count().reset_index()[[0, 'text']]\n",
    "for i in range(1, 12):\n",
    "    n = result_df_topics.loc[result_df_topics[i].notna()].groupby(i).count().reset_index()[[i, 'text']].rename(columns={i: 0})\n",
    "    topics_count = pd.concat([topics_count, n], axis=0)\n",
    "\n",
    "topics_count"
   ]
  },
  {
   "cell_type": "code",
   "execution_count": 194,
   "metadata": {},
   "outputs": [
    {
     "data": {
      "text/html": [
       "<div>\n",
       "<style scoped>\n",
       "    .dataframe tbody tr th:only-of-type {\n",
       "        vertical-align: middle;\n",
       "    }\n",
       "\n",
       "    .dataframe tbody tr th {\n",
       "        vertical-align: top;\n",
       "    }\n",
       "\n",
       "    .dataframe thead th {\n",
       "        text-align: right;\n",
       "    }\n",
       "</style>\n",
       "<table border=\"1\" class=\"dataframe\">\n",
       "  <thead>\n",
       "    <tr style=\"text-align: right;\">\n",
       "      <th></th>\n",
       "      <th>topic_name</th>\n",
       "      <th>texts_count</th>\n",
       "    </tr>\n",
       "  </thead>\n",
       "  <tbody>\n",
       "    <tr>\n",
       "      <th>0</th>\n",
       "      <td>Вакансии и резюме</td>\n",
       "      <td>1707</td>\n",
       "    </tr>\n",
       "    <tr>\n",
       "      <th>1</th>\n",
       "      <td>Жизнь и цели</td>\n",
       "      <td>1710</td>\n",
       "    </tr>\n",
       "    <tr>\n",
       "      <th>2</th>\n",
       "      <td>Исследования и стратегии</td>\n",
       "      <td>765</td>\n",
       "    </tr>\n",
       "    <tr>\n",
       "      <th>3</th>\n",
       "      <td>Карьера и развитие</td>\n",
       "      <td>1687</td>\n",
       "    </tr>\n",
       "    <tr>\n",
       "      <th>4</th>\n",
       "      <td>Машинное обучение и статистика</td>\n",
       "      <td>42</td>\n",
       "    </tr>\n",
       "    <tr>\n",
       "      <th>5</th>\n",
       "      <td>Обучение и опыт</td>\n",
       "      <td>411</td>\n",
       "    </tr>\n",
       "    <tr>\n",
       "      <th>6</th>\n",
       "      <td>Общие темы</td>\n",
       "      <td>1710</td>\n",
       "    </tr>\n",
       "    <tr>\n",
       "      <th>7</th>\n",
       "      <td>Продажи и бизнес</td>\n",
       "      <td>242</td>\n",
       "    </tr>\n",
       "    <tr>\n",
       "      <th>8</th>\n",
       "      <td>Психология и рекомендации</td>\n",
       "      <td>391</td>\n",
       "    </tr>\n",
       "    <tr>\n",
       "      <th>9</th>\n",
       "      <td>Работа и проекты</td>\n",
       "      <td>1710</td>\n",
       "    </tr>\n",
       "    <tr>\n",
       "      <th>10</th>\n",
       "      <td>Собеседование и сообщество</td>\n",
       "      <td>177</td>\n",
       "    </tr>\n",
       "    <tr>\n",
       "      <th>11</th>\n",
       "      <td>Стажировка и мечты</td>\n",
       "      <td>170</td>\n",
       "    </tr>\n",
       "    <tr>\n",
       "      <th>12</th>\n",
       "      <td>Статьи и методы</td>\n",
       "      <td>889</td>\n",
       "    </tr>\n",
       "    <tr>\n",
       "      <th>13</th>\n",
       "      <td>Тестирование и навыки</td>\n",
       "      <td>1489</td>\n",
       "    </tr>\n",
       "  </tbody>\n",
       "</table>\n",
       "</div>"
      ],
      "text/plain": [
       "                        topic_name  texts_count\n",
       "0                Вакансии и резюме         1707\n",
       "1                     Жизнь и цели         1710\n",
       "2         Исследования и стратегии          765\n",
       "3               Карьера и развитие         1687\n",
       "4   Машинное обучение и статистика           42\n",
       "5                  Обучение и опыт          411\n",
       "6                       Общие темы         1710\n",
       "7                 Продажи и бизнес          242\n",
       "8        Психология и рекомендации          391\n",
       "9                 Работа и проекты         1710\n",
       "10      Собеседование и сообщество          177\n",
       "11              Стажировка и мечты          170\n",
       "12                 Статьи и методы          889\n",
       "13           Тестирование и навыки         1489"
      ]
     },
     "execution_count": 194,
     "metadata": {},
     "output_type": "execute_result"
    }
   ],
   "source": [
    "topics_count = topics_count.groupby(0).sum().reset_index().rename(columns={0: 'topic_name', 'text': 'texts_count'})\n",
    "topics_count"
   ]
  },
  {
   "cell_type": "code",
   "execution_count": 195,
   "metadata": {},
   "outputs": [],
   "source": [
    "topics_count.to_csv('topics_count.csv', index=False)"
   ]
  },
  {
   "attachments": {},
   "cell_type": "markdown",
   "metadata": {},
   "source": [
    "Охват"
   ]
  },
  {
   "cell_type": "code",
   "execution_count": 196,
   "metadata": {},
   "outputs": [
    {
     "data": {
      "text/html": [
       "<div>\n",
       "<style scoped>\n",
       "    .dataframe tbody tr th:only-of-type {\n",
       "        vertical-align: middle;\n",
       "    }\n",
       "\n",
       "    .dataframe tbody tr th {\n",
       "        vertical-align: top;\n",
       "    }\n",
       "\n",
       "    .dataframe thead th {\n",
       "        text-align: right;\n",
       "    }\n",
       "</style>\n",
       "<table border=\"1\" class=\"dataframe\">\n",
       "  <thead>\n",
       "    <tr style=\"text-align: right;\">\n",
       "      <th></th>\n",
       "      <th>text</th>\n",
       "      <th>0</th>\n",
       "      <th>1</th>\n",
       "      <th>2</th>\n",
       "      <th>3</th>\n",
       "      <th>4</th>\n",
       "      <th>5</th>\n",
       "      <th>6</th>\n",
       "      <th>7</th>\n",
       "      <th>8</th>\n",
       "      <th>9</th>\n",
       "      <th>10</th>\n",
       "      <th>11</th>\n",
       "      <th>sum</th>\n",
       "    </tr>\n",
       "  </thead>\n",
       "  <tbody>\n",
       "    <tr>\n",
       "      <th>0</th>\n",
       "      <td>Всем привет!Выпустил свою первую статью на хаб...</td>\n",
       "      <td>Машинное обучение и статистика</td>\n",
       "      <td>Вакансии и резюме</td>\n",
       "      <td>Работа и проекты</td>\n",
       "      <td>Карьера и развитие</td>\n",
       "      <td>Тестирование и навыки</td>\n",
       "      <td>Стажировка и мечты</td>\n",
       "      <td>Общие темы</td>\n",
       "      <td>Жизнь и цели</td>\n",
       "      <td>NaN</td>\n",
       "      <td>NaN</td>\n",
       "      <td>NaN</td>\n",
       "      <td>NaN</td>\n",
       "      <td>17.0</td>\n",
       "    </tr>\n",
       "    <tr>\n",
       "      <th>1</th>\n",
       "      <td>Если вам интересно позалипать в слова, я запус...</td>\n",
       "      <td>Статьи и методы</td>\n",
       "      <td>Вакансии и резюме</td>\n",
       "      <td>Работа и проекты</td>\n",
       "      <td>Исследования и стратегии</td>\n",
       "      <td>Карьера и развитие</td>\n",
       "      <td>Тестирование и навыки</td>\n",
       "      <td>Общие темы</td>\n",
       "      <td>Жизнь и цели</td>\n",
       "      <td>NaN</td>\n",
       "      <td>NaN</td>\n",
       "      <td>NaN</td>\n",
       "      <td>NaN</td>\n",
       "      <td>8.0</td>\n",
       "    </tr>\n",
       "    <tr>\n",
       "      <th>2</th>\n",
       "      <td>С трепетом готов представить свой продукт. Реф...</td>\n",
       "      <td>Вакансии и резюме</td>\n",
       "      <td>Работа и проекты</td>\n",
       "      <td>Карьера и развитие</td>\n",
       "      <td>Собеседование и сообщество</td>\n",
       "      <td>Общие темы</td>\n",
       "      <td>Жизнь и цели</td>\n",
       "      <td>NaN</td>\n",
       "      <td>NaN</td>\n",
       "      <td>NaN</td>\n",
       "      <td>NaN</td>\n",
       "      <td>NaN</td>\n",
       "      <td>NaN</td>\n",
       "      <td>8.0</td>\n",
       "    </tr>\n",
       "    <tr>\n",
       "      <th>3</th>\n",
       "      <td>Всем привет! Мы в AppFollow ищем Senior DevOps...</td>\n",
       "      <td>Обучение и опыт</td>\n",
       "      <td>Вакансии и резюме</td>\n",
       "      <td>Работа и проекты</td>\n",
       "      <td>Исследования и стратегии</td>\n",
       "      <td>Карьера и развитие</td>\n",
       "      <td>Стажировка и мечты</td>\n",
       "      <td>Общие темы</td>\n",
       "      <td>Жизнь и цели</td>\n",
       "      <td>NaN</td>\n",
       "      <td>NaN</td>\n",
       "      <td>NaN</td>\n",
       "      <td>NaN</td>\n",
       "      <td>22.0</td>\n",
       "    </tr>\n",
       "    <tr>\n",
       "      <th>4</th>\n",
       "      <td>На следующей неделе российская data-практика E...</td>\n",
       "      <td>Обучение и опыт</td>\n",
       "      <td>Машинное обучение и статистика</td>\n",
       "      <td>Вакансии и резюме</td>\n",
       "      <td>Работа и проекты</td>\n",
       "      <td>Карьера и развитие</td>\n",
       "      <td>Тестирование и навыки</td>\n",
       "      <td>Общие темы</td>\n",
       "      <td>Жизнь и цели</td>\n",
       "      <td>NaN</td>\n",
       "      <td>NaN</td>\n",
       "      <td>NaN</td>\n",
       "      <td>NaN</td>\n",
       "      <td>11.0</td>\n",
       "    </tr>\n",
       "    <tr>\n",
       "      <th>...</th>\n",
       "      <td>...</td>\n",
       "      <td>...</td>\n",
       "      <td>...</td>\n",
       "      <td>...</td>\n",
       "      <td>...</td>\n",
       "      <td>...</td>\n",
       "      <td>...</td>\n",
       "      <td>...</td>\n",
       "      <td>...</td>\n",
       "      <td>...</td>\n",
       "      <td>...</td>\n",
       "      <td>...</td>\n",
       "      <td>...</td>\n",
       "      <td>...</td>\n",
       "    </tr>\n",
       "    <tr>\n",
       "      <th>1857</th>\n",
       "      <td>NaN</td>\n",
       "      <td>NaN</td>\n",
       "      <td>NaN</td>\n",
       "      <td>NaN</td>\n",
       "      <td>NaN</td>\n",
       "      <td>NaN</td>\n",
       "      <td>NaN</td>\n",
       "      <td>NaN</td>\n",
       "      <td>NaN</td>\n",
       "      <td>NaN</td>\n",
       "      <td>NaN</td>\n",
       "      <td>NaN</td>\n",
       "      <td>NaN</td>\n",
       "      <td>7.0</td>\n",
       "    </tr>\n",
       "    <tr>\n",
       "      <th>1858</th>\n",
       "      <td>NaN</td>\n",
       "      <td>NaN</td>\n",
       "      <td>NaN</td>\n",
       "      <td>NaN</td>\n",
       "      <td>NaN</td>\n",
       "      <td>NaN</td>\n",
       "      <td>NaN</td>\n",
       "      <td>NaN</td>\n",
       "      <td>NaN</td>\n",
       "      <td>NaN</td>\n",
       "      <td>NaN</td>\n",
       "      <td>NaN</td>\n",
       "      <td>NaN</td>\n",
       "      <td>13.0</td>\n",
       "    </tr>\n",
       "    <tr>\n",
       "      <th>1859</th>\n",
       "      <td>NaN</td>\n",
       "      <td>NaN</td>\n",
       "      <td>NaN</td>\n",
       "      <td>NaN</td>\n",
       "      <td>NaN</td>\n",
       "      <td>NaN</td>\n",
       "      <td>NaN</td>\n",
       "      <td>NaN</td>\n",
       "      <td>NaN</td>\n",
       "      <td>NaN</td>\n",
       "      <td>NaN</td>\n",
       "      <td>NaN</td>\n",
       "      <td>NaN</td>\n",
       "      <td>4.0</td>\n",
       "    </tr>\n",
       "    <tr>\n",
       "      <th>1860</th>\n",
       "      <td>NaN</td>\n",
       "      <td>NaN</td>\n",
       "      <td>NaN</td>\n",
       "      <td>NaN</td>\n",
       "      <td>NaN</td>\n",
       "      <td>NaN</td>\n",
       "      <td>NaN</td>\n",
       "      <td>NaN</td>\n",
       "      <td>NaN</td>\n",
       "      <td>NaN</td>\n",
       "      <td>NaN</td>\n",
       "      <td>NaN</td>\n",
       "      <td>NaN</td>\n",
       "      <td>3.0</td>\n",
       "    </tr>\n",
       "    <tr>\n",
       "      <th>1861</th>\n",
       "      <td>NaN</td>\n",
       "      <td>NaN</td>\n",
       "      <td>NaN</td>\n",
       "      <td>NaN</td>\n",
       "      <td>NaN</td>\n",
       "      <td>NaN</td>\n",
       "      <td>NaN</td>\n",
       "      <td>NaN</td>\n",
       "      <td>NaN</td>\n",
       "      <td>NaN</td>\n",
       "      <td>NaN</td>\n",
       "      <td>NaN</td>\n",
       "      <td>NaN</td>\n",
       "      <td>6.0</td>\n",
       "    </tr>\n",
       "  </tbody>\n",
       "</table>\n",
       "<p>1854 rows × 14 columns</p>\n",
       "</div>"
      ],
      "text/plain": [
       "                                                   text  \\\n",
       "0     Всем привет!Выпустил свою первую статью на хаб...   \n",
       "1     Если вам интересно позалипать в слова, я запус...   \n",
       "2     С трепетом готов представить свой продукт. Реф...   \n",
       "3     Всем привет! Мы в AppFollow ищем Senior DevOps...   \n",
       "4     На следующей неделе российская data-практика E...   \n",
       "...                                                 ...   \n",
       "1857                                                NaN   \n",
       "1858                                                NaN   \n",
       "1859                                                NaN   \n",
       "1860                                                NaN   \n",
       "1861                                                NaN   \n",
       "\n",
       "                                   0                               1  \\\n",
       "0     Машинное обучение и статистика               Вакансии и резюме   \n",
       "1                    Статьи и методы               Вакансии и резюме   \n",
       "2                  Вакансии и резюме                Работа и проекты   \n",
       "3                    Обучение и опыт               Вакансии и резюме   \n",
       "4                    Обучение и опыт  Машинное обучение и статистика   \n",
       "...                              ...                             ...   \n",
       "1857                             NaN                             NaN   \n",
       "1858                             NaN                             NaN   \n",
       "1859                             NaN                             NaN   \n",
       "1860                             NaN                             NaN   \n",
       "1861                             NaN                             NaN   \n",
       "\n",
       "                       2                           3                      4  \\\n",
       "0       Работа и проекты          Карьера и развитие  Тестирование и навыки   \n",
       "1       Работа и проекты    Исследования и стратегии     Карьера и развитие   \n",
       "2     Карьера и развитие  Собеседование и сообщество             Общие темы   \n",
       "3       Работа и проекты    Исследования и стратегии     Карьера и развитие   \n",
       "4      Вакансии и резюме            Работа и проекты     Карьера и развитие   \n",
       "...                  ...                         ...                    ...   \n",
       "1857                 NaN                         NaN                    NaN   \n",
       "1858                 NaN                         NaN                    NaN   \n",
       "1859                 NaN                         NaN                    NaN   \n",
       "1860                 NaN                         NaN                    NaN   \n",
       "1861                 NaN                         NaN                    NaN   \n",
       "\n",
       "                          5           6             7    8    9   10   11  \\\n",
       "0        Стажировка и мечты  Общие темы  Жизнь и цели  NaN  NaN  NaN  NaN   \n",
       "1     Тестирование и навыки  Общие темы  Жизнь и цели  NaN  NaN  NaN  NaN   \n",
       "2              Жизнь и цели         NaN           NaN  NaN  NaN  NaN  NaN   \n",
       "3        Стажировка и мечты  Общие темы  Жизнь и цели  NaN  NaN  NaN  NaN   \n",
       "4     Тестирование и навыки  Общие темы  Жизнь и цели  NaN  NaN  NaN  NaN   \n",
       "...                     ...         ...           ...  ...  ...  ...  ...   \n",
       "1857                    NaN         NaN           NaN  NaN  NaN  NaN  NaN   \n",
       "1858                    NaN         NaN           NaN  NaN  NaN  NaN  NaN   \n",
       "1859                    NaN         NaN           NaN  NaN  NaN  NaN  NaN   \n",
       "1860                    NaN         NaN           NaN  NaN  NaN  NaN  NaN   \n",
       "1861                    NaN         NaN           NaN  NaN  NaN  NaN  NaN   \n",
       "\n",
       "       sum  \n",
       "0     17.0  \n",
       "1      8.0  \n",
       "2      8.0  \n",
       "3     22.0  \n",
       "4     11.0  \n",
       "...    ...  \n",
       "1857   7.0  \n",
       "1858  13.0  \n",
       "1859   4.0  \n",
       "1860   3.0  \n",
       "1861   6.0  \n",
       "\n",
       "[1854 rows x 14 columns]"
      ]
     },
     "execution_count": 196,
     "metadata": {},
     "output_type": "execute_result"
    }
   ],
   "source": [
    "result_df_topics"
   ]
  },
  {
   "attachments": {},
   "cell_type": "markdown",
   "metadata": {},
   "source": [
    "# Заключение"
   ]
  },
  {
   "attachments": {},
   "cell_type": "markdown",
   "metadata": {},
   "source": [
    "В ходе анализа собранных текстов было выявлено, что исходные данные с наибольшей согласованностью делятся на 3 темы. Одной из тем являются тексты на украинском языке.\n",
    "\n",
    "Наличие большого количества одинаковых слов в двух языках ухудшает результаты моделирования. Было принято решение убрать из данных украинские тексты.\n",
    "\n"
   ]
  },
  {
   "cell_type": "code",
   "execution_count": null,
   "metadata": {},
   "outputs": [],
   "source": []
  }
 ],
 "metadata": {
  "kernelspec": {
   "display_name": "venv",
   "language": "python",
   "name": "python3"
  },
  "language_info": {
   "codemirror_mode": {
    "name": "ipython",
    "version": 3
   },
   "file_extension": ".py",
   "mimetype": "text/x-python",
   "name": "python",
   "nbconvert_exporter": "python",
   "pygments_lexer": "ipython3",
   "version": "3.10.7"
  },
  "orig_nbformat": 4
 },
 "nbformat": 4,
 "nbformat_minor": 2
}
