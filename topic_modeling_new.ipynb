{
 "cells": [
  {
   "attachments": {},
   "cell_type": "markdown",
   "metadata": {},
   "source": [
    "Загрузим нужные библиотеки"
   ]
  },
  {
   "cell_type": "code",
   "execution_count": 1,
   "metadata": {},
   "outputs": [
    {
     "name": "stdout",
     "output_type": "stream",
     "text": [
      "Collecting ru-core-news-sm==3.5.0\n",
      "  Downloading https://github.com/explosion/spacy-models/releases/download/ru_core_news_sm-3.5.0/ru_core_news_sm-3.5.0-py3-none-any.whl (15.3 MB)\n",
      "                                              0.0/15.3 MB ? eta -:--:--\n",
      "                                              0.0/15.3 MB 1.3 MB/s eta 0:00:12\n",
      "                                              0.1/15.3 MB 1.1 MB/s eta 0:00:15\n",
      "                                             0.1/15.3 MB 983.0 kB/s eta 0:00:16\n",
      "                                              0.2/15.3 MB 1.4 MB/s eta 0:00:11\n",
      "     -                                        0.4/15.3 MB 1.5 MB/s eta 0:00:10\n",
      "     -                                        0.6/15.3 MB 1.8 MB/s eta 0:00:09\n",
      "     -                                        0.7/15.3 MB 1.9 MB/s eta 0:00:08\n",
      "     --                                       0.8/15.3 MB 1.8 MB/s eta 0:00:08\n",
      "     --                                       1.1/15.3 MB 2.0 MB/s eta 0:00:08\n",
      "     ---                                      1.2/15.3 MB 2.0 MB/s eta 0:00:08\n",
      "     ---                                      1.3/15.3 MB 2.0 MB/s eta 0:00:07\n",
      "     ---                                      1.4/15.3 MB 2.0 MB/s eta 0:00:07\n",
      "     ----                                     1.5/15.3 MB 2.0 MB/s eta 0:00:07\n",
      "     -----                                    1.9/15.3 MB 2.1 MB/s eta 0:00:07\n",
      "     ------                                   2.5/15.3 MB 2.1 MB/s eta 0:00:07\n",
      "     -------                                  2.9/15.3 MB 2.1 MB/s eta 0:00:06\n",
      "     --------                                 3.3/15.3 MB 2.1 MB/s eta 0:00:06\n",
      "     ----------                               4.0/15.3 MB 2.1 MB/s eta 0:00:06\n",
      "     -----------                              4.5/15.3 MB 2.1 MB/s eta 0:00:06\n",
      "     -------------                            5.0/15.3 MB 2.1 MB/s eta 0:00:05\n",
      "     -------------                            5.2/15.3 MB 2.1 MB/s eta 0:00:05\n",
      "     -------------                            5.3/15.3 MB 2.1 MB/s eta 0:00:05\n",
      "     --------------                           5.4/15.3 MB 2.1 MB/s eta 0:00:05\n",
      "     --------------                           5.7/15.3 MB 2.1 MB/s eta 0:00:05\n",
      "     ---------------                          5.8/15.3 MB 2.1 MB/s eta 0:00:05\n",
      "     ---------------                          5.9/15.3 MB 2.1 MB/s eta 0:00:05\n",
      "     ---------------                          6.0/15.3 MB 2.1 MB/s eta 0:00:05\n",
      "     ----------------                         6.1/15.3 MB 2.1 MB/s eta 0:00:05\n",
      "     ----------------                         6.2/15.3 MB 2.1 MB/s eta 0:00:05\n",
      "     ----------------                         6.3/15.3 MB 2.1 MB/s eta 0:00:05\n",
      "     ----------------                         6.4/15.3 MB 2.1 MB/s eta 0:00:05\n",
      "     -----------------                        6.5/15.3 MB 2.1 MB/s eta 0:00:05\n",
      "     -----------------                        6.7/15.3 MB 2.1 MB/s eta 0:00:05\n",
      "     -----------------                        6.8/15.3 MB 2.1 MB/s eta 0:00:04\n",
      "     -----------------                        6.9/15.3 MB 2.1 MB/s eta 0:00:04\n",
      "     ------------------                       7.0/15.3 MB 2.1 MB/s eta 0:00:04\n",
      "     ------------------                       7.1/15.3 MB 2.1 MB/s eta 0:00:04\n",
      "     ------------------                       7.1/15.3 MB 2.1 MB/s eta 0:00:04\n",
      "     -------------------                      7.3/15.3 MB 2.1 MB/s eta 0:00:04\n",
      "     -------------------                      7.4/15.3 MB 2.1 MB/s eta 0:00:04\n",
      "     -------------------                      7.5/15.3 MB 2.1 MB/s eta 0:00:04\n",
      "     -------------------                      7.6/15.3 MB 2.1 MB/s eta 0:00:04\n",
      "     --------------------                     7.7/15.3 MB 2.1 MB/s eta 0:00:04\n",
      "     --------------------                     7.8/15.3 MB 2.1 MB/s eta 0:00:04\n",
      "     --------------------                     7.9/15.3 MB 2.1 MB/s eta 0:00:04\n",
      "     --------------------                     8.0/15.3 MB 2.1 MB/s eta 0:00:04\n",
      "     ---------------------                    8.1/15.3 MB 2.1 MB/s eta 0:00:04\n",
      "     ---------------------                    8.2/15.3 MB 2.1 MB/s eta 0:00:04\n",
      "     ---------------------                    8.3/15.3 MB 2.1 MB/s eta 0:00:04\n",
      "     ---------------------                    8.4/15.3 MB 2.1 MB/s eta 0:00:04\n",
      "     ----------------------                   8.5/15.3 MB 2.1 MB/s eta 0:00:04\n",
      "     ----------------------                   8.7/15.3 MB 2.1 MB/s eta 0:00:04\n",
      "     -----------------------                  8.9/15.3 MB 2.1 MB/s eta 0:00:04\n",
      "     -----------------------                  9.0/15.3 MB 2.1 MB/s eta 0:00:04\n",
      "     ------------------------                 9.2/15.3 MB 2.1 MB/s eta 0:00:03\n",
      "     ------------------------                 9.4/15.3 MB 2.1 MB/s eta 0:00:03\n",
      "     ------------------------                 9.5/15.3 MB 2.1 MB/s eta 0:00:03\n",
      "     -------------------------                9.6/15.3 MB 2.1 MB/s eta 0:00:03\n",
      "     -------------------------                9.8/15.3 MB 2.1 MB/s eta 0:00:03\n",
      "     --------------------------               10.0/15.3 MB 2.1 MB/s eta 0:00:03\n",
      "     --------------------------               10.1/15.3 MB 2.1 MB/s eta 0:00:03\n",
      "     ---------------------------              10.5/15.3 MB 2.1 MB/s eta 0:00:03\n",
      "     ----------------------------             10.8/15.3 MB 2.1 MB/s eta 0:00:03\n",
      "     ----------------------------             11.0/15.3 MB 2.1 MB/s eta 0:00:03\n",
      "     -----------------------------            11.1/15.3 MB 2.1 MB/s eta 0:00:02\n",
      "     -----------------------------            11.3/15.3 MB 2.1 MB/s eta 0:00:02\n",
      "     ------------------------------           11.5/15.3 MB 2.1 MB/s eta 0:00:02\n",
      "     ------------------------------           11.8/15.3 MB 2.1 MB/s eta 0:00:02\n",
      "     -------------------------------          12.0/15.3 MB 2.1 MB/s eta 0:00:02\n",
      "     -------------------------------          12.1/15.3 MB 2.1 MB/s eta 0:00:02\n",
      "     --------------------------------         12.3/15.3 MB 2.1 MB/s eta 0:00:02\n",
      "     --------------------------------         12.4/15.3 MB 2.1 MB/s eta 0:00:02\n",
      "     --------------------------------         12.6/15.3 MB 2.1 MB/s eta 0:00:02\n",
      "     ---------------------------------        12.7/15.3 MB 2.1 MB/s eta 0:00:02\n",
      "     ---------------------------------        12.8/15.3 MB 2.1 MB/s eta 0:00:02\n",
      "     ---------------------------------        12.9/15.3 MB 2.1 MB/s eta 0:00:02\n",
      "     ----------------------------------       13.0/15.3 MB 2.1 MB/s eta 0:00:02\n",
      "     ----------------------------------       13.2/15.3 MB 2.1 MB/s eta 0:00:01\n",
      "     ----------------------------------       13.3/15.3 MB 2.1 MB/s eta 0:00:01\n",
      "     -----------------------------------      13.4/15.3 MB 2.1 MB/s eta 0:00:01\n",
      "     -----------------------------------      13.6/15.3 MB 2.1 MB/s eta 0:00:01\n",
      "     -----------------------------------      13.7/15.3 MB 2.1 MB/s eta 0:00:01\n",
      "     ------------------------------------     13.8/15.3 MB 2.1 MB/s eta 0:00:01\n",
      "     ------------------------------------     14.0/15.3 MB 2.1 MB/s eta 0:00:01\n",
      "     ------------------------------------     14.1/15.3 MB 2.1 MB/s eta 0:00:01\n",
      "     -------------------------------------    14.2/15.3 MB 2.1 MB/s eta 0:00:01\n",
      "     -------------------------------------    14.3/15.3 MB 2.1 MB/s eta 0:00:01\n",
      "     -------------------------------------    14.4/15.3 MB 2.1 MB/s eta 0:00:01\n",
      "     --------------------------------------   14.5/15.3 MB 2.1 MB/s eta 0:00:01\n",
      "     --------------------------------------   14.6/15.3 MB 2.1 MB/s eta 0:00:01\n",
      "     --------------------------------------   14.7/15.3 MB 2.1 MB/s eta 0:00:01\n",
      "     --------------------------------------   14.8/15.3 MB 2.1 MB/s eta 0:00:01\n",
      "     --------------------------------------   14.8/15.3 MB 2.1 MB/s eta 0:00:01\n",
      "     ---------------------------------------  14.9/15.3 MB 2.1 MB/s eta 0:00:01\n",
      "     ---------------------------------------  15.0/15.3 MB 2.1 MB/s eta 0:00:01\n",
      "     ---------------------------------------  15.1/15.3 MB 2.1 MB/s eta 0:00:01\n",
      "     ---------------------------------------  15.1/15.3 MB 2.1 MB/s eta 0:00:01\n",
      "     ---------------------------------------  15.2/15.3 MB 2.1 MB/s eta 0:00:01\n",
      "     ---------------------------------------  15.2/15.3 MB 2.1 MB/s eta 0:00:01\n",
      "     ---------------------------------------  15.2/15.3 MB 2.1 MB/s eta 0:00:01\n",
      "     ---------------------------------------  15.2/15.3 MB 2.1 MB/s eta 0:00:01\n",
      "     ---------------------------------------  15.2/15.3 MB 2.1 MB/s eta 0:00:01\n",
      "     ---------------------------------------  15.2/15.3 MB 2.1 MB/s eta 0:00:01\n",
      "     ---------------------------------------  15.2/15.3 MB 2.1 MB/s eta 0:00:01\n",
      "     ---------------------------------------  15.2/15.3 MB 2.1 MB/s eta 0:00:01\n",
      "     ---------------------------------------  15.2/15.3 MB 2.1 MB/s eta 0:00:01\n",
      "     ---------------------------------------  15.2/15.3 MB 2.1 MB/s eta 0:00:01\n",
      "     ---------------------------------------  15.2/15.3 MB 2.1 MB/s eta 0:00:01\n",
      "     ---------------------------------------  15.2/15.3 MB 2.1 MB/s eta 0:00:01\n",
      "     ---------------------------------------  15.2/15.3 MB 2.1 MB/s eta 0:00:01\n",
      "     ---------------------------------------  15.2/15.3 MB 2.1 MB/s eta 0:00:01\n",
      "     ---------------------------------------- 15.3/15.3 MB 1.9 MB/s eta 0:00:00\n",
      "Requirement already satisfied: spacy<3.6.0,>=3.5.0 in c:\\users\\андрей\\desktop\\github\\recruiters\\venv\\lib\\site-packages (from ru-core-news-sm==3.5.0) (3.5.4)\n",
      "Requirement already satisfied: pymorphy3>=1.0.0 in c:\\users\\андрей\\desktop\\github\\recruiters\\venv\\lib\\site-packages (from ru-core-news-sm==3.5.0) (1.2.0)\n",
      "Requirement already satisfied: dawg-python>=0.7.1 in c:\\users\\андрей\\desktop\\github\\recruiters\\venv\\lib\\site-packages (from pymorphy3>=1.0.0->ru-core-news-sm==3.5.0) (0.7.2)\n",
      "Requirement already satisfied: docopt>=0.6 in c:\\users\\андрей\\desktop\\github\\recruiters\\venv\\lib\\site-packages (from pymorphy3>=1.0.0->ru-core-news-sm==3.5.0) (0.6.2)\n",
      "Requirement already satisfied: pymorphy3-dicts-ru in c:\\users\\андрей\\desktop\\github\\recruiters\\venv\\lib\\site-packages (from pymorphy3>=1.0.0->ru-core-news-sm==3.5.0) (2.4.417150.4580142)\n",
      "Requirement already satisfied: spacy-legacy<3.1.0,>=3.0.11 in c:\\users\\андрей\\desktop\\github\\recruiters\\venv\\lib\\site-packages (from spacy<3.6.0,>=3.5.0->ru-core-news-sm==3.5.0) (3.0.12)\n",
      "Requirement already satisfied: spacy-loggers<2.0.0,>=1.0.0 in c:\\users\\андрей\\desktop\\github\\recruiters\\venv\\lib\\site-packages (from spacy<3.6.0,>=3.5.0->ru-core-news-sm==3.5.0) (1.0.4)\n",
      "Requirement already satisfied: murmurhash<1.1.0,>=0.28.0 in c:\\users\\андрей\\desktop\\github\\recruiters\\venv\\lib\\site-packages (from spacy<3.6.0,>=3.5.0->ru-core-news-sm==3.5.0) (1.0.9)\n",
      "Requirement already satisfied: cymem<2.1.0,>=2.0.2 in c:\\users\\андрей\\desktop\\github\\recruiters\\venv\\lib\\site-packages (from spacy<3.6.0,>=3.5.0->ru-core-news-sm==3.5.0) (2.0.7)\n",
      "Requirement already satisfied: preshed<3.1.0,>=3.0.2 in c:\\users\\андрей\\desktop\\github\\recruiters\\venv\\lib\\site-packages (from spacy<3.6.0,>=3.5.0->ru-core-news-sm==3.5.0) (3.0.8)\n",
      "Requirement already satisfied: thinc<8.2.0,>=8.1.8 in c:\\users\\андрей\\desktop\\github\\recruiters\\venv\\lib\\site-packages (from spacy<3.6.0,>=3.5.0->ru-core-news-sm==3.5.0) (8.1.10)\n",
      "Requirement already satisfied: wasabi<1.2.0,>=0.9.1 in c:\\users\\андрей\\desktop\\github\\recruiters\\venv\\lib\\site-packages (from spacy<3.6.0,>=3.5.0->ru-core-news-sm==3.5.0) (1.1.2)\n",
      "Requirement already satisfied: srsly<3.0.0,>=2.4.3 in c:\\users\\андрей\\desktop\\github\\recruiters\\venv\\lib\\site-packages (from spacy<3.6.0,>=3.5.0->ru-core-news-sm==3.5.0) (2.4.6)\n",
      "Requirement already satisfied: catalogue<2.1.0,>=2.0.6 in c:\\users\\андрей\\desktop\\github\\recruiters\\venv\\lib\\site-packages (from spacy<3.6.0,>=3.5.0->ru-core-news-sm==3.5.0) (2.0.8)\n",
      "Requirement already satisfied: typer<0.10.0,>=0.3.0 in c:\\users\\андрей\\desktop\\github\\recruiters\\venv\\lib\\site-packages (from spacy<3.6.0,>=3.5.0->ru-core-news-sm==3.5.0) (0.9.0)\n",
      "Requirement already satisfied: pathy>=0.10.0 in c:\\users\\андрей\\desktop\\github\\recruiters\\venv\\lib\\site-packages (from spacy<3.6.0,>=3.5.0->ru-core-news-sm==3.5.0) (0.10.2)\n",
      "Requirement already satisfied: smart-open<7.0.0,>=5.2.1 in c:\\users\\андрей\\desktop\\github\\recruiters\\venv\\lib\\site-packages (from spacy<3.6.0,>=3.5.0->ru-core-news-sm==3.5.0) (6.3.0)\n",
      "Requirement already satisfied: tqdm<5.0.0,>=4.38.0 in c:\\users\\андрей\\desktop\\github\\recruiters\\venv\\lib\\site-packages (from spacy<3.6.0,>=3.5.0->ru-core-news-sm==3.5.0) (4.65.0)\n",
      "Requirement already satisfied: numpy>=1.15.0 in c:\\users\\андрей\\desktop\\github\\recruiters\\venv\\lib\\site-packages (from spacy<3.6.0,>=3.5.0->ru-core-news-sm==3.5.0) (1.25.0)\n",
      "Requirement already satisfied: requests<3.0.0,>=2.13.0 in c:\\users\\андрей\\desktop\\github\\recruiters\\venv\\lib\\site-packages (from spacy<3.6.0,>=3.5.0->ru-core-news-sm==3.5.0) (2.31.0)\n",
      "Requirement already satisfied: pydantic!=1.8,!=1.8.1,<1.11.0,>=1.7.4 in c:\\users\\андрей\\desktop\\github\\recruiters\\venv\\lib\\site-packages (from spacy<3.6.0,>=3.5.0->ru-core-news-sm==3.5.0) (1.10.10)\n",
      "Requirement already satisfied: jinja2 in c:\\users\\андрей\\desktop\\github\\recruiters\\venv\\lib\\site-packages (from spacy<3.6.0,>=3.5.0->ru-core-news-sm==3.5.0) (3.1.2)\n",
      "Requirement already satisfied: setuptools in c:\\users\\андрей\\desktop\\github\\recruiters\\venv\\lib\\site-packages (from spacy<3.6.0,>=3.5.0->ru-core-news-sm==3.5.0) (63.2.0)\n",
      "Requirement already satisfied: packaging>=20.0 in c:\\users\\андрей\\desktop\\github\\recruiters\\venv\\lib\\site-packages (from spacy<3.6.0,>=3.5.0->ru-core-news-sm==3.5.0) (23.1)\n",
      "Requirement already satisfied: langcodes<4.0.0,>=3.2.0 in c:\\users\\андрей\\desktop\\github\\recruiters\\venv\\lib\\site-packages (from spacy<3.6.0,>=3.5.0->ru-core-news-sm==3.5.0) (3.3.0)\n",
      "Requirement already satisfied: typing-extensions>=4.2.0 in c:\\users\\андрей\\desktop\\github\\recruiters\\venv\\lib\\site-packages (from pydantic!=1.8,!=1.8.1,<1.11.0,>=1.7.4->spacy<3.6.0,>=3.5.0->ru-core-news-sm==3.5.0) (4.7.1)\n",
      "Requirement already satisfied: charset-normalizer<4,>=2 in c:\\users\\андрей\\desktop\\github\\recruiters\\venv\\lib\\site-packages (from requests<3.0.0,>=2.13.0->spacy<3.6.0,>=3.5.0->ru-core-news-sm==3.5.0) (3.1.0)\n",
      "Requirement already satisfied: idna<4,>=2.5 in c:\\users\\андрей\\desktop\\github\\recruiters\\venv\\lib\\site-packages (from requests<3.0.0,>=2.13.0->spacy<3.6.0,>=3.5.0->ru-core-news-sm==3.5.0) (3.4)\n",
      "Requirement already satisfied: urllib3<3,>=1.21.1 in c:\\users\\андрей\\desktop\\github\\recruiters\\venv\\lib\\site-packages (from requests<3.0.0,>=2.13.0->spacy<3.6.0,>=3.5.0->ru-core-news-sm==3.5.0) (2.0.3)\n",
      "Requirement already satisfied: certifi>=2017.4.17 in c:\\users\\андрей\\desktop\\github\\recruiters\\venv\\lib\\site-packages (from requests<3.0.0,>=2.13.0->spacy<3.6.0,>=3.5.0->ru-core-news-sm==3.5.0) (2023.5.7)\n",
      "Requirement already satisfied: blis<0.8.0,>=0.7.8 in c:\\users\\андрей\\desktop\\github\\recruiters\\venv\\lib\\site-packages (from thinc<8.2.0,>=8.1.8->spacy<3.6.0,>=3.5.0->ru-core-news-sm==3.5.0) (0.7.9)\n",
      "Requirement already satisfied: confection<1.0.0,>=0.0.1 in c:\\users\\андрей\\desktop\\github\\recruiters\\venv\\lib\\site-packages (from thinc<8.2.0,>=8.1.8->spacy<3.6.0,>=3.5.0->ru-core-news-sm==3.5.0) (0.1.0)\n",
      "Requirement already satisfied: colorama in c:\\users\\андрей\\desktop\\github\\recruiters\\venv\\lib\\site-packages (from tqdm<5.0.0,>=4.38.0->spacy<3.6.0,>=3.5.0->ru-core-news-sm==3.5.0) (0.4.6)\n",
      "Requirement already satisfied: click<9.0.0,>=7.1.1 in c:\\users\\андрей\\desktop\\github\\recruiters\\venv\\lib\\site-packages (from typer<0.10.0,>=0.3.0->spacy<3.6.0,>=3.5.0->ru-core-news-sm==3.5.0) (8.1.3)\n",
      "Requirement already satisfied: MarkupSafe>=2.0 in c:\\users\\андрей\\desktop\\github\\recruiters\\venv\\lib\\site-packages (from jinja2->spacy<3.6.0,>=3.5.0->ru-core-news-sm==3.5.0) (2.1.3)\n",
      "\u001b[38;5;2m✔ Download and installation successful\u001b[0m\n",
      "You can now load the package via spacy.load('ru_core_news_sm')\n"
     ]
    }
   ],
   "source": [
    "! python -m spacy download ru_core_news_sm"
   ]
  },
  {
   "cell_type": "code",
   "execution_count": 2,
   "metadata": {},
   "outputs": [],
   "source": [
    "import pandas as pd\n",
    "import unicodedata\n",
    "import re\n",
    "import spacy\n",
    "import json\n",
    "import numpy as np\n",
    "from nltk.corpus import stopwords\n",
    "from sklearn.decomposition import LatentDirichletAllocation\n",
    "from sklearn.feature_extraction.text import TfidfVectorizer\n",
    "import os\n",
    "import json\n",
    "import pyLDAvis\n",
    "import pyLDAvis.gensim\n",
    "import matplotlib.pyplot as plt\n",
    "import gensim\n",
    "import gensim.corpora as corpora\n",
    "from gensim.models import CoherenceModel\n",
    "from gensim.utils import simple_preprocess"
   ]
  },
  {
   "attachments": {},
   "cell_type": "markdown",
   "metadata": {},
   "source": [
    "# Подготовка данных"
   ]
  },
  {
   "attachments": {},
   "cell_type": "markdown",
   "metadata": {},
   "source": [
    "Загрузим данные"
   ]
  },
  {
   "cell_type": "code",
   "execution_count": 3,
   "metadata": {},
   "outputs": [],
   "source": [
    "data = pd.read_csv('csv\\\\full_df.csv', sep=';')\n",
    "data.head(3)\n",
    "data = data.drop(columns='Unnamed: 0', axis=1)"
   ]
  },
  {
   "attachments": {},
   "cell_type": "markdown",
   "metadata": {},
   "source": [
    "Отфильтруем тексты по количеству символов. Оставим только 100+."
   ]
  },
  {
   "cell_type": "code",
   "execution_count": 4,
   "metadata": {},
   "outputs": [
    {
     "name": "stdout",
     "output_type": "stream",
     "text": [
      "Количество постов с 100+ символами: 8556\n"
     ]
    },
    {
     "data": {
      "text/html": [
       "<div>\n",
       "<style scoped>\n",
       "    .dataframe tbody tr th:only-of-type {\n",
       "        vertical-align: middle;\n",
       "    }\n",
       "\n",
       "    .dataframe tbody tr th {\n",
       "        vertical-align: top;\n",
       "    }\n",
       "\n",
       "    .dataframe thead th {\n",
       "        text-align: right;\n",
       "    }\n",
       "</style>\n",
       "<table border=\"1\" class=\"dataframe\">\n",
       "  <thead>\n",
       "    <tr style=\"text-align: right;\">\n",
       "      <th></th>\n",
       "      <th>status</th>\n",
       "      <th>url</th>\n",
       "      <th>text</th>\n",
       "      <th>likes</th>\n",
       "      <th>reposts</th>\n",
       "      <th>comments</th>\n",
       "      <th>text_len</th>\n",
       "    </tr>\n",
       "  </thead>\n",
       "  <tbody>\n",
       "    <tr>\n",
       "      <th>0</th>\n",
       "      <td>Middle Software Engineer - Yandex</td>\n",
       "      <td>https://www.linkedin.com/in/michilegorov</td>\n",
       "      <td>Всем привет!Выпустил свою первую статью на хаб...</td>\n",
       "      <td>17.0</td>\n",
       "      <td>0.0</td>\n",
       "      <td>0.0</td>\n",
       "      <td>295</td>\n",
       "    </tr>\n",
       "    <tr>\n",
       "      <th>1</th>\n",
       "      <td>Middle Software Engineer - Yandex</td>\n",
       "      <td>https://www.linkedin.com/in/michilegorov</td>\n",
       "      <td>Если вам интересно позалипать в слова, я запус...</td>\n",
       "      <td>6.0</td>\n",
       "      <td>0.0</td>\n",
       "      <td>2.0</td>\n",
       "      <td>117</td>\n",
       "    </tr>\n",
       "    <tr>\n",
       "      <th>2</th>\n",
       "      <td>Middle Software Engineer - Yandex</td>\n",
       "      <td>https://www.linkedin.com/in/michilegorov</td>\n",
       "      <td>Если вам интересно позалипать в слова, я запус...</td>\n",
       "      <td>17.0</td>\n",
       "      <td>6.0</td>\n",
       "      <td>0.0</td>\n",
       "      <td>117</td>\n",
       "    </tr>\n",
       "  </tbody>\n",
       "</table>\n",
       "</div>"
      ],
      "text/plain": [
       "                              status  \\\n",
       "0  Middle Software Engineer - Yandex   \n",
       "1  Middle Software Engineer - Yandex   \n",
       "2  Middle Software Engineer - Yandex   \n",
       "\n",
       "                                        url  \\\n",
       "0  https://www.linkedin.com/in/michilegorov   \n",
       "1  https://www.linkedin.com/in/michilegorov   \n",
       "2  https://www.linkedin.com/in/michilegorov   \n",
       "\n",
       "                                                text likes  reposts  comments  \\\n",
       "0  Всем привет!Выпустил свою первую статью на хаб...  17.0      0.0       0.0   \n",
       "1  Если вам интересно позалипать в слова, я запус...   6.0      0.0       2.0   \n",
       "2  Если вам интересно позалипать в слова, я запус...  17.0      6.0       0.0   \n",
       "\n",
       "   text_len  \n",
       "0       295  \n",
       "1       117  \n",
       "2       117  "
      ]
     },
     "execution_count": 4,
     "metadata": {},
     "output_type": "execute_result"
    }
   ],
   "source": [
    "data['text_len'] = data.loc[:, 'text'].apply(lambda x: len(x))\n",
    "data_filtered_by_text_len = data.query('text_len > 100')\n",
    "print(f'Количество постов с 100+ символами: {data_filtered_by_text_len.shape[0]}')\n",
    "data_filtered_by_text_len.head(3)"
   ]
  },
  {
   "attachments": {},
   "cell_type": "markdown",
   "metadata": {},
   "source": [
    "Оставим только тексты содержащие кириллицу"
   ]
  },
  {
   "cell_type": "code",
   "execution_count": 5,
   "metadata": {},
   "outputs": [
    {
     "name": "stdout",
     "output_type": "stream",
     "text": [
      "Текстов на кириллице: 1960\n"
     ]
    },
    {
     "data": {
      "text/html": [
       "<div>\n",
       "<style scoped>\n",
       "    .dataframe tbody tr th:only-of-type {\n",
       "        vertical-align: middle;\n",
       "    }\n",
       "\n",
       "    .dataframe tbody tr th {\n",
       "        vertical-align: top;\n",
       "    }\n",
       "\n",
       "    .dataframe thead th {\n",
       "        text-align: right;\n",
       "    }\n",
       "</style>\n",
       "<table border=\"1\" class=\"dataframe\">\n",
       "  <thead>\n",
       "    <tr style=\"text-align: right;\">\n",
       "      <th></th>\n",
       "      <th>status</th>\n",
       "      <th>url</th>\n",
       "      <th>text</th>\n",
       "      <th>likes</th>\n",
       "      <th>reposts</th>\n",
       "      <th>comments</th>\n",
       "      <th>text_len</th>\n",
       "    </tr>\n",
       "  </thead>\n",
       "  <tbody>\n",
       "    <tr>\n",
       "      <th>0</th>\n",
       "      <td>Middle Software Engineer - Yandex</td>\n",
       "      <td>https://www.linkedin.com/in/michilegorov</td>\n",
       "      <td>Всем привет!Выпустил свою первую статью на хаб...</td>\n",
       "      <td>17.0</td>\n",
       "      <td>0.0</td>\n",
       "      <td>0.0</td>\n",
       "      <td>295</td>\n",
       "    </tr>\n",
       "    <tr>\n",
       "      <th>1</th>\n",
       "      <td>Middle Software Engineer - Yandex</td>\n",
       "      <td>https://www.linkedin.com/in/michilegorov</td>\n",
       "      <td>Если вам интересно позалипать в слова, я запус...</td>\n",
       "      <td>6.0</td>\n",
       "      <td>0.0</td>\n",
       "      <td>2.0</td>\n",
       "      <td>117</td>\n",
       "    </tr>\n",
       "    <tr>\n",
       "      <th>2</th>\n",
       "      <td>Middle Software Engineer - Yandex</td>\n",
       "      <td>https://www.linkedin.com/in/michilegorov</td>\n",
       "      <td>Если вам интересно позалипать в слова, я запус...</td>\n",
       "      <td>17.0</td>\n",
       "      <td>6.0</td>\n",
       "      <td>0.0</td>\n",
       "      <td>117</td>\n",
       "    </tr>\n",
       "  </tbody>\n",
       "</table>\n",
       "</div>"
      ],
      "text/plain": [
       "                              status  \\\n",
       "0  Middle Software Engineer - Yandex   \n",
       "1  Middle Software Engineer - Yandex   \n",
       "2  Middle Software Engineer - Yandex   \n",
       "\n",
       "                                        url  \\\n",
       "0  https://www.linkedin.com/in/michilegorov   \n",
       "1  https://www.linkedin.com/in/michilegorov   \n",
       "2  https://www.linkedin.com/in/michilegorov   \n",
       "\n",
       "                                                text likes  reposts  comments  \\\n",
       "0  Всем привет!Выпустил свою первую статью на хаб...  17.0      0.0       0.0   \n",
       "1  Если вам интересно позалипать в слова, я запус...   6.0      0.0       2.0   \n",
       "2  Если вам интересно позалипать в слова, я запус...  17.0      6.0       0.0   \n",
       "\n",
       "   text_len  \n",
       "0       295  \n",
       "1       117  \n",
       "2       117  "
      ]
     },
     "execution_count": 5,
     "metadata": {},
     "output_type": "execute_result"
    }
   ],
   "source": [
    "data_cyrillic = data_filtered_by_text_len[data_filtered_by_text_len['text'].apply(lambda x: re.match(r'[А-Яа-я]+', x) is not None)]\n",
    "\n",
    "print(f'Текстов на кириллице: {data_cyrillic.shape[0]}')\n",
    "data_cyrillic.head(3)"
   ]
  },
  {
   "attachments": {},
   "cell_type": "markdown",
   "metadata": {},
   "source": [
    "Удалим дубликаты текстов"
   ]
  },
  {
   "cell_type": "code",
   "execution_count": 6,
   "metadata": {},
   "outputs": [
    {
     "name": "stdout",
     "output_type": "stream",
     "text": [
      "Осталось 1862 строк\n"
     ]
    },
    {
     "data": {
      "text/html": [
       "<div>\n",
       "<style scoped>\n",
       "    .dataframe tbody tr th:only-of-type {\n",
       "        vertical-align: middle;\n",
       "    }\n",
       "\n",
       "    .dataframe tbody tr th {\n",
       "        vertical-align: top;\n",
       "    }\n",
       "\n",
       "    .dataframe thead th {\n",
       "        text-align: right;\n",
       "    }\n",
       "</style>\n",
       "<table border=\"1\" class=\"dataframe\">\n",
       "  <thead>\n",
       "    <tr style=\"text-align: right;\">\n",
       "      <th></th>\n",
       "      <th>status</th>\n",
       "      <th>url</th>\n",
       "      <th>text</th>\n",
       "      <th>likes</th>\n",
       "      <th>reposts</th>\n",
       "      <th>comments</th>\n",
       "      <th>text_len</th>\n",
       "    </tr>\n",
       "  </thead>\n",
       "  <tbody>\n",
       "    <tr>\n",
       "      <th>0</th>\n",
       "      <td>Middle Software Engineer - Yandex</td>\n",
       "      <td>https://www.linkedin.com/in/michilegorov</td>\n",
       "      <td>Всем привет!Выпустил свою первую статью на хаб...</td>\n",
       "      <td>17.0</td>\n",
       "      <td>0.0</td>\n",
       "      <td>0.0</td>\n",
       "      <td>295</td>\n",
       "    </tr>\n",
       "    <tr>\n",
       "      <th>1</th>\n",
       "      <td>Middle Software Engineer - Yandex</td>\n",
       "      <td>https://www.linkedin.com/in/michilegorov</td>\n",
       "      <td>Если вам интересно позалипать в слова, я запус...</td>\n",
       "      <td>6.0</td>\n",
       "      <td>0.0</td>\n",
       "      <td>2.0</td>\n",
       "      <td>117</td>\n",
       "    </tr>\n",
       "    <tr>\n",
       "      <th>6</th>\n",
       "      <td>Talent Acquisition Manager | Recruitment Lead ...</td>\n",
       "      <td>https://www.linkedin.com/in/dariaivanova</td>\n",
       "      <td>С трепетом готов представить свой продукт. Реф...</td>\n",
       "      <td>8.0</td>\n",
       "      <td>0.0</td>\n",
       "      <td>0.0</td>\n",
       "      <td>841</td>\n",
       "    </tr>\n",
       "  </tbody>\n",
       "</table>\n",
       "</div>"
      ],
      "text/plain": [
       "                                              status  \\\n",
       "0                  Middle Software Engineer - Yandex   \n",
       "1                  Middle Software Engineer - Yandex   \n",
       "6  Talent Acquisition Manager | Recruitment Lead ...   \n",
       "\n",
       "                                        url  \\\n",
       "0  https://www.linkedin.com/in/michilegorov   \n",
       "1  https://www.linkedin.com/in/michilegorov   \n",
       "6  https://www.linkedin.com/in/dariaivanova   \n",
       "\n",
       "                                                text likes  reposts  comments  \\\n",
       "0  Всем привет!Выпустил свою первую статью на хаб...  17.0      0.0       0.0   \n",
       "1  Если вам интересно позалипать в слова, я запус...   6.0      0.0       2.0   \n",
       "6  С трепетом готов представить свой продукт. Реф...   8.0      0.0       0.0   \n",
       "\n",
       "   text_len  \n",
       "0       295  \n",
       "1       117  \n",
       "6       841  "
      ]
     },
     "execution_count": 6,
     "metadata": {},
     "output_type": "execute_result"
    }
   ],
   "source": [
    "data_dd = data_cyrillic.drop_duplicates('text')\n",
    "print(f'Осталось {data_dd.shape[0]} строк')\n",
    "data_dd.head(3)"
   ]
  },
  {
   "attachments": {},
   "cell_type": "markdown",
   "metadata": {},
   "source": [
    "# Подготовка к моделированию"
   ]
  },
  {
   "cell_type": "code",
   "execution_count": 7,
   "metadata": {},
   "outputs": [],
   "source": [
    "texts = data_dd[\"text\"].tolist()"
   ]
  },
  {
   "attachments": {},
   "cell_type": "markdown",
   "metadata": {},
   "source": [
    "Проведем лемматизацию"
   ]
  },
  {
   "cell_type": "code",
   "execution_count": 8,
   "metadata": {},
   "outputs": [
    {
     "name": "stdout",
     "output_type": "stream",
     "text": [
      "[['всем', 'привет!выпустил', 'свой', 'первый', 'статья', 'на', 'хабр!https://lnkd.in', '/', 'dt9n6d7bстатья', 'про', 'история', 'и', 'технология', 'разработка', 'игра', 'https://guess-word.com', 'и', 'как', 'мы', 'создать', 'игра', 'с', 'элемент', 'машинный', 'обучение', 'и', 'выйти', 'в', 'ноль', 'за', '2', 'месяцапри', '\\xa0', 'внимательный', 'прочтение', 'вы', 'даже', 'смочь', 'запустить', 'первый', 'версия', 'игра', '!']]\n"
     ]
    }
   ],
   "source": [
    "if os.path.exists('lemmas.json'):\n",
    "    with open(\"lemmas.json\") as f:\n",
    "        data_lemmatized = json.load(f)['lemmas']\n",
    "else:\n",
    "    model = spacy.load('ru_core_news_sm', disable=['ner', 'parser'])\n",
    "    data_lemmatized = []\n",
    "    for doc in model.pipe(texts, disable=[\"tagger\", \"parser\"]):\n",
    "        data_lemmatized.append([token.lemma_ for token in doc])\n",
    "\n",
    "    with open(\"lemmas.json\", \"w\") as fid:\n",
    "        json.dump({\"lemmas\": data_lemmatized}, fid)\n",
    "\n",
    "print(data_lemmatized[:1])"
   ]
  },
  {
   "attachments": {},
   "cell_type": "markdown",
   "metadata": {},
   "source": [
    "Очистим тексты от ненужных символов"
   ]
  },
  {
   "cell_type": "code",
   "execution_count": 9,
   "metadata": {},
   "outputs": [],
   "source": [
    "word_pattern = re.compile(\"^[а-я]*$\")\n",
    "\n",
    "def remove_symbols(doc):\n",
    "    return [token for token in doc if word_pattern.match(token)]\n",
    "\n",
    "data_words = list(map(remove_symbols, data_lemmatized))"
   ]
  },
  {
   "attachments": {},
   "cell_type": "markdown",
   "metadata": {},
   "source": [
    "Загрузим русские стоп-слова"
   ]
  },
  {
   "cell_type": "code",
   "execution_count": 10,
   "metadata": {},
   "outputs": [],
   "source": [
    "stop_words = stopwords.words('russian')\n",
    "stop_words"
   ]
  },
  {
   "attachments": {},
   "cell_type": "markdown",
   "metadata": {},
   "source": [
    "Создадим биграммы и триграммы"
   ]
  },
  {
   "cell_type": "code",
   "execution_count": 11,
   "metadata": {},
   "outputs": [
    {
     "name": "stdout",
     "output_type": "stream",
     "text": [
      "['всем', 'свой', 'первый', 'статья', 'на', 'про', 'история', 'и', 'технология', 'разработка', 'игра', 'и', 'как', 'мы', 'создать', 'игра', 'с', 'элемент', 'машинный_обучение', 'и', 'выйти', 'в', 'ноль', 'за', 'месяцапри', 'внимательный', 'прочтение', 'вы', 'даже', 'смочь', 'запустить', 'первый', 'версия', 'игра']\n"
     ]
    }
   ],
   "source": [
    "bigram = gensim.models.Phrases(data_words, min_count=5, threshold=100)\n",
    "trigram = gensim.models.Phrases(bigram[data_lemmatized], threshold=100)  \n",
    "\n",
    "bigram_mod = gensim.models.phrases.Phraser(bigram)\n",
    "trigram_mod = gensim.models.phrases.Phraser(trigram)\n",
    "\n",
    "print(trigram_mod[bigram_mod[data_words[0]]])"
   ]
  },
  {
   "attachments": {},
   "cell_type": "markdown",
   "metadata": {},
   "source": [
    "Определим функции для удаления стоп-слов, создания биграмм и триграмм"
   ]
  },
  {
   "cell_type": "code",
   "execution_count": 12,
   "metadata": {},
   "outputs": [],
   "source": [
    "def remove_stopwords(texts):\n",
    "    return [[word for word in doc if word not in stop_words] for doc in texts]\n",
    "\n",
    "def make_bigrams(texts):\n",
    "    return [bigram_mod[doc] for doc in texts]\n",
    "\n",
    "def make_trigrams(texts):\n",
    "    return [trigram_mod[bigram_mod[doc]] for doc in texts]\n"
   ]
  },
  {
   "attachments": {},
   "cell_type": "markdown",
   "metadata": {},
   "source": [
    "Применим функции для удаления стоп-слов и создания биграмм"
   ]
  },
  {
   "cell_type": "code",
   "execution_count": 13,
   "metadata": {},
   "outputs": [],
   "source": [
    "data_words_nostops = remove_stopwords(data_words)\n",
    "\n",
    "data_words_bigrams = make_bigrams(data_words_nostops)"
   ]
  },
  {
   "cell_type": "code",
   "execution_count": 14,
   "metadata": {},
   "outputs": [
    {
     "name": "stdout",
     "output_type": "stream",
     "text": [
      "[[(0, 1), (1, 1), (2, 1), (3, 1), (4, 1), (5, 3), (6, 1), (7, 1), (8, 1), (9, 1), (10, 2), (11, 1), (12, 1), (13, 1), (14, 1), (15, 1), (16, 1), (17, 1), (18, 1)]]\n"
     ]
    }
   ],
   "source": [
    "id2word = corpora.Dictionary(data_words_bigrams)\n",
    "\n",
    "texts = data_words_bigrams\n",
    "\n",
    "corpus = [id2word.doc2bow(text) for text in texts]\n",
    "\n",
    "print(corpus[:1])"
   ]
  },
  {
   "cell_type": "code",
   "execution_count": 15,
   "metadata": {},
   "outputs": [
    {
     "data": {
      "text/plain": [
       "[[('версия', 1),\n",
       "  ('внимательный', 1),\n",
       "  ('всем', 1),\n",
       "  ('выйти', 1),\n",
       "  ('запустить', 1),\n",
       "  ('игра', 3),\n",
       "  ('история', 1),\n",
       "  ('машинный_обучение', 1),\n",
       "  ('месяцапри', 1),\n",
       "  ('ноль', 1),\n",
       "  ('первый', 2),\n",
       "  ('прочтение', 1),\n",
       "  ('разработка', 1),\n",
       "  ('свой', 1),\n",
       "  ('смочь', 1),\n",
       "  ('создать', 1),\n",
       "  ('статья', 1),\n",
       "  ('технология', 1),\n",
       "  ('элемент', 1)]]"
      ]
     },
     "execution_count": 15,
     "metadata": {},
     "output_type": "execute_result"
    }
   ],
   "source": [
    "[[(id2word[id], freq) for id, freq in cp] for cp in corpus[:1]]"
   ]
  },
  {
   "cell_type": "code",
   "execution_count": 16,
   "metadata": {},
   "outputs": [],
   "source": [
    "lda_model = gensim.models.ldamodel.LdaModel(\n",
    "    corpus=corpus,\n",
    "    id2word=id2word,\n",
    "    num_topics=20, \n",
    "    random_state=100,\n",
    "    update_every=1,\n",
    "    chunksize=100,\n",
    "    passes=10,\n",
    "    alpha='auto',\n",
    "    per_word_topics=True\n",
    "    )"
   ]
  },
  {
   "cell_type": "code",
   "execution_count": 17,
   "metadata": {},
   "outputs": [
    {
     "data": {
      "text/plain": [
       "[(0,\n",
       "  '0.052*\"профиль\" + 0.050*\"продажа\" + 0.040*\"целое\" + 0.032*\"ребята\" + 0.032*\"надеяться\" + 0.030*\"отзыв\" + 0.027*\"котором\" + 0.022*\"дом\" + 0.016*\"участвовать\" + 0.015*\"голос\"'),\n",
       " (1,\n",
       "  '0.062*\"дизайнер\" + 0.055*\"встреча\" + 0.046*\"создать\" + 0.040*\"рекрутер\" + 0.026*\"предоставлять\" + 0.026*\"достигнуть\" + 0.023*\"популярный\" + 0.019*\"собирать\" + 0.016*\"базовый\" + 0.016*\"объяснить\"'),\n",
       " (2,\n",
       "  '0.049*\"мной\" + 0.039*\"конкурент\" + 0.035*\"кстати\" + 0.031*\"цена\" + 0.030*\"разобраться\" + 0.018*\"единственный\" + 0.011*\"александр\" + 0.010*\"туда\" + 0.010*\"соцсеть\" + 0.009*\"чудо\"'),\n",
       " (3,\n",
       "  '0.057*\"которой\" + 0.050*\"инструмент\" + 0.032*\"действие\" + 0.031*\"суть\" + 0.031*\"программист\" + 0.031*\"подробность\" + 0.021*\"октябрь\" + 0.021*\"метод\" + 0.020*\"площадка\" + 0.016*\"кофе\"'),\n",
       " (4,\n",
       "  '0.059*\"исследование\" + 0.043*\"стратегия\" + 0.033*\"коммуникация\" + 0.020*\"опубликовать\" + 0.005*\"проблемный\" + 0.000*\"виноватый\" + 0.000*\"робототехника\" + 0.000*\"выбор\" + 0.000*\"ресурс\" + 0.000*\"просить\"'),\n",
       " (5,\n",
       "  '0.053*\"техника\" + 0.031*\"принцип\" + 0.028*\"достижение\" + 0.021*\"описать\" + 0.020*\"схема\" + 0.015*\"возникнуть\" + 0.006*\"фраза\" + 0.006*\"подсказывать\" + 0.006*\"кратко\" + 0.004*\"понятие\"'),\n",
       " (6,\n",
       "  '0.110*\"резюме\" + 0.105*\"вакансия\" + 0.082*\"навык\" + 0.049*\"тест\" + 0.023*\"значок\" + 0.023*\"проверка_навык\" + 0.023*\"следующий_пройти\" + 0.014*\"стажировка\" + 0.012*\"офлайн\" + 0.012*\"тг\"'),\n",
       " (7,\n",
       "  '0.042*\"представлять\" + 0.030*\"представление\" + 0.028*\"ставить\" + 0.020*\"проектный\" + 0.015*\"стартовать\" + 0.007*\"грамотно\" + 0.005*\"разделять\" + 0.005*\"кадровый\" + 0.003*\"конфигурация\" + 0.002*\"агент\"'),\n",
       " (8,\n",
       "  '0.107*\"книга\" + 0.034*\"правильный\" + 0.024*\"подробно\" + 0.024*\"топ\" + 0.023*\"владение\" + 0.015*\"социальный\" + 0.012*\"одно\" + 0.011*\"официальный\" + 0.011*\"любовь\" + 0.010*\"слушать\"'),\n",
       " (9,\n",
       "  '0.079*\"час\" + 0.068*\"путь\" + 0.046*\"второй\" + 0.034*\"никто\" + 0.027*\"задание\" + 0.021*\"похожий\" + 0.019*\"которыми\" + 0.019*\"разбираться\" + 0.015*\"куча\" + 0.011*\"китайский\"'),\n",
       " (10,\n",
       "  '0.047*\"всем_привет\" + 0.042*\"собеседование\" + 0.040*\"офис\" + 0.036*\"руководитель\" + 0.031*\"несколько\" + 0.029*\"рассказывать\" + 0.020*\"течение\" + 0.019*\"смотреть\" + 0.017*\"одну\" + 0.016*\"активный\"'),\n",
       " (11,\n",
       "  '0.047*\"почитать\" + 0.025*\"отклик\" + 0.002*\"залетать\" + 0.000*\"семинар\" + 0.000*\"психолог\" + 0.000*\"подход\" + 0.000*\"либо\" + 0.000*\"тратить\" + 0.000*\"обратный_связь\" + 0.000*\"психологический\"'),\n",
       " (12,\n",
       "  '0.138*\"пост\" + 0.061*\"статья\" + 0.037*\"тестирование\" + 0.025*\"продолжение\" + 0.020*\"реклама\" + 0.017*\"маркетинг\" + 0.015*\"предыдущий\" + 0.014*\"значение\" + 0.014*\"влияние\" + 0.013*\"защита\"'),\n",
       " (13,\n",
       "  '0.052*\"год\" + 0.031*\"интересный\" + 0.025*\"первый\" + 0.022*\"новый\" + 0.019*\"начать\" + 0.018*\"очень\" + 0.016*\"писать\" + 0.014*\"тема\" + 0.014*\"неделя\" + 0.013*\"обучение\"'),\n",
       " (14,\n",
       "  '0.107*\"задача\" + 0.057*\"решить\" + 0.036*\"конец\" + 0.026*\"изменение\" + 0.022*\"решать\" + 0.022*\"увидеть\" + 0.022*\"случай\" + 0.021*\"понятный\" + 0.021*\"текущий\" + 0.020*\"довольно\"'),\n",
       " (15,\n",
       "  '0.047*\"это\" + 0.031*\"свой\" + 0.024*\"мочь\" + 0.021*\"весь\" + 0.021*\"человек\" + 0.021*\"работа\" + 0.016*\"время\" + 0.013*\"которые\" + 0.013*\"хотеть\" + 0.013*\"работать\"'),\n",
       " (16,\n",
       "  '0.032*\"документ\" + 0.025*\"перейти\" + 0.021*\"ведущий\" + 0.010*\"музыка\" + 0.007*\"михаил\" + 0.007*\"извлечение\" + 0.005*\"июль\" + 0.003*\"полочкам\" + 0.002*\"разложить\" + 0.000*\"мир\"'),\n",
       " (17,\n",
       "  '0.063*\"являться\" + 0.040*\"считать\" + 0.035*\"контакт\" + 0.033*\"многие\" + 0.032*\"оказаться\" + 0.028*\"назад\" + 0.021*\"пойти\" + 0.019*\"психология\" + 0.018*\"отсутствие\" + 0.016*\"глаз\"'),\n",
       " (18,\n",
       "  '0.077*\"карьерный\" + 0.066*\"часто\" + 0.054*\"предложить\" + 0.030*\"айти\" + 0.025*\"рекомендация_контакт\" + 0.023*\"здравствовать\" + 0.016*\"заранее_благодарить\" + 0.007*\"совет\" + 0.006*\"дверь\" + 0.006*\"сможешь\"'),\n",
       " (19,\n",
       "  '0.053*\"компания\" + 0.046*\"работа\" + 0.038*\"проект\" + 0.033*\"опыт\" + 0.032*\"команда\" + 0.025*\"наш\" + 0.024*\"данных\" + 0.022*\"разработка\" + 0.020*\"новый\" + 0.018*\"разработчик\"')]"
      ]
     },
     "execution_count": 17,
     "metadata": {},
     "output_type": "execute_result"
    }
   ],
   "source": [
    "lda_model.print_topics()"
   ]
  },
  {
   "cell_type": "code",
   "execution_count": 18,
   "metadata": {},
   "outputs": [
    {
     "name": "stdout",
     "output_type": "stream",
     "text": [
      "\n",
      "Perplexity:  -16.143723320522806\n",
      "\n",
      "Coherence Score:  0.45406890945420464\n"
     ]
    }
   ],
   "source": [
    "print('\\nPerplexity: ', lda_model.log_perplexity(corpus))  # a measure of how good the model is. lower the better.\n",
    "\n",
    "coherence_model_lda = CoherenceModel(model=lda_model, texts=texts, dictionary=id2word, coherence='c_v')\n",
    "coherence_lda = coherence_model_lda.get_coherence()\n",
    "print('\\nCoherence Score: ', coherence_lda)"
   ]
  },
  {
   "cell_type": "code",
   "execution_count": 19,
   "metadata": {},
   "outputs": [
    {
     "data": {
      "text/html": [
       "\n",
       "<link rel=\"stylesheet\" type=\"text/css\" href=\"https://cdn.jsdelivr.net/gh/bmabey/pyLDAvis@3.4.0/pyLDAvis/js/ldavis.v1.0.0.css\">\n",
       "\n",
       "\n",
       "<div id=\"ldavis_el29001955712183844699555504\" style=\"background-color:white;\"></div>\n",
       "<script type=\"text/javascript\">\n",
       "\n",
       "var ldavis_el29001955712183844699555504_data = {\"mdsDat\": {\"x\": [0.42624230911578914, 0.34204560434512643, 0.30191354254016844, 0.004836743115437927, -0.007827477820466597, -0.06142474345385221, -0.06000353540278584, -0.056942075988693296, -0.055072659741173646, -0.0657231981473999, -0.06998488321069637, -0.06865735677812018, -0.07468873795981383, -0.07798963364726894, -0.07444990377149574, -0.07984951687325702, -0.08027702454053559, -0.0804238463788819, -0.08082028159087021, -0.08090332381121], \"y\": [0.06659043660693799, -0.3122675921712704, 0.26633908256583055, -0.020161655192558085, -0.029069950267666622, 0.0011558999645302434, 0.0010631224731562983, -0.0005230307034201617, 0.002378847796209115, 0.001424943749947727, 0.0017221276235700877, 0.001626865498819067, 0.001996045582898178, 0.002249387961572126, 0.0027183444165785804, 0.002436602198274192, 0.0025166633627598666, 0.002518647728335573, 0.002601504302019842, 0.0026837065034769772], \"topics\": [1, 2, 3, 4, 5, 6, 7, 8, 9, 10, 11, 12, 13, 14, 15, 16, 17, 18, 19, 20], \"cluster\": [1, 1, 1, 1, 1, 1, 1, 1, 1, 1, 1, 1, 1, 1, 1, 1, 1, 1, 1, 1], \"Freq\": [47.67645621569807, 18.723723089235904, 15.346373970831243, 3.420429928212075, 3.15133684081499, 1.4467242147747201, 1.4260461892227612, 1.352935299407819, 1.2424111667742184, 1.1864510912205912, 1.0794488882872952, 1.0188944780569154, 0.8013903938965589, 0.4860340816692085, 0.44152764708110653, 0.3993490632389493, 0.2636440685482741, 0.2440844272527077, 0.18941285151830634, 0.10332609425828237]}, \"tinfo\": {\"Term\": [\"\\u043a\\u043e\\u043c\\u043f\\u0430\\u043d\\u0438\\u044f\", \"\\u0433\\u043e\\u0434\", \"\\u044d\\u0442\\u043e\", \"\\u0437\\u0430\\u0434\\u0430\\u0447\\u0430\", \"\\u0440\\u0430\\u0431\\u043e\\u0442\\u0430\", \"\\u043f\\u0440\\u043e\\u0435\\u043a\\u0442\", \"\\u043a\\u043e\\u043c\\u0430\\u043d\\u0434\\u0430\", \"\\u043e\\u043f\\u044b\\u0442\", \"\\u0441\\u0432\\u043e\\u0439\", \"\\u0438\\u043d\\u0442\\u0435\\u0440\\u0435\\u0441\\u043d\\u044b\\u0439\", \"\\u043f\\u043e\\u0441\\u0442\", \"\\u043c\\u043e\\u0447\\u044c\", \"\\u0434\\u0430\\u043d\\u043d\\u044b\\u0445\", \"\\u043f\\u0435\\u0440\\u0432\\u044b\\u0439\", \"\\u043d\\u0430\\u0448\", \"\\u0440\\u0430\\u0437\\u0440\\u0430\\u0431\\u043e\\u0442\\u043a\\u0430\", \"\\u043d\\u043e\\u0432\\u044b\\u0439\", \"\\u0440\\u0435\\u0448\\u0438\\u0442\\u044c\", \"\\u0440\\u0435\\u0437\\u044e\\u043c\\u0435\", \"\\u043d\\u0435\\u0441\\u043a\\u043e\\u043b\\u044c\\u043a\\u043e\", \"\\u0432\\u0430\\u043a\\u0430\\u043d\\u0441\\u0438\\u044f\", \"\\u043e\\u0447\\u0435\\u043d\\u044c\", \"\\u0432\\u0441\\u0435\\u043c_\\u043f\\u0440\\u0438\\u0432\\u0435\\u0442\", \"\\u0440\\u0430\\u0437\\u0440\\u0430\\u0431\\u043e\\u0442\\u0447\\u0438\\u043a\", \"\\u043f\\u0440\\u043e\\u0434\\u0443\\u043a\\u0442\", \"\\u043d\\u0430\\u0447\\u0430\\u0442\\u044c\", \"\\u0447\\u0430\\u0441\", \"\\u0441\\u043e\\u0431\\u0435\\u0441\\u0435\\u0434\\u043e\\u0432\\u0430\\u043d\\u0438\\u0435\", \"\\u0432\\u0440\\u0435\\u043c\\u044f\", \"\\u043e\\u0444\\u0438\\u0441\", \"\\u043c\\u043e\\u0447\\u044c\", \"\\u0432\\u0440\\u0435\\u043c\\u044f\", \"\\u043a\\u043e\\u0442\\u043e\\u0440\\u044b\\u0435\", \"\\u043d\\u0443\\u0436\\u043d\\u044b\\u0439\", \"\\u0432\\u0430\\u0448\", \"\\u0432\\u043e\\u043f\\u0440\\u043e\\u0441\", \"\\u0445\\u043e\\u0440\\u043e\\u0448\\u0438\\u0439\", \"\\u043a\\u0430\\u0436\\u0434\\u044b\\u0439\", \"\\u043a\\u043e\\u0442\\u043e\\u0440\\u044b\\u0439\", \"\\u0441\\u0434\\u0435\\u043b\\u0430\\u0442\\u044c\", \"\\u0436\\u0438\\u0437\\u043d\\u044c\", \"\\u0432\\u0430\\u0436\\u043d\\u044b\\u0439\", \"\\u0441\\u0430\\u0439\\u0442\", \"\\u043f\\u0440\\u043e\\u0441\\u0442\\u043e\", \"\\u043f\\u043e\\u043c\\u043e\\u0447\\u044c\", \"\\u0441\\u0442\\u0430\\u0442\\u044c\", \"\\u043d\\u0430\\u043f\\u0438\\u0441\\u0430\\u0442\\u044c\", \"\\u043d\\u0430\\u0439\\u0442\\u0438\", \"\\u0438\\u043d\\u0444\\u043e\\u0440\\u043c\\u0430\\u0446\\u0438\\u044f\", \"\\u0447\\u0430\\u0441\\u0442\\u044c\", \"\\u043f\\u043e\\u043b\\u0435\\u0437\\u043d\\u044b\\u0439\", \"\\u043f\\u0440\\u043e\\u0446\\u0435\\u0441\\u0441\", \"\\u043f\\u043e\\u043c\\u043e\\u0449\\u044c\", \"\\u043b\\u044e\\u0431\\u043e\\u0439\", \"\\u0441\\u043b\\u043e\\u0436\\u043d\\u044b\\u0439\", \"\\u0440\\u0430\\u0441\\u0441\\u043a\\u0430\\u0437\\u0430\\u0442\\u044c\", \"\\u0441\\u0441\\u044b\\u043b\\u043a\\u0430\", \"\\u043f\\u043e\\u043d\\u044f\\u0442\\u044c\", \"\\u043c\\u0435\\u0441\\u044f\\u0446\", \"\\u0434\\u043e\\u043b\\u0436\\u043d\\u044b\\u0439\", \"\\u044d\\u0442\\u043e\", \"\\u0441\\u0432\\u043e\\u0439\", \"\\u0434\\u0435\\u043b\\u0430\\u0442\\u044c\", \"\\u043a\\u0443\\u0440\\u0441\", \"\\u0447\\u0435\\u043b\\u043e\\u0432\\u0435\\u043a\", \"\\u0440\\u0430\\u0431\\u043e\\u0442\\u0430\\u0442\\u044c\", \"\\u0432\\u0435\\u0441\\u044c\", \"\\u0445\\u043e\\u0442\\u0435\\u0442\\u044c\", \"\\u043a\\u043b\\u0438\\u0435\\u043d\\u0442\", \"\\u0440\\u0430\\u0431\\u043e\\u0442\\u0430\", \"\\u0437\\u043d\\u0430\\u0442\\u044c\", \"\\u043e\\u0447\\u0435\\u043d\\u044c\", \"\\u043a\\u043e\\u043c\\u0430\\u043d\\u0434\\u0430\", \"\\u0434\\u0430\\u043d\\u043d\\u044b\\u0445\", \"\\u0440\\u0430\\u0437\\u0440\\u0430\\u0431\\u043e\\u0442\\u043a\\u0430\", \"\\u0440\\u0430\\u0437\\u0440\\u0430\\u0431\\u043e\\u0442\\u0447\\u0438\\u043a\", \"\\u043f\\u0440\\u043e\\u0434\\u0443\\u043a\\u0442\", \"\\u0430\\u043d\\u0430\\u043b\\u0438\\u0442\\u0438\\u043a\", \"\\u043f\\u0440\\u0438\\u043b\\u043e\\u0436\\u0435\\u043d\\u0438\\u0435\", \"\\u043f\\u043e\\u0437\\u0438\\u0446\\u0438\\u044f\", \"\\u043c\\u043e\\u0434\\u0435\\u043b\\u044c\", \"\\u0442\\u0435\\u0445\\u043d\\u043e\\u043b\\u043e\\u0433\\u0438\\u044f\", \"\\u043a\\u0440\\u0443\\u043f\\u043d\\u044b\\u0439\", \"\\u044f\\u0437\\u044b\\u043a\", \"\\u0431\\u0438\\u0437\\u043d\\u0435\\u0441\", \"\\u043f\\u043e\\u043b\\u044c\\u0437\\u043e\\u0432\\u0430\\u0442\\u0435\\u043b\\u044c\", \"\\u0434\\u043e\\u043b\\u0436\\u043d\\u043e\\u0441\\u0442\\u044c\", \"\\u0430\\u043d\\u0430\\u043b\\u0438\\u0437\", \"\\u0437\\u0430\\u043f\\u0440\\u043e\\u0441\", \"\\u043f\\u043e\\u0434\\u0434\\u0435\\u0440\\u0436\\u043a\\u0430\", \"\\u0443\\u043f\\u0440\\u0430\\u0432\\u043b\\u0435\\u043d\\u0438\\u0435\", \"\\u0440\\u043e\\u0441\\u0442\", \"\\u0443\\u0434\\u043e\\u0432\\u043e\\u043b\\u044c\\u0441\\u0442\\u0432\\u0438\\u0435_\\u0441\\u043e\\u043e\\u0431\\u0449\\u0430\\u0442\\u044c\", \"\\u043e\\u043d\\u043b\\u0430\\u0439\\u043d\", \"\\u0440\\u0435\\u043a\\u043e\\u043c\\u0435\\u043d\\u0434\\u0430\\u0446\\u0438\\u044f\", \"\\u043f\\u0438\\u0448\\u0438\\u0442\\u0435\", \"\\u0442\\u0435\\u0445\\u043d\\u0438\\u0447\\u0435\\u0441\\u043a\\u0438\\u0439\", \"\\u043f\\u043b\\u0430\\u0442\\u0444\\u043e\\u0440\\u043c\\u0430\", \"\\u0438\\u0442\", \"\\u0430\\u043d\\u0430\\u043b\\u0438\\u0442\\u0438\\u043a\\u0430\", \"\\u0430\\u043a\\u0442\\u0438\\u0432\\u043d\\u043e\", \"\\u0431\\u043e\\u043b\\u044c\\u0448\\u043e\\u0439\", \"\\u043a\\u043e\\u043c\\u043f\\u0430\\u043d\\u0438\\u044f\", \"\\u0440\\u0430\\u0437\\u0432\\u0438\\u0442\\u0438\\u0435\", \"\\u0441\\u0435\\u0440\\u0432\\u0438\\u0441\", \"\\u043f\\u0440\\u043e\\u0435\\u043a\\u0442\", \"\\u0441\\u0438\\u0441\\u0442\\u0435\\u043c\\u0430\", \"\\u043e\\u043f\\u044b\\u0442\", \"\\u0438\\u0441\\u043a\\u0430\\u0442\\u044c\", \"\\u043d\\u0430\\u0448\", \"\\u0440\\u0430\\u0431\\u043e\\u0442\\u0430\", \"\\u0432\\u043e\\u0437\\u043c\\u043e\\u0436\\u043d\\u043e\\u0441\\u0442\\u044c\", \"\\u0443\\u0440\\u043e\\u0432\\u0435\\u043d\\u044c\", \"\\u043d\\u043e\\u0432\\u044b\\u0439\", \"\\u043f\\u0435\\u0440\\u0432\\u044b\\u0439\", \"\\u043d\\u0430\\u0447\\u0430\\u0442\\u044c\", \"\\u0442\\u0435\\u043c\\u0430\", \"\\u043d\\u0435\\u0434\\u0435\\u043b\\u044f\", \"\\u043e\\u0431\\u0443\\u0447\\u0435\\u043d\\u0438\\u0435\", \"\\u043f\\u0440\\u043e\\u0439\\u0442\\u0438\", \"\\u043d\\u0430\\u043f\\u0440\\u0430\\u0432\\u043b\\u0435\\u043d\\u0438\\u0435\", \"\\u043f\\u0440\\u0438\\u0447\\u0438\\u043d\\u0430\", \"\\u043f\\u0440\\u043e\\u0431\\u043b\\u0435\\u043c\\u0430\", \"\\u043f\\u043e\\u043b\\u0443\\u0447\\u0430\\u0442\\u044c\", \"\\u043c\\u0435\\u043d\\u0435\\u0434\\u0436\\u0435\\u0440\", \"\\u043a\\u0440\\u0443\\u0442\\u043e\\u0439\", \"\\u0441\\u043a\\u0430\\u0437\\u0430\\u0442\\u044c\", \"\\u043d\\u0435\\u043c\\u043d\\u043e\\u0433\\u043e\", \"\\u0441\\u043b\\u043e\\u0432\\u043e\", \"\\u043f\\u0440\\u0430\\u043a\\u0442\\u0438\\u043a\\u0430\", \"\\u043c\\u044b\\u0441\\u043b\\u044c\", \"\\u043f\\u0430\\u0440\\u0430\", \"\\u0434\\u0440\\u0443\\u0433\\u0438\\u0445\", \"\\u0441\\u043b\\u0435\\u0434\\u0443\\u044e\\u0449\\u0438\\u0439\", \"\\u043e\\u0442\\u043a\\u0440\\u044b\\u0442\\u044c\", \"\\u043f\\u0435\\u0440\\u0438\\u043e\\u0434\", \"\\u0441\\u0442\\u043e\\u0440\\u043e\\u043d\\u0430\", \"\\u043f\\u043e\\u043b\\u0443\\u0447\\u0438\\u0442\\u044c\\u0441\\u044f\", \"\\u0441\\u0442\\u0430\\u0440\\u0442\\u0430\\u043f\", \"\\u0441\\u043f\\u0438\\u0441\\u043e\\u043a\", \"\\u0441\\u043e\\u0437\\u0434\\u0430\\u0432\\u0430\\u0442\\u044c\", \"\\u043a\\u043e\\u0442\\u043e\\u0440\\u044b\\u0445\", \"\\u043d\\u0435\\u0431\\u043e\\u043b\\u044c\\u0448\\u043e\\u0439\", \"\\u043f\\u0440\\u043e\\u0432\\u043e\\u0434\\u0438\\u0442\\u044c\", \"\\u0438\\u043d\\u0442\\u0435\\u0440\\u0435\\u0441\\u043d\\u044b\\u0439\", \"\\u043a\\u0430\\u043d\\u0434\\u0438\\u0434\\u0430\\u0442\", \"\\u0433\\u043e\\u0434\", \"\\u043f\\u0438\\u0441\\u0430\\u0442\\u044c\", \"\\u0441\\u0435\\u0433\\u043e\\u0434\\u043d\\u044f\", \"\\u0436\\u0434\\u0430\\u0442\\u044c\", \"\\u043d\\u043e\\u0432\\u044b\\u0439\", \"\\u043e\\u0447\\u0435\\u043d\\u044c\", \"\\u043d\\u0430\\u043c\", \"\\u0434\\u0435\\u043d\\u044c\", \"\\u043a\\u043e\\u0442\\u043e\\u0440\\u0430\\u044f\", \"\\u0432\\u0441\\u0435\\u043c_\\u043f\\u0440\\u0438\\u0432\\u0435\\u0442\", \"\\u0441\\u043e\\u0431\\u0435\\u0441\\u0435\\u0434\\u043e\\u0432\\u0430\\u043d\\u0438\\u0435\", \"\\u043e\\u0444\\u0438\\u0441\", \"\\u0440\\u0443\\u043a\\u043e\\u0432\\u043e\\u0434\\u0438\\u0442\\u0435\\u043b\\u044c\", \"\\u0440\\u0430\\u0441\\u0441\\u043a\\u0430\\u0437\\u044b\\u0432\\u0430\\u0442\\u044c\", \"\\u0442\\u0435\\u0447\\u0435\\u043d\\u0438\\u0435\", \"\\u0441\\u043c\\u043e\\u0442\\u0440\\u0435\\u0442\\u044c\", \"\\u043e\\u0434\\u043d\\u0443\", \"\\u0430\\u043a\\u0442\\u0438\\u0432\\u043d\\u044b\\u0439\", \"\\u0443\\u0441\\u0442\\u0440\\u043e\\u0438\\u0442\\u044c\", \"\\u043a\\u0432\\u0430\\u0440\\u0442\\u0438\\u0440\\u0430\", \"\\u043e\\u0441\\u043d\\u043e\\u0432\\u043d\\u043e\\u0439\", \"\\u0432\\u043d\\u0435\\u0434\\u0440\\u0435\\u043d\\u0438\\u0435\", \"\\u0437\\u0430\\u043a\\u0430\\u0437\\u0447\\u0438\\u043a\", \"\\u043a\\u043e\\u0440\\u043f\\u043e\\u0440\\u0430\\u0442\\u0438\\u0432\\u043d\\u044b\\u0439\", \"\\u043e\\u0431\\u044f\\u0437\\u0430\\u0442\\u0435\\u043b\\u044c\\u043d\\u043e\", \"\\u0432\\u044b\\u043f\\u043e\\u043b\\u043d\\u0435\\u043d\\u0438\\u0435\", \"\\u0434\\u0440\\u0443\\u0433\\u0438\\u043c\\u0438\", \"\\u043e\\u043a\\u043e\\u043d\\u0447\\u0430\\u043d\\u0438\\u0435\", \"\\u0441\\u043b\\u043e\\u0436\\u043d\\u043e\\u0441\\u0442\\u044c\", \"\\u0442\\u043e\\u0447\\u043a\\u0430_\\u0437\\u0440\\u0435\\u043d\\u0438\\u0435\", \"\\u043e\\u0431\\u0437\\u043e\\u0440\", \"\\u043e\\u0446\\u0435\\u043d\\u043a\\u0430\", \"\\u043f\\u043e\\u043b\", \"\\u0440\\u0438\\u0441\\u043a\", \"\\u043f\\u043e\\u0442\\u0435\\u043d\\u0446\\u0438\\u0430\\u043b\\u044c\\u043d\\u044b\\u0439\", \"\\u0440\\u0430\\u0437\\u043e\\u0431\\u0440\\u0430\\u0442\\u044c\", \"\\u043f\\u043e\\u0440\\u0430\\u0431\\u043e\\u0442\\u0430\\u0442\\u044c\", \"\\u044d\\u043b\\u0435\\u043c\\u0435\\u043d\\u0442\", \"\\u043f\\u0440\\u043e\\u0434\\u043e\\u043b\\u0436\\u0438\\u0442\\u044c\", \"\\u043d\\u0435\\u0441\\u043a\\u043e\\u043b\\u044c\\u043a\\u043e\", \"\\u0443\\u043c\\u0435\\u043d\\u0438\\u0435\", \"\\u0440\\u0435\\u0448\\u0438\\u0442\\u044c\", \"\\u043a\\u043e\\u043d\\u0435\\u0446\", \"\\u0438\\u0437\\u043c\\u0435\\u043d\\u0435\\u043d\\u0438\\u0435\", \"\\u0440\\u0435\\u0448\\u0430\\u0442\\u044c\", \"\\u0443\\u0432\\u0438\\u0434\\u0435\\u0442\\u044c\", \"\\u0441\\u043b\\u0443\\u0447\\u0430\\u0439\", \"\\u043f\\u043e\\u043d\\u044f\\u0442\\u043d\\u044b\\u0439\", \"\\u0442\\u0435\\u043a\\u0443\\u0449\\u0438\\u0439\", \"\\u0434\\u043e\\u0432\\u043e\\u043b\\u044c\\u043d\\u043e\", \"\\u0440\\u0435\\u043a\\u043e\\u043c\\u0435\\u043d\\u0434\\u043e\\u0432\\u0430\\u0442\\u044c\", \"\\u043f\\u0440\\u043e\\u0433\\u0440\\u0430\\u043c\\u043c\\u0438\\u0440\\u043e\\u0432\\u0430\\u043d\\u0438\\u0435\", \"\\u0437\\u0430\\u043a\\u043e\\u043d\\u0447\\u0438\\u0442\\u044c\", \"\\u0442\\u0435\\u043e\\u0440\\u0438\\u044f\", \"\\u0441\\u043d\\u043e\\u0432\\u0430\", \"\\u043a\\u0430\\u0447\\u0435\\u0441\\u0442\\u0432\\u0435\\u043d\\u043d\\u044b\\u0439\", \"\\u043e\\u0447\\u0435\\u0440\\u0435\\u0434\\u043d\\u043e\\u0439\", \"\\u0434\\u0440\\u0443\\u0433\\u0438\\u043c\", \"\\u043d\\u0430\\u0447\\u0438\\u043d\\u0430\\u0442\\u044c\\u0441\\u044f\", \"\\u043f\\u0440\\u0438\\u0433\\u043b\\u0430\\u0448\\u0430\\u0442\\u044c\", \"\\u0443\\u043d\\u0438\\u0432\\u0435\\u0440\\u0441\\u0438\\u0442\\u0435\\u0442\", \"\\u043f\\u0440\\u043e\\u0434\\u0430\\u0432\\u0430\\u0442\\u044c\", \"\\u0431\\u043e\\u043b\\u044c\\u0448\\u0438\\u043d\\u0441\\u0442\\u0432\\u043e\", \"\\u043e\\u0436\\u0438\\u0434\\u0430\\u0442\\u044c\", \"\\u0432\\u043c\\u0435\\u0441\\u0442\\u043e\", \"\\u0442\\u044b\\u0441\\u044f\\u0447\\u0430\", \"\\u043f\\u0440\\u0438\\u043c\\u0435\\u0440\\u043d\\u043e\", \"\\u0441\\u0430\\u043c\\u043e\\u043c_\\u0434\\u0435\\u043b\\u043e\", \"\\u043c\\u0430\\u0448\\u0438\\u043d\\u043d\\u044b\\u0439_\\u043e\\u0431\\u0443\\u0447\\u0435\\u043d\\u0438\\u0435\", \"\\u0441\\u0442\\u0440\\u0430\\u0434\\u0430\\u0442\\u044c\", \"\\u0437\\u0430\\u043d\\u044f\\u0442\\u044c\", \"\\u0437\\u0430\\u0434\\u0430\\u0447\\u0430\", \"\\u0447\\u0430\\u0441\", \"\\u043f\\u0443\\u0442\\u044c\", \"\\u0432\\u0442\\u043e\\u0440\\u043e\\u0439\", \"\\u043d\\u0438\\u043a\\u0442\\u043e\", \"\\u0437\\u0430\\u0434\\u0430\\u043d\\u0438\\u0435\", \"\\u043f\\u043e\\u0445\\u043e\\u0436\\u0438\\u0439\", \"\\u043a\\u043e\\u0442\\u043e\\u0440\\u044b\\u043c\\u0438\", \"\\u0440\\u0430\\u0437\\u0431\\u0438\\u0440\\u0430\\u0442\\u044c\\u0441\\u044f\", \"\\u043a\\u0443\\u0447\\u0430\", \"\\u043a\\u0438\\u0442\\u0430\\u0439\\u0441\\u043a\\u0438\\u0439\", \"\\u043d\\u0430\\u0443\\u043a\\u0430\", \"\\u0441\\u043f\\u0438\\u043a\\u0435\\u0440\", \"\\u0441\\u043f\\u0435\\u0446\\u0438\\u0430\\u043b\\u044c\\u043d\\u043e\\u0441\\u0442\\u044c\", \"\\u0441\\u043e\\u0442\\u043d\\u044f\", \"\\u0438\\u0449\\u0443\", \"\\u0437\\u0432\\u043e\\u043d\\u043e\\u043a\", \"\\u043f\\u043e\\u0437\\u043d\\u0430\\u043a\\u043e\\u043c\\u0438\\u0442\\u044c\\u0441\\u044f\", \"\\u043f\\u0440\\u0438\\u0433\\u043b\\u0430\\u0441\\u0438\\u0442\\u044c\", \"\\u0437\\u0430\\u043c\\u0435\\u0447\\u0430\\u0442\\u0435\\u043b\\u044c\\u043d\\u044b\\u0439\", \"\\u0432\\u043e\\u0439\\u0442\\u0438\", \"\\u0441\\u0442\\u0440\\u0430\\u043d\\u0438\\u0447\\u043a\\u0430\", \"\\u0438\\u044e\\u043d\\u044c\", \"\\u043e\\u0440\\u0433\\u0430\\u043d\\u0438\\u0437\\u043e\\u0432\\u0430\\u0442\\u044c\", \"\\u043e\\u0442\\u0434\\u043e\\u0445\\u043d\\u0443\\u0442\\u044c\", \"\\u0443\\u0447\\u0435\\u0431\\u043d\\u044b\\u0439\", \"\\u043c\\u0430\\u0441\\u0441\\u0430\", \"\\u0434\\u0438\\u043f\\u043b\\u043e\\u043c\", \"\\u0431\\u043e\\u0440\\u043e\\u0442\\u044c\\u0441\\u044f\", \"\\u043d\\u0430\\u043f\\u043e\\u043c\\u0438\\u043d\\u0430\\u0442\\u044c\", \"\\u043e\\u043a\", \"\\u044f\\u0432\\u043b\\u044f\\u0442\\u044c\\u0441\\u044f\", \"\\u0441\\u0447\\u0438\\u0442\\u0430\\u0442\\u044c\", \"\\u043a\\u043e\\u043d\\u0442\\u0430\\u043a\\u0442\", \"\\u043c\\u043d\\u043e\\u0433\\u0438\\u0435\", \"\\u043e\\u043a\\u0430\\u0437\\u0430\\u0442\\u044c\\u0441\\u044f\", \"\\u043d\\u0430\\u0437\\u0430\\u0434\", \"\\u043f\\u043e\\u0439\\u0442\\u0438\", \"\\u043f\\u0441\\u0438\\u0445\\u043e\\u043b\\u043e\\u0433\\u0438\\u044f\", \"\\u043e\\u0442\\u0441\\u0443\\u0442\\u0441\\u0442\\u0432\\u0438\\u0435\", \"\\u0433\\u043b\\u0430\\u0437\", \"\\u0445\\u0432\\u0430\\u0442\\u0430\\u0442\\u044c\", \"\\u0443\\u0441\\u043f\\u0435\\u0442\\u044c\", \"\\u043c\\u0438\\u043d\\u0438\\u043c\\u0443\\u043c\", \"\\u0430\\u0440\\u0435\\u043d\\u0434\\u0430\", \"\\u0442\\u0435\\u043b\\u0435\\u0433\\u0440\\u0430\\u043c\\u043c_\\u043a\\u0430\\u043d\\u0430\\u043b\", \"\\u043d\\u0430\\u043f\\u0440\\u044f\\u043c\\u0443\\u044e\", \"\\u043f\\u0435\\u0440\\u0438\\u043e\\u0434\\u0438\\u0447\\u0435\\u0441\\u043a\\u0438\", \"\\u043f\\u043e\\u0441\\u043b\\u0435\\u0434\\u0441\\u0442\\u0432\\u0438\\u0435\", \"\\u0432\\u043e\\u0432\\u0440\\u0435\\u043c\\u044f\", \"\\u0432\\u0435\\u0437\\u0434\\u0435\", \"\\u0441\\u0442\\u043e\\u044f\\u0442\\u044c\", \"\\u043f\\u0435\\u0440\\u0435\\u0441\\u0442\\u0430\\u0442\\u044c\", \"\\u0441\\u0435\\u043a\\u0440\\u0435\\u0442\\u043d\\u044b\\u0439\", \"\\u0437\\u0430\\u0440\\u0430\\u0431\\u043e\\u0442\\u0430\\u0442\\u044c\", \"\\u043f\\u0443\\u0431\\u043b\\u0438\\u0447\\u043d\\u044b\\u0439\", \"\\u0438\\u0441\\u043a\\u0440\\u0435\\u043d\\u043d\\u0435\", \"\\u043c\\u0435\\u0441\\u0441\\u0435\\u043d\\u0434\\u0436\\u0435\\u0440\", \"\\u0443\\u0441\\u0442\\u043e\\u0439\\u0447\\u0438\\u0432\\u044b\\u0439\", \"\\u043a\\u0430\\u0434\\u0440\", \"\\u0437\\u0430\\u0432\\u0435\\u0441\\u0442\\u0438\", \"\\u043f\\u043e\\u0441\\u0442\", \"\\u0441\\u0442\\u0430\\u0442\\u044c\\u044f\", \"\\u0442\\u0435\\u0441\\u0442\\u0438\\u0440\\u043e\\u0432\\u0430\\u043d\\u0438\\u0435\", \"\\u043f\\u0440\\u043e\\u0434\\u043e\\u043b\\u0436\\u0435\\u043d\\u0438\\u0435\", \"\\u0440\\u0435\\u043a\\u043b\\u0430\\u043c\\u0430\", \"\\u043c\\u0430\\u0440\\u043a\\u0435\\u0442\\u0438\\u043d\\u0433\", \"\\u043f\\u0440\\u0435\\u0434\\u044b\\u0434\\u0443\\u0449\\u0438\\u0439\", \"\\u0437\\u043d\\u0430\\u0447\\u0435\\u043d\\u0438\\u0435\", \"\\u0432\\u043b\\u0438\\u044f\\u043d\\u0438\\u0435\", \"\\u0437\\u0430\\u0449\\u0438\\u0442\\u0430\", \"\\u0444\\u0438\\u043b\\u044c\\u043c\", \"\\u043f\\u0440\\u043e\\u0434\\u0430\\u0432\\u0435\\u0446\", \"\\u043d\\u0435\\u0434\\u0432\\u0438\\u0436\\u0438\\u043c\\u043e\\u0441\\u0442\\u044c\", \"\\u0437\\u0430\\u0434\\u0430\\u0447\\u043a\\u0430\", \"\\u0440\\u0430\\u0434\\u043e\\u0441\\u0442\\u044c_\\u0441\\u043e\\u043e\\u0431\\u0449\\u0430\\u0442\\u044c\", \"\\u043f\\u0440\\u043e\\u0441\\u043c\\u043e\\u0442\\u0440\\u0435\\u0442\\u044c\", \"\\u0441\\u0442\\u0440\\u0430\\u043d\\u0438\\u0446\\u0430_\\u0443\\u0441\\u043b\\u0443\\u0433\\u0430\", \"\\u043f\\u043e\\u043b\\u044c\\u0437\\u043e\\u0432\\u0430\\u0442\\u0435\\u043b\\u044c\\u0441\\u043a\\u0438\\u0439_\\u0438\\u043d\\u0442\\u0435\\u0440\\u0444\\u0435\\u0439\\u0441\", \"\\u043e\\u043a\\u0430\\u0437\\u044b\\u0432\\u0430\\u0442\\u044c_\\u0431\\u0438\\u0437\\u043d\\u0435\\u0441\", \"\\u0443\\u0441\\u043b\\u0443\\u0433\\u0438\", \"\\u0438\\u043d\\u0441\\u0442\\u0430\\u0433\\u0440\\u0430\\u043c\", \"\\u043f\\u0440\\u043e\\u0438\\u0437\\u0432\\u043e\\u0434\\u0438\\u0442\\u0435\\u043b\\u044c\\u043d\\u043e\\u0441\\u0442\\u044c\", \"\\u043a\\u043e\\u043d\\u0432\\u0435\\u0440\\u0441\\u0438\\u044f\", \"\\u043e\\u043f\\u0442\\u0438\\u043c\\u0438\\u0437\\u0430\\u0446\\u0438\\u044f\", \"\\u043f\\u043e\\u043a\\u0443\\u043f\\u0430\\u0442\\u0435\\u043b\\u044c\", \"\\u043e\\u0446\\u0435\\u043d\\u0438\\u0432\\u0430\\u0442\\u044c\", \"\\u0443\\u0441\\u0442\\u0430\\u043d\\u043e\\u0432\\u043a\\u0430\", \"\\u0430\\u0432\\u0442\\u043e\\u043c\\u043e\\u0431\\u0438\\u043b\\u044c\", \"\\u043a\\u043b\\u0438\\u043a\", \"\\u0434\\u043e\\u0432\\u0435\\u0440\\u0438\\u0442\\u0435\\u043b\\u044c\\u043d\\u044b\\u0439\", \"\\u043f\\u0440\\u043e\\u0435\\u043a\\u0442\\u0438\\u0440\\u043e\\u0432\\u0430\\u043d\\u0438\\u0435\", \"\\u0440\\u0435\\u0437\\u044e\\u043c\\u0435\", \"\\u0432\\u0430\\u043a\\u0430\\u043d\\u0441\\u0438\\u044f\", \"\\u043d\\u0430\\u0432\\u044b\\u043a\", \"\\u0442\\u0435\\u0441\\u0442\", \"\\u0437\\u043d\\u0430\\u0447\\u043e\\u043a\", \"\\u043f\\u0440\\u043e\\u0432\\u0435\\u0440\\u043a\\u0430_\\u043d\\u0430\\u0432\\u044b\\u043a\", \"\\u0441\\u043b\\u0435\\u0434\\u0443\\u044e\\u0449\\u0438\\u0439_\\u043f\\u0440\\u043e\\u0439\\u0442\\u0438\", \"\\u0441\\u0442\\u0430\\u0436\\u0438\\u0440\\u043e\\u0432\\u043a\\u0430\", \"\\u043e\\u0444\\u043b\\u0430\\u0439\\u043d\", \"\\u0442\\u0433\", \"\\u0436\\u0438\\u0432\\u043e\\u0439\", \"\\u0440\\u044b\\u043d\\u043e\\u043a_\\u0442\\u0440\\u0443\\u0434\", \"\\u0441\\u043e\\u0438\\u0441\\u043a\\u0430\\u0442\\u0435\\u043b\\u044c\", \"\\u0433\\u0440\\u0430\\u0436\\u0434\\u0430\\u043d\\u0438\\u043d\", \"\\u043f\\u043e\\u043b\\u044c\\u0448\\u0430\", \"\\u0434\\u043e\\u0431\\u0440\\u043e\", \"\\u0442\\u0435\\u043b\\u0435\\u0433\\u0440\\u0430\\u043c\\u043c\\u0430\", \"\\u0438\\u0449\\u0435\\u043c\", \"\\u043f\\u0440\\u0435\\u0434\\u043c\\u0435\\u0442\\u043d\\u044b\\u0439\", \"\\u043f\\u0440\\u043e\\u043a\\u0430\\u0447\\u0438\\u0432\\u0430\\u0442\\u044c\", \"\\u044d\\u043a\\u0441\\u043f\\u0435\\u0440\\u0442\\u043d\\u044b\\u0439\", \"\\u0440\\u0435\\u043b\\u043e\\u043a\\u0430\\u0446\\u0438\\u0435\\u0439\", \"\\u043a\\u0430\\u0448\\u0430\", \"\\u043a\\u0430\\u0440\\u044c\\u0435\\u0440\\u043d\\u044b\\u0439_\\u043a\\u043e\\u043d\\u0441\\u0443\\u043b\\u044c\\u0442\\u0430\\u043d\\u0442\", \"\\u0440\\u043e\\u0431\\u043e\\u0442\\u043e\\u0442\\u0435\\u0445\\u043d\\u0438\\u043a\\u0430\", \"\\u043d\", \"\\u043f\\u0440\\u043e\\u0430\\u043a\\u0442\\u0438\\u0432\\u043d\\u043e\\u0433\\u043e\", \"\\u043a\\u0430\\u0440\\u044c\\u0435\\u0440\\u043d\\u044b\\u0439\\u043a\\u043e\\u043d\\u0441\\u0443\\u043b\\u044c\\u0442\\u0430\\u043d\\u0442\", \"\\u043e\\u0431\\u043e\", \"\\u043a\\u0440\\u0438\\u0442\\u0435\\u0440\\u0438\\u0439\", \"\\u043e\\u0442\\u043f\\u0440\\u0430\\u0432\\u0438\\u0442\\u044c\", \"\\u043e\\u0436\\u0438\\u0434\\u0430\\u043d\\u0438\\u0435\", \"\\u0441\\u043f\\u0435\\u0446\\u0438\\u0430\\u043b\\u0438\\u0441\\u0442\", \"\\u0442\\u0435\\u0441\\u0442\\u043e\\u0432\\u044b\\u0439\", \"\\u043f\\u043e\\u0432\\u043e\\u0434\", \"\\u043b\\u0438\\u0431\\u043e\", \"\\u043a\\u0430\\u043d\\u0434\\u0438\\u0434\\u0430\\u0442\", \"\\u043f\\u043e\\u0434\\u0445\\u043e\\u0434\", \"\\u0437\", \"\\u043e\\u0441\\u043d\\u043e\\u0432\\u043d\\u044b\\u0439\", \"\\u043f\\u043e\\u0438\\u0441\\u043a\", \"\\u0432\\u0438\\u043d\\u043e\\u0432\\u0430\\u0442\\u044b\\u0439\", \"\\u0440\\u0430\\u0431\\u043e\\u0442\\u043e\\u0434\\u0430\\u0442\\u0435\\u043b\\u044c\", \"\\u043a\\u043e\\u0442\\u043e\\u0440\\u043e\\u0439\", \"\\u0438\\u043d\\u0441\\u0442\\u0440\\u0443\\u043c\\u0435\\u043d\\u0442\", \"\\u0434\\u0435\\u0439\\u0441\\u0442\\u0432\\u0438\\u0435\", \"\\u0441\\u0443\\u0442\\u044c\", \"\\u043f\\u0440\\u043e\\u0433\\u0440\\u0430\\u043c\\u043c\\u0438\\u0441\\u0442\", \"\\u043f\\u043e\\u0434\\u0440\\u043e\\u0431\\u043d\\u043e\\u0441\\u0442\\u044c\", \"\\u043e\\u043a\\u0442\\u044f\\u0431\\u0440\\u044c\", \"\\u043c\\u0435\\u0442\\u043e\\u0434\", \"\\u043f\\u043b\\u043e\\u0449\\u0430\\u0434\\u043a\\u0430\", \"\\u043a\\u043e\\u0444\\u0435\", \"\\u043f\\u0435\\u0440\\u0435\\u0445\\u043e\\u0434\", \"\\u0442\\u0435\\u0445\\u043d\\u043e\\u043b\\u043e\\u0433\\u0438\\u0447\\u0435\\u0441\\u043a\\u0438\\u0439\", \"\\u043f\\u043e\\u0434\\u0431\\u043e\\u0440\", \"\\u0433\\u0438\\u0431\\u043a\\u0438\\u0439\", \"\\u043e\\u0431\\u0435\\u0441\\u043f\\u0435\\u0447\\u0438\\u0432\\u0430\\u0442\\u044c\", \"\\u043f\\u043b\\u0430\\u0442\\u043d\\u044b\\u0439\", \"\\u043e\\u0444\\u0438\\u0441\\u043d\\u044b\\u0439\", \"\\u043e\\u0431\\u0435\\u0434\", \"\\u043c\\u043e\\u043d\\u0438\\u0442\\u043e\\u0440\\u0438\\u043d\\u0433\", \"\\u0441\\u0430\\u043c\\u0443\\u044e\", \"\\u043f\\u043e\\u0432\\u044b\\u0441\\u0438\\u0442\\u044c_\\u044d\\u0444\\u0444\\u0435\\u043a\\u0442\\u0438\\u0432\\u043d\\u043e\\u0441\\u0442\\u044c\", \"\\u0437\\u0430\\u0440\\u0435\\u0433\\u0438\\u0441\\u0442\\u0440\\u0438\\u0440\\u043e\\u0432\\u0430\\u0442\\u044c\\u0441\\u044f\", \"\\u043d\\u043e\\u0443\\u0442\\u0431\\u0443\\u043a\", \"\\u043f\\u0440\\u043e\\u0435\\u043a\\u0442\\u0438\\u0440\\u043e\\u0432\\u0430\\u0442\\u044c\", \"\\u043f\\u043e\\u0441\\u0442\\u0430\\u0432\\u043a\\u0430\", \"\\u0442\\u0435\\u0441\\u0442\\u0438\\u0440\\u043e\\u0432\\u0449\\u0438\\u043a\\u043e\\u0432\", \"\\u043f\\u0438\\u0448\\u0438\", \"\\u0432\\u044b\\u0433\\u043e\\u0434\\u043d\\u044b\\u0439\", \"\\u043f\\u0440\\u043e\\u0447\\u0438\\u0445\", \"\\u043f\\u0440\\u043e\\u0444\\u0438\\u043b\\u044c\\u043d\\u044b\\u0439\", \"\\u0434\\u0438\\u0437\\u0430\\u0439\\u043d\\u0435\\u0440\", \"\\u0432\\u0441\\u0442\\u0440\\u0435\\u0447\\u0430\", \"\\u0441\\u043e\\u0437\\u0434\\u0430\\u0442\\u044c\", \"\\u0440\\u0435\\u043a\\u0440\\u0443\\u0442\\u0435\\u0440\", \"\\u043f\\u0440\\u0435\\u0434\\u043e\\u0441\\u0442\\u0430\\u0432\\u043b\\u044f\\u0442\\u044c\", \"\\u0434\\u043e\\u0441\\u0442\\u0438\\u0433\\u043d\\u0443\\u0442\\u044c\", \"\\u043f\\u043e\\u043f\\u0443\\u043b\\u044f\\u0440\\u043d\\u044b\\u0439\", \"\\u0441\\u043e\\u0431\\u0438\\u0440\\u0430\\u0442\\u044c\", \"\\u0431\\u0430\\u0437\\u043e\\u0432\\u044b\\u0439\", \"\\u043e\\u0431\\u044a\\u044f\\u0441\\u043d\\u0438\\u0442\\u044c\", \"\\u043c\\u0430\\u0433\\u0430\\u0437\\u0438\\u043d\", \"\\u043e\\u043a\\u043e\\u043b\\u043e\", \"\\u043e\\u0442\\u043f\\u0443\\u0441\\u043a\", \"\\u0432\\u0438\\u043b\\u043a\\u0430\", \"\\u0440\\u0435\\u0433\\u0443\\u043b\\u044f\\u0440\\u043d\\u044b\\u0439\", \"\\u0441\\u043f\\u043e\\u0441\\u043e\\u0431\\u0441\\u0442\\u0432\\u043e\\u0432\\u0430\\u0442\\u044c\", \"\\u0448\\u0435\\u0440\", \"\\u0442\\u0430\\u0439\\u043c\", \"\\u0435\\u0432\\u0440\\u043e\", \"\\u0430\\u0434\\u043c\\u0438\\u043d\\u0438\\u0441\\u0442\\u0440\\u0438\\u0440\\u043e\\u0432\\u0430\\u043d\\u0438\\u0435\", \"\\u043e\\u0442\\u043a\\u0430\\u0437\\u043e\\u0443\\u0441\\u0442\\u043e\\u0439\\u0447\\u0438\\u0432\\u043e\\u0441\\u0442\\u044c\", \"\\u0431\\u0430\\u043d\\u043d\\u0435\\u0440\", \"\\u043a\\u0430\\u0440\\u044c\\u0435\\u0440\\u043d\\u044b\\u0439_\\u043a\\u043e\\u043d\\u0441\\u0443\\u043b\\u044c\\u0442\\u0438\\u0440\\u043e\\u0432\\u0430\\u043d\\u0438\\u0435\", \"\\u0441\\u0442\\u0435\\u043f\\u0435\\u043d\\u044c\", \"\\u043f\\u0430\\u0439\\u043f\", \"\\u043f\\u0441\\u0435\\u0432\\u0434\\u043e\\u043d\\u0438\\u043c\", \"\\u0430\\u043b\\u0438\\u0441\\u0430\", \"\\u043a\\u043e\\u043c\\u043c\\u0443\\u043d\\u0438\\u043a\\u0430\\u0446\\u0438\\u043e\\u043d\\u043d\\u044b\\u0439\", \"\\u0442\\u0430\\u0431\\u043b\\u0438\\u0447\\u043a\\u0430\", \"\\u043f\\u0440\\u0438\\u0437\\u0432\\u0430\\u043d\\u0438\\u0435\", \"\\u0441\\u043b\\u044b\\u0448\\u0430\\u0442\\u044c\", \"\\u0443\\u0441\\u043f\\u0435\\u0445\", \"\\u0432\\u044b\\u0432\\u043e\\u0434\", \"\\u0434\\u043e\\u0432\\u0435\\u0440\\u0438\\u0435\", \"\\u043f\\u0430\\u043a\\u0435\\u0442\", \"\\u043a\\u043e\\u043d\\u043a\\u0440\\u0435\\u0442\\u043d\\u044b\\u0439\", \"\\u0434\\u0430\\u043d\\u043d\\u044b\\u0435\", \"\\u0442\\u0438\\u043f\", \"\\u043c\\u0438\\u0440\", \"\\u043b\\u0438\\u0431\\u043e\", \"\\u043f\\u0440\\u043e\\u0444\\u0438\\u043b\\u044c\", \"\\u043f\\u0440\\u043e\\u0434\\u0430\\u0436\\u0430\", \"\\u0446\\u0435\\u043b\\u043e\\u0435\", \"\\u0440\\u0435\\u0431\\u044f\\u0442\\u0430\", \"\\u043d\\u0430\\u0434\\u0435\\u044f\\u0442\\u044c\\u0441\\u044f\", \"\\u043e\\u0442\\u0437\\u044b\\u0432\", \"\\u043a\\u043e\\u0442\\u043e\\u0440\\u043e\\u043c\", \"\\u0434\\u043e\\u043c\", \"\\u0443\\u0447\\u0430\\u0441\\u0442\\u0432\\u043e\\u0432\\u0430\\u0442\\u044c\", \"\\u0433\\u043e\\u043b\\u043e\\u0441\", \"\\u0447\\u0438\\u0441\\u0442\\u044b\\u0439\", \"\\u0443\\u043b\\u0443\\u0447\\u0448\\u0430\\u0442\\u044c\", \"\\u0440\\u0435\\u0439\\u0442\\u0438\\u043d\\u0433\", \"\\u043f\\u043e\\u043a\\u0443\\u043f\\u043a\\u0430\", \"\\u0432\\u044b\\u0440\\u0430\\u0437\\u0438\\u0442\\u044c\", \"\\u0431\\u043b\\u0430\\u0433\\u043e\\u0434\\u0430\\u0440\\u043d\\u043e\\u0441\\u0442\\u044c\", \"\\u0432\\u043a\\u043b\\u0430\\u0434\", \"\\u043d\\u0430\\u0431\\u0440\\u0430\\u0442\\u044c\", \"\\u043c\\u0435\\u0442\\u0440\\u0438\\u043a\\u0430\", \"\\u043b\\u0438\\u0434\", \"\\u043c\\u0435\\u0447\\u0442\\u0430\\u0442\\u044c\", \"\\u0431\\u0440\\u0430\\u0443\\u0437\\u0435\\u0440\", \"\\u0443\\u043c\\u043d\\u044b\\u0439\", \"\\u0431\\u0430\\u043b\\u043b\", \"\\u0432\\u043d\\u0438\\u043c\\u0430\\u0442\\u0435\\u043b\\u044c\\u043d\\u044b\\u0439\", \"\\u043d\\u043e\\u043b\\u044c\", \"\\u0432\\u0430\\u043b\\u0435\\u043d\\u0442\\u0438\\u043d\", \"\\u0432\\u0438\\u043d\\u043e\\u0432\\u0430\\u0442\\u044b\\u0439\", \"\\u043e\\u0431\\u044f\\u0437\\u0430\\u043d\\u043d\\u044b\\u0439\", \"\\u043d\\u0430\\u0446\\u0438\\u044f\", \"\\u043f\\u0440\\u0430\\u043a\\u0442\\u0438\\u043a\\u0443\\u043c\", \"\\u0432\\u044b\\u0431\\u043e\\u0440\", \"\\u043a\\u043d\\u0438\\u0433\\u0430\", \"\\u043f\\u0440\\u0430\\u0432\\u0438\\u043b\\u044c\\u043d\\u044b\\u0439\", \"\\u043f\\u043e\\u0434\\u0440\\u043e\\u0431\\u043d\\u043e\", \"\\u0442\\u043e\\u043f\", \"\\u0432\\u043b\\u0430\\u0434\\u0435\\u043d\\u0438\\u0435\", \"\\u0441\\u043e\\u0446\\u0438\\u0430\\u043b\\u044c\\u043d\\u044b\\u0439\", \"\\u043e\\u0434\\u043d\\u043e\", \"\\u043e\\u0444\\u0438\\u0446\\u0438\\u0430\\u043b\\u044c\\u043d\\u044b\\u0439\", \"\\u043b\\u044e\\u0431\\u043e\\u0432\\u044c\", \"\\u0441\\u043b\\u0443\\u0448\\u0430\\u0442\\u044c\", \"\\u043a\\u043b\\u0443\\u0431\", \"\\u0432\\u044b\\u043f\\u0443\\u0441\\u043a\", \"\\u0434\\u043b\\u0438\\u043d\\u043d\\u044b\\u0439\", \"\\u0440\\u0435\\u043a\\u043b\\u0430\\u043c\\u043d\\u044b\\u0439\", \"\\u0437\\u0434\\u043e\\u0440\\u043e\\u0432\\u043e\", \"\\u0432\\u044b\\u0441\\u043e\\u043a\\u043e\\u043d\\u0430\\u0433\\u0440\\u0443\\u0436\\u0435\\u043d\\u043d\\u044b\\u0445\", \"\\u0441\\u043d\\u0433\", \"\\u0443\\u0433\\u0440\\u043e\\u0437\\u0430\", \"\\u043a\\u043e\\u043d\\u043a\\u0440\\u0435\\u0442\\u043d\\u043e\", \"\\u043f\\u0440\\u043e\\u0448\\u043b\\u043e\\u0435\", \"\\u043f\\u043e\\u043b\\u0438\\u0442\\u0438\\u0447\\u0435\\u0441\\u043a\\u0438\\u0439\", \"\\u043b\\u0430\\u0431\\u043e\\u0440\\u0430\\u0442\\u043e\\u0440\\u0438\\u044f\", \"\\u0441\\u0435\\u0440\\u0433\\u0435\\u0439\", \"\\u0442\\u0432\\u043e\\u0440\\u0447\\u0435\\u0441\\u0442\\u0432\\u043e\", \"\\u0432\\u044b\\u0436\\u0438\\u0442\\u044c\", \"\\u043f\\u0440\\u0438\\u043e\\u0431\\u0440\\u0435\\u0441\\u0442\\u0438\", \"\\u0431\\u0438\\u0437\\u043d\\u0435\\u0441\\u043c\\u0435\\u043d\", \"\\u043b\\u0430\\u0439\\u043a\\u0430\\u0439\\u0442\\u0435\", \"\\u0431\\u0443\\u043c\\u0430\\u0436\\u043d\\u044b\\u0439\", \"\\u043b\\u0438\\u0442\\u0435\\u0440\\u0430\\u0442\\u0443\\u0440\\u0430\", \"\\u0430\\u0432\\u0442\\u043e\\u0440\", \"\\u043c\\u043d\\u043e\\u0439\", \"\\u043a\\u043e\\u043d\\u043a\\u0443\\u0440\\u0435\\u043d\\u0442\", \"\\u043a\\u0441\\u0442\\u0430\\u0442\\u0438\", \"\\u0446\\u0435\\u043d\\u0430\", \"\\u0440\\u0430\\u0437\\u043e\\u0431\\u0440\\u0430\\u0442\\u044c\\u0441\\u044f\", \"\\u0435\\u0434\\u0438\\u043d\\u0441\\u0442\\u0432\\u0435\\u043d\\u043d\\u044b\\u0439\", \"\\u0430\\u043b\\u0435\\u043a\\u0441\\u0430\\u043d\\u0434\\u0440\", \"\\u0442\\u0443\\u0434\\u0430\", \"\\u0441\\u043e\\u0446\\u0441\\u0435\\u0442\\u044c\", \"\\u0447\\u0443\\u0434\\u043e\", \"\\u0432\\u043a\\u043e\\u043d\\u0442\\u0430\\u043a\\u0442\\u0435\", \"\\u043a\\u043e\\u043b\", \"\\u043d\\u0438\\u0433\\u0434\\u0435\", \"\\u043f\\u043e\\u0434\\u043f\\u0438\\u0448\\u0438\\u0442\\u0435\\u0441\\u044c\", \"\\u0441\\u0432\\u0438\\u0442\\u0435\\u0440\", \"\\u0441\\u0438\\u043b\\u0438\\u043a\\u043e\\u043d\\u043e\\u0432\\u044b\\u0439\", \"\\u043c\\u043e\\u043d\\u0442\\u0430\\u0436\", \"\\u043f\\u0440\\u0438\\u043a\\u0440\\u0443\\u0442\\u0438\\u0442\\u044c\", \"\\u043c\\u0435\\u043d\\u044c\\u0448\\u0435\", \"\\u043a\\u0430\\u0441\\u0441\\u0430\", \"\\u0441\\u0443\\u0434\", \"\\u0430\\u0441\\u0438\\u043c\\u043c\\u0435\\u0442\\u0440\\u0438\\u0447\\u043d\\u044b\\u0439\", \"\\u0432\\u044b\\u0436\\u0438\\u0432\\u0430\\u043d\\u0438\\u044f\", \"\\u0434\\u043e\\u0432\\u0435\\u0441\\u0442\\u0438\\u0441\\u044c\", \"\\u043a\\u043e\\u043d\\u043a\\u0443\\u0440\\u0435\\u043d\\u0442\\u043e\\u0432\", \"\\u043e\\u043a\\u043e\\u043d\\u043d\\u044b\\u0435\", \"\\u0440\\u0430\\u0441\\u0441\\u0447\\u0438\\u0442\\u0430\\u043b\\u0430\", \"\\u0441\\u043a\\u043e\\u043b\\u044c\\u0437\\u0438\\u0442\\u044c\", \"\\u044d\\u043c\\u0431\\u0435\\u0434\\u0434\\u0438\\u043d\\u0433\\u0430\\u0445\", \"\\u0440\\u0430\\u0441\\u0441\\u0447\\u0438\\u0442\\u0430\\u0442\\u044c\", \"\\u0441\\u043e\\u043d\", \"\\u0430\\u043d\\u0430\\u043b\\u043e\\u0433\\u0438\\u0447\\u043d\\u044b\\u0439\", \"\\u043d\\u0430\\u0437\\u0432\\u0430\\u043d\\u0438\\u0435\", \"\\u043b\\u0438\\u0431\\u043e\", \"\\u043c\\u0430\\u0440\\u0442\", \"\\u043f\\u0440\\u0438\\u0439\\u0442\\u0438\\u0441\\u044c\", \"\\u043f\\u043e\\u0434\\u043f\\u0438\\u0441\\u043a\\u0430\", \"\\u043f\\u0440\\u043e\\u0433\\u0440\\u0435\\u0441\\u0441\", \"\\u0438\\u0437\\u0443\\u0447\\u0430\\u0442\\u044c\", \"\\u043d\", \"\\u0438\\u043c\\u0435\\u043d\\u043d\\u043e\", \"\\u043c\\u0438\\u0440\", \"\\u043a\\u0430\\u0440\\u044c\\u0435\\u0440\\u043d\\u044b\\u0439\", \"\\u0447\\u0430\\u0441\\u0442\\u043e\", \"\\u043f\\u0440\\u0435\\u0434\\u043b\\u043e\\u0436\\u0438\\u0442\\u044c\", \"\\u0430\\u0439\\u0442\\u0438\", \"\\u0440\\u0435\\u043a\\u043e\\u043c\\u0435\\u043d\\u0434\\u0430\\u0446\\u0438\\u044f_\\u043a\\u043e\\u043d\\u0442\\u0430\\u043a\\u0442\", \"\\u0437\\u0434\\u0440\\u0430\\u0432\\u0441\\u0442\\u0432\\u043e\\u0432\\u0430\\u0442\\u044c\", \"\\u0437\\u0430\\u0440\\u0430\\u043d\\u0435\\u0435_\\u0431\\u043b\\u0430\\u0433\\u043e\\u0434\\u0430\\u0440\\u0438\\u0442\\u044c\", \"\\u0434\\u0432\\u0435\\u0440\\u044c\", \"\\u0441\\u043c\\u043e\\u0436\\u0435\\u0448\\u044c\", \"\\u044d\\u043f\\u0438\\u0437\\u043e\\u0434\", \"\\u0441\\u043e\\u0432\\u0435\\u0442\", \"\\u043f\\u0440\\u0438\\u0437\\u043d\\u0430\\u0442\\u0435\\u043b\\u0435\\u043d\", \"\\u043c\\u0430\\u0433\\u0438\\u044f\", \"\\u0434\\u0430\\u043d\\u043d\\u044b\\u0439_\\u043c\\u043e\\u043c\\u0435\\u043d\\u0442\", \"\\u0434\\u0430\\u043d\\u043d\\u044b\\u0439\", \"\\u043f\\u0440\\u0438\\u0437\\u043d\\u0430\\u0442\\u0435\\u043b\\u044c\\u043d\\u044b\\u0439\", \"\\u0430\\u0440\\u043c\\u0438\\u044f\", \"\\u0433\\u043e\\u0448\\u043a\\u0438\", \"\\u0440\\u0435\\u0433\\u0438\\u043e\\u043d\\u0430\\u043b\\u044c\\u043d\\u044b\\u0439\", \"\\u0430\\u043d\\u0438\\u043c\\u0430\\u0446\\u0438\\u0438\", \"\\u043f\\u0438\\u0442\\u043e\\u043d\", \"\\u043d\", \"\\u0432\\u043e\\u043e\\u0434\\u0443\\u0448\\u0435\\u0432\\u043b\\u0435\\u043d\\u0438\\u0435\", \"\\u0432\\u043e\\u0435\\u043d\\u043d\\u044b\\u0439\", \"\\u043e\\u043d\\u0431\\u043e\\u0440\\u0434\\u0438\\u043d\\u0433\\u0435\", \"\\u0442\\u0435\\u043b\\u0435\\u0441\\u043d\\u044b\\u0439\", \"\\u043a\\u0430\\u0440\\u044c\\u0435\\u0440\\u043d\\u044b\\u0439_\\u043a\\u043e\\u043d\\u0441\\u0443\\u043b\\u044c\\u0442\\u0438\\u0440\\u043e\\u0432\\u0430\\u043d\\u0438\\u0435\", \"\\u043f\\u043e\\u0434\\u0440\\u0430\\u0431\\u043e\\u0442\\u043a\\u0430\", \"\\u0430\\u0439\\u0442\\u0438\\u0448\\u043a\\u0435\", \"\\u0430\\u0439\\u0444\\u043e\\u043d\\u0430\\u0445\", \"\\u043b\\u0435\\u0442\\u043d\\u0438\\u0439\", \"\\u0438\\u0442\\u0435\\u0440\\u0430\\u0446\\u0438\\u044f\", \"\\u0441\\u0435\\u043c\\u0438\\u043d\\u0430\\u0440\", \"\\u0441\\u0435\\u0441\\u0441\\u0438\\u044f\", \"\\u043a\\u043e\\u043d\\u0442\\u0440\\u0430\\u043a\\u0442\", \"\\u0430\\u043a\\u0430\\u0434\\u0435\\u043c\\u0438\\u044f\", \"\\u043f\\u0441\\u0438\\u0445\\u043e\\u043b\\u043e\\u0433\", \"\\u043f\\u0440\\u0438\\u0439\\u0442\\u0438\\u0441\\u044c\", \"\\u043f\\u043e\\u0434\\u0445\\u043e\\u0434\", \"\\u0442\\u0432\\u043e\\u0439\", \"\\u0442\\u0438\\u043f\", \"\\u0443\\u0447\\u0438\\u0442\\u044c\", \"\\u043b\\u0438\\u0431\\u043e\", \"\\u0432\\u0438\\u0434\", \"\\u043f\\u043e\\u0432\\u043e\\u0434\", \"\\u0432\\u044b\\u0431\\u043e\\u0440\", \"\\u043e\\u0441\\u043d\\u043e\\u0432\\u043d\\u044b\\u0439\", \"\\u043f\\u043e\\u0434\\u0434\\u0435\\u0440\\u0436\\u043a\\u0430\", \"\\u0432\\u043e\\u0437\\u043c\\u043e\\u0436\\u043d\\u043e\\u0441\\u0442\\u044c\", \"\\u0442\\u0435\\u0445\\u043d\\u0438\\u043a\\u0430\", \"\\u043f\\u0440\\u0438\\u043d\\u0446\\u0438\\u043f\", \"\\u0434\\u043e\\u0441\\u0442\\u0438\\u0436\\u0435\\u043d\\u0438\\u0435\", \"\\u043e\\u043f\\u0438\\u0441\\u0430\\u0442\\u044c\", \"\\u0441\\u0445\\u0435\\u043c\\u0430\", \"\\u0432\\u043e\\u0437\\u043d\\u0438\\u043a\\u043d\\u0443\\u0442\\u044c\", \"\\u0444\\u0440\\u0430\\u0437\\u0430\", \"\\u043f\\u043e\\u0434\\u0441\\u043a\\u0430\\u0437\\u044b\\u0432\\u0430\\u0442\\u044c\", \"\\u043a\\u0440\\u0430\\u0442\\u043a\\u043e\", \"\\u043f\\u043e\\u043d\\u044f\\u0442\\u0438\\u0435\", \"\\u0442\\u0440\\u0435\\u043d\\u0438\\u043d\\u0433\", \"\\u0431\\u0440\\u0430\\u0442\", \"\\u0441\\u043f\\u0435\\u0446\\u0442\\u0435\\u0445\\u043d\\u0438\\u043a\\u0430\", \"\\u0441\\u043b\\u044b\\u0448\\u0430\\u0442\\u044c\", \"\\u0440\\u0430\\u0441\\u0445\\u043e\\u0434\", \"\\u043e\\u0431\\u043e\\u0440\\u0443\\u0434\\u043e\\u0432\\u0430\\u043d\\u0438\\u0435\", \"\\u0437\\u0434\\u0440\\u0430\\u0432\\u0441\\u0442\\u0432\\u0443\\u0439\\u0442\\u0435\", \"\\u043d\\u0435\\u043f\\u043e\\u043b\\u0430\\u0434\\u043a\\u0430\", \"\\u043f\\u0435\\u0440\\u0435\\u0441\\u0442\\u0430\\u0432\\u0430\\u0442\\u044c\", \"\\u0433\\u0440\\u0443\\u0437\\u043e\\u0432\\u043e\\u0439\", \"\\u043a\\u043e\\u043f\\u0438\\u0442\\u044c\\u0441\\u044f\", \"\\u043f\\u043f\\u0440\", \"\\u0442\\u043e\\u0438\\u0440\", \"\\u0432\\u0440\\u0443\\u0447\\u043d\\u0443\\u044e\", \"\\u0434\\u043e\\u0440\\u043e\\u0436\\u043d\\u043e\\u0435\\u0441\\u0442\\u0440\\u043e\\u0438\\u0442\\u0435\\u043b\\u044c\\u0441\\u0442\\u0438\\u0432\\u044b\\u0439\", \"\\u0441\\u0442\\u0440\\u043e\\u0438\\u0442\\u0435\\u043b\\u044c\\u043d\\u043e\\u0435\\u043e\\u0431\\u043e\\u0440\\u0443\\u0434\\u043e\\u0432\\u0430\\u043d\\u0438\\u0435\", \"\\u0442\\u044d\\u0433\\u043d\\u0438\\u0442\\u0435\", \"\\u0443\\u0440\\u043e\\u0432\\u043d\\u044f\\u0445\\u0435\\u0441\\u043b\\u0438\", \"\\u0442\\u0435\\u0445\\u043d\\u0438\\u043a\", \"\\u043f\\u0440\\u043e\\u0441\\u0442\\u043e\\u0438\", \"\\u0440\\u0435\\u043c\\u043e\\u043d\\u0442\", \"\\u0441\\u043e\\u0431\\u0438\\u0440\\u0430\\u0442\\u044c\\u0441\\u044f\", \"\\u0430\\u0432\\u0442\\u043e\\u043c\\u0430\\u0442\\u0438\\u0447\\u0435\\u0441\\u043a\\u0438\", \"\\u043c\\u0430\\u043a\\u0441\\u0438\\u043c\\u0438\\u0437\\u0438\\u0440\\u043e\\u0432\\u0430\\u0442\\u044c\", \"\\u0434\\u0440\\u0443\\u0433\\u0430\", \"\\u0438\\u0441\\u043a\\u043b\\u044e\\u0447\\u0438\\u0442\\u044c\", \"\\u043c\\u0435\\u0442\\u043e\\u0434\\u043e\\u043b\\u043e\\u0433\\u0438\\u044f\", \"\\u043a\\u0430\\u0440\\u044c\\u0435\\u0440\\u043d\\u044b\\u0439_\\u043a\\u043e\\u043d\\u0441\\u0443\\u043b\\u044c\\u0442\\u0438\\u0440\\u043e\\u0432\\u0430\\u043d\\u0438\\u0435\", \"\\u0432\\u0440\\u0435\\u043c\\u044f_\\u0441\\u0443\\u0442\\u043e\\u043a\", \"\\u0434\\u043e\\u0431\\u0440\\u044b\\u0439\", \"\\u0434\\u0430\\u043d\\u043d\\u044b\\u0435\", \"\\u043f\\u0441\\u0438\\u0445\\u043e\\u043b\\u043e\\u0433\", \"\\u043b\\u044e\\u0431\\u0438\\u043c\\u044b\\u0439\", \"\\u0443\\u0441\\u043f\\u0435\\u0445\", \"\\u043a\\u0430\\u0440\\u044c\\u0435\\u0440\\u043d\\u044b\\u0439_\\u043a\\u043e\\u043d\\u0441\\u0443\\u043b\\u044c\\u0442\\u0430\\u043d\\u0442\", \"\\u0441\\u0440\\u043e\\u043a\", \"\\u043f\\u0440\\u0430\\u0432\\u0438\\u043b\\u044c\\u043d\\u043e\", \"\\u043f\\u0440\\u0438\\u043c\\u0435\\u043d\\u0435\\u043d\\u0438\\u0435\", \"\\u0442\\u0438\\u043f\", \"\\u043f\\u043e\\u0442\\u0440\\u0435\\u0431\\u043d\\u043e\\u0441\\u0442\\u044c\", \"\\u043f\\u043e\\u0441\\u0435\\u0442\\u0438\\u0442\\u044c\", \"\\u0447\\u0443\\u0432\\u0441\\u0442\\u0432\\u043e\", \"\\u0432\\u0438\\u0434\", \"\\u043c\\u0438\\u0440\", \"\\u0438\\u0441\\u0441\\u043b\\u0435\\u0434\\u043e\\u0432\\u0430\\u043d\\u0438\\u0435\", \"\\u0441\\u0442\\u0440\\u0430\\u0442\\u0435\\u0433\\u0438\\u044f\", \"\\u043a\\u043e\\u043c\\u043c\\u0443\\u043d\\u0438\\u043a\\u0430\\u0446\\u0438\\u044f\", \"\\u043e\\u043f\\u0443\\u0431\\u043b\\u0438\\u043a\\u043e\\u0432\\u0430\\u0442\\u044c\", \"\\u043f\\u0440\\u043e\\u0431\\u043b\\u0435\\u043c\\u043d\\u044b\\u0439\", \"\\u0440\\u043e\\u0431\\u043e\\u0442\\u043e\\u0442\\u0435\\u0445\\u043d\\u0438\\u043a\\u0430\", \"\\u043c\\u0435\\u0445\\u0430\\u0442\\u0440\\u043e\\u043d\\u0438\\u043a\\u0430\", \"\\u043a\\u0430\\u0441\\u0430\\u0442\\u0435\\u043b\\u044c\\u043d\\u043e\", \"\\u043f\\u043e\\u043b\\u0447\\u0430\\u0441\\u0430\", \"\\u0440\\u0430\\u0437\\u0432\\u043b\\u0435\\u0447\\u0435\\u043d\\u0438\\u0435\", \"\\u043f\\u0440\\u0438\\u0432\\u0435\\u0442\\u0441\\u0442\\u0432\\u0443\\u044e\", \"\\u0440\\u0431\\u043a\", \"\\u0432\\u043d\\u0443\\u0442\\u0440\\u0435\\u043d\\u043d\\u0438\\u0439_\\u043a\\u043e\\u043c\\u043c\\u0443\\u043d\\u0438\\u043a\\u0430\\u0446\\u0438\\u044f\", \"\\u0431\\u0430\\u043a\\u0430\\u043b\\u0430\\u0432\\u0440\\u044b\", \"\\u043b\\u044c\\u0433\\u043e\\u0442\\u044b\\u0435\\u0441\\u043b\\u0438\", \"\\u043d\\u0430\\u0437\\u0430\\u0440\\u0431\\u0430\\u0435\\u0432\\u0441\\u043a\\u043e\\u0433\\u043e\", \"\\u0440\\u043e\\u0431\\u043e\\u0442\\u043e\\u0442\\u0435\\u0445\\u043d\\u0438\\u043a\\u0438\\u043c\", \"\\u043d\\u0430\\u0443\\u0447\\u043d\\u044b\\u0439\", \"\\u0443\\u0442\\u0435\\u0447\\u043a\\u0430\", \"\\u0440\\u0430\\u0437\\u0432\\u0438\\u0432\\u0430\\u044e\\u0449\\u0435\\u043c\\u0441\\u044f\", \"\\u044d\\u043d\\u0435\\u0440\\u0433\\u043e\\u044d\\u0444\\u0444\\u0435\\u043a\\u0442\\u0438\\u0432\\u043d\\u043e\\u0441\\u0442\\u044c\", \"\\u0438\\u043d\\u0441\\u0430\\u0439\\u0434\\u0435\\u0440\", \"\\u0444\\u043e\\u0442\\u043e\\u0433\\u0440\\u0430\\u0444\\u0438\\u0440\\u043e\\u0432\\u0430\\u043d\\u0438\\u0435\", \"\\u043c\\u0430\\u0440\\u043a\\u0435\\u0442\\u0438\\u043d\\u0433\\u043e\\u0432\\u044b\\u0439\", \"\\u043d\\u0435\\u0434\\u0430\\u0432\\u043d\\u0438\\u0439\", \"\\u0436\\u0443\\u0440\\u043d\\u0430\\u043b\\u0438\\u0441\\u0442\\u0438\\u043a\\u0430\", \"\\u0436\\u0443\\u0440\\u043d\\u0430\\u043b\\u0438\\u0441\\u0442\", \"\\u0434\\u0438\\u0430\\u043f\\u0430\\u0437\\u043e\\u043d\", \"\\u043e\\u043f\\u0440\\u043e\\u0441\\u0438\\u0442\\u044c\", \"\\u0431\\u0435\\u0441\\u043f\\u0435\\u0440\\u0435\\u0431\\u043e\\u0439\\u043d\\u044b\\u0439\", \"\\u0430\\u043d\\u0430\\u043b\\u0438\\u0437\\u0438\\u0440\\u043e\\u0432\\u0430\\u0442\\u044c\", \"\\u0437\\u0430\\u0440\\u043f\\u043b\\u0430\\u0442\\u043d\\u044b\\u0439\", \"\\u0436\\u0435\\u043b\\u0430\\u0442\\u0435\\u043b\\u044c\\u043d\\u043e\", \"\\u043e\\u043f\\u0440\\u043e\\u0441\\u043d\\u0438\\u043a\", \"\\u043e\\u043f\\u0440\\u043e\\u0441\", \"\\u043f\\u043e\\u043f\\u0430\\u0434\\u0430\\u0442\\u044c\", \"\\u0430\\u043b\\u044c\\u0442\\u0435\\u0440\\u043d\\u0430\\u0442\\u0438\\u0432\\u0430\", \"\\u0432\\u0438\\u043d\\u043e\\u0432\\u0430\\u0442\\u044b\\u0439\", \"\\u0443\\u0434\\u0435\\u043b\\u0438\\u0442\\u044c\", \"\\u043a\\u0430\\u0440\\u044c\\u0435\\u0440\\u043d\\u044b\\u0439_\\u043a\\u043e\\u043d\\u0441\\u0443\\u043b\\u044c\\u0442\\u0430\\u043d\\u0442\", \"\\u043a\\u0432\\u0430\\u043b\\u0438\\u0444\\u0438\\u043a\\u0430\\u0446\\u0438\\u044f\", \"\\u0443\\u0432\\u043e\\u043b\\u044c\\u043d\\u0435\\u043d\\u0438\\u0435\", \"\\u0442\\u0440\\u0443\\u0434\\u043e\\u0443\\u0441\\u0442\\u0440\\u043e\\u0439\\u0441\\u0442\\u0432\\u043e\", \"\\u043d\\u0430\\u0446\\u0438\\u044f\", \"\\u043a\\u043e\\u043c\\u043f\\u044c\\u044e\\u0442\\u0435\\u0440\\u043d\\u044b\\u0439_\\u0437\\u0440\\u0435\\u043d\\u0438\\u0435\", \"\\u043f\\u0440\\u043e\\u0441\\u0438\\u0442\\u044c\", \"\\u0438\\u0441\\u043a\\u0443\\u0441\\u0441\\u0442\\u0432\\u0435\\u043d\\u043d\\u044b\\u0439_\\u0438\\u043d\\u0442\\u0435\\u043b\\u043b\\u0435\\u043a\\u0442\", \"\\u0432\\u044b\\u0432\\u043e\\u0434\", \"\\u0441\\u0442\\u0435\\u043f\\u0435\\u043d\\u044c\", \"\\u0440\\u0435\\u0441\\u0443\\u0440\\u0441\", \"\\u0443\\u0441\\u043f\\u0435\\u0445\", \"\\u043a\\u043e\\u043d\\u043a\\u0440\\u0435\\u0442\\u043d\\u044b\\u0439\", \"\\u0432\\u044b\\u0431\\u043e\\u0440\", \"\\u043e\\u0431\\u0440\\u0430\\u0437\\u043e\\u0432\\u0430\\u043d\\u0438\\u0435\", \"\\u0441\\u0442\\u043e\\u0438\\u0442\\u044c\", \"\\u043f\\u0430\\u043a\\u0435\\u0442\", \"\\u0434\\u043e\\u0441\\u0442\\u0443\\u043f\", \"\\u043b\\u0438\\u0431\\u043e\", \"\\u043e\\u043f\\u0440\\u0435\\u0434\\u0435\\u043b\\u0438\\u0442\\u044c\", \"\\u0443\\u043a\\u0440\\u0430\\u0438\\u043d\\u0430\", \"\\u0438\\u0438\", \"\\u0434\\u0430\\u043d\\u043d\\u044b\\u0435\", \"\\u043e\\u0431\\u043e\\u0440\\u0443\\u0434\\u043e\\u0432\\u0430\\u043d\\u0438\\u0435\", \"\\u0442\\u0438\\u043f\", \"\\u043f\\u0440\\u0435\\u0434\\u0441\\u0442\\u0430\\u0432\\u043b\\u044f\\u0442\\u044c\", \"\\u043f\\u0440\\u0435\\u0434\\u0441\\u0442\\u0430\\u0432\\u043b\\u0435\\u043d\\u0438\\u0435\", \"\\u0441\\u0442\\u0430\\u0432\\u0438\\u0442\\u044c\", \"\\u043f\\u0440\\u043e\\u0435\\u043a\\u0442\\u043d\\u044b\\u0439\", \"\\u0441\\u0442\\u0430\\u0440\\u0442\\u043e\\u0432\\u0430\\u0442\\u044c\", \"\\u0433\\u0440\\u0430\\u043c\\u043e\\u0442\\u043d\\u043e\", \"\\u0440\\u0430\\u0437\\u0434\\u0435\\u043b\\u044f\\u0442\\u044c\", \"\\u043a\\u0430\\u0434\\u0440\\u043e\\u0432\\u044b\\u0439\", \"\\u043a\\u043e\\u043d\\u0444\\u0438\\u0433\\u0443\\u0440\\u0430\\u0446\\u0438\\u044f\", \"\\u0430\\u0433\\u0435\\u043d\\u0442\", \"\\u0438\\u0437\\u043e\\u0431\\u0440\\u0430\\u0436\\u0435\\u043d\\u0438\\u0435\", \"\\u0445\\u0443\\u0434\\u043e\\u0436\\u043d\\u0438\\u043a\", \"\\u0430\\u0432\\u0442\\u043e\\u0440\\u0441\\u043a\\u0438\\u0439\", \"\\u0438\\u0441\\u043a\", \"\\u043a\\u043e\\u043b\\u043b\\u0435\\u043a\\u0442\\u0438\\u0432\", \"\\u043f\\u0440\\u0430\\u0432\\u043e\", \"\\u0432\\u044b\\u0441\\u043e\\u043a\\u043e\\u044d\\u0444\\u0444\\u0435\\u043a\\u0442\\u0438\\u0432\\u043d\\u044b\\u0439\", \"\\u043c\\u043d\\u043e\\u0433\\u043e\\u043f\\u043e\\u0442\\u043e\\u0447\\u043d\\u043e\\u0441\\u0442\\u044c\", \"\\u0441\\u0443\\u0434\\u0435\\u0431\\u043d\\u044b\\u0439\", \"\\u0445\\u0440\\u0430\\u043d\\u0438\\u0442\\u044c\", \"\\u0437\\u0430\\u0449\\u0438\\u0442\\u0438\\u0442\\u044c\", \"\\u043d\\u0430\\u0440\\u0443\\u0448\\u0430\\u0442\\u044c\", \"\\u0437\\u0430\\u043c\\u0435\\u0440\", \"\\u044e\\u0440\\u0438\\u0441\\u0442\", \"\\u043f\\u043e\\u0434\\u0430\\u0442\\u044c\", \"\\u043f\\u0440\\u0438\\u0437\\u043d\\u0430\\u0432\\u0430\\u0442\\u044c\", \"\\u043e\\u0442\\u043e\\u0431\\u0440\\u0430\\u0437\\u0438\\u0442\\u044c\", \"\\u0442\\u0435\\u0441\\u0442\\u0435\\u0440\", \"\\u0431\\u0430\\u0439\\u0442\\u044b\", \"\\u0431\\u0430\\u0442\\u0447\", \"\\u0441\\u0443\\u0434\", \"\\u0432\\u0434\\u043e\\u0445\\u043d\\u043e\\u0432\\u043b\\u044f\\u0435\\u0442\\u0441\\u044f\", \"\\u043a\\u0440\\u0430\\u0436\\u0430\", \"\\u043f\\u0435\\u0440\\u0435\\u0432\\u043e\\u0434\\u0438\\u0442\\u044c\\u0441\\u044f\", \"\\u0442\\u0440\\u0435\\u043d\\u0435\\u0440\", \"\\u043f\\u043e\\u0441\\u043a\\u043e\\u043b\\u044c\\u043a\\u0443\", \"\\u043a\\u0430\\u0440\\u0442\\u0430\", \"\\u0432\\u0445\\u043e\\u0434\", \"\\u0430\\u0441\\u043f\\u0435\\u043a\\u0442\", \"\\u043e\\u0431\\u044f\\u0437\\u0430\\u043d\\u043d\\u044b\\u0439\", \"\\u043c\\u0430\\u0442\\u0435\\u0440\\u0438\\u0430\\u043b\", \"\\u043c\\u0438\\u0440\", \"\\u0440\\u0430\\u0437\\u0432\\u0438\\u0432\\u0430\\u0442\\u044c\\u0441\\u044f\", \"\\u043e\\u0442\\u043d\\u043e\\u0448\\u0435\\u043d\\u0438\\u0435\", \"\\u0434\\u043e\\u043a\\u0443\\u043c\\u0435\\u043d\\u0442\", \"\\u043f\\u0435\\u0440\\u0435\\u0439\\u0442\\u0438\", \"\\u0432\\u0435\\u0434\\u0443\\u0449\\u0438\\u0439\", \"\\u043c\\u0443\\u0437\\u044b\\u043a\\u0430\", \"\\u043c\\u0438\\u0445\\u0430\\u0438\\u043b\", \"\\u0438\\u0437\\u0432\\u043b\\u0435\\u0447\\u0435\\u043d\\u0438\\u0435\", \"\\u0438\\u044e\\u043b\\u044c\", \"\\u043f\\u043e\\u043b\\u043e\\u0447\\u043a\\u0430\\u043c\", \"\\u0440\\u0430\\u0437\\u043b\\u043e\\u0436\\u0438\\u0442\\u044c\", \"\\u0445\\u0438\\u043f\", \"\\u0445\\u043e\\u043f\", \"\\u043f\\u0440\\u043e\\u0447\\u0438\\u0435\", \"\\u0445\\u0430\\u0443\\u0441\", \"\\u0433\\u0430\\u0437\\u043f\\u0440\\u043e\\u043c\", \"\\u0432\\u043a\\u043b\\u0430\\u0434\\u043a\\u0430\", \"\\u0441\\u0435\\u0439\\u043b\\u0437\", \"\\u0440\\u0443\\u0441\\u0441\\u043a\\u043e\\u0433\\u043e\\u0432\\u043e\\u0440\\u044f\\u0449\\u0438\\u0435\", \"\\u043c\\u0435\\u0434\\u0438\\u0430\", \"\\u043f\\u043e\\u0434\\u0442\\u044f\\u0433\\u0438\\u0432\\u0430\\u0442\\u044c\", \"\\u0441\\u043f\\u0435\\u0446\\u0438\\u0444\\u0438\\u043a\\u0430\\u0446\\u0438\\u044f\", \"\\u043b\\u0438\\u0434\\u0438\\u0442\\u044c\", \"\\u0435\\u043c\\u0435\\u043b\\u044c\\u044f\\u043d\\u043d\\u0438\\u043a\\u043e\\u0432\", \"\\u0432\\u043e\\u043a\\u0430\\u043b\\u0438\\u0441\\u0442\", \"\\u0433\\u0438\\u0442\\u0430\\u0440\\u0430\", \"\\u0434\\u0436\\u0430\\u0437\", \"\\u0437\\u0430\\u0441\\u0442\\u043e\\u043b\\u044c\\u0435\", \"\\u0438\\u043d\\u0434\\u0438\", \"\\u0438\\u0441\\u043f\\u043e\\u043b\\u043d\\u044f\\u0442\\u044c\", \"\\u043a\\u0430\\u0432\\u043a\\u0430\\u0437\", \"\\u043a\\u0430\\u0432\\u043a\\u0430\\u0437\\u0441\\u043a\\u0438\\u0439\", \"\\u0433\\u0440\\u0443\\u0437\\u0438\\u044f\", \"\\u0434\\u0438\\u0434\\u0436\\u0435\\u0439\", \"\\u0440\\u043e\\u043a\", \"\\u043a\\u0430\\u043b\\u0435\\u043d\\u0434\\u0430\\u0440\\u044c\", \"\\u043f\\u043e\\u0434\\u0441\\u0442\\u0440\\u0430\\u0438\\u0432\\u0430\\u0442\\u044c\\u0441\\u044f\", \"\\u043d\\u0443\\u0436\\u0434\\u0430\", \"\\u0431\\u0443\\u0440\\u0446\\u0435\\u0432\", \"\\u0440\\u0430\\u0437\\u043c\\u043d\\u043e\\u0436\\u0435\\u043d\\u0438\\u0435\", \"\\u043f\\u0435\\u0441\\u043d\\u044f\", \"\\u0432\\u043e\\u0435\\u0434\\u0438\\u043d\\u043e\", \"\\u043f\\u043e\\u0434\\u0441\\u043a\\u0430\\u0437\\u0430\\u0442\\u044c\", \"\\u0437\\u0430\\u0440\\u0443\\u0431\\u0435\\u0436\\u043d\\u044b\\u0439\", \"\\u043c\\u0438\\u0440\", \"\\u043c\\u0438\\u0440\\u043e\\u0432\\u043e\\u0439\", \"\\u043b\\u0438\\u0446\\u043e\", \"\\u0441\\u043e\\u043d\", \"\\u0442\\u0438\\u043f\", \"\\u0438\\u0437\\u0432\\u0435\\u0441\\u0442\\u043d\\u044b\\u0439\", \"\\u0437\", \"\\u043e\\u0434\\u043d\\u0430\\u043a\\u043e\", \"\\u0434\\u0435\\u0442\\u0441\\u0442\\u0432\\u043e\", \"\\u0449\\u043e\", \"\\u043f\\u043e\\u0447\\u0438\\u0442\\u0430\\u0442\\u044c\", \"\\u043e\\u0442\\u043a\\u043b\\u0438\\u043a\", \"\\u0437\\u0430\\u043b\\u0435\\u0442\\u0430\\u0442\\u044c\", \"\\u043e\\u0431\\u0440\\u0430\\u0437\\u043e\\u0432\\u0430\\u0442\\u044c\\u0441\\u044f\", \"\\u043c\\u043d\\u043e\\u0433\\u043e\\u044d\\u0442\\u0430\\u043f\\u043d\\u044b\\u0439\", \"\\u043e\\u0444\\u0444\\u0435\\u0440\\u0430\\u043c\\u0438\", \"\\u0437\\u0430\\u043c\\u0435\\u0447\\u0430\\u043d\\u0438\\u0435\", \"\\u0443\\u0432\\u0430\\u0436\\u0430\\u0435\\u043c\\u044b\\u0435\", \"\\u0432\\u044b\\u0438\\u0433\\u0440\\u044b\\u0432\\u0430\\u0442\\u044c\", \"\\u0437\\u0430\\u0433\\u043b\\u044f\\u0434\\u044b\\u0432\\u0430\\u0442\\u044c\", \"\\u043a\\u043e\\u043b\\u043b\\u0430\\u0431\\u043e\\u0440\\u0430\\u0446\\u0438\\u044f\\u043c\", \"\\u043d\\u0435\\u0438\\u043d\\u0442\\u0435\\u0440\\u0435\\u0441\\u043d\\u044b\\u0439\", \"\\u0431\\u0435\\u043b\\u0436\\u0434\\u0441\\u0435\\u0439\\u0447\\u0430\\u0441\", \"\\u0444\\u0438\\u043d\\u0430\\u043d\\u0441\\u043e\\u0432\\u043e\", \"\\u0447\\u0435\\u0445\\u043e\\u043b\", \"\\u0441\\u043a\\u0440\\u0438\\u043d\", \"\\u0440\\u0435\\u043a\\u0440\\u0443\\u0442\\u0435\\u0440\\u0441\\u043a\\u043e\\u0433\\u043e\", \"\\u0440\\u0430\\u0437\\u043c\\u0435\\u0449\\u0430\\u0442\\u044c\", \"\\u0432\\u0435\\u0431\\u044b\", \"\\u043c\\u043e\\u0431\\u0438\\u043b\\u043a\\u0438\", \"\\u043f\\u0430\\u0443\\u043a\", \"\\u0443\\u0441\\u0442\\u0430\\u043d\\u043e\\u0432\\u043b\\u0435\\u043d\\u0438\\u0435\", \"\\u0431\\u043b\\u0435\\u0441\\u0442\\u043e\\u0447\\u043a\\u0430\\u043c\\u0438\", \"\\u0431\\u0440\\u0430\\u0441\\u043b\\u0435\\u0442\\u0438\\u043a\", \"\\u043d\\u0430\\u0447\\u0438\\u043d\\u0430\\u043d\\u0438\\u044f\\u0445\", \"\\u043f\\u0440\\u0438\\u043d\\u0442\\u043e\\u043c\", \"\\u0447\\u0435\\u0445\\u043b\\u044b\", \"\\u0431\\u044d\\u043a\\u0430\", \"\\u0434\\u0432\\u0443\\u0441\\u043c\\u044b\\u0441\\u043b\\u0435\\u043d\\u043d\\u044b\\u0439\", \"\\u0440\\u0443\\u043a\\u0438\\u0443\", \"\\u043e\\u0442\\u0441\\u0440\\u043e\\u0447\\u0438\\u0442\\u044c\", \"\\u0440\\u0430\\u0434\\u0438\\u043a\\u0430\\u043b\\u044c\\u043d\\u043e\", \"\\u0444\\u0438\\u0437\\u0438\\u0447\\u0435\\u0441\\u043a\\u0438\", \"\\u0443\\u043a\\u0430\\u0437\\u044b\\u0432\\u0430\\u0442\\u044c\", \"\\u0440\\u0435\\u0430\\u043b\\u0438\\u044f\", \"\\u043a\\u043d\\u0438\\u0436\\u043a\\u0430\", \"\\u043f\\u0440\\u043e\\u043a\\u0430\\u0447\\u043a\\u0430\", \"\\u0441\\u043a\\u0430\\u0437\\u043a\\u0430\", \"\\u043f\\u0440\\u043e\\u0441\\u043c\\u0430\\u0442\\u0440\\u0438\\u0432\\u0430\\u0442\\u044c\", \"\\u043f\\u043e\\u0445\\u043e\\u0434\\u0438\\u0442\\u044c\", \"\\u0441\\u044e\\u0434\\u0430\", \"\\u0441\\u0435\\u043c\\u0438\\u043d\\u0430\\u0440\", \"\\u0440\\u0435\\u0433\\u0438\\u043e\\u043d\\u0430\\u043b\\u044c\\u043d\\u044b\\u0439\", \"\\u0442\\u0440\\u0430\\u0442\\u0438\\u0442\\u044c\", \"\\u0442\\u0435\\u043b\\u0435\\u0441\\u043d\\u044b\\u0439\", \"\\u043f\\u0435\\u0440\\u0435\\u0440\\u044b\\u0432\", \"\\u0442\\u0440\\u0443\\u0434\\u043d\\u043e\\u0441\\u0442\\u044c\", \"\\u043f\\u0441\\u0438\\u0445\\u043e\\u043b\\u043e\\u0433\\u0438\\u0447\\u0435\\u0441\\u043a\\u0438\\u0439\", \"\\u043f\\u0441\\u0438\\u0445\\u043e\\u043b\\u043e\\u0433\", \"\\u043e\\u0441\\u043e\\u0437\\u043d\\u0430\\u043d\\u043d\\u044b\\u0439\", \"\\u043e\\u0431\\u0440\\u0430\\u0442\\u043d\\u044b\\u0439_\\u0441\\u0432\\u044f\\u0437\\u044c\", \"\\u0437\\u0430\\u0440\\u0430\\u043d\\u0435\\u0435\", \"\\u043a\\u0430\\u0440\\u044c\\u0435\\u0440\", \"\\u043f\\u043e\\u0434\\u0445\\u043e\\u0434\", \"\\u043e\\u0436\\u0438\\u0434\\u0430\\u043d\\u0438\\u0435\", \"\\u0447\\u0443\\u0432\\u0441\\u0442\\u0432\\u043e\", \"\\u043b\\u0438\\u0431\\u043e\", \"\\u043e\\u0431\\u0441\\u0443\\u0434\\u0438\\u0442\\u044c\", \"\\u0440\\u0430\\u0437\\u0432\\u0438\\u0432\\u0430\\u0442\\u044c\\u0441\\u044f\", \"\\u0442\\u0438\\u043f\", \"\\u043a\\u0430\\u0440\\u044c\\u0435\\u0440\\u043d\\u044b\\u0439_\\u043a\\u043e\\u043d\\u0441\\u0443\\u043b\\u044c\\u0442\\u0430\\u043d\\u0442\", \"\\u0432\\u0430\\u0440\\u0438\\u0430\\u043d\\u0442\", \"\\u0441\\u0435\\u0441\\u0441\\u0438\\u044f\", \"\\u0430\\u043d\\u0433\\u043b\\u0438\\u0439\\u0441\\u043a\\u0438\\u0439\", \"\\u0430\\u0441\\u043f\\u0435\\u043a\\u0442\", \"\\u043c\\u0438\\u0440\", \"\\u0440\\u0435\\u0441\\u0443\\u0440\\u0441\"], \"Freq\": [1065.0, 905.0, 2336.0, 443.0, 1925.0, 773.0, 634.0, 760.0, 1561.0, 502.0, 196.0, 1222.0, 472.0, 397.0, 743.0, 431.0, 978.0, 187.0, 144.0, 237.0, 136.0, 715.0, 169.0, 351.0, 347.0, 299.0, 120.0, 152.0, 774.0, 144.0, 1221.9073297883947, 773.9197117050419, 651.3683793026283, 630.0687620384646, 612.271125308186, 520.1364109851925, 513.6267706202544, 434.966989544114, 382.78682892263714, 378.09110757902624, 377.71272171948243, 349.5698580350094, 346.5088900198507, 334.8673725538997, 332.90614726446177, 330.37840051891504, 325.26437027291223, 305.980030101251, 290.07374171637986, 288.4619940994641, 287.4367062219887, 282.065546482904, 290.27317102588086, 273.87239927153036, 270.08280086725443, 250.98067057858051, 235.9635878017327, 229.31886440531835, 220.2392072046469, 216.3220084346672, 2322.7241201426646, 1554.6909425913093, 426.3250218149471, 382.25060993909767, 1034.777756722298, 636.5295094568645, 1072.7009293332364, 650.0543581263239, 328.9149351699935, 1030.8318356700363, 325.53574471667275, 423.7227272687852, 633.2759802953849, 472.19934764593694, 430.4356051857051, 351.10835032863326, 346.60973089849233, 238.69722006410993, 226.01738769787497, 200.92548489409424, 197.10866362920592, 197.6834117800235, 193.10413522903198, 190.8564317204867, 268.43859794497206, 188.1523465306228, 179.02358125874346, 171.6788916323805, 171.10401571513475, 169.2593057732922, 168.6782240581082, 152.41026320718336, 150.27732132962876, 149.47915532686025, 143.85708569407797, 116.05905343758307, 114.11686683724257, 113.91676635842732, 160.7333972664214, 101.73566111826622, 96.89802259722731, 96.45334979643042, 1045.653370565231, 208.79009262125552, 131.18589581408938, 746.3637250586478, 298.5496588594859, 654.0291177229757, 301.55395865078674, 483.14798141555895, 894.1284465695018, 311.88942307941454, 193.30879879456654, 396.98252130562076, 397.06960708279206, 298.93152254060413, 221.183037729613, 220.36701331726763, 209.69617801776755, 202.1680996154805, 181.5913200678453, 176.41011034231573, 171.74829767936012, 157.45510208309466, 156.56213826889964, 152.83043515896708, 151.3095991504051, 149.74418227123996, 140.32605447566428, 138.72162185470958, 131.66055051202588, 130.67634551333137, 128.48933964975004, 123.76230128349587, 118.06191889574781, 115.38674501905031, 114.68865047347155, 113.40208095591956, 112.48155329807143, 112.00836026867128, 110.04644292156472, 108.79410941823262, 106.98380443123595, 105.45916109664427, 498.14913148336535, 143.73785243896012, 841.5198232826909, 255.26429050440677, 197.0269378733753, 120.04365827424671, 350.8811921737742, 291.0320017100603, 137.54521047161603, 204.3961857041209, 129.25046077514457, 169.21329624331844, 151.61170410574323, 143.31723777822435, 127.9953865147799, 104.07247158446994, 72.47546046072709, 69.2541544627411, 61.532410844790384, 57.97986021830201, 56.95543058821046, 55.45858791399472, 52.70382655795298, 52.62807748935983, 48.24135349890918, 43.19107660355865, 43.02916205250297, 41.11652641224121, 40.372516379726555, 38.10200823607093, 37.368204555302185, 37.00700106680732, 36.94885053611516, 35.58337337842519, 34.715089926792004, 34.32252382982865, 32.011500370895476, 31.90781637419804, 30.734319325777697, 30.174993911640787, 30.155444796878854, 112.49192154114391, 37.19068205503951, 186.84260574211532, 118.15943754503829, 86.10652479579127, 73.78311967935622, 73.31629228699768, 71.48021882215217, 68.9460393093559, 68.02265115146173, 65.85639903583052, 50.71267288792192, 46.52517016852903, 43.919578924097436, 42.55230200415191, 41.14531332928726, 40.85138121646789, 39.495805547739735, 37.64205886203481, 37.139353571811306, 36.296534780070424, 35.38078054427527, 34.50074446230114, 32.565107450079715, 31.506326998958166, 30.82944233284242, 30.066612299095194, 26.26204370099361, 26.094290950868427, 25.439997778964422, 25.02342832042477, 24.623489138457764, 353.8276259922025, 119.25182274846725, 102.87552630025795, 69.65637151216487, 51.526623485747386, 41.08039208791798, 31.09080815566799, 29.418533585430165, 28.785045477331323, 22.43913019011708, 16.708996663971313, 16.242887479377423, 15.572271749460873, 15.494489339443696, 15.37107377364305, 12.973047699920212, 12.491315184987624, 11.980090425602707, 11.221301882503216, 11.07811387660972, 11.022114292801822, 10.494153474459573, 9.80845385488446, 9.734881902777213, 9.255797935811412, 9.225843817312695, 7.12951246039029, 6.683496559692467, 6.5635820696785885, 5.224280256147703, 4.582017246318643, 94.54664064911816, 59.52503505475889, 52.9394734256428, 49.8937324956581, 47.81722845046317, 41.63174220647831, 30.937929594833147, 28.582098157698304, 27.20597139707245, 24.28083944578078, 22.104678687071026, 21.531193836516486, 20.02276975818363, 16.70374717678847, 16.43557847862413, 15.476105972192348, 15.21208685680116, 13.95868626567689, 12.547999110637853, 12.416056279901424, 11.665468348704715, 11.4810218271918, 10.338403974950845, 9.829853491607476, 9.203491001276122, 9.19896746950264, 9.102234230886284, 9.00681398420602, 8.40594536271113, 7.965507813081718, 195.97749797034592, 86.4069190532913, 52.637612819833336, 36.02658927170544, 28.501106146835536, 24.4283261612514, 20.801207120401955, 20.343915019822173, 19.680279699309512, 18.5957835536348, 17.9706567361684, 16.7450423180967, 15.963424424907496, 15.139886099862492, 14.674536993833378, 14.338619611619402, 13.639841556256037, 12.45876157966537, 12.047727689779636, 12.047727689779636, 10.292662239937021, 9.552612639062772, 8.99051879940616, 8.743585232737084, 6.024731004995062, 5.806953800982461, 5.181093359472652, 4.658925153711103, 3.966169080158453, 3.7496382127229704, 4.7044480917683815, 143.36566396558962, 135.94766790469993, 107.02095679677582, 63.66476794815749, 29.9655943808125, 29.72108115455012, 29.72108115455012, 18.05592494344232, 16.202410579377723, 16.008785529866145, 13.700921874347994, 12.81729737867395, 9.004640893990397, 8.0377964196175, 6.571910028083124, 6.130883200019597, 4.585451710199203, 4.49173817209789, 4.169645213682778, 3.828763040138842, 3.503865703180128, 1.4353844602112749, 0.04125214211634467, 0.04125344786914852, 0.04125219415721729, 0.04125354721990534, 0.041251626438606914, 0.04125173052035215, 0.04125173998232899, 0.041252170502275184, 0.04125230770093936, 0.04125241178268459, 1.9290038319897547, 0.041252724027920296, 0.04125300315623706, 0.041256083029698326, 0.4999981445408813, 0.04125443191473983, 0.04125513210102595, 0.041254195365318845, 0.22777472429793996, 0.04125439879782089, 0.041461601897640886, 70.59820487613705, 61.65594947290736, 39.20403709795021, 38.508626114078325, 38.346054666735725, 38.01470324108672, 26.36006464533461, 25.871961691830688, 24.627107283479354, 20.0905795088616, 19.1686623937521, 16.70010977086277, 15.83240280009096, 14.464023145093417, 13.373922847872983, 10.054891696320063, 9.59657939786464, 7.599645546742699, 7.140366924214947, 6.2524440606122065, 6.087785561458096, 5.867037472583245, 5.6702844074864664, 5.55942835759465, 5.471221648586645, 5.404571888976735, 4.775908106729233, 4.632338141354674, 3.9561668952963074, 3.594949925928924, 69.91808644316079, 62.136470015079134, 52.21708022495803, 45.45456111023361, 29.630595953803827, 28.84538323747227, 25.91225534818043, 20.911435504540442, 18.636209983367884, 18.474140940578152, 16.21402396072138, 15.425471328653908, 14.839865403709247, 14.831863916861131, 6.8273107440904175, 5.510783096033781, 5.225162425576419, 2.8284877189669655, 2.7239043714050846, 1.364968921973938, 1.1648780848282145, 0.04392157474265392, 0.04392220775086435, 0.04392306272299271, 0.04392075265406896, 0.04392075265406896, 0.043920970507543976, 0.04392068277653924, 0.04392132400563551, 0.04392077731672651, 0.043922511923640786, 0.043924900090980115, 0.04392382726537673, 0.043921344557850135, 0.043923375116655006, 0.04392250781319786, 0.043924415058714986, 0.04392282020686015, 0.043923066833435644, 0.04392272566667288, 55.58656811226543, 52.964238521485136, 42.202842964737165, 34.41261999268332, 33.627703391508064, 32.04906011969597, 28.47012186380272, 23.296801400281364, 16.982409083342162, 16.16174267042729, 15.132574591066724, 13.02776258451629, 11.243447396866856, 10.661555717716652, 9.579704018921955, 8.545410803324442, 8.521935494223623, 7.379950353447274, 7.313573383096349, 5.861731047327949, 5.626178395337052, 4.658262646712194, 3.3113351274174936, 2.903755440133096, 1.5702154769259369, 0.341455373237789, 0.26355441983509253, 0.04028867438662938, 0.040274470229226075, 0.04027259237831562, 0.04027312391875928, 0.040275017289098755, 89.8318196265843, 28.84263697312564, 19.816858787688552, 19.73809667997137, 19.28484660827923, 12.95164739897751, 10.480658527283362, 9.645575507121551, 8.815142279313765, 8.49771348599498, 8.346223376095306, 7.303600405303958, 7.274297026406204, 7.055115408159115, 4.656542833817276, 4.555558671596332, 4.196576265189027, 3.39605849832022, 2.619067610498069, 2.3583411678324833, 1.5876534164996454, 1.356482489909613, 1.166534331807643, 1.0219518235911536, 0.9486154501392231, 0.937013136233002, 0.8349965005880184, 0.5333374131970512, 0.3811064184143538, 0.03606173797809481, 0.036062815200497055, 24.770315126516415, 19.708636275542105, 17.664355183306103, 15.646496858233608, 15.151060497957818, 9.272010913210579, 5.566910037415126, 5.161944932466832, 5.03194518334928, 4.367686539193885, 3.1780041483057917, 2.489686989033692, 1.8254998883771072, 1.8026206564957703, 1.3047826141307581, 1.2663218241458036, 1.1258774348988614, 0.5882541594496321, 0.024407670932739958, 0.02440681402462868, 0.024406958384958443, 0.024406345778943687, 0.024406345778943687, 0.024406345778943687, 0.024406345778943687, 0.024406345778943687, 0.024406345778943687, 0.024406345778943687, 0.024406345778943687, 0.02440637539131902, 0.024407500661581778, 0.024406878801699727, 0.024406921369489274, 0.024408331658864635, 0.02440653455783645, 0.024406928772583106, 0.02440654381170374, 0.024406467929991946, 0.02440658637949329, 0.02440652160242224, 0.024406690022806963, 0.024406638201150126, 35.80945153449006, 30.730482771235987, 24.842210257285604, 13.750216634010405, 11.36833020172122, 10.666783547454642, 7.35934423857537, 2.985920011781324, 2.598508720934521, 2.006821725891992, 3.295788270279328, 0.020727848385045565, 0.020727074988418945, 0.020727734056848586, 0.020727483543593442, 0.020726774036253368, 0.020726854738510058, 0.02072581401565815, 0.020725630754283582, 0.020725837553816354, 0.02072581401565815, 0.02072654537985941, 0.020725533239056747, 0.020726343624217686, 0.02072533484600905, 0.020725400416592613, 0.02072576021415369, 0.020725348296385164, 0.020725304582662793, 0.020725304582662793, 0.0207256559737388, 0.020725428998641857, 0.020726183901001317, 0.020726394063128116, 0.020725711456540275, 0.020725815696955165, 0.020726531929483295, 0.020726333536435597, 0.020727074988418945, 0.020726373887563942, 0.0207263688436729, 0.02072595860720139, 0.020726790849223513, 0.02072639910701916, 0.02072600904611182, 0.020726380612752, 0.020726148593764017, 0.02079590392559404, 0.020737924398052804, 22.25301387279227, 13.109603729305698, 11.530315177933003, 8.84138705430223, 8.168326602969975, 6.184119539829746, 2.707914056011377, 2.698019337058787, 2.4341876751917884, 1.520997417786274, 0.7723200016843585, 0.567388525919866, 0.022067603196836517, 0.02206777047216602, 0.02206731730809155, 0.02206844261485365, 0.022066623875816524, 0.022066623875816524, 0.022066681661839442, 0.02206661779307727, 0.02206661779307727, 0.02206661779307727, 0.02206661779307727, 0.02206661779307727, 0.02206645507980221, 0.02206645507980221, 0.02206645507980221, 0.02206645507980221, 0.02206662235513171, 0.02206645507980221, 0.022067077039890994, 0.02206715915687093, 0.0220666208344469, 0.02206653871746696, 0.022066757696080127, 0.02206665581019761, 0.022067303621928228, 0.02206684589579932, 0.02206680483730935, 0.02206706335372767, 0.02206796664050698, 0.02206732947357006, 0.0220666877445787, 0.022067356845896703, 0.022066859581962642, 0.022067177405088696, 0.02206693409551851, 0.022066889995658912, 0.022067124181120217, 0.022066865664701896, 0.02206687935086522, 0.02206692193004, 0.022066926492094442, 0.022066889995658912, 16.199624026504953, 11.827534373330032, 9.066828649107485, 5.384417604937014, 1.4212441761410868, 0.015179353032534825, 0.01517856494546764, 0.015178422387042747, 0.015178422387042747, 0.015178422387042747, 0.015178495674120333, 0.015178558921872221, 0.015178422387042747, 0.015178367170751416, 0.015178367170751416, 0.015178367170751416, 0.015178367170751416, 0.015178693448836557, 0.01517850772131117, 0.015178367170751416, 0.015178421383110178, 0.015178313962325224, 0.015178313962325224, 0.015178428410638165, 0.015178358135358288, 0.01517829689547154, 0.015178281836482994, 0.015178313962325224, 0.015178313962325224, 0.015178421383110178, 0.01517862417748925, 0.015178457524682686, 0.015178367170751416, 0.015178551894344234, 0.01517862718928696, 0.01517850772131117, 0.01517850571344603, 0.015180427240384367, 0.015178557917939652, 0.015178785810632965, 0.015178508725243739, 0.015178711519622811, 0.015178508725243739, 0.015178567957265349, 0.01517856494546764, 0.015178910298271604, 0.015178602090972717, 0.015178816932542626, 0.015178648271870921, 0.015178928369057858, 0.01517883600726145, 0.015178664334792036, 0.015178979569618911, 0.015178617149961262, 0.01517871352748795, 0.015178704492094823, 0.01517868039771315, 0.01517880588928436, 0.015178615142096123, 0.015178602090972717, 0.015178619157826402, 0.015178674374117733, 0.015178613134230983, 0.01517862317355668, 10.604028707018696, 7.614359122104682, 7.074111737570446, 5.075536382776063, 3.897852838479117, 1.763957235235408, 1.2002963642612339, 1.1971421190504024, 0.7771328297533793, 0.4898666065091354, 0.014121969667505126, 0.014120808782907142, 0.014119784527641347, 0.014119784527641347, 0.014119814270081008, 0.014120142366368509, 0.014119275188362168, 0.014119275188362168, 0.014119443419036497, 0.014119817058434726, 0.014119488032695986, 0.014119448066292693, 0.014119275188362168, 0.014119607931905866, 0.014119443419036497, 0.014119159006957246, 0.014119081862504379, 0.014119101380980405, 0.0141190186598201, 0.0141190186598201, 0.014119443419036497, 0.014119101380980405, 0.014119131123420066, 0.014119255669886142, 0.01411924358702003, 0.014119361627327432, 0.014119385793059654, 0.014119330955436531, 0.01411946851421996, 0.014119412747145597, 0.01411952706964804, 0.014119673922943861, 0.014119430406719145, 0.014119375569096022, 6.345157944739808, 5.005867715868197, 4.170928269922384, 2.0448274289444024, 1.4561277059123225, 1.3677453030146869, 1.0586299432083761, 0.6761533650132144, 0.40035721076421754, 0.011497485008084092, 0.011497485008084092, 0.011497543430700143, 0.011497464091345012, 0.011497468418946201, 0.011497510252424362, 0.011497464091345012, 0.011497383309456152, 0.011497464091345012, 0.011497383309456152, 0.011497383309456152, 0.011497383309456152, 0.011497380424388692, 0.011497333542042479, 0.011497333542042479, 0.011497333542042479, 0.011497333542042479, 0.011497333542042479, 0.011497333542042479, 0.011497333542042479, 0.011497333542042479, 0.011497488614418417, 0.011497337148376802, 0.011497494384553336, 0.011497444617139661, 0.011497383309456152, 0.011497383309456152, 0.011497342918511722, 0.011497342918511722, 0.011497379703121828, 0.011497356622582153, 0.011497389800857936, 0.011497420815333123, 0.011497740336554242, 0.01149740999633015, 0.011497452551075175, 0.011497439568271609, 0.011497462648811282, 0.011497399898594043, 0.01149749654835393, 0.011497428028001772, 0.011497401341127773, 0.011497418651532528, 5.055632343126041, 2.6792077980682545, 0.20929465140007375, 0.00655349581912265, 0.006553481261237923, 0.006553481261237923, 0.006553517852677913, 0.006553481261237923, 0.006553481261237923, 0.006553487556539427, 0.006553476933218139, 0.006553481261237923, 0.00655345922768266, 0.006553481261237923, 0.006553463949158788, 0.006553448604361373, 0.006553442309059869, 0.006553442309059869, 0.006553439948321805, 0.006553439948321805, 0.006553439948321805, 0.006553439948321805, 0.006553439948321805, 0.006553439948321805, 0.006553439948321805, 0.006553439948321805, 0.006553439948321805, 0.006553426964262454, 0.006553426964262454, 0.006553426964262454, 0.006553446243623309, 0.006553446243623309, 0.006553481261237923, 0.006553472211742011, 0.006553462768789756, 0.006553482441606955, 0.006553513524658129, 0.006553461194964381, 0.006553487556539427, 0.00655349581912265, 0.006553487556539427, 0.006553655562398304, 0.006553489523821146, 0.006553570182371662, 0.006553481654694267, 0.00655349581912265, 0.0065535017209678095, 0.006553554050661559, 0.0065536417914262655, 0.006553533197475328, 0.006553559559050374, 0.006553553657205215, 0.006553502507880497, 0.006553610708375091, 0.0065535048686185616, 0.006553531623649952, 0.006553574116935102, 0.0065535115573764095, 0.006553523754523073, 0.006553519819959633, 0.0065534946387536186, 0.006553508803182001, 0.006553499360229746, 0.0065535048686185616, 0.00655349778640437, 0.006553511950832753, 0.0065535048686185616], \"Total\": [1065.0, 905.0, 2336.0, 443.0, 1925.0, 773.0, 634.0, 760.0, 1561.0, 502.0, 196.0, 1222.0, 472.0, 397.0, 743.0, 431.0, 978.0, 187.0, 144.0, 237.0, 136.0, 715.0, 169.0, 351.0, 347.0, 299.0, 120.0, 152.0, 774.0, 144.0, 1222.6748258240368, 774.6870529013701, 652.165462282465, 630.8401472111581, 613.0386024814873, 520.9037801366039, 514.3992252812433, 435.73433057243415, 383.55416984869146, 378.85844850508056, 378.48006264553675, 350.33719896106373, 347.276230945905, 335.63471347995403, 333.6734881905161, 331.14574144496936, 326.03171119896655, 306.7473710273053, 290.8410837029953, 289.2293350700798, 288.204047148043, 282.8328874089583, 291.0752801149123, 274.639902310528, 270.850141820221, 251.74801150463475, 236.73092872778693, 230.08620533137258, 221.00654813070113, 217.08934936072143, 2336.1462123205943, 1561.5066149090917, 428.5265049520703, 385.85303771859964, 1084.8567016340235, 665.7230651622019, 1167.9298721086143, 702.2663929762432, 343.3227384976583, 1925.6446753229834, 363.2058997564832, 715.4366779800935, 634.0469070903487, 472.97027366769214, 431.20653120746033, 351.87927635038847, 347.38413642599244, 239.46814608586507, 226.78837255807173, 201.69641092882742, 197.8795896566344, 198.4571418271132, 193.87506125646047, 191.6273577552199, 269.52433414404334, 188.92331970369298, 179.7945072804986, 172.44981765980899, 171.87494174256324, 170.03030290550458, 169.44915007986336, 153.1811892289385, 151.0482473586886, 150.2500813486154, 144.628011840013, 116.82997945933829, 114.88779285899778, 114.68769238018254, 161.87542918164257, 102.50658714569481, 97.66894864820132, 97.22427595018567, 1065.8580238890986, 210.7626684546745, 132.36705689741314, 773.2796213016325, 314.26253678899803, 760.9627252989906, 355.9792082232785, 743.5857573042517, 1925.6446753229834, 474.85214748281606, 233.32939389067127, 978.1107431460266, 397.838092499387, 299.70000898975104, 221.95152314620788, 221.16479972747777, 210.46466343436242, 202.93658503207536, 182.35980548444016, 177.17859576458397, 172.516783095955, 158.22358749968953, 157.33062368549452, 153.59892057556195, 152.07808456699996, 150.51266768783483, 141.09453989225915, 139.49010727130445, 132.42903592862075, 131.44483092992624, 129.2578250663449, 124.53083668906233, 118.8305678532627, 116.15523044131862, 115.45713589006651, 114.17056637251451, 113.25003871466639, 112.77684568526624, 110.81492833815967, 109.56259483482758, 107.75228984783091, 106.22764651323922, 502.1286828772472, 144.96508683850223, 905.5207892838536, 285.6708097630145, 226.33405426336452, 124.9415622416112, 978.1107431460266, 715.4366779800935, 167.2161421833785, 435.52985611816507, 212.01030094357827, 169.99987455731076, 152.39828154396258, 144.1038152164437, 128.78196395299926, 104.85904902268939, 73.26203789894655, 70.04073190096055, 62.31898829598789, 58.7664376784118, 57.742008058200106, 56.24516537410451, 53.49040401675807, 53.41465492757928, 49.02793093712862, 43.977654041778095, 43.815739490722414, 41.90310385046065, 41.159093832531646, 38.88858572257071, 38.15478199352163, 37.79357852691711, 37.73542800222495, 36.36995081664464, 35.50166737798951, 35.10910127404809, 32.79807780911492, 32.69439383139555, 31.520896778582784, 30.96157135877251, 30.94202225698864, 237.56556084117122, 45.87260823762514, 187.62920399701747, 118.94603580561389, 86.8931230506935, 74.56971793425845, 74.10289055655926, 72.2668170770544, 69.7326375699315, 68.80924941203733, 66.64299730371081, 51.49927114282415, 47.31176842343126, 44.706177200890004, 43.33890025905414, 41.93191158986285, 41.63797947137012, 40.282403802641966, 38.428657138827376, 37.925951826713536, 37.083133034972654, 36.167378821067835, 35.28734271720337, 33.3517057106553, 32.292925275750726, 31.616040609634982, 30.85322651891603, 27.04864195589583, 26.88088920577065, 26.226596055756985, 25.810026588305057, 25.410087415250327, 443.26169987046603, 120.05517537171748, 103.67887892918155, 70.4597241354151, 52.32997612197568, 41.88374471116821, 31.894160800808564, 30.221886214353763, 29.588398128471898, 23.242482826345377, 17.512349329045993, 17.046240124517997, 16.375624372711105, 16.297841985551848, 16.174426411478922, 13.776400339387417, 13.29466780823785, 12.783443065069912, 12.024654526339086, 11.881466499859947, 11.82546692903011, 11.297506110687861, 10.611806485439386, 10.53823452602744, 10.059150559061639, 10.02919646413456, 7.93286509661858, 7.486849243082372, 7.366934692928817, 6.027632879397932, 5.385369890154514, 95.35175098247429, 60.33014536622467, 53.744583737108584, 50.69884280712388, 48.62233878981929, 42.43685252524879, 31.74303990629892, 29.387208482142142, 28.01108171421159, 25.085953006905523, 22.90978902042714, 22.33630415528696, 20.827880069649407, 17.508857511825884, 17.2406888171321, 16.281216298243766, 16.017197173940296, 14.763796599033002, 13.353109435081686, 13.221166604345257, 12.470578667475186, 12.286132138657571, 11.143514292089979, 10.634963803073248, 10.008601335561686, 10.00407780382633, 9.907344568352839, 9.811924323562133, 9.211055674176901, 8.770618156317687, 196.78658326477296, 87.21600433474038, 53.4466981012824, 36.83567458104484, 29.310191437196877, 25.237411442700463, 21.610292423741356, 21.153000323161574, 20.48936501316681, 19.40486884399614, 18.779742030595525, 17.554127616403683, 16.772509736644654, 15.948971413312334, 15.483622275282434, 15.147704893068457, 14.448926837705093, 13.267846861114426, 12.856812971228692, 12.856812971228692, 11.101747528690776, 10.361697920511828, 9.799604080855216, 9.55267051418614, 6.833816286444118, 6.6160390824315165, 5.990178661507351, 5.468010435160159, 4.775254361607509, 4.558723503084305, 20.021794480933128, 144.17829214539714, 136.76029608450744, 107.83358497658342, 64.4773961279651, 30.778222560620097, 30.533709334357717, 30.533709334357717, 18.868553123249917, 17.01503875918532, 16.821413731564082, 14.513550076045927, 13.629925580371884, 9.81726907379799, 8.850424660578055, 7.384538275653967, 6.943511379827189, 5.3980798900067954, 5.3043663519054824, 4.982273434565594, 4.641391241836774, 4.316493917985238, 2.248012640018868, 0.8538905165517119, 0.8539193570156004, 0.853899301781061, 0.8539309237280329, 0.8538946541910567, 0.8539015606124005, 0.8539033605023811, 0.8539123152094363, 0.8539176067685146, 0.8539212652011106, 261.117502423801, 0.8539313065361398, 0.8539410493302032, 0.8540586762943704, 144.96508683850223, 0.854015956343865, 0.8540682733950539, 0.8540227967187519, 439.62479770458674, 0.8540385777033611, 58.72030596466199, 71.40778391053773, 62.46552849109106, 40.01361612213391, 39.318205154479, 39.15563368815834, 38.8242822754874, 27.169643689615146, 26.68154070434102, 25.436686317880028, 20.900158521371935, 19.978241419240497, 17.509688805263444, 16.641981821513575, 15.273602166516024, 14.183501860383313, 10.864470708830392, 10.40615843226531, 8.40922457223109, 7.949945976279814, 7.062023158090756, 6.897364599705922, 6.676616485093574, 6.4798634199967955, 6.369007382897116, 6.280800719756896, 6.214150901487064, 5.585487141129902, 5.441917153865003, 4.765745907806637, 4.404528938439253, 70.72804475418354, 62.94642832610189, 53.027038535980786, 46.26451942125637, 30.440554279412222, 29.655341576385368, 26.722213659203184, 21.721393815563196, 19.446168300064002, 19.28409927057897, 17.023982271744135, 16.235429639676664, 15.649823727710059, 15.64182224410086, 7.637269085368561, 6.320741421120663, 6.035120774895791, 3.6384460299897152, 3.5338626824278343, 2.1749272419089665, 1.9748363958509645, 0.8538888625192382, 0.8539052142417334, 0.8539288020499602, 0.8538865658620466, 0.8538865658620466, 0.8538909774611765, 0.8538857119177545, 0.8538999553111338, 0.8538900117122539, 0.8539240725585625, 0.8539808480230398, 0.853962654788754, 0.8539015289734854, 0.8539689734466591, 0.8539423421366265, 0.8540312576320147, 0.853974587859991, 0.8540605112222104, 0.8540586762943704, 56.400176306601594, 53.7778467158213, 43.01645118696367, 35.22622818701948, 34.44131160050359, 32.86266834812167, 29.283730063812246, 24.11040959461753, 17.796017299568668, 16.975350890764236, 15.946182785402883, 13.841370806742791, 12.057055600115293, 11.47516391205281, 10.393312213258113, 9.3590189976606, 9.33554371213142, 8.193558578398756, 8.127181601173621, 6.675339254642168, 6.439786613384192, 5.47187084835305, 4.124943321753651, 3.717363634469254, 2.383823671262095, 1.1550635675739473, 1.0771626141712505, 0.8540385777033611, 0.8539284150989606, 0.8539052411137212, 0.8539214085773198, 0.8540448701670859, 90.64964141259269, 29.660458778112076, 20.63468060158727, 20.555918487870088, 20.10266841617795, 13.76946918498588, 11.298480313291732, 10.463397321020263, 9.632964070995497, 9.315535284981411, 9.164045162103676, 8.121422213202669, 8.092118886854093, 7.872937194167485, 5.4743646814969456, 5.373380479495042, 5.0143980511973965, 4.213880298914232, 3.4368894262475544, 3.176162979611051, 2.4054752025080157, 2.1743042888960447, 1.9843561178160136, 1.839773609599524, 1.7664372361475935, 1.7548349222413726, 1.652818286596389, 1.3511591992054217, 1.1989282044227243, 0.853913343355567, 56.76933844585827, 25.59978729935937, 20.538108446264914, 18.493827341236777, 16.475969008859582, 15.980532661888487, 10.101483086053527, 6.396382215409929, 5.9914170830928, 5.861417328301886, 5.197158712036833, 4.00747632114874, 3.3191593127462706, 2.65497207361479, 2.632092801448377, 2.134254805625131, 2.0957939690984104, 1.9553495798514684, 1.4177263044022392, 0.8539072768808023, 0.8538982779931048, 0.8539071490240449, 0.8538866787511288, 0.8538866787511288, 0.8538866787511288, 0.8538866787511288, 0.8538866787511288, 0.8538866787511288, 0.8538866787511288, 0.8538866787511288, 0.8538893327880692, 0.8539411068238706, 0.8539167425368445, 0.8539232882023636, 0.8540586762943704, 0.8539029025518459, 0.8539520468996397, 0.8539212147126041, 0.8539162780388079, 0.8539490384354532, 0.8539309237280329, 0.8539969627059675, 0.8540605112222104, 36.64260410431327, 31.563635338146916, 25.675362818196533, 14.58336919492133, 12.201482749654083, 11.499936095387504, 8.192496786508233, 3.819072577844102, 3.431661341677132, 2.839974273824854, 105.71168482454833, 0.8539036378330754, 0.8538911328542073, 0.8539304438926016, 0.853924850637487, 0.8539104352665006, 0.8539361961066974, 0.8538961588909862, 0.8538909719676381, 0.8538998837878184, 0.8538992024762864, 0.8539309237280329, 0.8538914183335975, 0.8539256108302369, 0.8538854237667495, 0.853889989291518, 0.8539052142417334, 0.8538884854708949, 0.8538867408638218, 0.8538867408638218, 0.8539020394092061, 0.8538922992111273, 0.8539301225706919, 0.8539408276386218, 0.8539067042384916, 0.8539150051278903, 0.853964691447972, 0.8539520468996397, 0.854015956343865, 0.8539624493902112, 0.853974587859991, 0.853928604898473, 0.8540586762943704, 0.8540097927162054, 0.8539410493302032, 0.8540448701670859, 0.8540227967187519, 170.03030290550458, 474.85214748281606, 23.0848250957858, 13.941414936082248, 12.362126384709553, 9.673198268383478, 9.000137840591846, 7.01593076670313, 3.539725257114564, 3.5298305441619755, 3.2659989027032132, 2.352808618889461, 1.6041312027875458, 1.3991997270230532, 0.8539087114635836, 0.8539240725585625, 0.8539071015877453, 0.8539512924482575, 0.8538841856294528, 0.8538841856294528, 0.8538864337116148, 0.8538854988718966, 0.8538854988718966, 0.8538854988718966, 0.8538854988718966, 0.8538865557630605, 0.8538805867617609, 0.8538805867617609, 0.8538805867617609, 0.8538805867617609, 0.8538871384629727, 0.8538810614420338, 0.8539056038739545, 0.8539141145236437, 0.853888592566661, 0.8538847530999106, 0.8538969396112895, 0.8538919189899996, 0.8539356237690484, 0.8539052142417334, 0.8539034944241467, 0.8539331867114542, 0.8540312576320147, 0.853964691447972, 0.8538941736592074, 0.8539808480230398, 0.8539193570156004, 0.8539672463063418, 0.8539333375813994, 0.8539268435471548, 0.853974587859991, 0.8539253598447415, 0.8539320596492657, 0.8539667970682937, 0.8540097927162054, 0.8540605112222104, 17.03832319750622, 12.666233572221639, 9.905527834694391, 6.223116801708477, 2.2599433882755755, 0.853899301781061, 0.8538846534844623, 0.8538801781713815, 0.8538801781713815, 0.853880414512486, 0.853886073918927, 0.8538897625933264, 0.8538829461763157, 0.8538809955376808, 0.8538809955376808, 0.8538809955376808, 0.8538809955376808, 0.8538994304520879, 0.8538891470679058, 0.8538813282082169, 0.8538847317123298, 0.8538792286067807, 0.8538792286067807, 0.8538859427028765, 0.853882500548087, 0.8538791070191433, 0.8538783637101207, 0.8538802163111259, 0.853880234495032, 0.8538863077754155, 0.8538991991810783, 0.8538891870920581, 0.8538836856049077, 0.853895799509834, 0.8539009823503687, 0.8538930759870376, 0.8538930022031552, 0.8540385777033611, 0.8538982047776437, 0.8539193570156004, 0.8538954235029124, 0.8539166403765477, 0.8538959549661775, 0.8539052411137212, 0.8539054911253946, 0.8539648410952103, 0.8539156818422262, 0.853962654788754, 0.8539288020499602, 0.8539941799209892, 0.8539808480230398, 0.8539423421366265, 0.8540448701670859, 0.8539306861326, 0.8539675860991742, 0.8539689734466591, 0.8539671276301545, 0.8540586762943704, 0.8539368985406176, 0.8539304697095279, 0.8539455620994787, 0.8540312576320147, 0.8539512924482575, 0.853974587859991, 11.443787315108443, 8.45411772288973, 7.913870339660192, 5.915294984865809, 4.737611450448722, 2.603715815434814, 2.040054986652685, 2.0369006992498084, 1.6168914299686803, 1.3296252012941827, 0.8539937757305098, 0.8539356543198412, 0.8539066188867164, 0.8539070913728578, 0.8539154627824512, 0.8539354834632579, 0.853884409065222, 0.853884409065222, 0.8538968764648455, 0.8539201368603057, 0.8539005070650036, 0.8538998951881569, 0.8538895097644393, 0.8539132562350265, 0.853905361892157, 0.8538882435988119, 0.8538836653586943, 0.8538849750662333, 0.8538808618777586, 0.8538808618777586, 0.8539071490240449, 0.8538863407924578, 0.8538884524049821, 0.8538980643604857, 0.8538972581728973, 0.8539099556254944, 0.8539133666442771, 0.853907265217826, 0.8539378249886764, 0.8539284150989606, 0.8539811791012383, 0.8540605112222104, 0.8539724454138323, 0.8539551329474409, 7.1875381351139715, 5.848247896362502, 5.013308454934586, 2.8872075875483674, 2.298507891558482, 2.210125739770942, 1.9010101342205807, 1.518533529290542, 1.2427373883462458, 0.8538816540759336, 0.8538816540759336, 0.8538897817427636, 0.8538846203267643, 0.8538850701049756, 0.8538882882590855, 0.8538858076132039, 0.8538810742708444, 0.8538879477911963, 0.8538820094838866, 0.8538821626942779, 0.8538823019237987, 0.8538826739094801, 0.8538794754103806, 0.8538794754103806, 0.8538794754103806, 0.8538794754103806, 0.8538794754103806, 0.8538794754103806, 0.8538794754103806, 0.8538794754103806, 0.8538921868391414, 0.8538798007747359, 0.8538971391807053, 0.8538936598179436, 0.8538859233678764, 0.8538862274944977, 0.8538808225645335, 0.8538808225645335, 0.8538867599017708, 0.8538835756874814, 0.8538927615502339, 0.8539056167429274, 0.8540605112222104, 0.8539049632383388, 0.8539318284147949, 0.8539411068238706, 0.853974587859991, 0.8539059914986143, 0.8540682733950539, 0.8539524196597685, 0.8539103168646096, 0.8539905985169418, 5.902956296470131, 3.5265317235220026, 1.0566185768538219, 0.8538819421027695, 0.8538803727395117, 0.8538803727395117, 0.8538852249242943, 0.8538807811334473, 0.8538808979690019, 0.8538817782417929, 0.853880505817661, 0.8538813630163092, 0.8538788827303454, 0.8538820550052986, 0.8538802642391683, 0.8538783982138594, 0.8538778694404395, 0.8538785099787135, 0.8538783969946622, 0.8538783969946622, 0.8538783969946622, 0.8538787539723195, 0.8538788091119985, 0.8538788091119985, 0.8538788091119985, 0.8538788091119985, 0.8538788091119985, 0.8538775192733336, 0.8538775192733336, 0.8538775192733336, 0.8538801178355517, 0.8538801178355517, 0.8538852387119367, 0.8538841806097407, 0.8538827033102061, 0.8538862489014344, 0.8538918920368943, 0.8538829925646995, 0.8538895558441465, 0.8538916782830155, 0.8538897478484108, 0.8539301225706919, 0.8538909719676381, 0.8539126297299613, 0.853889989291518, 0.8538961461518881, 0.8538981943012979, 0.8539208245129327, 0.853964691447972, 0.8539190051747761, 0.8539362049318762, 0.8539379155565523, 0.8539042168123905, 0.854015956343865, 0.8539212652011106, 0.8539667970682937, 0.8540586762943704, 0.8539399052786905, 0.8539724454138323, 0.853974587859991, 0.8539193570156004, 0.8539670865137267, 0.8539408276386218, 0.8539746320053953, 0.8539378249886764, 0.8540605112222104, 0.8539941799209892], \"Category\": [\"Default\", \"Default\", \"Default\", \"Default\", \"Default\", \"Default\", \"Default\", \"Default\", \"Default\", \"Default\", \"Default\", \"Default\", \"Default\", \"Default\", \"Default\", \"Default\", \"Default\", \"Default\", \"Default\", \"Default\", \"Default\", \"Default\", \"Default\", \"Default\", \"Default\", \"Default\", \"Default\", \"Default\", \"Default\", \"Default\", \"Topic1\", \"Topic1\", \"Topic1\", \"Topic1\", \"Topic1\", \"Topic1\", \"Topic1\", \"Topic1\", \"Topic1\", \"Topic1\", \"Topic1\", \"Topic1\", \"Topic1\", \"Topic1\", \"Topic1\", \"Topic1\", \"Topic1\", \"Topic1\", \"Topic1\", \"Topic1\", \"Topic1\", \"Topic1\", \"Topic1\", \"Topic1\", \"Topic1\", \"Topic1\", \"Topic1\", \"Topic1\", \"Topic1\", \"Topic1\", \"Topic1\", \"Topic1\", \"Topic1\", \"Topic1\", \"Topic1\", \"Topic1\", \"Topic1\", \"Topic1\", \"Topic1\", \"Topic1\", \"Topic1\", \"Topic1\", \"Topic2\", \"Topic2\", \"Topic2\", \"Topic2\", \"Topic2\", \"Topic2\", \"Topic2\", \"Topic2\", \"Topic2\", \"Topic2\", \"Topic2\", \"Topic2\", \"Topic2\", \"Topic2\", \"Topic2\", \"Topic2\", \"Topic2\", \"Topic2\", \"Topic2\", \"Topic2\", \"Topic2\", \"Topic2\", \"Topic2\", \"Topic2\", \"Topic2\", \"Topic2\", \"Topic2\", \"Topic2\", \"Topic2\", \"Topic2\", \"Topic2\", \"Topic2\", \"Topic2\", \"Topic2\", \"Topic2\", \"Topic2\", \"Topic2\", \"Topic2\", \"Topic2\", \"Topic2\", \"Topic2\", \"Topic2\", \"Topic3\", \"Topic3\", \"Topic3\", \"Topic3\", \"Topic3\", \"Topic3\", \"Topic3\", \"Topic3\", \"Topic3\", \"Topic3\", \"Topic3\", \"Topic3\", \"Topic3\", \"Topic3\", \"Topic3\", \"Topic3\", \"Topic3\", \"Topic3\", \"Topic3\", \"Topic3\", \"Topic3\", \"Topic3\", \"Topic3\", \"Topic3\", \"Topic3\", \"Topic3\", \"Topic3\", \"Topic3\", \"Topic3\", \"Topic3\", \"Topic3\", \"Topic3\", \"Topic3\", \"Topic3\", \"Topic3\", \"Topic3\", \"Topic3\", \"Topic3\", \"Topic3\", \"Topic3\", \"Topic3\", \"Topic4\", \"Topic4\", \"Topic4\", \"Topic4\", \"Topic4\", \"Topic4\", \"Topic4\", \"Topic4\", \"Topic4\", \"Topic4\", \"Topic4\", \"Topic4\", \"Topic4\", \"Topic4\", \"Topic4\", \"Topic4\", \"Topic4\", \"Topic4\", \"Topic4\", \"Topic4\", \"Topic4\", \"Topic4\", \"Topic4\", \"Topic4\", \"Topic4\", \"Topic4\", \"Topic4\", \"Topic4\", \"Topic4\", \"Topic4\", \"Topic4\", \"Topic4\", \"Topic5\", \"Topic5\", \"Topic5\", \"Topic5\", \"Topic5\", \"Topic5\", \"Topic5\", \"Topic5\", \"Topic5\", \"Topic5\", \"Topic5\", \"Topic5\", \"Topic5\", \"Topic5\", \"Topic5\", \"Topic5\", \"Topic5\", \"Topic5\", \"Topic5\", \"Topic5\", \"Topic5\", \"Topic5\", \"Topic5\", \"Topic5\", \"Topic5\", \"Topic5\", \"Topic5\", \"Topic5\", \"Topic5\", \"Topic5\", \"Topic5\", \"Topic6\", \"Topic6\", \"Topic6\", \"Topic6\", \"Topic6\", \"Topic6\", \"Topic6\", \"Topic6\", \"Topic6\", \"Topic6\", \"Topic6\", \"Topic6\", \"Topic6\", \"Topic6\", \"Topic6\", \"Topic6\", \"Topic6\", \"Topic6\", \"Topic6\", \"Topic6\", \"Topic6\", \"Topic6\", \"Topic6\", \"Topic6\", \"Topic6\", \"Topic6\", \"Topic6\", \"Topic6\", \"Topic6\", \"Topic6\", \"Topic7\", \"Topic7\", \"Topic7\", \"Topic7\", \"Topic7\", \"Topic7\", \"Topic7\", \"Topic7\", \"Topic7\", \"Topic7\", \"Topic7\", \"Topic7\", \"Topic7\", \"Topic7\", \"Topic7\", \"Topic7\", \"Topic7\", \"Topic7\", \"Topic7\", \"Topic7\", \"Topic7\", \"Topic7\", \"Topic7\", \"Topic7\", \"Topic7\", \"Topic7\", \"Topic7\", \"Topic7\", \"Topic7\", \"Topic7\", \"Topic8\", \"Topic8\", \"Topic8\", \"Topic8\", \"Topic8\", \"Topic8\", \"Topic8\", \"Topic8\", \"Topic8\", \"Topic8\", \"Topic8\", \"Topic8\", \"Topic8\", \"Topic8\", \"Topic8\", \"Topic8\", \"Topic8\", \"Topic8\", \"Topic8\", \"Topic8\", \"Topic8\", \"Topic8\", \"Topic8\", \"Topic8\", \"Topic8\", \"Topic8\", \"Topic8\", \"Topic8\", \"Topic8\", \"Topic8\", \"Topic8\", \"Topic9\", \"Topic9\", \"Topic9\", \"Topic9\", \"Topic9\", \"Topic9\", \"Topic9\", \"Topic9\", \"Topic9\", \"Topic9\", \"Topic9\", \"Topic9\", \"Topic9\", \"Topic9\", \"Topic9\", \"Topic9\", \"Topic9\", \"Topic9\", \"Topic9\", \"Topic9\", \"Topic9\", \"Topic9\", \"Topic9\", \"Topic9\", \"Topic9\", \"Topic9\", \"Topic9\", \"Topic9\", \"Topic9\", \"Topic9\", \"Topic9\", \"Topic9\", \"Topic9\", \"Topic9\", \"Topic9\", \"Topic9\", \"Topic9\", \"Topic9\", \"Topic9\", \"Topic9\", \"Topic9\", \"Topic9\", \"Topic9\", \"Topic10\", \"Topic10\", \"Topic10\", \"Topic10\", \"Topic10\", \"Topic10\", \"Topic10\", \"Topic10\", \"Topic10\", \"Topic10\", \"Topic10\", \"Topic10\", \"Topic10\", \"Topic10\", \"Topic10\", \"Topic10\", \"Topic10\", \"Topic10\", \"Topic10\", \"Topic10\", \"Topic10\", \"Topic10\", \"Topic10\", \"Topic10\", \"Topic10\", \"Topic10\", \"Topic10\", \"Topic10\", \"Topic10\", \"Topic10\", \"Topic11\", \"Topic11\", \"Topic11\", \"Topic11\", \"Topic11\", \"Topic11\", \"Topic11\", \"Topic11\", \"Topic11\", \"Topic11\", \"Topic11\", \"Topic11\", \"Topic11\", \"Topic11\", \"Topic11\", \"Topic11\", \"Topic11\", \"Topic11\", \"Topic11\", \"Topic11\", \"Topic11\", \"Topic11\", \"Topic11\", \"Topic11\", \"Topic11\", \"Topic11\", \"Topic11\", \"Topic11\", \"Topic11\", \"Topic11\", \"Topic11\", \"Topic11\", \"Topic11\", \"Topic11\", \"Topic11\", \"Topic11\", \"Topic11\", \"Topic11\", \"Topic11\", \"Topic11\", \"Topic12\", \"Topic12\", \"Topic12\", \"Topic12\", \"Topic12\", \"Topic12\", \"Topic12\", \"Topic12\", \"Topic12\", \"Topic12\", \"Topic12\", \"Topic12\", \"Topic12\", \"Topic12\", \"Topic12\", \"Topic12\", \"Topic12\", \"Topic12\", \"Topic12\", \"Topic12\", \"Topic12\", \"Topic12\", \"Topic12\", \"Topic12\", \"Topic12\", \"Topic12\", \"Topic12\", \"Topic12\", \"Topic12\", \"Topic12\", \"Topic12\", \"Topic12\", \"Topic13\", \"Topic13\", \"Topic13\", \"Topic13\", \"Topic13\", \"Topic13\", \"Topic13\", \"Topic13\", \"Topic13\", \"Topic13\", \"Topic13\", \"Topic13\", \"Topic13\", \"Topic13\", \"Topic13\", \"Topic13\", \"Topic13\", \"Topic13\", \"Topic13\", \"Topic13\", \"Topic13\", \"Topic13\", \"Topic13\", \"Topic13\", \"Topic13\", \"Topic13\", \"Topic13\", \"Topic13\", \"Topic13\", \"Topic13\", \"Topic13\", \"Topic14\", \"Topic14\", \"Topic14\", \"Topic14\", \"Topic14\", \"Topic14\", \"Topic14\", \"Topic14\", \"Topic14\", \"Topic14\", \"Topic14\", \"Topic14\", \"Topic14\", \"Topic14\", \"Topic14\", \"Topic14\", \"Topic14\", \"Topic14\", \"Topic14\", \"Topic14\", \"Topic14\", \"Topic14\", \"Topic14\", \"Topic14\", \"Topic14\", \"Topic14\", \"Topic14\", \"Topic14\", \"Topic14\", \"Topic14\", \"Topic14\", \"Topic14\", \"Topic14\", \"Topic14\", \"Topic14\", \"Topic14\", \"Topic14\", \"Topic14\", \"Topic14\", \"Topic14\", \"Topic14\", \"Topic14\", \"Topic15\", \"Topic15\", \"Topic15\", \"Topic15\", \"Topic15\", \"Topic15\", \"Topic15\", \"Topic15\", \"Topic15\", \"Topic15\", \"Topic15\", \"Topic15\", \"Topic15\", \"Topic15\", \"Topic15\", \"Topic15\", \"Topic15\", \"Topic15\", \"Topic15\", \"Topic15\", \"Topic15\", \"Topic15\", \"Topic15\", \"Topic15\", \"Topic15\", \"Topic15\", \"Topic15\", \"Topic15\", \"Topic15\", \"Topic15\", \"Topic15\", \"Topic15\", \"Topic15\", \"Topic15\", \"Topic15\", \"Topic15\", \"Topic15\", \"Topic15\", \"Topic15\", \"Topic15\", \"Topic15\", \"Topic15\", \"Topic15\", \"Topic15\", \"Topic15\", \"Topic15\", \"Topic15\", \"Topic15\", \"Topic15\", \"Topic16\", \"Topic16\", \"Topic16\", \"Topic16\", \"Topic16\", \"Topic16\", \"Topic16\", \"Topic16\", \"Topic16\", \"Topic16\", \"Topic16\", \"Topic16\", \"Topic16\", \"Topic16\", \"Topic16\", \"Topic16\", \"Topic16\", \"Topic16\", \"Topic16\", \"Topic16\", \"Topic16\", \"Topic16\", \"Topic16\", \"Topic16\", \"Topic16\", \"Topic16\", \"Topic16\", \"Topic16\", \"Topic16\", \"Topic16\", \"Topic16\", \"Topic16\", \"Topic16\", \"Topic16\", \"Topic16\", \"Topic16\", \"Topic16\", \"Topic16\", \"Topic16\", \"Topic16\", \"Topic16\", \"Topic16\", \"Topic16\", \"Topic16\", \"Topic16\", \"Topic16\", \"Topic16\", \"Topic16\", \"Topic16\", \"Topic16\", \"Topic16\", \"Topic16\", \"Topic16\", \"Topic16\", \"Topic17\", \"Topic17\", \"Topic17\", \"Topic17\", \"Topic17\", \"Topic17\", \"Topic17\", \"Topic17\", \"Topic17\", \"Topic17\", \"Topic17\", \"Topic17\", \"Topic17\", \"Topic17\", \"Topic17\", \"Topic17\", \"Topic17\", \"Topic17\", \"Topic17\", \"Topic17\", \"Topic17\", \"Topic17\", \"Topic17\", \"Topic17\", \"Topic17\", \"Topic17\", \"Topic17\", \"Topic17\", \"Topic17\", \"Topic17\", \"Topic17\", \"Topic17\", \"Topic17\", \"Topic17\", \"Topic17\", \"Topic17\", \"Topic17\", \"Topic17\", \"Topic17\", \"Topic17\", \"Topic17\", \"Topic17\", \"Topic17\", \"Topic17\", \"Topic17\", \"Topic17\", \"Topic17\", \"Topic17\", \"Topic17\", \"Topic17\", \"Topic17\", \"Topic17\", \"Topic17\", \"Topic17\", \"Topic17\", \"Topic17\", \"Topic17\", \"Topic17\", \"Topic17\", \"Topic17\", \"Topic17\", \"Topic17\", \"Topic17\", \"Topic17\", \"Topic18\", \"Topic18\", \"Topic18\", \"Topic18\", \"Topic18\", \"Topic18\", \"Topic18\", \"Topic18\", \"Topic18\", \"Topic18\", \"Topic18\", \"Topic18\", \"Topic18\", \"Topic18\", \"Topic18\", \"Topic18\", \"Topic18\", \"Topic18\", \"Topic18\", \"Topic18\", \"Topic18\", \"Topic18\", \"Topic18\", \"Topic18\", \"Topic18\", \"Topic18\", \"Topic18\", \"Topic18\", \"Topic18\", \"Topic18\", \"Topic18\", \"Topic18\", \"Topic18\", \"Topic18\", \"Topic18\", \"Topic18\", \"Topic18\", \"Topic18\", \"Topic18\", \"Topic18\", \"Topic18\", \"Topic18\", \"Topic18\", \"Topic18\", \"Topic19\", \"Topic19\", \"Topic19\", \"Topic19\", \"Topic19\", \"Topic19\", \"Topic19\", \"Topic19\", \"Topic19\", \"Topic19\", \"Topic19\", \"Topic19\", \"Topic19\", \"Topic19\", \"Topic19\", \"Topic19\", \"Topic19\", \"Topic19\", \"Topic19\", \"Topic19\", \"Topic19\", \"Topic19\", \"Topic19\", \"Topic19\", \"Topic19\", \"Topic19\", \"Topic19\", \"Topic19\", \"Topic19\", \"Topic19\", \"Topic19\", \"Topic19\", \"Topic19\", \"Topic19\", \"Topic19\", \"Topic19\", \"Topic19\", \"Topic19\", \"Topic19\", \"Topic19\", \"Topic19\", \"Topic19\", \"Topic19\", \"Topic19\", \"Topic19\", \"Topic19\", \"Topic19\", \"Topic19\", \"Topic19\", \"Topic19\", \"Topic19\", \"Topic19\", \"Topic20\", \"Topic20\", \"Topic20\", \"Topic20\", \"Topic20\", \"Topic20\", \"Topic20\", \"Topic20\", \"Topic20\", \"Topic20\", \"Topic20\", \"Topic20\", \"Topic20\", \"Topic20\", \"Topic20\", \"Topic20\", \"Topic20\", \"Topic20\", \"Topic20\", \"Topic20\", \"Topic20\", \"Topic20\", \"Topic20\", \"Topic20\", \"Topic20\", \"Topic20\", \"Topic20\", \"Topic20\", \"Topic20\", \"Topic20\", \"Topic20\", \"Topic20\", \"Topic20\", \"Topic20\", \"Topic20\", \"Topic20\", \"Topic20\", \"Topic20\", \"Topic20\", \"Topic20\", \"Topic20\", \"Topic20\", \"Topic20\", \"Topic20\", \"Topic20\", \"Topic20\", \"Topic20\", \"Topic20\", \"Topic20\", \"Topic20\", \"Topic20\", \"Topic20\", \"Topic20\", \"Topic20\", \"Topic20\", \"Topic20\", \"Topic20\", \"Topic20\", \"Topic20\", \"Topic20\", \"Topic20\", \"Topic20\", \"Topic20\", \"Topic20\", \"Topic20\", \"Topic20\", \"Topic20\"], \"logprob\": [30.0, 29.0, 28.0, 27.0, 26.0, 25.0, 24.0, 23.0, 22.0, 21.0, 20.0, 19.0, 18.0, 17.0, 16.0, 15.0, 14.0, 13.0, 12.0, 11.0, 10.0, 9.0, 8.0, 7.0, 6.0, 5.0, 4.0, 3.0, 2.0, 1.0, -3.7097, -4.1664, -4.3388, -4.372, -4.4007, -4.5638, -4.5763, -4.7426, -4.8704, -4.8827, -4.8837, -4.9611, -4.9699, -5.0041, -5.01, -5.0176, -5.0332, -5.0943, -5.1477, -5.1533, -5.1568, -5.1757, -5.147, -5.2052, -5.2191, -5.2925, -5.3542, -5.3827, -5.4231, -5.4411, -3.0673, -3.4688, -4.7626, -4.8718, -3.8759, -4.3618, -3.8399, -4.3408, -5.022, -3.8797, -5.0324, -4.7688, -3.4323, -3.7258, -3.8184, -4.0221, -4.035, -4.408, -4.4626, -4.5803, -4.5994, -4.5965, -4.62, -4.6317, -4.2906, -4.6459, -4.6957, -4.7376, -4.7409, -4.7518, -4.7552, -4.8566, -4.8707, -4.876, -4.9144, -5.1291, -5.146, -5.1477, -4.8035, -5.2608, -5.3095, -5.3141, -2.9308, -4.5419, -5.0066, -3.268, -4.1843, -3.4, -4.1742, -3.7029, -3.0873, -4.1405, -4.6189, -3.8993, -3.7002, -3.9841, -4.2853, -4.289, -4.3386, -4.3752, -4.4825, -4.5115, -4.5383, -4.6251, -4.6308, -4.655, -4.665, -4.6754, -4.7403, -4.7518, -4.8041, -4.8116, -4.8284, -4.8659, -4.9131, -4.936, -4.9421, -4.9533, -4.9615, -4.9657, -4.9834, -4.9948, -5.0116, -5.026, -3.4734, -4.7163, -2.9491, -4.142, -4.4009, -4.8964, -3.8238, -4.0109, -4.7603, -4.3642, -4.8225, -3.052, -3.1619, -3.2181, -3.3312, -3.5381, -3.8999, -3.9454, -4.0636, -4.1231, -4.1409, -4.1675, -4.2185, -4.2199, -4.307, -4.4175, -4.4213, -4.4668, -4.485, -4.5429, -4.5624, -4.5721, -4.5736, -4.6113, -4.636, -4.6474, -4.7171, -4.7203, -4.7578, -4.7762, -4.7768, -3.4603, -4.5671, -2.871, -3.3292, -3.6456, -3.8001, -3.8065, -3.8318, -3.8679, -3.8814, -3.9138, -4.1751, -4.2612, -4.3189, -4.3505, -4.3841, -4.3913, -4.425, -4.4731, -4.4866, -4.5095, -4.5351, -4.5603, -4.618, -4.651, -4.6728, -4.6978, -4.8331, -4.8395, -4.8649, -4.8814, -4.8975, -2.2324, -2.5415, -2.6892, -3.0791, -3.3806, -3.6072, -3.8858, -3.9411, -3.9629, -4.2119, -4.5068, -4.5351, -4.5772, -4.5822, -4.5902, -4.7598, -4.7977, -4.8395, -4.9049, -4.9177, -4.9228, -4.9719, -5.0395, -5.047, -5.0975, -5.1007, -5.3585, -5.4231, -5.4412, -5.6694, -5.8006, -2.7592, -3.2219, -3.3392, -3.3984, -3.4409, -3.5794, -3.8763, -3.9555, -4.0049, -4.1186, -4.2125, -4.2388, -4.3114, -4.4927, -4.5089, -4.569, -4.5862, -4.6722, -4.7788, -4.7893, -4.8517, -4.8676, -4.9724, -5.0229, -5.0887, -5.0892, -5.0998, -5.1103, -5.1794, -5.2332, -1.9777, -2.7966, -3.2923, -3.6714, -3.9057, -4.0599, -4.2207, -4.2429, -4.2761, -4.3327, -4.3669, -4.4376, -4.4854, -4.5384, -4.5696, -4.5927, -4.6427, -4.7333, -4.7668, -4.7668, -4.9243, -4.9989, -5.0595, -5.0874, -5.4598, -5.4966, -5.6107, -5.7169, -5.8779, -5.934, -5.7072, -2.2051, -2.2582, -2.4974, -3.0168, -3.7704, -3.7786, -3.7786, -4.277, -4.3853, -4.3973, -4.553, -4.6197, -4.9727, -5.0863, -5.2877, -5.3571, -5.6476, -5.6682, -5.7426, -5.8279, -5.9166, -6.809, -10.3585, -10.3585, -10.3585, -10.3585, -10.3585, -10.3585, -10.3585, -10.3585, -10.3585, -10.3585, -6.5135, -10.3585, -10.3585, -10.3584, -7.8636, -10.3585, -10.3584, -10.3585, -8.6499, -10.3585, -10.3534, -2.8674, -3.0028, -3.4556, -3.4735, -3.4777, -3.4864, -3.8525, -3.8712, -3.9205, -4.1241, -4.1711, -4.309, -4.3623, -4.4527, -4.5311, -4.8163, -4.863, -5.0963, -5.1586, -5.2914, -5.3181, -5.355, -5.3891, -5.4089, -5.4249, -5.4371, -5.5608, -5.5913, -5.7491, -5.8448, -2.7825, -2.9005, -3.0744, -3.2131, -3.6411, -3.6679, -3.7751, -3.9896, -4.1048, -4.1135, -4.244, -4.2938, -4.3325, -4.3331, -5.1089, -5.3232, -5.3764, -5.9901, -6.0278, -6.7187, -6.8772, -10.1552, -10.1552, -10.1552, -10.1552, -10.1552, -10.1552, -10.1552, -10.1552, -10.1552, -10.1552, -10.1551, -10.1552, -10.1552, -10.1552, -10.1552, -10.1551, -10.1552, -10.1552, -10.1552, -2.9542, -3.0025, -3.2296, -3.4337, -3.4568, -3.5049, -3.6233, -3.8238, -4.1399, -4.1895, -4.2553, -4.405, -4.5523, -4.6055, -4.7125, -4.8267, -4.8295, -4.9734, -4.9824, -5.2037, -5.2447, -5.4335, -5.7748, -5.9061, -6.5209, -8.0467, -8.3056, -10.1838, -10.1842, -10.1842, -10.1842, -10.1841, -2.2341, -3.3701, -3.7455, -3.7494, -3.7727, -4.1708, -4.3825, -4.4655, -4.5555, -4.5922, -4.6102, -4.7436, -4.7477, -4.7782, -5.1937, -5.2157, -5.2977, -5.5094, -5.7692, -5.874, -6.2697, -6.4271, -6.578, -6.7103, -6.7848, -6.7971, -6.9123, -7.3606, -7.6967, -10.0545, -10.0545, -3.0223, -3.2509, -3.3604, -3.4817, -3.5139, -4.0049, -4.5151, -4.5906, -4.6161, -4.7577, -5.0757, -5.3198, -5.6301, -5.6427, -5.9659, -5.9958, -6.1134, -6.7625, -9.9448, -9.9448, -9.9448, -9.9448, -9.9448, -9.9448, -9.9448, -9.9448, -9.9448, -9.9448, -9.9448, -9.9448, -9.9448, -9.9448, -9.9448, -9.9448, -9.9448, -9.9448, -9.9448, -9.9448, -9.9448, -9.9448, -9.9448, -9.9448, -2.5577, -2.7106, -2.9233, -3.5148, -3.7051, -3.7688, -4.1399, -5.042, -5.181, -5.4393, -4.9432, -10.0122, -10.0122, -10.0122, -10.0122, -10.0122, -10.0122, -10.0123, -10.0123, -10.0123, -10.0123, -10.0122, -10.0123, -10.0122, -10.0123, -10.0123, -10.0123, -10.0123, -10.0123, -10.0123, -10.0123, -10.0123, -10.0123, -10.0122, -10.0123, -10.0123, -10.0122, -10.0122, -10.0122, -10.0122, -10.0122, -10.0123, -10.0122, -10.0122, -10.0123, -10.0122, -10.0123, -10.0089, -10.0117, -2.933, -3.4621, -3.5905, -3.856, -3.9352, -4.2135, -5.0393, -5.043, -5.1459, -5.6161, -6.2938, -6.6022, -9.8491, -9.8491, -9.8491, -9.8491, -9.8492, -9.8492, -9.8492, -9.8492, -9.8492, -9.8492, -9.8492, -9.8492, -9.8492, -9.8492, -9.8492, -9.8492, -9.8492, -9.8492, -9.8492, -9.8492, -9.8492, -9.8492, -9.8492, -9.8492, -9.8491, -9.8492, -9.8492, -9.8492, -9.8491, -9.8491, -9.8492, -9.8491, -9.8492, -9.8492, -9.8492, -9.8492, -9.8492, -9.8492, -9.8492, -9.8492, -9.8492, -9.8492, -2.8353, -3.1498, -3.4156, -3.9367, -5.2687, -9.8081, -9.8081, -9.8081, -9.8081, -9.8081, -9.8081, -9.8081, -9.8081, -9.8081, -9.8081, -9.8081, -9.8081, -9.8081, -9.8081, -9.8081, -9.8081, -9.8081, -9.8081, -9.8081, -9.8081, -9.8081, -9.8081, -9.8081, -9.8081, -9.8081, -9.8081, -9.8081, -9.8081, -9.8081, -9.8081, -9.8081, -9.8081, -9.808, -9.8081, -9.8081, -9.8081, -9.8081, -9.8081, -9.8081, -9.8081, -9.8081, -9.8081, -9.8081, -9.8081, -9.8081, -9.8081, -9.8081, -9.8081, -9.8081, -9.8081, -9.8081, -9.8081, -9.8081, -9.8081, -9.8081, -9.8081, -9.8081, -9.8081, -9.8081, -3.1819, -3.5131, -3.5867, -3.9187, -4.1827, -4.9756, -5.3606, -5.3632, -5.7953, -6.2568, -9.8032, -9.8033, -9.8033, -9.8033, -9.8033, -9.8033, -9.8034, -9.8034, -9.8034, -9.8033, -9.8034, -9.8034, -9.8034, -9.8034, -9.8034, -9.8034, -9.8034, -9.8034, -9.8034, -9.8034, -9.8034, -9.8034, -9.8034, -9.8034, -9.8034, -9.8034, -9.8034, -9.8034, -9.8034, -9.8034, -9.8034, -9.8034, -9.8034, -9.8034, -3.4419, -3.679, -3.8614, -4.5743, -4.9138, -4.9764, -5.2326, -5.6809, -6.205, -9.7552, -9.7552, -9.7552, -9.7552, -9.7552, -9.7552, -9.7552, -9.7552, -9.7552, -9.7552, -9.7552, -9.7552, -9.7552, -9.7552, -9.7552, -9.7552, -9.7552, -9.7552, -9.7552, -9.7552, -9.7552, -9.7552, -9.7552, -9.7552, -9.7552, -9.7552, -9.7552, -9.7552, -9.7552, -9.7552, -9.7552, -9.7552, -9.7552, -9.7552, -9.7552, -9.7552, -9.7552, -9.7552, -9.7552, -9.7552, -9.7552, -9.7552, -9.7552, -3.063, -3.698, -6.2476, -9.7113, -9.7113, -9.7113, -9.7113, -9.7113, -9.7113, -9.7113, -9.7113, -9.7113, -9.7113, -9.7113, -9.7113, -9.7113, -9.7113, -9.7113, -9.7113, -9.7113, -9.7113, -9.7113, -9.7113, -9.7113, -9.7113, -9.7113, -9.7113, -9.7113, -9.7113, -9.7113, -9.7113, -9.7113, -9.7113, -9.7113, -9.7113, -9.7113, -9.7113, -9.7113, -9.7113, -9.7113, -9.7113, -9.7113, -9.7113, -9.7113, -9.7113, -9.7113, -9.7113, -9.7113, -9.7113, -9.7113, -9.7113, -9.7113, -9.7113, -9.7113, -9.7113, -9.7113, -9.7113, -9.7113, -9.7113, -9.7113, -9.7113, -9.7113, -9.7113, -9.7113, -9.7113, -9.7113, -9.7113], \"loglift\": [30.0, 29.0, 28.0, 27.0, 26.0, 25.0, 24.0, 23.0, 22.0, 21.0, 20.0, 19.0, 18.0, 17.0, 16.0, 15.0, 14.0, 13.0, 12.0, 11.0, 10.0, 9.0, 8.0, 7.0, 6.0, 5.0, 4.0, 3.0, 2.0, 1.0, 0.7401, 0.7397, 0.7395, 0.7395, 0.7395, 0.7393, 0.7392, 0.739, 0.7387, 0.7387, 0.7387, 0.7385, 0.7385, 0.7384, 0.7384, 0.7384, 0.7384, 0.7382, 0.7381, 0.7381, 0.7381, 0.738, 0.738, 0.7379, 0.7379, 0.7377, 0.7375, 0.7374, 0.7373, 0.7372, 0.735, 0.7364, 0.7356, 0.7314, 0.6935, 0.6959, 0.6557, 0.6635, 0.6979, 0.1158, 0.6312, 0.2169, 1.6742, 1.6737, 1.6736, 1.6732, 1.6731, 1.6722, 1.672, 1.6715, 1.6715, 1.6715, 1.6714, 1.6713, 1.6713, 1.6713, 1.6711, 1.6709, 1.6709, 1.6708, 1.6708, 1.6703, 1.6703, 1.6702, 1.67, 1.6688, 1.6686, 1.6686, 1.6683, 1.6678, 1.6675, 1.6674, 1.6562, 1.666, 1.6664, 1.64, 1.6241, 1.5239, 1.5095, 1.2442, 0.9082, 1.255, 1.4872, 0.7736, 1.8724, 1.8717, 1.8708, 1.8707, 1.8706, 1.8705, 1.8701, 1.8699, 1.8698, 1.8694, 1.8694, 1.8693, 1.8692, 1.8692, 1.8688, 1.8688, 1.8685, 1.8684, 1.8683, 1.8681, 1.8678, 1.8677, 1.8676, 1.8675, 1.8675, 1.8675, 1.8673, 1.8673, 1.8671, 1.867, 1.8663, 1.8658, 1.801, 1.7618, 1.7356, 1.8343, 0.8491, 0.9748, 1.679, 1.1178, 1.3794, 3.3708, 3.3702, 3.3699, 3.3693, 3.3679, 3.3646, 3.3641, 3.3627, 3.3619, 3.3617, 3.3613, 3.3606, 3.3606, 3.3592, 3.3574, 3.3573, 3.3565, 3.3561, 3.355, 3.3546, 3.3544, 3.3543, 3.3535, 3.353, 3.3527, 3.3511, 3.3511, 3.3501, 3.3497, 3.3497, 2.6278, 3.1656, 3.4531, 3.4507, 3.4482, 3.4467, 3.4467, 3.4464, 3.446, 3.4458, 3.4455, 3.442, 3.4406, 3.4396, 3.439, 3.4384, 3.4383, 3.4376, 3.4367, 3.4364, 3.4359, 3.4354, 3.4348, 3.4335, 3.4327, 3.4321, 3.4315, 3.4278, 3.4276, 3.4269, 3.4264, 3.4259, 3.232, 4.2292, 4.2281, 4.2244, 4.2204, 4.2165, 4.2104, 4.2089, 4.2083, 4.2007, 4.1889, 4.1876, 4.1856, 4.1853, 4.1849, 4.1758, 4.1735, 4.171, 4.1667, 4.1659, 4.1655, 4.1621, 4.1571, 4.1566, 4.1526, 4.1524, 4.1291, 4.1224, 4.1204, 4.0928, 4.0743, 4.2418, 4.2368, 4.2352, 4.2343, 4.2336, 4.2311, 4.2246, 4.2225, 4.2211, 4.2176, 4.2145, 4.2136, 4.2108, 4.2032, 4.2024, 4.1995, 4.1987, 4.1942, 4.1881, 4.1874, 4.1835, 4.1825, 4.1753, 4.1715, 4.1664, 4.1664, 4.1655, 4.1646, 4.1588, 4.154, 4.2988, 4.2936, 4.2876, 4.2807, 4.2749, 4.2703, 4.2647, 4.2639, 4.2626, 4.2603, 4.2589, 4.2557, 4.2535, 4.2508, 4.2492, 4.248, 4.2453, 4.24, 4.2379, 4.2379, 4.2272, 4.2216, 4.2167, 4.2144, 4.1769, 4.1725, 4.1578, 4.1428, 4.1172, 4.1075, 2.8546, 4.3825, 4.3822, 4.3806, 4.3754, 4.3614, 4.3611, 4.3611, 4.3441, 4.3392, 4.3386, 4.3305, 4.3266, 4.3017, 4.2918, 4.2715, 4.2636, 4.225, 4.2218, 4.2101, 4.1956, 4.1795, 3.9395, 1.358, 1.358, 1.358, 1.358, 1.358, 1.358, 1.358, 1.358, 1.358, 1.358, -0.5199, 1.358, 1.358, 1.3579, -1.2815, 1.3579, 1.3579, 1.3579, -3.1772, 1.3579, -2.8677, 4.4228, 4.4212, 4.4138, 4.4134, 4.4133, 4.4131, 4.404, 4.4034, 4.4019, 4.3947, 4.3928, 4.3869, 4.3843, 4.3797, 4.3754, 4.3568, 4.3532, 4.333, 4.3268, 4.3124, 4.3093, 4.3049, 4.3007, 4.2983, 4.2962, 4.2946, 4.2776, 4.2731, 4.248, 4.2311, 4.5172, 4.5158, 4.5133, 4.5111, 4.5018, 4.501, 4.4979, 4.4907, 4.4862, 4.4858, 4.48, 4.4775, 4.4756, 4.4755, 4.4166, 4.3916, 4.3846, 4.2769, 4.2684, 4.0629, 4.0009, 1.5613, 1.5613, 1.5613, 1.5613, 1.5613, 1.5613, 1.5613, 1.5613, 1.5613, 1.5613, 1.5613, 1.5613, 1.5613, 1.5613, 1.5613, 1.5612, 1.5613, 1.5612, 1.5612, 4.5719, 4.5712, 4.5674, 4.5631, 4.5625, 4.5614, 4.5583, 4.5521, 4.5397, 4.5373, 4.5341, 4.5259, 4.5166, 4.5129, 4.5049, 4.4955, 4.4953, 4.4819, 4.481, 4.4565, 4.4514, 4.4255, 4.3668, 4.3394, 4.169, 3.3678, 3.1786, 1.5325, 1.5323, 1.5323, 1.5323, 1.5322, 4.8175, 4.7986, 4.7861, 4.786, 4.785, 4.7653, 4.7514, 4.7452, 4.7379, 4.7347, 4.7331, 4.7204, 4.72, 4.7169, 4.6648, 4.6615, 4.6485, 4.6108, 4.5548, 4.5289, 4.4111, 4.3548, 4.2953, 4.2386, 4.2049, 4.1991, 4.1438, 3.897, 3.6805, 1.662, -2.5349, 5.2937, 5.2854, 5.2808, 5.275, 5.2733, 5.241, 5.1878, 5.1776, 5.1741, 5.1528, 5.0947, 5.0391, 4.9521, 4.9481, 4.8346, 4.8228, 4.7746, 4.447, 1.7717, 1.7717, 1.7717, 1.7717, 1.7717, 1.7717, 1.7717, 1.7717, 1.7717, 1.7717, 1.7717, 1.7717, 1.7717, 1.7717, 1.7717, 1.7716, 1.7717, 1.7716, 1.7717, 1.7717, 1.7716, 1.7716, 1.7716, 1.7715, 5.3997, 5.3959, 5.3897, 5.3639, 5.352, 5.3475, 5.3154, 5.1766, 5.1446, 5.0754, 1.9546, 1.7043, 1.7043, 1.7043, 1.7043, 1.7043, 1.7043, 1.7043, 1.7043, 1.7043, 1.7043, 1.7042, 1.7042, 1.7042, 1.7042, 1.7042, 1.7042, 1.7042, 1.7042, 1.7042, 1.7042, 1.7042, 1.7042, 1.7042, 1.7042, 1.7042, 1.7042, 1.7042, 1.7042, 1.7042, 1.7042, 1.7042, 1.7041, 1.7042, 1.7042, 1.7041, 1.7041, -3.5863, -4.6161, 5.4864, 5.4616, 5.4534, 5.4332, 5.4261, 5.3969, 5.2552, 5.2544, 5.2291, 5.0868, 4.7922, 4.6205, 1.8674, 1.8674, 1.8674, 1.8674, 1.8674, 1.8674, 1.8674, 1.8674, 1.8674, 1.8674, 1.8674, 1.8674, 1.8674, 1.8674, 1.8674, 1.8674, 1.8674, 1.8674, 1.8674, 1.8673, 1.8674, 1.8674, 1.8674, 1.8674, 1.8673, 1.8673, 1.8673, 1.8673, 1.8672, 1.8673, 1.8674, 1.8673, 1.8673, 1.8673, 1.8673, 1.8673, 1.8673, 1.8673, 1.8673, 1.8673, 1.8672, 1.8672, 5.8878, 5.8698, 5.8499, 5.7936, 5.4745, 1.9084, 1.9084, 1.9084, 1.9084, 1.9084, 1.9084, 1.9084, 1.9084, 1.9084, 1.9084, 1.9084, 1.9084, 1.9084, 1.9084, 1.9084, 1.9084, 1.9084, 1.9084, 1.9084, 1.9084, 1.9084, 1.9084, 1.9084, 1.9084, 1.9084, 1.9084, 1.9084, 1.9084, 1.9084, 1.9084, 1.9084, 1.9084, 1.9084, 1.9084, 1.9084, 1.9084, 1.9084, 1.9084, 1.9084, 1.9084, 1.9083, 1.9084, 1.9083, 1.9084, 1.9083, 1.9083, 1.9084, 1.9083, 1.9084, 1.9083, 1.9083, 1.9083, 1.9082, 1.9084, 1.9084, 1.9083, 1.9082, 1.9083, 1.9083, 5.9392, 5.9108, 5.9032, 5.8623, 5.8203, 5.626, 5.485, 5.4839, 5.2828, 5.0169, 1.9132, 1.9132, 1.9132, 1.9132, 1.9132, 1.9132, 1.9132, 1.9132, 1.9132, 1.9132, 1.9132, 1.9132, 1.9132, 1.9131, 1.9131, 1.9131, 1.9131, 1.9131, 1.9131, 1.9131, 1.9131, 1.9131, 1.9131, 1.9131, 1.9131, 1.9131, 1.9131, 1.9131, 1.9131, 1.9131, 1.9131, 1.913, 1.9131, 1.9131, 6.1443, 6.1135, 6.085, 5.924, 5.8125, 5.7891, 5.6836, 5.4599, 5.1363, 1.9613, 1.9613, 1.9613, 1.9613, 1.9613, 1.9613, 1.9613, 1.9613, 1.9613, 1.9613, 1.9613, 1.9613, 1.9613, 1.9613, 1.9613, 1.9613, 1.9613, 1.9613, 1.9613, 1.9613, 1.9613, 1.9613, 1.9613, 1.9613, 1.9613, 1.9613, 1.9613, 1.9613, 1.9613, 1.9613, 1.9613, 1.9613, 1.9613, 1.9611, 1.9613, 1.9613, 1.9613, 1.9612, 1.9613, 1.9611, 1.9612, 1.9613, 1.9612, 6.7201, 6.6002, 5.2559, 2.0052, 2.0052, 2.0052, 2.0052, 2.0052, 2.0052, 2.0052, 2.0052, 2.0052, 2.0052, 2.0052, 2.0052, 2.0052, 2.0052, 2.0052, 2.0052, 2.0052, 2.0052, 2.0052, 2.0052, 2.0052, 2.0052, 2.0052, 2.0052, 2.0052, 2.0052, 2.0052, 2.0052, 2.0052, 2.0052, 2.0052, 2.0052, 2.0052, 2.0052, 2.0052, 2.0052, 2.0052, 2.0052, 2.0052, 2.0052, 2.0052, 2.0052, 2.0052, 2.0052, 2.0052, 2.0052, 2.0052, 2.0052, 2.0052, 2.0052, 2.0051, 2.0052, 2.0051, 2.005, 2.0052, 2.0051, 2.0051, 2.0052, 2.0051, 2.0052, 2.0051, 2.0052, 2.005, 2.0051]}, \"token.table\": {\"Topic\": [8, 1, 11, 15, 2, 4, 14, 2, 2, 2, 7, 11, 12, 2, 13, 12, 5, 2, 6, 16, 12, 1, 9, 1, 19, 7, 1, 3, 11, 12, 14, 13, 8, 5, 4, 12, 7, 1, 2, 3, 16, 6, 1, 1, 4, 11, 6, 10, 13, 4, 13, 12, 13, 10, 7, 1, 2, 3, 12, 9, 18, 2, 15, 10, 1, 3, 1, 3, 11, 6, 13, 9, 8, 5, 19, 2, 1, 12, 11, 16, 5, 4, 3, 11, 14, 2, 3, 9, 1, 7, 6, 2, 5, 8, 4, 5, 6, 5, 2, 7, 15, 10, 8, 6, 13, 15, 1, 3, 8, 9, 19, 5, 8, 10, 2, 3, 1, 1, 2, 7, 17, 2, 9, 6, 19, 6, 7, 18, 1, 3, 15, 5, 4, 6, 1, 2, 8, 13, 13, 14, 2, 17, 1, 2, 3, 8, 5, 13, 14, 7, 18, 4, 2, 3, 10, 12, 1, 1, 6, 3, 10, 16, 2, 3, 14, 1, 5, 6, 13, 13, 12, 13, 1, 11, 8, 6, 5, 3, 7, 1, 10, 12, 12, 7, 19, 7, 14, 2, 10, 14, 1, 19, 3, 12, 9, 12, 7, 1, 2, 3, 1, 6, 3, 7, 6, 3, 5, 1, 2, 3, 3, 8, 3, 3, 2, 4, 14, 6, 1, 2, 3, 10, 1, 10, 10, 4, 3, 11, 4, 13, 4, 5, 6, 7, 8, 11, 4, 10, 2, 16, 8, 17, 1, 2, 6, 4, 6, 12, 11, 20, 3, 11, 7, 4, 10, 13, 9, 8, 4, 1, 3, 5, 3, 3, 19, 7, 10, 3, 7, 1, 3, 10, 2, 10, 2, 10, 10, 10, 2, 14, 13, 10, 16, 2, 6, 1, 2, 3, 7, 8, 12, 4, 1, 13, 19, 3, 3, 2, 8, 9, 1, 1, 16, 5, 1, 11, 4, 7, 8, 10, 4, 6, 20, 13, 3, 15, 9, 11, 18, 18, 8, 6, 5, 14, 2, 5, 16, 13, 3, 3, 17, 9, 3, 5, 10, 5, 8, 12, 8, 4, 2, 1, 2, 2, 8, 10, 18, 8, 3, 9, 8, 1, 12, 10, 1, 10, 13, 7, 7, 6, 1, 2, 1, 3, 1, 8, 6, 1, 2, 18, 4, 14, 2, 2, 1, 4, 12, 11, 9, 12, 8, 13, 2, 15, 5, 11, 9, 5, 5, 4, 2, 4, 9, 1, 5, 10, 14, 1, 3, 1, 1, 3, 7, 2, 13, 14, 1, 2, 3, 3, 9, 3, 4, 1, 5, 13, 15, 4, 13, 5, 4, 11, 1, 15, 3, 11, 9, 6, 13, 14, 1, 9, 6, 6, 3, 11, 1, 18, 9, 3, 18, 1, 8, 3, 7, 5, 8, 6, 17, 10, 16, 7, 11, 13, 9, 5, 7, 9, 3, 5, 9, 8, 10, 16, 2, 10, 2, 4, 13, 4, 16, 14, 5, 5, 13, 2, 12, 3, 4, 12, 5, 2, 1, 2, 8, 7, 8, 7, 4, 12, 6, 8, 16, 7, 1, 1, 3, 12, 14, 6, 15, 1, 1, 3, 12, 14, 11, 9, 4, 15, 1, 3, 7, 2], \"Freq\": [0.9144093741755175, 0.9864479934605545, 0.4597854956850349, 0.9599976392886982, 0.9931508564650282, 0.9869579013346703, 0.9380302486529057, 0.9973916025779955, 0.9980450590464036, 0.9950580039800292, 0.9709371378753759, 0.9770562358003179, 0.8070235508257788, 0.9943443542903674, 0.6050271878702874, 0.9616392489693266, 0.9894546409797884, 0.9874077133697252, 0.95019167289741, 0.7146942503538124, 0.9137642569734489, 0.9990375016924731, 0.9944406665803236, 0.9983058122648669, 0.7978762998440303, 0.9076354877833618, 0.9187195444044726, 0.0804842844119482, 0.9589675528794022, 0.9640574001388494, 0.7486008049924179, 0.9451481567844715, 0.9761161454807245, 0.9805149348951923, 0.9922370568874501, 0.8389882289159069, 0.9735560142902756, 0.32641739291198874, 0.6570466231518741, 0.014741430647638202, 0.8551965803989071, 0.9301958278701294, 0.9982649768132477, 0.9991131220035279, 0.9941183806169593, 0.9849645428458816, 0.9934753628252707, 0.9187938475779366, 0.5661112546409465, 0.9784478053539052, 0.8619180010885756, 0.9621571828895519, 0.9305129273983349, 0.9166141586882423, 0.9567107134974466, 0.06405153883421084, 0.005521684382259555, 0.9298516499725091, 0.9425431087085867, 0.90391142875143, 0.7681329844616721, 0.9979485525376298, 0.7855310258841754, 0.9746682199619239, 0.9941042037706562, 0.004667155886247212, 0.5280923839526582, 0.46839498402757507, 0.9897064204628606, 0.9349727465753092, 0.8650391940449274, 0.8641161037672741, 0.8774386069463769, 0.9903516148773968, 0.8347781795671626, 0.9955810258471406, 0.9949820230060603, 0.9539448058623848, 0.9779013984817083, 0.9707067883436736, 0.9888453781437428, 0.9718386940867121, 0.9902688671598853, 0.8489294207490089, 0.8909582804158457, 0.03201496706328056, 0.9604490118984167, 0.9646158194683517, 0.9987316038731838, 0.9121363919186709, 0.9789000549673257, 0.20078432227735532, 0.7986252818672335, 0.9404995225886327, 0.9790337687624061, 0.9842040352115827, 0.9258116411917386, 0.9838612355578042, 0.9949094281359889, 0.9402946907172586, 0.8544403717713884, 0.8986587762522814, 0.9791357082982085, 0.9026175135090154, 0.913347993950737, 0.9565270544774572, 0.8975625126645013, 0.10187059192817959, 0.9454923507045433, 0.9747151558512734, 0.45246294453076696, 0.9897215910841132, 0.9007590898781046, 0.9925474337232663, 0.005974564095422118, 0.9917776398400716, 0.9971080987173936, 0.15169425278942117, 0.8483641544889851, 0.8996331472509846, 0.9390595432737071, 0.9945919576178529, 0.7540957269218563, 0.9436427281248753, 0.5260361225849028, 0.9423466224832827, 0.8685215118640437, 0.4909419493882547, 0.9983147286754536, 0.9933426257345854, 0.9824629247832953, 0.9846779435633088, 0.9778618239305988, 0.9707435410624085, 0.9582819985639955, 0.04077795738570194, 0.8376517138352956, 0.8729769286911218, 0.9928334916446515, 0.6025622187882271, 0.998348849148791, 0.9085835858718447, 0.010320323864395412, 0.9813689783779638, 0.008443901343596247, 0.9184044503984252, 0.9920465125280851, 0.872882315354394, 0.9737995128581194, 0.9861458832623821, 0.6184707157606558, 0.9777692998164628, 0.38677365974694994, 0.6084610013092261, 0.9942893633129881, 0.9561623447212884, 0.9982129346770586, 0.9985551718837783, 0.9595694919341787, 0.9948650829630703, 0.9569305409597033, 0.6123700771438205, 0.9954864681883817, 0.9961007501008621, 0.9732977207948913, 0.990014235105207, 0.007774980903967594, 0.9465425946260345, 0.4599172273664272, 0.7401052374791006, 0.8988307217236153, 0.9342918683874958, 0.9976700315389551, 0.9398506027908812, 0.9509691615754687, 0.8824050219867954, 0.9532308328099736, 0.9978985420781434, 0.9084169767092606, 0.9954456185157651, 0.9744564711650952, 0.8613071964565369, 0.9317078903716844, 0.9602513521836626, 0.4350648538874318, 0.9862158035878151, 0.9765706139529378, 0.9955549247996689, 0.8805091280979569, 0.5114175031944731, 0.9994480741651142, 0.6927108423465569, 0.9967602578572572, 0.8543296460288431, 0.9922697091377938, 0.9871865622998767, 0.989705821726791, 0.9975635617518014, 0.17342823259369894, 0.8252791757907053, 0.9968355495385021, 0.829513027757494, 0.9980269474214214, 0.9213070894229217, 0.9386234080433277, 0.997664301071893, 0.9755852712426499, 0.337553533717428, 0.6495552063168037, 0.012103513161182678, 0.9930183400381254, 0.9539419115699261, 0.9947333403465966, 0.9965938568778934, 0.5219611780467728, 0.47144880597773026, 0.7533035921078317, 0.9936943192711087, 0.23514719740243387, 0.40588451029898365, 0.3588550708184969, 0.9259454422270782, 0.9986682090306519, 0.9513362297895541, 0.9165578520711437, 0.9805109404832618, 0.9977922021360733, 0.9334114986361809, 0.981382500895708, 0.8850747819807079, 0.9948813627321285, 0.9909291192033728, 0.9284413330904078, 0.9872005583172483, 0.9333572812215524, 0.9239053312973325, 0.9771504747200158, 0.9569503485957672, 0.9916799955288216, 0.9304058234199744, 0.9421449202748697, 0.8034559143462187, 0.13929723030566502, 0.8594376284896691, 0.9489255506035568, 0.9908319253560988, 0.8947077536176732, 0.9737492908675817, 0.5063710604589583, 0.8506941763744728, 0.993010486541743, 0.9584772493916681, 0.9639042246019863, 0.9923401388451389, 0.960969416820911, 0.9557125370658219, 0.9403446108145146, 0.9068870248866319, 0.989828118863572, 0.5926450419023632, 0.4067445924377068, 0.9681646654225273, 0.9966158355046811, 0.997893382973657, 0.85495691848321, 0.8953183862795326, 0.9510346582207991, 0.9900544259872806, 0.9364934349690557, 0.10501597984367833, 0.8926358286712658, 0.895177067579559, 0.9928958349288493, 0.9204314014001832, 0.994003782220128, 0.9828324211564825, 0.8698974678322526, 0.9614239560889517, 0.9939404747983236, 0.7598516279135175, 0.96924204382701, 0.9787688985558446, 0.84989915591323, 0.9965472319233625, 0.9387142367606244, 0.5754907396511504, 0.30708003894428976, 0.11600801471228724, 0.9765920369160523, 0.8779867278407651, 0.958591971696916, 0.9858691882652098, 0.9958222406660913, 0.831436548551714, 0.6585300757021806, 0.9922667187678833, 0.9897472141051206, 0.9951127277186261, 0.9044421544515826, 0.9479265647627897, 0.9979815951391033, 0.996305834990564, 0.8500478891241104, 0.9894936202693212, 0.9952791375310475, 0.9729732847579994, 0.983474557140877, 0.9482655701797579, 0.9960028613144087, 0.7960768416472748, 0.9756669334782441, 0.9719647490839171, 0.8470332065629415, 0.9777326850183632, 0.9964864370607214, 0.9736960749891374, 0.8028463416417773, 0.9855273896996619, 0.9462844334826098, 0.9612202409142522, 0.9717591779058538, 0.9147871962479538, 0.9707917603954562, 0.7053547619839313, 0.996523752301852, 0.9612312530290543, 0.9324735014058193, 0.569854171082226, 0.9933479788599862, 0.9970044474127044, 0.44248896020490086, 0.9825206518961269, 0.988443248499474, 0.9934103409401019, 0.9704861451774223, 0.9918570599235491, 0.9684332010959137, 0.9855359267184557, 0.9773134443566056, 0.9695552459640587, 0.9988942027406762, 0.03362302494954565, 0.9647221773985021, 0.7491835966194033, 0.2497278655398011, 0.9420620261976738, 0.8452663836363906, 0.9650927943193733, 0.9953848389045902, 0.8618105631657651, 0.9242324232502283, 0.9981089158705512, 0.992904697594806, 0.9081561401699864, 0.9970551960325816, 0.8393229679844472, 0.6296906087120622, 0.9868239107373047, 0.8992265450739844, 0.9934521000208223, 0.5354051104091013, 0.4642601054371839, 0.9568543337833674, 0.043561657268002596, 0.98773327296531, 0.9687655597195449, 0.9801138903864585, 0.004744673273175295, 0.9916367140936367, 0.4901828659240193, 0.978761073382289, 0.9386420538892968, 0.9972019644413043, 0.9975011988216296, 0.9970287292433252, 0.9918075833159281, 0.9651899096176487, 0.9165579897414591, 0.9918275343128015, 0.9123288773666114, 0.9894169426405308, 0.8891217886490719, 0.9956577440841288, 0.9015297751670267, 0.9903052774972386, 0.9726676200882489, 0.444837356426789, 0.9923599290698576, 0.9966465561670907, 0.9684098642858763, 0.9922889407316642, 0.993928001025946, 0.9537836375806025, 0.9992045785997141, 0.967229908243454, 0.8496148859446847, 0.4685476154788821, 0.9958331172939217, 0.0038424428963109514, 0.9977341180895718, 0.1281291942318822, 0.8703948711614067, 0.8973829743367691, 0.9896722271427956, 0.5039418030976225, 0.477146138763912, 0.047730792710017775, 0.951433801353021, 0.9929109801055852, 0.9957373072953187, 0.9825206518961269, 0.9922425070942154, 0.9697342788194229, 0.9968612096175853, 0.9824702798837307, 0.8587804946536642, 0.8742121384663881, 0.9851410476059534, 0.7977029264848317, 0.9777755996679116, 0.9973865745733642, 0.966788787971501, 0.9648886040298319, 0.028379076589112703, 0.9926460419152836, 0.9806317953192143, 0.9167518922365837, 0.927389919023933, 0.9441177307092634, 0.8530360013537122, 0.9880609212524513, 0.007659386986453111, 0.9203672494369258, 0.9770619816281901, 0.9931116562043752, 0.9492557281256737, 0.9969124071294148, 0.8845229577391039, 0.9539682180410706, 0.9889621343281315, 0.84430731431577, 0.996540068913555, 0.9860575551010882, 0.9960406441183352, 0.9622648892226218, 0.9686158173633151, 0.9689300912969121, 0.885151103440398, 0.9474008142655163, 0.991906925729982, 0.8888752752117764, 0.9945276882026295, 0.8245278273396514, 0.5435451377181547, 0.9511685673587136, 0.9882392350018024, 0.9280371665951522, 0.9262552800035914, 0.9957129235577218, 0.9921802293775708, 0.9925959148998879, 0.9916421759032541, 0.8046151564815535, 0.953007003896086, 0.9922725222853974, 0.9708910414724087, 0.9976965211586518, 0.9827736446440744, 0.9729557943033228, 0.9790022919805831, 0.6233904048884971, 0.8345271128110103, 0.9723456307432573, 0.9851167673990062, 0.7119328949075735, 0.9930601819152568, 0.9392133323721867, 0.1743960133803407, 0.8065815618840757, 0.7272827202688932, 0.9677228801444736, 0.9973493518282525, 0.16714567911779613, 0.8271568223008885, 0.9333572812215524, 0.984943607816723, 0.8346996446249259, 0.9172512652169161, 0.9871495972663055, 0.9552699187594091, 0.8973799677955184, 0.958479619723999, 0.8475234042445076, 0.960288197345862, 0.9992238999173745, 0.9255746914575602, 0.07404597531660481, 0.9763706405592167, 0.971111319242975, 0.991210913078504, 0.9821428890522721, 0.995749618309699, 0.954043053281665, 0.04516725566261023, 0.9406639947543423, 0.7696513078840244, 0.828483834291839, 0.9266780113678545, 0.968943069858111, 0.7042317314045301, 0.9943726928343515, 0.005564720192357542, 0.996311017062089, 0.9967261576709665], \"Term\": [\"\\u0430\\u0432\\u0442\\u043e\\u043c\\u043e\\u0431\\u0438\\u043b\\u044c\", \"\\u0430\\u0432\\u0442\\u043e\\u0440\", \"\\u0430\\u0434\\u043c\\u0438\\u043d\\u0438\\u0441\\u0442\\u0440\\u0438\\u0440\\u043e\\u0432\\u0430\\u043d\\u0438\\u0435\", \"\\u0430\\u0439\\u0442\\u0438\", \"\\u0430\\u043a\\u0442\\u0438\\u0432\\u043d\\u043e\", \"\\u0430\\u043a\\u0442\\u0438\\u0432\\u043d\\u044b\\u0439\", \"\\u0430\\u043b\\u0435\\u043a\\u0441\\u0430\\u043d\\u0434\\u0440\", \"\\u0430\\u043d\\u0430\\u043b\\u0438\\u0437\", \"\\u0430\\u043d\\u0430\\u043b\\u0438\\u0442\\u0438\\u043a\", \"\\u0430\\u043d\\u0430\\u043b\\u0438\\u0442\\u0438\\u043a\\u0430\", \"\\u0430\\u0440\\u0435\\u043d\\u0434\\u0430\", \"\\u0431\\u0430\\u0437\\u043e\\u0432\\u044b\\u0439\", \"\\u0431\\u0430\\u043b\\u043b\", \"\\u0431\\u0438\\u0437\\u043d\\u0435\\u0441\", \"\\u0431\\u0438\\u0437\\u043d\\u0435\\u0441\\u043c\\u0435\\u043d\", \"\\u0431\\u043b\\u0430\\u0433\\u043e\\u0434\\u0430\\u0440\\u043d\\u043e\\u0441\\u0442\\u044c\", \"\\u0431\\u043e\\u043b\\u044c\\u0448\\u0438\\u043d\\u0441\\u0442\\u0432\\u043e\", \"\\u0431\\u043e\\u043b\\u044c\\u0448\\u043e\\u0439\", \"\\u0431\\u043e\\u0440\\u043e\\u0442\\u044c\\u0441\\u044f\", \"\\u0431\\u0440\\u0430\\u0442\", \"\\u0431\\u0440\\u0430\\u0443\\u0437\\u0435\\u0440\", \"\\u0432\\u0430\\u0436\\u043d\\u044b\\u0439\", \"\\u0432\\u0430\\u043a\\u0430\\u043d\\u0441\\u0438\\u044f\", \"\\u0432\\u0430\\u0448\", \"\\u0432\\u0435\\u0434\\u0443\\u0449\\u0438\\u0439\", \"\\u0432\\u0435\\u0437\\u0434\\u0435\", \"\\u0432\\u0435\\u0441\\u044c\", \"\\u0432\\u0435\\u0441\\u044c\", \"\\u0432\\u0438\\u043b\\u043a\\u0430\", \"\\u0432\\u043a\\u043b\\u0430\\u0434\", \"\\u0432\\u043a\\u043e\\u043d\\u0442\\u0430\\u043a\\u0442\\u0435\", \"\\u0432\\u043b\\u0430\\u0434\\u0435\\u043d\\u0438\\u0435\", \"\\u0432\\u043b\\u0438\\u044f\\u043d\\u0438\\u0435\", \"\\u0432\\u043c\\u0435\\u0441\\u0442\\u043e\", \"\\u0432\\u043d\\u0435\\u0434\\u0440\\u0435\\u043d\\u0438\\u0435\", \"\\u0432\\u043d\\u0438\\u043c\\u0430\\u0442\\u0435\\u043b\\u044c\\u043d\\u044b\\u0439\", \"\\u0432\\u043e\\u0432\\u0440\\u0435\\u043c\\u044f\", \"\\u0432\\u043e\\u0437\\u043c\\u043e\\u0436\\u043d\\u043e\\u0441\\u0442\\u044c\", \"\\u0432\\u043e\\u0437\\u043c\\u043e\\u0436\\u043d\\u043e\\u0441\\u0442\\u044c\", \"\\u0432\\u043e\\u0437\\u043c\\u043e\\u0436\\u043d\\u043e\\u0441\\u0442\\u044c\", \"\\u0432\\u043e\\u0437\\u043d\\u0438\\u043a\\u043d\\u0443\\u0442\\u044c\", \"\\u0432\\u043e\\u0439\\u0442\\u0438\", \"\\u0432\\u043e\\u043f\\u0440\\u043e\\u0441\", \"\\u0432\\u0440\\u0435\\u043c\\u044f\", \"\\u0432\\u0441\\u0435\\u043c_\\u043f\\u0440\\u0438\\u0432\\u0435\\u0442\", \"\\u0432\\u0441\\u0442\\u0440\\u0435\\u0447\\u0430\", \"\\u0432\\u0442\\u043e\\u0440\\u043e\\u0439\", \"\\u0432\\u044b\\u0433\\u043e\\u0434\\u043d\\u044b\\u0439\", \"\\u0432\\u044b\\u0436\\u0438\\u0442\\u044c\", \"\\u0432\\u044b\\u043f\\u043e\\u043b\\u043d\\u0435\\u043d\\u0438\\u0435\", \"\\u0432\\u044b\\u043f\\u0443\\u0441\\u043a\", \"\\u0432\\u044b\\u0440\\u0430\\u0437\\u0438\\u0442\\u044c\", \"\\u0432\\u044b\\u0441\\u043e\\u043a\\u043e\\u043d\\u0430\\u0433\\u0440\\u0443\\u0436\\u0435\\u043d\\u043d\\u044b\\u0445\", \"\\u0433\\u0438\\u0431\\u043a\\u0438\\u0439\", \"\\u0433\\u043b\\u0430\\u0437\", \"\\u0433\\u043e\\u0434\", \"\\u0433\\u043e\\u0434\", \"\\u0433\\u043e\\u0434\", \"\\u0433\\u043e\\u043b\\u043e\\u0441\", \"\\u0433\\u0440\\u0430\\u0436\\u0434\\u0430\\u043d\\u0438\\u043d\", \"\\u0433\\u0440\\u0430\\u043c\\u043e\\u0442\\u043d\\u043e\", \"\\u0434\\u0430\\u043d\\u043d\\u044b\\u0445\", \"\\u0434\\u0432\\u0435\\u0440\\u044c\", \"\\u0434\\u0435\\u0439\\u0441\\u0442\\u0432\\u0438\\u0435\", \"\\u0434\\u0435\\u043b\\u0430\\u0442\\u044c\", \"\\u0434\\u0435\\u043b\\u0430\\u0442\\u044c\", \"\\u0434\\u0435\\u043d\\u044c\", \"\\u0434\\u0435\\u043d\\u044c\", \"\\u0434\\u0438\\u0437\\u0430\\u0439\\u043d\\u0435\\u0440\", \"\\u0434\\u0438\\u043f\\u043b\\u043e\\u043c\", \"\\u0434\\u043b\\u0438\\u043d\\u043d\\u044b\\u0439\", \"\\u0434\\u043e\\u0431\\u0440\\u043e\", \"\\u0434\\u043e\\u0432\\u0435\\u0440\\u0438\\u0442\\u0435\\u043b\\u044c\\u043d\\u044b\\u0439\", \"\\u0434\\u043e\\u0432\\u043e\\u043b\\u044c\\u043d\\u043e\", \"\\u0434\\u043e\\u043a\\u0443\\u043c\\u0435\\u043d\\u0442\", \"\\u0434\\u043e\\u043b\\u0436\\u043d\\u043e\\u0441\\u0442\\u044c\", \"\\u0434\\u043e\\u043b\\u0436\\u043d\\u044b\\u0439\", \"\\u0434\\u043e\\u043c\", \"\\u0434\\u043e\\u0441\\u0442\\u0438\\u0433\\u043d\\u0443\\u0442\\u044c\", \"\\u0434\\u043e\\u0441\\u0442\\u0438\\u0436\\u0435\\u043d\\u0438\\u0435\", \"\\u0434\\u0440\\u0443\\u0433\\u0438\\u043c\", \"\\u0434\\u0440\\u0443\\u0433\\u0438\\u043c\\u0438\", \"\\u0434\\u0440\\u0443\\u0433\\u0438\\u0445\", \"\\u0435\\u0432\\u0440\\u043e\", \"\\u0435\\u0434\\u0438\\u043d\\u0441\\u0442\\u0432\\u0435\\u043d\\u043d\\u044b\\u0439\", \"\\u0436\\u0434\\u0430\\u0442\\u044c\", \"\\u0436\\u0434\\u0430\\u0442\\u044c\", \"\\u0436\\u0438\\u0432\\u043e\\u0439\", \"\\u0436\\u0438\\u0437\\u043d\\u044c\", \"\\u0437\\u0430\\u0432\\u0435\\u0441\\u0442\\u0438\", \"\\u0437\\u0430\\u0434\\u0430\\u043d\\u0438\\u0435\", \"\\u0437\\u0430\\u0434\\u0430\\u0447\\u0430\", \"\\u0437\\u0430\\u0434\\u0430\\u0447\\u0430\", \"\\u0437\\u0430\\u0434\\u0430\\u0447\\u043a\\u0430\", \"\\u0437\\u0430\\u043a\\u0430\\u0437\\u0447\\u0438\\u043a\", \"\\u0437\\u0430\\u043a\\u043e\\u043d\\u0447\\u0438\\u0442\\u044c\", \"\\u0437\\u0430\\u043c\\u0435\\u0447\\u0430\\u0442\\u0435\\u043b\\u044c\\u043d\\u044b\\u0439\", \"\\u0437\\u0430\\u043d\\u044f\\u0442\\u044c\", \"\\u0437\\u0430\\u043f\\u0440\\u043e\\u0441\", \"\\u0437\\u0430\\u0440\\u0430\\u0431\\u043e\\u0442\\u0430\\u0442\\u044c\", \"\\u0437\\u0430\\u0440\\u0430\\u043d\\u0435\\u0435_\\u0431\\u043b\\u0430\\u0433\\u043e\\u0434\\u0430\\u0440\\u0438\\u0442\\u044c\", \"\\u0437\\u0430\\u0440\\u0435\\u0433\\u0438\\u0441\\u0442\\u0440\\u0438\\u0440\\u043e\\u0432\\u0430\\u0442\\u044c\\u0441\\u044f\", \"\\u0437\\u0430\\u0449\\u0438\\u0442\\u0430\", \"\\u0437\\u0432\\u043e\\u043d\\u043e\\u043a\", \"\\u0437\\u0434\\u043e\\u0440\\u043e\\u0432\\u043e\", \"\\u0437\\u0434\\u0440\\u0430\\u0432\\u0441\\u0442\\u0432\\u043e\\u0432\\u0430\\u0442\\u044c\", \"\\u0437\\u043d\\u0430\\u0442\\u044c\", \"\\u0437\\u043d\\u0430\\u0442\\u044c\", \"\\u0437\\u043d\\u0430\\u0447\\u0435\\u043d\\u0438\\u0435\", \"\\u0437\\u043d\\u0430\\u0447\\u043e\\u043a\", \"\\u0438\\u0437\\u0432\\u043b\\u0435\\u0447\\u0435\\u043d\\u0438\\u0435\", \"\\u0438\\u0437\\u043c\\u0435\\u043d\\u0435\\u043d\\u0438\\u0435\", \"\\u0438\\u043d\\u0441\\u0442\\u0430\\u0433\\u0440\\u0430\\u043c\", \"\\u0438\\u043d\\u0441\\u0442\\u0440\\u0443\\u043c\\u0435\\u043d\\u0442\", \"\\u0438\\u043d\\u0442\\u0435\\u0440\\u0435\\u0441\\u043d\\u044b\\u0439\", \"\\u0438\\u043d\\u0442\\u0435\\u0440\\u0435\\u0441\\u043d\\u044b\\u0439\", \"\\u0438\\u043d\\u0444\\u043e\\u0440\\u043c\\u0430\\u0446\\u0438\\u044f\", \"\\u0438\\u0441\\u043a\\u0430\\u0442\\u044c\", \"\\u0438\\u0441\\u043a\\u0430\\u0442\\u044c\", \"\\u0438\\u0441\\u043a\\u0440\\u0435\\u043d\\u043d\\u0435\", \"\\u0438\\u0441\\u0441\\u043b\\u0435\\u0434\\u043e\\u0432\\u0430\\u043d\\u0438\\u0435\", \"\\u0438\\u0442\", \"\\u0438\\u0449\\u0435\\u043c\", \"\\u0438\\u0449\\u0443\", \"\\u0438\\u044e\\u043b\\u044c\", \"\\u0438\\u044e\\u043d\\u044c\", \"\\u043a\\u0430\\u0434\\u0440\", \"\\u043a\\u0430\\u0434\\u0440\\u043e\\u0432\\u044b\\u0439\", \"\\u043a\\u0430\\u0436\\u0434\\u044b\\u0439\", \"\\u043a\\u0430\\u043d\\u0434\\u0438\\u0434\\u0430\\u0442\", \"\\u043a\\u0430\\u0440\\u044c\\u0435\\u0440\\u043d\\u044b\\u0439\", \"\\u043a\\u0430\\u0447\\u0435\\u0441\\u0442\\u0432\\u0435\\u043d\\u043d\\u044b\\u0439\", \"\\u043a\\u0432\\u0430\\u0440\\u0442\\u0438\\u0440\\u0430\", \"\\u043a\\u0438\\u0442\\u0430\\u0439\\u0441\\u043a\\u0438\\u0439\", \"\\u043a\\u043b\\u0438\\u0435\\u043d\\u0442\", \"\\u043a\\u043b\\u0438\\u0435\\u043d\\u0442\", \"\\u043a\\u043b\\u0438\\u043a\", \"\\u043a\\u043b\\u0443\\u0431\", \"\\u043a\\u043d\\u0438\\u0433\\u0430\", \"\\u043a\\u043e\\u043b\", \"\\u043a\\u043e\\u043c\\u0430\\u043d\\u0434\\u0430\", \"\\u043a\\u043e\\u043c\\u043c\\u0443\\u043d\\u0438\\u043a\\u0430\\u0446\\u0438\\u044f\", \"\\u043a\\u043e\\u043c\\u043f\\u0430\\u043d\\u0438\\u044f\", \"\\u043a\\u043e\\u043c\\u043f\\u0430\\u043d\\u0438\\u044f\", \"\\u043a\\u043e\\u043c\\u043f\\u0430\\u043d\\u0438\\u044f\", \"\\u043a\\u043e\\u043d\\u0432\\u0435\\u0440\\u0441\\u0438\\u044f\", \"\\u043a\\u043e\\u043d\\u0435\\u0446\", \"\\u043a\\u043e\\u043d\\u043a\\u0440\\u0435\\u0442\\u043d\\u043e\", \"\\u043a\\u043e\\u043d\\u043a\\u0443\\u0440\\u0435\\u043d\\u0442\", \"\\u043a\\u043e\\u043d\\u0442\\u0430\\u043a\\u0442\", \"\\u043a\\u043e\\u043d\\u0444\\u0438\\u0433\\u0443\\u0440\\u0430\\u0446\\u0438\\u044f\", \"\\u043a\\u043e\\u0440\\u043f\\u043e\\u0440\\u0430\\u0442\\u0438\\u0432\\u043d\\u044b\\u0439\", \"\\u043a\\u043e\\u0442\\u043e\\u0440\\u0430\\u044f\", \"\\u043a\\u043e\\u0442\\u043e\\u0440\\u0430\\u044f\", \"\\u043a\\u043e\\u0442\\u043e\\u0440\\u043e\\u0439\", \"\\u043a\\u043e\\u0442\\u043e\\u0440\\u043e\\u043c\", \"\\u043a\\u043e\\u0442\\u043e\\u0440\\u044b\\u0435\", \"\\u043a\\u043e\\u0442\\u043e\\u0440\\u044b\\u0439\", \"\\u043a\\u043e\\u0442\\u043e\\u0440\\u044b\\u043c\\u0438\", \"\\u043a\\u043e\\u0442\\u043e\\u0440\\u044b\\u0445\", \"\\u043a\\u043e\\u0444\\u0435\", \"\\u043a\\u0440\\u0430\\u0442\\u043a\\u043e\", \"\\u043a\\u0440\\u0443\\u043f\\u043d\\u044b\\u0439\", \"\\u043a\\u0440\\u0443\\u0442\\u043e\\u0439\", \"\\u043a\\u0441\\u0442\\u0430\\u0442\\u0438\", \"\\u043a\\u0443\\u0440\\u0441\", \"\\u043a\\u0443\\u0440\\u0441\", \"\\u043a\\u0443\\u0447\\u0430\", \"\\u043b\\u0430\\u0431\\u043e\\u0440\\u0430\\u0442\\u043e\\u0440\\u0438\\u044f\", \"\\u043b\\u0430\\u0439\\u043a\\u0430\\u0439\\u0442\\u0435\", \"\\u043b\\u0438\\u0434\", \"\\u043b\\u044e\\u0431\\u043e\\u0432\\u044c\", \"\\u043b\\u044e\\u0431\\u043e\\u0439\", \"\\u043c\\u0430\\u0433\\u0430\\u0437\\u0438\\u043d\", \"\\u043c\\u0430\\u0440\\u043a\\u0435\\u0442\\u0438\\u043d\\u0433\", \"\\u043c\\u0430\\u0441\\u0441\\u0430\", \"\\u043c\\u0430\\u0448\\u0438\\u043d\\u043d\\u044b\\u0439_\\u043e\\u0431\\u0443\\u0447\\u0435\\u043d\\u0438\\u0435\", \"\\u043c\\u0435\\u043d\\u0435\\u0434\\u0436\\u0435\\u0440\", \"\\u043c\\u0435\\u0441\\u0441\\u0435\\u043d\\u0434\\u0436\\u0435\\u0440\", \"\\u043c\\u0435\\u0441\\u044f\\u0446\", \"\\u043c\\u0435\\u0442\\u043e\\u0434\", \"\\u043c\\u0435\\u0442\\u0440\\u0438\\u043a\\u0430\", \"\\u043c\\u0435\\u0447\\u0442\\u0430\\u0442\\u044c\", \"\\u043c\\u0438\\u043d\\u0438\\u043c\\u0443\\u043c\", \"\\u043c\\u0438\\u0445\\u0430\\u0438\\u043b\", \"\\u043c\\u043d\\u043e\\u0433\\u0438\\u0435\", \"\\u043c\\u043d\\u043e\\u0439\", \"\\u043c\\u043e\\u0434\\u0435\\u043b\\u044c\", \"\\u043c\\u043e\\u043d\\u0438\\u0442\\u043e\\u0440\\u0438\\u043d\\u0433\", \"\\u043c\\u043e\\u043d\\u0442\\u0430\\u0436\", \"\\u043c\\u043e\\u0447\\u044c\", \"\\u043c\\u0443\\u0437\\u044b\\u043a\\u0430\", \"\\u043c\\u044b\\u0441\\u043b\\u044c\", \"\\u043d\\u0430\\u0431\\u0440\\u0430\\u0442\\u044c\", \"\\u043d\\u0430\\u0432\\u044b\\u043a\", \"\\u043d\\u0430\\u0434\\u0435\\u044f\\u0442\\u044c\\u0441\\u044f\", \"\\u043d\\u0430\\u0437\\u0430\\u0434\", \"\\u043d\\u0430\\u0439\\u0442\\u0438\", \"\\u043d\\u0430\\u043c\", \"\\u043d\\u0430\\u043c\", \"\\u043d\\u0430\\u043f\\u0438\\u0441\\u0430\\u0442\\u044c\", \"\\u043d\\u0430\\u043f\\u043e\\u043c\\u0438\\u043d\\u0430\\u0442\\u044c\", \"\\u043d\\u0430\\u043f\\u0440\\u0430\\u0432\\u043b\\u0435\\u043d\\u0438\\u0435\", \"\\u043d\\u0430\\u043f\\u0440\\u044f\\u043c\\u0443\\u044e\", \"\\u043d\\u0430\\u0443\\u043a\\u0430\", \"\\u043d\\u0430\\u0447\\u0430\\u0442\\u044c\", \"\\u043d\\u0430\\u0447\\u0438\\u043d\\u0430\\u0442\\u044c\\u0441\\u044f\", \"\\u043d\\u0430\\u0448\", \"\\u043d\\u0430\\u0448\", \"\\u043d\\u0430\\u0448\", \"\\u043d\\u0435\\u0431\\u043e\\u043b\\u044c\\u0448\\u043e\\u0439\", \"\\u043d\\u0435\\u0434\\u0432\\u0438\\u0436\\u0438\\u043c\\u043e\\u0441\\u0442\\u044c\", \"\\u043d\\u0435\\u0434\\u0435\\u043b\\u044f\", \"\\u043d\\u0435\\u043c\\u043d\\u043e\\u0433\\u043e\", \"\\u043d\\u0435\\u0441\\u043a\\u043e\\u043b\\u044c\\u043a\\u043e\", \"\\u043d\\u0435\\u0441\\u043a\\u043e\\u043b\\u044c\\u043a\\u043e\", \"\\u043d\\u0438\\u0433\\u0434\\u0435\", \"\\u043d\\u0438\\u043a\\u0442\\u043e\", \"\\u043d\\u043e\\u0432\\u044b\\u0439\", \"\\u043d\\u043e\\u0432\\u044b\\u0439\", \"\\u043d\\u043e\\u0432\\u044b\\u0439\", \"\\u043d\\u043e\\u0443\\u0442\\u0431\\u0443\\u043a\", \"\\u043d\\u0443\\u0436\\u043d\\u044b\\u0439\", \"\\u043e\\u0431\\u0435\\u0434\", \"\\u043e\\u0431\\u0435\\u0441\\u043f\\u0435\\u0447\\u0438\\u0432\\u0430\\u0442\\u044c\", \"\\u043e\\u0431\\u0437\\u043e\\u0440\", \"\\u043e\\u0431\\u0443\\u0447\\u0435\\u043d\\u0438\\u0435\", \"\\u043e\\u0431\\u044a\\u044f\\u0441\\u043d\\u0438\\u0442\\u044c\", \"\\u043e\\u0431\\u044f\\u0437\\u0430\\u0442\\u0435\\u043b\\u044c\\u043d\\u043e\", \"\\u043e\\u0434\\u043d\\u043e\", \"\\u043e\\u0434\\u043d\\u0443\", \"\\u043e\\u0436\\u0438\\u0434\\u0430\\u0442\\u044c\", \"\\u043e\\u043a\", \"\\u043e\\u043a\\u0430\\u0437\\u0430\\u0442\\u044c\\u0441\\u044f\", \"\\u043e\\u043a\\u0430\\u0437\\u044b\\u0432\\u0430\\u0442\\u044c_\\u0431\\u0438\\u0437\\u043d\\u0435\\u0441\", \"\\u043e\\u043a\\u043e\\u043b\\u043e\", \"\\u043e\\u043a\\u043e\\u043d\\u0447\\u0430\\u043d\\u0438\\u0435\", \"\\u043e\\u043a\\u0442\\u044f\\u0431\\u0440\\u044c\", \"\\u043e\\u043d\\u043b\\u0430\\u0439\\u043d\", \"\\u043e\\u043f\\u0438\\u0441\\u0430\\u0442\\u044c\", \"\\u043e\\u043f\\u0442\\u0438\\u043c\\u0438\\u0437\\u0430\\u0446\\u0438\\u044f\", \"\\u043e\\u043f\\u0443\\u0431\\u043b\\u0438\\u043a\\u043e\\u0432\\u0430\\u0442\\u044c\", \"\\u043e\\u043f\\u044b\\u0442\", \"\\u043e\\u043f\\u044b\\u0442\", \"\\u043e\\u0440\\u0433\\u0430\\u043d\\u0438\\u0437\\u043e\\u0432\\u0430\\u0442\\u044c\", \"\\u043e\\u0441\\u043d\\u043e\\u0432\\u043d\\u043e\\u0439\", \"\\u043e\\u0442\\u0434\\u043e\\u0445\\u043d\\u0443\\u0442\\u044c\", \"\\u043e\\u0442\\u0437\\u044b\\u0432\", \"\\u043e\\u0442\\u043a\\u0430\\u0437\\u043e\\u0443\\u0441\\u0442\\u043e\\u0439\\u0447\\u0438\\u0432\\u043e\\u0441\\u0442\\u044c\", \"\\u043e\\u0442\\u043a\\u043b\\u0438\\u043a\", \"\\u043e\\u0442\\u043a\\u0440\\u044b\\u0442\\u044c\", \"\\u043e\\u0442\\u043f\\u0443\\u0441\\u043a\", \"\\u043e\\u0442\\u0441\\u0443\\u0442\\u0441\\u0442\\u0432\\u0438\\u0435\", \"\\u043e\\u0444\\u0438\\u0441\", \"\\u043e\\u0444\\u0438\\u0441\\u043d\\u044b\\u0439\", \"\\u043e\\u0444\\u0438\\u0446\\u0438\\u0430\\u043b\\u044c\\u043d\\u044b\\u0439\", \"\\u043e\\u0444\\u043b\\u0430\\u0439\\u043d\", \"\\u043e\\u0446\\u0435\\u043d\\u0438\\u0432\\u0430\\u0442\\u044c\", \"\\u043e\\u0446\\u0435\\u043d\\u043a\\u0430\", \"\\u043e\\u0447\\u0435\\u043d\\u044c\", \"\\u043e\\u0447\\u0435\\u043d\\u044c\", \"\\u043e\\u0447\\u0435\\u0440\\u0435\\u0434\\u043d\\u043e\\u0439\", \"\\u043f\\u0430\\u0440\\u0430\", \"\\u043f\\u0435\\u0440\\u0432\\u044b\\u0439\", \"\\u043f\\u0435\\u0440\\u0435\\u0439\\u0442\\u0438\", \"\\u043f\\u0435\\u0440\\u0435\\u0441\\u0442\\u0430\\u0442\\u044c\", \"\\u043f\\u0435\\u0440\\u0435\\u0445\\u043e\\u0434\", \"\\u043f\\u0435\\u0440\\u0438\\u043e\\u0434\", \"\\u043f\\u0435\\u0440\\u0438\\u043e\\u0434\\u0438\\u0447\\u0435\\u0441\\u043a\\u0438\", \"\\u043f\\u0438\\u0441\\u0430\\u0442\\u044c\", \"\\u043f\\u0438\\u0441\\u0430\\u0442\\u044c\", \"\\u043f\\u0438\\u0448\\u0438\", \"\\u043f\\u0438\\u0448\\u0438\\u0442\\u0435\", \"\\u043f\\u043b\\u0430\\u0442\\u043d\\u044b\\u0439\", \"\\u043f\\u043b\\u0430\\u0442\\u0444\\u043e\\u0440\\u043c\\u0430\", \"\\u043f\\u043b\\u043e\\u0449\\u0430\\u0434\\u043a\\u0430\", \"\\u043f\\u043e\\u0432\\u044b\\u0441\\u0438\\u0442\\u044c_\\u044d\\u0444\\u0444\\u0435\\u043a\\u0442\\u0438\\u0432\\u043d\\u043e\\u0441\\u0442\\u044c\", \"\\u043f\\u043e\\u0434\\u0431\\u043e\\u0440\", \"\\u043f\\u043e\\u0434\\u0434\\u0435\\u0440\\u0436\\u043a\\u0430\", \"\\u043f\\u043e\\u0434\\u043f\\u0438\\u0448\\u0438\\u0442\\u0435\\u0441\\u044c\", \"\\u043f\\u043e\\u0434\\u0440\\u043e\\u0431\\u043d\\u043e\", \"\\u043f\\u043e\\u0434\\u0440\\u043e\\u0431\\u043d\\u043e\\u0441\\u0442\\u044c\", \"\\u043f\\u043e\\u0434\\u0441\\u043a\\u0430\\u0437\\u044b\\u0432\\u0430\\u0442\\u044c\", \"\\u043f\\u043e\\u0437\\u0438\\u0446\\u0438\\u044f\", \"\\u043f\\u043e\\u0437\\u043d\\u0430\\u043a\\u043e\\u043c\\u0438\\u0442\\u044c\\u0441\\u044f\", \"\\u043f\\u043e\\u0438\\u0441\\u043a\", \"\\u043f\\u043e\\u0438\\u0441\\u043a\", \"\\u043f\\u043e\\u0438\\u0441\\u043a\", \"\\u043f\\u043e\\u0439\\u0442\\u0438\", \"\\u043f\\u043e\\u043a\\u0443\\u043f\\u0430\\u0442\\u0435\\u043b\\u044c\", \"\\u043f\\u043e\\u043a\\u0443\\u043f\\u043a\\u0430\", \"\\u043f\\u043e\\u043b\", \"\\u043f\\u043e\\u043b\\u0435\\u0437\\u043d\\u044b\\u0439\", \"\\u043f\\u043e\\u043b\\u0438\\u0442\\u0438\\u0447\\u0435\\u0441\\u043a\\u0438\\u0439\", \"\\u043f\\u043e\\u043b\\u043e\\u0447\\u043a\\u0430\\u043c\", \"\\u043f\\u043e\\u043b\\u0443\\u0447\\u0430\\u0442\\u044c\", \"\\u043f\\u043e\\u043b\\u0443\\u0447\\u0438\\u0442\\u044c\\u0441\\u044f\", \"\\u043f\\u043e\\u043b\\u044c\\u0437\\u043e\\u0432\\u0430\\u0442\\u0435\\u043b\\u044c\", \"\\u043f\\u043e\\u043b\\u044c\\u0437\\u043e\\u0432\\u0430\\u0442\\u0435\\u043b\\u044c\\u0441\\u043a\\u0438\\u0439_\\u0438\\u043d\\u0442\\u0435\\u0440\\u0444\\u0435\\u0439\\u0441\", \"\\u043f\\u043e\\u043b\\u044c\\u0448\\u0430\", \"\\u043f\\u043e\\u043c\\u043e\\u0447\\u044c\", \"\\u043f\\u043e\\u043c\\u043e\\u0449\\u044c\", \"\\u043f\\u043e\\u043d\\u044f\\u0442\\u0438\\u0435\", \"\\u043f\\u043e\\u043d\\u044f\\u0442\\u043d\\u044b\\u0439\", \"\\u043f\\u043e\\u043d\\u044f\\u0442\\u044c\", \"\\u043f\\u043e\\u043f\\u0443\\u043b\\u044f\\u0440\\u043d\\u044b\\u0439\", \"\\u043f\\u043e\\u0440\\u0430\\u0431\\u043e\\u0442\\u0430\\u0442\\u044c\", \"\\u043f\\u043e\\u0441\\u043b\\u0435\\u0434\\u0441\\u0442\\u0432\\u0438\\u0435\", \"\\u043f\\u043e\\u0441\\u0442\", \"\\u043f\\u043e\\u0441\\u0442\\u0430\\u0432\\u043a\\u0430\", \"\\u043f\\u043e\\u0442\\u0435\\u043d\\u0446\\u0438\\u0430\\u043b\\u044c\\u043d\\u044b\\u0439\", \"\\u043f\\u043e\\u0445\\u043e\\u0436\\u0438\\u0439\", \"\\u043f\\u043e\\u0447\\u0438\\u0442\\u0430\\u0442\\u044c\", \"\\u043f\\u0440\\u0430\\u0432\\u0438\\u043b\\u044c\\u043d\\u044b\\u0439\", \"\\u043f\\u0440\\u0430\\u043a\\u0442\\u0438\\u043a\\u0430\", \"\\u043f\\u0440\\u0435\\u0434\\u043b\\u043e\\u0436\\u0438\\u0442\\u044c\", \"\\u043f\\u0440\\u0435\\u0434\\u043c\\u0435\\u0442\\u043d\\u044b\\u0439\", \"\\u043f\\u0440\\u0435\\u0434\\u043e\\u0441\\u0442\\u0430\\u0432\\u043b\\u044f\\u0442\\u044c\", \"\\u043f\\u0440\\u0435\\u0434\\u0441\\u0442\\u0430\\u0432\\u043b\\u0435\\u043d\\u0438\\u0435\", \"\\u043f\\u0440\\u0435\\u0434\\u0441\\u0442\\u0430\\u0432\\u043b\\u044f\\u0442\\u044c\", \"\\u043f\\u0440\\u0435\\u0434\\u044b\\u0434\\u0443\\u0449\\u0438\\u0439\", \"\\u043f\\u0440\\u0438\\u0433\\u043b\\u0430\\u0441\\u0438\\u0442\\u044c\", \"\\u043f\\u0440\\u0438\\u0433\\u043b\\u0430\\u0448\\u0430\\u0442\\u044c\", \"\\u043f\\u0440\\u0438\\u043a\\u0440\\u0443\\u0442\\u0438\\u0442\\u044c\", \"\\u043f\\u0440\\u0438\\u043b\\u043e\\u0436\\u0435\\u043d\\u0438\\u0435\", \"\\u043f\\u0440\\u0438\\u043c\\u0435\\u0440\\u043d\\u043e\", \"\\u043f\\u0440\\u0438\\u043d\\u0446\\u0438\\u043f\", \"\\u043f\\u0440\\u0438\\u043e\\u0431\\u0440\\u0435\\u0441\\u0442\\u0438\", \"\\u043f\\u0440\\u0438\\u0447\\u0438\\u043d\\u0430\", \"\\u043f\\u0440\\u043e\\u0431\\u043b\\u0435\\u043c\\u0430\", \"\\u043f\\u0440\\u043e\\u0431\\u043b\\u0435\\u043c\\u043d\\u044b\\u0439\", \"\\u043f\\u0440\\u043e\\u0432\\u0435\\u0440\\u043a\\u0430_\\u043d\\u0430\\u0432\\u044b\\u043a\", \"\\u043f\\u0440\\u043e\\u0432\\u043e\\u0434\\u0438\\u0442\\u044c\", \"\\u043f\\u0440\\u043e\\u0433\\u0440\\u0430\\u043c\\u043c\\u0438\\u0440\\u043e\\u0432\\u0430\\u043d\\u0438\\u0435\", \"\\u043f\\u0440\\u043e\\u0433\\u0440\\u0430\\u043c\\u043c\\u0438\\u0441\\u0442\", \"\\u043f\\u0440\\u043e\\u0434\\u0430\\u0432\\u0430\\u0442\\u044c\", \"\\u043f\\u0440\\u043e\\u0434\\u0430\\u0432\\u0435\\u0446\", \"\\u043f\\u0440\\u043e\\u0434\\u0430\\u0436\\u0430\", \"\\u043f\\u0440\\u043e\\u0434\\u043e\\u043b\\u0436\\u0435\\u043d\\u0438\\u0435\", \"\\u043f\\u0440\\u043e\\u0434\\u043e\\u043b\\u0436\\u0438\\u0442\\u044c\", \"\\u043f\\u0440\\u043e\\u0434\\u0443\\u043a\\u0442\", \"\\u043f\\u0440\\u043e\\u0435\\u043a\\u0442\", \"\\u043f\\u0440\\u043e\\u0435\\u043a\\u0442\", \"\\u043f\\u0440\\u043e\\u0435\\u043a\\u0442\\u0438\\u0440\\u043e\\u0432\\u0430\\u043d\\u0438\\u0435\", \"\\u043f\\u0440\\u043e\\u0435\\u043a\\u0442\\u0438\\u0440\\u043e\\u0432\\u0430\\u043d\\u0438\\u0435\", \"\\u043f\\u0440\\u043e\\u0435\\u043a\\u0442\\u0438\\u0440\\u043e\\u0432\\u0430\\u0442\\u044c\", \"\\u043f\\u0440\\u043e\\u0435\\u043a\\u0442\\u043d\\u044b\\u0439\", \"\\u043f\\u0440\\u043e\\u0438\\u0437\\u0432\\u043e\\u0434\\u0438\\u0442\\u0435\\u043b\\u044c\\u043d\\u043e\\u0441\\u0442\\u044c\", \"\\u043f\\u0440\\u043e\\u0439\\u0442\\u0438\", \"\\u043f\\u0440\\u043e\\u043a\\u0430\\u0447\\u0438\\u0432\\u0430\\u0442\\u044c\", \"\\u043f\\u0440\\u043e\\u0441\\u043c\\u043e\\u0442\\u0440\\u0435\\u0442\\u044c\", \"\\u043f\\u0440\\u043e\\u0441\\u0442\\u043e\", \"\\u043f\\u0440\\u043e\\u0444\\u0438\\u043b\\u044c\", \"\\u043f\\u0440\\u043e\\u0444\\u0438\\u043b\\u044c\\u043d\\u044b\\u0439\", \"\\u043f\\u0440\\u043e\\u0446\\u0435\\u0441\\u0441\", \"\\u043f\\u0440\\u043e\\u0447\\u0438\\u0445\", \"\\u043f\\u0440\\u043e\\u0448\\u043b\\u043e\\u0435\", \"\\u043f\\u0441\\u0438\\u0445\\u043e\\u043b\\u043e\\u0433\\u0438\\u044f\", \"\\u043f\\u0443\\u0431\\u043b\\u0438\\u0447\\u043d\\u044b\\u0439\", \"\\u043f\\u0443\\u0442\\u044c\", \"\\u0440\\u0430\\u0431\\u043e\\u0442\\u0430\", \"\\u0440\\u0430\\u0431\\u043e\\u0442\\u0430\", \"\\u0440\\u0430\\u0431\\u043e\\u0442\\u0430\\u0442\\u044c\", \"\\u0440\\u0430\\u0431\\u043e\\u0442\\u0430\\u0442\\u044c\", \"\\u0440\\u0430\\u0431\\u043e\\u0442\\u043e\\u0434\\u0430\\u0442\\u0435\\u043b\\u044c\", \"\\u0440\\u0430\\u0434\\u043e\\u0441\\u0442\\u044c_\\u0441\\u043e\\u043e\\u0431\\u0449\\u0430\\u0442\\u044c\", \"\\u0440\\u0430\\u0437\\u0431\\u0438\\u0440\\u0430\\u0442\\u044c\\u0441\\u044f\", \"\\u0440\\u0430\\u0437\\u0432\\u0438\\u0442\\u0438\\u0435\", \"\\u0440\\u0430\\u0437\\u0432\\u0438\\u0442\\u0438\\u0435\", \"\\u0440\\u0430\\u0437\\u0434\\u0435\\u043b\\u044f\\u0442\\u044c\", \"\\u0440\\u0430\\u0437\\u043e\\u0431\\u0440\\u0430\\u0442\\u044c\", \"\\u0440\\u0430\\u0437\\u043e\\u0431\\u0440\\u0430\\u0442\\u044c\\u0441\\u044f\", \"\\u0440\\u0430\\u0437\\u0440\\u0430\\u0431\\u043e\\u0442\\u043a\\u0430\", \"\\u0440\\u0430\\u0437\\u0440\\u0430\\u0431\\u043e\\u0442\\u0447\\u0438\\u043a\", \"\\u0440\\u0430\\u0441\\u0441\\u043a\\u0430\\u0437\\u0430\\u0442\\u044c\", \"\\u0440\\u0430\\u0441\\u0441\\u043a\\u0430\\u0437\\u044b\\u0432\\u0430\\u0442\\u044c\", \"\\u0440\\u0435\\u0431\\u044f\\u0442\\u0430\", \"\\u0440\\u0435\\u0433\\u0443\\u043b\\u044f\\u0440\\u043d\\u044b\\u0439\", \"\\u0440\\u0435\\u0437\\u044e\\u043c\\u0435\", \"\\u0440\\u0435\\u0439\\u0442\\u0438\\u043d\\u0433\", \"\\u0440\\u0435\\u043a\\u043b\\u0430\\u043c\\u0430\", \"\\u0440\\u0435\\u043a\\u043b\\u0430\\u043c\\u043d\\u044b\\u0439\", \"\\u0440\\u0435\\u043a\\u043e\\u043c\\u0435\\u043d\\u0434\\u0430\\u0446\\u0438\\u044f\", \"\\u0440\\u0435\\u043a\\u043e\\u043c\\u0435\\u043d\\u0434\\u0430\\u0446\\u0438\\u044f_\\u043a\\u043e\\u043d\\u0442\\u0430\\u043a\\u0442\", \"\\u0440\\u0435\\u043a\\u043e\\u043c\\u0435\\u043d\\u0434\\u043e\\u0432\\u0430\\u0442\\u044c\", \"\\u0440\\u0435\\u043a\\u0440\\u0443\\u0442\\u0435\\u0440\", \"\\u0440\\u0435\\u043b\\u043e\\u043a\\u0430\\u0446\\u0438\\u0435\\u0439\", \"\\u0440\\u0435\\u0448\\u0430\\u0442\\u044c\", \"\\u0440\\u0435\\u0448\\u0438\\u0442\\u044c\", \"\\u0440\\u0438\\u0441\\u043a\", \"\\u0440\\u043e\\u0441\\u0442\", \"\\u0440\\u0443\\u043a\\u043e\\u0432\\u043e\\u0434\\u0438\\u0442\\u0435\\u043b\\u044c\", \"\\u0440\\u044b\\u043d\\u043e\\u043a_\\u0442\\u0440\\u0443\\u0434\", \"\\u0441\\u0430\\u0439\\u0442\", \"\\u0441\\u0430\\u043c\\u043e\\u043c_\\u0434\\u0435\\u043b\\u043e\", \"\\u0441\\u0430\\u043c\\u0443\\u044e\", \"\\u0441\\u0432\\u0438\\u0442\\u0435\\u0440\", \"\\u0441\\u0432\\u043e\\u0439\", \"\\u0441\\u0432\\u043e\\u0439\", \"\\u0441\\u0434\\u0435\\u043b\\u0430\\u0442\\u044c\", \"\\u0441\\u0435\\u0433\\u043e\\u0434\\u043d\\u044f\", \"\\u0441\\u0435\\u0433\\u043e\\u0434\\u043d\\u044f\", \"\\u0441\\u0435\\u043a\\u0440\\u0435\\u0442\\u043d\\u044b\\u0439\", \"\\u0441\\u0435\\u0440\\u0432\\u0438\\u0441\", \"\\u0441\\u0435\\u0440\\u0433\\u0435\\u0439\", \"\\u0441\\u0438\\u043b\\u0438\\u043a\\u043e\\u043d\\u043e\\u0432\\u044b\\u0439\", \"\\u0441\\u0438\\u0441\\u0442\\u0435\\u043c\\u0430\", \"\\u0441\\u0438\\u0441\\u0442\\u0435\\u043c\\u0430\", \"\\u0441\\u043a\\u0430\\u0437\\u0430\\u0442\\u044c\", \"\\u0441\\u043b\\u0435\\u0434\\u0443\\u044e\\u0449\\u0438\\u0439\", \"\\u0441\\u043b\\u0435\\u0434\\u0443\\u044e\\u0449\\u0438\\u0439_\\u043f\\u0440\\u043e\\u0439\\u0442\\u0438\", \"\\u0441\\u043b\\u043e\\u0432\\u043e\", \"\\u0441\\u043b\\u043e\\u0436\\u043d\\u043e\\u0441\\u0442\\u044c\", \"\\u0441\\u043b\\u043e\\u0436\\u043d\\u044b\\u0439\", \"\\u0441\\u043b\\u0443\\u0447\\u0430\\u0439\", \"\\u0441\\u043b\\u0443\\u0448\\u0430\\u0442\\u044c\", \"\\u0441\\u043c\\u043e\\u0436\\u0435\\u0448\\u044c\", \"\\u0441\\u043c\\u043e\\u0442\\u0440\\u0435\\u0442\\u044c\", \"\\u0441\\u043d\\u0433\", \"\\u0441\\u043d\\u043e\\u0432\\u0430\", \"\\u0441\\u043e\\u0431\\u0435\\u0441\\u0435\\u0434\\u043e\\u0432\\u0430\\u043d\\u0438\\u0435\", \"\\u0441\\u043e\\u0431\\u0438\\u0440\\u0430\\u0442\\u044c\", \"\\u0441\\u043e\\u0432\\u0435\\u0442\", \"\\u0441\\u043e\\u0432\\u0435\\u0442\", \"\\u0441\\u043e\\u0437\\u0434\\u0430\\u0432\\u0430\\u0442\\u044c\", \"\\u0441\\u043e\\u0437\\u0434\\u0430\\u0442\\u044c\", \"\\u0441\\u043e\\u0438\\u0441\\u043a\\u0430\\u0442\\u0435\\u043b\\u044c\", \"\\u0441\\u043e\\u0442\\u043d\\u044f\", \"\\u0441\\u043e\\u0446\\u0438\\u0430\\u043b\\u044c\\u043d\\u044b\\u0439\", \"\\u0441\\u043e\\u0446\\u0441\\u0435\\u0442\\u044c\", \"\\u0441\\u043f\\u0435\\u0446\\u0438\\u0430\\u043b\\u0438\\u0441\\u0442\", \"\\u0441\\u043f\\u0435\\u0446\\u0438\\u0430\\u043b\\u0438\\u0441\\u0442\", \"\\u0441\\u043f\\u0435\\u0446\\u0438\\u0430\\u043b\\u044c\\u043d\\u043e\\u0441\\u0442\\u044c\", \"\\u0441\\u043f\\u0438\\u043a\\u0435\\u0440\", \"\\u0441\\u043f\\u0438\\u0441\\u043e\\u043a\", \"\\u0441\\u043f\\u043e\\u0441\\u043e\\u0431\\u0441\\u0442\\u0432\\u043e\\u0432\\u0430\\u0442\\u044c\", \"\\u0441\\u0441\\u044b\\u043b\\u043a\\u0430\", \"\\u0441\\u0442\\u0430\\u0432\\u0438\\u0442\\u044c\", \"\\u0441\\u0442\\u0430\\u0436\\u0438\\u0440\\u043e\\u0432\\u043a\\u0430\", \"\\u0441\\u0442\\u0430\\u0440\\u0442\\u0430\\u043f\", \"\\u0441\\u0442\\u0430\\u0440\\u0442\\u043e\\u0432\\u0430\\u0442\\u044c\", \"\\u0441\\u0442\\u0430\\u0442\\u044c\", \"\\u0441\\u0442\\u0430\\u0442\\u044c\\u044f\", \"\\u0441\\u0442\\u043e\\u0440\\u043e\\u043d\\u0430\", \"\\u0441\\u0442\\u043e\\u044f\\u0442\\u044c\", \"\\u0441\\u0442\\u0440\\u0430\\u0434\\u0430\\u0442\\u044c\", \"\\u0441\\u0442\\u0440\\u0430\\u043d\\u0438\\u0446\\u0430_\\u0443\\u0441\\u043b\\u0443\\u0433\\u0430\", \"\\u0441\\u0442\\u0440\\u0430\\u043d\\u0438\\u0447\\u043a\\u0430\", \"\\u0441\\u0442\\u0440\\u0430\\u0442\\u0435\\u0433\\u0438\\u044f\", \"\\u0441\\u0443\\u0442\\u044c\", \"\\u0441\\u0445\\u0435\\u043c\\u0430\", \"\\u0441\\u0447\\u0438\\u0442\\u0430\\u0442\\u044c\", \"\\u0442\\u0430\\u0439\\u043c\", \"\\u0442\\u0432\\u043e\\u0440\\u0447\\u0435\\u0441\\u0442\\u0432\\u043e\", \"\\u0442\\u0433\", \"\\u0442\\u0435\\u043a\\u0443\\u0449\\u0438\\u0439\", \"\\u0442\\u0435\\u043b\\u0435\\u0433\\u0440\\u0430\\u043c\\u043c_\\u043a\\u0430\\u043d\\u0430\\u043b\", \"\\u0442\\u0435\\u043b\\u0435\\u0433\\u0440\\u0430\\u043c\\u043c\\u0430\", \"\\u0442\\u0435\\u043c\\u0430\", \"\\u0442\\u0435\\u043e\\u0440\\u0438\\u044f\", \"\\u0442\\u0435\\u0441\\u0442\", \"\\u0442\\u0435\\u0441\\u0442\\u0438\\u0440\\u043e\\u0432\\u0430\\u043d\\u0438\\u0435\", \"\\u0442\\u0435\\u0441\\u0442\\u0438\\u0440\\u043e\\u0432\\u0449\\u0438\\u043a\\u043e\\u0432\", \"\\u0442\\u0435\\u0445\\u043d\\u0438\\u043a\\u0430\", \"\\u0442\\u0435\\u0445\\u043d\\u0438\\u0447\\u0435\\u0441\\u043a\\u0438\\u0439\", \"\\u0442\\u0435\\u0445\\u043d\\u043e\\u043b\\u043e\\u0433\\u0438\\u0447\\u0435\\u0441\\u043a\\u0438\\u0439\", \"\\u0442\\u0435\\u0445\\u043d\\u043e\\u043b\\u043e\\u0433\\u0438\\u044f\", \"\\u0442\\u0435\\u0447\\u0435\\u043d\\u0438\\u0435\", \"\\u0442\\u043e\\u043f\", \"\\u0442\\u043e\\u0447\\u043a\\u0430_\\u0437\\u0440\\u0435\\u043d\\u0438\\u0435\", \"\\u0442\\u0440\\u0435\\u043d\\u0438\\u043d\\u0433\", \"\\u0442\\u0443\\u0434\\u0430\", \"\\u0442\\u044b\\u0441\\u044f\\u0447\\u0430\", \"\\u0443\\u0432\\u0438\\u0434\\u0435\\u0442\\u044c\", \"\\u0443\\u0433\\u0440\\u043e\\u0437\\u0430\", \"\\u0443\\u0434\\u043e\\u0432\\u043e\\u043b\\u044c\\u0441\\u0442\\u0432\\u0438\\u0435_\\u0441\\u043e\\u043e\\u0431\\u0449\\u0430\\u0442\\u044c\", \"\\u0443\\u043b\\u0443\\u0447\\u0448\\u0430\\u0442\\u044c\", \"\\u0443\\u043c\\u0435\\u043d\\u0438\\u0435\", \"\\u0443\\u043c\\u0435\\u043d\\u0438\\u0435\", \"\\u0443\\u043c\\u043d\\u044b\\u0439\", \"\\u0443\\u043d\\u0438\\u0432\\u0435\\u0440\\u0441\\u0438\\u0442\\u0435\\u0442\", \"\\u0443\\u043f\\u0440\\u0430\\u0432\\u043b\\u0435\\u043d\\u0438\\u0435\", \"\\u0443\\u0440\\u043e\\u0432\\u0435\\u043d\\u044c\", \"\\u0443\\u0440\\u043e\\u0432\\u0435\\u043d\\u044c\", \"\\u0443\\u0441\\u043b\\u0443\\u0433\\u0438\", \"\\u0443\\u0441\\u043f\\u0435\\u0442\\u044c\", \"\\u0443\\u0441\\u0442\\u0430\\u043d\\u043e\\u0432\\u043a\\u0430\", \"\\u0443\\u0441\\u0442\\u043e\\u0439\\u0447\\u0438\\u0432\\u044b\\u0439\", \"\\u0443\\u0441\\u0442\\u0440\\u043e\\u0438\\u0442\\u044c\", \"\\u0443\\u0447\\u0430\\u0441\\u0442\\u0432\\u043e\\u0432\\u0430\\u0442\\u044c\", \"\\u0443\\u0447\\u0435\\u0431\\u043d\\u044b\\u0439\", \"\\u0444\\u0438\\u043b\\u044c\\u043c\", \"\\u0444\\u0440\\u0430\\u0437\\u0430\", \"\\u0445\\u0432\\u0430\\u0442\\u0430\\u0442\\u044c\", \"\\u0445\\u043e\\u0440\\u043e\\u0448\\u0438\\u0439\", \"\\u0445\\u043e\\u0442\\u0435\\u0442\\u044c\", \"\\u0445\\u043e\\u0442\\u0435\\u0442\\u044c\", \"\\u0446\\u0435\\u043b\\u043e\\u0435\", \"\\u0446\\u0435\\u043d\\u0430\", \"\\u0447\\u0430\\u0441\", \"\\u0447\\u0430\\u0441\\u0442\\u043e\", \"\\u0447\\u0430\\u0441\\u0442\\u044c\", \"\\u0447\\u0435\\u043b\\u043e\\u0432\\u0435\\u043a\", \"\\u0447\\u0435\\u043b\\u043e\\u0432\\u0435\\u043a\", \"\\u0447\\u0438\\u0441\\u0442\\u044b\\u0439\", \"\\u0447\\u0443\\u0434\\u043e\", \"\\u0448\\u0435\\u0440\", \"\\u044d\\u043a\\u0441\\u043f\\u0435\\u0440\\u0442\\u043d\\u044b\\u0439\", \"\\u044d\\u043b\\u0435\\u043c\\u0435\\u043d\\u0442\", \"\\u044d\\u043f\\u0438\\u0437\\u043e\\u0434\", \"\\u044d\\u0442\\u043e\", \"\\u044d\\u0442\\u043e\", \"\\u044f\\u0432\\u043b\\u044f\\u0442\\u044c\\u0441\\u044f\", \"\\u044f\\u0437\\u044b\\u043a\"]}, \"R\": 30, \"lambda.step\": 0.01, \"plot.opts\": {\"xlab\": \"PC1\", \"ylab\": \"PC2\"}, \"topic.order\": [16, 20, 14, 11, 15, 10, 18, 13, 7, 4, 2, 1, 9, 3, 19, 6, 5, 8, 17, 12]};\n",
       "\n",
       "function LDAvis_load_lib(url, callback){\n",
       "  var s = document.createElement('script');\n",
       "  s.src = url;\n",
       "  s.async = true;\n",
       "  s.onreadystatechange = s.onload = callback;\n",
       "  s.onerror = function(){console.warn(\"failed to load library \" + url);};\n",
       "  document.getElementsByTagName(\"head\")[0].appendChild(s);\n",
       "}\n",
       "\n",
       "if(typeof(LDAvis) !== \"undefined\"){\n",
       "   // already loaded: just create the visualization\n",
       "   !function(LDAvis){\n",
       "       new LDAvis(\"#\" + \"ldavis_el29001955712183844699555504\", ldavis_el29001955712183844699555504_data);\n",
       "   }(LDAvis);\n",
       "}else if(typeof define === \"function\" && define.amd){\n",
       "   // require.js is available: use it to load d3/LDAvis\n",
       "   require.config({paths: {d3: \"https://d3js.org/d3.v5\"}});\n",
       "   require([\"d3\"], function(d3){\n",
       "      window.d3 = d3;\n",
       "      LDAvis_load_lib(\"https://cdn.jsdelivr.net/gh/bmabey/pyLDAvis@3.4.0/pyLDAvis/js/ldavis.v3.0.0.js\", function(){\n",
       "        new LDAvis(\"#\" + \"ldavis_el29001955712183844699555504\", ldavis_el29001955712183844699555504_data);\n",
       "      });\n",
       "    });\n",
       "}else{\n",
       "    // require.js not available: dynamically load d3 & LDAvis\n",
       "    LDAvis_load_lib(\"https://d3js.org/d3.v5.js\", function(){\n",
       "         LDAvis_load_lib(\"https://cdn.jsdelivr.net/gh/bmabey/pyLDAvis@3.4.0/pyLDAvis/js/ldavis.v3.0.0.js\", function(){\n",
       "                 new LDAvis(\"#\" + \"ldavis_el29001955712183844699555504\", ldavis_el29001955712183844699555504_data);\n",
       "            })\n",
       "         });\n",
       "}\n",
       "</script>"
      ],
      "text/plain": [
       "PreparedData(topic_coordinates=              x         y  topics  cluster       Freq\n",
       "topic                                                \n",
       "15     0.426242  0.066590       1        1  47.676456\n",
       "19     0.342046 -0.312268       2        1  18.723723\n",
       "13     0.301914  0.266339       3        1  15.346374\n",
       "10     0.004837 -0.020162       4        1   3.420430\n",
       "14    -0.007827 -0.029070       5        1   3.151337\n",
       "9     -0.061425  0.001156       6        1   1.446724\n",
       "17    -0.060004  0.001063       7        1   1.426046\n",
       "12    -0.056942 -0.000523       8        1   1.352935\n",
       "6     -0.055073  0.002379       9        1   1.242411\n",
       "3     -0.065723  0.001425      10        1   1.186451\n",
       "1     -0.069985  0.001722      11        1   1.079449\n",
       "0     -0.068657  0.001627      12        1   1.018894\n",
       "8     -0.074689  0.001996      13        1   0.801390\n",
       "2     -0.077990  0.002249      14        1   0.486034\n",
       "18    -0.074450  0.002718      15        1   0.441528\n",
       "5     -0.079850  0.002437      16        1   0.399349\n",
       "4     -0.080277  0.002517      17        1   0.263644\n",
       "7     -0.080424  0.002519      18        1   0.244084\n",
       "16    -0.080820  0.002602      19        1   0.189413\n",
       "11    -0.080903  0.002684      20        1   0.103326, topic_info=            Term         Freq        Total Category  logprob  loglift\n",
       "46      компания  1065.000000  1065.000000  Default  30.0000  30.0000\n",
       "99           год   905.000000   905.000000  Default  29.0000  29.0000\n",
       "90           это  2336.000000  2336.000000  Default  28.0000  28.0000\n",
       "105       задача   443.000000   443.000000  Default  27.0000  27.0000\n",
       "240       работа  1925.000000  1925.000000  Default  26.0000  26.0000\n",
       "...          ...          ...          ...      ...      ...      ...\n",
       "4524      сессия     0.006553     0.853941  Topic20  -9.7113   2.0052\n",
       "1886  английский     0.006554     0.853975  Topic20  -9.7113   2.0051\n",
       "5474      аспект     0.006553     0.853938  Topic20  -9.7113   2.0052\n",
       "2612         мир     0.006554     0.854061  Topic20  -9.7113   2.0050\n",
       "4028      ресурс     0.006554     0.853994  Topic20  -9.7113   2.0051\n",
       "\n",
       "[857 rows x 6 columns], token_table=      Topic      Freq               Term\n",
       "term                                    \n",
       "1572      8  0.914409         автомобиль\n",
       "1076      1  0.986448              автор\n",
       "1598     11  0.459785  администрирование\n",
       "1793     15  0.959998               айти\n",
       "694       2  0.993151            активно\n",
       "...     ...       ...                ...\n",
       "1765     15  0.704232             эпизод\n",
       "90        1  0.994373                это\n",
       "90        3  0.005565                это\n",
       "1402      7  0.996311           являться\n",
       "223       2  0.996726               язык\n",
       "\n",
       "[514 rows x 3 columns], R=30, lambda_step=0.01, plot_opts={'xlab': 'PC1', 'ylab': 'PC2'}, topic_order=[16, 20, 14, 11, 15, 10, 18, 13, 7, 4, 2, 1, 9, 3, 19, 6, 5, 8, 17, 12])"
      ]
     },
     "execution_count": 19,
     "metadata": {},
     "output_type": "execute_result"
    }
   ],
   "source": [
    "pyLDAvis.enable_notebook()\n",
    "vis = pyLDAvis.gensim.prepare(lda_model, corpus, id2word)\n",
    "vis"
   ]
  },
  {
   "cell_type": "code",
   "execution_count": 20,
   "metadata": {},
   "outputs": [],
   "source": [
    "def compute_coherence_values(dictionary, corpus, texts, limit, start=2, step=3):\n",
    "    coherence_values = []\n",
    "    model_list = []\n",
    "    for num_topics in range(start, limit, step):\n",
    "        model = gensim.models.ldamodel.LdaModel(\n",
    "            corpus=corpus,\n",
    "            id2word=id2word,\n",
    "            num_topics=num_topics, \n",
    "            random_state=100,\n",
    "            update_every=1,\n",
    "            chunksize=100,\n",
    "            passes=10,\n",
    "            alpha='auto',\n",
    "            per_word_topics=True\n",
    "            )\n",
    "        model_list.append(model)\n",
    "        coherencemodel = CoherenceModel(model=model, texts=texts, dictionary=dictionary, coherence='c_v')\n",
    "        coherence_values.append(coherencemodel.get_coherence())\n",
    "\n",
    "    return model_list, coherence_values"
   ]
  },
  {
   "cell_type": "code",
   "execution_count": 21,
   "metadata": {},
   "outputs": [],
   "source": [
    "model_list, coherence_values = compute_coherence_values(dictionary=id2word, corpus=corpus, texts=data_words_bigrams, start=2, limit=50, step=6)"
   ]
  },
  {
   "cell_type": "code",
   "execution_count": null,
   "metadata": {},
   "outputs": [],
   "source": [
    "limit=50\n",
    "start=2\n",
    "step=6\n",
    "x = range(start, limit, step)\n",
    "plt.plot(x, coherence_values)\n",
    "plt.xlabel(\"Num Topics\")\n",
    "plt.ylabel(\"Coherence score\")\n",
    "plt.legend((\"coherence_values\"), loc='best')\n",
    "plt.show()"
   ]
  }
 ],
 "metadata": {
  "kernelspec": {
   "display_name": "venv",
   "language": "python",
   "name": "python3"
  },
  "language_info": {
   "codemirror_mode": {
    "name": "ipython",
    "version": 3
   },
   "file_extension": ".py",
   "mimetype": "text/x-python",
   "name": "python",
   "nbconvert_exporter": "python",
   "pygments_lexer": "ipython3",
   "version": "3.10.7"
  },
  "orig_nbformat": 4
 },
 "nbformat": 4,
 "nbformat_minor": 2
}
