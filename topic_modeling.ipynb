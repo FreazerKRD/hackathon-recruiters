{
 "cells": [
  {
   "attachments": {},
   "cell_type": "markdown",
   "metadata": {},
   "source": [
    "Импортируем нужные для работы библиотеки"
   ]
  },
  {
   "cell_type": "code",
   "execution_count": 1,
   "metadata": {},
   "outputs": [
    {
     "name": "stdout",
     "output_type": "stream",
     "text": [
      "Requirement already satisfied: spacy in c:\\users\\андрей\\desktop\\github\\recruiters\\venv\\lib\\site-packages (3.5.4)\n",
      "Requirement already satisfied: spacy-legacy<3.1.0,>=3.0.11 in c:\\users\\андрей\\desktop\\github\\recruiters\\venv\\lib\\site-packages (from spacy) (3.0.12)\n",
      "Requirement already satisfied: spacy-loggers<2.0.0,>=1.0.0 in c:\\users\\андрей\\desktop\\github\\recruiters\\venv\\lib\\site-packages (from spacy) (1.0.4)\n",
      "Requirement already satisfied: murmurhash<1.1.0,>=0.28.0 in c:\\users\\андрей\\desktop\\github\\recruiters\\venv\\lib\\site-packages (from spacy) (1.0.9)\n",
      "Requirement already satisfied: cymem<2.1.0,>=2.0.2 in c:\\users\\андрей\\desktop\\github\\recruiters\\venv\\lib\\site-packages (from spacy) (2.0.7)\n",
      "Requirement already satisfied: preshed<3.1.0,>=3.0.2 in c:\\users\\андрей\\desktop\\github\\recruiters\\venv\\lib\\site-packages (from spacy) (3.0.8)\n",
      "Requirement already satisfied: thinc<8.2.0,>=8.1.8 in c:\\users\\андрей\\desktop\\github\\recruiters\\venv\\lib\\site-packages (from spacy) (8.1.10)\n",
      "Requirement already satisfied: wasabi<1.2.0,>=0.9.1 in c:\\users\\андрей\\desktop\\github\\recruiters\\venv\\lib\\site-packages (from spacy) (1.1.2)\n",
      "Requirement already satisfied: srsly<3.0.0,>=2.4.3 in c:\\users\\андрей\\desktop\\github\\recruiters\\venv\\lib\\site-packages (from spacy) (2.4.6)\n",
      "Requirement already satisfied: catalogue<2.1.0,>=2.0.6 in c:\\users\\андрей\\desktop\\github\\recruiters\\venv\\lib\\site-packages (from spacy) (2.0.8)\n",
      "Requirement already satisfied: typer<0.10.0,>=0.3.0 in c:\\users\\андрей\\desktop\\github\\recruiters\\venv\\lib\\site-packages (from spacy) (0.9.0)\n",
      "Requirement already satisfied: pathy>=0.10.0 in c:\\users\\андрей\\desktop\\github\\recruiters\\venv\\lib\\site-packages (from spacy) (0.10.2)\n",
      "Requirement already satisfied: smart-open<7.0.0,>=5.2.1 in c:\\users\\андрей\\desktop\\github\\recruiters\\venv\\lib\\site-packages (from spacy) (6.3.0)\n",
      "Requirement already satisfied: tqdm<5.0.0,>=4.38.0 in c:\\users\\андрей\\desktop\\github\\recruiters\\venv\\lib\\site-packages (from spacy) (4.65.0)\n",
      "Requirement already satisfied: numpy>=1.15.0 in c:\\users\\андрей\\desktop\\github\\recruiters\\venv\\lib\\site-packages (from spacy) (1.25.0)\n",
      "Requirement already satisfied: requests<3.0.0,>=2.13.0 in c:\\users\\андрей\\desktop\\github\\recruiters\\venv\\lib\\site-packages (from spacy) (2.31.0)\n",
      "Requirement already satisfied: pydantic!=1.8,!=1.8.1,<1.11.0,>=1.7.4 in c:\\users\\андрей\\desktop\\github\\recruiters\\venv\\lib\\site-packages (from spacy) (1.10.10)\n",
      "Requirement already satisfied: jinja2 in c:\\users\\андрей\\desktop\\github\\recruiters\\venv\\lib\\site-packages (from spacy) (3.1.2)\n",
      "Requirement already satisfied: setuptools in c:\\users\\андрей\\desktop\\github\\recruiters\\venv\\lib\\site-packages (from spacy) (63.2.0)\n",
      "Requirement already satisfied: packaging>=20.0 in c:\\users\\андрей\\desktop\\github\\recruiters\\venv\\lib\\site-packages (from spacy) (23.1)\n",
      "Requirement already satisfied: langcodes<4.0.0,>=3.2.0 in c:\\users\\андрей\\desktop\\github\\recruiters\\venv\\lib\\site-packages (from spacy) (3.3.0)\n",
      "Requirement already satisfied: typing-extensions>=4.2.0 in c:\\users\\андрей\\desktop\\github\\recruiters\\venv\\lib\\site-packages (from pydantic!=1.8,!=1.8.1,<1.11.0,>=1.7.4->spacy) (4.7.1)\n",
      "Requirement already satisfied: charset-normalizer<4,>=2 in c:\\users\\андрей\\desktop\\github\\recruiters\\venv\\lib\\site-packages (from requests<3.0.0,>=2.13.0->spacy) (3.1.0)\n",
      "Requirement already satisfied: idna<4,>=2.5 in c:\\users\\андрей\\desktop\\github\\recruiters\\venv\\lib\\site-packages (from requests<3.0.0,>=2.13.0->spacy) (3.4)\n",
      "Requirement already satisfied: urllib3<3,>=1.21.1 in c:\\users\\андрей\\desktop\\github\\recruiters\\venv\\lib\\site-packages (from requests<3.0.0,>=2.13.0->spacy) (2.0.3)\n",
      "Requirement already satisfied: certifi>=2017.4.17 in c:\\users\\андрей\\desktop\\github\\recruiters\\venv\\lib\\site-packages (from requests<3.0.0,>=2.13.0->spacy) (2023.5.7)\n",
      "Requirement already satisfied: blis<0.8.0,>=0.7.8 in c:\\users\\андрей\\desktop\\github\\recruiters\\venv\\lib\\site-packages (from thinc<8.2.0,>=8.1.8->spacy) (0.7.9)\n",
      "Requirement already satisfied: confection<1.0.0,>=0.0.1 in c:\\users\\андрей\\desktop\\github\\recruiters\\venv\\lib\\site-packages (from thinc<8.2.0,>=8.1.8->spacy) (0.1.0)\n",
      "Requirement already satisfied: colorama in c:\\users\\андрей\\desktop\\github\\recruiters\\venv\\lib\\site-packages (from tqdm<5.0.0,>=4.38.0->spacy) (0.4.6)\n",
      "Requirement already satisfied: click<9.0.0,>=7.1.1 in c:\\users\\андрей\\desktop\\github\\recruiters\\venv\\lib\\site-packages (from typer<0.10.0,>=0.3.0->spacy) (8.1.3)\n",
      "Requirement already satisfied: MarkupSafe>=2.0 in c:\\users\\андрей\\desktop\\github\\recruiters\\venv\\lib\\site-packages (from jinja2->spacy) (2.1.3)\n",
      "Collecting ru-core-news-sm==3.5.0\n",
      "  Downloading https://github.com/explosion/spacy-models/releases/download/ru_core_news_sm-3.5.0/ru_core_news_sm-3.5.0-py3-none-any.whl (15.3 MB)\n",
      "                                              0.0/15.3 MB ? eta -:--:--\n",
      "                                              0.1/15.3 MB 1.6 MB/s eta 0:00:10\n",
      "                                              0.1/15.3 MB 1.3 MB/s eta 0:00:12\n",
      "                                              0.2/15.3 MB 1.2 MB/s eta 0:00:13\n",
      "                                              0.3/15.3 MB 1.5 MB/s eta 0:00:10\n",
      "                                              0.4/15.3 MB 1.7 MB/s eta 0:00:09\n",
      "     -                                        0.5/15.3 MB 1.8 MB/s eta 0:00:09\n",
      "     -                                        0.6/15.3 MB 1.9 MB/s eta 0:00:08\n",
      "     -                                        0.7/15.3 MB 2.0 MB/s eta 0:00:08\n",
      "     --                                       0.8/15.3 MB 2.0 MB/s eta 0:00:08\n",
      "     --                                       0.9/15.3 MB 2.1 MB/s eta 0:00:07\n",
      "     --                                       1.0/15.3 MB 2.1 MB/s eta 0:00:07\n",
      "     --                                       1.1/15.3 MB 2.2 MB/s eta 0:00:07\n",
      "     ---                                      1.2/15.3 MB 2.2 MB/s eta 0:00:07\n",
      "     ---                                      1.3/15.3 MB 2.2 MB/s eta 0:00:07\n",
      "     ---                                      1.4/15.3 MB 2.2 MB/s eta 0:00:07\n",
      "     ---                                      1.5/15.3 MB 2.2 MB/s eta 0:00:07\n",
      "     ----                                     1.6/15.3 MB 2.2 MB/s eta 0:00:07\n",
      "     ----                                     1.7/15.3 MB 2.3 MB/s eta 0:00:06\n",
      "     ----                                     1.8/15.3 MB 2.3 MB/s eta 0:00:06\n",
      "     -----                                    1.9/15.3 MB 2.3 MB/s eta 0:00:06\n",
      "     -----                                    2.0/15.3 MB 2.3 MB/s eta 0:00:06\n",
      "     -----                                    2.1/15.3 MB 2.3 MB/s eta 0:00:06\n",
      "     -----                                    2.3/15.3 MB 2.4 MB/s eta 0:00:06\n",
      "     ------                                   2.3/15.3 MB 2.3 MB/s eta 0:00:06\n",
      "     ------                                   2.4/15.3 MB 2.3 MB/s eta 0:00:06\n",
      "     ------                                   2.5/15.3 MB 2.3 MB/s eta 0:00:06\n",
      "     ------                                   2.6/15.3 MB 2.3 MB/s eta 0:00:06\n",
      "     -------                                  2.7/15.3 MB 2.3 MB/s eta 0:00:06\n",
      "     -------                                  2.8/15.3 MB 2.3 MB/s eta 0:00:06\n",
      "     -------                                  2.9/15.3 MB 2.3 MB/s eta 0:00:06\n",
      "     -------                                  3.0/15.3 MB 2.3 MB/s eta 0:00:06\n",
      "     --------                                 3.1/15.3 MB 2.3 MB/s eta 0:00:06\n",
      "     --------                                 3.2/15.3 MB 2.3 MB/s eta 0:00:06\n",
      "     --------                                 3.3/15.3 MB 2.3 MB/s eta 0:00:06\n",
      "     --------                                 3.4/15.3 MB 2.3 MB/s eta 0:00:06\n",
      "     ---------                                3.5/15.3 MB 2.3 MB/s eta 0:00:06\n",
      "     ---------                                3.6/15.3 MB 2.3 MB/s eta 0:00:06\n",
      "     ---------                                3.7/15.3 MB 2.3 MB/s eta 0:00:05\n",
      "     ---------                                3.8/15.3 MB 2.3 MB/s eta 0:00:05\n",
      "     ----------                               3.9/15.3 MB 2.3 MB/s eta 0:00:05\n",
      "     ----------                               4.0/15.3 MB 2.3 MB/s eta 0:00:05\n",
      "     ----------                               4.1/15.3 MB 2.3 MB/s eta 0:00:05\n",
      "     ----------                               4.1/15.3 MB 2.3 MB/s eta 0:00:05\n",
      "     -----------                              4.2/15.3 MB 2.3 MB/s eta 0:00:05\n",
      "     -----------                              4.3/15.3 MB 2.3 MB/s eta 0:00:05\n",
      "     -----------                              4.4/15.3 MB 2.3 MB/s eta 0:00:05\n",
      "     -----------                              4.5/15.3 MB 2.3 MB/s eta 0:00:05\n",
      "     ------------                             4.6/15.3 MB 2.3 MB/s eta 0:00:05\n",
      "     ------------                             4.7/15.3 MB 2.3 MB/s eta 0:00:05\n",
      "     ------------                             4.8/15.3 MB 2.3 MB/s eta 0:00:05\n",
      "     ------------                             4.9/15.3 MB 2.3 MB/s eta 0:00:05\n",
      "     ------------                             4.9/15.3 MB 2.3 MB/s eta 0:00:05\n",
      "     -------------                            5.0/15.3 MB 2.3 MB/s eta 0:00:05\n",
      "     -------------                            5.1/15.3 MB 2.3 MB/s eta 0:00:05\n",
      "     -------------                            5.2/15.3 MB 2.3 MB/s eta 0:00:05\n",
      "     -------------                            5.3/15.3 MB 2.3 MB/s eta 0:00:05\n",
      "     --------------                           5.4/15.3 MB 2.3 MB/s eta 0:00:05\n",
      "     --------------                           5.4/15.3 MB 2.3 MB/s eta 0:00:05\n",
      "     --------------                           5.5/15.3 MB 2.3 MB/s eta 0:00:05\n",
      "     --------------                           5.6/15.3 MB 2.3 MB/s eta 0:00:05\n",
      "     --------------                           5.7/15.3 MB 2.3 MB/s eta 0:00:05\n",
      "     ---------------                          5.8/15.3 MB 2.3 MB/s eta 0:00:05\n",
      "     ---------------                          5.9/15.3 MB 2.3 MB/s eta 0:00:05\n",
      "     ---------------                          6.0/15.3 MB 2.3 MB/s eta 0:00:05\n",
      "     ---------------                          6.1/15.3 MB 2.3 MB/s eta 0:00:04\n",
      "     ----------------                         6.2/15.3 MB 2.3 MB/s eta 0:00:04\n",
      "     ----------------                         6.3/15.3 MB 2.3 MB/s eta 0:00:04\n",
      "     ----------------                         6.4/15.3 MB 2.3 MB/s eta 0:00:04\n",
      "     ----------------                         6.4/15.3 MB 2.3 MB/s eta 0:00:04\n",
      "     ----------------                         6.4/15.3 MB 2.3 MB/s eta 0:00:04\n",
      "     ----------------                         6.4/15.3 MB 2.3 MB/s eta 0:00:04\n",
      "     ----------------                         6.4/15.3 MB 2.3 MB/s eta 0:00:04\n",
      "     ----------------                         6.4/15.3 MB 2.3 MB/s eta 0:00:04\n",
      "     ----------------                         6.4/15.3 MB 2.3 MB/s eta 0:00:04\n",
      "     ----------------                         6.4/15.3 MB 2.3 MB/s eta 0:00:04\n",
      "     ----------------                         6.4/15.3 MB 2.3 MB/s eta 0:00:04\n",
      "     ----------------                         6.4/15.3 MB 2.3 MB/s eta 0:00:04\n",
      "     ----------------                         6.4/15.3 MB 2.3 MB/s eta 0:00:04\n",
      "     ----------------                         6.4/15.3 MB 2.3 MB/s eta 0:00:04\n",
      "     ----------------                         6.4/15.3 MB 2.3 MB/s eta 0:00:04\n",
      "     ----------------                         6.4/15.3 MB 2.3 MB/s eta 0:00:04\n",
      "     ----------------                         6.4/15.3 MB 2.3 MB/s eta 0:00:04\n",
      "     ----------------                         6.4/15.3 MB 2.3 MB/s eta 0:00:04\n",
      "     ----------------                         6.4/15.3 MB 2.3 MB/s eta 0:00:04\n",
      "     ----------------                         6.4/15.3 MB 2.3 MB/s eta 0:00:04\n",
      "     ----------------                         6.4/15.3 MB 2.3 MB/s eta 0:00:04\n",
      "     ----------------                         6.4/15.3 MB 2.3 MB/s eta 0:00:04\n",
      "     ----------------                         6.4/15.3 MB 2.3 MB/s eta 0:00:04\n",
      "     ----------------                         6.4/15.3 MB 2.3 MB/s eta 0:00:04\n",
      "     ----------------                         6.4/15.3 MB 2.3 MB/s eta 0:00:04\n",
      "     ----------------                         6.4/15.3 MB 2.3 MB/s eta 0:00:04\n",
      "     ----------------                         6.4/15.3 MB 2.3 MB/s eta 0:00:04\n",
      "     ----------------                         6.4/15.3 MB 2.3 MB/s eta 0:00:04\n",
      "     ----------------                         6.4/15.3 MB 2.3 MB/s eta 0:00:04\n",
      "     ----------------                         6.4/15.3 MB 2.3 MB/s eta 0:00:04\n",
      "     ----------------                         6.4/15.3 MB 2.3 MB/s eta 0:00:04\n",
      "     ----------------                         6.4/15.3 MB 2.3 MB/s eta 0:00:04\n",
      "     ----------------                         6.4/15.3 MB 2.3 MB/s eta 0:00:04\n",
      "     ----------------                         6.4/15.3 MB 2.3 MB/s eta 0:00:04\n",
      "     ----------------                         6.5/15.3 MB 1.6 MB/s eta 0:00:06\n",
      "     -----------------                        6.5/15.3 MB 1.6 MB/s eta 0:00:06\n",
      "     -----------------                        6.6/15.3 MB 1.6 MB/s eta 0:00:06\n",
      "     -----------------                        6.6/15.3 MB 1.6 MB/s eta 0:00:06\n",
      "     -----------------                        6.7/15.3 MB 1.6 MB/s eta 0:00:06\n",
      "     ------------------                       7.0/15.3 MB 1.7 MB/s eta 0:00:05\n",
      "     ------------------                       7.0/15.3 MB 1.7 MB/s eta 0:00:05\n",
      "     ------------------                       7.0/15.3 MB 1.7 MB/s eta 0:00:05\n",
      "     ------------------                       7.0/15.3 MB 1.7 MB/s eta 0:00:05\n",
      "     ------------------                       7.0/15.3 MB 1.6 MB/s eta 0:00:06\n",
      "     ------------------                       7.0/15.3 MB 1.6 MB/s eta 0:00:06\n",
      "     ------------------                       7.1/15.3 MB 1.6 MB/s eta 0:00:06\n",
      "     ------------------                       7.1/15.3 MB 1.6 MB/s eta 0:00:06\n",
      "     ------------------                       7.2/15.3 MB 1.6 MB/s eta 0:00:06\n",
      "     ------------------                       7.2/15.3 MB 1.6 MB/s eta 0:00:06\n",
      "     ------------------                       7.2/15.3 MB 1.6 MB/s eta 0:00:06\n",
      "     -------------------                      7.2/15.3 MB 1.6 MB/s eta 0:00:06\n",
      "     -------------------                      7.3/15.3 MB 1.6 MB/s eta 0:00:06\n",
      "     -------------------                      7.3/15.3 MB 1.6 MB/s eta 0:00:06\n",
      "     -------------------                      7.3/15.3 MB 1.6 MB/s eta 0:00:06\n",
      "     -------------------                      7.4/15.3 MB 1.5 MB/s eta 0:00:06\n",
      "     -------------------                      7.4/15.3 MB 1.5 MB/s eta 0:00:06\n",
      "     -------------------                      7.4/15.3 MB 1.5 MB/s eta 0:00:06\n",
      "     -------------------                      7.4/15.3 MB 1.5 MB/s eta 0:00:06\n",
      "     -------------------                      7.5/15.3 MB 1.5 MB/s eta 0:00:06\n",
      "     -------------------                      7.5/15.3 MB 1.5 MB/s eta 0:00:06\n",
      "     -------------------                      7.6/15.3 MB 1.5 MB/s eta 0:00:06\n",
      "     --------------------                     7.6/15.3 MB 1.5 MB/s eta 0:00:06\n",
      "     --------------------                     7.7/15.3 MB 1.5 MB/s eta 0:00:05\n",
      "     --------------------                     7.8/15.3 MB 1.5 MB/s eta 0:00:05\n",
      "     --------------------                     7.9/15.3 MB 1.5 MB/s eta 0:00:05\n",
      "     --------------------                     8.0/15.3 MB 1.5 MB/s eta 0:00:05\n",
      "     ---------------------                    8.1/15.3 MB 1.5 MB/s eta 0:00:05\n",
      "     ---------------------                    8.2/15.3 MB 1.5 MB/s eta 0:00:05\n",
      "     ---------------------                    8.2/15.3 MB 1.5 MB/s eta 0:00:05\n",
      "     ---------------------                    8.3/15.3 MB 1.5 MB/s eta 0:00:05\n",
      "     ---------------------                    8.4/15.3 MB 1.5 MB/s eta 0:00:05\n",
      "     ----------------------                   8.5/15.3 MB 1.6 MB/s eta 0:00:05\n",
      "     ----------------------                   8.6/15.3 MB 1.6 MB/s eta 0:00:05\n",
      "     ----------------------                   8.6/15.3 MB 1.6 MB/s eta 0:00:05\n",
      "     ----------------------                   8.7/15.3 MB 1.6 MB/s eta 0:00:05\n",
      "     -----------------------                  8.8/15.3 MB 1.6 MB/s eta 0:00:05\n",
      "     -----------------------                  8.9/15.3 MB 1.6 MB/s eta 0:00:05\n",
      "     -----------------------                  8.9/15.3 MB 1.6 MB/s eta 0:00:05\n",
      "     -----------------------                  9.0/15.3 MB 1.6 MB/s eta 0:00:04\n",
      "     -----------------------                  9.1/15.3 MB 1.6 MB/s eta 0:00:04\n",
      "     ------------------------                 9.2/15.3 MB 1.6 MB/s eta 0:00:04\n",
      "     ------------------------                 9.3/15.3 MB 1.6 MB/s eta 0:00:04\n",
      "     ------------------------                 9.3/15.3 MB 1.6 MB/s eta 0:00:04\n",
      "     ------------------------                 9.4/15.3 MB 1.6 MB/s eta 0:00:04\n",
      "     ------------------------                 9.5/15.3 MB 1.6 MB/s eta 0:00:04\n",
      "     -------------------------                9.6/15.3 MB 1.6 MB/s eta 0:00:04\n",
      "     -------------------------                9.7/15.3 MB 1.6 MB/s eta 0:00:04\n",
      "     -------------------------                9.8/15.3 MB 1.6 MB/s eta 0:00:04\n",
      "     -------------------------                9.8/15.3 MB 1.6 MB/s eta 0:00:04\n",
      "     -------------------------                9.9/15.3 MB 1.6 MB/s eta 0:00:04\n",
      "     --------------------------               10.0/15.3 MB 1.6 MB/s eta 0:00:04\n",
      "     --------------------------               10.1/15.3 MB 1.6 MB/s eta 0:00:04\n",
      "     --------------------------               10.1/15.3 MB 1.6 MB/s eta 0:00:04\n",
      "     --------------------------               10.2/15.3 MB 1.6 MB/s eta 0:00:04\n",
      "     --------------------------               10.3/15.3 MB 1.6 MB/s eta 0:00:04\n",
      "     ---------------------------              10.4/15.3 MB 1.6 MB/s eta 0:00:04\n",
      "     ---------------------------              10.4/15.3 MB 1.6 MB/s eta 0:00:03\n",
      "     ---------------------------              10.5/15.3 MB 1.6 MB/s eta 0:00:03\n",
      "     ---------------------------              10.6/15.3 MB 1.6 MB/s eta 0:00:03\n",
      "     ---------------------------              10.6/15.3 MB 1.6 MB/s eta 0:00:03\n",
      "     ----------------------------             10.7/15.3 MB 1.6 MB/s eta 0:00:03\n",
      "     ----------------------------             10.8/15.3 MB 1.6 MB/s eta 0:00:03\n",
      "     ----------------------------             10.9/15.3 MB 1.6 MB/s eta 0:00:03\n",
      "     ----------------------------             10.9/15.3 MB 1.6 MB/s eta 0:00:03\n",
      "     ----------------------------             11.0/15.3 MB 1.6 MB/s eta 0:00:03\n",
      "     -----------------------------            11.1/15.3 MB 1.6 MB/s eta 0:00:03\n",
      "     -----------------------------            11.2/15.3 MB 1.6 MB/s eta 0:00:03\n",
      "     -----------------------------            11.3/15.3 MB 1.6 MB/s eta 0:00:03\n",
      "     -----------------------------            11.3/15.3 MB 1.6 MB/s eta 0:00:03\n",
      "     -----------------------------            11.4/15.3 MB 1.6 MB/s eta 0:00:03\n",
      "     ------------------------------           11.5/15.3 MB 1.6 MB/s eta 0:00:03\n",
      "     ------------------------------           11.6/15.3 MB 1.6 MB/s eta 0:00:03\n",
      "     ------------------------------           11.6/15.3 MB 1.6 MB/s eta 0:00:03\n",
      "     ------------------------------           11.7/15.3 MB 1.6 MB/s eta 0:00:03\n",
      "     ------------------------------           11.8/15.3 MB 1.6 MB/s eta 0:00:03\n",
      "     -------------------------------          11.8/15.3 MB 1.6 MB/s eta 0:00:03\n",
      "     -------------------------------          11.9/15.3 MB 1.6 MB/s eta 0:00:03\n",
      "     -------------------------------          12.0/15.3 MB 1.6 MB/s eta 0:00:03\n",
      "     -------------------------------          12.1/15.3 MB 1.6 MB/s eta 0:00:03\n",
      "     -------------------------------          12.2/15.3 MB 1.6 MB/s eta 0:00:02\n",
      "     --------------------------------         12.2/15.3 MB 1.6 MB/s eta 0:00:02\n",
      "     --------------------------------         12.3/15.3 MB 1.6 MB/s eta 0:00:02\n",
      "     --------------------------------         12.4/15.3 MB 1.6 MB/s eta 0:00:02\n",
      "     --------------------------------         12.4/15.3 MB 1.6 MB/s eta 0:00:02\n",
      "     --------------------------------         12.5/15.3 MB 1.6 MB/s eta 0:00:02\n",
      "     ---------------------------------        12.6/15.3 MB 1.6 MB/s eta 0:00:02\n",
      "     ---------------------------------        12.7/15.3 MB 1.6 MB/s eta 0:00:02\n",
      "     ---------------------------------        12.8/15.3 MB 1.6 MB/s eta 0:00:02\n",
      "     ---------------------------------        12.9/15.3 MB 1.6 MB/s eta 0:00:02\n",
      "     ---------------------------------        12.9/15.3 MB 1.6 MB/s eta 0:00:02\n",
      "     ----------------------------------       13.0/15.3 MB 1.5 MB/s eta 0:00:02\n",
      "     ----------------------------------       13.1/15.3 MB 1.6 MB/s eta 0:00:02\n",
      "     ----------------------------------       13.2/15.3 MB 1.6 MB/s eta 0:00:02\n",
      "     ----------------------------------       13.3/15.3 MB 1.6 MB/s eta 0:00:02\n",
      "     -----------------------------------      13.4/15.3 MB 1.6 MB/s eta 0:00:02\n",
      "     -----------------------------------      13.4/15.3 MB 1.6 MB/s eta 0:00:02\n",
      "     -----------------------------------      13.4/15.3 MB 1.6 MB/s eta 0:00:02\n",
      "     -----------------------------------      13.4/15.3 MB 1.6 MB/s eta 0:00:02\n",
      "     -----------------------------------      13.7/15.3 MB 1.6 MB/s eta 0:00:01\n",
      "     ------------------------------------     13.8/15.3 MB 1.5 MB/s eta 0:00:01\n",
      "     ------------------------------------     13.9/15.3 MB 1.5 MB/s eta 0:00:01\n",
      "     ------------------------------------     14.0/15.3 MB 1.5 MB/s eta 0:00:01\n",
      "     ------------------------------------     14.1/15.3 MB 1.5 MB/s eta 0:00:01\n",
      "     -------------------------------------    14.2/15.3 MB 1.5 MB/s eta 0:00:01\n",
      "     -------------------------------------    14.2/15.3 MB 1.5 MB/s eta 0:00:01\n",
      "     -------------------------------------    14.3/15.3 MB 1.5 MB/s eta 0:00:01\n",
      "     -------------------------------------    14.4/15.3 MB 1.5 MB/s eta 0:00:01\n",
      "     -------------------------------------    14.5/15.3 MB 1.5 MB/s eta 0:00:01\n",
      "     --------------------------------------   14.6/15.3 MB 1.5 MB/s eta 0:00:01\n",
      "     --------------------------------------   14.7/15.3 MB 1.5 MB/s eta 0:00:01\n",
      "     --------------------------------------   14.8/15.3 MB 1.5 MB/s eta 0:00:01\n",
      "     --------------------------------------   14.9/15.3 MB 1.5 MB/s eta 0:00:01\n",
      "     ---------------------------------------  15.0/15.3 MB 1.5 MB/s eta 0:00:01\n",
      "     ---------------------------------------  15.0/15.3 MB 1.5 MB/s eta 0:00:01\n",
      "     ---------------------------------------  15.1/15.3 MB 1.5 MB/s eta 0:00:01\n",
      "     ---------------------------------------  15.2/15.3 MB 1.5 MB/s eta 0:00:01\n",
      "     ---------------------------------------  15.2/15.3 MB 1.5 MB/s eta 0:00:01\n",
      "     ---------------------------------------  15.2/15.3 MB 1.5 MB/s eta 0:00:01\n",
      "     ---------------------------------------  15.2/15.3 MB 1.5 MB/s eta 0:00:01\n",
      "     ---------------------------------------  15.2/15.3 MB 1.5 MB/s eta 0:00:01\n",
      "     ---------------------------------------  15.2/15.3 MB 1.5 MB/s eta 0:00:01\n",
      "     ---------------------------------------  15.2/15.3 MB 1.5 MB/s eta 0:00:01\n",
      "     ---------------------------------------- 15.3/15.3 MB 1.5 MB/s eta 0:00:00\n",
      "Requirement already satisfied: spacy<3.6.0,>=3.5.0 in c:\\users\\андрей\\desktop\\github\\recruiters\\venv\\lib\\site-packages (from ru-core-news-sm==3.5.0) (3.5.4)\n",
      "Requirement already satisfied: pymorphy3>=1.0.0 in c:\\users\\андрей\\desktop\\github\\recruiters\\venv\\lib\\site-packages (from ru-core-news-sm==3.5.0) (1.2.0)\n",
      "Requirement already satisfied: dawg-python>=0.7.1 in c:\\users\\андрей\\desktop\\github\\recruiters\\venv\\lib\\site-packages (from pymorphy3>=1.0.0->ru-core-news-sm==3.5.0) (0.7.2)\n",
      "Requirement already satisfied: docopt>=0.6 in c:\\users\\андрей\\desktop\\github\\recruiters\\venv\\lib\\site-packages (from pymorphy3>=1.0.0->ru-core-news-sm==3.5.0) (0.6.2)\n",
      "Requirement already satisfied: pymorphy3-dicts-ru in c:\\users\\андрей\\desktop\\github\\recruiters\\venv\\lib\\site-packages (from pymorphy3>=1.0.0->ru-core-news-sm==3.5.0) (2.4.417150.4580142)\n",
      "Requirement already satisfied: spacy-legacy<3.1.0,>=3.0.11 in c:\\users\\андрей\\desktop\\github\\recruiters\\venv\\lib\\site-packages (from spacy<3.6.0,>=3.5.0->ru-core-news-sm==3.5.0) (3.0.12)\n",
      "Requirement already satisfied: spacy-loggers<2.0.0,>=1.0.0 in c:\\users\\андрей\\desktop\\github\\recruiters\\venv\\lib\\site-packages (from spacy<3.6.0,>=3.5.0->ru-core-news-sm==3.5.0) (1.0.4)\n",
      "Requirement already satisfied: murmurhash<1.1.0,>=0.28.0 in c:\\users\\андрей\\desktop\\github\\recruiters\\venv\\lib\\site-packages (from spacy<3.6.0,>=3.5.0->ru-core-news-sm==3.5.0) (1.0.9)\n",
      "Requirement already satisfied: cymem<2.1.0,>=2.0.2 in c:\\users\\андрей\\desktop\\github\\recruiters\\venv\\lib\\site-packages (from spacy<3.6.0,>=3.5.0->ru-core-news-sm==3.5.0) (2.0.7)\n",
      "Requirement already satisfied: preshed<3.1.0,>=3.0.2 in c:\\users\\андрей\\desktop\\github\\recruiters\\venv\\lib\\site-packages (from spacy<3.6.0,>=3.5.0->ru-core-news-sm==3.5.0) (3.0.8)\n",
      "Requirement already satisfied: thinc<8.2.0,>=8.1.8 in c:\\users\\андрей\\desktop\\github\\recruiters\\venv\\lib\\site-packages (from spacy<3.6.0,>=3.5.0->ru-core-news-sm==3.5.0) (8.1.10)\n",
      "Requirement already satisfied: wasabi<1.2.0,>=0.9.1 in c:\\users\\андрей\\desktop\\github\\recruiters\\venv\\lib\\site-packages (from spacy<3.6.0,>=3.5.0->ru-core-news-sm==3.5.0) (1.1.2)\n",
      "Requirement already satisfied: srsly<3.0.0,>=2.4.3 in c:\\users\\андрей\\desktop\\github\\recruiters\\venv\\lib\\site-packages (from spacy<3.6.0,>=3.5.0->ru-core-news-sm==3.5.0) (2.4.6)\n",
      "Requirement already satisfied: catalogue<2.1.0,>=2.0.6 in c:\\users\\андрей\\desktop\\github\\recruiters\\venv\\lib\\site-packages (from spacy<3.6.0,>=3.5.0->ru-core-news-sm==3.5.0) (2.0.8)\n",
      "Requirement already satisfied: typer<0.10.0,>=0.3.0 in c:\\users\\андрей\\desktop\\github\\recruiters\\venv\\lib\\site-packages (from spacy<3.6.0,>=3.5.0->ru-core-news-sm==3.5.0) (0.9.0)\n",
      "Requirement already satisfied: pathy>=0.10.0 in c:\\users\\андрей\\desktop\\github\\recruiters\\venv\\lib\\site-packages (from spacy<3.6.0,>=3.5.0->ru-core-news-sm==3.5.0) (0.10.2)\n",
      "Requirement already satisfied: smart-open<7.0.0,>=5.2.1 in c:\\users\\андрей\\desktop\\github\\recruiters\\venv\\lib\\site-packages (from spacy<3.6.0,>=3.5.0->ru-core-news-sm==3.5.0) (6.3.0)\n",
      "Requirement already satisfied: tqdm<5.0.0,>=4.38.0 in c:\\users\\андрей\\desktop\\github\\recruiters\\venv\\lib\\site-packages (from spacy<3.6.0,>=3.5.0->ru-core-news-sm==3.5.0) (4.65.0)\n",
      "Requirement already satisfied: numpy>=1.15.0 in c:\\users\\андрей\\desktop\\github\\recruiters\\venv\\lib\\site-packages (from spacy<3.6.0,>=3.5.0->ru-core-news-sm==3.5.0) (1.25.0)\n",
      "Requirement already satisfied: requests<3.0.0,>=2.13.0 in c:\\users\\андрей\\desktop\\github\\recruiters\\venv\\lib\\site-packages (from spacy<3.6.0,>=3.5.0->ru-core-news-sm==3.5.0) (2.31.0)\n",
      "Requirement already satisfied: pydantic!=1.8,!=1.8.1,<1.11.0,>=1.7.4 in c:\\users\\андрей\\desktop\\github\\recruiters\\venv\\lib\\site-packages (from spacy<3.6.0,>=3.5.0->ru-core-news-sm==3.5.0) (1.10.10)\n",
      "Requirement already satisfied: jinja2 in c:\\users\\андрей\\desktop\\github\\recruiters\\venv\\lib\\site-packages (from spacy<3.6.0,>=3.5.0->ru-core-news-sm==3.5.0) (3.1.2)\n",
      "Requirement already satisfied: setuptools in c:\\users\\андрей\\desktop\\github\\recruiters\\venv\\lib\\site-packages (from spacy<3.6.0,>=3.5.0->ru-core-news-sm==3.5.0) (63.2.0)\n",
      "Requirement already satisfied: packaging>=20.0 in c:\\users\\андрей\\desktop\\github\\recruiters\\venv\\lib\\site-packages (from spacy<3.6.0,>=3.5.0->ru-core-news-sm==3.5.0) (23.1)\n",
      "Requirement already satisfied: langcodes<4.0.0,>=3.2.0 in c:\\users\\андрей\\desktop\\github\\recruiters\\venv\\lib\\site-packages (from spacy<3.6.0,>=3.5.0->ru-core-news-sm==3.5.0) (3.3.0)\n",
      "Requirement already satisfied: typing-extensions>=4.2.0 in c:\\users\\андрей\\desktop\\github\\recruiters\\venv\\lib\\site-packages (from pydantic!=1.8,!=1.8.1,<1.11.0,>=1.7.4->spacy<3.6.0,>=3.5.0->ru-core-news-sm==3.5.0) (4.7.1)\n",
      "Requirement already satisfied: charset-normalizer<4,>=2 in c:\\users\\андрей\\desktop\\github\\recruiters\\venv\\lib\\site-packages (from requests<3.0.0,>=2.13.0->spacy<3.6.0,>=3.5.0->ru-core-news-sm==3.5.0) (3.1.0)\n",
      "Requirement already satisfied: idna<4,>=2.5 in c:\\users\\андрей\\desktop\\github\\recruiters\\venv\\lib\\site-packages (from requests<3.0.0,>=2.13.0->spacy<3.6.0,>=3.5.0->ru-core-news-sm==3.5.0) (3.4)\n",
      "Requirement already satisfied: urllib3<3,>=1.21.1 in c:\\users\\андрей\\desktop\\github\\recruiters\\venv\\lib\\site-packages (from requests<3.0.0,>=2.13.0->spacy<3.6.0,>=3.5.0->ru-core-news-sm==3.5.0) (2.0.3)\n",
      "Requirement already satisfied: certifi>=2017.4.17 in c:\\users\\андрей\\desktop\\github\\recruiters\\venv\\lib\\site-packages (from requests<3.0.0,>=2.13.0->spacy<3.6.0,>=3.5.0->ru-core-news-sm==3.5.0) (2023.5.7)\n",
      "Requirement already satisfied: blis<0.8.0,>=0.7.8 in c:\\users\\андрей\\desktop\\github\\recruiters\\venv\\lib\\site-packages (from thinc<8.2.0,>=8.1.8->spacy<3.6.0,>=3.5.0->ru-core-news-sm==3.5.0) (0.7.9)\n",
      "Requirement already satisfied: confection<1.0.0,>=0.0.1 in c:\\users\\андрей\\desktop\\github\\recruiters\\venv\\lib\\site-packages (from thinc<8.2.0,>=8.1.8->spacy<3.6.0,>=3.5.0->ru-core-news-sm==3.5.0) (0.1.0)\n",
      "Requirement already satisfied: colorama in c:\\users\\андрей\\desktop\\github\\recruiters\\venv\\lib\\site-packages (from tqdm<5.0.0,>=4.38.0->spacy<3.6.0,>=3.5.0->ru-core-news-sm==3.5.0) (0.4.6)\n",
      "Requirement already satisfied: click<9.0.0,>=7.1.1 in c:\\users\\андрей\\desktop\\github\\recruiters\\venv\\lib\\site-packages (from typer<0.10.0,>=0.3.0->spacy<3.6.0,>=3.5.0->ru-core-news-sm==3.5.0) (8.1.3)\n",
      "Requirement already satisfied: MarkupSafe>=2.0 in c:\\users\\андрей\\desktop\\github\\recruiters\\venv\\lib\\site-packages (from jinja2->spacy<3.6.0,>=3.5.0->ru-core-news-sm==3.5.0) (2.1.3)\n",
      "\u001b[38;5;2m✔ Download and installation successful\u001b[0m\n",
      "You can now load the package via spacy.load('ru_core_news_sm')\n"
     ]
    }
   ],
   "source": [
    "! pip install spacy\n",
    "! python -m spacy download ru_core_news_sm"
   ]
  },
  {
   "cell_type": "code",
   "execution_count": 2,
   "metadata": {},
   "outputs": [],
   "source": [
    "import pandas as pd\n",
    "import unicodedata\n",
    "import re\n",
    "import spacy\n",
    "import json\n",
    "import numpy as np\n",
    "from nltk.corpus import stopwords\n",
    "from sklearn.decomposition import LatentDirichletAllocation\n",
    "from sklearn.feature_extraction.text import TfidfVectorizer\n",
    "import os\n",
    "import json\n",
    "import pyLDAvis\n",
    "import pyLDAvis.gensim\n",
    "import matplotlib.pyplot as plt\n",
    "import gensim\n",
    "import gensim.corpora as corpora\n",
    "from gensim.models import CoherenceModel"
   ]
  },
  {
   "attachments": {},
   "cell_type": "markdown",
   "metadata": {},
   "source": [
    "# Предобработка данных"
   ]
  },
  {
   "attachments": {},
   "cell_type": "markdown",
   "metadata": {},
   "source": [
    "Загрузим данные"
   ]
  },
  {
   "cell_type": "code",
   "execution_count": 3,
   "metadata": {},
   "outputs": [
    {
     "data": {
      "text/html": [
       "<div>\n",
       "<style scoped>\n",
       "    .dataframe tbody tr th:only-of-type {\n",
       "        vertical-align: middle;\n",
       "    }\n",
       "\n",
       "    .dataframe tbody tr th {\n",
       "        vertical-align: top;\n",
       "    }\n",
       "\n",
       "    .dataframe thead th {\n",
       "        text-align: right;\n",
       "    }\n",
       "</style>\n",
       "<table border=\"1\" class=\"dataframe\">\n",
       "  <thead>\n",
       "    <tr style=\"text-align: right;\">\n",
       "      <th></th>\n",
       "      <th>Unnamed: 0</th>\n",
       "      <th>status</th>\n",
       "      <th>url</th>\n",
       "      <th>text</th>\n",
       "      <th>likes</th>\n",
       "      <th>reposts</th>\n",
       "      <th>comments</th>\n",
       "    </tr>\n",
       "  </thead>\n",
       "  <tbody>\n",
       "    <tr>\n",
       "      <th>0</th>\n",
       "      <td>0</td>\n",
       "      <td>Middle Software Engineer - Yandex</td>\n",
       "      <td>https://www.linkedin.com/in/michilegorov</td>\n",
       "      <td>Всем привет!Выпустил свою первую статью на хаб...</td>\n",
       "      <td>17.0</td>\n",
       "      <td>0.0</td>\n",
       "      <td>0.0</td>\n",
       "    </tr>\n",
       "    <tr>\n",
       "      <th>1</th>\n",
       "      <td>1</td>\n",
       "      <td>Middle Software Engineer - Yandex</td>\n",
       "      <td>https://www.linkedin.com/in/michilegorov</td>\n",
       "      <td>Если вам интересно позалипать в слова, я запус...</td>\n",
       "      <td>6.0</td>\n",
       "      <td>0.0</td>\n",
       "      <td>2.0</td>\n",
       "    </tr>\n",
       "    <tr>\n",
       "      <th>2</th>\n",
       "      <td>2</td>\n",
       "      <td>Middle Software Engineer - Yandex</td>\n",
       "      <td>https://www.linkedin.com/in/michilegorov</td>\n",
       "      <td>Если вам интересно позалипать в слова, я запус...</td>\n",
       "      <td>17.0</td>\n",
       "      <td>6.0</td>\n",
       "      <td>0.0</td>\n",
       "    </tr>\n",
       "  </tbody>\n",
       "</table>\n",
       "</div>"
      ],
      "text/plain": [
       "   Unnamed: 0                             status  \\\n",
       "0           0  Middle Software Engineer - Yandex   \n",
       "1           1  Middle Software Engineer - Yandex   \n",
       "2           2  Middle Software Engineer - Yandex   \n",
       "\n",
       "                                        url  \\\n",
       "0  https://www.linkedin.com/in/michilegorov   \n",
       "1  https://www.linkedin.com/in/michilegorov   \n",
       "2  https://www.linkedin.com/in/michilegorov   \n",
       "\n",
       "                                                text likes  reposts  comments  \n",
       "0  Всем привет!Выпустил свою первую статью на хаб...  17.0      0.0       0.0  \n",
       "1  Если вам интересно позалипать в слова, я запус...   6.0      0.0       2.0  \n",
       "2  Если вам интересно позалипать в слова, я запус...  17.0      6.0       0.0  "
      ]
     },
     "execution_count": 3,
     "metadata": {},
     "output_type": "execute_result"
    }
   ],
   "source": [
    "data = pd.read_csv('csv\\\\full_df.csv', sep=';')\n",
    "data.head(3)"
   ]
  },
  {
   "cell_type": "code",
   "execution_count": 4,
   "metadata": {},
   "outputs": [
    {
     "name": "stdout",
     "output_type": "stream",
     "text": [
      "<class 'pandas.core.frame.DataFrame'>\n",
      "RangeIndex: 11238 entries, 0 to 11237\n",
      "Data columns (total 7 columns):\n",
      " #   Column      Non-Null Count  Dtype  \n",
      "---  ------      --------------  -----  \n",
      " 0   Unnamed: 0  11238 non-null  int64  \n",
      " 1   status      11238 non-null  object \n",
      " 2   url         11238 non-null  object \n",
      " 3   text        11238 non-null  object \n",
      " 4   likes       11081 non-null  object \n",
      " 5   reposts     10908 non-null  float64\n",
      " 6   comments    10902 non-null  float64\n",
      "dtypes: float64(2), int64(1), object(4)\n",
      "memory usage: 614.7+ KB\n"
     ]
    }
   ],
   "source": [
    "data.info()"
   ]
  },
  {
   "cell_type": "code",
   "execution_count": 5,
   "metadata": {},
   "outputs": [],
   "source": [
    "data = data.drop(columns='Unnamed: 0', axis=1)"
   ]
  },
  {
   "attachments": {},
   "cell_type": "markdown",
   "metadata": {},
   "source": [
    "Отфильтруем данные по количеству символов в постах. Оставим посты только длиннее 100 символов."
   ]
  },
  {
   "cell_type": "code",
   "execution_count": 6,
   "metadata": {},
   "outputs": [
    {
     "name": "stdout",
     "output_type": "stream",
     "text": [
      "Количество постов с 100+ символами: 8556\n"
     ]
    },
    {
     "data": {
      "text/html": [
       "<div>\n",
       "<style scoped>\n",
       "    .dataframe tbody tr th:only-of-type {\n",
       "        vertical-align: middle;\n",
       "    }\n",
       "\n",
       "    .dataframe tbody tr th {\n",
       "        vertical-align: top;\n",
       "    }\n",
       "\n",
       "    .dataframe thead th {\n",
       "        text-align: right;\n",
       "    }\n",
       "</style>\n",
       "<table border=\"1\" class=\"dataframe\">\n",
       "  <thead>\n",
       "    <tr style=\"text-align: right;\">\n",
       "      <th></th>\n",
       "      <th>status</th>\n",
       "      <th>url</th>\n",
       "      <th>text</th>\n",
       "      <th>likes</th>\n",
       "      <th>reposts</th>\n",
       "      <th>comments</th>\n",
       "      <th>text_len</th>\n",
       "    </tr>\n",
       "  </thead>\n",
       "  <tbody>\n",
       "    <tr>\n",
       "      <th>0</th>\n",
       "      <td>Middle Software Engineer - Yandex</td>\n",
       "      <td>https://www.linkedin.com/in/michilegorov</td>\n",
       "      <td>Всем привет!Выпустил свою первую статью на хаб...</td>\n",
       "      <td>17.0</td>\n",
       "      <td>0.0</td>\n",
       "      <td>0.0</td>\n",
       "      <td>295</td>\n",
       "    </tr>\n",
       "    <tr>\n",
       "      <th>1</th>\n",
       "      <td>Middle Software Engineer - Yandex</td>\n",
       "      <td>https://www.linkedin.com/in/michilegorov</td>\n",
       "      <td>Если вам интересно позалипать в слова, я запус...</td>\n",
       "      <td>6.0</td>\n",
       "      <td>0.0</td>\n",
       "      <td>2.0</td>\n",
       "      <td>117</td>\n",
       "    </tr>\n",
       "    <tr>\n",
       "      <th>2</th>\n",
       "      <td>Middle Software Engineer - Yandex</td>\n",
       "      <td>https://www.linkedin.com/in/michilegorov</td>\n",
       "      <td>Если вам интересно позалипать в слова, я запус...</td>\n",
       "      <td>17.0</td>\n",
       "      <td>6.0</td>\n",
       "      <td>0.0</td>\n",
       "      <td>117</td>\n",
       "    </tr>\n",
       "  </tbody>\n",
       "</table>\n",
       "</div>"
      ],
      "text/plain": [
       "                              status  \\\n",
       "0  Middle Software Engineer - Yandex   \n",
       "1  Middle Software Engineer - Yandex   \n",
       "2  Middle Software Engineer - Yandex   \n",
       "\n",
       "                                        url  \\\n",
       "0  https://www.linkedin.com/in/michilegorov   \n",
       "1  https://www.linkedin.com/in/michilegorov   \n",
       "2  https://www.linkedin.com/in/michilegorov   \n",
       "\n",
       "                                                text likes  reposts  comments  \\\n",
       "0  Всем привет!Выпустил свою первую статью на хаб...  17.0      0.0       0.0   \n",
       "1  Если вам интересно позалипать в слова, я запус...   6.0      0.0       2.0   \n",
       "2  Если вам интересно позалипать в слова, я запус...  17.0      6.0       0.0   \n",
       "\n",
       "   text_len  \n",
       "0       295  \n",
       "1       117  \n",
       "2       117  "
      ]
     },
     "execution_count": 6,
     "metadata": {},
     "output_type": "execute_result"
    }
   ],
   "source": [
    "data['text_len'] = data.loc[:, 'text'].apply(lambda x: len(x))\n",
    "data_filtered_by_text_len = data.query('text_len > 100')\n",
    "print(f'Количество постов с 100+ символами: {data_filtered_by_text_len.shape[0]}')\n",
    "data_filtered_by_text_len.head(3)"
   ]
  },
  {
   "attachments": {},
   "cell_type": "markdown",
   "metadata": {},
   "source": [
    "Для обработки нам нужны только посты на кириллице. Отфильтруем посты содержащие кириллицу."
   ]
  },
  {
   "cell_type": "code",
   "execution_count": 7,
   "metadata": {},
   "outputs": [
    {
     "name": "stdout",
     "output_type": "stream",
     "text": [
      "Текстов на кириллице: 1960\n"
     ]
    },
    {
     "data": {
      "text/html": [
       "<div>\n",
       "<style scoped>\n",
       "    .dataframe tbody tr th:only-of-type {\n",
       "        vertical-align: middle;\n",
       "    }\n",
       "\n",
       "    .dataframe tbody tr th {\n",
       "        vertical-align: top;\n",
       "    }\n",
       "\n",
       "    .dataframe thead th {\n",
       "        text-align: right;\n",
       "    }\n",
       "</style>\n",
       "<table border=\"1\" class=\"dataframe\">\n",
       "  <thead>\n",
       "    <tr style=\"text-align: right;\">\n",
       "      <th></th>\n",
       "      <th>status</th>\n",
       "      <th>url</th>\n",
       "      <th>text</th>\n",
       "      <th>likes</th>\n",
       "      <th>reposts</th>\n",
       "      <th>comments</th>\n",
       "      <th>text_len</th>\n",
       "    </tr>\n",
       "  </thead>\n",
       "  <tbody>\n",
       "    <tr>\n",
       "      <th>0</th>\n",
       "      <td>Middle Software Engineer - Yandex</td>\n",
       "      <td>https://www.linkedin.com/in/michilegorov</td>\n",
       "      <td>Всем привет!Выпустил свою первую статью на хаб...</td>\n",
       "      <td>17.0</td>\n",
       "      <td>0.0</td>\n",
       "      <td>0.0</td>\n",
       "      <td>295</td>\n",
       "    </tr>\n",
       "    <tr>\n",
       "      <th>1</th>\n",
       "      <td>Middle Software Engineer - Yandex</td>\n",
       "      <td>https://www.linkedin.com/in/michilegorov</td>\n",
       "      <td>Если вам интересно позалипать в слова, я запус...</td>\n",
       "      <td>6.0</td>\n",
       "      <td>0.0</td>\n",
       "      <td>2.0</td>\n",
       "      <td>117</td>\n",
       "    </tr>\n",
       "    <tr>\n",
       "      <th>2</th>\n",
       "      <td>Middle Software Engineer - Yandex</td>\n",
       "      <td>https://www.linkedin.com/in/michilegorov</td>\n",
       "      <td>Если вам интересно позалипать в слова, я запус...</td>\n",
       "      <td>17.0</td>\n",
       "      <td>6.0</td>\n",
       "      <td>0.0</td>\n",
       "      <td>117</td>\n",
       "    </tr>\n",
       "  </tbody>\n",
       "</table>\n",
       "</div>"
      ],
      "text/plain": [
       "                              status  \\\n",
       "0  Middle Software Engineer - Yandex   \n",
       "1  Middle Software Engineer - Yandex   \n",
       "2  Middle Software Engineer - Yandex   \n",
       "\n",
       "                                        url  \\\n",
       "0  https://www.linkedin.com/in/michilegorov   \n",
       "1  https://www.linkedin.com/in/michilegorov   \n",
       "2  https://www.linkedin.com/in/michilegorov   \n",
       "\n",
       "                                                text likes  reposts  comments  \\\n",
       "0  Всем привет!Выпустил свою первую статью на хаб...  17.0      0.0       0.0   \n",
       "1  Если вам интересно позалипать в слова, я запус...   6.0      0.0       2.0   \n",
       "2  Если вам интересно позалипать в слова, я запус...  17.0      6.0       0.0   \n",
       "\n",
       "   text_len  \n",
       "0       295  \n",
       "1       117  \n",
       "2       117  "
      ]
     },
     "execution_count": 7,
     "metadata": {},
     "output_type": "execute_result"
    }
   ],
   "source": [
    "data_cyrillic = data_filtered_by_text_len[data_filtered_by_text_len['text'].apply(lambda x: re.match(r'[А-Яа-я]+', x) is not None)]\n",
    "\n",
    "print(f'Текстов на кириллице: {data_cyrillic.shape[0]}')\n",
    "data_cyrillic.head(3)"
   ]
  },
  {
   "attachments": {},
   "cell_type": "markdown",
   "metadata": {},
   "source": [
    "Удалим дубликаты в столбце с текстами"
   ]
  },
  {
   "cell_type": "code",
   "execution_count": 8,
   "metadata": {},
   "outputs": [
    {
     "name": "stdout",
     "output_type": "stream",
     "text": [
      "Осталось 1862 строк\n"
     ]
    },
    {
     "data": {
      "text/html": [
       "<div>\n",
       "<style scoped>\n",
       "    .dataframe tbody tr th:only-of-type {\n",
       "        vertical-align: middle;\n",
       "    }\n",
       "\n",
       "    .dataframe tbody tr th {\n",
       "        vertical-align: top;\n",
       "    }\n",
       "\n",
       "    .dataframe thead th {\n",
       "        text-align: right;\n",
       "    }\n",
       "</style>\n",
       "<table border=\"1\" class=\"dataframe\">\n",
       "  <thead>\n",
       "    <tr style=\"text-align: right;\">\n",
       "      <th></th>\n",
       "      <th>status</th>\n",
       "      <th>url</th>\n",
       "      <th>text</th>\n",
       "      <th>likes</th>\n",
       "      <th>reposts</th>\n",
       "      <th>comments</th>\n",
       "      <th>text_len</th>\n",
       "    </tr>\n",
       "  </thead>\n",
       "  <tbody>\n",
       "    <tr>\n",
       "      <th>0</th>\n",
       "      <td>Middle Software Engineer - Yandex</td>\n",
       "      <td>https://www.linkedin.com/in/michilegorov</td>\n",
       "      <td>Всем привет!Выпустил свою первую статью на хаб...</td>\n",
       "      <td>17.0</td>\n",
       "      <td>0.0</td>\n",
       "      <td>0.0</td>\n",
       "      <td>295</td>\n",
       "    </tr>\n",
       "    <tr>\n",
       "      <th>1</th>\n",
       "      <td>Middle Software Engineer - Yandex</td>\n",
       "      <td>https://www.linkedin.com/in/michilegorov</td>\n",
       "      <td>Если вам интересно позалипать в слова, я запус...</td>\n",
       "      <td>6.0</td>\n",
       "      <td>0.0</td>\n",
       "      <td>2.0</td>\n",
       "      <td>117</td>\n",
       "    </tr>\n",
       "    <tr>\n",
       "      <th>6</th>\n",
       "      <td>Talent Acquisition Manager | Recruitment Lead ...</td>\n",
       "      <td>https://www.linkedin.com/in/dariaivanova</td>\n",
       "      <td>С трепетом готов представить свой продукт. Реф...</td>\n",
       "      <td>8.0</td>\n",
       "      <td>0.0</td>\n",
       "      <td>0.0</td>\n",
       "      <td>841</td>\n",
       "    </tr>\n",
       "  </tbody>\n",
       "</table>\n",
       "</div>"
      ],
      "text/plain": [
       "                                              status  \\\n",
       "0                  Middle Software Engineer - Yandex   \n",
       "1                  Middle Software Engineer - Yandex   \n",
       "6  Talent Acquisition Manager | Recruitment Lead ...   \n",
       "\n",
       "                                        url  \\\n",
       "0  https://www.linkedin.com/in/michilegorov   \n",
       "1  https://www.linkedin.com/in/michilegorov   \n",
       "6  https://www.linkedin.com/in/dariaivanova   \n",
       "\n",
       "                                                text likes  reposts  comments  \\\n",
       "0  Всем привет!Выпустил свою первую статью на хаб...  17.0      0.0       0.0   \n",
       "1  Если вам интересно позалипать в слова, я запус...   6.0      0.0       2.0   \n",
       "6  С трепетом готов представить свой продукт. Реф...   8.0      0.0       0.0   \n",
       "\n",
       "   text_len  \n",
       "0       295  \n",
       "1       117  \n",
       "6       841  "
      ]
     },
     "execution_count": 8,
     "metadata": {},
     "output_type": "execute_result"
    }
   ],
   "source": [
    "data_dd = data_cyrillic.drop_duplicates('text')\n",
    "print(f'Осталось {data_dd.shape[0]} строк')\n",
    "data_dd.head(3)"
   ]
  },
  {
   "attachments": {},
   "cell_type": "markdown",
   "metadata": {},
   "source": [
    "# Подготовка текстов"
   ]
  },
  {
   "cell_type": "code",
   "execution_count": 9,
   "metadata": {},
   "outputs": [],
   "source": [
    "model = spacy.load('ru_core_news_sm', disable=['ner', 'parser'])"
   ]
  },
  {
   "attachments": {},
   "cell_type": "markdown",
   "metadata": {},
   "source": [
    "Складываем все посты в один список"
   ]
  },
  {
   "cell_type": "code",
   "execution_count": 10,
   "metadata": {},
   "outputs": [],
   "source": [
    "texts = data_dd[\"text\"].tolist()"
   ]
  },
  {
   "attachments": {},
   "cell_type": "markdown",
   "metadata": {},
   "source": [
    "Выполняем лемматизацию текстов. Наберитесь терпения - это долгий процесс, который может занять около часа."
   ]
  },
  {
   "cell_type": "code",
   "execution_count": 11,
   "metadata": {},
   "outputs": [],
   "source": [
    "if os.path.exists('lemmas.json'):\n",
    "    with open(\"lemmas.json\") as f:\n",
    "        res = json.load(f)['lemmas']\n",
    "else:\n",
    "    res = []\n",
    "    for doc in model.pipe(texts, disable=[\"tagger\", \"parser\"]):\n",
    "        res.append([token.lemma_ for token in doc])\n",
    "\n",
    "    with open(\"lemmas.json\", \"w\") as fid:\n",
    "        json.dump({\"lemmas\": res}, fid)"
   ]
  },
  {
   "attachments": {},
   "cell_type": "markdown",
   "metadata": {},
   "source": [
    "Смотрим на результат - случайным образом сэмплируем несколько примеров"
   ]
  },
  {
   "cell_type": "code",
   "execution_count": 12,
   "metadata": {},
   "outputs": [
    {
     "data": {
      "text/plain": [
       "'зачем, же, мне, linkedin, ,, если, не, мочь, помочь, найти, классный, место, работа, для, свой, друг, ,, а, ещё, и, по, совместительство, крутой, специалист, 😉, за, последний, год, тамир, набраться, коммерческий, опыт, ,, пройти, или, проходить, необходимый, ему, курс, ,, и, готовый, приступать, к, работа, в, ваш, компания, в, качество, product, manager, /, OwnerМного, хвалить, не, быть, ,, а, то, ещё, сглажуи, в, что, я, точно, уверенный, ,, что, равнодушный, он, никто, не, оставить, 👍, dm, tamir, sadvakassov, or, tg, @sadvakassov'"
      ]
     },
     "execution_count": 12,
     "metadata": {},
     "output_type": "execute_result"
    }
   ],
   "source": [
    "\", \".join(res[np.random.randint(len(res))])"
   ]
  },
  {
   "cell_type": "code",
   "execution_count": 13,
   "metadata": {},
   "outputs": [
    {
     "data": {
      "text/plain": [
       "'как, объяснить, ребёнок, ,, что, такой, kubernetes?как, объяснить, клиент, ,, что, такой, kubernetes, ?, \\xa0, Легко, –, дать, ему, в, рука, \", путеводитель, по, kubernetes, для, ребёнок, ., в, картинках», ., на, самом, дело, этот, книжка, не, только, для, ребёнок, ,, которые, интересоваться, технология, ., этот, книжка, для, вас, –, для, ит, -, руководитель, ., она, очень, просто, рассказывать, ,, что, такой, контейнер, ,, почему, приложение, в, них, хороший, и, почему, вам, хороший, ,, когда, приложение, в, контейнер, ., что, делать, kubernetes, и, как, именно, контейнер, управлять, ., читать, ,, смеемся, ,, выдыхать, ., обещать, ,, с, этот, книга, вы, провести, самые, полезный, 10, минута, за, этот, неделя, :), вот, ссылка, ,, чтобы, долго, не, искать, :, https://lnkd.in/des_vudu, #, kubernetes, #, cloud, #, детскиекнигипротехнологии, #, it, #, ITдлядетей, #, простоосложном, #, клиентам, #, путеводительпоkubernetes'"
      ]
     },
     "execution_count": 13,
     "metadata": {},
     "output_type": "execute_result"
    }
   ],
   "source": [
    "\", \".join(res[np.random.randint(len(res))])"
   ]
  },
  {
   "attachments": {},
   "cell_type": "markdown",
   "metadata": {},
   "source": [
    "Удалим знаки препинания, цифры и слова, содержащие цифры. Для это соберём регулярное выражение, которое подходит для любого слова, состоящего из букв кирилицы."
   ]
  },
  {
   "cell_type": "code",
   "execution_count": 14,
   "metadata": {},
   "outputs": [],
   "source": [
    "word_pattern = re.compile(\"^[а-я]*$\")\n",
    "\n",
    "def remove_symbols(doc):\n",
    "    return [token for token in doc if word_pattern.match(token)]\n",
    "\n",
    "corpus = list(map(remove_symbols, res))"
   ]
  },
  {
   "cell_type": "code",
   "execution_count": 15,
   "metadata": {},
   "outputs": [
    {
     "data": {
      "text/plain": [
       "'друг, директор, и, топ, менеджер, компания, мой, компания, предлагать, вам, услуга, по, создание, сайт, и, бренд, если, вам, интересный, вы, мочь, написать, мне, либо, оставить, репост, к, карма, разработка'"
      ]
     },
     "execution_count": 15,
     "metadata": {},
     "output_type": "execute_result"
    }
   ],
   "source": [
    "\", \".join(corpus[np.random.randint(len(corpus))])"
   ]
  },
  {
   "attachments": {},
   "cell_type": "markdown",
   "metadata": {},
   "source": [
    "# Векторизация текстов"
   ]
  },
  {
   "attachments": {},
   "cell_type": "markdown",
   "metadata": {},
   "source": [
    "Теперь необходимо перевести тексты новостей и слова, из которых они состоят, в числовое представление, т.е. провести векторизацию. Для этого можно использовать подход \"мешок слов\" (Bag of Words) или Tf-iDf. Второй вариант нравится мне больше."
   ]
  },
  {
   "attachments": {},
   "cell_type": "markdown",
   "metadata": {},
   "source": [
    "Чтобы уменьшить размерность получаемой матрицы, добавим исключение стоп-слов."
   ]
  },
  {
   "cell_type": "code",
   "execution_count": 16,
   "metadata": {},
   "outputs": [
    {
     "name": "stdout",
     "output_type": "stream",
     "text": [
      "['и', 'в', 'во', 'не', 'что', 'он', 'на', 'я', 'с', 'со', 'как', 'а', 'то', 'все', 'она', 'так', 'его', 'но', 'да', 'ты', 'к', 'у', 'же', 'вы', 'за', 'бы', 'по', 'только', 'ее', 'мне', 'было', 'вот', 'от', 'меня', 'еще', 'нет', 'о', 'из', 'ему', 'теперь', 'когда', 'даже', 'ну', 'вдруг', 'ли', 'если', 'уже', 'или', 'ни', 'быть', 'был', 'него', 'до', 'вас', 'нибудь', 'опять', 'уж', 'вам', 'ведь', 'там', 'потом', 'себя', 'ничего', 'ей', 'может', 'они', 'тут', 'где', 'есть', 'надо', 'ней', 'для', 'мы', 'тебя', 'их', 'чем', 'была', 'сам', 'чтоб', 'без', 'будто', 'чего', 'раз', 'тоже', 'себе', 'под', 'будет', 'ж', 'тогда', 'кто', 'этот', 'того', 'потому', 'этого', 'какой', 'совсем', 'ним', 'здесь', 'этом', 'один', 'почти', 'мой', 'тем', 'чтобы', 'нее', 'сейчас', 'были', 'куда', 'зачем', 'всех', 'никогда', 'можно', 'при', 'наконец', 'два', 'об', 'другой', 'хоть', 'после', 'над', 'больше', 'тот', 'через', 'эти', 'нас', 'про', 'всего', 'них', 'какая', 'много', 'разве', 'три', 'эту', 'моя', 'впрочем', 'хорошо', 'свою', 'этой', 'перед', 'иногда', 'лучше', 'чуть', 'том', 'нельзя', 'такой', 'им', 'более', 'всегда', 'конечно', 'всю', 'между']\n"
     ]
    }
   ],
   "source": [
    "stop_words = stopwords.words('russian')\n",
    "print(stop_words)"
   ]
  },
  {
   "cell_type": "code",
   "execution_count": 17,
   "metadata": {},
   "outputs": [],
   "source": [
    "tfidf = TfidfVectorizer(stop_words=stop_words, min_df=10, max_df=0.9)"
   ]
  },
  {
   "attachments": {},
   "cell_type": "markdown",
   "metadata": {},
   "source": [
    "Т.е. TfIdfVectorizer принимает на вход список предложений, поэтому необходимо объединить списки слов, составляющих корпус, в предложения."
   ]
  },
  {
   "cell_type": "code",
   "execution_count": 18,
   "metadata": {},
   "outputs": [
    {
     "data": {
      "text/plain": [
       "['всем свой первый статья на про история и технология разработка игра и как мы создать игра с элемент машинный обучение и выйти в ноль за месяцапри внимательный прочтение вы даже смочь запустить первый версия игра',\n",
       " 'если вам интересный позалипать в слово я запустить понравиться брат шникам',\n",
       " 'с трепет готовый представить свой продукт рефни первый сервис реферального рекрутинг в ит на нем каждый мочь посоветовать знакомого на открытый позиция в компания и получить за рекомендация денежный вознаграждение идея создание внешний реферального сервис зародиться у меня давно в период пандемия я посоветовать пара человек на хороший должность в разный компания их взять все счастливый тогда я и подумать пора создание команда подготовка тз изучение самых разный нюанс о которых я ранний не знать и самое волнительный поиск инвестор все получиться и весь это теперь позади а впереди только постоянный развитие продукт посмотреть что у нас выйти быть благодарный если вы поддержать меня и мой команда репостом а также подпишитесь на наш канал в телеграме']"
      ]
     },
     "execution_count": 18,
     "metadata": {},
     "output_type": "execute_result"
    }
   ],
   "source": [
    "docs = [\" \".join(tokens) for tokens in corpus]\n",
    "docs[:3]"
   ]
  },
  {
   "cell_type": "code",
   "execution_count": 19,
   "metadata": {},
   "outputs": [],
   "source": [
    "x = tfidf.fit_transform(docs)"
   ]
  },
  {
   "cell_type": "code",
   "execution_count": 20,
   "metadata": {},
   "outputs": [
    {
     "data": {
      "text/plain": [
       "(1862, 1635)"
      ]
     },
     "execution_count": 20,
     "metadata": {},
     "output_type": "execute_result"
    }
   ],
   "source": [
    "x.shape"
   ]
  },
  {
   "attachments": {},
   "cell_type": "markdown",
   "metadata": {},
   "source": [
    "Теперь составим словарь {id_токена: токен} - он пригодится нам позднее."
   ]
  },
  {
   "cell_type": "code",
   "execution_count": 21,
   "metadata": {},
   "outputs": [],
   "source": [
    "id2word = {i: token for i, token in enumerate(tfidf.get_feature_names_out())}"
   ]
  },
  {
   "attachments": {},
   "cell_type": "markdown",
   "metadata": {},
   "source": [
    "# LDA"
   ]
  },
  {
   "attachments": {},
   "cell_type": "markdown",
   "metadata": {},
   "source": [
    "Теперь можем запустить алгоритм LDA. Зададим количество тем равное 20."
   ]
  },
  {
   "cell_type": "code",
   "execution_count": 22,
   "metadata": {},
   "outputs": [],
   "source": [
    "N_TOPICS = 20"
   ]
  },
  {
   "cell_type": "code",
   "execution_count": 23,
   "metadata": {},
   "outputs": [],
   "source": [
    "lda = LatentDirichletAllocation(n_components=N_TOPICS, random_state=765)"
   ]
  },
  {
   "cell_type": "code",
   "execution_count": 24,
   "metadata": {},
   "outputs": [],
   "source": [
    "topics = lda.fit_transform(x)"
   ]
  },
  {
   "cell_type": "code",
   "execution_count": 25,
   "metadata": {},
   "outputs": [
    {
     "data": {
      "text/plain": [
       "(1862, 20)"
      ]
     },
     "execution_count": 25,
     "metadata": {},
     "output_type": "execute_result"
    }
   ],
   "source": [
    "topics.shape"
   ]
  },
  {
   "attachments": {},
   "cell_type": "markdown",
   "metadata": {},
   "source": [
    "Получили массив размера 1862x20. Строки здесь - отдельные тексты, а колонки - 20 выделенных тем. В каждой ячейке стоит вероятность того, что данный текст относится к данной теме. Это то самое распределение тем над документами."
   ]
  },
  {
   "attachments": {},
   "cell_type": "markdown",
   "metadata": {},
   "source": [
    "## Ключевые слова"
   ]
  },
  {
   "attachments": {},
   "cell_type": "markdown",
   "metadata": {},
   "source": [
    "Теперь извлечём ключевые слова для каждой из 20 тем. В свойсте components _ лежит матрица соответствия слов темам. Пройдёмся по каждой из 20 выделенных тем и для каждой возьмём ТОП-20 слов."
   ]
  },
  {
   "attachments": {},
   "cell_type": "markdown",
   "metadata": {},
   "source": [
    "По очереди пройдёмся по каждой теме (первое измерение массиа) и выберем ТОП-20 слов, наиболее характерных для этой темы. Потом по индексу слова обратимся к словарю и узнаем, что это за слово."
   ]
  },
  {
   "cell_type": "code",
   "execution_count": 26,
   "metadata": {},
   "outputs": [
    {
     "name": "stdout",
     "output_type": "stream",
     "text": [
      "Тема 1 :\n",
      "сторона, готовый, присылать, яка, место, знать, сюда, нагрузка, снижение, стоить, сегодня, спросить, дать, талант, помнить, кофе, недвижимость, картинка, результат, працювати\n",
      "\n",
      " \n",
      "Тема 2 :\n",
      "интересный, которые, разработка, нужный, первый, команда, работать, очень, проект, время, новый, компания, мочь, работа, наш, год, человек, весь, свой, это\n",
      "\n",
      " \n",
      "Тема 3 :\n",
      "ит, компания, пакет, внутренний, знание, ситуация, уровень, данные, который, заказчик, требование, база, управление, опыт, группа, анализ, рост, аналитик, работа, данных\n",
      "\n",
      " \n",
      "Тема 4 :\n",
      "информация, доступ, захотеться, коммерческий, представить, писать, некоторый, интеграция, библиотека, начать, тема, текстовый, здравствовать, модуль, формировать, маркетинг, изображение, поисковый, интересовать, отслеживать\n",
      "\n",
      " \n",
      "Тема 5 :\n",
      "проектный, разработка, нам, форум, приглашать, наш, студия, приглашение, конференция, игровой, коллектив, приводить, изображение, коммент, сегодня, нейросети, команда, добрый, машинноеобучение, компьютерноезрение\n",
      "\n",
      " \n",
      "Тема 6 :\n",
      "рад, одна, хороший, предыдущий, предприятие, сократить, результат, команда, увеличение, снизить, максимально, заходить, сохранить, расход, млн, студент, энергия, стажировка, применение, життя\n",
      "\n",
      " \n",
      "Тема 7 :\n",
      "музыка, вже, розвитку, подборка, сертификат, карточка, алексей, тебе, анализ, фильм, цього, менеджмент, почитать, обучение, тим, машинный, яндекс, подкаст, рок, ми\n",
      "\n",
      " \n",
      "Тема 8 :\n",
      "приехать, гайд, рекламный, распознавание, поделиться, год, эффект, здравствовать, сделать, получать, эмоциональный, влияние, обратный, инженер, данной, повысить, старый, потеря, качество, размер\n",
      "\n",
      " \n",
      "Тема 9 :\n",
      "щоб, персональный, отзыв, компетенция, развить, профессия, обучение, встречать, проектный, управление, спорт, нуль, математика, тебе, проектноеуправление, директ, системнаяаналитика, обучениеснуля, управлениепроектами, погнать\n",
      "\n",
      " \n",
      "Тема 10 :\n",
      "переехать, узнать, управление, айти, основать, повод, веб, консалтинг, оказываться, бизнес, украина, сообщать, посетить, оказывать, услуги, радость, просмотреть, разработка, услуга, страница\n",
      "\n",
      " \n",
      "Тема 11 :\n",
      "популярный, программный, полезный, выразить, инвестиция, банк, видео, отбор, форум, заметить, решение, внедрение, платформа, поучаствовать, вебинар, конференция, инфобез, кибербезопасность, обзор, иб\n",
      "\n",
      " \n",
      "Тема 12 :\n",
      "утро, документ, персонал, благодарность, добрый, хотеть, следующий, пройти, проверка, значок, сертификат, работа, тест, навык, новый, компания, начинать, должность, удовольствие, сообщать\n",
      "\n",
      " \n",
      "Тема 13 :\n",
      "команда, лайк, коллега, спасибо, английский, контакт, рад, возможность, рекомендация, карьерный, разработчик, ваш, опыт, всем, привет, резюме, искать, работа, вакансия, поиск\n",
      "\n",
      " \n",
      "Тема 14 :\n",
      "обратиться, внедрить, врач, принятие, входить, зал, восприятие, реальный, привычка, переход, коммуникация, интервью, меньше, защита, эксперт, информационный, безопасность, инфобез, кибербезопасность, иб\n",
      "\n",
      " \n",
      "Тема 15 :\n",
      "качественный, март, текст, мной, реклама, других, рф, июнь, настроение, взять, год, видеть, небольшой, часть, сайт, наблюдение, приветствоваться, метод, тренд, добро\n",
      "\n",
      " \n",
      "Тема 16 :\n",
      "приоритет, сотрудничество, относиться, выбирать, ведущий, счастливый, алматы, москва, представлять, плохой, вами, обязательный, состояние, чувство, психолог, обновить, функция, чат, лидер, бот\n",
      "\n",
      " \n",
      "Тема 17 :\n",
      "робот, конверсия, проект, якщо, ще, цей, допомогти, дуже, коли, може, або, чи, але, роботи, можна, це, буде, лендинг, як, що\n",
      "\n",
      " \n",
      "Тема 18 :\n",
      "искренне, аналитик, тг, сайт, поучаствовать, стартовать, движение, победа, прочитать, качественно, шанс, поискработы, нанимать, софт, телеграмма, оффер, собеседование, рекрутер, квалификация, указать\n",
      "\n",
      " \n",
      "Тема 19 :\n",
      "играть, психология, працювати, його, тому, якщо, вже, розвитку, яка, як, великий, це, який, бути, кожный, щоб, час, що, ви, також\n",
      "\n",
      " \n",
      "Тема 20 :\n",
      "файл, проводить, вариант, заказ, реальный, получаться, интерфейс, самое, тысяча, реклама, успех, большой, деньга, приложение, твой, дизайн, получиться, который, идти, ит\n",
      "\n",
      " \n"
     ]
    }
   ],
   "source": [
    "for i in range(N_TOPICS):\n",
    "    c = lda.components_[i, :]\n",
    "    topic_tokens = [id2word.get(token_id) for token_id in np.argsort(c)[-20:]]\n",
    "    print(\"Тема\",i+1, \":\")\n",
    "    print(\", \".join(topic_tokens))\n",
    "    print(\"\\n \")"
   ]
  },
  {
   "attachments": {},
   "cell_type": "markdown",
   "metadata": {},
   "source": [
    "По полученным ключевым словам можно составить представление о содержании той или иной темы. Хотя иногда сочетания слов довольно странные )"
   ]
  },
  {
   "attachments": {},
   "cell_type": "markdown",
   "metadata": {},
   "source": [
    "## Типичные статьи"
   ]
  },
  {
   "attachments": {},
   "cell_type": "markdown",
   "metadata": {},
   "source": [
    "Теперь для каждой темы возьмём по одному документу, который хорошо соответсвует этой теме. Для этого заглянем в массив topics."
   ]
  },
  {
   "cell_type": "code",
   "execution_count": 27,
   "metadata": {},
   "outputs": [
    {
     "name": "stdout",
     "output_type": "stream",
     "text": [
      "Тема  1\n",
      "Недвижимость в Европе?Уникальные готовые к заселению резиденции расположились в роскошном средиземноморском городке Portonovi в самом сердце Бока-Которского залива.🔹 Цены от €530.000 Присылайте заявку для связи с консультантом по недвижимости.\n",
      "\n",
      "\n",
      "Тема  2\n",
      "Всем привет 👋 Я уже больше двух лет увлекаюсь web-разработкой и столько же думаю о том, чтобы сделать её основной профессией. Ещё недавно я работал инженером-конструктором и разрабатывал подстанции. Эта работа мне нравилась и я хорошо себя на ней зарекомендовал. Несмотря на это я оказался в списке тех, кого нужно было уволить к новому году, сегодня это уже не удивляет 😅За последние годы я успел поработать на фрилансе как верстальщик и реализовать несколько личных pet-проектов в основном на VueJS и expressJS.Я понимаю, что мне многому нужно ещё научиться. Однако также понимаю, что огромный путь боли я прошел сам и знаю, что такое учиться программировать 😱 Сейчас очень хочу попасть в команду единомышленников, в которой я смогу реализовать свой потенциал. Прошу рассмотреть резюме с более подробной информацией или передать коллегам, которые могут быть в этом заинтересованы. Спасибо 🦾\n",
      "\n",
      "\n",
      "Тема  3\n",
      "Доброго времени суток! Ищу сотрудников в свою компанию на официальное трудоустройство, на должность Middle C# (Game dev). Если у вас есть опыт, знания английского языка (не ниже intermedia). Прошу написать в личные сообщения. Работа хорошо оплачивается. #Разработка_приложений #Разработка_игр #findapro #kyiv #kiev\n",
      "\n",
      "\n",
      "Тема  4\n",
      "Запретный плод сладок. Не удивлюсь, если у LinkedIn посещаемость выросла. Зато теперь соц.сеть ещё больше про IT. По крайней мере айтишники точно знают, как сюда попасть.\n",
      "\n",
      "\n",
      "Тема  5\n",
      "Если вы хотите попробовать крутую генерацию картинок по тексту, то сегодня midjourney раздает бесплатные приглашения к себе в бету!\n",
      "\n",
      "\n",
      "Тема  6\n",
      "Продолжаем набор Data Scientist'ов и инженеров компьютерного зрения в крутую команду Layer компании SberDevices.\n",
      "\n",
      "\n",
      "Тема  7\n",
      "Я буду выступать на мероприятии «Прикладное машинное обучение и анализ данных для малого и среднего бизнеса». Хотите принять участие?\n",
      "\n",
      "\n",
      "Тема  8\n",
      "С 11 по 13 августа в г.Калуга состоится IX Форум по цифровизации оборонно-промышленного комплекса России #ИТОПК2020.Программа мероприятия доступна на сайте: https://xn--h1aelen.xn--p1ai/На фото совместный стенд RASSE (I-Teco Group) и Security Code.#it #security\n",
      "\n",
      "\n",
      "Тема  9\n",
      "Ты чувствуешь, что IT - это твоя тема! Тебе интересно, ты увлечен и созрел развить свои компетенции? Погнали в IT в нами!Экспресс персональное обучение с наставником IT-профессии с нуля #клубнаставников #этопросто #погналивit #обучениеснуля #управлениепроектами #системнаяаналитика #devops #разработка\n",
      "\n",
      "\n",
      "Тема  10\n",
      "С радостью сообщаю, что я оказываю бизнес-услуги в LinkedIn (#OpenForBusiness). Просмотрите мою страницу услуг «Стратегическое планирование, Управление проектами, Бизнес-консалтинг» и «Инженерное проектирование».\n",
      "\n",
      "\n",
      "Тема  11\n",
      "Вебинар про #SentinelOne (одного из лидеров среди #NGAV, #EDR и #XDR-решений) от Тайгер Оптикс  2 декабря в 11:00 по МСК.Регистрация: https://lnkd.in/ekDuNugW#cybersecurity #ITsecurity #infosec #ИБ #Кибербезопасность #Инфобез\n",
      "\n",
      "\n",
      "Тема  12\n",
      "С удовольствием сообщаю, что я начинаю работу в новой должности – Главный инженер по разработке в компании SberDevices!\n",
      "\n",
      "\n",
      "Тема  13\n",
      "Здравствуйте, я PHP Developer, в поиске новой карьерной возможности и буду признателен за вашу поддержку. Так уж вышло что как и многие был вынужден уехать из страны, на данный момент я проживаю в Тбилиси. Готов ответить на вопросы и отправить резюме. Заранее благодарю за все рекомендации контактов, советы или возможности, которые вы можете предложить. #OpenToWork\n",
      "\n",
      "\n",
      "Тема  14\n",
      "Дал комментарии #ITWeek на тему перехода объектов #КИИ на российское ПО и оборудование.Читать: https://lnkd.in/eJjNYM5#АйТеко #iteco #it #РАССЭ #inosec #информационная_безопасность #иб #security #cybersecurity\n",
      "\n",
      "\n",
      "Тема  15\n",
      "Поздравляю всех с наступающим новым годом, добра, мира и успехов ! 🤩🤩🎉🎉Небольшая 3D для поднятия настроения :) #Новыйгод #newyear\n",
      "\n",
      "\n",
      "Тема  16\n",
      "Хэй честной народ! Ищу векторного иллюстратора на проект, с возможным длительным сотрудничеством по итогу. Можно удаленно. Уровень иллюстраций не хуже чем в примере https://lnkd.in/gkrvhxYРепост, пожалуйста)Если ты умеешь так рисовать, напиши мне в личку :-)Hey! I am looking for an Illustrator who can help us with a project! You need to have skills like in the example below or upper. Text me to discuss prices and due :-)#вакансия #vacancy #illustration #иллюстрация #project #проект\n",
      "\n",
      "\n",
      "Тема  17\n",
      "Чудові мої українці! Я отримую і бачу багато запитів про пошук роботи від тих, хто її втратив. Ось список сайтів, де можна знайти віддалену роботу: https://remotive.com/https://lnkd.in/eytBbd8yhttps://lnkd.in/eC2DsnHahttps://justremote.co/https://nodesk.co/https://pangian.com/https://remote.co/https://lnkd.in/e6XsXGrfhttps://remoteok.io/https://lnkd.in/ettJDaPshttps://lnkd.in/e28jTXZShttps://www.remotely.jobs/https://lnkd.in/ejQzeVRuhttps://en.jobgether.com/https://www.uatalents.com/https://lnkd.in/eh_5cbdphttps://lnkd.in/esk7eCxrhttps://lnkd.in/eDdgPvHKhttps://meetfrank.com/https://soshace.com/jobshttps://lnkd.in/e7r8FVDchttps://lnkd.in/e55PKNbEДуже важливо вподобати або поширити цей допис. Це може допомогти багатьом з пошуком роботи.Пишіть мені в приват, якщо є якісь запитання. Чим зможу - допоможу!#standwithukraine\n",
      "\n",
      "\n",
      "Тема  18\n",
      "Ознакомиться с сайтом likesuro.com. Просто наберите его название в поисковике и перейдите на страницу \"FOR CANDIDATES\" или \"КАНДИДАТАМ\", если вы на русскоязычной странице.#рекрутмент #поискработы #резюме #анкета #likesuro #CRM #рекрутер #вакансии #кандидаты #квалификация #шансы #карьера #работа #собеседование\n",
      "\n",
      "\n",
      "Тема  19\n",
      "Виведення компанії з кризи вимагає від керівництва багато рішучості та стратегічності. Особливо це стосується кризових ситуацій, які виникають під час війни та відсутності операційних средств. Однак, українські компанії мають досвід виходу з кризи, який може бути корисним для інших.Кейс №1: \"Київстар\"Під час російсько-української війни компанія \"Київстар\" втратила більше 50% клієнтів на окупованій території Донбасу та Криму. Однак, керівництво компанії прийняло ряд стратегічних рішень, які допомогли їм вийти з кризи. Компанія зосередилася на розвитку мобільного інтернету та використовувала інноваційні технології, що дозволило збільшити обсяги продажу. Вони також запустили рекламні кампанії та збільшили кількість пропозицій для клієнтів, що збільшило лояльність та залучення нових клієнтів.Кейс №2: \"Метінвест\"Під час війни на сході України, компанія \"Метінвест\" зазнала великих втрат через зниження попиту на їхню продукцію та ускладнення умов ведення бізнесу на цій території. Однак, компанія вирішила зосередитися на експорті своєї продукції та розширенні ринків збуту. Вони запустили нові проекти з розвитку експорту та залучення іноземних інвестицій. Також вони зосередилися на ефективному управлінні витратами та збільшенні ефективності виробництва. Ці кроки дозволили компанії покращити свої фінансові показники та вийти з кризи.Кейс №3: \"Фарлеп Інвест\"Компанія \"Фарлеп Інвест\" випускає продукцію для будівництва та була серйозно постраждала під час кризи. Однак, компанія вирішила зосередитися на розвитку нових продуктів та ефективному управлінні витратами. Вони запустили нову лінію продукції, яка дозволила їм збільшити свою частку на ринку та привернути нових клієнтів. Крім того, компанія зосередилася на оптимізації свого бізнес-процесу та зменшенні витрат на виробництво.Ключовими факторами успіху у цих кейсах були стратегічне планування, фокус на ефективному управлінні витратами, інновації та розвиток нових продуктів. Також важливою складовою успіху було залучення нових клієнтів та збільшення лояльності існуючих клієнтів. Крім того, кожна з цих компаній використовувала свій досвід та знання про свій ринок для того, щоб приймати правильні стратегічні рішення.\n",
      "\n",
      "\n",
      "Тема  20\n",
      "Курс FlutterFlow 3.0NO CODE ИНЖЕНЕР МОБИЛЬНЫХ ПРИЛОЖЕНИЙ С НУЛЯ ЗА 2 МЕСЯЦА.Научим создавать мобильные приложения без опыта в IT, на No-code FlutterFlow, с дальнейшим трудоустройством.Врывайся в мир no-code с FlutterFlow.https://lnkd.in/dgCP7tiF\n",
      "\n",
      "\n"
     ]
    }
   ],
   "source": [
    "for i in range(N_TOPICS):\n",
    "    doc_id = np.argmax(topics[:, i])\n",
    "    print(\"Тема \", i+1)\n",
    "    print(data_dd.iloc[doc_id][\"text\"])\n",
    "    print(\"\\n\")"
   ]
  }
 ],
 "metadata": {
  "kernelspec": {
   "display_name": "venv",
   "language": "python",
   "name": "python3"
  },
  "language_info": {
   "codemirror_mode": {
    "name": "ipython",
    "version": 3
   },
   "file_extension": ".py",
   "mimetype": "text/x-python",
   "name": "python",
   "nbconvert_exporter": "python",
   "pygments_lexer": "ipython3",
   "version": "3.10.7"
  },
  "orig_nbformat": 4
 },
 "nbformat": 4,
 "nbformat_minor": 2
}
