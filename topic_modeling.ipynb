{
 "cells": [
  {
   "attachments": {},
   "cell_type": "markdown",
   "metadata": {},
   "source": [
    "Импортируем нужные для работы библиотеки"
   ]
  },
  {
   "cell_type": "code",
   "execution_count": null,
   "metadata": {},
   "outputs": [],
   "source": [
    "! pip install spacy\n",
    "! python -m spacy download ru_core_news_sm"
   ]
  },
  {
   "cell_type": "code",
   "execution_count": 2,
   "metadata": {},
   "outputs": [],
   "source": [
    "import pandas as pd\n",
    "import unicodedata\n",
    "import re\n",
    "import spacy\n",
    "import json\n",
    "import numpy as np\n",
    "from nltk.corpus import stopwords\n",
    "from sklearn.decomposition import LatentDirichletAllocation\n",
    "from sklearn.feature_extraction.text import TfidfVectorizer"
   ]
  },
  {
   "attachments": {},
   "cell_type": "markdown",
   "metadata": {},
   "source": [
    "# Предобработка данных"
   ]
  },
  {
   "attachments": {},
   "cell_type": "markdown",
   "metadata": {},
   "source": [
    "Загрузим данные"
   ]
  },
  {
   "cell_type": "code",
   "execution_count": 3,
   "metadata": {},
   "outputs": [
    {
     "data": {
      "text/html": [
       "<div>\n",
       "<style scoped>\n",
       "    .dataframe tbody tr th:only-of-type {\n",
       "        vertical-align: middle;\n",
       "    }\n",
       "\n",
       "    .dataframe tbody tr th {\n",
       "        vertical-align: top;\n",
       "    }\n",
       "\n",
       "    .dataframe thead th {\n",
       "        text-align: right;\n",
       "    }\n",
       "</style>\n",
       "<table border=\"1\" class=\"dataframe\">\n",
       "  <thead>\n",
       "    <tr style=\"text-align: right;\">\n",
       "      <th></th>\n",
       "      <th>Unnamed: 0</th>\n",
       "      <th>status</th>\n",
       "      <th>url</th>\n",
       "      <th>text</th>\n",
       "      <th>likes</th>\n",
       "      <th>reposts</th>\n",
       "      <th>comments</th>\n",
       "    </tr>\n",
       "  </thead>\n",
       "  <tbody>\n",
       "    <tr>\n",
       "      <th>0</th>\n",
       "      <td>0</td>\n",
       "      <td>Middle Software Engineer - Yandex</td>\n",
       "      <td>https://www.linkedin.com/in/michilegorov</td>\n",
       "      <td>Всем привет!Выпустил свою первую статью на хаб...</td>\n",
       "      <td>17.0</td>\n",
       "      <td>0.0</td>\n",
       "      <td>0.0</td>\n",
       "    </tr>\n",
       "    <tr>\n",
       "      <th>1</th>\n",
       "      <td>1</td>\n",
       "      <td>Middle Software Engineer - Yandex</td>\n",
       "      <td>https://www.linkedin.com/in/michilegorov</td>\n",
       "      <td>Если вам интересно позалипать в слова, я запус...</td>\n",
       "      <td>6.0</td>\n",
       "      <td>0.0</td>\n",
       "      <td>2.0</td>\n",
       "    </tr>\n",
       "    <tr>\n",
       "      <th>2</th>\n",
       "      <td>2</td>\n",
       "      <td>Middle Software Engineer - Yandex</td>\n",
       "      <td>https://www.linkedin.com/in/michilegorov</td>\n",
       "      <td>Если вам интересно позалипать в слова, я запус...</td>\n",
       "      <td>17.0</td>\n",
       "      <td>6.0</td>\n",
       "      <td>0.0</td>\n",
       "    </tr>\n",
       "  </tbody>\n",
       "</table>\n",
       "</div>"
      ],
      "text/plain": [
       "   Unnamed: 0                             status  \\\n",
       "0           0  Middle Software Engineer - Yandex   \n",
       "1           1  Middle Software Engineer - Yandex   \n",
       "2           2  Middle Software Engineer - Yandex   \n",
       "\n",
       "                                        url  \\\n",
       "0  https://www.linkedin.com/in/michilegorov   \n",
       "1  https://www.linkedin.com/in/michilegorov   \n",
       "2  https://www.linkedin.com/in/michilegorov   \n",
       "\n",
       "                                                text likes  reposts  comments  \n",
       "0  Всем привет!Выпустил свою первую статью на хаб...  17.0      0.0       0.0  \n",
       "1  Если вам интересно позалипать в слова, я запус...   6.0      0.0       2.0  \n",
       "2  Если вам интересно позалипать в слова, я запус...  17.0      6.0       0.0  "
      ]
     },
     "execution_count": 3,
     "metadata": {},
     "output_type": "execute_result"
    }
   ],
   "source": [
    "data = pd.read_csv('csv\\\\full_df.csv', sep=';')\n",
    "data.head(3)"
   ]
  },
  {
   "cell_type": "code",
   "execution_count": 4,
   "metadata": {},
   "outputs": [
    {
     "name": "stdout",
     "output_type": "stream",
     "text": [
      "<class 'pandas.core.frame.DataFrame'>\n",
      "RangeIndex: 11238 entries, 0 to 11237\n",
      "Data columns (total 7 columns):\n",
      " #   Column      Non-Null Count  Dtype  \n",
      "---  ------      --------------  -----  \n",
      " 0   Unnamed: 0  11238 non-null  int64  \n",
      " 1   status      11238 non-null  object \n",
      " 2   url         11238 non-null  object \n",
      " 3   text        11238 non-null  object \n",
      " 4   likes       11081 non-null  object \n",
      " 5   reposts     10908 non-null  float64\n",
      " 6   comments    10902 non-null  float64\n",
      "dtypes: float64(2), int64(1), object(4)\n",
      "memory usage: 614.7+ KB\n"
     ]
    }
   ],
   "source": [
    "data.info()"
   ]
  },
  {
   "cell_type": "code",
   "execution_count": 5,
   "metadata": {},
   "outputs": [],
   "source": [
    "data = data.drop(columns='Unnamed: 0', axis=1)"
   ]
  },
  {
   "attachments": {},
   "cell_type": "markdown",
   "metadata": {},
   "source": [
    "Отфильтруем данные по количеству символов в постах. Оставим посты только длиннее 100 символов."
   ]
  },
  {
   "cell_type": "code",
   "execution_count": 6,
   "metadata": {},
   "outputs": [
    {
     "name": "stdout",
     "output_type": "stream",
     "text": [
      "Количество постов с 100+ символами: 8556\n"
     ]
    },
    {
     "data": {
      "text/html": [
       "<div>\n",
       "<style scoped>\n",
       "    .dataframe tbody tr th:only-of-type {\n",
       "        vertical-align: middle;\n",
       "    }\n",
       "\n",
       "    .dataframe tbody tr th {\n",
       "        vertical-align: top;\n",
       "    }\n",
       "\n",
       "    .dataframe thead th {\n",
       "        text-align: right;\n",
       "    }\n",
       "</style>\n",
       "<table border=\"1\" class=\"dataframe\">\n",
       "  <thead>\n",
       "    <tr style=\"text-align: right;\">\n",
       "      <th></th>\n",
       "      <th>status</th>\n",
       "      <th>url</th>\n",
       "      <th>text</th>\n",
       "      <th>likes</th>\n",
       "      <th>reposts</th>\n",
       "      <th>comments</th>\n",
       "      <th>text_len</th>\n",
       "    </tr>\n",
       "  </thead>\n",
       "  <tbody>\n",
       "    <tr>\n",
       "      <th>0</th>\n",
       "      <td>Middle Software Engineer - Yandex</td>\n",
       "      <td>https://www.linkedin.com/in/michilegorov</td>\n",
       "      <td>Всем привет!Выпустил свою первую статью на хаб...</td>\n",
       "      <td>17.0</td>\n",
       "      <td>0.0</td>\n",
       "      <td>0.0</td>\n",
       "      <td>295</td>\n",
       "    </tr>\n",
       "    <tr>\n",
       "      <th>1</th>\n",
       "      <td>Middle Software Engineer - Yandex</td>\n",
       "      <td>https://www.linkedin.com/in/michilegorov</td>\n",
       "      <td>Если вам интересно позалипать в слова, я запус...</td>\n",
       "      <td>6.0</td>\n",
       "      <td>0.0</td>\n",
       "      <td>2.0</td>\n",
       "      <td>117</td>\n",
       "    </tr>\n",
       "    <tr>\n",
       "      <th>2</th>\n",
       "      <td>Middle Software Engineer - Yandex</td>\n",
       "      <td>https://www.linkedin.com/in/michilegorov</td>\n",
       "      <td>Если вам интересно позалипать в слова, я запус...</td>\n",
       "      <td>17.0</td>\n",
       "      <td>6.0</td>\n",
       "      <td>0.0</td>\n",
       "      <td>117</td>\n",
       "    </tr>\n",
       "  </tbody>\n",
       "</table>\n",
       "</div>"
      ],
      "text/plain": [
       "                              status  \\\n",
       "0  Middle Software Engineer - Yandex   \n",
       "1  Middle Software Engineer - Yandex   \n",
       "2  Middle Software Engineer - Yandex   \n",
       "\n",
       "                                        url  \\\n",
       "0  https://www.linkedin.com/in/michilegorov   \n",
       "1  https://www.linkedin.com/in/michilegorov   \n",
       "2  https://www.linkedin.com/in/michilegorov   \n",
       "\n",
       "                                                text likes  reposts  comments  \\\n",
       "0  Всем привет!Выпустил свою первую статью на хаб...  17.0      0.0       0.0   \n",
       "1  Если вам интересно позалипать в слова, я запус...   6.0      0.0       2.0   \n",
       "2  Если вам интересно позалипать в слова, я запус...  17.0      6.0       0.0   \n",
       "\n",
       "   text_len  \n",
       "0       295  \n",
       "1       117  \n",
       "2       117  "
      ]
     },
     "execution_count": 6,
     "metadata": {},
     "output_type": "execute_result"
    }
   ],
   "source": [
    "data['text_len'] = data.loc[:, 'text'].apply(lambda x: len(x))\n",
    "data_filtered_by_text_len = data.query('text_len > 100')\n",
    "print(f'Количество постов с 100+ символами: {data_filtered_by_text_len.shape[0]}')\n",
    "data_filtered_by_text_len.head(3)"
   ]
  },
  {
   "attachments": {},
   "cell_type": "markdown",
   "metadata": {},
   "source": [
    "Для обработки нам нужны только посты на кириллице. Отфильтруем посты содержащие кириллицу."
   ]
  },
  {
   "cell_type": "code",
   "execution_count": 7,
   "metadata": {},
   "outputs": [
    {
     "name": "stdout",
     "output_type": "stream",
     "text": [
      "Текстов на кириллице: 1960\n"
     ]
    },
    {
     "data": {
      "text/html": [
       "<div>\n",
       "<style scoped>\n",
       "    .dataframe tbody tr th:only-of-type {\n",
       "        vertical-align: middle;\n",
       "    }\n",
       "\n",
       "    .dataframe tbody tr th {\n",
       "        vertical-align: top;\n",
       "    }\n",
       "\n",
       "    .dataframe thead th {\n",
       "        text-align: right;\n",
       "    }\n",
       "</style>\n",
       "<table border=\"1\" class=\"dataframe\">\n",
       "  <thead>\n",
       "    <tr style=\"text-align: right;\">\n",
       "      <th></th>\n",
       "      <th>status</th>\n",
       "      <th>url</th>\n",
       "      <th>text</th>\n",
       "      <th>likes</th>\n",
       "      <th>reposts</th>\n",
       "      <th>comments</th>\n",
       "      <th>text_len</th>\n",
       "    </tr>\n",
       "  </thead>\n",
       "  <tbody>\n",
       "    <tr>\n",
       "      <th>0</th>\n",
       "      <td>Middle Software Engineer - Yandex</td>\n",
       "      <td>https://www.linkedin.com/in/michilegorov</td>\n",
       "      <td>Всем привет!Выпустил свою первую статью на хаб...</td>\n",
       "      <td>17.0</td>\n",
       "      <td>0.0</td>\n",
       "      <td>0.0</td>\n",
       "      <td>295</td>\n",
       "    </tr>\n",
       "    <tr>\n",
       "      <th>1</th>\n",
       "      <td>Middle Software Engineer - Yandex</td>\n",
       "      <td>https://www.linkedin.com/in/michilegorov</td>\n",
       "      <td>Если вам интересно позалипать в слова, я запус...</td>\n",
       "      <td>6.0</td>\n",
       "      <td>0.0</td>\n",
       "      <td>2.0</td>\n",
       "      <td>117</td>\n",
       "    </tr>\n",
       "    <tr>\n",
       "      <th>2</th>\n",
       "      <td>Middle Software Engineer - Yandex</td>\n",
       "      <td>https://www.linkedin.com/in/michilegorov</td>\n",
       "      <td>Если вам интересно позалипать в слова, я запус...</td>\n",
       "      <td>17.0</td>\n",
       "      <td>6.0</td>\n",
       "      <td>0.0</td>\n",
       "      <td>117</td>\n",
       "    </tr>\n",
       "  </tbody>\n",
       "</table>\n",
       "</div>"
      ],
      "text/plain": [
       "                              status  \\\n",
       "0  Middle Software Engineer - Yandex   \n",
       "1  Middle Software Engineer - Yandex   \n",
       "2  Middle Software Engineer - Yandex   \n",
       "\n",
       "                                        url  \\\n",
       "0  https://www.linkedin.com/in/michilegorov   \n",
       "1  https://www.linkedin.com/in/michilegorov   \n",
       "2  https://www.linkedin.com/in/michilegorov   \n",
       "\n",
       "                                                text likes  reposts  comments  \\\n",
       "0  Всем привет!Выпустил свою первую статью на хаб...  17.0      0.0       0.0   \n",
       "1  Если вам интересно позалипать в слова, я запус...   6.0      0.0       2.0   \n",
       "2  Если вам интересно позалипать в слова, я запус...  17.0      6.0       0.0   \n",
       "\n",
       "   text_len  \n",
       "0       295  \n",
       "1       117  \n",
       "2       117  "
      ]
     },
     "execution_count": 7,
     "metadata": {},
     "output_type": "execute_result"
    }
   ],
   "source": [
    "data_cyrillic = data_filtered_by_text_len[data_filtered_by_text_len['text'].apply(lambda x: re.match(r'[А-Яа-я]+', x) is not None)]\n",
    "\n",
    "print(f'Текстов на кириллице: {data_cyrillic.shape[0]}')\n",
    "data_cyrillic.head(3)"
   ]
  },
  {
   "attachments": {},
   "cell_type": "markdown",
   "metadata": {},
   "source": [
    "Удалим дубликаты в столбце с текстами"
   ]
  },
  {
   "cell_type": "code",
   "execution_count": 8,
   "metadata": {},
   "outputs": [
    {
     "name": "stdout",
     "output_type": "stream",
     "text": [
      "Осталось 1862 строк\n"
     ]
    },
    {
     "data": {
      "text/html": [
       "<div>\n",
       "<style scoped>\n",
       "    .dataframe tbody tr th:only-of-type {\n",
       "        vertical-align: middle;\n",
       "    }\n",
       "\n",
       "    .dataframe tbody tr th {\n",
       "        vertical-align: top;\n",
       "    }\n",
       "\n",
       "    .dataframe thead th {\n",
       "        text-align: right;\n",
       "    }\n",
       "</style>\n",
       "<table border=\"1\" class=\"dataframe\">\n",
       "  <thead>\n",
       "    <tr style=\"text-align: right;\">\n",
       "      <th></th>\n",
       "      <th>status</th>\n",
       "      <th>url</th>\n",
       "      <th>text</th>\n",
       "      <th>likes</th>\n",
       "      <th>reposts</th>\n",
       "      <th>comments</th>\n",
       "      <th>text_len</th>\n",
       "    </tr>\n",
       "  </thead>\n",
       "  <tbody>\n",
       "    <tr>\n",
       "      <th>0</th>\n",
       "      <td>Middle Software Engineer - Yandex</td>\n",
       "      <td>https://www.linkedin.com/in/michilegorov</td>\n",
       "      <td>Всем привет!Выпустил свою первую статью на хаб...</td>\n",
       "      <td>17.0</td>\n",
       "      <td>0.0</td>\n",
       "      <td>0.0</td>\n",
       "      <td>295</td>\n",
       "    </tr>\n",
       "    <tr>\n",
       "      <th>1</th>\n",
       "      <td>Middle Software Engineer - Yandex</td>\n",
       "      <td>https://www.linkedin.com/in/michilegorov</td>\n",
       "      <td>Если вам интересно позалипать в слова, я запус...</td>\n",
       "      <td>6.0</td>\n",
       "      <td>0.0</td>\n",
       "      <td>2.0</td>\n",
       "      <td>117</td>\n",
       "    </tr>\n",
       "    <tr>\n",
       "      <th>6</th>\n",
       "      <td>Talent Acquisition Manager | Recruitment Lead ...</td>\n",
       "      <td>https://www.linkedin.com/in/dariaivanova</td>\n",
       "      <td>С трепетом готов представить свой продукт. Реф...</td>\n",
       "      <td>8.0</td>\n",
       "      <td>0.0</td>\n",
       "      <td>0.0</td>\n",
       "      <td>841</td>\n",
       "    </tr>\n",
       "  </tbody>\n",
       "</table>\n",
       "</div>"
      ],
      "text/plain": [
       "                                              status  \\\n",
       "0                  Middle Software Engineer - Yandex   \n",
       "1                  Middle Software Engineer - Yandex   \n",
       "6  Talent Acquisition Manager | Recruitment Lead ...   \n",
       "\n",
       "                                        url  \\\n",
       "0  https://www.linkedin.com/in/michilegorov   \n",
       "1  https://www.linkedin.com/in/michilegorov   \n",
       "6  https://www.linkedin.com/in/dariaivanova   \n",
       "\n",
       "                                                text likes  reposts  comments  \\\n",
       "0  Всем привет!Выпустил свою первую статью на хаб...  17.0      0.0       0.0   \n",
       "1  Если вам интересно позалипать в слова, я запус...   6.0      0.0       2.0   \n",
       "6  С трепетом готов представить свой продукт. Реф...   8.0      0.0       0.0   \n",
       "\n",
       "   text_len  \n",
       "0       295  \n",
       "1       117  \n",
       "6       841  "
      ]
     },
     "execution_count": 8,
     "metadata": {},
     "output_type": "execute_result"
    }
   ],
   "source": [
    "data_dd = data_cyrillic.drop_duplicates('text')\n",
    "print(f'Осталось {data_dd.shape[0]} строк')\n",
    "data_dd.head(3)"
   ]
  },
  {
   "attachments": {},
   "cell_type": "markdown",
   "metadata": {},
   "source": [
    "# Подготовка текстов"
   ]
  },
  {
   "cell_type": "code",
   "execution_count": 9,
   "metadata": {},
   "outputs": [],
   "source": [
    "model = spacy.load('ru_core_news_sm', disable=['ner', 'parser'])"
   ]
  },
  {
   "attachments": {},
   "cell_type": "markdown",
   "metadata": {},
   "source": [
    "Складываем все посты в один список"
   ]
  },
  {
   "cell_type": "code",
   "execution_count": 10,
   "metadata": {},
   "outputs": [],
   "source": [
    "texts = data_dd[\"text\"].tolist()"
   ]
  },
  {
   "attachments": {},
   "cell_type": "markdown",
   "metadata": {},
   "source": [
    "Выполняем лемматизацию текстов. Наберитесь терпения - это долгий процесс, который может занять около часа."
   ]
  },
  {
   "cell_type": "code",
   "execution_count": 11,
   "metadata": {},
   "outputs": [],
   "source": [
    "res = []\n",
    "for doc in model.pipe(texts, disable=[\"tagger\", \"parser\"]):\n",
    "    res.append([token.lemma_ for token in doc])"
   ]
  },
  {
   "attachments": {},
   "cell_type": "markdown",
   "metadata": {},
   "source": [
    "Сохраним результат, чтобы не повторять лемматизацию заново в следующий раз."
   ]
  },
  {
   "cell_type": "code",
   "execution_count": 12,
   "metadata": {},
   "outputs": [],
   "source": [
    "with open(\"lemmas.json\", \"w\") as fid:\n",
    "    json.dump({\"lemmas\": res}, fid)"
   ]
  },
  {
   "attachments": {},
   "cell_type": "markdown",
   "metadata": {},
   "source": [
    "Смотрим на результат - случайным образом сэмплируем несколько примеров"
   ]
  },
  {
   "cell_type": "code",
   "execution_count": 13,
   "metadata": {},
   "outputs": [
    {
     "data": {
      "text/plain": [
       "'наш, команда, успешно, работать, не, только, с, финансовый, сектор, и, ритейлом, ,, но, и, с, производственными, компания, ., нужный, консультация, по, автоматизация, бизнес, -, процессов, в, ваш, компания, ,, выбор, вендор, или, решение, ?, написать, мне, в, личный, сообщения.#crmguru, #, feedback'"
      ]
     },
     "execution_count": 13,
     "metadata": {},
     "output_type": "execute_result"
    }
   ],
   "source": [
    "\", \".join(res[np.random.randint(len(res))])"
   ]
  },
  {
   "cell_type": "code",
   "execution_count": 14,
   "metadata": {},
   "outputs": [
    {
     "data": {
      "text/plain": [
       "'друг, ,, в, крупный, онлайн, -, гипермаркет, детский, товар, искать, web, -, аналитика, с, хороший, опыт, в, google, analytics, и, владение, sql, на, уровень, написание, запрос, ., по, функция, это, участие, в, развёртывание, система, google, analytics, premium, и, аналитический, поддержка, канал, продажа, ., предлагать, соц, ., пакет, (, дмс, ,, фитнес, ,, корпоративный, изучение, язык, ), ,, комфортабельный, офис, ,, вилка, заработный, плата, ,, которая, формироваться, с, учёт, ожидание, кандидат, ., связаться, со, мной, можно, личный, сообщение, либо, написать, на, почта, klevanets@ackvius.ru, ., также, быть, благодарный, за, рекомендация, .'"
      ]
     },
     "execution_count": 14,
     "metadata": {},
     "output_type": "execute_result"
    }
   ],
   "source": [
    "\", \".join(res[np.random.randint(len(res))])"
   ]
  },
  {
   "attachments": {},
   "cell_type": "markdown",
   "metadata": {},
   "source": [
    "Удалим знаки препинания, цифры и слова, содержащие цифры. Для это соберём регулярное выражение, которое подходит для любого слова, состоящего из букв кирилицы."
   ]
  },
  {
   "cell_type": "code",
   "execution_count": 15,
   "metadata": {},
   "outputs": [],
   "source": [
    "word_pattern = re.compile(\"^[а-я]*$\")\n",
    "\n",
    "def remove_symbols(doc):\n",
    "    return [token for token in doc if word_pattern.match(token)]\n",
    "\n",
    "corpus = list(map(remove_symbols, res))"
   ]
  },
  {
   "cell_type": "code",
   "execution_count": 16,
   "metadata": {},
   "outputs": [
    {
     "data": {
      "text/plain": [
       "'проверь, свой, в, один, клик, это, такой, и, как, его, повысить, это, внутренний, показатель, который, оценивать, насколько, активно, вы, использовать, свой, личный, профиль, для, нетворкинга, и, выстраивание, профессиональный, бренд, в, сеть, если, у, вас, высокий, показатель, выше, профиль, лучше, показываться, в, поиск, пост, получать, больше, просмотр, и, в, целое, профиль, выглядеть, более, доверительный, для, индекс, состоять, из, четыре, шкала, каждый, из, которых, иметь, вес, балл, максимальный, показатель, это, балл, это, первый, шкала, она, напрямую, связать, с, качество, ваш, профиль, а, также, с, тем, как, часто, вы, публиковать, релевантный, и, ценный, пост, это, второй, шкала, она, напрямую, связать, с, ваш, способность, находить, правильный, человек, за, минимальный, время, использовать, встроенный, поисковый, движок, на, это, третий, шкала, она, напрямую, связать, с, ваш, способность, заинтересовывать, других, человек, посредством, собственный, контент, начинать, с, он, создание, шаринга, комментирование, заканчивать, ваш, активность, в, группа, новостной, лента, это, последний, шкала, она, напрямую, связать, с, ваш, способность, выстраивать, доверительный, взаимоотношение, в, сеть, как, с, коллега, внутри, ваш, компания, так, и, с, человек, принимать, решение, источник, на, статья'"
      ]
     },
     "execution_count": 16,
     "metadata": {},
     "output_type": "execute_result"
    }
   ],
   "source": [
    "\", \".join(corpus[np.random.randint(len(corpus))])"
   ]
  },
  {
   "attachments": {},
   "cell_type": "markdown",
   "metadata": {},
   "source": [
    "# Векторизация текстов"
   ]
  },
  {
   "attachments": {},
   "cell_type": "markdown",
   "metadata": {},
   "source": [
    "Теперь необходимо перевести тексты новостей и слова, из которых они состоят, в числовое представление, т.е. провести векторизацию. Для этого можно использовать подход \"мешок слов\" (Bag of Words) или Tf-iDf. Второй вариант нравится мне больше."
   ]
  },
  {
   "attachments": {},
   "cell_type": "markdown",
   "metadata": {},
   "source": [
    "Чтобы уменьшить размерность получаемой матрицы, добавим исключение стоп-слов."
   ]
  },
  {
   "cell_type": "code",
   "execution_count": 17,
   "metadata": {},
   "outputs": [
    {
     "name": "stdout",
     "output_type": "stream",
     "text": [
      "['и', 'в', 'во', 'не', 'что', 'он', 'на', 'я', 'с', 'со', 'как', 'а', 'то', 'все', 'она', 'так', 'его', 'но', 'да', 'ты', 'к', 'у', 'же', 'вы', 'за', 'бы', 'по', 'только', 'ее', 'мне', 'было', 'вот', 'от', 'меня', 'еще', 'нет', 'о', 'из', 'ему', 'теперь', 'когда', 'даже', 'ну', 'вдруг', 'ли', 'если', 'уже', 'или', 'ни', 'быть', 'был', 'него', 'до', 'вас', 'нибудь', 'опять', 'уж', 'вам', 'ведь', 'там', 'потом', 'себя', 'ничего', 'ей', 'может', 'они', 'тут', 'где', 'есть', 'надо', 'ней', 'для', 'мы', 'тебя', 'их', 'чем', 'была', 'сам', 'чтоб', 'без', 'будто', 'чего', 'раз', 'тоже', 'себе', 'под', 'будет', 'ж', 'тогда', 'кто', 'этот', 'того', 'потому', 'этого', 'какой', 'совсем', 'ним', 'здесь', 'этом', 'один', 'почти', 'мой', 'тем', 'чтобы', 'нее', 'сейчас', 'были', 'куда', 'зачем', 'всех', 'никогда', 'можно', 'при', 'наконец', 'два', 'об', 'другой', 'хоть', 'после', 'над', 'больше', 'тот', 'через', 'эти', 'нас', 'про', 'всего', 'них', 'какая', 'много', 'разве', 'три', 'эту', 'моя', 'впрочем', 'хорошо', 'свою', 'этой', 'перед', 'иногда', 'лучше', 'чуть', 'том', 'нельзя', 'такой', 'им', 'более', 'всегда', 'конечно', 'всю', 'между']\n"
     ]
    }
   ],
   "source": [
    "stop_words = stopwords.words('russian')\n",
    "print(stop_words)"
   ]
  },
  {
   "cell_type": "code",
   "execution_count": 18,
   "metadata": {},
   "outputs": [],
   "source": [
    "tfidf = TfidfVectorizer(stop_words=stop_words, min_df=10, max_df=0.9)"
   ]
  },
  {
   "attachments": {},
   "cell_type": "markdown",
   "metadata": {},
   "source": [
    "Т.е. TfIdfVectorizer принимает на вход список предложений, поэтому необходимо объединить списки слов, составляющих корпус, в предложения."
   ]
  },
  {
   "cell_type": "code",
   "execution_count": 19,
   "metadata": {},
   "outputs": [
    {
     "data": {
      "text/plain": [
       "['всем свой первый статья на про история и технология разработка игра и как мы создать игра с элемент машинный обучение и выйти в ноль за месяцапри внимательный прочтение вы даже смочь запустить первый версия игра',\n",
       " 'если вам интересный позалипать в слово я запустить понравиться брат шникам',\n",
       " 'с трепет готовый представить свой продукт рефни первый сервис реферального рекрутинг в ит на нем каждый мочь посоветовать знакомого на открытый позиция в компания и получить за рекомендация денежный вознаграждение идея создание внешний реферального сервис зародиться у меня давно в период пандемия я посоветовать пара человек на хороший должность в разный компания их взять все счастливый тогда я и подумать пора создание команда подготовка тз изучение самых разный нюанс о которых я ранний не знать и самое волнительный поиск инвестор все получиться и весь это теперь позади а впереди только постоянный развитие продукт посмотреть что у нас выйти быть благодарный если вы поддержать меня и мой команда репостом а также подпишитесь на наш канал в телеграме']"
      ]
     },
     "execution_count": 19,
     "metadata": {},
     "output_type": "execute_result"
    }
   ],
   "source": [
    "docs = [\" \".join(tokens) for tokens in corpus]\n",
    "docs[:3]"
   ]
  },
  {
   "cell_type": "code",
   "execution_count": 20,
   "metadata": {},
   "outputs": [],
   "source": [
    "x = tfidf.fit_transform(docs)"
   ]
  },
  {
   "cell_type": "code",
   "execution_count": 21,
   "metadata": {},
   "outputs": [
    {
     "data": {
      "text/plain": [
       "(1862, 1635)"
      ]
     },
     "execution_count": 21,
     "metadata": {},
     "output_type": "execute_result"
    }
   ],
   "source": [
    "x.shape"
   ]
  },
  {
   "attachments": {},
   "cell_type": "markdown",
   "metadata": {},
   "source": [
    "Теперь составим словарь {id_токена: токен} - он пригодится нам позднее."
   ]
  },
  {
   "cell_type": "code",
   "execution_count": 23,
   "metadata": {},
   "outputs": [],
   "source": [
    "id2word = {i: token for i, token in enumerate(tfidf.get_feature_names_out())}"
   ]
  },
  {
   "attachments": {},
   "cell_type": "markdown",
   "metadata": {},
   "source": [
    "# LDA"
   ]
  },
  {
   "attachments": {},
   "cell_type": "markdown",
   "metadata": {},
   "source": [
    "Теперь можем запустить алгоритм LDA. Зададим количество тем равное 20."
   ]
  },
  {
   "cell_type": "code",
   "execution_count": 24,
   "metadata": {},
   "outputs": [],
   "source": [
    "N_TOPICS = 20"
   ]
  },
  {
   "cell_type": "code",
   "execution_count": 25,
   "metadata": {},
   "outputs": [],
   "source": [
    "lda = LatentDirichletAllocation(n_components=N_TOPICS, random_state=765)"
   ]
  },
  {
   "cell_type": "code",
   "execution_count": 26,
   "metadata": {},
   "outputs": [],
   "source": [
    "topics = lda.fit_transform(x)"
   ]
  },
  {
   "cell_type": "code",
   "execution_count": 27,
   "metadata": {},
   "outputs": [
    {
     "data": {
      "text/plain": [
       "(1862, 20)"
      ]
     },
     "execution_count": 27,
     "metadata": {},
     "output_type": "execute_result"
    }
   ],
   "source": [
    "topics.shape"
   ]
  },
  {
   "attachments": {},
   "cell_type": "markdown",
   "metadata": {},
   "source": [
    "Получили массив размера 1862x20. Строки здесь - отдельные тексты, а колонки - 20 выделенных тем. В каждой ячейке стоит вероятность того, что данный текст относится к данной теме. Это то самое распределение тем над документами."
   ]
  },
  {
   "attachments": {},
   "cell_type": "markdown",
   "metadata": {},
   "source": [
    "## Ключевые слова"
   ]
  },
  {
   "attachments": {},
   "cell_type": "markdown",
   "metadata": {},
   "source": [
    "Теперь извлечём ключевые слова для каждой из 20 тем. В свойсте components _ лежит матрица соответствия слов темам. Пройдёмся по каждой из 20 выделенных тем и для каждой возьмём ТОП-20 слов."
   ]
  },
  {
   "attachments": {},
   "cell_type": "markdown",
   "metadata": {},
   "source": [
    "По очереди пройдёмся по каждой теме (первое измерение массиа) и выберем ТОП-20 слов, наиболее характерных для этой темы. Потом по индексу слова обратимся к словарю и узнаем, что это за слово."
   ]
  },
  {
   "cell_type": "code",
   "execution_count": 28,
   "metadata": {},
   "outputs": [
    {
     "name": "stdout",
     "output_type": "stream",
     "text": [
      "Тема 1 :\n",
      "проверка, зависимость, кстати, мочь, обсудить, основа, очередной, визуализация, устроить, рекламный, распознавание, тренировка, ведущий, мировой, последний, который, собес, теория, посещать, ваш\n",
      "\n",
      " \n",
      "Тема 2 :\n",
      "настоящий, обсуждение, выход, запустить, душа, эффект, понравиться, интересный, услуга, сегодня, форум, фильм, программный, привлечь, документ, размер, потеря, доклад, влияние, нанимать\n",
      "\n",
      " \n",
      "Тема 3 :\n",
      "новый, инстаграм, карточка, гость, яндекс, немного, игра, инвестиция, программист, ведущий, машинный, проектноеуправление, обучение, айти, системнаяаналитика, обучениеснуля, погнать, интеллект, подкаст, искусственный\n",
      "\n",
      " \n",
      "Тема 4 :\n",
      "просто, прочитать, таки, лекция, пока, именно, хороший, предприятие, предыдущий, данные, расход, день, подробность, оценить, просьба, сократить, кнопка, яндекс, вода, добрый\n",
      "\n",
      " \n",
      "Тема 5 :\n",
      "эмоция, взгляд, множество, запись, заявка, вчера, стратегия, давно, контент, задавать, понимание, отношение, создать, психология, код, конец, выбор, внутренний, будущее, лендинг\n",
      "\n",
      " \n",
      "Тема 6 :\n",
      "який, цей, допомогти, дуже, його, коли, щоб, може, чи, ви, якщо, час, можна, але, також, буде, ми, це, як, що\n",
      "\n",
      " \n",
      "Тема 7 :\n",
      "забыть, сократить, страдать, повысить, эксперт, эксперимент, десяток, обеспечить, ценность, медицинский, создать, поговорить, подробно, малый, информационный, безопасность, обзор, инфобез, кибербезопасность, иб\n",
      "\n",
      " \n",
      "Тема 8 :\n",
      "собес, чувство, интервью, представить, подготовка, ценность, реальность, автор, открытие, программист, функционал, подразделение, узнавать, играть, защита, алексей, просмотр, достаточно, страх, отказ\n",
      "\n",
      " \n",
      "Тема 9 :\n",
      "доставка, попадать, реклама, увеличение, категория, графический, гибкий, статья, отдохнуть, выходной, текстовый, столько, редактор, потребитель, мешать, заинтересованный, генерировать, фото, применение, бренд\n",
      "\n",
      " \n",
      "Тема 10 :\n",
      "управление, маркетинг, статья, команда, вернуться, повысить, знакомых, отклик, аналитик, заинтересовать, данными, отрасль, дайджест, банк, продуктовый, дружный, долгий, конверсия, постараться, сша\n",
      "\n",
      " \n",
      "Тема 11 :\n",
      "работать, хороший, разработка, ваш, нужный, время, очень, новый, человек, опыт, проект, компания, наш, мочь, год, весь, команда, свой, работа, это\n",
      "\n",
      " \n",
      "Тема 12 :\n",
      "карьерныйконсультант, многим, ощущение, старый, аудитория, мной, зарубежный, непонятный, регистрация, тренд, лента, сотрудничество, сегодняшний, заходить, высоко, иностранный, выступить, работодатель, дорогой, прошлый\n",
      "\n",
      " \n",
      "Тема 13 :\n",
      "подборка, ряд, проект, предложение, россия, совместный, великий, промышленный, давать, комплекс, август, добрый, форум, утро, фото, стать, гость, рок, человеческий, або\n",
      "\n",
      " \n",
      "Тема 14 :\n",
      "помимо, интересовать, ночь, здравствовать, уникальный, отслеживать, авито, благодарный, креативный, добро, инженер, замечательный, сертификат, работа, новый, компания, начинать, должность, удовольствие, сообщать\n",
      "\n",
      " \n",
      "Тема 15 :\n",
      "секунда, старт, специальный, энергия, наблюдение, российский, посетить, ночь, пример, редко, объект, привлекать, снизить, нервный, автоматизированный, класс, продолжение, код, самая, функция\n",
      "\n",
      " \n",
      "Тема 16 :\n",
      "стартап, часть, игровой, связь, круг, спрос, мир, итог, основа, проект, выбирать, управлениепроектами, результат, технология, запустить, метод, недвижимость, обновить, средство, пусть\n",
      "\n",
      " \n",
      "Тема 17 :\n",
      "управление, интерфейс, промышленный, консалтинг, праздник, бюджет, пользовательский, гибрид, ментор, приложение, веб, сообщать, оказывать, бизнес, услуги, страница, радость, просмотреть, услуга, разработка\n",
      "\n",
      " \n",
      "Тема 18 :\n",
      "сайт, потерять, запись, талант, возраст, подписчик, дизайн, нейросети, компьютерноезрение, машинноеобучение, працювати, ще, хотеть, пройти, следующий, роботи, проверка, значок, тест, навык\n",
      "\n",
      " \n",
      "Тема 19 :\n",
      "ваш, украина, карьерный, чат, находиться, ищу, лайк, контакт, благодарить, заранее, вакансия, поддержка, бот, рекомендация, совет, возможность, разработчик, привет, всем, поиск\n",
      "\n",
      " \n",
      "Тема 20 :\n",
      "выразить, динамика, классический, сон, дата, научить, математика, сценарий, компонент, интерактивный, анализ, значение, телеграмма, соискатель, статистика, поддержать, данных, машинный, курс, изображение\n",
      "\n",
      " \n"
     ]
    }
   ],
   "source": [
    "for i in range(N_TOPICS):\n",
    "    c = lda.components_[i, :]\n",
    "    topic_tokens = [id2word.get(token_id) for token_id in np.argsort(c)[-20:]]\n",
    "    print(\"Тема\",i+1, \":\")\n",
    "    print(\", \".join(topic_tokens))\n",
    "    print(\"\\n \")"
   ]
  },
  {
   "attachments": {},
   "cell_type": "markdown",
   "metadata": {},
   "source": [
    "По полученным ключевым словам можно составить представление о содержании той или иной темы. Хотя иногда сочетания слов довольно странные )"
   ]
  },
  {
   "attachments": {},
   "cell_type": "markdown",
   "metadata": {},
   "source": [
    "## Типичные статьи"
   ]
  },
  {
   "attachments": {},
   "cell_type": "markdown",
   "metadata": {},
   "source": [
    "Теперь для каждой темы возьмём по одному документу, который хорошо соответсвует этой теме. Для этого заглянем в массив topics."
   ]
  },
  {
   "cell_type": "code",
   "execution_count": 29,
   "metadata": {},
   "outputs": [
    {
     "name": "stdout",
     "output_type": "stream",
     "text": [
      "Тема  0\n",
      "Вашему вниманию успешный кейс из Казахстана.Обеспечение работоспособности и безопасности производства при снижении расхода масла на 30%.\n",
      "\n",
      "\n",
      "Тема  1\n",
      "За последние 1.5 года армянские стартапы привлекли суммарно более миллиарда долларов в 26 сделках. В то время как, сектор ИТ в Армении в 2022 вырос на 30%. #InvestinArmenia\n",
      "\n",
      "\n",
      "Тема  2\n",
      "Почти «догрыз» специализацию по машинному обучению и анализу данных от Яндекса на coursera. 5/6 - done. Так что, скоро уже прекращу постить пачками сертификаты и займусь делом наконец :)\n",
      "\n",
      "\n",
      "Тема  3\n",
      "Когда сейлз просит примерно оценить приложение - как убер, только для сантехников с элементами инстаграма, возможно потом добавится функционал тиндера, но это не точно. Просьба побыстрее, созвон с заказчиком через 10 мин.\n",
      "\n",
      "\n",
      "Тема  4\n",
      "В Израиле создали летающих роботов для сбора фруктовКаждый дрон оснащен мягким захватом. Дроны способны анализировать и проверять, где находится фрукт и какого он качества.\n",
      "\n",
      "\n",
      "Тема  5\n",
      "Друзі, звертаюся до спільноти! В мене є деякий вільний час та я можу безкоштовно допомогти у вивченні UX/UI дизайну. Маю більш ніж 8-річний досвід у галузі UX/UI/Product дизайну, прототипування, розробці дизайн-систем, роботі з iOS/Android, Figma та іншими інструментами.У світі, де багато українців змушені починати кар'єру з нуля через війну яку розпочала росія, я хочу бути корисним для співвітчизників. Знаю, що самостійне вивчення може бути викликом, тому готов надати вам практичну допомогу та поради з UX/UI дизайну.Мій досвід у дизайні, співпраця з онлайн-школами та робота над великими проектами дозволили мені розробити ефективні методи навчання, які допоможуть вам швидше пройти цей шлях. Я вірю у потенціал українських талановитих людей і хочу допомогти вам досягти успіху у сфері UX/UI дизайну.Прошу вас, поширте цей пост серед свого оточення!Разом ми зможемо зробити багато і змінити своє життя на краще!Слава Україні, віримо у себе та в нашу країну!Щоб отримати допомогу, будь-ласка, заповніть google форму:https://lnkd.in/dQsvdk7YТакож, будь ласка, долучайтеся, до групи у Telegram:t.me/dsgnua#безкоштовнадопогаукраїнцям #вивченнядизайну #uxuifree #ukrainedesign #допомога #uxuiдляукраїнців\n",
      "\n",
      "\n",
      "Тема  6\n",
      "Обзор #зарплат специалистов по информационной безопасности в России от Aleksey Lukatskiyhttps://lnkd.in/e2Tj8taV #работа #job #ITSecurity #cybersecurity #infosec #инфобез #ИБ #кибербезопасность\n",
      "\n",
      "\n",
      "Тема  7\n",
      "достаточно часто чуваки на конфах и чатах спрашивают - \"та что вы там делаете? Авито ж простой как дверь! уже все написано!\"в общем надоело отвечать. намутили лендосhttps://lnkd.in/dSEQyqzW\n",
      "\n",
      "\n",
      "Тема  8\n",
      "На выходных занялся 3д Иллюстрациями для блока о доставке. Результат нравится, но пару правок еще внесу. А вы как считаете, есть что можно доработать?)\n",
      "\n",
      "\n",
      "Тема  9\n",
      "Ищу джунов в команду! :)В продолжение этого поста, перед откликом лучше ознакомиться :) https://lnkd.in/d9X7BGgwИщу аналитика и UX/UI дизайнера.Для откликов: https://lnkd.in/eFJZY5sB\n",
      "\n",
      "\n",
      "Тема  10\n",
      "Недавно выступал на конференции Мосбиржи, и там произошла довольно интересная ситуация.Прозвучал вопрос из зала спикерам: “Как можно провести миграцию виртуальных машин в облако?” Коллеги по рынку отвечают стандартно: так и так, берете программное обеспечение, которое называется так-то, и проводите. Человек в зале говорит спасибо и садится. Обычная история: задали конкретный вопрос – технический специалист дал конкретный ответ. Я подумал: “Ничего себе как просто. И что сейчас случится с заказчиком, если он просто последует рекомендации?” Тут мне дают слово, и я берусь разбирать эту историю.Начал с того, что рекомендовал перед запуском миграции прийти на консультацию к архитектору облачного провайдера. Вместе с вашей командой он прорисует, как будет выглядеть сетевая связанность, предложит, как может проходить миграция, с помощью каких инструментов и сколько это займет времени. И сразу обсудит с вами, какие могут возникнуть сложности и что может пойти не так.Что будет дальше:✔️ Составите план, где вы напишете о своих ожиданиях, в т. ч. что должно произойти после миграции. Подумаете, что будет, когда часть машин мигрирует, а часть еще нет, как все будет работать. И какой у вас definition of done, когда миграция будет произведена полностью.✔️ Возьмете одну виртуальную машину и попробуете мигрировать. Посмотрите, сколько времени на это реально потребуется и все ли пойдет по плану.✔️ В намеченное время проведете переход полностью. Идеально иметь план Б и работать в 2 команды – от заказчика и от провайдера.После этого нужно будет проверить, что вы переключили систему мониторинга и систему резервного копирования. Готово, теперь можно всем написать, что миграция завершена 💪Возможно, об этом нужно больше рассказывать заказчикам. Не про технологические особенности сервисов, а про процессы взаимодействия с облачными провайдерами. Потому что если мы заранее проговорим алгоритм перехода на этой стадии, нам не придется отвечать на вопросы, почему миграция не прошла сразу или почему через 2-3 месяца все сломалось.#Миграциявоблако #Cloud #Облако #IT\n",
      "\n",
      "\n",
      "Тема  11\n",
      "Новая пачка карточек по качественным исследованиям. Когда необходим широкий спектр мнений и идей по поводу чужих высказываний.#ux #analytics #interview #research\n",
      "\n",
      "\n",
      "Тема  12\n",
      "С 11 по 13 августа в г. Калуга проходит IX Форум по цифровизации оборонно-промышленного комплекса России #ИТОПК2020. Security Code и RASSE (I-Teco Group) представили совместный стенд, подробности в видеоролике.Больше видео: https://lnkd.in/e9gkdBH #ИБ #infosec #security #cybersecurity #Информационнаябезопасность #ЦОД #LIQUIDCUBE\n",
      "\n",
      "\n",
      "Тема  13\n",
      "С удовольствием сообщаю, что я начинаю работу в новой должности – Главный инженер по разработке в компании SberDevices!\n",
      "\n",
      "\n",
      "Тема  14\n",
      "Планирую посетить Конгресс ИТ-Директоров «Белые Ночи». Было бы интересно пообщаться вживую с участниками по поводу российских Low Code платформ.\n",
      "\n",
      "\n",
      "Тема  15\n",
      "Знакомо?🌴 Первый день после отпуска - вы отлично отдохнули, и даже вечерний перелет не омрачает предстоящий рабочий день 😌 Вы сладко спите, когда вдруг ЗВОНОК 📞 Спам? Скам? Нет! \"УПАЛ ПРОД\" 😱#IT #PostVacation #SoftwareEngineer #bug\n",
      "\n",
      "\n",
      "Тема  16\n",
      "С радостью сообщаю, что я оказываю бизнес-услуги в LinkedIn #OpenForBusiness. Просмотрите мою страницу услуг «Бизнес-аналитика, Проектирование пользовательского интерфейса (UED), Разработка баз данных, Разработка пользовательского ПО, Разработка приложений, Управление корпоративным контентом, Управление информацией» и «Тестирование ПО».\n",
      "\n",
      "\n",
      "Тема  17\n",
      "Ознакомиться с сайтом likesuro.com. Просто наберите его название в поисковике и перейдите на страницу \"FOR CANDIDATES\" или \"КАНДИДАТАМ\", если вы на русскоязычной странице.#рекрутмент #поискработы #резюме #анкета #likesuro #CRM #рекрутер #вакансии #кандидаты #квалификация #шансы #карьера #работа #собеседование\n",
      "\n",
      "\n",
      "Тема  18\n",
      "Всем привет, я, как вы догадались, в поиске новой карьерной возможности и буду признательна за вашу поддержку и помощь в распространении этого поста) Заранее благодарю за все репосты, рекомендации контактов, советы или возможности, которые вы можете предложить. #OpenToWork\n",
      "\n",
      "\n",
      "Тема  19\n",
      "Дорогие соискатели и просто те, кто \"подсматривает\" - какие ваши ощущения от текущего рынка труда? #поискработы\n",
      "\n",
      "\n"
     ]
    }
   ],
   "source": [
    "for i in range(N_TOPICS):\n",
    "    doc_id = np.argmax(topics[:, i])\n",
    "    print(\"Тема \", i)\n",
    "    print(data_dd.iloc[doc_id][\"text\"])\n",
    "    print(\"\\n\")"
   ]
  },
  {
   "attachments": {},
   "cell_type": "markdown",
   "metadata": {},
   "source": []
  }
 ],
 "metadata": {
  "kernelspec": {
   "display_name": "venv",
   "language": "python",
   "name": "python3"
  },
  "language_info": {
   "codemirror_mode": {
    "name": "ipython",
    "version": 3
   },
   "file_extension": ".py",
   "mimetype": "text/x-python",
   "name": "python",
   "nbconvert_exporter": "python",
   "pygments_lexer": "ipython3",
   "version": "3.10.7"
  },
  "orig_nbformat": 4
 },
 "nbformat": 4,
 "nbformat_minor": 2
}
