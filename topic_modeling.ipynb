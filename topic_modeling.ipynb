{
 "cells": [
  {
   "attachments": {},
   "cell_type": "markdown",
   "metadata": {},
   "source": [
    "Импортируем нужные для работы библиотеки"
   ]
  },
  {
   "cell_type": "code",
   "execution_count": 1,
   "metadata": {},
   "outputs": [
    {
     "name": "stdout",
     "output_type": "stream",
     "text": [
      "Requirement already satisfied: spacy in c:\\users\\андрей\\desktop\\github\\recruiters\\venv\\lib\\site-packages (3.5.4)\n",
      "Requirement already satisfied: spacy-legacy<3.1.0,>=3.0.11 in c:\\users\\андрей\\desktop\\github\\recruiters\\venv\\lib\\site-packages (from spacy) (3.0.12)\n",
      "Requirement already satisfied: spacy-loggers<2.0.0,>=1.0.0 in c:\\users\\андрей\\desktop\\github\\recruiters\\venv\\lib\\site-packages (from spacy) (1.0.4)\n",
      "Requirement already satisfied: murmurhash<1.1.0,>=0.28.0 in c:\\users\\андрей\\desktop\\github\\recruiters\\venv\\lib\\site-packages (from spacy) (1.0.9)\n",
      "Requirement already satisfied: cymem<2.1.0,>=2.0.2 in c:\\users\\андрей\\desktop\\github\\recruiters\\venv\\lib\\site-packages (from spacy) (2.0.7)\n",
      "Requirement already satisfied: preshed<3.1.0,>=3.0.2 in c:\\users\\андрей\\desktop\\github\\recruiters\\venv\\lib\\site-packages (from spacy) (3.0.8)\n",
      "Requirement already satisfied: thinc<8.2.0,>=8.1.8 in c:\\users\\андрей\\desktop\\github\\recruiters\\venv\\lib\\site-packages (from spacy) (8.1.10)\n",
      "Requirement already satisfied: wasabi<1.2.0,>=0.9.1 in c:\\users\\андрей\\desktop\\github\\recruiters\\venv\\lib\\site-packages (from spacy) (1.1.2)\n",
      "Requirement already satisfied: srsly<3.0.0,>=2.4.3 in c:\\users\\андрей\\desktop\\github\\recruiters\\venv\\lib\\site-packages (from spacy) (2.4.6)\n",
      "Requirement already satisfied: catalogue<2.1.0,>=2.0.6 in c:\\users\\андрей\\desktop\\github\\recruiters\\venv\\lib\\site-packages (from spacy) (2.0.8)\n",
      "Requirement already satisfied: typer<0.10.0,>=0.3.0 in c:\\users\\андрей\\desktop\\github\\recruiters\\venv\\lib\\site-packages (from spacy) (0.9.0)\n",
      "Requirement already satisfied: pathy>=0.10.0 in c:\\users\\андрей\\desktop\\github\\recruiters\\venv\\lib\\site-packages (from spacy) (0.10.2)\n",
      "Requirement already satisfied: smart-open<7.0.0,>=5.2.1 in c:\\users\\андрей\\desktop\\github\\recruiters\\venv\\lib\\site-packages (from spacy) (6.3.0)\n",
      "Requirement already satisfied: tqdm<5.0.0,>=4.38.0 in c:\\users\\андрей\\desktop\\github\\recruiters\\venv\\lib\\site-packages (from spacy) (4.65.0)\n",
      "Requirement already satisfied: numpy>=1.15.0 in c:\\users\\андрей\\desktop\\github\\recruiters\\venv\\lib\\site-packages (from spacy) (1.25.0)\n",
      "Requirement already satisfied: requests<3.0.0,>=2.13.0 in c:\\users\\андрей\\desktop\\github\\recruiters\\venv\\lib\\site-packages (from spacy) (2.31.0)\n",
      "Requirement already satisfied: pydantic!=1.8,!=1.8.1,<1.11.0,>=1.7.4 in c:\\users\\андрей\\desktop\\github\\recruiters\\venv\\lib\\site-packages (from spacy) (1.10.10)\n",
      "Requirement already satisfied: jinja2 in c:\\users\\андрей\\desktop\\github\\recruiters\\venv\\lib\\site-packages (from spacy) (3.1.2)\n",
      "Requirement already satisfied: setuptools in c:\\users\\андрей\\desktop\\github\\recruiters\\venv\\lib\\site-packages (from spacy) (63.2.0)\n",
      "Requirement already satisfied: packaging>=20.0 in c:\\users\\андрей\\desktop\\github\\recruiters\\venv\\lib\\site-packages (from spacy) (23.1)\n",
      "Requirement already satisfied: langcodes<4.0.0,>=3.2.0 in c:\\users\\андрей\\desktop\\github\\recruiters\\venv\\lib\\site-packages (from spacy) (3.3.0)\n",
      "Requirement already satisfied: typing-extensions>=4.2.0 in c:\\users\\андрей\\desktop\\github\\recruiters\\venv\\lib\\site-packages (from pydantic!=1.8,!=1.8.1,<1.11.0,>=1.7.4->spacy) (4.7.0)\n",
      "Requirement already satisfied: charset-normalizer<4,>=2 in c:\\users\\андрей\\desktop\\github\\recruiters\\venv\\lib\\site-packages (from requests<3.0.0,>=2.13.0->spacy) (3.1.0)\n",
      "Requirement already satisfied: idna<4,>=2.5 in c:\\users\\андрей\\desktop\\github\\recruiters\\venv\\lib\\site-packages (from requests<3.0.0,>=2.13.0->spacy) (3.4)\n",
      "Requirement already satisfied: urllib3<3,>=1.21.1 in c:\\users\\андрей\\desktop\\github\\recruiters\\venv\\lib\\site-packages (from requests<3.0.0,>=2.13.0->spacy) (2.0.3)\n",
      "Requirement already satisfied: certifi>=2017.4.17 in c:\\users\\андрей\\desktop\\github\\recruiters\\venv\\lib\\site-packages (from requests<3.0.0,>=2.13.0->spacy) (2023.5.7)\n",
      "Requirement already satisfied: blis<0.8.0,>=0.7.8 in c:\\users\\андрей\\desktop\\github\\recruiters\\venv\\lib\\site-packages (from thinc<8.2.0,>=8.1.8->spacy) (0.7.9)\n",
      "Requirement already satisfied: confection<1.0.0,>=0.0.1 in c:\\users\\андрей\\desktop\\github\\recruiters\\venv\\lib\\site-packages (from thinc<8.2.0,>=8.1.8->spacy) (0.1.0)\n",
      "Requirement already satisfied: colorama in c:\\users\\андрей\\desktop\\github\\recruiters\\venv\\lib\\site-packages (from tqdm<5.0.0,>=4.38.0->spacy) (0.4.6)\n",
      "Requirement already satisfied: click<9.0.0,>=7.1.1 in c:\\users\\андрей\\desktop\\github\\recruiters\\venv\\lib\\site-packages (from typer<0.10.0,>=0.3.0->spacy) (8.1.3)\n",
      "Requirement already satisfied: MarkupSafe>=2.0 in c:\\users\\андрей\\desktop\\github\\recruiters\\venv\\lib\\site-packages (from jinja2->spacy) (2.1.3)\n",
      "Collecting ru-core-news-sm==3.5.0\n",
      "  Downloading https://github.com/explosion/spacy-models/releases/download/ru_core_news_sm-3.5.0/ru_core_news_sm-3.5.0-py3-none-any.whl (15.3 MB)\n",
      "                                              0.0/15.3 MB ? eta -:--:--\n",
      "                                              0.0/15.3 MB 1.3 MB/s eta 0:00:12\n",
      "                                              0.1/15.3 MB 1.1 MB/s eta 0:00:15\n",
      "                                              0.2/15.3 MB 1.2 MB/s eta 0:00:13\n",
      "                                              0.2/15.3 MB 1.2 MB/s eta 0:00:13\n",
      "                                              0.3/15.3 MB 1.5 MB/s eta 0:00:11\n",
      "     -                                        0.4/15.3 MB 1.7 MB/s eta 0:00:09\n",
      "     -                                        0.5/15.3 MB 1.8 MB/s eta 0:00:08\n",
      "     -                                        0.6/15.3 MB 1.9 MB/s eta 0:00:08\n",
      "     -                                        0.7/15.3 MB 2.0 MB/s eta 0:00:08\n",
      "     --                                       0.8/15.3 MB 2.1 MB/s eta 0:00:07\n",
      "     --                                       0.9/15.3 MB 2.1 MB/s eta 0:00:07\n",
      "     --                                       1.0/15.3 MB 2.1 MB/s eta 0:00:07\n",
      "     --                                       1.1/15.3 MB 2.2 MB/s eta 0:00:07\n",
      "     ---                                      1.2/15.3 MB 2.2 MB/s eta 0:00:07\n",
      "     ---                                      1.3/15.3 MB 2.2 MB/s eta 0:00:07\n",
      "     ---                                      1.4/15.3 MB 2.3 MB/s eta 0:00:07\n",
      "     ---                                      1.5/15.3 MB 2.3 MB/s eta 0:00:06\n",
      "     ----                                     1.6/15.3 MB 2.3 MB/s eta 0:00:06\n",
      "     ----                                     1.7/15.3 MB 2.3 MB/s eta 0:00:06\n",
      "     ----                                     1.8/15.3 MB 2.3 MB/s eta 0:00:06\n",
      "     -----                                    1.9/15.3 MB 2.4 MB/s eta 0:00:06\n",
      "     -----                                    2.0/15.3 MB 2.3 MB/s eta 0:00:06\n",
      "     -----                                    2.1/15.3 MB 2.3 MB/s eta 0:00:06\n",
      "     -----                                    2.2/15.3 MB 2.3 MB/s eta 0:00:06\n",
      "     -----                                    2.3/15.3 MB 2.3 MB/s eta 0:00:06\n",
      "     ------                                   2.4/15.3 MB 2.3 MB/s eta 0:00:06\n",
      "     ------                                   2.5/15.3 MB 2.3 MB/s eta 0:00:06\n",
      "     ------                                   2.5/15.3 MB 2.3 MB/s eta 0:00:06\n",
      "     ------                                   2.7/15.3 MB 2.3 MB/s eta 0:00:06\n",
      "     -------                                  2.7/15.3 MB 2.3 MB/s eta 0:00:06\n",
      "     -------                                  2.8/15.3 MB 2.3 MB/s eta 0:00:06\n",
      "     -------                                  2.9/15.3 MB 2.3 MB/s eta 0:00:06\n",
      "     -------                                  3.0/15.3 MB 2.3 MB/s eta 0:00:06\n",
      "     --------                                 3.1/15.3 MB 2.3 MB/s eta 0:00:06\n",
      "     --------                                 3.2/15.3 MB 2.3 MB/s eta 0:00:06\n",
      "     --------                                 3.3/15.3 MB 2.3 MB/s eta 0:00:06\n",
      "     --------                                 3.4/15.3 MB 2.3 MB/s eta 0:00:06\n",
      "     ---------                                3.4/15.3 MB 2.3 MB/s eta 0:00:06\n",
      "     ---------                                3.6/15.3 MB 2.3 MB/s eta 0:00:06\n",
      "     ---------                                3.6/15.3 MB 2.3 MB/s eta 0:00:06\n",
      "     ---------                                3.7/15.3 MB 2.3 MB/s eta 0:00:06\n",
      "     ---------                                3.8/15.3 MB 2.3 MB/s eta 0:00:05\n",
      "     ----------                               3.9/15.3 MB 2.3 MB/s eta 0:00:05\n",
      "     ----------                               4.0/15.3 MB 2.3 MB/s eta 0:00:05\n",
      "     ----------                               4.1/15.3 MB 2.3 MB/s eta 0:00:05\n",
      "     ----------                               4.2/15.3 MB 2.3 MB/s eta 0:00:05\n",
      "     -----------                              4.3/15.3 MB 2.3 MB/s eta 0:00:05\n",
      "     -----------                              4.4/15.3 MB 2.3 MB/s eta 0:00:05\n",
      "     -----------                              4.4/15.3 MB 2.3 MB/s eta 0:00:05\n",
      "     -----------                              4.5/15.3 MB 2.3 MB/s eta 0:00:05\n",
      "     ------------                             4.6/15.3 MB 2.3 MB/s eta 0:00:05\n",
      "     ------------                             4.8/15.3 MB 2.3 MB/s eta 0:00:05\n",
      "     ------------                             4.9/15.3 MB 2.3 MB/s eta 0:00:05\n",
      "     ------------                             5.0/15.3 MB 2.3 MB/s eta 0:00:05\n",
      "     -------------                            5.0/15.3 MB 2.3 MB/s eta 0:00:05\n",
      "     -------------                            5.1/15.3 MB 2.3 MB/s eta 0:00:05\n",
      "     -------------                            5.2/15.3 MB 2.3 MB/s eta 0:00:05\n",
      "     --------------                           5.6/15.3 MB 2.3 MB/s eta 0:00:05\n",
      "     ---------------                          5.8/15.3 MB 2.3 MB/s eta 0:00:05\n",
      "     ---------------                          6.0/15.3 MB 2.3 MB/s eta 0:00:04\n",
      "     ----------------                         6.2/15.3 MB 2.3 MB/s eta 0:00:04\n",
      "     ----------------                         6.3/15.3 MB 2.3 MB/s eta 0:00:04\n",
      "     ----------------                         6.4/15.3 MB 2.3 MB/s eta 0:00:04\n",
      "     ----------------                         6.5/15.3 MB 2.3 MB/s eta 0:00:04\n",
      "     -----------------                        6.6/15.3 MB 2.3 MB/s eta 0:00:04\n",
      "     -----------------                        6.6/15.3 MB 2.3 MB/s eta 0:00:04\n",
      "     -----------------                        6.7/15.3 MB 2.3 MB/s eta 0:00:04\n",
      "     -----------------                        6.8/15.3 MB 2.3 MB/s eta 0:00:04\n",
      "     ------------------                       6.9/15.3 MB 2.3 MB/s eta 0:00:04\n",
      "     ------------------                       7.0/15.3 MB 2.3 MB/s eta 0:00:04\n",
      "     ------------------                       7.1/15.3 MB 2.3 MB/s eta 0:00:04\n",
      "     ------------------                       7.2/15.3 MB 2.3 MB/s eta 0:00:04\n",
      "     -------------------                      7.3/15.3 MB 2.3 MB/s eta 0:00:04\n",
      "     -------------------                      7.4/15.3 MB 2.3 MB/s eta 0:00:04\n",
      "     -------------------                      7.5/15.3 MB 2.3 MB/s eta 0:00:04\n",
      "     -------------------                      7.6/15.3 MB 2.3 MB/s eta 0:00:04\n",
      "     --------------------                     7.7/15.3 MB 2.3 MB/s eta 0:00:04\n",
      "     --------------------                     7.7/15.3 MB 2.3 MB/s eta 0:00:04\n",
      "     --------------------                     7.8/15.3 MB 2.3 MB/s eta 0:00:04\n",
      "     --------------------                     7.9/15.3 MB 2.3 MB/s eta 0:00:04\n",
      "     --------------------                     8.0/15.3 MB 2.3 MB/s eta 0:00:04\n",
      "     ---------------------                    8.1/15.3 MB 2.3 MB/s eta 0:00:04\n",
      "     ---------------------                    8.2/15.3 MB 2.3 MB/s eta 0:00:04\n",
      "     ---------------------                    8.3/15.3 MB 2.3 MB/s eta 0:00:04\n",
      "     ---------------------                    8.3/15.3 MB 2.3 MB/s eta 0:00:03\n",
      "     ----------------------                   8.4/15.3 MB 2.3 MB/s eta 0:00:03\n",
      "     ----------------------                   8.5/15.3 MB 2.3 MB/s eta 0:00:03\n",
      "     ----------------------                   8.6/15.3 MB 2.3 MB/s eta 0:00:03\n",
      "     ----------------------                   8.7/15.3 MB 2.3 MB/s eta 0:00:03\n",
      "     -----------------------                  8.8/15.3 MB 2.3 MB/s eta 0:00:03\n",
      "     -----------------------                  8.9/15.3 MB 2.3 MB/s eta 0:00:03\n",
      "     -----------------------                  8.9/15.3 MB 2.3 MB/s eta 0:00:03\n",
      "     -----------------------                  9.0/15.3 MB 2.3 MB/s eta 0:00:03\n",
      "     -----------------------                  9.1/15.3 MB 2.3 MB/s eta 0:00:03\n",
      "     ------------------------                 9.2/15.3 MB 2.3 MB/s eta 0:00:03\n",
      "     ------------------------                 9.3/15.3 MB 2.3 MB/s eta 0:00:03\n",
      "     ------------------------                 9.4/15.3 MB 2.3 MB/s eta 0:00:03\n",
      "     ------------------------                 9.5/15.3 MB 2.3 MB/s eta 0:00:03\n",
      "     ------------------------                 9.5/15.3 MB 2.3 MB/s eta 0:00:03\n",
      "     -------------------------                9.6/15.3 MB 2.3 MB/s eta 0:00:03\n",
      "     -------------------------                9.7/15.3 MB 2.3 MB/s eta 0:00:03\n",
      "     -------------------------                9.8/15.3 MB 2.3 MB/s eta 0:00:03\n",
      "     -------------------------                9.9/15.3 MB 2.3 MB/s eta 0:00:03\n",
      "     --------------------------               10.0/15.3 MB 2.3 MB/s eta 0:00:03\n",
      "     --------------------------               10.1/15.3 MB 2.3 MB/s eta 0:00:03\n",
      "     --------------------------               10.1/15.3 MB 2.3 MB/s eta 0:00:03\n",
      "     --------------------------               10.2/15.3 MB 2.3 MB/s eta 0:00:03\n",
      "     ---------------------------              10.3/15.3 MB 2.3 MB/s eta 0:00:03\n",
      "     ---------------------------              10.4/15.3 MB 2.3 MB/s eta 0:00:03\n",
      "     ---------------------------              10.4/15.3 MB 2.3 MB/s eta 0:00:03\n",
      "     ---------------------------              10.5/15.3 MB 2.3 MB/s eta 0:00:03\n",
      "     ---------------------------              10.6/15.3 MB 2.3 MB/s eta 0:00:03\n",
      "     ----------------------------             10.7/15.3 MB 2.3 MB/s eta 0:00:02\n",
      "     ----------------------------             10.8/15.3 MB 2.3 MB/s eta 0:00:02\n",
      "     ----------------------------             10.9/15.3 MB 2.3 MB/s eta 0:00:02\n",
      "     ----------------------------             11.0/15.3 MB 2.3 MB/s eta 0:00:02\n",
      "     -----------------------------            11.1/15.3 MB 2.3 MB/s eta 0:00:02\n",
      "     -----------------------------            11.2/15.3 MB 2.3 MB/s eta 0:00:02\n",
      "     -----------------------------            11.3/15.3 MB 2.3 MB/s eta 0:00:02\n",
      "     -----------------------------            11.3/15.3 MB 2.3 MB/s eta 0:00:02\n",
      "     -----------------------------            11.4/15.3 MB 2.3 MB/s eta 0:00:02\n",
      "     ------------------------------           11.5/15.3 MB 2.3 MB/s eta 0:00:02\n",
      "     ------------------------------           11.6/15.3 MB 2.3 MB/s eta 0:00:02\n",
      "     ------------------------------           11.7/15.3 MB 2.3 MB/s eta 0:00:02\n",
      "     ------------------------------           11.7/15.3 MB 2.2 MB/s eta 0:00:02\n",
      "     ------------------------------           11.8/15.3 MB 2.2 MB/s eta 0:00:02\n",
      "     -------------------------------          11.9/15.3 MB 2.2 MB/s eta 0:00:02\n",
      "     -------------------------------          12.0/15.3 MB 2.2 MB/s eta 0:00:02\n",
      "     -------------------------------          12.0/15.3 MB 2.2 MB/s eta 0:00:02\n",
      "     -------------------------------          12.1/15.3 MB 2.2 MB/s eta 0:00:02\n",
      "     -------------------------------          12.2/15.3 MB 2.2 MB/s eta 0:00:02\n",
      "     --------------------------------         12.2/15.3 MB 2.2 MB/s eta 0:00:02\n",
      "     --------------------------------         12.3/15.3 MB 2.2 MB/s eta 0:00:02\n",
      "     --------------------------------         12.4/15.3 MB 2.2 MB/s eta 0:00:02\n",
      "     --------------------------------         12.5/15.3 MB 2.2 MB/s eta 0:00:02\n",
      "     --------------------------------         12.6/15.3 MB 2.2 MB/s eta 0:00:02\n",
      "     ---------------------------------        12.6/15.3 MB 2.2 MB/s eta 0:00:02\n",
      "     ---------------------------------        12.7/15.3 MB 2.2 MB/s eta 0:00:02\n",
      "     ---------------------------------        12.8/15.3 MB 2.2 MB/s eta 0:00:02\n",
      "     ---------------------------------        12.9/15.3 MB 2.2 MB/s eta 0:00:02\n",
      "     ----------------------------------       13.0/15.3 MB 2.2 MB/s eta 0:00:02\n",
      "     ----------------------------------       13.1/15.3 MB 2.2 MB/s eta 0:00:01\n",
      "     ----------------------------------       13.2/15.3 MB 2.2 MB/s eta 0:00:01\n",
      "     ----------------------------------       13.3/15.3 MB 2.2 MB/s eta 0:00:01\n",
      "     -----------------------------------      13.4/15.3 MB 2.2 MB/s eta 0:00:01\n",
      "     -----------------------------------      13.5/15.3 MB 2.2 MB/s eta 0:00:01\n",
      "     -----------------------------------      13.6/15.3 MB 2.2 MB/s eta 0:00:01\n",
      "     -----------------------------------      13.7/15.3 MB 2.2 MB/s eta 0:00:01\n",
      "     ------------------------------------     13.8/15.3 MB 2.2 MB/s eta 0:00:01\n",
      "     ------------------------------------     13.9/15.3 MB 2.2 MB/s eta 0:00:01\n",
      "     ------------------------------------     14.0/15.3 MB 2.2 MB/s eta 0:00:01\n",
      "     ------------------------------------     14.0/15.3 MB 2.2 MB/s eta 0:00:01\n",
      "     -------------------------------------    14.2/15.3 MB 2.2 MB/s eta 0:00:01\n",
      "     -------------------------------------    14.3/15.3 MB 2.2 MB/s eta 0:00:01\n",
      "     -------------------------------------    14.3/15.3 MB 2.2 MB/s eta 0:00:01\n",
      "     -------------------------------------    14.4/15.3 MB 2.2 MB/s eta 0:00:01\n",
      "     --------------------------------------   14.5/15.3 MB 2.2 MB/s eta 0:00:01\n",
      "     --------------------------------------   14.6/15.3 MB 2.2 MB/s eta 0:00:01\n",
      "     --------------------------------------   14.7/15.3 MB 2.2 MB/s eta 0:00:01\n",
      "     --------------------------------------   14.8/15.3 MB 2.2 MB/s eta 0:00:01\n",
      "     --------------------------------------   14.8/15.3 MB 2.2 MB/s eta 0:00:01\n",
      "     ---------------------------------------  14.9/15.3 MB 2.2 MB/s eta 0:00:01\n",
      "     ---------------------------------------  15.0/15.3 MB 2.2 MB/s eta 0:00:01\n",
      "     ---------------------------------------  15.1/15.3 MB 2.2 MB/s eta 0:00:01\n",
      "     ---------------------------------------  15.2/15.3 MB 2.2 MB/s eta 0:00:01\n",
      "     ---------------------------------------  15.2/15.3 MB 2.2 MB/s eta 0:00:01\n",
      "     ---------------------------------------  15.2/15.3 MB 2.2 MB/s eta 0:00:01\n",
      "     ---------------------------------------  15.2/15.3 MB 2.2 MB/s eta 0:00:01\n",
      "     ---------------------------------------  15.2/15.3 MB 2.2 MB/s eta 0:00:01\n",
      "     ---------------------------------------  15.2/15.3 MB 2.2 MB/s eta 0:00:01\n",
      "     ---------------------------------------  15.2/15.3 MB 2.2 MB/s eta 0:00:01\n",
      "     ---------------------------------------  15.2/15.3 MB 2.2 MB/s eta 0:00:01\n",
      "     ---------------------------------------  15.2/15.3 MB 2.2 MB/s eta 0:00:01\n",
      "     ---------------------------------------  15.2/15.3 MB 2.2 MB/s eta 0:00:01\n",
      "     ---------------------------------------  15.2/15.3 MB 2.2 MB/s eta 0:00:01\n",
      "     ---------------------------------------  15.2/15.3 MB 2.2 MB/s eta 0:00:01\n",
      "     ---------------------------------------  15.2/15.3 MB 2.2 MB/s eta 0:00:01\n",
      "     ---------------------------------------  15.2/15.3 MB 2.2 MB/s eta 0:00:01\n",
      "     ---------------------------------------  15.2/15.3 MB 2.2 MB/s eta 0:00:01\n",
      "     ---------------------------------------  15.2/15.3 MB 2.2 MB/s eta 0:00:01\n",
      "     ---------------------------------------  15.2/15.3 MB 2.2 MB/s eta 0:00:01\n",
      "     ---------------------------------------  15.2/15.3 MB 2.2 MB/s eta 0:00:01\n",
      "     ---------------------------------------  15.2/15.3 MB 2.2 MB/s eta 0:00:01\n",
      "     ---------------------------------------  15.2/15.3 MB 2.2 MB/s eta 0:00:01\n",
      "     ---------------------------------------  15.2/15.3 MB 2.2 MB/s eta 0:00:01\n",
      "     ---------------------------------------  15.2/15.3 MB 2.2 MB/s eta 0:00:01\n",
      "     ---------------------------------------  15.2/15.3 MB 2.2 MB/s eta 0:00:01\n",
      "     ---------------------------------------  15.2/15.3 MB 2.2 MB/s eta 0:00:01\n",
      "     ---------------------------------------  15.2/15.3 MB 2.2 MB/s eta 0:00:01\n",
      "     ---------------------------------------  15.2/15.3 MB 2.2 MB/s eta 0:00:01\n",
      "     ---------------------------------------  15.2/15.3 MB 2.2 MB/s eta 0:00:01\n",
      "     ---------------------------------------  15.2/15.3 MB 2.2 MB/s eta 0:00:01\n",
      "     ---------------------------------------  15.2/15.3 MB 2.2 MB/s eta 0:00:01\n",
      "     ---------------------------------------  15.2/15.3 MB 2.2 MB/s eta 0:00:01\n",
      "     ---------------------------------------  15.2/15.3 MB 2.2 MB/s eta 0:00:01\n",
      "     ---------------------------------------- 15.3/15.3 MB 1.8 MB/s eta 0:00:00\n",
      "Requirement already satisfied: spacy<3.6.0,>=3.5.0 in c:\\users\\андрей\\desktop\\github\\recruiters\\venv\\lib\\site-packages (from ru-core-news-sm==3.5.0) (3.5.4)\n",
      "Requirement already satisfied: pymorphy3>=1.0.0 in c:\\users\\андрей\\desktop\\github\\recruiters\\venv\\lib\\site-packages (from ru-core-news-sm==3.5.0) (1.2.0)\n",
      "Requirement already satisfied: dawg-python>=0.7.1 in c:\\users\\андрей\\desktop\\github\\recruiters\\venv\\lib\\site-packages (from pymorphy3>=1.0.0->ru-core-news-sm==3.5.0) (0.7.2)\n",
      "Requirement already satisfied: docopt>=0.6 in c:\\users\\андрей\\desktop\\github\\recruiters\\venv\\lib\\site-packages (from pymorphy3>=1.0.0->ru-core-news-sm==3.5.0) (0.6.2)\n",
      "Requirement already satisfied: pymorphy3-dicts-ru in c:\\users\\андрей\\desktop\\github\\recruiters\\venv\\lib\\site-packages (from pymorphy3>=1.0.0->ru-core-news-sm==3.5.0) (2.4.417150.4580142)\n",
      "Requirement already satisfied: spacy-legacy<3.1.0,>=3.0.11 in c:\\users\\андрей\\desktop\\github\\recruiters\\venv\\lib\\site-packages (from spacy<3.6.0,>=3.5.0->ru-core-news-sm==3.5.0) (3.0.12)\n",
      "Requirement already satisfied: spacy-loggers<2.0.0,>=1.0.0 in c:\\users\\андрей\\desktop\\github\\recruiters\\venv\\lib\\site-packages (from spacy<3.6.0,>=3.5.0->ru-core-news-sm==3.5.0) (1.0.4)\n",
      "Requirement already satisfied: murmurhash<1.1.0,>=0.28.0 in c:\\users\\андрей\\desktop\\github\\recruiters\\venv\\lib\\site-packages (from spacy<3.6.0,>=3.5.0->ru-core-news-sm==3.5.0) (1.0.9)\n",
      "Requirement already satisfied: cymem<2.1.0,>=2.0.2 in c:\\users\\андрей\\desktop\\github\\recruiters\\venv\\lib\\site-packages (from spacy<3.6.0,>=3.5.0->ru-core-news-sm==3.5.0) (2.0.7)\n",
      "Requirement already satisfied: preshed<3.1.0,>=3.0.2 in c:\\users\\андрей\\desktop\\github\\recruiters\\venv\\lib\\site-packages (from spacy<3.6.0,>=3.5.0->ru-core-news-sm==3.5.0) (3.0.8)\n",
      "Requirement already satisfied: thinc<8.2.0,>=8.1.8 in c:\\users\\андрей\\desktop\\github\\recruiters\\venv\\lib\\site-packages (from spacy<3.6.0,>=3.5.0->ru-core-news-sm==3.5.0) (8.1.10)\n",
      "Requirement already satisfied: wasabi<1.2.0,>=0.9.1 in c:\\users\\андрей\\desktop\\github\\recruiters\\venv\\lib\\site-packages (from spacy<3.6.0,>=3.5.0->ru-core-news-sm==3.5.0) (1.1.2)\n",
      "Requirement already satisfied: srsly<3.0.0,>=2.4.3 in c:\\users\\андрей\\desktop\\github\\recruiters\\venv\\lib\\site-packages (from spacy<3.6.0,>=3.5.0->ru-core-news-sm==3.5.0) (2.4.6)\n",
      "Requirement already satisfied: catalogue<2.1.0,>=2.0.6 in c:\\users\\андрей\\desktop\\github\\recruiters\\venv\\lib\\site-packages (from spacy<3.6.0,>=3.5.0->ru-core-news-sm==3.5.0) (2.0.8)\n",
      "Requirement already satisfied: typer<0.10.0,>=0.3.0 in c:\\users\\андрей\\desktop\\github\\recruiters\\venv\\lib\\site-packages (from spacy<3.6.0,>=3.5.0->ru-core-news-sm==3.5.0) (0.9.0)\n",
      "Requirement already satisfied: pathy>=0.10.0 in c:\\users\\андрей\\desktop\\github\\recruiters\\venv\\lib\\site-packages (from spacy<3.6.0,>=3.5.0->ru-core-news-sm==3.5.0) (0.10.2)\n",
      "Requirement already satisfied: smart-open<7.0.0,>=5.2.1 in c:\\users\\андрей\\desktop\\github\\recruiters\\venv\\lib\\site-packages (from spacy<3.6.0,>=3.5.0->ru-core-news-sm==3.5.0) (6.3.0)\n",
      "Requirement already satisfied: tqdm<5.0.0,>=4.38.0 in c:\\users\\андрей\\desktop\\github\\recruiters\\venv\\lib\\site-packages (from spacy<3.6.0,>=3.5.0->ru-core-news-sm==3.5.0) (4.65.0)\n",
      "Requirement already satisfied: numpy>=1.15.0 in c:\\users\\андрей\\desktop\\github\\recruiters\\venv\\lib\\site-packages (from spacy<3.6.0,>=3.5.0->ru-core-news-sm==3.5.0) (1.25.0)\n",
      "Requirement already satisfied: requests<3.0.0,>=2.13.0 in c:\\users\\андрей\\desktop\\github\\recruiters\\venv\\lib\\site-packages (from spacy<3.6.0,>=3.5.0->ru-core-news-sm==3.5.0) (2.31.0)\n",
      "Requirement already satisfied: pydantic!=1.8,!=1.8.1,<1.11.0,>=1.7.4 in c:\\users\\андрей\\desktop\\github\\recruiters\\venv\\lib\\site-packages (from spacy<3.6.0,>=3.5.0->ru-core-news-sm==3.5.0) (1.10.10)\n",
      "Requirement already satisfied: jinja2 in c:\\users\\андрей\\desktop\\github\\recruiters\\venv\\lib\\site-packages (from spacy<3.6.0,>=3.5.0->ru-core-news-sm==3.5.0) (3.1.2)\n",
      "Requirement already satisfied: setuptools in c:\\users\\андрей\\desktop\\github\\recruiters\\venv\\lib\\site-packages (from spacy<3.6.0,>=3.5.0->ru-core-news-sm==3.5.0) (63.2.0)\n",
      "Requirement already satisfied: packaging>=20.0 in c:\\users\\андрей\\desktop\\github\\recruiters\\venv\\lib\\site-packages (from spacy<3.6.0,>=3.5.0->ru-core-news-sm==3.5.0) (23.1)\n",
      "Requirement already satisfied: langcodes<4.0.0,>=3.2.0 in c:\\users\\андрей\\desktop\\github\\recruiters\\venv\\lib\\site-packages (from spacy<3.6.0,>=3.5.0->ru-core-news-sm==3.5.0) (3.3.0)\n",
      "Requirement already satisfied: typing-extensions>=4.2.0 in c:\\users\\андрей\\desktop\\github\\recruiters\\venv\\lib\\site-packages (from pydantic!=1.8,!=1.8.1,<1.11.0,>=1.7.4->spacy<3.6.0,>=3.5.0->ru-core-news-sm==3.5.0) (4.7.0)\n",
      "Requirement already satisfied: charset-normalizer<4,>=2 in c:\\users\\андрей\\desktop\\github\\recruiters\\venv\\lib\\site-packages (from requests<3.0.0,>=2.13.0->spacy<3.6.0,>=3.5.0->ru-core-news-sm==3.5.0) (3.1.0)\n",
      "Requirement already satisfied: idna<4,>=2.5 in c:\\users\\андрей\\desktop\\github\\recruiters\\venv\\lib\\site-packages (from requests<3.0.0,>=2.13.0->spacy<3.6.0,>=3.5.0->ru-core-news-sm==3.5.0) (3.4)\n",
      "Requirement already satisfied: urllib3<3,>=1.21.1 in c:\\users\\андрей\\desktop\\github\\recruiters\\venv\\lib\\site-packages (from requests<3.0.0,>=2.13.0->spacy<3.6.0,>=3.5.0->ru-core-news-sm==3.5.0) (2.0.3)\n",
      "Requirement already satisfied: certifi>=2017.4.17 in c:\\users\\андрей\\desktop\\github\\recruiters\\venv\\lib\\site-packages (from requests<3.0.0,>=2.13.0->spacy<3.6.0,>=3.5.0->ru-core-news-sm==3.5.0) (2023.5.7)\n",
      "Requirement already satisfied: blis<0.8.0,>=0.7.8 in c:\\users\\андрей\\desktop\\github\\recruiters\\venv\\lib\\site-packages (from thinc<8.2.0,>=8.1.8->spacy<3.6.0,>=3.5.0->ru-core-news-sm==3.5.0) (0.7.9)\n",
      "Requirement already satisfied: confection<1.0.0,>=0.0.1 in c:\\users\\андрей\\desktop\\github\\recruiters\\venv\\lib\\site-packages (from thinc<8.2.0,>=8.1.8->spacy<3.6.0,>=3.5.0->ru-core-news-sm==3.5.0) (0.1.0)\n",
      "Requirement already satisfied: colorama in c:\\users\\андрей\\desktop\\github\\recruiters\\venv\\lib\\site-packages (from tqdm<5.0.0,>=4.38.0->spacy<3.6.0,>=3.5.0->ru-core-news-sm==3.5.0) (0.4.6)\n",
      "Requirement already satisfied: click<9.0.0,>=7.1.1 in c:\\users\\андрей\\desktop\\github\\recruiters\\venv\\lib\\site-packages (from typer<0.10.0,>=0.3.0->spacy<3.6.0,>=3.5.0->ru-core-news-sm==3.5.0) (8.1.3)\n",
      "Requirement already satisfied: MarkupSafe>=2.0 in c:\\users\\андрей\\desktop\\github\\recruiters\\venv\\lib\\site-packages (from jinja2->spacy<3.6.0,>=3.5.0->ru-core-news-sm==3.5.0) (2.1.3)\n",
      "\u001b[38;5;2m✔ Download and installation successful\u001b[0m\n",
      "You can now load the package via spacy.load('ru_core_news_sm')\n"
     ]
    }
   ],
   "source": [
    "! pip install spacy\n",
    "! python -m spacy download ru_core_news_sm"
   ]
  },
  {
   "cell_type": "code",
   "execution_count": 2,
   "metadata": {},
   "outputs": [],
   "source": [
    "import pandas as pd\n",
    "import unicodedata\n",
    "import re\n",
    "import spacy\n",
    "import json\n",
    "import numpy as np\n",
    "from nltk.corpus import stopwords\n",
    "from sklearn.decomposition import LatentDirichletAllocation\n",
    "from sklearn.feature_extraction.text import TfidfVectorizer\n",
    "import os\n",
    "import json"
   ]
  },
  {
   "attachments": {},
   "cell_type": "markdown",
   "metadata": {},
   "source": [
    "# Предобработка данных"
   ]
  },
  {
   "attachments": {},
   "cell_type": "markdown",
   "metadata": {},
   "source": [
    "Загрузим данные"
   ]
  },
  {
   "cell_type": "code",
   "execution_count": 3,
   "metadata": {},
   "outputs": [
    {
     "data": {
      "text/html": [
       "<div>\n",
       "<style scoped>\n",
       "    .dataframe tbody tr th:only-of-type {\n",
       "        vertical-align: middle;\n",
       "    }\n",
       "\n",
       "    .dataframe tbody tr th {\n",
       "        vertical-align: top;\n",
       "    }\n",
       "\n",
       "    .dataframe thead th {\n",
       "        text-align: right;\n",
       "    }\n",
       "</style>\n",
       "<table border=\"1\" class=\"dataframe\">\n",
       "  <thead>\n",
       "    <tr style=\"text-align: right;\">\n",
       "      <th></th>\n",
       "      <th>Unnamed: 0</th>\n",
       "      <th>status</th>\n",
       "      <th>url</th>\n",
       "      <th>text</th>\n",
       "      <th>likes</th>\n",
       "      <th>reposts</th>\n",
       "      <th>comments</th>\n",
       "    </tr>\n",
       "  </thead>\n",
       "  <tbody>\n",
       "    <tr>\n",
       "      <th>0</th>\n",
       "      <td>0</td>\n",
       "      <td>Middle Software Engineer - Yandex</td>\n",
       "      <td>https://www.linkedin.com/in/michilegorov</td>\n",
       "      <td>Всем привет!Выпустил свою первую статью на хаб...</td>\n",
       "      <td>17.0</td>\n",
       "      <td>0.0</td>\n",
       "      <td>0.0</td>\n",
       "    </tr>\n",
       "    <tr>\n",
       "      <th>1</th>\n",
       "      <td>1</td>\n",
       "      <td>Middle Software Engineer - Yandex</td>\n",
       "      <td>https://www.linkedin.com/in/michilegorov</td>\n",
       "      <td>Если вам интересно позалипать в слова, я запус...</td>\n",
       "      <td>6.0</td>\n",
       "      <td>0.0</td>\n",
       "      <td>2.0</td>\n",
       "    </tr>\n",
       "    <tr>\n",
       "      <th>2</th>\n",
       "      <td>2</td>\n",
       "      <td>Middle Software Engineer - Yandex</td>\n",
       "      <td>https://www.linkedin.com/in/michilegorov</td>\n",
       "      <td>Если вам интересно позалипать в слова, я запус...</td>\n",
       "      <td>17.0</td>\n",
       "      <td>6.0</td>\n",
       "      <td>0.0</td>\n",
       "    </tr>\n",
       "  </tbody>\n",
       "</table>\n",
       "</div>"
      ],
      "text/plain": [
       "   Unnamed: 0                             status  \\\n",
       "0           0  Middle Software Engineer - Yandex   \n",
       "1           1  Middle Software Engineer - Yandex   \n",
       "2           2  Middle Software Engineer - Yandex   \n",
       "\n",
       "                                        url  \\\n",
       "0  https://www.linkedin.com/in/michilegorov   \n",
       "1  https://www.linkedin.com/in/michilegorov   \n",
       "2  https://www.linkedin.com/in/michilegorov   \n",
       "\n",
       "                                                text likes  reposts  comments  \n",
       "0  Всем привет!Выпустил свою первую статью на хаб...  17.0      0.0       0.0  \n",
       "1  Если вам интересно позалипать в слова, я запус...   6.0      0.0       2.0  \n",
       "2  Если вам интересно позалипать в слова, я запус...  17.0      6.0       0.0  "
      ]
     },
     "execution_count": 3,
     "metadata": {},
     "output_type": "execute_result"
    }
   ],
   "source": [
    "data = pd.read_csv('csv\\\\full_df.csv', sep=';')\n",
    "data.head(3)"
   ]
  },
  {
   "cell_type": "code",
   "execution_count": 4,
   "metadata": {},
   "outputs": [
    {
     "name": "stdout",
     "output_type": "stream",
     "text": [
      "<class 'pandas.core.frame.DataFrame'>\n",
      "RangeIndex: 11238 entries, 0 to 11237\n",
      "Data columns (total 7 columns):\n",
      " #   Column      Non-Null Count  Dtype  \n",
      "---  ------      --------------  -----  \n",
      " 0   Unnamed: 0  11238 non-null  int64  \n",
      " 1   status      11238 non-null  object \n",
      " 2   url         11238 non-null  object \n",
      " 3   text        11238 non-null  object \n",
      " 4   likes       11081 non-null  object \n",
      " 5   reposts     10908 non-null  float64\n",
      " 6   comments    10902 non-null  float64\n",
      "dtypes: float64(2), int64(1), object(4)\n",
      "memory usage: 614.7+ KB\n"
     ]
    }
   ],
   "source": [
    "data.info()"
   ]
  },
  {
   "cell_type": "code",
   "execution_count": 5,
   "metadata": {},
   "outputs": [],
   "source": [
    "data = data.drop(columns='Unnamed: 0', axis=1)"
   ]
  },
  {
   "attachments": {},
   "cell_type": "markdown",
   "metadata": {},
   "source": [
    "Отфильтруем данные по количеству символов в постах. Оставим посты только длиннее 100 символов."
   ]
  },
  {
   "cell_type": "code",
   "execution_count": 6,
   "metadata": {},
   "outputs": [
    {
     "name": "stdout",
     "output_type": "stream",
     "text": [
      "Количество постов с 100+ символами: 8556\n"
     ]
    },
    {
     "data": {
      "text/html": [
       "<div>\n",
       "<style scoped>\n",
       "    .dataframe tbody tr th:only-of-type {\n",
       "        vertical-align: middle;\n",
       "    }\n",
       "\n",
       "    .dataframe tbody tr th {\n",
       "        vertical-align: top;\n",
       "    }\n",
       "\n",
       "    .dataframe thead th {\n",
       "        text-align: right;\n",
       "    }\n",
       "</style>\n",
       "<table border=\"1\" class=\"dataframe\">\n",
       "  <thead>\n",
       "    <tr style=\"text-align: right;\">\n",
       "      <th></th>\n",
       "      <th>status</th>\n",
       "      <th>url</th>\n",
       "      <th>text</th>\n",
       "      <th>likes</th>\n",
       "      <th>reposts</th>\n",
       "      <th>comments</th>\n",
       "      <th>text_len</th>\n",
       "    </tr>\n",
       "  </thead>\n",
       "  <tbody>\n",
       "    <tr>\n",
       "      <th>0</th>\n",
       "      <td>Middle Software Engineer - Yandex</td>\n",
       "      <td>https://www.linkedin.com/in/michilegorov</td>\n",
       "      <td>Всем привет!Выпустил свою первую статью на хаб...</td>\n",
       "      <td>17.0</td>\n",
       "      <td>0.0</td>\n",
       "      <td>0.0</td>\n",
       "      <td>295</td>\n",
       "    </tr>\n",
       "    <tr>\n",
       "      <th>1</th>\n",
       "      <td>Middle Software Engineer - Yandex</td>\n",
       "      <td>https://www.linkedin.com/in/michilegorov</td>\n",
       "      <td>Если вам интересно позалипать в слова, я запус...</td>\n",
       "      <td>6.0</td>\n",
       "      <td>0.0</td>\n",
       "      <td>2.0</td>\n",
       "      <td>117</td>\n",
       "    </tr>\n",
       "    <tr>\n",
       "      <th>2</th>\n",
       "      <td>Middle Software Engineer - Yandex</td>\n",
       "      <td>https://www.linkedin.com/in/michilegorov</td>\n",
       "      <td>Если вам интересно позалипать в слова, я запус...</td>\n",
       "      <td>17.0</td>\n",
       "      <td>6.0</td>\n",
       "      <td>0.0</td>\n",
       "      <td>117</td>\n",
       "    </tr>\n",
       "  </tbody>\n",
       "</table>\n",
       "</div>"
      ],
      "text/plain": [
       "                              status  \\\n",
       "0  Middle Software Engineer - Yandex   \n",
       "1  Middle Software Engineer - Yandex   \n",
       "2  Middle Software Engineer - Yandex   \n",
       "\n",
       "                                        url  \\\n",
       "0  https://www.linkedin.com/in/michilegorov   \n",
       "1  https://www.linkedin.com/in/michilegorov   \n",
       "2  https://www.linkedin.com/in/michilegorov   \n",
       "\n",
       "                                                text likes  reposts  comments  \\\n",
       "0  Всем привет!Выпустил свою первую статью на хаб...  17.0      0.0       0.0   \n",
       "1  Если вам интересно позалипать в слова, я запус...   6.0      0.0       2.0   \n",
       "2  Если вам интересно позалипать в слова, я запус...  17.0      6.0       0.0   \n",
       "\n",
       "   text_len  \n",
       "0       295  \n",
       "1       117  \n",
       "2       117  "
      ]
     },
     "execution_count": 6,
     "metadata": {},
     "output_type": "execute_result"
    }
   ],
   "source": [
    "data['text_len'] = data.loc[:, 'text'].apply(lambda x: len(x))\n",
    "data_filtered_by_text_len = data.query('text_len > 100')\n",
    "print(f'Количество постов с 100+ символами: {data_filtered_by_text_len.shape[0]}')\n",
    "data_filtered_by_text_len.head(3)"
   ]
  },
  {
   "attachments": {},
   "cell_type": "markdown",
   "metadata": {},
   "source": [
    "Для обработки нам нужны только посты на кириллице. Отфильтруем посты содержащие кириллицу."
   ]
  },
  {
   "cell_type": "code",
   "execution_count": 7,
   "metadata": {},
   "outputs": [
    {
     "name": "stdout",
     "output_type": "stream",
     "text": [
      "Текстов на кириллице: 1960\n"
     ]
    },
    {
     "data": {
      "text/html": [
       "<div>\n",
       "<style scoped>\n",
       "    .dataframe tbody tr th:only-of-type {\n",
       "        vertical-align: middle;\n",
       "    }\n",
       "\n",
       "    .dataframe tbody tr th {\n",
       "        vertical-align: top;\n",
       "    }\n",
       "\n",
       "    .dataframe thead th {\n",
       "        text-align: right;\n",
       "    }\n",
       "</style>\n",
       "<table border=\"1\" class=\"dataframe\">\n",
       "  <thead>\n",
       "    <tr style=\"text-align: right;\">\n",
       "      <th></th>\n",
       "      <th>status</th>\n",
       "      <th>url</th>\n",
       "      <th>text</th>\n",
       "      <th>likes</th>\n",
       "      <th>reposts</th>\n",
       "      <th>comments</th>\n",
       "      <th>text_len</th>\n",
       "    </tr>\n",
       "  </thead>\n",
       "  <tbody>\n",
       "    <tr>\n",
       "      <th>0</th>\n",
       "      <td>Middle Software Engineer - Yandex</td>\n",
       "      <td>https://www.linkedin.com/in/michilegorov</td>\n",
       "      <td>Всем привет!Выпустил свою первую статью на хаб...</td>\n",
       "      <td>17.0</td>\n",
       "      <td>0.0</td>\n",
       "      <td>0.0</td>\n",
       "      <td>295</td>\n",
       "    </tr>\n",
       "    <tr>\n",
       "      <th>1</th>\n",
       "      <td>Middle Software Engineer - Yandex</td>\n",
       "      <td>https://www.linkedin.com/in/michilegorov</td>\n",
       "      <td>Если вам интересно позалипать в слова, я запус...</td>\n",
       "      <td>6.0</td>\n",
       "      <td>0.0</td>\n",
       "      <td>2.0</td>\n",
       "      <td>117</td>\n",
       "    </tr>\n",
       "    <tr>\n",
       "      <th>2</th>\n",
       "      <td>Middle Software Engineer - Yandex</td>\n",
       "      <td>https://www.linkedin.com/in/michilegorov</td>\n",
       "      <td>Если вам интересно позалипать в слова, я запус...</td>\n",
       "      <td>17.0</td>\n",
       "      <td>6.0</td>\n",
       "      <td>0.0</td>\n",
       "      <td>117</td>\n",
       "    </tr>\n",
       "  </tbody>\n",
       "</table>\n",
       "</div>"
      ],
      "text/plain": [
       "                              status  \\\n",
       "0  Middle Software Engineer - Yandex   \n",
       "1  Middle Software Engineer - Yandex   \n",
       "2  Middle Software Engineer - Yandex   \n",
       "\n",
       "                                        url  \\\n",
       "0  https://www.linkedin.com/in/michilegorov   \n",
       "1  https://www.linkedin.com/in/michilegorov   \n",
       "2  https://www.linkedin.com/in/michilegorov   \n",
       "\n",
       "                                                text likes  reposts  comments  \\\n",
       "0  Всем привет!Выпустил свою первую статью на хаб...  17.0      0.0       0.0   \n",
       "1  Если вам интересно позалипать в слова, я запус...   6.0      0.0       2.0   \n",
       "2  Если вам интересно позалипать в слова, я запус...  17.0      6.0       0.0   \n",
       "\n",
       "   text_len  \n",
       "0       295  \n",
       "1       117  \n",
       "2       117  "
      ]
     },
     "execution_count": 7,
     "metadata": {},
     "output_type": "execute_result"
    }
   ],
   "source": [
    "data_cyrillic = data_filtered_by_text_len[data_filtered_by_text_len['text'].apply(lambda x: re.match(r'[А-Яа-я]+', x) is not None)]\n",
    "\n",
    "print(f'Текстов на кириллице: {data_cyrillic.shape[0]}')\n",
    "data_cyrillic.head(3)"
   ]
  },
  {
   "attachments": {},
   "cell_type": "markdown",
   "metadata": {},
   "source": [
    "Удалим дубликаты в столбце с текстами"
   ]
  },
  {
   "cell_type": "code",
   "execution_count": 8,
   "metadata": {},
   "outputs": [
    {
     "name": "stdout",
     "output_type": "stream",
     "text": [
      "Осталось 1862 строк\n"
     ]
    },
    {
     "data": {
      "text/html": [
       "<div>\n",
       "<style scoped>\n",
       "    .dataframe tbody tr th:only-of-type {\n",
       "        vertical-align: middle;\n",
       "    }\n",
       "\n",
       "    .dataframe tbody tr th {\n",
       "        vertical-align: top;\n",
       "    }\n",
       "\n",
       "    .dataframe thead th {\n",
       "        text-align: right;\n",
       "    }\n",
       "</style>\n",
       "<table border=\"1\" class=\"dataframe\">\n",
       "  <thead>\n",
       "    <tr style=\"text-align: right;\">\n",
       "      <th></th>\n",
       "      <th>status</th>\n",
       "      <th>url</th>\n",
       "      <th>text</th>\n",
       "      <th>likes</th>\n",
       "      <th>reposts</th>\n",
       "      <th>comments</th>\n",
       "      <th>text_len</th>\n",
       "    </tr>\n",
       "  </thead>\n",
       "  <tbody>\n",
       "    <tr>\n",
       "      <th>0</th>\n",
       "      <td>Middle Software Engineer - Yandex</td>\n",
       "      <td>https://www.linkedin.com/in/michilegorov</td>\n",
       "      <td>Всем привет!Выпустил свою первую статью на хаб...</td>\n",
       "      <td>17.0</td>\n",
       "      <td>0.0</td>\n",
       "      <td>0.0</td>\n",
       "      <td>295</td>\n",
       "    </tr>\n",
       "    <tr>\n",
       "      <th>1</th>\n",
       "      <td>Middle Software Engineer - Yandex</td>\n",
       "      <td>https://www.linkedin.com/in/michilegorov</td>\n",
       "      <td>Если вам интересно позалипать в слова, я запус...</td>\n",
       "      <td>6.0</td>\n",
       "      <td>0.0</td>\n",
       "      <td>2.0</td>\n",
       "      <td>117</td>\n",
       "    </tr>\n",
       "    <tr>\n",
       "      <th>6</th>\n",
       "      <td>Talent Acquisition Manager | Recruitment Lead ...</td>\n",
       "      <td>https://www.linkedin.com/in/dariaivanova</td>\n",
       "      <td>С трепетом готов представить свой продукт. Реф...</td>\n",
       "      <td>8.0</td>\n",
       "      <td>0.0</td>\n",
       "      <td>0.0</td>\n",
       "      <td>841</td>\n",
       "    </tr>\n",
       "  </tbody>\n",
       "</table>\n",
       "</div>"
      ],
      "text/plain": [
       "                                              status  \\\n",
       "0                  Middle Software Engineer - Yandex   \n",
       "1                  Middle Software Engineer - Yandex   \n",
       "6  Talent Acquisition Manager | Recruitment Lead ...   \n",
       "\n",
       "                                        url  \\\n",
       "0  https://www.linkedin.com/in/michilegorov   \n",
       "1  https://www.linkedin.com/in/michilegorov   \n",
       "6  https://www.linkedin.com/in/dariaivanova   \n",
       "\n",
       "                                                text likes  reposts  comments  \\\n",
       "0  Всем привет!Выпустил свою первую статью на хаб...  17.0      0.0       0.0   \n",
       "1  Если вам интересно позалипать в слова, я запус...   6.0      0.0       2.0   \n",
       "6  С трепетом готов представить свой продукт. Реф...   8.0      0.0       0.0   \n",
       "\n",
       "   text_len  \n",
       "0       295  \n",
       "1       117  \n",
       "6       841  "
      ]
     },
     "execution_count": 8,
     "metadata": {},
     "output_type": "execute_result"
    }
   ],
   "source": [
    "data_dd = data_cyrillic.drop_duplicates('text')\n",
    "print(f'Осталось {data_dd.shape[0]} строк')\n",
    "data_dd.head(3)"
   ]
  },
  {
   "attachments": {},
   "cell_type": "markdown",
   "metadata": {},
   "source": [
    "# Подготовка текстов"
   ]
  },
  {
   "cell_type": "code",
   "execution_count": 9,
   "metadata": {},
   "outputs": [],
   "source": [
    "model = spacy.load('ru_core_news_sm', disable=['ner', 'parser'])"
   ]
  },
  {
   "attachments": {},
   "cell_type": "markdown",
   "metadata": {},
   "source": [
    "Складываем все посты в один список"
   ]
  },
  {
   "cell_type": "code",
   "execution_count": 10,
   "metadata": {},
   "outputs": [],
   "source": [
    "texts = data_dd[\"text\"].tolist()"
   ]
  },
  {
   "attachments": {},
   "cell_type": "markdown",
   "metadata": {},
   "source": [
    "Выполняем лемматизацию текстов. Наберитесь терпения - это долгий процесс, который может занять около часа."
   ]
  },
  {
   "cell_type": "code",
   "execution_count": 11,
   "metadata": {},
   "outputs": [],
   "source": [
    "if os.path.exists('lemmas.json'):\n",
    "    with open(\"lemmas.json\") as f:\n",
    "        res = json.load(f)['lemmas']\n",
    "else:\n",
    "    res = []\n",
    "    for doc in model.pipe(texts, disable=[\"tagger\", \"parser\"]):\n",
    "        res.append([token.lemma_ for token in doc])\n",
    "\n",
    "    with open(\"lemmas.json\", \"w\") as fid:\n",
    "        json.dump({\"lemmas\": res}, fid)"
   ]
  },
  {
   "attachments": {},
   "cell_type": "markdown",
   "metadata": {},
   "source": [
    "Смотрим на результат - случайным образом сэмплируем несколько примеров"
   ]
  },
  {
   "cell_type": "code",
   "execution_count": 12,
   "metadata": {},
   "outputs": [
    {
     "data": {
      "text/plain": [
       "'разбирать, сегодня, на, карьерный, консультация, с, клиент, переход, из, менеджерский, роль, с, технический, -, в, it, ., как, и, многие, сейчас, ,, клиент, решить, ,, что, сфера, it, наиболее, перспективный, и, открывать, более, лёгкий, возможность, для, удалённый, работа, из, любой, удобный, точка, с, наличие, крепкий, wi, -, fi, (, а, у, клиент, мечта, -, перевезти, семья, через, пара, год, близкий, к, морю).что, сделать, :, ✅, поработали, с, резюме, :, упаковали, предыдущий, опыт, ,, выделить, из, него, полезный, навык, для, будущий, роль, ,, сделать, более, функциональный, и, информативный, с, точка, зрение, профиль, ;, ✅, добавить, пройти, хороший, обучение, по, специализация, и, пройденные, тестовый, задание, в, качество, начальный, портфолио, ;, ✅, передать, внушительный, список, сайт, ,, канал, для, самостоятельный, отслеживание, отраслевой, вакансия, и, публикация, резюме, ;, ✅, дать, задание, на, анализ, рынок, компания, -, клиент, интересный, определённый, направление, в, it, ., предстоять, ещё, оформить, достойно, профиль, в, linkedin, и, быть, отлично, через, про, час, после, обновить, cv, прийти, самостоятельный, звонок, от, рекрутер, и, пойти, просмотр, -, уж, не, знать, ,, совпадение, ли?будем, наблюдать, за, статистика, ,, а, то, отклик, совсем, не, было, неделя, ., #, карьерныйконсультант, #, поискработы, #, резюме'"
      ]
     },
     "execution_count": 12,
     "metadata": {},
     "output_type": "execute_result"
    }
   ],
   "source": [
    "\", \".join(res[np.random.randint(len(res))])"
   ]
  },
  {
   "cell_type": "code",
   "execution_count": 13,
   "metadata": {},
   "outputs": [
    {
     "data": {
      "text/plain": [
       "'опенспейсы, -, одна, из, главный, причина, ,, по, которой, я, предпочитать, только, удалить, работа, ., Конечно, ,, не, единственный, ,, также, я, любить, экономить, время, на, дорога, и, жить, там, ,, где, мне, хотеться, ,, а, не, близкий, к, офис, ., быть, ещё, куча, фактор, ,, по, которым, удалённый, работа, намного, хороший, офисный, ,, но, я, не, видеть, ни, одного, плюс, у, офис, ., весь, этот, аргумент, ,, наподобие, :, общение, с, коллега, и, прочие, формулировка, ,, относиться, к, коммуникация, не, являться, весомымм, аргумент, в, современный, мир, ,, где, быть, интернет, ,, куча, мессенджер, и, прочего, ., да, и, согласиться, ,, письмо, куда, крутой, ,, чем, разговор, ., в, первый, ,, никакой, потеря, время, на, междометие, и, прочий, звуковой, мусор, ., в, второй, ,, когда, писать, -, чёткий, формулировать, свой, мысль, ., а, в, третий, ,, в, любой, момент, можно, перечитать, написанное, ., удалить, сотрудник, также, выгодный, и, работодатель, ., не, нужный, тратить, деньга, на, он, рабочий, место, ,, электроэнергия, и, прочие, затрата, ,, как, чай, ,, печенька, и, другию, плюшка, ., единственный, ,, не, каждый, менеджер, мочь, управлять, удалённый, сотрудник, ,, не, каждый, лид, справляться, с, такой, задача, ,, и, почему, -, то, ответственность, за, это, перекладываться, на, удаленщика, ,, хотя, казаться, бы, ,, скилы, отсутствовать, у, управлять, часть, ., поработать, какой, -, тот, время, удалённый, ,, я, четко, понимать, ,, что, сложный, быть, убедить, меня, вернуться, в, офис, ., Хотя, кто, знать, ...'"
      ]
     },
     "execution_count": 13,
     "metadata": {},
     "output_type": "execute_result"
    }
   ],
   "source": [
    "\", \".join(res[np.random.randint(len(res))])"
   ]
  },
  {
   "attachments": {},
   "cell_type": "markdown",
   "metadata": {},
   "source": [
    "Удалим знаки препинания, цифры и слова, содержащие цифры. Для это соберём регулярное выражение, которое подходит для любого слова, состоящего из букв кирилицы."
   ]
  },
  {
   "cell_type": "code",
   "execution_count": 14,
   "metadata": {},
   "outputs": [],
   "source": [
    "word_pattern = re.compile(\"^[а-я]*$\")\n",
    "\n",
    "def remove_symbols(doc):\n",
    "    return [token for token in doc if word_pattern.match(token)]\n",
    "\n",
    "corpus = list(map(remove_symbols, res))"
   ]
  },
  {
   "cell_type": "code",
   "execution_count": 15,
   "metadata": {},
   "outputs": [
    {
     "data": {
      "text/plain": [
       "'популярный, вид, сайт, для, бизнес, одностраничный, сайт, нужный, для, того, чтобы, быстро, конвертировать, клиент, одним, из, вид, такой, сайт, целевой, назначение, которого, превратить, обычный, посетитель, в, покупатель, подписчик, и, побудить, его, к, какой, либо, конкретный, действие, подписаться, на, рассылка, или, просто, зарегистрироваться, на, сайт, скачать, прайс, или, книга, ознакомить, клиент, с, акция, или, мероприятие, и, пробудить, в, нем, желание, прийти, именно, к, вам, информация, на, такой, сайт, подаваться, емко, красочно, броско, метод, уникальный, дизайн, сайт, визитка, знакомить, потенциальный, клиент, с, ваш, компания, ваш, товар, или, услуга, и, предоставлять, связь, клиент, с, вами, у, этот, сайт, нет, цель, сделать, какой, то, супер, популярный, площадка, в, среднее, сайт, визитка, занимать, всего, страница, он, содержать, информация, о, компания, товар, услуга, местонахождение, блог, статья, полный, статья'"
      ]
     },
     "execution_count": 15,
     "metadata": {},
     "output_type": "execute_result"
    }
   ],
   "source": [
    "\", \".join(corpus[np.random.randint(len(corpus))])"
   ]
  },
  {
   "attachments": {},
   "cell_type": "markdown",
   "metadata": {},
   "source": [
    "# Векторизация текстов"
   ]
  },
  {
   "attachments": {},
   "cell_type": "markdown",
   "metadata": {},
   "source": [
    "Теперь необходимо перевести тексты новостей и слова, из которых они состоят, в числовое представление, т.е. провести векторизацию. Для этого можно использовать подход \"мешок слов\" (Bag of Words) или Tf-iDf. Второй вариант нравится мне больше."
   ]
  },
  {
   "attachments": {},
   "cell_type": "markdown",
   "metadata": {},
   "source": [
    "Чтобы уменьшить размерность получаемой матрицы, добавим исключение стоп-слов."
   ]
  },
  {
   "cell_type": "code",
   "execution_count": 16,
   "metadata": {},
   "outputs": [
    {
     "name": "stdout",
     "output_type": "stream",
     "text": [
      "['и', 'в', 'во', 'не', 'что', 'он', 'на', 'я', 'с', 'со', 'как', 'а', 'то', 'все', 'она', 'так', 'его', 'но', 'да', 'ты', 'к', 'у', 'же', 'вы', 'за', 'бы', 'по', 'только', 'ее', 'мне', 'было', 'вот', 'от', 'меня', 'еще', 'нет', 'о', 'из', 'ему', 'теперь', 'когда', 'даже', 'ну', 'вдруг', 'ли', 'если', 'уже', 'или', 'ни', 'быть', 'был', 'него', 'до', 'вас', 'нибудь', 'опять', 'уж', 'вам', 'ведь', 'там', 'потом', 'себя', 'ничего', 'ей', 'может', 'они', 'тут', 'где', 'есть', 'надо', 'ней', 'для', 'мы', 'тебя', 'их', 'чем', 'была', 'сам', 'чтоб', 'без', 'будто', 'чего', 'раз', 'тоже', 'себе', 'под', 'будет', 'ж', 'тогда', 'кто', 'этот', 'того', 'потому', 'этого', 'какой', 'совсем', 'ним', 'здесь', 'этом', 'один', 'почти', 'мой', 'тем', 'чтобы', 'нее', 'сейчас', 'были', 'куда', 'зачем', 'всех', 'никогда', 'можно', 'при', 'наконец', 'два', 'об', 'другой', 'хоть', 'после', 'над', 'больше', 'тот', 'через', 'эти', 'нас', 'про', 'всего', 'них', 'какая', 'много', 'разве', 'три', 'эту', 'моя', 'впрочем', 'хорошо', 'свою', 'этой', 'перед', 'иногда', 'лучше', 'чуть', 'том', 'нельзя', 'такой', 'им', 'более', 'всегда', 'конечно', 'всю', 'между']\n"
     ]
    }
   ],
   "source": [
    "stop_words = stopwords.words('russian')\n",
    "print(stop_words)"
   ]
  },
  {
   "cell_type": "code",
   "execution_count": 17,
   "metadata": {},
   "outputs": [],
   "source": [
    "tfidf = TfidfVectorizer(stop_words=stop_words, min_df=10, max_df=0.9)"
   ]
  },
  {
   "attachments": {},
   "cell_type": "markdown",
   "metadata": {},
   "source": [
    "Т.е. TfIdfVectorizer принимает на вход список предложений, поэтому необходимо объединить списки слов, составляющих корпус, в предложения."
   ]
  },
  {
   "cell_type": "code",
   "execution_count": 18,
   "metadata": {},
   "outputs": [
    {
     "data": {
      "text/plain": [
       "['всем свой первый статья на про история и технология разработка игра и как мы создать игра с элемент машинный обучение и выйти в ноль за месяцапри внимательный прочтение вы даже смочь запустить первый версия игра',\n",
       " 'если вам интересный позалипать в слово я запустить понравиться брат шникам',\n",
       " 'с трепет готовый представить свой продукт рефни первый сервис реферального рекрутинг в ит на нем каждый мочь посоветовать знакомого на открытый позиция в компания и получить за рекомендация денежный вознаграждение идея создание внешний реферального сервис зародиться у меня давно в период пандемия я посоветовать пара человек на хороший должность в разный компания их взять все счастливый тогда я и подумать пора создание команда подготовка тз изучение самых разный нюанс о которых я ранний не знать и самое волнительный поиск инвестор все получиться и весь это теперь позади а впереди только постоянный развитие продукт посмотреть что у нас выйти быть благодарный если вы поддержать меня и мой команда репостом а также подпишитесь на наш канал в телеграме']"
      ]
     },
     "execution_count": 18,
     "metadata": {},
     "output_type": "execute_result"
    }
   ],
   "source": [
    "docs = [\" \".join(tokens) for tokens in corpus]\n",
    "docs[:3]"
   ]
  },
  {
   "cell_type": "code",
   "execution_count": 19,
   "metadata": {},
   "outputs": [],
   "source": [
    "x = tfidf.fit_transform(docs)"
   ]
  },
  {
   "cell_type": "code",
   "execution_count": 20,
   "metadata": {},
   "outputs": [
    {
     "data": {
      "text/plain": [
       "(1862, 1635)"
      ]
     },
     "execution_count": 20,
     "metadata": {},
     "output_type": "execute_result"
    }
   ],
   "source": [
    "x.shape"
   ]
  },
  {
   "attachments": {},
   "cell_type": "markdown",
   "metadata": {},
   "source": [
    "Теперь составим словарь {id_токена: токен} - он пригодится нам позднее."
   ]
  },
  {
   "cell_type": "code",
   "execution_count": 21,
   "metadata": {},
   "outputs": [],
   "source": [
    "id2word = {i: token for i, token in enumerate(tfidf.get_feature_names_out())}"
   ]
  },
  {
   "attachments": {},
   "cell_type": "markdown",
   "metadata": {},
   "source": [
    "# LDA"
   ]
  },
  {
   "attachments": {},
   "cell_type": "markdown",
   "metadata": {},
   "source": [
    "Теперь можем запустить алгоритм LDA. Зададим количество тем равное 20."
   ]
  },
  {
   "cell_type": "code",
   "execution_count": 22,
   "metadata": {},
   "outputs": [],
   "source": [
    "N_TOPICS = 10"
   ]
  },
  {
   "cell_type": "code",
   "execution_count": 23,
   "metadata": {},
   "outputs": [],
   "source": [
    "lda = LatentDirichletAllocation(n_components=N_TOPICS, random_state=765)"
   ]
  },
  {
   "cell_type": "code",
   "execution_count": 24,
   "metadata": {},
   "outputs": [],
   "source": [
    "topics = lda.fit_transform(x)"
   ]
  },
  {
   "cell_type": "code",
   "execution_count": 25,
   "metadata": {},
   "outputs": [
    {
     "data": {
      "text/plain": [
       "(1862, 10)"
      ]
     },
     "execution_count": 25,
     "metadata": {},
     "output_type": "execute_result"
    }
   ],
   "source": [
    "topics.shape"
   ]
  },
  {
   "attachments": {},
   "cell_type": "markdown",
   "metadata": {},
   "source": [
    "Получили массив размера 1862x20. Строки здесь - отдельные тексты, а колонки - 20 выделенных тем. В каждой ячейке стоит вероятность того, что данный текст относится к данной теме. Это то самое распределение тем над документами."
   ]
  },
  {
   "attachments": {},
   "cell_type": "markdown",
   "metadata": {},
   "source": [
    "## Ключевые слова"
   ]
  },
  {
   "attachments": {},
   "cell_type": "markdown",
   "metadata": {},
   "source": [
    "Теперь извлечём ключевые слова для каждой из 20 тем. В свойсте components _ лежит матрица соответствия слов темам. Пройдёмся по каждой из 20 выделенных тем и для каждой возьмём ТОП-20 слов."
   ]
  },
  {
   "attachments": {},
   "cell_type": "markdown",
   "metadata": {},
   "source": [
    "По очереди пройдёмся по каждой теме (первое измерение массиа) и выберем ТОП-20 слов, наиболее характерных для этой темы. Потом по индексу слова обратимся к словарю и узнаем, что это за слово."
   ]
  },
  {
   "cell_type": "code",
   "execution_count": 26,
   "metadata": {},
   "outputs": [
    {
     "name": "stdout",
     "output_type": "stream",
     "text": [
      "Тема 1 :\n",
      "задача, сделать, новый, хотеть, курс, делать, работать, первый, которые, нужный, вопрос, очень, год, время, весь, работа, человек, мочь, свой, это\n",
      "\n",
      " \n",
      "Тема 2 :\n",
      "буде, ваш, може, чи, свой, ви, або, якщо, проект, можна, але, роботи, також, день, ми, це, час, наш, як, що\n",
      "\n",
      " \n",
      "Тема 3 :\n",
      "приложение, возможность, всем, привет, знание, специалист, продукт, новый, бизнес, год, искать, вакансия, разработчик, наш, компания, разработка, проект, опыт, работа, команда\n",
      "\n",
      " \n",
      "Тема 4 :\n",
      "новый, поддержка, карьерный, совет, предложить, поиск, рекомендация, контакт, ваш, заранее, здравствовать, благодарить, хотеть, возможность, пройти, следующий, проверка, значок, тест, навык\n",
      "\n",
      " \n",
      "Тема 5 :\n",
      "рассказать, коллега, декабрь, бот, движение, вебинар, технология, приглашать, достижение, зп, кейс, мир, рассказывать, форум, обеспечение, кибербезопасность, инфобез, сегодня, иб, добрый\n",
      "\n",
      " \n",
      "Тема 6 :\n",
      "заходить, приводить, сайт, программа, яндекс, стажировка, стартовать, обновить, управлениепроектами, погнать, конверсия, лендинг, сертификат, работа, новый, компания, начинать, должность, удовольствие, сообщать\n",
      "\n",
      " \n",
      "Тема 7 :\n",
      "подборка, разбираться, карточка, видео, знать, музыка, стартап, нанимать, сменить, цена, менеджмент, старт, новый, войтивайти, стать, линкедин, ребятам, рок, психология, подкаст\n",
      "\n",
      " \n",
      "Тема 8 :\n",
      "репостам, работа, локация, подробность, рад, код, искать, разработчик, пакет, предложение, находиться, благодарный, лайк, всем, привет, поиск, ищу, инфобез, иб, кибербезопасность\n",
      "\n",
      " \n",
      "Тема 9 :\n",
      "буде, посетить, дизайн, веб, консалтинг, пользовательский, обучениеснуля, проектноеуправление, системнаяаналитика, сообщать, бизнес, управление, приложение, радость, оказывать, услуги, страница, просмотреть, услуга, разработка\n",
      "\n",
      " \n",
      "Тема 10 :\n",
      "увеличить, кофе, интересный, классный, достаточно, сегодня, наш, реальный, размер, нейросети, бот, фильм, новость, вакансия, кстати, обновить, машинноеобучение, компьютерноезрение, распознавание, переход\n",
      "\n",
      " \n"
     ]
    }
   ],
   "source": [
    "for i in range(N_TOPICS):\n",
    "    c = lda.components_[i, :]\n",
    "    topic_tokens = [id2word.get(token_id) for token_id in np.argsort(c)[-20:]]\n",
    "    print(\"Тема\",i+1, \":\")\n",
    "    print(\", \".join(topic_tokens))\n",
    "    print(\"\\n \")"
   ]
  },
  {
   "attachments": {},
   "cell_type": "markdown",
   "metadata": {},
   "source": [
    "По полученным ключевым словам можно составить представление о содержании той или иной темы. Хотя иногда сочетания слов довольно странные )"
   ]
  },
  {
   "attachments": {},
   "cell_type": "markdown",
   "metadata": {},
   "source": [
    "## Типичные статьи"
   ]
  },
  {
   "attachments": {},
   "cell_type": "markdown",
   "metadata": {},
   "source": [
    "Теперь для каждой темы возьмём по одному документу, который хорошо соответсвует этой теме. Для этого заглянем в массив topics."
   ]
  },
  {
   "cell_type": "code",
   "execution_count": 27,
   "metadata": {},
   "outputs": [
    {
     "name": "stdout",
     "output_type": "stream",
     "text": [
      "Тема  0\n",
      "Всем привет.Сегодняшняя тема навеяна книгой Барбары Шер, о которой писал ранее “О чем мечтать”.Осторожно, затрагиваются психологические аспекты, а не только карьерные ❗️Особый тип людей - бунтари против обыденности часть 1. 💪История из моей жизни.У меня есть знакомые, у которых очень точные и понятные мечты – “Хочу яхту и быть ее капитаном” ☄️, “Я прекрасный (дизайнер, конструктор, просто человек) и хочу, что бы мир дал мне то, что мне причитается (богатство, славу, признание)” 💥 и “Обычная работа это не для меня”. 🌞Я никогда не понимал такого, и с ходу задавал вопросы типа ❓ – А что ты делаешь что бы приблизиться к своей мечте ? ❓Обычно, в ответ я получал очень говорящий взгляд 😡 и продолжение описание, какая будет классная жизнь, когда все это случиться. 🌈Я не мог понять почему, люди игнорируют такую простую причинно-следственную связь, ответ нашелся, но все по порядку.У подобной мечты и типа поведения есть ряд подводных камней:- все не самое лучшее кажется бессмысленным 😫- постоянный стресс от шаткого положения в жизни и раздражение от невозможности получить заслуженное 🤯- обвинение судьбы и окружающих в том, что идеи не воплощаются в жизнь 😱- нет желания заботится о деталях и планах 😭Такой взгляд на жизнь имеет очень глубокие психологические корни, вот техника позволяющая диагностировать ситуацию. 👇1. Первое что можно сделать это описать историю, со счастливым концом, отвечая на вопрос, как так получилось что мечта сбылась ?Получится рассказ от точки А - сейчас до точки Б - все исполнилось.2. Теперь нужно задать следующие вопросы к получившемуся рассказу:- Фантазия сбывается после вмешательства внешних сил ? 👽- В конце ждет спасение или награда которую получают только особые люди ? 🤩- В фантазии вас “находят” или “открывают” ? 🗺- Бессмысленна ли ваша жизнь без такого счастливого финала ? 😵 (тут так и хочется ответить “нет, конечно”, но если заглянуть глубже то…)Если есть положительные ответы, это очень опасная ситуация, почти обреченная на катастрофу. 🛑❗️Это обязательство сидеть и ждать когда жизнь наладится !!!❗️Значит, пока вы пассивно ждете, у вашей мечты нет шансов сбыться.Анализ причин и варианты разрешения данной опасной ситуации, я опишу в следующем посте. 👈Если вы нашли похожие идеи в себе, напишите, пожалуйста, об этом в комментариях. 👇Я могу помочь вам с данной ситуацией, информацию обо мне можно почитать тут:👉 https://fmalyshko.com/ 👈Или в моем телеграмм канале:👉 https://lnkd.in/eagZzVbV 👈Спасибо за внимание.#Карьерныйконсультант #Карьерноеконсультирование #Карьера #Резюме #Пример #Кейс #психология #психолог #психологияжизни #психологияличности #career #careerdevelopment #careeradvice #careerpath #careergoals #careerguidance\n",
      "\n",
      "\n",
      "Тема  1\n",
      "Втомилися отримувати від керівництва лише KPI? Відчуваєте себе відірваними від колективу? Ви відчуваєте самотність від того, що не бачите як ваші результати впливають на компанію?Ласкаво просимо до звичайної рутини нашого ринку, де переважна більшість середніх і малих компаній не вибудовують стратегію далі одного місяця, де ваше завдання робити те, що сказали і, у кращому разі, виконувати ключові показники ефективності.Сумно? - Так. Чи може рядовий співробітник вплинути на глобальний вплив? - майже ніколи.Чи є методи як зробити життя своє та команди в рамках таких реалій більш продуктивним, згуртованим та націленим на загальний результат? - так, їх безліч.Нам цікаво поділитися сьогодні OKR методологією (від англ. Objectives and Key Results «цілі та ключові результати»). Вивчивши та почавши застосовувати яку, ви можете не тільки покращити свою ефективність, але й згуртувати команду та колег навколо мети та ключових результатів щодо її досягнення. Примітно, що цей підхід використовується в Google, Microsoft, Intel та багатьох інших, як великих, так і невеликих компаніях. А хороші практики варто вивчати та пробувати.У чому основні плюси способу?Система будується згори донизу.Використовується модель, схожа на Watefall. Ключовий результат Головної мети ставати Метою для виконавця, який для її досягнення сам прописує необхідні результати. І так далі.Система орієнтована на взаємодію.Коли один із ключових результатів моєї Цілі, є Метою мого колеги, без його успіху – не буде мого.Самостійність у визначенні інструментів задля досягнення мети.Я сам вирішую, які ключові результати необхідні для досягнення тієї мети, яка мені поставлена. Більше не потрібно працювати на наповнення циферок у планах.ПрозорістьЯ бачу чий ключовий результат є моєю метою та які мої ключові результати – цілі моїх колег. Я розумію, навіщо ми всі працюємо кожен день і що дає всій команді досягнення моєї мети.Де можу застосувати?- У рамках своєї команди. - В особистій діяльності.- Між учасниками різних команд, які працюють над спільним завданням.- На рівні компанії.- Між відділами. Допомагає:- Залучити колег.- Спланувати досягнення цілей.- Підвищити відповідальність за роботу.- Збільшити самоорганізованість.- Дати свободу та ініціативність.- Згуртувати команду і т.д.Ознайомитись глибше можна прочитавши чудову книгу - \"Міряй важливе. OKR. Проста ідея зростання вдесятеро\", за авторством Джона Доєра - це настільна допомога з конкретними прикладами використання, порадами та типовими помилками. Історією розробки методології. Якщо ви вже застосовуєте OKR у своїй роботі або у вашій компанії, він є головним інструментом планування - будемо раді прочитати про це в коментарях.\n",
      "\n",
      "\n",
      "Тема  2\n",
      "Всем привет, в команду Equipmetry требуются middle backend, frontend разработчики и ui/ux дизайнер на full-time.Команда Equipmetry активно развивает в Казахстане направление управление спецтехникой и оборудованием в промышленных компаниях.  Что мы обещаем? Все условия для комфортной работыДостойную зарплату, которая ограничена только вашими skills и стараниями + бонусы и опцион в проекте Доступ к курсам и обучение за счет компании Какие требования?Для Frontend Developer-ов Отличные знания JavaScript, HTML5, CSS3. (CSS Grid Layout, Flexbox)Фреймворк VueJSRest API, Git Наличие опыта кроссбраузерной верстки для разных платформДля Backend Developer-овСтэк технологий для нас не на первом месте. Нужен человек умеющий решать задачи, находить решения и постоянно улучшать свои результаты.Общие требованияПриветствуется знание методологии CI/CDЗнание паттерна MVC Понимание методологии SCRUM и принципы UX/UI Умение писать красивый, структурированный код без мусораПортфолио приветствуетсяОбязательным требованием является умение закрывать задачи в срок Умение планировать сроки исполнения в зависимости от объема работ Желание развиваться и обостренное чувство прекрасного Основной офис – Алматы, можем рассмотреть удаленку #ui/ux #вакансия #работа #backend #frontend\n",
      "\n",
      "\n",
      "Тема  3\n",
      "Всем привет, я, как вы догадались, в поиске новой карьерной возможности и буду признательна за вашу поддержку и помощь в распространении этого поста) Заранее благодарю за все репосты, рекомендации контактов, советы или возможности, которые вы можете предложить. #OpenToWork\n",
      "\n",
      "\n",
      "Тема  4\n",
      "К технологии IF-WS2 есть интерес по всему миру.Приглашаю познакомиться с дайджестом мероприятий, в ходе которых, наши коллеги представили нашу технологию предприятиям, заинтересованным в постоянном развитии и обеспечении конкурентоспособности и прибыльности.#технологии #нанотехнологии#nanotechnologies#mining#oil#майнинг#нефть#automotive#автопром\n",
      "\n",
      "\n",
      "Тема  5\n",
      "С удовольствием сообщаю, что я начинаю работу в новой должности – Менеджер по обучению в компании Предприниматель!\n",
      "\n",
      "\n",
      "Тема  6\n",
      "Приятно, Daria Shulgina 😌Я правда по хардам почти не менторю, мой фокус - софты для аналитиков и тимлидов. Но пофиг, в качестве примера профиля в Линкедин сойдёт 😉\n",
      "\n",
      "\n",
      "Тема  7\n",
      "Всем привет! Нахожусь в поиске работы! Буду благодарен репостам, рекомендациям, лайкам и любой возможной помощи!)\n",
      "\n",
      "\n",
      "Тема  8\n",
      "С радостью сообщаю, что я оказываю бизнес-услуги в LinkedIn #OpenForBusiness. Просмотрите мою страницу услуг «Оптимизация для поисковых систем (SEO), Реклама, Веб-дизайн, Веб-разработка, Разработка Android-приложений, Разработка iOS-приложений, Разработка ПО как услуга (SaaS), Разработка мобильных приложений, Тестирование ПО» и «Бизнес-аналитика».\n",
      "\n",
      "\n",
      "Тема  9\n",
      "Полный гайд по написанию чат-бота для V Kontakte LLC на Python: https://lnkd.in/gbAAN-xПишет от имени пользователя, отправляет сообщения по расписанию, отвечает в режиме реального времени. Можно обучить на собственных диалогах.#ityoutubersru #вконтакте #бот #python\n",
      "\n",
      "\n"
     ]
    }
   ],
   "source": [
    "for i in range(N_TOPICS):\n",
    "    doc_id = np.argmax(topics[:, i])\n",
    "    print(\"Тема \", i)\n",
    "    print(data_dd.iloc[doc_id][\"text\"])\n",
    "    print(\"\\n\")"
   ]
  },
  {
   "attachments": {},
   "cell_type": "markdown",
   "metadata": {},
   "source": []
  }
 ],
 "metadata": {
  "kernelspec": {
   "display_name": "venv",
   "language": "python",
   "name": "python3"
  },
  "language_info": {
   "codemirror_mode": {
    "name": "ipython",
    "version": 3
   },
   "file_extension": ".py",
   "mimetype": "text/x-python",
   "name": "python",
   "nbconvert_exporter": "python",
   "pygments_lexer": "ipython3",
   "version": "3.10.7"
  },
  "orig_nbformat": 4
 },
 "nbformat": 4,
 "nbformat_minor": 2
}
