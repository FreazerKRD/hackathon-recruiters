{
 "cells": [
  {
   "attachments": {},
   "cell_type": "markdown",
   "metadata": {},
   "source": [
    "Импортируем нужные для работы библиотеки"
   ]
  },
  {
   "cell_type": "code",
   "execution_count": 1,
   "metadata": {},
   "outputs": [
    {
     "name": "stdout",
     "output_type": "stream",
     "text": [
      "Requirement already satisfied: spacy in c:\\users\\андрей\\desktop\\github\\recruiters\\venv\\lib\\site-packages (3.5.4)\n",
      "Requirement already satisfied: spacy-legacy<3.1.0,>=3.0.11 in c:\\users\\андрей\\desktop\\github\\recruiters\\venv\\lib\\site-packages (from spacy) (3.0.12)\n",
      "Requirement already satisfied: spacy-loggers<2.0.0,>=1.0.0 in c:\\users\\андрей\\desktop\\github\\recruiters\\venv\\lib\\site-packages (from spacy) (1.0.4)\n",
      "Requirement already satisfied: murmurhash<1.1.0,>=0.28.0 in c:\\users\\андрей\\desktop\\github\\recruiters\\venv\\lib\\site-packages (from spacy) (1.0.9)\n",
      "Requirement already satisfied: cymem<2.1.0,>=2.0.2 in c:\\users\\андрей\\desktop\\github\\recruiters\\venv\\lib\\site-packages (from spacy) (2.0.7)\n",
      "Requirement already satisfied: preshed<3.1.0,>=3.0.2 in c:\\users\\андрей\\desktop\\github\\recruiters\\venv\\lib\\site-packages (from spacy) (3.0.8)\n",
      "Requirement already satisfied: thinc<8.2.0,>=8.1.8 in c:\\users\\андрей\\desktop\\github\\recruiters\\venv\\lib\\site-packages (from spacy) (8.1.10)\n",
      "Requirement already satisfied: wasabi<1.2.0,>=0.9.1 in c:\\users\\андрей\\desktop\\github\\recruiters\\venv\\lib\\site-packages (from spacy) (1.1.2)\n",
      "Requirement already satisfied: srsly<3.0.0,>=2.4.3 in c:\\users\\андрей\\desktop\\github\\recruiters\\venv\\lib\\site-packages (from spacy) (2.4.6)\n",
      "Requirement already satisfied: catalogue<2.1.0,>=2.0.6 in c:\\users\\андрей\\desktop\\github\\recruiters\\venv\\lib\\site-packages (from spacy) (2.0.8)\n",
      "Requirement already satisfied: typer<0.10.0,>=0.3.0 in c:\\users\\андрей\\desktop\\github\\recruiters\\venv\\lib\\site-packages (from spacy) (0.9.0)\n",
      "Requirement already satisfied: pathy>=0.10.0 in c:\\users\\андрей\\desktop\\github\\recruiters\\venv\\lib\\site-packages (from spacy) (0.10.2)\n",
      "Requirement already satisfied: smart-open<7.0.0,>=5.2.1 in c:\\users\\андрей\\desktop\\github\\recruiters\\venv\\lib\\site-packages (from spacy) (6.3.0)\n",
      "Requirement already satisfied: tqdm<5.0.0,>=4.38.0 in c:\\users\\андрей\\desktop\\github\\recruiters\\venv\\lib\\site-packages (from spacy) (4.65.0)\n",
      "Requirement already satisfied: numpy>=1.15.0 in c:\\users\\андрей\\desktop\\github\\recruiters\\venv\\lib\\site-packages (from spacy) (1.25.0)\n",
      "Requirement already satisfied: requests<3.0.0,>=2.13.0 in c:\\users\\андрей\\desktop\\github\\recruiters\\venv\\lib\\site-packages (from spacy) (2.31.0)\n",
      "Requirement already satisfied: pydantic!=1.8,!=1.8.1,<1.11.0,>=1.7.4 in c:\\users\\андрей\\desktop\\github\\recruiters\\venv\\lib\\site-packages (from spacy) (1.10.10)\n",
      "Requirement already satisfied: jinja2 in c:\\users\\андрей\\desktop\\github\\recruiters\\venv\\lib\\site-packages (from spacy) (3.1.2)\n",
      "Requirement already satisfied: setuptools in c:\\users\\андрей\\desktop\\github\\recruiters\\venv\\lib\\site-packages (from spacy) (63.2.0)\n",
      "Requirement already satisfied: packaging>=20.0 in c:\\users\\андрей\\desktop\\github\\recruiters\\venv\\lib\\site-packages (from spacy) (23.1)\n",
      "Requirement already satisfied: langcodes<4.0.0,>=3.2.0 in c:\\users\\андрей\\desktop\\github\\recruiters\\venv\\lib\\site-packages (from spacy) (3.3.0)\n",
      "Requirement already satisfied: typing-extensions>=4.2.0 in c:\\users\\андрей\\desktop\\github\\recruiters\\venv\\lib\\site-packages (from pydantic!=1.8,!=1.8.1,<1.11.0,>=1.7.4->spacy) (4.7.0)\n",
      "Requirement already satisfied: charset-normalizer<4,>=2 in c:\\users\\андрей\\desktop\\github\\recruiters\\venv\\lib\\site-packages (from requests<3.0.0,>=2.13.0->spacy) (3.1.0)\n",
      "Requirement already satisfied: idna<4,>=2.5 in c:\\users\\андрей\\desktop\\github\\recruiters\\venv\\lib\\site-packages (from requests<3.0.0,>=2.13.0->spacy) (3.4)\n",
      "Requirement already satisfied: urllib3<3,>=1.21.1 in c:\\users\\андрей\\desktop\\github\\recruiters\\venv\\lib\\site-packages (from requests<3.0.0,>=2.13.0->spacy) (2.0.3)\n",
      "Requirement already satisfied: certifi>=2017.4.17 in c:\\users\\андрей\\desktop\\github\\recruiters\\venv\\lib\\site-packages (from requests<3.0.0,>=2.13.0->spacy) (2023.5.7)\n",
      "Requirement already satisfied: blis<0.8.0,>=0.7.8 in c:\\users\\андрей\\desktop\\github\\recruiters\\venv\\lib\\site-packages (from thinc<8.2.0,>=8.1.8->spacy) (0.7.9)\n",
      "Requirement already satisfied: confection<1.0.0,>=0.0.1 in c:\\users\\андрей\\desktop\\github\\recruiters\\venv\\lib\\site-packages (from thinc<8.2.0,>=8.1.8->spacy) (0.1.0)\n",
      "Requirement already satisfied: colorama in c:\\users\\андрей\\desktop\\github\\recruiters\\venv\\lib\\site-packages (from tqdm<5.0.0,>=4.38.0->spacy) (0.4.6)\n",
      "Requirement already satisfied: click<9.0.0,>=7.1.1 in c:\\users\\андрей\\desktop\\github\\recruiters\\venv\\lib\\site-packages (from typer<0.10.0,>=0.3.0->spacy) (8.1.3)\n",
      "Requirement already satisfied: MarkupSafe>=2.0 in c:\\users\\андрей\\desktop\\github\\recruiters\\venv\\lib\\site-packages (from jinja2->spacy) (2.1.3)\n",
      "Collecting ru-core-news-sm==3.5.0\n",
      "  Downloading https://github.com/explosion/spacy-models/releases/download/ru_core_news_sm-3.5.0/ru_core_news_sm-3.5.0-py3-none-any.whl (15.3 MB)\n",
      "                                              0.0/15.3 MB ? eta -:--:--\n",
      "                                              0.0/15.3 MB ? eta -:--:--\n",
      "                                             0.1/15.3 MB 825.8 kB/s eta 0:00:19\n",
      "                                             0.1/15.3 MB 939.4 kB/s eta 0:00:17\n",
      "                                              0.2/15.3 MB 1.0 MB/s eta 0:00:15\n",
      "                                              0.2/15.3 MB 1.3 MB/s eta 0:00:13\n",
      "                                              0.3/15.3 MB 1.4 MB/s eta 0:00:11\n",
      "     -                                        0.4/15.3 MB 1.5 MB/s eta 0:00:10\n",
      "     -                                        0.5/15.3 MB 1.6 MB/s eta 0:00:10\n",
      "     -                                        0.6/15.3 MB 1.7 MB/s eta 0:00:09\n",
      "     -                                        0.6/15.3 MB 1.6 MB/s eta 0:00:10\n",
      "     -                                        0.7/15.3 MB 1.7 MB/s eta 0:00:09\n",
      "     --                                       0.8/15.3 MB 1.7 MB/s eta 0:00:09\n",
      "     --                                       0.9/15.3 MB 1.7 MB/s eta 0:00:09\n",
      "     --                                       0.9/15.3 MB 1.7 MB/s eta 0:00:09\n",
      "     --                                       1.0/15.3 MB 1.7 MB/s eta 0:00:09\n",
      "     --                                       1.1/15.3 MB 1.7 MB/s eta 0:00:09\n",
      "     ---                                      1.2/15.3 MB 1.7 MB/s eta 0:00:09\n",
      "     ---                                      1.3/15.3 MB 1.8 MB/s eta 0:00:08\n",
      "     ---                                      1.4/15.3 MB 1.8 MB/s eta 0:00:08\n",
      "     ---                                      1.5/15.3 MB 1.8 MB/s eta 0:00:08\n",
      "     ----                                     1.5/15.3 MB 1.9 MB/s eta 0:00:08\n",
      "     ----                                     1.6/15.3 MB 1.9 MB/s eta 0:00:08\n",
      "     ----                                     1.7/15.3 MB 1.9 MB/s eta 0:00:08\n",
      "     ----                                     1.8/15.3 MB 1.9 MB/s eta 0:00:08\n",
      "     -----                                    1.9/15.3 MB 1.9 MB/s eta 0:00:07\n",
      "     -----                                    2.0/15.3 MB 2.0 MB/s eta 0:00:07\n",
      "     -----                                    2.1/15.3 MB 2.0 MB/s eta 0:00:07\n",
      "     -----                                    2.2/15.3 MB 2.0 MB/s eta 0:00:07\n",
      "     -----                                    2.3/15.3 MB 2.0 MB/s eta 0:00:07\n",
      "     ------                                   2.4/15.3 MB 2.0 MB/s eta 0:00:07\n",
      "     ------                                   2.5/15.3 MB 2.0 MB/s eta 0:00:07\n",
      "     ------                                   2.6/15.3 MB 2.1 MB/s eta 0:00:07\n",
      "     -------                                  2.7/15.3 MB 2.1 MB/s eta 0:00:06\n",
      "     -------                                  2.8/15.3 MB 2.1 MB/s eta 0:00:06\n",
      "     -------                                  2.9/15.3 MB 2.1 MB/s eta 0:00:06\n",
      "     -------                                  3.0/15.3 MB 2.1 MB/s eta 0:00:06\n",
      "     --------                                 3.1/15.3 MB 2.1 MB/s eta 0:00:06\n",
      "     --------                                 3.2/15.3 MB 2.1 MB/s eta 0:00:06\n",
      "     --------                                 3.3/15.3 MB 2.2 MB/s eta 0:00:06\n",
      "     --------                                 3.4/15.3 MB 2.2 MB/s eta 0:00:06\n",
      "     ---------                                3.5/15.3 MB 2.2 MB/s eta 0:00:06\n",
      "     ---------                                3.6/15.3 MB 2.2 MB/s eta 0:00:06\n",
      "     ---------                                3.7/15.3 MB 2.2 MB/s eta 0:00:06\n",
      "     ---------                                3.8/15.3 MB 2.2 MB/s eta 0:00:06\n",
      "     ----------                               3.9/15.3 MB 2.2 MB/s eta 0:00:06\n",
      "     ----------                               3.9/15.3 MB 2.2 MB/s eta 0:00:06\n",
      "     ----------                               4.0/15.3 MB 2.2 MB/s eta 0:00:06\n",
      "     ----------                               4.0/15.3 MB 2.1 MB/s eta 0:00:06\n",
      "     ----------                               4.1/15.3 MB 2.1 MB/s eta 0:00:06\n",
      "     ----------                               4.2/15.3 MB 2.1 MB/s eta 0:00:06\n",
      "     -----------                              4.2/15.3 MB 2.1 MB/s eta 0:00:06\n",
      "     -----------                              4.4/15.3 MB 2.1 MB/s eta 0:00:06\n",
      "     -----------                              4.5/15.3 MB 2.2 MB/s eta 0:00:06\n",
      "     -----------                              4.6/15.3 MB 2.2 MB/s eta 0:00:05\n",
      "     ------------                             4.6/15.3 MB 2.2 MB/s eta 0:00:05\n",
      "     ------------                             4.7/15.3 MB 2.2 MB/s eta 0:00:05\n",
      "     ------------                             4.8/15.3 MB 2.1 MB/s eta 0:00:05\n",
      "     ------------                             4.9/15.3 MB 2.1 MB/s eta 0:00:05\n",
      "     -------------                            5.0/15.3 MB 2.2 MB/s eta 0:00:05\n",
      "     -------------                            5.1/15.3 MB 2.2 MB/s eta 0:00:05\n",
      "     -------------                            5.2/15.3 MB 2.2 MB/s eta 0:00:05\n",
      "     -------------                            5.3/15.3 MB 2.2 MB/s eta 0:00:05\n",
      "     --------------                           5.4/15.3 MB 2.2 MB/s eta 0:00:05\n",
      "     --------------                           5.5/15.3 MB 2.2 MB/s eta 0:00:05\n",
      "     --------------                           5.6/15.3 MB 2.2 MB/s eta 0:00:05\n",
      "     --------------                           5.7/15.3 MB 2.2 MB/s eta 0:00:05\n",
      "     ---------------                          5.8/15.3 MB 2.2 MB/s eta 0:00:05\n",
      "     ---------------                          5.9/15.3 MB 2.2 MB/s eta 0:00:05\n",
      "     ---------------                          6.0/15.3 MB 2.2 MB/s eta 0:00:05\n",
      "     ----------------                         6.1/15.3 MB 2.2 MB/s eta 0:00:05\n",
      "     ----------------                         6.2/15.3 MB 2.2 MB/s eta 0:00:05\n",
      "     ----------------                         6.3/15.3 MB 2.2 MB/s eta 0:00:04\n",
      "     ----------------                         6.4/15.3 MB 2.2 MB/s eta 0:00:04\n",
      "     -----------------                        6.5/15.3 MB 2.2 MB/s eta 0:00:04\n",
      "     -----------------                        6.6/15.3 MB 2.2 MB/s eta 0:00:04\n",
      "     -----------------                        6.7/15.3 MB 2.2 MB/s eta 0:00:04\n",
      "     -----------------                        6.7/15.3 MB 2.2 MB/s eta 0:00:04\n",
      "     -----------------                        6.8/15.3 MB 2.2 MB/s eta 0:00:04\n",
      "     ------------------                       6.9/15.3 MB 2.3 MB/s eta 0:00:04\n",
      "     ------------------                       7.1/15.3 MB 2.3 MB/s eta 0:00:04\n",
      "     ------------------                       7.2/15.3 MB 2.3 MB/s eta 0:00:04\n",
      "     -------------------                      7.3/15.3 MB 2.3 MB/s eta 0:00:04\n",
      "     -------------------                      7.4/15.3 MB 2.3 MB/s eta 0:00:04\n",
      "     -------------------                      7.5/15.3 MB 2.3 MB/s eta 0:00:04\n",
      "     --------------------                     7.6/15.3 MB 2.3 MB/s eta 0:00:04\n",
      "     --------------------                     7.7/15.3 MB 2.3 MB/s eta 0:00:04\n",
      "     --------------------                     7.7/15.3 MB 2.3 MB/s eta 0:00:04\n",
      "     --------------------                     7.8/15.3 MB 2.3 MB/s eta 0:00:04\n",
      "     --------------------                     7.9/15.3 MB 2.3 MB/s eta 0:00:04\n",
      "     ---------------------                    8.0/15.3 MB 2.3 MB/s eta 0:00:04\n",
      "     ---------------------                    8.1/15.3 MB 2.3 MB/s eta 0:00:04\n",
      "     ---------------------                    8.2/15.3 MB 2.3 MB/s eta 0:00:04\n",
      "     ---------------------                    8.2/15.3 MB 2.3 MB/s eta 0:00:04\n",
      "     ---------------------                    8.3/15.3 MB 2.2 MB/s eta 0:00:04\n",
      "     ---------------------                    8.3/15.3 MB 2.2 MB/s eta 0:00:04\n",
      "     ----------------------                   8.4/15.3 MB 2.2 MB/s eta 0:00:04\n",
      "     ----------------------                   8.5/15.3 MB 2.2 MB/s eta 0:00:04\n",
      "     ----------------------                   8.6/15.3 MB 2.3 MB/s eta 0:00:03\n",
      "     -----------------------                  8.8/15.3 MB 2.3 MB/s eta 0:00:03\n",
      "     -----------------------                  8.8/15.3 MB 2.3 MB/s eta 0:00:03\n",
      "     -----------------------                  8.8/15.3 MB 2.2 MB/s eta 0:00:03\n",
      "     -----------------------                  8.8/15.3 MB 2.2 MB/s eta 0:00:03\n",
      "     -----------------------                  8.9/15.3 MB 2.2 MB/s eta 0:00:03\n",
      "     -----------------------                  9.0/15.3 MB 2.2 MB/s eta 0:00:03\n",
      "     -----------------------                  9.1/15.3 MB 2.2 MB/s eta 0:00:03\n",
      "     ------------------------                 9.3/15.3 MB 2.2 MB/s eta 0:00:03\n",
      "     ------------------------                 9.3/15.3 MB 2.2 MB/s eta 0:00:03\n",
      "     ------------------------                 9.3/15.3 MB 2.2 MB/s eta 0:00:03\n",
      "     ------------------------                 9.3/15.3 MB 2.2 MB/s eta 0:00:03\n",
      "     ------------------------                 9.4/15.3 MB 2.2 MB/s eta 0:00:03\n",
      "     ------------------------                 9.4/15.3 MB 2.2 MB/s eta 0:00:03\n",
      "     ------------------------                 9.5/15.3 MB 2.2 MB/s eta 0:00:03\n",
      "     -------------------------                9.6/15.3 MB 2.2 MB/s eta 0:00:03\n",
      "     -------------------------                9.7/15.3 MB 2.2 MB/s eta 0:00:03\n",
      "     -------------------------                9.8/15.3 MB 2.2 MB/s eta 0:00:03\n",
      "     --------------------------               9.9/15.3 MB 2.2 MB/s eta 0:00:03\n",
      "     --------------------------               9.9/15.3 MB 2.2 MB/s eta 0:00:03\n",
      "     --------------------------               10.0/15.3 MB 2.2 MB/s eta 0:00:03\n",
      "     --------------------------               10.1/15.3 MB 2.2 MB/s eta 0:00:03\n",
      "     --------------------------               10.2/15.3 MB 2.2 MB/s eta 0:00:03\n",
      "     ---------------------------              10.3/15.3 MB 2.2 MB/s eta 0:00:03\n",
      "     ---------------------------              10.4/15.3 MB 2.2 MB/s eta 0:00:03\n",
      "     ---------------------------              10.4/15.3 MB 2.2 MB/s eta 0:00:03\n",
      "     ---------------------------              10.5/15.3 MB 2.2 MB/s eta 0:00:03\n",
      "     ---------------------------              10.6/15.3 MB 2.2 MB/s eta 0:00:03\n",
      "     ----------------------------             10.8/15.3 MB 2.2 MB/s eta 0:00:03\n",
      "     ----------------------------             10.9/15.3 MB 2.2 MB/s eta 0:00:02\n",
      "     ----------------------------             11.0/15.3 MB 2.3 MB/s eta 0:00:02\n",
      "     ----------------------------             11.0/15.3 MB 2.3 MB/s eta 0:00:02\n",
      "     ----------------------------             11.0/15.3 MB 2.2 MB/s eta 0:00:02\n",
      "     -----------------------------            11.1/15.3 MB 2.2 MB/s eta 0:00:02\n",
      "     -----------------------------            11.3/15.3 MB 2.3 MB/s eta 0:00:02\n",
      "     ------------------------------           11.4/15.3 MB 2.3 MB/s eta 0:00:02\n",
      "     ------------------------------           11.6/15.3 MB 2.3 MB/s eta 0:00:02\n",
      "     ------------------------------           11.6/15.3 MB 2.3 MB/s eta 0:00:02\n",
      "     ------------------------------           11.7/15.3 MB 2.3 MB/s eta 0:00:02\n",
      "     ------------------------------           11.8/15.3 MB 2.3 MB/s eta 0:00:02\n",
      "     -------------------------------          11.8/15.3 MB 2.3 MB/s eta 0:00:02\n",
      "     -------------------------------          11.9/15.3 MB 2.3 MB/s eta 0:00:02\n",
      "     -------------------------------          12.0/15.3 MB 2.3 MB/s eta 0:00:02\n",
      "     -------------------------------          12.1/15.3 MB 2.3 MB/s eta 0:00:02\n",
      "     --------------------------------         12.2/15.3 MB 2.3 MB/s eta 0:00:02\n",
      "     --------------------------------         12.3/15.3 MB 2.3 MB/s eta 0:00:02\n",
      "     --------------------------------         12.4/15.3 MB 2.3 MB/s eta 0:00:02\n",
      "     --------------------------------         12.5/15.3 MB 2.2 MB/s eta 0:00:02\n",
      "     --------------------------------         12.6/15.3 MB 2.2 MB/s eta 0:00:02\n",
      "     ---------------------------------        12.7/15.3 MB 2.2 MB/s eta 0:00:02\n",
      "     ---------------------------------        12.7/15.3 MB 2.2 MB/s eta 0:00:02\n",
      "     ---------------------------------        12.8/15.3 MB 2.2 MB/s eta 0:00:02\n",
      "     ---------------------------------        12.9/15.3 MB 2.2 MB/s eta 0:00:02\n",
      "     ----------------------------------       13.0/15.3 MB 2.2 MB/s eta 0:00:02\n",
      "     ----------------------------------       13.1/15.3 MB 2.2 MB/s eta 0:00:01\n",
      "     ----------------------------------       13.2/15.3 MB 2.2 MB/s eta 0:00:01\n",
      "     ----------------------------------       13.3/15.3 MB 2.2 MB/s eta 0:00:01\n",
      "     -----------------------------------      13.4/15.3 MB 2.2 MB/s eta 0:00:01\n",
      "     -----------------------------------      13.5/15.3 MB 2.2 MB/s eta 0:00:01\n",
      "     -----------------------------------      13.6/15.3 MB 2.2 MB/s eta 0:00:01\n",
      "     -----------------------------------      13.7/15.3 MB 2.2 MB/s eta 0:00:01\n",
      "     ------------------------------------     13.7/15.3 MB 2.2 MB/s eta 0:00:01\n",
      "     ------------------------------------     13.8/15.3 MB 2.2 MB/s eta 0:00:01\n",
      "     ------------------------------------     13.9/15.3 MB 2.2 MB/s eta 0:00:01\n",
      "     ------------------------------------     14.0/15.3 MB 2.2 MB/s eta 0:00:01\n",
      "     ------------------------------------     14.1/15.3 MB 2.2 MB/s eta 0:00:01\n",
      "     -------------------------------------    14.2/15.3 MB 2.2 MB/s eta 0:00:01\n",
      "     -------------------------------------    14.3/15.3 MB 2.3 MB/s eta 0:00:01\n",
      "     -------------------------------------    14.4/15.3 MB 2.2 MB/s eta 0:00:01\n",
      "     -------------------------------------    14.5/15.3 MB 2.2 MB/s eta 0:00:01\n",
      "     --------------------------------------   14.5/15.3 MB 2.2 MB/s eta 0:00:01\n",
      "     --------------------------------------   14.6/15.3 MB 2.3 MB/s eta 0:00:01\n",
      "     --------------------------------------   14.7/15.3 MB 2.2 MB/s eta 0:00:01\n",
      "     --------------------------------------   14.8/15.3 MB 2.2 MB/s eta 0:00:01\n",
      "     ---------------------------------------  14.9/15.3 MB 2.2 MB/s eta 0:00:01\n",
      "     ---------------------------------------  15.0/15.3 MB 2.3 MB/s eta 0:00:01\n",
      "     ---------------------------------------  15.1/15.3 MB 2.3 MB/s eta 0:00:01\n",
      "     ---------------------------------------  15.2/15.3 MB 2.3 MB/s eta 0:00:01\n",
      "     ---------------------------------------  15.2/15.3 MB 2.2 MB/s eta 0:00:01\n",
      "     ---------------------------------------  15.2/15.3 MB 2.2 MB/s eta 0:00:01\n",
      "     ---------------------------------------  15.2/15.3 MB 2.2 MB/s eta 0:00:01\n",
      "     ---------------------------------------  15.2/15.3 MB 2.2 MB/s eta 0:00:01\n",
      "     ---------------------------------------  15.2/15.3 MB 2.2 MB/s eta 0:00:01\n",
      "     ---------------------------------------  15.2/15.3 MB 2.2 MB/s eta 0:00:01\n",
      "     ---------------------------------------- 15.3/15.3 MB 2.1 MB/s eta 0:00:00\n",
      "Requirement already satisfied: spacy<3.6.0,>=3.5.0 in c:\\users\\андрей\\desktop\\github\\recruiters\\venv\\lib\\site-packages (from ru-core-news-sm==3.5.0) (3.5.4)\n",
      "Requirement already satisfied: pymorphy3>=1.0.0 in c:\\users\\андрей\\desktop\\github\\recruiters\\venv\\lib\\site-packages (from ru-core-news-sm==3.5.0) (1.2.0)\n",
      "Requirement already satisfied: dawg-python>=0.7.1 in c:\\users\\андрей\\desktop\\github\\recruiters\\venv\\lib\\site-packages (from pymorphy3>=1.0.0->ru-core-news-sm==3.5.0) (0.7.2)\n",
      "Requirement already satisfied: docopt>=0.6 in c:\\users\\андрей\\desktop\\github\\recruiters\\venv\\lib\\site-packages (from pymorphy3>=1.0.0->ru-core-news-sm==3.5.0) (0.6.2)\n",
      "Requirement already satisfied: pymorphy3-dicts-ru in c:\\users\\андрей\\desktop\\github\\recruiters\\venv\\lib\\site-packages (from pymorphy3>=1.0.0->ru-core-news-sm==3.5.0) (2.4.417150.4580142)\n",
      "Requirement already satisfied: spacy-legacy<3.1.0,>=3.0.11 in c:\\users\\андрей\\desktop\\github\\recruiters\\venv\\lib\\site-packages (from spacy<3.6.0,>=3.5.0->ru-core-news-sm==3.5.0) (3.0.12)\n",
      "Requirement already satisfied: spacy-loggers<2.0.0,>=1.0.0 in c:\\users\\андрей\\desktop\\github\\recruiters\\venv\\lib\\site-packages (from spacy<3.6.0,>=3.5.0->ru-core-news-sm==3.5.0) (1.0.4)\n",
      "Requirement already satisfied: murmurhash<1.1.0,>=0.28.0 in c:\\users\\андрей\\desktop\\github\\recruiters\\venv\\lib\\site-packages (from spacy<3.6.0,>=3.5.0->ru-core-news-sm==3.5.0) (1.0.9)\n",
      "Requirement already satisfied: cymem<2.1.0,>=2.0.2 in c:\\users\\андрей\\desktop\\github\\recruiters\\venv\\lib\\site-packages (from spacy<3.6.0,>=3.5.0->ru-core-news-sm==3.5.0) (2.0.7)\n",
      "Requirement already satisfied: preshed<3.1.0,>=3.0.2 in c:\\users\\андрей\\desktop\\github\\recruiters\\venv\\lib\\site-packages (from spacy<3.6.0,>=3.5.0->ru-core-news-sm==3.5.0) (3.0.8)\n",
      "Requirement already satisfied: thinc<8.2.0,>=8.1.8 in c:\\users\\андрей\\desktop\\github\\recruiters\\venv\\lib\\site-packages (from spacy<3.6.0,>=3.5.0->ru-core-news-sm==3.5.0) (8.1.10)\n",
      "Requirement already satisfied: wasabi<1.2.0,>=0.9.1 in c:\\users\\андрей\\desktop\\github\\recruiters\\venv\\lib\\site-packages (from spacy<3.6.0,>=3.5.0->ru-core-news-sm==3.5.0) (1.1.2)\n",
      "Requirement already satisfied: srsly<3.0.0,>=2.4.3 in c:\\users\\андрей\\desktop\\github\\recruiters\\venv\\lib\\site-packages (from spacy<3.6.0,>=3.5.0->ru-core-news-sm==3.5.0) (2.4.6)\n",
      "Requirement already satisfied: catalogue<2.1.0,>=2.0.6 in c:\\users\\андрей\\desktop\\github\\recruiters\\venv\\lib\\site-packages (from spacy<3.6.0,>=3.5.0->ru-core-news-sm==3.5.0) (2.0.8)\n",
      "Requirement already satisfied: typer<0.10.0,>=0.3.0 in c:\\users\\андрей\\desktop\\github\\recruiters\\venv\\lib\\site-packages (from spacy<3.6.0,>=3.5.0->ru-core-news-sm==3.5.0) (0.9.0)\n",
      "Requirement already satisfied: pathy>=0.10.0 in c:\\users\\андрей\\desktop\\github\\recruiters\\venv\\lib\\site-packages (from spacy<3.6.0,>=3.5.0->ru-core-news-sm==3.5.0) (0.10.2)\n",
      "Requirement already satisfied: smart-open<7.0.0,>=5.2.1 in c:\\users\\андрей\\desktop\\github\\recruiters\\venv\\lib\\site-packages (from spacy<3.6.0,>=3.5.0->ru-core-news-sm==3.5.0) (6.3.0)\n",
      "Requirement already satisfied: tqdm<5.0.0,>=4.38.0 in c:\\users\\андрей\\desktop\\github\\recruiters\\venv\\lib\\site-packages (from spacy<3.6.0,>=3.5.0->ru-core-news-sm==3.5.0) (4.65.0)\n",
      "Requirement already satisfied: numpy>=1.15.0 in c:\\users\\андрей\\desktop\\github\\recruiters\\venv\\lib\\site-packages (from spacy<3.6.0,>=3.5.0->ru-core-news-sm==3.5.0) (1.25.0)\n",
      "Requirement already satisfied: requests<3.0.0,>=2.13.0 in c:\\users\\андрей\\desktop\\github\\recruiters\\venv\\lib\\site-packages (from spacy<3.6.0,>=3.5.0->ru-core-news-sm==3.5.0) (2.31.0)\n",
      "Requirement already satisfied: pydantic!=1.8,!=1.8.1,<1.11.0,>=1.7.4 in c:\\users\\андрей\\desktop\\github\\recruiters\\venv\\lib\\site-packages (from spacy<3.6.0,>=3.5.0->ru-core-news-sm==3.5.0) (1.10.10)\n",
      "Requirement already satisfied: jinja2 in c:\\users\\андрей\\desktop\\github\\recruiters\\venv\\lib\\site-packages (from spacy<3.6.0,>=3.5.0->ru-core-news-sm==3.5.0) (3.1.2)\n",
      "Requirement already satisfied: setuptools in c:\\users\\андрей\\desktop\\github\\recruiters\\venv\\lib\\site-packages (from spacy<3.6.0,>=3.5.0->ru-core-news-sm==3.5.0) (63.2.0)\n",
      "Requirement already satisfied: packaging>=20.0 in c:\\users\\андрей\\desktop\\github\\recruiters\\venv\\lib\\site-packages (from spacy<3.6.0,>=3.5.0->ru-core-news-sm==3.5.0) (23.1)\n",
      "Requirement already satisfied: langcodes<4.0.0,>=3.2.0 in c:\\users\\андрей\\desktop\\github\\recruiters\\venv\\lib\\site-packages (from spacy<3.6.0,>=3.5.0->ru-core-news-sm==3.5.0) (3.3.0)\n",
      "Requirement already satisfied: typing-extensions>=4.2.0 in c:\\users\\андрей\\desktop\\github\\recruiters\\venv\\lib\\site-packages (from pydantic!=1.8,!=1.8.1,<1.11.0,>=1.7.4->spacy<3.6.0,>=3.5.0->ru-core-news-sm==3.5.0) (4.7.0)\n",
      "Requirement already satisfied: charset-normalizer<4,>=2 in c:\\users\\андрей\\desktop\\github\\recruiters\\venv\\lib\\site-packages (from requests<3.0.0,>=2.13.0->spacy<3.6.0,>=3.5.0->ru-core-news-sm==3.5.0) (3.1.0)\n",
      "Requirement already satisfied: idna<4,>=2.5 in c:\\users\\андрей\\desktop\\github\\recruiters\\venv\\lib\\site-packages (from requests<3.0.0,>=2.13.0->spacy<3.6.0,>=3.5.0->ru-core-news-sm==3.5.0) (3.4)\n",
      "Requirement already satisfied: urllib3<3,>=1.21.1 in c:\\users\\андрей\\desktop\\github\\recruiters\\venv\\lib\\site-packages (from requests<3.0.0,>=2.13.0->spacy<3.6.0,>=3.5.0->ru-core-news-sm==3.5.0) (2.0.3)\n",
      "Requirement already satisfied: certifi>=2017.4.17 in c:\\users\\андрей\\desktop\\github\\recruiters\\venv\\lib\\site-packages (from requests<3.0.0,>=2.13.0->spacy<3.6.0,>=3.5.0->ru-core-news-sm==3.5.0) (2023.5.7)\n",
      "Requirement already satisfied: blis<0.8.0,>=0.7.8 in c:\\users\\андрей\\desktop\\github\\recruiters\\venv\\lib\\site-packages (from thinc<8.2.0,>=8.1.8->spacy<3.6.0,>=3.5.0->ru-core-news-sm==3.5.0) (0.7.9)\n",
      "Requirement already satisfied: confection<1.0.0,>=0.0.1 in c:\\users\\андрей\\desktop\\github\\recruiters\\venv\\lib\\site-packages (from thinc<8.2.0,>=8.1.8->spacy<3.6.0,>=3.5.0->ru-core-news-sm==3.5.0) (0.1.0)\n",
      "Requirement already satisfied: colorama in c:\\users\\андрей\\desktop\\github\\recruiters\\venv\\lib\\site-packages (from tqdm<5.0.0,>=4.38.0->spacy<3.6.0,>=3.5.0->ru-core-news-sm==3.5.0) (0.4.6)\n",
      "Requirement already satisfied: click<9.0.0,>=7.1.1 in c:\\users\\андрей\\desktop\\github\\recruiters\\venv\\lib\\site-packages (from typer<0.10.0,>=0.3.0->spacy<3.6.0,>=3.5.0->ru-core-news-sm==3.5.0) (8.1.3)\n",
      "Requirement already satisfied: MarkupSafe>=2.0 in c:\\users\\андрей\\desktop\\github\\recruiters\\venv\\lib\\site-packages (from jinja2->spacy<3.6.0,>=3.5.0->ru-core-news-sm==3.5.0) (2.1.3)\n",
      "\u001b[38;5;2m✔ Download and installation successful\u001b[0m\n",
      "You can now load the package via spacy.load('ru_core_news_sm')\n"
     ]
    }
   ],
   "source": [
    "! pip install spacy\n",
    "! python -m spacy download ru_core_news_sm"
   ]
  },
  {
   "cell_type": "code",
   "execution_count": 2,
   "metadata": {},
   "outputs": [],
   "source": [
    "import pandas as pd\n",
    "import unicodedata\n",
    "import re\n",
    "import spacy\n",
    "import json\n",
    "import numpy as np\n",
    "from nltk.corpus import stopwords\n",
    "from sklearn.decomposition import LatentDirichletAllocation\n",
    "from sklearn.feature_extraction.text import TfidfVectorizer\n",
    "import os\n",
    "import json\n",
    "import pyLDAvis\n",
    "import pyLDAvis.gensim\n",
    "import matplotlib.pyplot as plt\n",
    "import gensim\n",
    "import gensim.corpora as corpora\n",
    "from gensim.models import CoherenceModel"
   ]
  },
  {
   "attachments": {},
   "cell_type": "markdown",
   "metadata": {},
   "source": [
    "# Предобработка данных"
   ]
  },
  {
   "attachments": {},
   "cell_type": "markdown",
   "metadata": {},
   "source": [
    "Загрузим данные"
   ]
  },
  {
   "cell_type": "code",
   "execution_count": 3,
   "metadata": {},
   "outputs": [
    {
     "data": {
      "text/html": [
       "<div>\n",
       "<style scoped>\n",
       "    .dataframe tbody tr th:only-of-type {\n",
       "        vertical-align: middle;\n",
       "    }\n",
       "\n",
       "    .dataframe tbody tr th {\n",
       "        vertical-align: top;\n",
       "    }\n",
       "\n",
       "    .dataframe thead th {\n",
       "        text-align: right;\n",
       "    }\n",
       "</style>\n",
       "<table border=\"1\" class=\"dataframe\">\n",
       "  <thead>\n",
       "    <tr style=\"text-align: right;\">\n",
       "      <th></th>\n",
       "      <th>Unnamed: 0</th>\n",
       "      <th>status</th>\n",
       "      <th>url</th>\n",
       "      <th>text</th>\n",
       "      <th>likes</th>\n",
       "      <th>reposts</th>\n",
       "      <th>comments</th>\n",
       "    </tr>\n",
       "  </thead>\n",
       "  <tbody>\n",
       "    <tr>\n",
       "      <th>0</th>\n",
       "      <td>0</td>\n",
       "      <td>Middle Software Engineer - Yandex</td>\n",
       "      <td>https://www.linkedin.com/in/michilegorov</td>\n",
       "      <td>Всем привет!Выпустил свою первую статью на хаб...</td>\n",
       "      <td>17.0</td>\n",
       "      <td>0.0</td>\n",
       "      <td>0.0</td>\n",
       "    </tr>\n",
       "    <tr>\n",
       "      <th>1</th>\n",
       "      <td>1</td>\n",
       "      <td>Middle Software Engineer - Yandex</td>\n",
       "      <td>https://www.linkedin.com/in/michilegorov</td>\n",
       "      <td>Если вам интересно позалипать в слова, я запус...</td>\n",
       "      <td>6.0</td>\n",
       "      <td>0.0</td>\n",
       "      <td>2.0</td>\n",
       "    </tr>\n",
       "    <tr>\n",
       "      <th>2</th>\n",
       "      <td>2</td>\n",
       "      <td>Middle Software Engineer - Yandex</td>\n",
       "      <td>https://www.linkedin.com/in/michilegorov</td>\n",
       "      <td>Если вам интересно позалипать в слова, я запус...</td>\n",
       "      <td>17.0</td>\n",
       "      <td>6.0</td>\n",
       "      <td>0.0</td>\n",
       "    </tr>\n",
       "  </tbody>\n",
       "</table>\n",
       "</div>"
      ],
      "text/plain": [
       "   Unnamed: 0                             status  \\\n",
       "0           0  Middle Software Engineer - Yandex   \n",
       "1           1  Middle Software Engineer - Yandex   \n",
       "2           2  Middle Software Engineer - Yandex   \n",
       "\n",
       "                                        url  \\\n",
       "0  https://www.linkedin.com/in/michilegorov   \n",
       "1  https://www.linkedin.com/in/michilegorov   \n",
       "2  https://www.linkedin.com/in/michilegorov   \n",
       "\n",
       "                                                text likes  reposts  comments  \n",
       "0  Всем привет!Выпустил свою первую статью на хаб...  17.0      0.0       0.0  \n",
       "1  Если вам интересно позалипать в слова, я запус...   6.0      0.0       2.0  \n",
       "2  Если вам интересно позалипать в слова, я запус...  17.0      6.0       0.0  "
      ]
     },
     "execution_count": 3,
     "metadata": {},
     "output_type": "execute_result"
    }
   ],
   "source": [
    "data = pd.read_csv('csv\\\\full_df.csv', sep=';')\n",
    "data.head(3)"
   ]
  },
  {
   "cell_type": "code",
   "execution_count": 4,
   "metadata": {},
   "outputs": [
    {
     "name": "stdout",
     "output_type": "stream",
     "text": [
      "<class 'pandas.core.frame.DataFrame'>\n",
      "RangeIndex: 11238 entries, 0 to 11237\n",
      "Data columns (total 7 columns):\n",
      " #   Column      Non-Null Count  Dtype  \n",
      "---  ------      --------------  -----  \n",
      " 0   Unnamed: 0  11238 non-null  int64  \n",
      " 1   status      11238 non-null  object \n",
      " 2   url         11238 non-null  object \n",
      " 3   text        11238 non-null  object \n",
      " 4   likes       11081 non-null  object \n",
      " 5   reposts     10908 non-null  float64\n",
      " 6   comments    10902 non-null  float64\n",
      "dtypes: float64(2), int64(1), object(4)\n",
      "memory usage: 614.7+ KB\n"
     ]
    }
   ],
   "source": [
    "data.info()"
   ]
  },
  {
   "cell_type": "code",
   "execution_count": 5,
   "metadata": {},
   "outputs": [],
   "source": [
    "data = data.drop(columns='Unnamed: 0', axis=1)"
   ]
  },
  {
   "attachments": {},
   "cell_type": "markdown",
   "metadata": {},
   "source": [
    "Отфильтруем данные по количеству символов в постах. Оставим посты только длиннее 100 символов."
   ]
  },
  {
   "cell_type": "code",
   "execution_count": 6,
   "metadata": {},
   "outputs": [
    {
     "name": "stdout",
     "output_type": "stream",
     "text": [
      "Количество постов с 100+ символами: 8556\n"
     ]
    },
    {
     "data": {
      "text/html": [
       "<div>\n",
       "<style scoped>\n",
       "    .dataframe tbody tr th:only-of-type {\n",
       "        vertical-align: middle;\n",
       "    }\n",
       "\n",
       "    .dataframe tbody tr th {\n",
       "        vertical-align: top;\n",
       "    }\n",
       "\n",
       "    .dataframe thead th {\n",
       "        text-align: right;\n",
       "    }\n",
       "</style>\n",
       "<table border=\"1\" class=\"dataframe\">\n",
       "  <thead>\n",
       "    <tr style=\"text-align: right;\">\n",
       "      <th></th>\n",
       "      <th>status</th>\n",
       "      <th>url</th>\n",
       "      <th>text</th>\n",
       "      <th>likes</th>\n",
       "      <th>reposts</th>\n",
       "      <th>comments</th>\n",
       "      <th>text_len</th>\n",
       "    </tr>\n",
       "  </thead>\n",
       "  <tbody>\n",
       "    <tr>\n",
       "      <th>0</th>\n",
       "      <td>Middle Software Engineer - Yandex</td>\n",
       "      <td>https://www.linkedin.com/in/michilegorov</td>\n",
       "      <td>Всем привет!Выпустил свою первую статью на хаб...</td>\n",
       "      <td>17.0</td>\n",
       "      <td>0.0</td>\n",
       "      <td>0.0</td>\n",
       "      <td>295</td>\n",
       "    </tr>\n",
       "    <tr>\n",
       "      <th>1</th>\n",
       "      <td>Middle Software Engineer - Yandex</td>\n",
       "      <td>https://www.linkedin.com/in/michilegorov</td>\n",
       "      <td>Если вам интересно позалипать в слова, я запус...</td>\n",
       "      <td>6.0</td>\n",
       "      <td>0.0</td>\n",
       "      <td>2.0</td>\n",
       "      <td>117</td>\n",
       "    </tr>\n",
       "    <tr>\n",
       "      <th>2</th>\n",
       "      <td>Middle Software Engineer - Yandex</td>\n",
       "      <td>https://www.linkedin.com/in/michilegorov</td>\n",
       "      <td>Если вам интересно позалипать в слова, я запус...</td>\n",
       "      <td>17.0</td>\n",
       "      <td>6.0</td>\n",
       "      <td>0.0</td>\n",
       "      <td>117</td>\n",
       "    </tr>\n",
       "  </tbody>\n",
       "</table>\n",
       "</div>"
      ],
      "text/plain": [
       "                              status  \\\n",
       "0  Middle Software Engineer - Yandex   \n",
       "1  Middle Software Engineer - Yandex   \n",
       "2  Middle Software Engineer - Yandex   \n",
       "\n",
       "                                        url  \\\n",
       "0  https://www.linkedin.com/in/michilegorov   \n",
       "1  https://www.linkedin.com/in/michilegorov   \n",
       "2  https://www.linkedin.com/in/michilegorov   \n",
       "\n",
       "                                                text likes  reposts  comments  \\\n",
       "0  Всем привет!Выпустил свою первую статью на хаб...  17.0      0.0       0.0   \n",
       "1  Если вам интересно позалипать в слова, я запус...   6.0      0.0       2.0   \n",
       "2  Если вам интересно позалипать в слова, я запус...  17.0      6.0       0.0   \n",
       "\n",
       "   text_len  \n",
       "0       295  \n",
       "1       117  \n",
       "2       117  "
      ]
     },
     "execution_count": 6,
     "metadata": {},
     "output_type": "execute_result"
    }
   ],
   "source": [
    "data['text_len'] = data.loc[:, 'text'].apply(lambda x: len(x))\n",
    "data_filtered_by_text_len = data.query('text_len > 100')\n",
    "print(f'Количество постов с 100+ символами: {data_filtered_by_text_len.shape[0]}')\n",
    "data_filtered_by_text_len.head(3)"
   ]
  },
  {
   "attachments": {},
   "cell_type": "markdown",
   "metadata": {},
   "source": [
    "Для обработки нам нужны только посты на кириллице. Отфильтруем посты содержащие кириллицу."
   ]
  },
  {
   "cell_type": "code",
   "execution_count": 7,
   "metadata": {},
   "outputs": [
    {
     "name": "stdout",
     "output_type": "stream",
     "text": [
      "Текстов на кириллице: 1960\n"
     ]
    },
    {
     "data": {
      "text/html": [
       "<div>\n",
       "<style scoped>\n",
       "    .dataframe tbody tr th:only-of-type {\n",
       "        vertical-align: middle;\n",
       "    }\n",
       "\n",
       "    .dataframe tbody tr th {\n",
       "        vertical-align: top;\n",
       "    }\n",
       "\n",
       "    .dataframe thead th {\n",
       "        text-align: right;\n",
       "    }\n",
       "</style>\n",
       "<table border=\"1\" class=\"dataframe\">\n",
       "  <thead>\n",
       "    <tr style=\"text-align: right;\">\n",
       "      <th></th>\n",
       "      <th>status</th>\n",
       "      <th>url</th>\n",
       "      <th>text</th>\n",
       "      <th>likes</th>\n",
       "      <th>reposts</th>\n",
       "      <th>comments</th>\n",
       "      <th>text_len</th>\n",
       "    </tr>\n",
       "  </thead>\n",
       "  <tbody>\n",
       "    <tr>\n",
       "      <th>0</th>\n",
       "      <td>Middle Software Engineer - Yandex</td>\n",
       "      <td>https://www.linkedin.com/in/michilegorov</td>\n",
       "      <td>Всем привет!Выпустил свою первую статью на хаб...</td>\n",
       "      <td>17.0</td>\n",
       "      <td>0.0</td>\n",
       "      <td>0.0</td>\n",
       "      <td>295</td>\n",
       "    </tr>\n",
       "    <tr>\n",
       "      <th>1</th>\n",
       "      <td>Middle Software Engineer - Yandex</td>\n",
       "      <td>https://www.linkedin.com/in/michilegorov</td>\n",
       "      <td>Если вам интересно позалипать в слова, я запус...</td>\n",
       "      <td>6.0</td>\n",
       "      <td>0.0</td>\n",
       "      <td>2.0</td>\n",
       "      <td>117</td>\n",
       "    </tr>\n",
       "    <tr>\n",
       "      <th>2</th>\n",
       "      <td>Middle Software Engineer - Yandex</td>\n",
       "      <td>https://www.linkedin.com/in/michilegorov</td>\n",
       "      <td>Если вам интересно позалипать в слова, я запус...</td>\n",
       "      <td>17.0</td>\n",
       "      <td>6.0</td>\n",
       "      <td>0.0</td>\n",
       "      <td>117</td>\n",
       "    </tr>\n",
       "  </tbody>\n",
       "</table>\n",
       "</div>"
      ],
      "text/plain": [
       "                              status  \\\n",
       "0  Middle Software Engineer - Yandex   \n",
       "1  Middle Software Engineer - Yandex   \n",
       "2  Middle Software Engineer - Yandex   \n",
       "\n",
       "                                        url  \\\n",
       "0  https://www.linkedin.com/in/michilegorov   \n",
       "1  https://www.linkedin.com/in/michilegorov   \n",
       "2  https://www.linkedin.com/in/michilegorov   \n",
       "\n",
       "                                                text likes  reposts  comments  \\\n",
       "0  Всем привет!Выпустил свою первую статью на хаб...  17.0      0.0       0.0   \n",
       "1  Если вам интересно позалипать в слова, я запус...   6.0      0.0       2.0   \n",
       "2  Если вам интересно позалипать в слова, я запус...  17.0      6.0       0.0   \n",
       "\n",
       "   text_len  \n",
       "0       295  \n",
       "1       117  \n",
       "2       117  "
      ]
     },
     "execution_count": 7,
     "metadata": {},
     "output_type": "execute_result"
    }
   ],
   "source": [
    "data_cyrillic = data_filtered_by_text_len[data_filtered_by_text_len['text'].apply(lambda x: re.match(r'[А-Яа-я]+', x) is not None)]\n",
    "\n",
    "print(f'Текстов на кириллице: {data_cyrillic.shape[0]}')\n",
    "data_cyrillic.head(3)"
   ]
  },
  {
   "attachments": {},
   "cell_type": "markdown",
   "metadata": {},
   "source": [
    "Удалим дубликаты в столбце с текстами"
   ]
  },
  {
   "cell_type": "code",
   "execution_count": 8,
   "metadata": {},
   "outputs": [
    {
     "name": "stdout",
     "output_type": "stream",
     "text": [
      "Осталось 1862 строк\n"
     ]
    },
    {
     "data": {
      "text/html": [
       "<div>\n",
       "<style scoped>\n",
       "    .dataframe tbody tr th:only-of-type {\n",
       "        vertical-align: middle;\n",
       "    }\n",
       "\n",
       "    .dataframe tbody tr th {\n",
       "        vertical-align: top;\n",
       "    }\n",
       "\n",
       "    .dataframe thead th {\n",
       "        text-align: right;\n",
       "    }\n",
       "</style>\n",
       "<table border=\"1\" class=\"dataframe\">\n",
       "  <thead>\n",
       "    <tr style=\"text-align: right;\">\n",
       "      <th></th>\n",
       "      <th>status</th>\n",
       "      <th>url</th>\n",
       "      <th>text</th>\n",
       "      <th>likes</th>\n",
       "      <th>reposts</th>\n",
       "      <th>comments</th>\n",
       "      <th>text_len</th>\n",
       "    </tr>\n",
       "  </thead>\n",
       "  <tbody>\n",
       "    <tr>\n",
       "      <th>0</th>\n",
       "      <td>Middle Software Engineer - Yandex</td>\n",
       "      <td>https://www.linkedin.com/in/michilegorov</td>\n",
       "      <td>Всем привет!Выпустил свою первую статью на хаб...</td>\n",
       "      <td>17.0</td>\n",
       "      <td>0.0</td>\n",
       "      <td>0.0</td>\n",
       "      <td>295</td>\n",
       "    </tr>\n",
       "    <tr>\n",
       "      <th>1</th>\n",
       "      <td>Middle Software Engineer - Yandex</td>\n",
       "      <td>https://www.linkedin.com/in/michilegorov</td>\n",
       "      <td>Если вам интересно позалипать в слова, я запус...</td>\n",
       "      <td>6.0</td>\n",
       "      <td>0.0</td>\n",
       "      <td>2.0</td>\n",
       "      <td>117</td>\n",
       "    </tr>\n",
       "    <tr>\n",
       "      <th>6</th>\n",
       "      <td>Talent Acquisition Manager | Recruitment Lead ...</td>\n",
       "      <td>https://www.linkedin.com/in/dariaivanova</td>\n",
       "      <td>С трепетом готов представить свой продукт. Реф...</td>\n",
       "      <td>8.0</td>\n",
       "      <td>0.0</td>\n",
       "      <td>0.0</td>\n",
       "      <td>841</td>\n",
       "    </tr>\n",
       "  </tbody>\n",
       "</table>\n",
       "</div>"
      ],
      "text/plain": [
       "                                              status  \\\n",
       "0                  Middle Software Engineer - Yandex   \n",
       "1                  Middle Software Engineer - Yandex   \n",
       "6  Talent Acquisition Manager | Recruitment Lead ...   \n",
       "\n",
       "                                        url  \\\n",
       "0  https://www.linkedin.com/in/michilegorov   \n",
       "1  https://www.linkedin.com/in/michilegorov   \n",
       "6  https://www.linkedin.com/in/dariaivanova   \n",
       "\n",
       "                                                text likes  reposts  comments  \\\n",
       "0  Всем привет!Выпустил свою первую статью на хаб...  17.0      0.0       0.0   \n",
       "1  Если вам интересно позалипать в слова, я запус...   6.0      0.0       2.0   \n",
       "6  С трепетом готов представить свой продукт. Реф...   8.0      0.0       0.0   \n",
       "\n",
       "   text_len  \n",
       "0       295  \n",
       "1       117  \n",
       "6       841  "
      ]
     },
     "execution_count": 8,
     "metadata": {},
     "output_type": "execute_result"
    }
   ],
   "source": [
    "data_dd = data_cyrillic.drop_duplicates('text')\n",
    "print(f'Осталось {data_dd.shape[0]} строк')\n",
    "data_dd.head(3)"
   ]
  },
  {
   "attachments": {},
   "cell_type": "markdown",
   "metadata": {},
   "source": [
    "# Подготовка текстов"
   ]
  },
  {
   "cell_type": "code",
   "execution_count": 9,
   "metadata": {},
   "outputs": [],
   "source": [
    "model = spacy.load('ru_core_news_sm', disable=['ner', 'parser'])"
   ]
  },
  {
   "attachments": {},
   "cell_type": "markdown",
   "metadata": {},
   "source": [
    "Складываем все посты в один список"
   ]
  },
  {
   "cell_type": "code",
   "execution_count": 10,
   "metadata": {},
   "outputs": [],
   "source": [
    "texts = data_dd[\"text\"].tolist()"
   ]
  },
  {
   "attachments": {},
   "cell_type": "markdown",
   "metadata": {},
   "source": [
    "Выполняем лемматизацию текстов. Наберитесь терпения - это долгий процесс, который может занять около часа."
   ]
  },
  {
   "cell_type": "code",
   "execution_count": 11,
   "metadata": {},
   "outputs": [],
   "source": [
    "if os.path.exists('lemmas.json'):\n",
    "    with open(\"lemmas.json\") as f:\n",
    "        res = json.load(f)['lemmas']\n",
    "else:\n",
    "    res = []\n",
    "    for doc in model.pipe(texts, disable=[\"tagger\", \"parser\"]):\n",
    "        res.append([token.lemma_ for token in doc])\n",
    "\n",
    "    with open(\"lemmas.json\", \"w\") as fid:\n",
    "        json.dump({\"lemmas\": res}, fid)"
   ]
  },
  {
   "attachments": {},
   "cell_type": "markdown",
   "metadata": {},
   "source": [
    "Смотрим на результат - случайным образом сэмплируем несколько примеров"
   ]
  },
  {
   "cell_type": "code",
   "execution_count": 12,
   "metadata": {},
   "outputs": [
    {
     "data": {
      "text/plain": [
       "'консультировать, ряд, компания, на, предмет, внедрение, data, -, driven, decisions, заметить, интересный, вещь, ,, которая, являться, предпосылка, \", успех, \", от, внедрение, какой, -, либо, бизнес, -, процесса, и, проект, ., весь, мы, знать, ,, что, в, целое, успех, в, компания,  , в, больший, свой, часть, зависеть, от:-, архитектор, ,, который, придумывать, архитектура, бизнес, ,, он, стратегия, ,, говорить, на, какой, рынок, и, какой, бизнес, модель, работать,  , -, от, оперативный, руководитель, ,, то, быть, человек, ,, который, управлять, рука, и, голова, человек, ,, ставить, им, задача, и, контролировать, правильность, управления-, ну, и, очевидно, ,, от, исполнитель, ,, тот, кто, реализовать, весь, этот, продукт, ., так, вот, ,, я, заметить, ,, что, если, оперативный, руководитель, иметь, хороший, опыт, исполнитель, ,, то, быть, свой, же, рука, делать, проект, ,, а, после, что, ,, осознанно, понять, ,, что, он, hard, skills, мало, ,, чтобы, перейти, от, исполнитель, к, оперативный, руководитель, начать, изучать, другие, соответствующий, дисциплина, и, вырасти, как, оперативный, руководитель, ,, то, с, такой, человек, больше, вероятность, успех, продукт, ,, который, он, делать, ., К, что, мочь, привести, исполнитель, на, уровень, оперативный, руководитель, ,, или, же, руководитель, без, хороший, опыт, в, этот, сфере?страдают, от, отсутствие, общий, язык, и, хаос, в, проект, ., работать, не, иметь, ясный, инструмент, и, процесс, ., \"продолжение, в, комментарий, \"'"
      ]
     },
     "execution_count": 12,
     "metadata": {},
     "output_type": "execute_result"
    }
   ],
   "source": [
    "\", \".join(res[np.random.randint(len(res))])"
   ]
  },
  {
   "cell_type": "code",
   "execution_count": 13,
   "metadata": {},
   "outputs": [
    {
     "data": {
      "text/plain": [
       "'лендинг, пейдж, под, ключ, ., инвестиция, в, коммерческий, и, жилой, недвижимость, ., ipc, group, ., #, landingpage, #, webdesign'"
      ]
     },
     "execution_count": 13,
     "metadata": {},
     "output_type": "execute_result"
    }
   ],
   "source": [
    "\", \".join(res[np.random.randint(len(res))])"
   ]
  },
  {
   "attachments": {},
   "cell_type": "markdown",
   "metadata": {},
   "source": [
    "Удалим знаки препинания, цифры и слова, содержащие цифры. Для это соберём регулярное выражение, которое подходит для любого слова, состоящего из букв кирилицы."
   ]
  },
  {
   "cell_type": "code",
   "execution_count": 14,
   "metadata": {},
   "outputs": [],
   "source": [
    "word_pattern = re.compile(\"^[а-я]*$\")\n",
    "\n",
    "def remove_symbols(doc):\n",
    "    return [token for token in doc if word_pattern.match(token)]\n",
    "\n",
    "corpus = list(map(remove_symbols, res))"
   ]
  },
  {
   "cell_type": "code",
   "execution_count": 15,
   "metadata": {},
   "outputs": [
    {
     "data": {
      "text/plain": [
       "'как, ускорить, медленный, приложение, разбирать, неочевидный, причина, медленный, работа, код, и, способ, он, оптимизация, в, это, видео, забывать, делиться, ваш, рекомендация, в, комментарий, разработка'"
      ]
     },
     "execution_count": 15,
     "metadata": {},
     "output_type": "execute_result"
    }
   ],
   "source": [
    "\", \".join(corpus[np.random.randint(len(corpus))])"
   ]
  },
  {
   "attachments": {},
   "cell_type": "markdown",
   "metadata": {},
   "source": [
    "# Векторизация текстов"
   ]
  },
  {
   "attachments": {},
   "cell_type": "markdown",
   "metadata": {},
   "source": [
    "Теперь необходимо перевести тексты новостей и слова, из которых они состоят, в числовое представление, т.е. провести векторизацию. Для этого можно использовать подход \"мешок слов\" (Bag of Words) или Tf-iDf. Второй вариант нравится мне больше."
   ]
  },
  {
   "attachments": {},
   "cell_type": "markdown",
   "metadata": {},
   "source": [
    "Чтобы уменьшить размерность получаемой матрицы, добавим исключение стоп-слов."
   ]
  },
  {
   "cell_type": "code",
   "execution_count": null,
   "metadata": {},
   "outputs": [],
   "source": [
    "stop_words = stopwords.words('russian')\n",
    "print(stop_words)"
   ]
  },
  {
   "cell_type": "code",
   "execution_count": null,
   "metadata": {},
   "outputs": [],
   "source": [
    "tfidf = TfidfVectorizer(stop_words=stop_words, min_df=10, max_df=0.9)"
   ]
  },
  {
   "attachments": {},
   "cell_type": "markdown",
   "metadata": {},
   "source": [
    "Т.е. TfIdfVectorizer принимает на вход список предложений, поэтому необходимо объединить списки слов, составляющих корпус, в предложения."
   ]
  },
  {
   "cell_type": "code",
   "execution_count": null,
   "metadata": {},
   "outputs": [],
   "source": [
    "docs = [\" \".join(tokens) for tokens in corpus]\n",
    "docs[:3]"
   ]
  },
  {
   "cell_type": "code",
   "execution_count": null,
   "metadata": {},
   "outputs": [],
   "source": [
    "x = tfidf.fit_transform(docs)"
   ]
  },
  {
   "cell_type": "code",
   "execution_count": null,
   "metadata": {},
   "outputs": [],
   "source": [
    "x.shape"
   ]
  },
  {
   "attachments": {},
   "cell_type": "markdown",
   "metadata": {},
   "source": [
    "Теперь составим словарь {id_токена: токен} - он пригодится нам позднее."
   ]
  },
  {
   "cell_type": "code",
   "execution_count": null,
   "metadata": {},
   "outputs": [],
   "source": [
    "id2word = {i: token for i, token in enumerate(tfidf.get_feature_names_out())}"
   ]
  },
  {
   "attachments": {},
   "cell_type": "markdown",
   "metadata": {},
   "source": [
    "# LDA"
   ]
  },
  {
   "attachments": {},
   "cell_type": "markdown",
   "metadata": {},
   "source": [
    "Теперь можем запустить алгоритм LDA. Зададим количество тем равное 20."
   ]
  },
  {
   "cell_type": "code",
   "execution_count": null,
   "metadata": {},
   "outputs": [],
   "source": [
    "N_TOPICS = 20"
   ]
  },
  {
   "cell_type": "code",
   "execution_count": null,
   "metadata": {},
   "outputs": [],
   "source": [
    "lda = LatentDirichletAllocation(n_components=N_TOPICS, random_state=765)"
   ]
  },
  {
   "cell_type": "code",
   "execution_count": null,
   "metadata": {},
   "outputs": [],
   "source": [
    "topics = lda.fit_transform(x)"
   ]
  },
  {
   "cell_type": "code",
   "execution_count": null,
   "metadata": {},
   "outputs": [],
   "source": [
    "topics.shape"
   ]
  },
  {
   "attachments": {},
   "cell_type": "markdown",
   "metadata": {},
   "source": [
    "Получили массив размера 1862x20. Строки здесь - отдельные тексты, а колонки - 20 выделенных тем. В каждой ячейке стоит вероятность того, что данный текст относится к данной теме. Это то самое распределение тем над документами."
   ]
  },
  {
   "attachments": {},
   "cell_type": "markdown",
   "metadata": {},
   "source": [
    "## Ключевые слова"
   ]
  },
  {
   "attachments": {},
   "cell_type": "markdown",
   "metadata": {},
   "source": [
    "Теперь извлечём ключевые слова для каждой из 20 тем. В свойсте components _ лежит матрица соответствия слов темам. Пройдёмся по каждой из 20 выделенных тем и для каждой возьмём ТОП-20 слов."
   ]
  },
  {
   "attachments": {},
   "cell_type": "markdown",
   "metadata": {},
   "source": [
    "По очереди пройдёмся по каждой теме (первое измерение массиа) и выберем ТОП-20 слов, наиболее характерных для этой темы. Потом по индексу слова обратимся к словарю и узнаем, что это за слово."
   ]
  },
  {
   "cell_type": "code",
   "execution_count": null,
   "metadata": {},
   "outputs": [],
   "source": [
    "for i in range(N_TOPICS):\n",
    "    c = lda.components_[i, :]\n",
    "    topic_tokens = [id2word.get(token_id) for token_id in np.argsort(c)[-20:]]\n",
    "    print(\"Тема\",i+1, \":\")\n",
    "    print(\", \".join(topic_tokens))\n",
    "    print(\"\\n \")"
   ]
  },
  {
   "attachments": {},
   "cell_type": "markdown",
   "metadata": {},
   "source": [
    "По полученным ключевым словам можно составить представление о содержании той или иной темы. Хотя иногда сочетания слов довольно странные )"
   ]
  },
  {
   "attachments": {},
   "cell_type": "markdown",
   "metadata": {},
   "source": [
    "## Типичные статьи"
   ]
  },
  {
   "attachments": {},
   "cell_type": "markdown",
   "metadata": {},
   "source": [
    "Теперь для каждой темы возьмём по одному документу, который хорошо соответсвует этой теме. Для этого заглянем в массив topics."
   ]
  },
  {
   "cell_type": "code",
   "execution_count": null,
   "metadata": {},
   "outputs": [],
   "source": [
    "for i in range(N_TOPICS):\n",
    "    doc_id = np.argmax(topics[:, i])\n",
    "    print(\"Тема \", i+1)\n",
    "    print(data_dd.iloc[doc_id][\"text\"])\n",
    "    print(\"\\n\")"
   ]
  },
  {
   "attachments": {},
   "cell_type": "markdown",
   "metadata": {},
   "source": [
    "# Тест"
   ]
  },
  {
   "cell_type": "code",
   "execution_count": null,
   "metadata": {},
   "outputs": [],
   "source": [
    "def lda(n_topics):\n",
    "    lda = LatentDirichletAllocation(n_components=n_topics, random_state=765)\n",
    "    topics = lda.fit_transform(x)\n",
    "    print(topics.shape)\n",
    "\n",
    "    for i in range(n_topics):\n",
    "        c = lda.components_[i, :]\n",
    "        topic_tokens = [id2word.get(token_id) for token_id in np.argsort(c)[-20:]]\n",
    "        print(\"Тема\",i+1, \":\")\n",
    "        print(\", \".join(topic_tokens))\n",
    "        print(\"\\n \")\n",
    "\n",
    "    for i in range(n_topics):\n",
    "        doc_id = np.argmax(topics[:, i])\n",
    "        print(\"Тема \", i+1)\n",
    "        print(data_dd.iloc[doc_id][\"text\"])\n",
    "        print(\"\\n\")"
   ]
  }
 ],
 "metadata": {
  "kernelspec": {
   "display_name": "venv",
   "language": "python",
   "name": "python3"
  },
  "language_info": {
   "codemirror_mode": {
    "name": "ipython",
    "version": 3
   },
   "file_extension": ".py",
   "mimetype": "text/x-python",
   "name": "python",
   "nbconvert_exporter": "python",
   "pygments_lexer": "ipython3",
   "version": "3.10.7"
  },
  "orig_nbformat": 4
 },
 "nbformat": 4,
 "nbformat_minor": 2
}
